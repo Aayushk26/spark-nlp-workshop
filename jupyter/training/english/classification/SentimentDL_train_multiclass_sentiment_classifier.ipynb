{
 "cells": [
  {
   "cell_type": "markdown",
   "metadata": {
    "colab_type": "text",
    "id": "ph3bDypIEXdd"
   },
   "source": [
    "![JohnSnowLabs](https://nlp.johnsnowlabs.com/assets/images/logo.png)"
   ]
  },
  {
   "cell_type": "markdown",
   "metadata": {
    "colab_type": "text",
    "id": "aaVmDt1TEXdh"
   },
   "source": [
    "# Spark NLP\n",
    "### Multi-class Sentiment Classification\n",
    "#### By using SentimentDL"
   ]
  },
  {
   "cell_type": "markdown",
   "metadata": {
    "colab_type": "text",
    "id": "jmo3o-b3MF5W"
   },
   "source": [
    "[![Open In Colab](https://colab.research.google.com/assets/colab-badge.svg)](https://colab.research.google.com/github/JohnSnowLabs/spark-nlp-workshop/blob/master/jupyter/training/english/classification/SentimentDL_train_multiclass_sentiment_classifier.ipynb)"
   ]
  },
  {
   "cell_type": "markdown",
   "metadata": {
    "colab_type": "text",
    "id": "h4fQwZ46x4fu"
   },
   "source": [
    "Only run this block if you are inside Google Colab otherwise skip it"
   ]
  },
  {
   "cell_type": "code",
   "execution_count": 1,
   "metadata": {
    "colab": {
     "base_uri": "https://localhost:8080/",
     "height": 136
    },
    "colab_type": "code",
    "id": "MzishpT-MF5X",
    "outputId": "3a2d6929-41dc-476c-c3fa-6d7afab8164a"
   },
   "outputs": [
    {
     "name": "stdout",
     "output_type": "stream",
     "text": [
      "openjdk version \"1.8.0_252\"\n",
      "OpenJDK Runtime Environment (build 1.8.0_252-8u252-b09-1~18.04-b09)\n",
      "OpenJDK 64-Bit Server VM (build 25.252-b09, mixed mode)\n",
      "\u001b[K     |████████████████████████████████| 215.7MB 56kB/s \n",
      "\u001b[K     |████████████████████████████████| 204kB 50.1MB/s \n",
      "\u001b[?25h  Building wheel for pyspark (setup.py) ... \u001b[?25l\u001b[?25hdone\n",
      "\u001b[K     |████████████████████████████████| 122kB 2.8MB/s \n",
      "\u001b[?25h"
     ]
    }
   ],
   "source": [
    "import os\n",
    "\n",
    "# Install java\n",
    "! apt-get install -y openjdk-8-jdk-headless -qq > /dev/null\n",
    "os.environ[\"JAVA_HOME\"] = \"/usr/lib/jvm/java-8-openjdk-amd64\"\n",
    "os.environ[\"PATH\"] = os.environ[\"JAVA_HOME\"] + \"/bin:\" + os.environ[\"PATH\"]\n",
    "! java -version\n",
    "\n",
    "# Install pyspark\n",
    "! pip install --ignore-installed -q pyspark==2.4.4\n",
    "\n",
    "# Install Spark NLP\n",
    "! pip install --ignore-installed -q spark-nlp==2.5.1"
   ]
  },
  {
   "cell_type": "code",
   "execution_count": 5,
   "metadata": {
    "colab": {
     "base_uri": "https://localhost:8080/",
     "height": 51
    },
    "colab_type": "code",
    "id": "Hmvv5Q4jMF5b",
    "outputId": "5fd4b51d-6248-49fc-de80-43f7c5baab4d"
   },
   "outputs": [
    {
     "name": "stdout",
     "output_type": "stream",
     "text": [
      "Spark NLP version:  2.5.1\n",
      "Apache Spark version 2.4.4\n"
     ]
    }
   ],
   "source": [
    "import sparknlp\n",
    "\n",
    "spark = sparknlp.start()\n",
    "\n",
    "print(\"Spark NLP version: \", sparknlp.version())\n",
    "print(\"Apache Spark version\", spark.version)\n"
   ]
  },
  {
   "cell_type": "markdown",
   "metadata": {
    "colab_type": "text",
    "id": "xKQcm8R6MF5e"
   },
   "source": [
    "Let's download IMDB movie reviews dataset for training our multi-class sentiment classifier"
   ]
  },
  {
   "cell_type": "code",
   "execution_count": 6,
   "metadata": {
    "colab": {
     "base_uri": "https://localhost:8080/",
     "height": 204
    },
    "colab_type": "code",
    "id": "W0FkrTb4MF5f",
    "outputId": "1ff0c760-8b45-41a9-d1b9-4d4654d8ff76"
   },
   "outputs": [
    {
     "name": "stdout",
     "output_type": "stream",
     "text": [
      "--2020-06-01 15:21:56--  https://s3.amazonaws.com/auxdata.johnsnowlabs.com/public/resources/en/sentiment-corpus/aclimdb/aclimdb_train.csv\n",
      "Resolving s3.amazonaws.com (s3.amazonaws.com)... 52.216.236.101\n",
      "Connecting to s3.amazonaws.com (s3.amazonaws.com)|52.216.236.101|:443... connected.\n",
      "HTTP request sent, awaiting response... 200 OK\n",
      "Length: 33497180 (32M) [text/csv]\n",
      "Saving to: ‘aclimdb_train.csv’\n",
      "\n",
      "aclimdb_train.csv   100%[===================>]  31.95M   112MB/s    in 0.3s    \n",
      "\n",
      "2020-06-01 15:21:57 (112 MB/s) - ‘aclimdb_train.csv’ saved [33497180/33497180]\n",
      "\n"
     ]
    }
   ],
   "source": [
    "!wget -O aclimdb_train.csv https://s3.amazonaws.com/auxdata.johnsnowlabs.com/public/resources/en/sentiment-corpus/aclimdb/aclimdb_train.csv"
   ]
  },
  {
   "cell_type": "code",
   "execution_count": 7,
   "metadata": {
    "colab": {
     "base_uri": "https://localhost:8080/",
     "height": 204
    },
    "colab_type": "code",
    "id": "QDIQgMv6tuqu",
    "outputId": "62958890-6754-4845-b38e-ed79331ac0a2"
   },
   "outputs": [
    {
     "name": "stdout",
     "output_type": "stream",
     "text": [
      "--2020-06-01 15:22:18--  https://s3.amazonaws.com/auxdata.johnsnowlabs.com/public/resources/en/sentiment-corpus/aclimdb/aclimdb_test.csv\n",
      "Resolving s3.amazonaws.com (s3.amazonaws.com)... 52.216.86.29\n",
      "Connecting to s3.amazonaws.com (s3.amazonaws.com)|52.216.86.29|:443... connected.\n",
      "HTTP request sent, awaiting response... 200 OK\n",
      "Length: 32715164 (31M) [text/csv]\n",
      "Saving to: ‘aclimdb_test.csv’\n",
      "\n",
      "aclimdb_test.csv    100%[===================>]  31.20M   105MB/s    in 0.3s    \n",
      "\n",
      "2020-06-01 15:22:19 (105 MB/s) - ‘aclimdb_test.csv’ saved [32715164/32715164]\n",
      "\n"
     ]
    }
   ],
   "source": [
    "!wget -O aclimdb_test.csv https://s3.amazonaws.com/auxdata.johnsnowlabs.com/public/resources/en/sentiment-corpus/aclimdb/aclimdb_test.csv"
   ]
  },
  {
   "cell_type": "code",
   "execution_count": 8,
   "metadata": {
    "colab": {
     "base_uri": "https://localhost:8080/",
     "height": 207
    },
    "colab_type": "code",
    "id": "QYolNmBtMF5h",
    "outputId": "5db573d1-7090-460b-e522-4ae7ae12e6eb"
   },
   "outputs": [
    {
     "name": "stdout",
     "output_type": "stream",
     "text": [
      "text,label\n",
      "\"This is an Excellent little movie! The acting is good and the music is fantastic!! Play it on a 5-1 sound system and enjoy! It will never win any awards but its good clean fun for all!! I recommend this movie to all fans of pretty girls funny and hansom men as well as robot lovers everyone!!1 P.S. It also stars Lisa Rinna! Enjoy!!This is a very hard movie to find, It is out of print. I first saw it on Showtime many years ago but recently found a used VHS copy. Its still a must see for all!!!This is an Excellent little movie! The acting is good and the music is fantastic!! Play it on a 5-1 sound system and enjoy! It will never win any awards but its good clean fun for all!! I recommend this movie to all fans of pretty girls funny and hansom men as well as robot lovers everyone!!1 P.S. It also stars Lisa Rinna! Enjoy!! Dave Engle This is a very hard movie to find, It is out of print. I first saw it on Showtime many years ago but recently found a used VHS copy. Its still a must see for all!!!\",positive\n",
      "\"The Sarah Silverman program is very similar to Sarah's own stand up; It's so over the top with prejudice that you can't possibly take it to heart. The fact is, though, that while most all people will \\\"get it,\\\" it doesn't mean they will all appreciate it. It's a very polarizing and one dimensional show, so if you don't like it after 10 minutes, you may as well give up there. If you do like it after 10 minutes, stay tuned, because every episode thus far has been as good as the last.<br /><br />Like all shows, though, it is not perfect. Personally I love the program, but there are some huge faults with it. Racist songs are funny, but get older a lot faster than Silverman seems to realize--a problem that I had with \\\"Jesus is Magic\\\" as well. It seems as if Silverman gave herself a quota for songs per episode that doesn't need to exist. Not to mention that while the lyrics to the songs she writes are good, the music, well, isn't.<br /><br />Another thing to keep in mind is that while this show will for some reason appeal to fans of Monty Python, Upright Citizens Brigade, etc., it is nothing like those shows. I can watch Monty Python all day, but, as much as I like this show, I can't watch more than the half hour limit at a time. It gets flat very fast. The repeat value for this show is low too--the second time around an episode is fairly funny, and by the third time, in my opinion, it's boring.<br /><br />Still, that first time around is very, very funny. Give it a shot.\",positive\n",
      "\"\\\"Prom Night\\\" is a title-only remake of the 1980 slasher flick that starred Jamie Lee Curtis and Leslie Nielsen. This movie takes place in an Oregon town, where Donna (Brittany Snow) is about to go to her senior prom and let herself have some fun after going through some extremely traumatic events in the past few years. She and her friends arrive at the prom, which is taking place in a grand hotel, and try and enjoy what is supposed to be the most fun night of their lives. Little does anyone know, a man from Donna's past, who has haunted her for years, is also at the prom... and is willing to kill anyone in way of his pursuit of her.<br /><br />I'm a fan of the original \\\"Prom Night\\\", so I tried to maintain a little hope in this movie, but I have to admit I was quite disappointed. \\\"Prom Night\\\" suffers from the worst affliction a horror movie could have, and that is predictability. There are absolutely no surprises here, and I felt I had seen everything in this movie done dozens of times, often better, before. What does this equate to for the audience? Boredom. Unless of course you have never seen any horror movies, or are part of the pre-teen crowd, but the majority of the audience will most likely be able to guess nearly everything that is going to happen. The plot is simplistic, but the entire script is void of any type of surprise, twist, atmosphere, or anything, and this really, really hurts the movie because it never really gives the audience anything to sink their teeth into. It all just seemed very bland.<br /><br />A lot of people seem to complain with the fact that this is a PG-13 slasher movie as well, and I understand what they are saying, but I don't think it's impossible to make a good slasher movie with minimal gore. Take Carpenter's \\\"Halloween\\\" for example - little to no on screen violence, but still an extremely frightening and effective movie. You don't need gore to make a film scary, but even had \\\"Prom Night\\\" been gratuitously violent (which it is not, it is very tame), it still would have added little to the movie because there is not much in the script to build on to begin with. The tension and suspense here is mild at best, and I spent most of the movie predicting the outcome of situations, and was correct about 99% of the time. Our characters aren't well written enough either for the audience to make any connection to them, and their by-the-numbers demises are routine and careless.<br /><br />I will point out a few things I did like about this movie, though, because it wasn't completely useless - the cinematography is really nice, and everything was very well-filmed and fairly stylish. Among the \\\"jump\\\" scares (that are for the most part very predictable), there were a few that were kind of clever. The sets for the movie are nice too and the hotel is a neat place for the plot to unfold, however predictable the unfolding may be. As for the acting, it's mediocre at best. Brittany Snow plays the lead decently, but really the rest of the cast doesn't show off much talent. Johnathan Schaech plays the villain, and is probably the most experienced performer here, but even he isn't that impressive. However, I did like the character he played, which was a nice change from the typical 'masked-stalker' type killer we see a lot. As far as the ending goes, the last fifteen minutes of the film had me bored to my wit's end and it was very anti-climactic.<br /><br />Overall, \\\"Prom Night\\\" was a disappointment. Everything was very by-the-numbers, routine, and predictable, which is somewhat upsetting considering this had the potential to be a decent slasher movie. There were a few neat moments, but the movie lacked any suspense or atmosphere, and had little plot development, nor believable characters. I'd advise seasoned horror fans to save their money and wait till it's out on video, or rent the original instead, because there are absolutely no surprises here. Some may find a little entertainment in it, but it was far too predictable for my tastes. I expected better, and left the theater very disappointed. 3/10.\",negative\n",
      "\"So often a band will get together for a re-union concert only to find that they just can't get it together. Not so here. This concert is just shear brilliance from start to finish. These three musicians obviously got together beforehand and plotted and planned what was needed to ensure this was not just a nostalgic bash to satisfy someone's ego. This is obvious from the start, before they even step on stage. Many faces in the crowd weren't even born when these guys first performed. From the first song they capture that old magic that was Cream, 3 men, 3 instruments, no fuss. Clapton, by his own admission, said he had to stretch himself for this concert because there were no keyboards, synthesizers etc so we get to see him at his best. Ginger Baker demonstrates why so many drummers today, speak of him as some sort of drumming guru. Jack Bruce just great. They really managed to put together a piece of magic that will stand the test of time for many years to come. This one's a 10 for me.\",positive\n",
      "\"\\\"Pet Sematary\\\" is an adaptation from the Stephen King novel of the same title. The story follows the Creeds - an all American, middle-class family, who move into a house out in the country. The family consists of Louis and Rachel, and their two young children, Ellie and their toddler son, Gage. The house couldn't be better, and the family meets a strange but friendly old man, Jud, who lives across the road. He leads them down an old path into the woods one day where a pet graveyard lies - filled with a huge amount of animal graves. And just beyond there, lies a sacred Indian burial ground that seems to possess a strange power. When the family cat, Church, is killed, Louis sees it fit to bury him in the pet cemetery - and strangely enough, soon after, Church returns to life. But there's something evil about him now, he isn't the same cat he used to be. And when a tragic accident takes the life of young Gage, Louis decides to apply the same concept in hopes of reviving his dead son... unfortunately, he gets more than he bargained for.<br /><br />Having read Stephen King's novel, I can say that the book is much better than the film. Not to say the movie is bad, because it isn't - the book is just a little bit better. The real strength in this film lies in it's story, which is both bizarre but extremely original, something that King's stories are typically known for. The script is very well adapted from the story, and while it minorly differs in some aspects, it's a pretty good page-to-screen transformation. There are a few plot holes here and there, nothing major though. Besides that, this movie is actually pretty scary, and it succeeds in it's intention to do so. There are some really disturbing scenes throughout the film, and I'd have to say that the flashback sequence of Rachel's sister Zelda is the number one. Honestly, that is one of the most disgusting, disturbing things I've ever seen in a horror film - it's not gory and bloody, it's just flat out sickening. One thing's for sure, that image won't leave your head anytime soon.<br /><br />The performances in this film were all very up to par and I really had no problem there. This film is actually on the gory side, there are plenty of nasty little sequences to please all of the gore hounds out there, including the shocker of an ending. I really liked the way they ended the film, it was abrupt and somewhat inconclusive, but it worked better that way with all things considered.<br /><br />Overall, \\\"Pet Sematary\\\" is a good horror movie that I'd recommend to those who are fans of either Stephen King or just fans of the genre in general. The story is the film's greatest asset and it's a creepy one too. One of the better Stephen King adaptations I'd say. 7/10.\",positive\n",
      "\"I watched the film recently and it poorly resembles the book is based on. I blame this on poor screenplay and direction. Some parts were forcibly introduced (the gay rape scene) for no apparent reason. I actually read the book after watching the movie and some 20 years or so after reading it for the first time. I found it hard to read and somewhat clumsy. Too many disparate ideas introduced for no benefit at all... other than sensational parts for the time. As it covers stuff that was deemed 'sensitive', to say the least, during communism, I can see the fascination it produced at the time. That isn't the case anymore though or maybe I see things differently now or a bit of both. The film tries too much to cover many aspects from the book, the result being a concoction of scenes that may make some sense to someone who read the book. Even so this is a film that is difficult to watch and maybe should have never been made.\",negative\n",
      "\"Boy this movie had me fooled. I honestly thought it would be a campy horror film with absolutely no humor in it whatsoever, boy I got the cold shoulder that time. This movie was, and I'm truthful, pretty damn good. It was not scary at all but the campiness and the sly humor really mad this movie interesting. Some to the horrible acting and cliché killings were so painful to watch, I almost laughed at how bad it was, but to some extent I enjoyed it. The killings all vaguely relate to snow sports and Christmas, which made things more intriguing. The POV camera angles were awesome.<br /><br />The movie is about a viscous killer who dies in a car accident collision with a chemical truck while being transported to prison. He is later resurrected in that very same chemical with snow spliced into the mixture. These were the ingredients chosen to make the perfect killer snowman. He than takes his revenge, as the snowman, on the police officer who convicted him.<br /><br />This movie had such bad acting, with the exception of Christopher Allport, that is was funny. I will say that I am also pretty disappointed that this movie was not a horror, but in fact a dark sitcom. They had a great story with a good plot but it wasn't executed right. All in all I like the movie at first but now it is really annoying. But this movie is way better and darker than the sequel.\",negative\n",
      "\"Checking the spoiler alert just in case.<br /><br />Perhaps one of the most horrendous movies I have ever seen, Mazes and Monsters felt like I wasted 101 minutes of my life. The only redeeming quality of the movie were scenes that tried to be serious, but just ended up being funny since they were so bad. Evil Dead anyone? Unfortunately for M&M (fortunately for us) it did not develop a cult following and result in a trilogy. This movie tried to address a series of problems that the main character, Robbie (played by Hanks) encountered throughout the film. It ended up being a fear mongering video about stereotypes that helped fuel the D&D is the Devil movement in the 80s.<br /><br />If you want to avoid wasting your time and money, steer clear of this junk.<br /><br />P.S. - Even though the cover looks kinda interesting, which is why I guess my brother bought it, it in no way takes place in a fantasy realm, unless you consider New England or New York City to be such a place.\",negative\n",
      "\"Despite its rather salacious title, this is a light teen dramedy. Unless you're an old coot, you'll probably find it likeable. It isn't so good on developing characters or situations smoothly, though. When you view it, you get the feeling that you've been running back and forth to the kitchen even if you've been sitting down watching the whole time. This is one of those films that counts a great deal on your liking the characters, and they are appealing enough. Jennifer Connelly is the heartthrob of many, I know, but I've always liked the more obscure Maddie Corman. The teens get most of the screen time without a lot of intrusions from those pesky grown-ups. Is it just me or did most of the young males look an awful lot alike?\",positive\n"
     ]
    }
   ],
   "source": [
    "!head aclimdb_train.csv"
   ]
  },
  {
   "cell_type": "markdown",
   "metadata": {
    "colab_type": "text",
    "id": "zWFUDI6jMF5k"
   },
   "source": [
    "The content is inside `text` column and the sentiment is inside `label` column"
   ]
  },
  {
   "cell_type": "code",
   "execution_count": null,
   "metadata": {
    "colab": {},
    "colab_type": "code",
    "id": "S9TRr7iAMF5l"
   },
   "outputs": [],
   "source": [
    "trainDataset = spark.read \\\n",
    "      .option(\"header\", True) \\\n",
    "      .csv(\"aclimdb_train.csv\")"
   ]
  },
  {
   "cell_type": "code",
   "execution_count": 10,
   "metadata": {
    "colab": {
     "base_uri": "https://localhost:8080/",
     "height": 459
    },
    "colab_type": "code",
    "id": "nURzgFJ7MF5o",
    "outputId": "946800cf-033c-4285-dfd6-922b7bef778e"
   },
   "outputs": [
    {
     "name": "stdout",
     "output_type": "stream",
     "text": [
      "+--------------------+--------+\n",
      "|                text|   label|\n",
      "+--------------------+--------+\n",
      "|This is an Excell...|positive|\n",
      "|The Sarah Silverm...|positive|\n",
      "|\"Prom Night\" is a...|negative|\n",
      "|So often a band w...|positive|\n",
      "|\"Pet Sematary\" is...|positive|\n",
      "|I watched the fil...|negative|\n",
      "|Boy this movie ha...|negative|\n",
      "|Checking the spoi...|negative|\n",
      "|Despite its rathe...|positive|\n",
      "|Absolute masterpi...|positive|\n",
      "|The tweedy profes...|positive|\n",
      "|A movie best summ...|negative|\n",
      "|Take young, prett...|negative|\n",
      "|For months I've b...|negative|\n",
      "|\"Batman: The Myst...|positive|\n",
      "|Well, it was funn...|negative|\n",
      "|I have seen the s...|positive|\n",
      "|Brainless film ab...|negative|\n",
      "|Leave it to geniu...|negative|\n",
      "|Seven Pounds star...|positive|\n",
      "+--------------------+--------+\n",
      "only showing top 20 rows\n",
      "\n"
     ]
    }
   ],
   "source": [
    "trainDataset.show()"
   ]
  },
  {
   "cell_type": "code",
   "execution_count": 11,
   "metadata": {
    "colab": {
     "base_uri": "https://localhost:8080/",
     "height": 34
    },
    "colab_type": "code",
    "id": "5NIHJuVKx4gk",
    "outputId": "9a7f2d8b-3ddf-420a-cbc0-78d84cd533d4"
   },
   "outputs": [
    {
     "data": {
      "text/plain": [
       "25000"
      ]
     },
     "execution_count": 11,
     "metadata": {
      "tags": []
     },
     "output_type": "execute_result"
    }
   ],
   "source": [
    "trainDataset.count()"
   ]
  },
  {
   "cell_type": "code",
   "execution_count": null,
   "metadata": {
    "colab": {},
    "colab_type": "code",
    "id": "0oKvNZaEMF5q"
   },
   "outputs": [],
   "source": [
    "from pyspark.ml import Pipeline\n",
    "\n",
    "from sparknlp.annotator import *\n",
    "from sparknlp.common import *\n",
    "from sparknlp.base import *"
   ]
  },
  {
   "cell_type": "code",
   "execution_count": 17,
   "metadata": {
    "colab": {
     "base_uri": "https://localhost:8080/",
     "height": 68
    },
    "colab_type": "code",
    "id": "H30A4FgNMF5t",
    "outputId": "2a8d2ea2-aac4-4258-f94c-7d8eb8086beb"
   },
   "outputs": [
    {
     "name": "stdout",
     "output_type": "stream",
     "text": [
      "tfhub_use download started this may take some time.\n",
      "Approximate size to download 923.7 MB\n",
      "[OK!]\n"
     ]
    }
   ],
   "source": [
    "# actual content is inside description column\n",
    "document = DocumentAssembler()\\\n",
    "    .setInputCol(\"text\")\\\n",
    "    .setOutputCol(\"document\")\n",
    "\n",
    "use = UniversalSentenceEncoder.pretrained() \\\n",
    " .setInputCols([\"document\"])\\\n",
    " .setOutputCol(\"sentence_embeddings\")\n",
    "\n",
    "# the classes/labels/categories are in category column\n",
    "sentimentdl = SentimentDLApproach()\\\n",
    "  .setInputCols([\"sentence_embeddings\"])\\\n",
    "  .setOutputCol(\"class\")\\\n",
    "  .setLabelColumn(\"label\")\\\n",
    "  .setMaxEpochs(5)\\\n",
    "  .setEnableOutputLogs(True)\n",
    "\n",
    "pipeline = Pipeline(\n",
    "    stages = [\n",
    "        document,\n",
    "        use,\n",
    "        sentimentdl\n",
    "    ])"
   ]
  },
  {
   "cell_type": "code",
   "execution_count": null,
   "metadata": {
    "colab": {},
    "colab_type": "code",
    "id": "kia7NpRJMF5v"
   },
   "outputs": [],
   "source": [
    "pipelineModel = pipeline.fit(trainDataset)"
   ]
  },
  {
   "cell_type": "code",
   "execution_count": 21,
   "metadata": {
    "colab": {
     "base_uri": "https://localhost:8080/",
     "height": 51
    },
    "colab_type": "code",
    "id": "TOLU30ilMF5y",
    "outputId": "2f2ae24b-9d00-45fb-c33c-f59ec3af2cf5"
   },
   "outputs": [
    {
     "name": "stdout",
     "output_type": "stream",
     "text": [
      "total 4\n",
      "-rw-r--r-- 1 root root 523 Jun  1 15:30 SentimentDLApproach_2ea7dc3149c2.log\n"
     ]
    }
   ],
   "source": [
    "!cd ~/annotator_logs && ls -l"
   ]
  },
  {
   "cell_type": "code",
   "execution_count": 22,
   "metadata": {
    "colab": {
     "base_uri": "https://localhost:8080/",
     "height": 119
    },
    "colab_type": "code",
    "id": "c6TAuRqBNs4_",
    "outputId": "adc8a02b-3c3c-4bcf-8aa4-adcafc4eb4e4"
   },
   "outputs": [
    {
     "name": "stdout",
     "output_type": "stream",
     "text": [
      "Training started - total epochs: 5 - learning rate: 0.005 - batch size: 64 - training examples: 25000\n",
      "Epoch 0/5 - 7.261388839%.2fs - loss: 184.75143 - accuracy: 0.82907856 - batches: 391\n",
      "Epoch 1/5 - 7.019650974%.2fs - loss: 174.16364 - accuracy: 0.85578525 - batches: 391\n",
      "Epoch 2/5 - 6.98391997%.2fs - loss: 171.41266 - accuracy: 0.8602084 - batches: 391\n",
      "Epoch 3/5 - 7.030380175%.2fs - loss: 170.09117 - accuracy: 0.86528045 - batches: 391\n",
      "Epoch 4/5 - 7.01538049%.2fs - loss: 168.41052 - accuracy: 0.8704247 - batches: 391\n"
     ]
    }
   ],
   "source": [
    "!cat ~/annotator_logs/SentimentDLApproach_2ea7dc3149c2.log"
   ]
  },
  {
   "cell_type": "markdown",
   "metadata": {
    "colab_type": "text",
    "id": "zMLuwQSCB05e"
   },
   "source": [
    "# How to use already trained SentimentDL pipeline or its model\n",
    "\n",
    "We have two ways of using what we already trained: pipeline or model.\n",
    "\n",
    "Let's see how we can save the entire pipeline, load it, and do some prediction with that pre-trained pipeline."
   ]
  },
  {
   "cell_type": "markdown",
   "metadata": {
    "colab_type": "text",
    "id": "4I7COUCPCPe3"
   },
   "source": [
    "## Save and load pre-trained SentimentDL pipeline"
   ]
  },
  {
   "cell_type": "code",
   "execution_count": null,
   "metadata": {
    "colab": {},
    "colab_type": "code",
    "id": "QTDQ3riLD-zW"
   },
   "outputs": [],
   "source": [
    "# Google Colab is free so it comes with a little memory. \n",
    "# It's not possible to save and load in this notebook. But you can do this locally or in a decent machine!\n",
    "\n",
    "# pipelineModel.save(\"./sentimentdl_pipeline\")\n",
    "# loadedPipeline = PipelineModel.load(\"./sentimentdl_pipeline\")\n",
    "# loadedPipeline.transform(YOUR_DATAFRAME)"
   ]
  },
  {
   "cell_type": "markdown",
   "metadata": {
    "colab_type": "text",
    "id": "TI9JR8AoLbW3"
   },
   "source": [
    "# Save and load pre-trained SentimentDL model"
   ]
  },
  {
   "cell_type": "code",
   "execution_count": null,
   "metadata": {
    "colab": {},
    "colab_type": "code",
    "id": "3r3_q4CJLkZR"
   },
   "outputs": [],
   "source": [
    "# hdfs:/ if you are saving it on distributed file systems in Hadoop\n",
    "pipelineModel.stages[-1].write().overwrite().save('./tmp_sentimentdl_model')\n",
    "\n"
   ]
  },
  {
   "cell_type": "markdown",
   "metadata": {
    "colab_type": "text",
    "id": "3JaclNFsQJ-X"
   },
   "source": [
    "Let's use our pre-trained SentimentDLModel in a pipeline: "
   ]
  },
  {
   "cell_type": "code",
   "execution_count": 24,
   "metadata": {
    "colab": {
     "base_uri": "https://localhost:8080/",
     "height": 68
    },
    "colab_type": "code",
    "id": "NTJ53PbYQI-f",
    "outputId": "d372fbec-2c90-4101-856b-601ff539bc33"
   },
   "outputs": [
    {
     "name": "stdout",
     "output_type": "stream",
     "text": [
      "tfhub_use download started this may take some time.\n",
      "Approximate size to download 923.7 MB\n",
      "[OK!]\n"
     ]
    }
   ],
   "source": [
    "\n",
    "# In a new pipeline you can load it for prediction\n",
    "document = DocumentAssembler()\\\n",
    "    .setInputCol(\"text\")\\\n",
    "    .setOutputCol(\"document\")\n",
    "\n",
    "use = UniversalSentenceEncoder.pretrained() \\\n",
    " .setInputCols([\"document\"])\\\n",
    " .setOutputCol(\"sentence_embeddings\")\n",
    "\n",
    "sentimentdl = SentimentDLModel.load(\"./tmp_sentimentdl_model\") \\\n",
    "  .setInputCols([\"sentence_embeddings\"])\\\n",
    "  .setOutputCol(\"class\")\n",
    "\n",
    "pipeline = Pipeline(\n",
    "    stages = [\n",
    "        document,\n",
    "        use,\n",
    "        sentimentdl\n",
    "    ])\n"
   ]
  },
  {
   "cell_type": "markdown",
   "metadata": {
    "colab_type": "text",
    "id": "VOrjIsKXHea8"
   },
   "source": [
    "Now let's load it back so we can have prediction all together with everything in that pipeline:"
   ]
  },
  {
   "cell_type": "code",
   "execution_count": null,
   "metadata": {
    "colab": {},
    "colab_type": "code",
    "id": "ccy54HeERCZ1"
   },
   "outputs": [],
   "source": [
    "from pyspark.sql.types import StringType\n",
    "\n",
    "dfTest = spark.createDataFrame([\n",
    "    \"This movie is a delight for those of all ages. I have seen it several times and each time I am enchanted by the characters and magic. The cast is outstanding, the special effects delightful, everything most believable.\",\n",
    "    \"This film was to put it simply rubbish. The child actors couldn't act, as can be seen by Harry's supposed surprise on learning he's a wizard. I'm a wizard! is said with such indifference you'd think he's not surprised at all.\"\n",
    "], StringType()).toDF(\"text\")"
   ]
  },
  {
   "cell_type": "code",
   "execution_count": null,
   "metadata": {
    "colab": {},
    "colab_type": "code",
    "id": "3BsNAWS4VRkd"
   },
   "outputs": [],
   "source": [
    "prediction = pipeline.fit(dfTest).transform(dfTest)"
   ]
  },
  {
   "cell_type": "code",
   "execution_count": 30,
   "metadata": {
    "colab": {
     "base_uri": "https://localhost:8080/",
     "height": 255
    },
    "colab_type": "code",
    "id": "nz32PDjEVUTk",
    "outputId": "8c939612-eb7e-4c7e-a3e6-69df9bfcc467"
   },
   "outputs": [
    {
     "name": "stdout",
     "output_type": "stream",
     "text": [
      "+----------+\n",
      "|    result|\n",
      "+----------+\n",
      "|[positive]|\n",
      "|[negative]|\n",
      "+----------+\n",
      "\n",
      "+-----------------------------------------------------------------+\n",
      "|metadata                                                         |\n",
      "+-----------------------------------------------------------------+\n",
      "|[[sentence -> 0, positive -> 1.0, negative -> 9.762569E-10]]     |\n",
      "|[[sentence -> 0, positive -> 4.49094E-5, negative -> 0.99995506]]|\n",
      "+-----------------------------------------------------------------+\n",
      "\n"
     ]
    }
   ],
   "source": [
    "prediction.select(\"class.result\").show()\n",
    "\n",
    "prediction.select(\"class.metadata\").show(truncate=False)"
   ]
  },
  {
   "cell_type": "markdown",
   "metadata": {
    "colab_type": "text",
    "id": "UoJH3kA7RJpD"
   },
   "source": [
    "# Evaluation \n",
    "\n",
    "Let's evaluatte our SentimentDL model we trained earlier, saved it, and loaded it into a new pipeline by using a test dataset that model has never seen:"
   ]
  },
  {
   "cell_type": "code",
   "execution_count": null,
   "metadata": {
    "colab": {},
    "colab_type": "code",
    "id": "5HkV5BAiWPAo"
   },
   "outputs": [],
   "source": [
    "testDataset = spark.read \\\n",
    "      .option(\"header\", True) \\\n",
    "      .csv(\"aclimdb_test.csv\")"
   ]
  },
  {
   "cell_type": "code",
   "execution_count": null,
   "metadata": {
    "colab": {},
    "colab_type": "code",
    "id": "_aVPZXgst0-V"
   },
   "outputs": [],
   "source": [
    "preds = pipelineModel.transform(testDataset)"
   ]
  },
  {
   "cell_type": "code",
   "execution_count": 79,
   "metadata": {
    "colab": {
     "base_uri": "https://localhost:8080/",
     "height": 969
    },
    "colab_type": "code",
    "id": "-H9UAWO_t-b9",
    "outputId": "937b7588-a5c0-4688-87d1-176e7152e3b8"
   },
   "outputs": [
    {
     "name": "stdout",
     "output_type": "stream",
     "text": [
      "+--------+--------------------------------------------------+----------+\n",
      "|   label|                                              text|    result|\n",
      "+--------+--------------------------------------------------+----------+\n",
      "|negative|The Second Woman is about the story of a myster...|[negative]|\n",
      "|positive|In my opinion the directing, editing, lighting,...|[positive]|\n",
      "|positive|I am listening to Istanbul, intent, my eyes clo...|[positive]|\n",
      "|negative|Before I speak my piece, I would like to make a...|[positive]|\n",
      "|positive|ManBearPig is a pretty funny episode of South P...|[positive]|\n",
      "|negative|A buddy and I went to see this movie when it ca...|[negative]|\n",
      "|negative|It is incredible that there were two films with...|[negative]|\n",
      "|negative|Dire! Dismal! Awful! Laughable! Disappointing!<...|[negative]|\n",
      "|positive|HLOTS was an outstanding series, its what NYPD ...|[positive]|\n",
      "|negative|This is just one of those films which cannot ju...|[negative]|\n",
      "|negative|This movie had the potential to be a very good ...|[negative]|\n",
      "|positive|The 80s were overrun by all those HALLOWEEN/Fri...|[negative]|\n",
      "|positive|The tunes are the best aspect of this televisio...|[positive]|\n",
      "|positive|Having recently seen Grindhouse, I was browsing...|[negative]|\n",
      "|positive|My favorite film this year. Great characters an...|[positive]|\n",
      "|positive|This movie just might make you cooooo. The film...|[positive]|\n",
      "|negative|This is the worst movie I have ever seen. If I ...|[negative]|\n",
      "|positive|This was a nice film. It had a interesting stor...|[positive]|\n",
      "|negative|I don't know, maybe I just wasn't in the mood f...|[negative]|\n",
      "|negative|After wasting 2 hours of my life watching this ...|[negative]|\n",
      "|negative|For the most part, I considered this movie unwo...|[negative]|\n",
      "|positive|I first saw this one when it was first shown, s...|[positive]|\n",
      "|negative|I will not say much about this film, because th...|[negative]|\n",
      "|negative|I sort of liked this movie, not a good one, but...|[negative]|\n",
      "|positive|At the surface COOLEY HIGH is a snappy ensemble...|[positive]|\n",
      "|negative|It is such a shame that so many people \"love\" F...|[negative]|\n",
      "|positive|As you may know Norway is the most developed co...|[positive]|\n",
      "|negative|I went to this film full of hope. With so many ...|[negative]|\n",
      "|positive|The Ator series is a shining example of what B-...|[negative]|\n",
      "|negative|Ted Nicolaou made a lot of great horror and fan...|[negative]|\n",
      "|positive|This without doubt one of the funniest and most...|[positive]|\n",
      "|positive|This is a absolutely masterful stroke of genius...|[positive]|\n",
      "|negative|This is a film that has garnered any interest o...|[positive]|\n",
      "|positive|It seems that no matter how many films are made...|[positive]|\n",
      "|negative|You'd hardly know that a year later MGM put Nor...|[positive]|\n",
      "|negative|this movie is so bad and Hellraiser part 1 to 3...|[negative]|\n",
      "|positive|This is a classic street punk & rock movie. If ...|[positive]|\n",
      "|negative|Aya! If you are looking for special effects tha...|[negative]|\n",
      "|negative|Found an old VHS version of this film in my par...|[negative]|\n",
      "|positive|This movie is funny and sad enough I think that...|[positive]|\n",
      "|negative|The video box for 'Joyride' says \"starring seco...|[negative]|\n",
      "|negative|I will never get back the three hours of life t...|[negative]|\n",
      "|negative|\"Solomon and Sheba\" was the kind of film that y...|[positive]|\n",
      "|negative|This is far the most worst film I've seen this ...|[negative]|\n",
      "|negative|The only reason I watched this is because of it...|[negative]|\n",
      "|negative|Back in the cold and creepy early 90's,a show c...|[negative]|\n",
      "|negative|If you're in the mood for a really bad porno wi...|[negative]|\n",
      "|negative|The bearings of western-style Feminism on the v...|[positive]|\n",
      "|positive|In the changing world of CG and what-not of car...|[positive]|\n",
      "|positive|I wonder why I haven't heard of this movie befo...|[positive]|\n",
      "+--------+--------------------------------------------------+----------+\n",
      "only showing top 50 rows\n",
      "\n"
     ]
    }
   ],
   "source": [
    "preds.select('label','text',\"class.result\").show(50, truncate=50)"
   ]
  },
  {
   "cell_type": "code",
   "execution_count": null,
   "metadata": {
    "colab": {},
    "colab_type": "code",
    "id": "8-JF5_Y9uPFj"
   },
   "outputs": [],
   "source": [
    "preds_df = preds.select('label','text',\"class.result\").toPandas()"
   ]
  },
  {
   "cell_type": "code",
   "execution_count": null,
   "metadata": {
    "colab": {},
    "colab_type": "code",
    "id": "CS2q_OajuZyO"
   },
   "outputs": [],
   "source": [
    "# The result is an array since in Spark NLP you can have multiple sentences.\n",
    "# This means you can add SentenceDetector in the pipeline and feed it into\n",
    "# UniversalSentenceEncoder and you can have prediction based on each sentence.\n",
    "# Let's explode the array and get the item(s) inside of result column out\n",
    "preds_df['result'] = preds_df['result'].apply(lambda x : x[0])"
   ]
  },
  {
   "cell_type": "markdown",
   "metadata": {
    "colab_type": "text",
    "id": "uf_s83c0sT91"
   },
   "source": [
    "The `SentimentDL` has the ability to accept a threshold to set a label on any result that is less than that number. \n",
    "\n",
    "For instance, by default the threshold is set on `0.6` and everything below that will be assigned as `neutral`. You can change this label with `setThresholdLabel`.\n",
    "\n",
    "We need to filter `neutral` results since we don't have any in the original test dataset to compare with."
   ]
  },
  {
   "cell_type": "code",
   "execution_count": null,
   "metadata": {
    "colab": {},
    "colab_type": "code",
    "id": "-hmSFmRiqiZO"
   },
   "outputs": [],
   "source": [
    "preds_df = preds_df[preds_df['result'] != 'neutral']\n"
   ]
  },
  {
   "cell_type": "code",
   "execution_count": null,
   "metadata": {
    "colab": {},
    "colab_type": "code",
    "id": "naAHGWV5ugNX"
   },
   "outputs": [],
   "source": [
    "# We are going to use sklearn to evalute the results on test dataset\n",
    "from sklearn.metrics import classification_report"
   ]
  },
  {
   "cell_type": "markdown",
   "metadata": {
    "colab_type": "text",
    "id": "o2BiHF_sR3Cz"
   },
   "source": [
    "Let's use `classification_report` from `sklearn` to evaluate the final scores. (keep in mind due to limited resources on a free Google Colab we only used 5 Epochs :)"
   ]
  },
  {
   "cell_type": "code",
   "execution_count": 98,
   "metadata": {
    "colab": {
     "base_uri": "https://localhost:8080/",
     "height": 170
    },
    "colab_type": "code",
    "id": "kLeO9u1bunPB",
    "outputId": "71f9b831-f638-46b0-fad3-5e0a3b75835b"
   },
   "outputs": [
    {
     "name": "stdout",
     "output_type": "stream",
     "text": [
      "              precision    recall  f1-score   support\n",
      "\n",
      "    negative       0.87      0.86      0.86     12449\n",
      "    positive       0.85      0.87      0.86     12041\n",
      "\n",
      "    accuracy                           0.86     24490\n",
      "   macro avg       0.86      0.86      0.86     24490\n",
      "weighted avg       0.86      0.86      0.86     24490\n",
      "\n"
     ]
    }
   ],
   "source": [
    "print (classification_report(preds_df['result'], preds_df['label']))"
   ]
  },
  {
   "cell_type": "code",
   "execution_count": null,
   "metadata": {
    "colab": {},
    "colab_type": "code",
    "id": "3Zlwshvwx4hu"
   },
   "outputs": [],
   "source": []
  }
 ],
 "metadata": {
  "colab": {
   "collapsed_sections": [],
   "name": "SentimentDL_train_multiclass_sentiment_classifier.ipynb",
   "provenance": [],
   "toc_visible": true
  },
  "kernelspec": {
   "display_name": "Python 3",
   "language": "python",
   "name": "python3"
  },
  "language_info": {
   "codemirror_mode": {
    "name": "ipython",
    "version": 3
   },
   "file_extension": ".py",
   "mimetype": "text/x-python",
   "name": "python",
   "nbconvert_exporter": "python",
   "pygments_lexer": "ipython3",
   "version": "3.6.9"
  },
  "nteract": {
   "version": "0.21.0"
  }
 },
 "nbformat": 4,
 "nbformat_minor": 4
}
