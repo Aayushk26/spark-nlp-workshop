{
 "cells": [
  {
   "cell_type": "markdown",
   "metadata": {
    "colab_type": "text",
    "id": "ph3bDypIEXdd"
   },
   "source": [
    "![JohnSnowLabs](https://nlp.johnsnowlabs.com/assets/images/logo.png)"
   ]
  },
  {
   "cell_type": "markdown",
   "metadata": {
    "colab_type": "text",
    "id": "aaVmDt1TEXdh"
   },
   "source": [
    "# Spark NLP\n",
    "### Multi-class Text Classification\n",
    "#### By using ClassifierDL"
   ]
  },
  {
   "cell_type": "markdown",
   "metadata": {
    "colab_type": "text",
    "id": "jmo3o-b3MF5W"
   },
   "source": [
    "[![Open In Colab](https://colab.research.google.com/assets/colab-badge.svg)](https://colab.research.google.com/github/JohnSnowLabs/spark-nlp-workshop/blob/master/jupyter/training/english/classification/ClassifierDL_Train_multi_class_news_category_classifier.ipynb)"
   ]
  },
  {
   "cell_type": "markdown",
   "metadata": {},
   "source": [
    "Only run this block if you are inside Google Colab otherwise skip it"
   ]
  },
  {
   "cell_type": "code",
   "execution_count": null,
   "metadata": {
    "colab": {
     "base_uri": "https://localhost:8080/",
     "height": 141
    },
    "colab_type": "code",
    "id": "MzishpT-MF5X",
    "outputId": "07b46a06-d391-46cd-9a77-c4a428e04a3c"
   },
   "outputs": [],
   "source": [
    "import os\n",
    "\n",
    "# Install java\n",
    "! apt-get install -y openjdk-8-jdk-headless -qq > /dev/null\n",
    "os.environ[\"JAVA_HOME\"] = \"/usr/lib/jvm/java-8-openjdk-amd64\"\n",
    "os.environ[\"PATH\"] = os.environ[\"JAVA_HOME\"] + \"/bin:\" + os.environ[\"PATH\"]\n",
    "! java -version\n",
    "\n",
    "# Install pyspark\n",
    "! pip install --ignore-installed -q pyspark==2.4.4\n",
    "\n",
    "# Install Spark NLP\n",
    "! pip install --ignore-installed -q spark-nlp==2.4.4"
   ]
  },
  {
   "cell_type": "markdown",
   "metadata": {
    "colab_type": "text",
    "id": "Tj9lU86QOttG"
   },
   "source": [
    "`UniversalSentenceEncoder` requires more `buffer.max` so we create the SparkSession manually:"
   ]
  },
  {
   "cell_type": "code",
   "execution_count": 1,
   "metadata": {
    "colab": {
     "base_uri": "https://localhost:8080/",
     "height": 70
    },
    "colab_type": "code",
    "id": "Hmvv5Q4jMF5b",
    "outputId": "65d208e3-a039-402a-f495-3577d303dad4"
   },
   "outputs": [
    {
     "name": "stdout",
     "output_type": "stream",
     "text": [
      "Spark NLP version\n",
      "Apache Spark version\n"
     ]
    },
    {
     "data": {
      "text/plain": [
       "'2.4.4'"
      ]
     },
     "execution_count": 1,
     "metadata": {},
     "output_type": "execute_result"
    }
   ],
   "source": [
    "import sparknlp\n",
    "from pyspark.sql import SparkSession\n",
    "\n",
    "def start():\n",
    "    builder = SparkSession.builder \\\n",
    "        .appName(\"Spark NLP\") \\\n",
    "        .master(\"local[*]\") \\\n",
    "        .config(\"spark.driver.memory\", \"16G\") \\\n",
    "        .config(\"spark.serializer\", \"org.apache.spark.serializer.KryoSerializer\")\\\n",
    "        .config(\"spark.kryoserializer.buffer.max\", \"1000M\")\\\n",
    "        .config(\"spark.jars.packages\", \"com.johnsnowlabs.nlp:spark-nlp_2.11:2.4.4\")\n",
    "\n",
    "    return builder.getOrCreate()\n",
    "\n",
    "  \n",
    "spark = start()\n",
    "\n",
    "print(\"Spark NLP version\")\n",
    "sparknlp.version()\n",
    "print(\"Apache Spark version\")\n",
    "spark.version"
   ]
  },
  {
   "cell_type": "markdown",
   "metadata": {
    "colab_type": "text",
    "id": "xKQcm8R6MF5e"
   },
   "source": [
    "Let's download news category dataset for training our text classifier"
   ]
  },
  {
   "cell_type": "code",
   "execution_count": null,
   "metadata": {
    "colab": {
     "base_uri": "https://localhost:8080/",
     "height": 212
    },
    "colab_type": "code",
    "id": "W0FkrTb4MF5f",
    "outputId": "3f5a5761-408c-4749-953c-dbdd8c90c088"
   },
   "outputs": [],
   "source": [
    "!wget -O news_category_train.csv https://s3.amazonaws.com/auxdata.johnsnowlabs.com/public/resources/en/classifier-dl/news_Category/news_category_train.csv"
   ]
  },
  {
   "cell_type": "code",
   "execution_count": null,
   "metadata": {
    "colab": {
     "base_uri": "https://localhost:8080/",
     "height": 212
    },
    "colab_type": "code",
    "id": "QDIQgMv6tuqu",
    "outputId": "ae546f9f-ff9c-423a-ac39-9ef45e677cd7"
   },
   "outputs": [],
   "source": [
    "!wget -O news_category_test.csv https://s3.amazonaws.com/auxdata.johnsnowlabs.com/public/resources/en/classifier-dl/news_Category/news_category_test.csv"
   ]
  },
  {
   "cell_type": "code",
   "execution_count": null,
   "metadata": {
    "colab": {
     "base_uri": "https://localhost:8080/",
     "height": 214
    },
    "colab_type": "code",
    "id": "QYolNmBtMF5h",
    "outputId": "92040c6c-e678-44e5-f016-5559afd6e95e"
   },
   "outputs": [],
   "source": [
    "!head news_category_train.csv"
   ]
  },
  {
   "cell_type": "markdown",
   "metadata": {
    "colab_type": "text",
    "id": "zWFUDI6jMF5k"
   },
   "source": [
    "The content is inside `description` column and the labels are inside `category` column"
   ]
  },
  {
   "cell_type": "code",
   "execution_count": 2,
   "metadata": {
    "colab": {},
    "colab_type": "code",
    "id": "S9TRr7iAMF5l"
   },
   "outputs": [],
   "source": [
    "trainDataset = spark.read \\\n",
    "      .option(\"header\", True) \\\n",
    "      .csv(\"news_category_train.csv\")"
   ]
  },
  {
   "cell_type": "code",
   "execution_count": 3,
   "metadata": {
    "colab": {
     "base_uri": "https://localhost:8080/",
     "height": 478
    },
    "colab_type": "code",
    "id": "nURzgFJ7MF5o",
    "outputId": "b72ae7f5-3457-40ab-a78d-d36eeaa738f8"
   },
   "outputs": [
    {
     "name": "stdout",
     "output_type": "stream",
     "text": [
      "+--------+--------------------+\n",
      "|category|         description|\n",
      "+--------+--------------------+\n",
      "|Business| Short sellers, W...|\n",
      "|Business| Private investme...|\n",
      "|Business| Soaring crude pr...|\n",
      "|Business| Authorities have...|\n",
      "|Business| Tearaway world o...|\n",
      "|Business| Stocks ended sli...|\n",
      "|Business| Assets of the na...|\n",
      "|Business| Retail sales bou...|\n",
      "|Business|\" After earning a...|\n",
      "|Business| Short sellers, W...|\n",
      "|Business| Soaring crude pr...|\n",
      "|Business| OPEC can do noth...|\n",
      "|Business| Non OPEC oil exp...|\n",
      "|Business| WASHINGTON/NEW Y...|\n",
      "|Business| The dollar tumbl...|\n",
      "|Business|If you think you ...|\n",
      "|Business|The purchasing po...|\n",
      "|Business|There is little c...|\n",
      "|Business|The US trade defi...|\n",
      "|Business|Oil giant Shell c...|\n",
      "+--------+--------------------+\n",
      "only showing top 20 rows\n",
      "\n"
     ]
    }
   ],
   "source": [
    "trainDataset.show()"
   ]
  },
  {
   "cell_type": "code",
   "execution_count": 4,
   "metadata": {},
   "outputs": [
    {
     "data": {
      "text/plain": [
       "120000"
      ]
     },
     "execution_count": 4,
     "metadata": {},
     "output_type": "execute_result"
    }
   ],
   "source": [
    "trainDataset.count()"
   ]
  },
  {
   "cell_type": "code",
   "execution_count": 5,
   "metadata": {
    "colab": {},
    "colab_type": "code",
    "id": "0oKvNZaEMF5q"
   },
   "outputs": [],
   "source": [
    "from pyspark.ml import Pipeline\n",
    "\n",
    "from sparknlp.annotator import *\n",
    "from sparknlp.common import *\n",
    "from sparknlp.base import *"
   ]
  },
  {
   "cell_type": "code",
   "execution_count": 6,
   "metadata": {
    "colab": {
     "base_uri": "https://localhost:8080/",
     "height": 70
    },
    "colab_type": "code",
    "id": "H30A4FgNMF5t",
    "outputId": "92696b45-33a2-4242-95d1-3b08339de00f"
   },
   "outputs": [
    {
     "name": "stdout",
     "output_type": "stream",
     "text": [
      "tfhub_use download started this may take some time.\n",
      "Approximate size to download 923.7 MB\n",
      "[OK!]\n"
     ]
    }
   ],
   "source": [
    "# actual content is inside description column\n",
    "document = DocumentAssembler()\\\n",
    "    .setInputCol(\"description\")\\\n",
    "    .setOutputCol(\"document\")\n",
    "\n",
    "use = UniversalSentenceEncoder.pretrained() \\\n",
    " .setInputCols([\"document\"])\\\n",
    " .setOutputCol(\"sentence_embeddings\")\n",
    "\n",
    "# the classes/labels/categories are in category column\n",
    "classsifierdl = ClassifierDLApproach()\\\n",
    "  .setInputCols([\"sentence_embeddings\"])\\\n",
    "  .setOutputCol(\"class\")\\\n",
    "  .setLabelColumn(\"category\")\\\n",
    "  .setMaxEpochs(10)\\\n",
    "  .setEnableOutputLogs(True)\n",
    "\n",
    "pipeline = Pipeline(\n",
    "    stages = [\n",
    "        document,\n",
    "        use,\n",
    "        classsifierdl\n",
    "    ])"
   ]
  },
  {
   "cell_type": "code",
   "execution_count": 7,
   "metadata": {
    "colab": {
     "base_uri": "https://localhost:8080/",
     "height": 1000
    },
    "colab_type": "code",
    "id": "kia7NpRJMF5v",
    "outputId": "0645d6d4-e288-49d4-c033-f7ac628928b5"
   },
   "outputs": [],
   "source": [
    "pipelineModel = pipeline.fit(trainDataset)"
   ]
  },
  {
   "cell_type": "code",
   "execution_count": 25,
   "metadata": {
    "colab": {
     "base_uri": "https://localhost:8080/",
     "height": 51
    },
    "colab_type": "code",
    "id": "TOLU30ilMF5y",
    "outputId": "e031a4fe-fcdf-48a0-eed2-8aa55153b008"
   },
   "outputs": [
    {
     "name": "stdout",
     "output_type": "stream",
     "text": [
      "total 8\r\n",
      "-rw-r--r--  1 maziyar  staff  974 Mar 17 15:46 ClassifierDLApproach_d4a8d8ae15c4.log\r\n"
     ]
    }
   ],
   "source": [
    "!cd ~/annotator_logs && ls -l"
   ]
  },
  {
   "cell_type": "code",
   "execution_count": 10,
   "metadata": {
    "colab": {
     "base_uri": "https://localhost:8080/",
     "height": 119
    },
    "colab_type": "code",
    "id": "c6TAuRqBNs4_",
    "outputId": "6ba46648-3cd7-437b-ac33-f1a6111f0231"
   },
   "outputs": [
    {
     "name": "stdout",
     "output_type": "stream",
     "text": [
      "Training started - total epochs: 10 - learning rate: 0.005 - batch size: 64 - training examples: 120000\r\n",
      "Epoch 0/10 - 20.595176306%.2fs - loss: 1620.4523 - accuracy: 0.88139164 - batches: 1875\r\n",
      "Epoch 1/10 - 20.896655075%.2fs - loss: 1595.1614 - accuracy: 0.8924 - batches: 1875\r\n",
      "Epoch 2/10 - 18.908607226%.2fs - loss: 1581.3849 - accuracy: 0.8971583 - batches: 1875\r\n",
      "Epoch 3/10 - 18.855000017%.2fs - loss: 1570.0774 - accuracy: 0.90113336 - batches: 1875\r\n",
      "Epoch 4/10 - 18.834848244%.2fs - loss: 1566.8865 - accuracy: 0.90415835 - batches: 1875\r\n",
      "Epoch 5/10 - 18.658137128%.2fs - loss: 1564.1078 - accuracy: 0.90699166 - batches: 1875\r\n",
      "Epoch 6/10 - 18.913159529%.2fs - loss: 1561.3577 - accuracy: 0.9088 - batches: 1875\r\n",
      "Epoch 7/10 - 18.658633957%.2fs - loss: 1558.2217 - accuracy: 0.91049165 - batches: 1875\r\n",
      "Epoch 8/10 - 18.919921582%.2fs - loss: 1554.3966 - accuracy: 0.9116833 - batches: 1875\r\n",
      "Epoch 9/10 - 18.389415558%.2fs - loss: 1553.3986 - accuracy: 0.91281664 - batches: 1875\r\n"
     ]
    }
   ],
   "source": [
    "!cat ~/annotator_logs/ClassifierDLApproach_d4a8d8ae15c4.log"
   ]
  },
  {
   "cell_type": "code",
   "execution_count": 11,
   "metadata": {
    "colab": {},
    "colab_type": "code",
    "id": "ccy54HeERCZ1"
   },
   "outputs": [],
   "source": [
    "from pyspark.sql.types import StringType\n",
    "\n",
    "dfTest = spark.createDataFrame([\n",
    "    \"Unions representing workers at Turner   Newall say they are 'disappointed' after talks with stricken parent firm Federal Mogul.\",\n",
    "    \"Scientists have discovered irregular lumps beneath the icy surface of Jupiter's largest moon, Ganymede. These irregular masses may be rock formations, supported by Ganymede's icy shell for billions of years...\"\n",
    "], StringType()).toDF(\"description\")"
   ]
  },
  {
   "cell_type": "code",
   "execution_count": 12,
   "metadata": {
    "colab": {},
    "colab_type": "code",
    "id": "3BsNAWS4VRkd"
   },
   "outputs": [],
   "source": [
    "prediction = pipelineModel.transform(dfTest)"
   ]
  },
  {
   "cell_type": "code",
   "execution_count": 13,
   "metadata": {
    "colab": {
     "base_uri": "https://localhost:8080/",
     "height": 255
    },
    "colab_type": "code",
    "id": "nz32PDjEVUTk",
    "outputId": "429f4f53-3b5d-4ad5-e023-f1293cd5da81"
   },
   "outputs": [
    {
     "name": "stdout",
     "output_type": "stream",
     "text": [
      "+----------+\n",
      "|    result|\n",
      "+----------+\n",
      "|[Business]|\n",
      "|[Sci/Tech]|\n",
      "+----------+\n",
      "\n",
      "+-----------------------------------------------------------------------------------------------------------------+\n",
      "|metadata                                                                                                         |\n",
      "+-----------------------------------------------------------------------------------------------------------------+\n",
      "|[[Sports -> 1.874596E-7, Business -> 0.99999976, World -> 3.8649663E-8, Sci/Tech -> 3.9560025E-8, sentence -> 0]]|\n",
      "|[[Sports -> 8.1529744E-19, Business -> 1.2242059E-17, World -> 1.8783108E-19, Sci/Tech -> 1.0, sentence -> 0]]   |\n",
      "+-----------------------------------------------------------------------------------------------------------------+\n",
      "\n"
     ]
    }
   ],
   "source": [
    "prediction.select(\"class.result\").show()\n",
    "\n",
    "prediction.select(\"class.metadata\").show(truncate=False)"
   ]
  },
  {
   "cell_type": "code",
   "execution_count": 14,
   "metadata": {
    "colab": {},
    "colab_type": "code",
    "id": "5HkV5BAiWPAo"
   },
   "outputs": [],
   "source": [
    "testDataset = spark.read \\\n",
    "      .option(\"header\", True) \\\n",
    "      .csv(\"news_category_test.csv\")"
   ]
  },
  {
   "cell_type": "code",
   "execution_count": 15,
   "metadata": {
    "colab": {},
    "colab_type": "code",
    "id": "_aVPZXgst0-V"
   },
   "outputs": [],
   "source": [
    "preds = pipelineModel.transform(testDataset)"
   ]
  },
  {
   "cell_type": "code",
   "execution_count": 16,
   "metadata": {
    "colab": {
     "base_uri": "https://localhost:8080/",
     "height": 1000
    },
    "colab_type": "code",
    "id": "-H9UAWO_t-b9",
    "outputId": "8f6951de-ad94-48ae-d3d4-75d5258e0bcf"
   },
   "outputs": [
    {
     "name": "stdout",
     "output_type": "stream",
     "text": [
      "+--------+--------------------------------------------------+----------+\n",
      "|category|                                       description|    result|\n",
      "+--------+--------------------------------------------------+----------+\n",
      "|Business|Unions representing workers at Turner   Newall ...|[Business]|\n",
      "|Sci/Tech| TORONTO, Canada    A second team of rocketeers...|[Sci/Tech]|\n",
      "|Sci/Tech| A company founded by a chemistry researcher at...|[Sci/Tech]|\n",
      "|Sci/Tech| It's barely dawn when Mike Fitzpatrick starts ...|[Sci/Tech]|\n",
      "|Sci/Tech| Southern California's smog fighting agency wen...|[Sci/Tech]|\n",
      "|Sci/Tech|\"The British Department for Education and Skill...|   [World]|\n",
      "|Sci/Tech|\"confessed author of the Netsky and Sasser viru...|[Sci/Tech]|\n",
      "|Sci/Tech|\\\\FOAF/LOAF  and bloom filters have a lot of in...|[Sci/Tech]|\n",
      "|Sci/Tech|\"Wiltshire Police warns about \"\"phishing\"\" afte...|[Sci/Tech]|\n",
      "|Sci/Tech|In its first two years, the UK's dedicated card...|[Sci/Tech]|\n",
      "|Sci/Tech| A group of technology companies  including Tex...|[Sci/Tech]|\n",
      "|Sci/Tech| Apple Computer Inc.&lt;AAPL.O&gt; on  Tuesday ...|[Sci/Tech]|\n",
      "|Sci/Tech| Free Record Shop, a Dutch music  retail chain,...|[Sci/Tech]|\n",
      "|Sci/Tech|A giant 100km colony of ants  which has been di...|[Sci/Tech]|\n",
      "|Sci/Tech|                      \"Dolphin groups, or \"\"pods\"\"|[Sci/Tech]|\n",
      "|Sci/Tech|Tyrannosaurus rex achieved its massive size due...|[Sci/Tech]|\n",
      "|Sci/Tech|  Scientists have discovered irregular lumps be...|[Sci/Tech]|\n",
      "|Sci/Tech|  ESAs Mars Express has relayed pictures from o...|[Sci/Tech]|\n",
      "|Sci/Tech|When did life begin? One evidential clue stems ...|[Sci/Tech]|\n",
      "|Sci/Tech|update Earnings per share rise compared with a ...|[Business]|\n",
      "|Sci/Tech|By the end of the year, the computing giant pla...|[Sci/Tech]|\n",
      "|Sci/Tech|Developers get early code for new operating sys...|[Sci/Tech]|\n",
      "|Sci/Tech|New technology applies electrical fuses to help...|[Sci/Tech]|\n",
      "|Sci/Tech|Google has billed its IPO as a way for everyday...|[Sci/Tech]|\n",
      "|Sci/Tech|By MICHAEL LIEDTKE     SAN FRANCISCO (AP) -- Wi...|[Business]|\n",
      "|Sci/Tech|Industry cyber security standards fail to reach...|[Sci/Tech]|\n",
      "|  Sports|Michael Phelps won the gold medal in the 400 in...|  [Sports]|\n",
      "|  Sports|  Looking at his ridiculously developed upper b...|  [Sports]|\n",
      "|  Sports|With the weeks dwindling until Jason Varitek en...|  [Sports]|\n",
      "|  Sports|Just imagine what David Ortiz could do on a goo...|  [Sports]|\n",
      "|  Sports|In  quot;helping themselves, quot; Ricky Bryant...|  [Sports]|\n",
      "|  Sports|The Cleveland Indians pulled within one game of...|  [Sports]|\n",
      "|   World| VANCOUVER (CP)   The sister of a man who died ...|   [World]|\n",
      "|   World| The man who claims Gov. James E. McGreevey sex...|   [World]|\n",
      "|   World| Explosions and gunfire rattled through the cit...|   [World]|\n",
      "|   World|\" A frail Pope John Paul II, breathing heavily ...|   [World]|\n",
      "|   World|Supporters and rivals warn of possible fraud; g...|[Business]|\n",
      "|   World| A 1994 law strengthened job protections for Na...|   [World]|\n",
      "|   World| A senior Iranian military official said  Sunda...|   [World]|\n",
      "|   World| Government troops intervened in Afghanistan's ...|   [World]|\n",
      "|  Sports| Randy Johnson took a four hitter into the nint...|  [Sports]|\n",
      "|Business| Apparel retailers are hoping their back to sch...|[Business]|\n",
      "|   World| If Hurricane Charley had struck three years ag...|[Sci/Tech]|\n",
      "|Sci/Tech| Shares in Sohu.com, a leading US listed Chines...|[Sci/Tech]|\n",
      "|  Sports| Darin Erstad doubled in the go ahead run in th...|  [Sports]|\n",
      "|  Sports| Outfielder J.D. Drew missed the Atlanta Braves...|  [Sports]|\n",
      "|   World| CARACAS, Venezuela (Reuters) - Venezuelans vot...|   [World]|\n",
      "|Sci/Tech| Dell Inc. &lt;DELL.O&gt;, the world's  largest...|[Sci/Tech]|\n",
      "|   World| Beijing on Monday accused a  Chinese American ...|   [World]|\n",
      "|  Sports|Another major, another disappointment for Tiger...|  [Sports]|\n",
      "+--------+--------------------------------------------------+----------+\n",
      "only showing top 50 rows\n",
      "\n"
     ]
    }
   ],
   "source": [
    "preds.select('category','description',\"class.result\").show(50, truncate=50)"
   ]
  },
  {
   "cell_type": "code",
   "execution_count": 17,
   "metadata": {
    "colab": {},
    "colab_type": "code",
    "id": "8-JF5_Y9uPFj"
   },
   "outputs": [],
   "source": [
    "preds_df = preds.select('category','description',\"class.result\").toPandas()"
   ]
  },
  {
   "cell_type": "code",
   "execution_count": 18,
   "metadata": {
    "colab": {},
    "colab_type": "code",
    "id": "CS2q_OajuZyO"
   },
   "outputs": [],
   "source": [
    "# The result is an array since in Spark NLP you can have multiple sentences.\n",
    "# This means you can add SentenceDetector in the pipeline and feed it into\n",
    "# UniversalSentenceEncoder and you can have prediction based on each sentence.\n",
    "# Let's explode the array and get the item(s) inside of result column out\n",
    "preds_df['result'] = preds_df['result'].apply(lambda x : x[0])"
   ]
  },
  {
   "cell_type": "code",
   "execution_count": 19,
   "metadata": {
    "colab": {},
    "colab_type": "code",
    "id": "naAHGWV5ugNX"
   },
   "outputs": [],
   "source": [
    "# We are going to use sklearn to evalute the results on test dataset\n",
    "from sklearn.metrics import classification_report"
   ]
  },
  {
   "cell_type": "code",
   "execution_count": 20,
   "metadata": {
    "colab": {
     "base_uri": "https://localhost:8080/",
     "height": 212
    },
    "colab_type": "code",
    "id": "kLeO9u1bunPB",
    "outputId": "88ac12af-72da-468b-df99-e4630f8801ac"
   },
   "outputs": [
    {
     "name": "stdout",
     "output_type": "stream",
     "text": [
      "              precision    recall  f1-score   support\n",
      "\n",
      "    Business       0.85      0.85      0.85      1910\n",
      "    Sci/Tech       0.88      0.85      0.87      1955\n",
      "      Sports       0.98      0.95      0.97      1948\n",
      "       World       0.87      0.93      0.90      1787\n",
      "\n",
      "    accuracy                           0.90      7600\n",
      "   macro avg       0.90      0.90      0.90      7600\n",
      "weighted avg       0.90      0.90      0.90      7600\n",
      "\n"
     ]
    }
   ],
   "source": [
    "print (classification_report(preds_df['result'], preds_df['category']))"
   ]
  },
  {
   "cell_type": "code",
   "execution_count": null,
   "metadata": {},
   "outputs": [],
   "source": []
  }
 ],
 "metadata": {
  "colab": {
   "name": "ClassifierDL - Train multi-class news category classifier.ipynb",
   "provenance": []
  },
  "kernelspec": {
   "display_name": "Python 3",
   "language": "python",
   "name": "python3"
  },
  "language_info": {
   "codemirror_mode": {
    "name": "ipython",
    "version": 3
   },
   "file_extension": ".py",
   "mimetype": "text/x-python",
   "name": "python",
   "nbconvert_exporter": "python",
   "pygments_lexer": "ipython3",
   "version": "3.6.9"
  },
  "nteract": {
   "version": "0.21.0"
  }
 },
 "nbformat": 4,
 "nbformat_minor": 1
}
