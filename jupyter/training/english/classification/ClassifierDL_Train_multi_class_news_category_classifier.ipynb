{
 "cells": [
  {
   "cell_type": "markdown",
   "metadata": {
    "colab_type": "text",
    "id": "ph3bDypIEXdd"
   },
   "source": [
    "![JohnSnowLabs](https://nlp.johnsnowlabs.com/assets/images/logo.png)"
   ]
  },
  {
   "cell_type": "markdown",
   "metadata": {
    "colab_type": "text",
    "id": "aaVmDt1TEXdh"
   },
   "source": [
    "# Spark NLP\n",
    "### Multi-class Text Classification\n",
    "#### By using ClassifierDL"
   ]
  },
  {
   "cell_type": "markdown",
   "metadata": {
    "colab_type": "text",
    "id": "jmo3o-b3MF5W"
   },
   "source": [
    "[![Open In Colab](https://colab.research.google.com/assets/colab-badge.svg)](https://colab.research.google.com/github/JohnSnowLabs/spark-nlp-workshop/blob/master/jupyter/training/english/classification/ClassifierDL_Train_multi_class_news_category_classifier.ipynb)"
   ]
  },
  {
   "cell_type": "markdown",
   "metadata": {
    "colab_type": "text",
    "id": "h4fQwZ46x4fu"
   },
   "source": [
    "Only run this block if you are inside Google Colab otherwise skip it"
   ]
  },
  {
   "cell_type": "code",
   "execution_count": 1,
   "metadata": {
    "colab": {
     "base_uri": "https://localhost:8080/",
     "height": 136
    },
    "colab_type": "code",
    "executionInfo": {
     "elapsed": 64003,
     "status": "ok",
     "timestamp": 1589302090392,
     "user": {
      "displayName": "Christian Kasim Loan",
      "photoUrl": "",
      "userId": "14469489166467359317"
     },
     "user_tz": -120
    },
    "id": "MzishpT-MF5X",
    "outputId": "1ff61d90-cfbe-4e8b-85ee-a172f1d97f1c"
   },
   "outputs": [
    {
     "name": "stdout",
     "output_type": "stream",
     "text": [
      "openjdk version \"1.8.0_252\"\n",
      "OpenJDK Runtime Environment (build 1.8.0_252-8u252-b09-1~18.04-b09)\n",
      "OpenJDK 64-Bit Server VM (build 25.252-b09, mixed mode)\n",
      "\u001b[K     |████████████████████████████████| 215.7MB 58kB/s \n",
      "\u001b[K     |████████████████████████████████| 204kB 49.7MB/s \n",
      "\u001b[?25h  Building wheel for pyspark (setup.py) ... \u001b[?25l\u001b[?25hdone\n",
      "\u001b[K     |████████████████████████████████| 112kB 2.8MB/s \n",
      "\u001b[?25h"
     ]
    }
   ],
   "source": [
    "import os\n",
    "\n",
    "# Install java\n",
    "! apt-get install -y openjdk-8-jdk-headless -qq > /dev/null\n",
    "os.environ[\"JAVA_HOME\"] = \"/usr/lib/jvm/java-8-openjdk-amd64\"\n",
    "os.environ[\"PATH\"] = os.environ[\"JAVA_HOME\"] + \"/bin:\" + os.environ[\"PATH\"]\n",
    "! java -version\n",
    "\n",
    "# Install pyspark\n",
    "! pip install --ignore-installed -q pyspark==2.4.4\n",
    "\n",
    "# Install Spark NLP\n",
    "! pip install --ignore-installed -q spark-nlp==2.4.5"
   ]
  },
  {
   "cell_type": "markdown",
   "metadata": {
    "colab_type": "text",
    "id": "Tj9lU86QOttG"
   },
   "source": [
    "`UniversalSentenceEncoder` requires more `buffer.max` so we create the SparkSession manually:"
   ]
  },
  {
   "cell_type": "code",
   "execution_count": 2,
   "metadata": {
    "colab": {
     "base_uri": "https://localhost:8080/",
     "height": 68
    },
    "colab_type": "code",
    "executionInfo": {
     "elapsed": 82497,
     "status": "ok",
     "timestamp": 1589302109113,
     "user": {
      "displayName": "Christian Kasim Loan",
      "photoUrl": "",
      "userId": "14469489166467359317"
     },
     "user_tz": -120
    },
    "id": "Hmvv5Q4jMF5b",
    "outputId": "681073c3-b59a-4e38-8184-cce0188af41c"
   },
   "outputs": [
    {
     "name": "stdout",
     "output_type": "stream",
     "text": [
      "Spark NLP version\n",
      "Apache Spark version\n"
     ]
    },
    {
     "data": {
      "text/plain": [
       "'2.4.4'"
      ]
     },
     "execution_count": 2,
     "metadata": {
      "tags": []
     },
     "output_type": "execute_result"
    }
   ],
   "source": [
    "import sparknlp\n",
    "\n",
    "spark = sparknlp.start()\n",
    "\n",
    "print(\"Spark NLP version\")\n",
    "sparknlp.version()\n",
    "print(\"Apache Spark version\")\n",
    "spark.version"
   ]
  },
  {
   "cell_type": "markdown",
   "metadata": {
    "colab_type": "text",
    "id": "xKQcm8R6MF5e"
   },
   "source": [
    "Let's download news category dataset for training our text classifier"
   ]
  },
  {
   "cell_type": "code",
   "execution_count": 3,
   "metadata": {
    "colab": {
     "base_uri": "https://localhost:8080/",
     "height": 204
    },
    "colab_type": "code",
    "executionInfo": {
     "elapsed": 84174,
     "status": "ok",
     "timestamp": 1589302110796,
     "user": {
      "displayName": "Christian Kasim Loan",
      "photoUrl": "",
      "userId": "14469489166467359317"
     },
     "user_tz": -120
    },
    "id": "W0FkrTb4MF5f",
    "outputId": "db69fca2-6040-4f0e-e7e4-ba74320c2914"
   },
   "outputs": [
    {
     "name": "stdout",
     "output_type": "stream",
     "text": [
      "--2020-05-12 16:48:29--  https://s3.amazonaws.com/auxdata.johnsnowlabs.com/public/resources/en/classifier-dl/news_Category/news_category_train.csv\n",
      "Resolving s3.amazonaws.com (s3.amazonaws.com)... 52.216.200.125\n",
      "Connecting to s3.amazonaws.com (s3.amazonaws.com)|52.216.200.125|:443... connected.\n",
      "HTTP request sent, awaiting response... 200 OK\n",
      "Length: 24032125 (23M) [text/csv]\n",
      "Saving to: ‘news_category_train.csv’\n",
      "\n",
      "news_category_train 100%[===================>]  22.92M  67.6MB/s    in 0.3s    \n",
      "\n",
      "2020-05-12 16:48:29 (67.6 MB/s) - ‘news_category_train.csv’ saved [24032125/24032125]\n",
      "\n"
     ]
    }
   ],
   "source": [
    "!wget -O news_category_train.csv https://s3.amazonaws.com/auxdata.johnsnowlabs.com/public/resources/en/classifier-dl/news_Category/news_category_train.csv"
   ]
  },
  {
   "cell_type": "code",
   "execution_count": 4,
   "metadata": {
    "colab": {
     "base_uri": "https://localhost:8080/",
     "height": 204
    },
    "colab_type": "code",
    "executionInfo": {
     "elapsed": 85944,
     "status": "ok",
     "timestamp": 1589302112569,
     "user": {
      "displayName": "Christian Kasim Loan",
      "photoUrl": "",
      "userId": "14469489166467359317"
     },
     "user_tz": -120
    },
    "id": "QDIQgMv6tuqu",
    "outputId": "231ccaed-39db-4a29-eecf-787345d18eca"
   },
   "outputs": [
    {
     "name": "stdout",
     "output_type": "stream",
     "text": [
      "--2020-05-12 16:48:31--  https://s3.amazonaws.com/auxdata.johnsnowlabs.com/public/resources/en/classifier-dl/news_Category/news_category_test.csv\n",
      "Resolving s3.amazonaws.com (s3.amazonaws.com)... 52.216.139.37\n",
      "Connecting to s3.amazonaws.com (s3.amazonaws.com)|52.216.139.37|:443... connected.\n",
      "HTTP request sent, awaiting response... 200 OK\n",
      "Length: 1504408 (1.4M) [text/csv]\n",
      "Saving to: ‘news_category_test.csv’\n",
      "\n",
      "news_category_test. 100%[===================>]   1.43M  --.-KB/s    in 0.09s   \n",
      "\n",
      "2020-05-12 16:48:31 (15.6 MB/s) - ‘news_category_test.csv’ saved [1504408/1504408]\n",
      "\n"
     ]
    }
   ],
   "source": [
    "!wget -O news_category_test.csv https://s3.amazonaws.com/auxdata.johnsnowlabs.com/public/resources/en/classifier-dl/news_Category/news_category_test.csv"
   ]
  },
  {
   "cell_type": "code",
   "execution_count": 5,
   "metadata": {
    "colab": {
     "base_uri": "https://localhost:8080/",
     "height": 207
    },
    "colab_type": "code",
    "executionInfo": {
     "elapsed": 87389,
     "status": "ok",
     "timestamp": 1589302114022,
     "user": {
      "displayName": "Christian Kasim Loan",
      "photoUrl": "",
      "userId": "14469489166467359317"
     },
     "user_tz": -120
    },
    "id": "QYolNmBtMF5h",
    "outputId": "0bdcb064-97ff-4be8-f2eb-4cbdb3ca0f65"
   },
   "outputs": [
    {
     "name": "stdout",
     "output_type": "stream",
     "text": [
      "category,description\n",
      "Business,\" Short sellers, Wall Street's dwindling band of ultra cynics, are seeing green again.\"\n",
      "Business,\" Private investment firm Carlyle Group, which has a reputation for making well timed and occasionally controversial plays in the defense industry, has quietly placed its bets on another part of the market.\"\n",
      "Business, Soaring crude prices plus worries about the economy and the outlook for earnings are expected to hang over the stock market next week during the depth of the summer doldrums.\n",
      "Business,\" Authorities have halted oil export flows from the main pipeline in southern Iraq after intelligence showed a rebel militia could strike infrastructure, an oil official said on Saturday.\"\n",
      "Business,\" Tearaway world oil prices, toppling records and straining wallets, present a new economic menace barely three months before the US presidential elections.\"\n",
      "Business,\" Stocks ended slightly higher on Friday but stayed near lows for the year as oil prices surged past  #36;46 a barrel, offsetting a positive outlook from computer maker Dell Inc. (DELL.O)\"\n",
      "Business,\" Assets of the nation's retail money market mutual funds fell by  #36;1.17 billion in the latest week to  #36;849.98 trillion, the Investment Company Institute said Thursday.\"\n",
      "Business,\" Retail sales bounced back a bit in July, and new claims for jobless benefits fell last week, the government said Thursday, indicating the economy is improving from a midsummer slump.\"\n",
      "Business,\" After earning a PH.D. in Sociology, Danny Bazil Riley started to work as the general manager at a commercial real estate firm at an annual base salary of  #36;70,000. Soon after, a financial planner stopped by his desk to drop off brochures about insurance benefits available through his employer. But, at 32, \"\"buying insurance was the furthest thing from my mind,\"\" says Riley.\"\n"
     ]
    }
   ],
   "source": [
    "!head news_category_train.csv"
   ]
  },
  {
   "cell_type": "markdown",
   "metadata": {
    "colab_type": "text",
    "id": "zWFUDI6jMF5k"
   },
   "source": [
    "The content is inside `description` column and the labels are inside `category` column"
   ]
  },
  {
   "cell_type": "code",
   "execution_count": null,
   "metadata": {
    "colab": {},
    "colab_type": "code",
    "id": "S9TRr7iAMF5l"
   },
   "outputs": [],
   "source": [
    "trainDataset = spark.read \\\n",
    "      .option(\"header\", True) \\\n",
    "      .csv(\"news_category_train.csv\")"
   ]
  },
  {
   "cell_type": "code",
   "execution_count": 7,
   "metadata": {
    "colab": {
     "base_uri": "https://localhost:8080/",
     "height": 459
    },
    "colab_type": "code",
    "executionInfo": {
     "elapsed": 95078,
     "status": "ok",
     "timestamp": 1589302121730,
     "user": {
      "displayName": "Christian Kasim Loan",
      "photoUrl": "",
      "userId": "14469489166467359317"
     },
     "user_tz": -120
    },
    "id": "nURzgFJ7MF5o",
    "outputId": "b7e37783-13ae-470c-e5b0-638d112145bf"
   },
   "outputs": [
    {
     "name": "stdout",
     "output_type": "stream",
     "text": [
      "+--------+--------------------+\n",
      "|category|         description|\n",
      "+--------+--------------------+\n",
      "|Business| Short sellers, W...|\n",
      "|Business| Private investme...|\n",
      "|Business| Soaring crude pr...|\n",
      "|Business| Authorities have...|\n",
      "|Business| Tearaway world o...|\n",
      "|Business| Stocks ended sli...|\n",
      "|Business| Assets of the na...|\n",
      "|Business| Retail sales bou...|\n",
      "|Business|\" After earning a...|\n",
      "|Business| Short sellers, W...|\n",
      "|Business| Soaring crude pr...|\n",
      "|Business| OPEC can do noth...|\n",
      "|Business| Non OPEC oil exp...|\n",
      "|Business| WASHINGTON/NEW Y...|\n",
      "|Business| The dollar tumbl...|\n",
      "|Business|If you think you ...|\n",
      "|Business|The purchasing po...|\n",
      "|Business|There is little c...|\n",
      "|Business|The US trade defi...|\n",
      "|Business|Oil giant Shell c...|\n",
      "+--------+--------------------+\n",
      "only showing top 20 rows\n",
      "\n"
     ]
    }
   ],
   "source": [
    "trainDataset.show()"
   ]
  },
  {
   "cell_type": "code",
   "execution_count": 8,
   "metadata": {
    "colab": {
     "base_uri": "https://localhost:8080/",
     "height": 34
    },
    "colab_type": "code",
    "executionInfo": {
     "elapsed": 96359,
     "status": "ok",
     "timestamp": 1589302123020,
     "user": {
      "displayName": "Christian Kasim Loan",
      "photoUrl": "",
      "userId": "14469489166467359317"
     },
     "user_tz": -120
    },
    "id": "5NIHJuVKx4gk",
    "outputId": "cb5ecbdf-e7f7-45b0-bb63-865149cc74a9"
   },
   "outputs": [
    {
     "data": {
      "text/plain": [
       "120000"
      ]
     },
     "execution_count": 8,
     "metadata": {
      "tags": []
     },
     "output_type": "execute_result"
    }
   ],
   "source": [
    "trainDataset.count()"
   ]
  },
  {
   "cell_type": "code",
   "execution_count": null,
   "metadata": {
    "colab": {},
    "colab_type": "code",
    "id": "0oKvNZaEMF5q"
   },
   "outputs": [],
   "source": [
    "from pyspark.ml import Pipeline\n",
    "\n",
    "from sparknlp.annotator import *\n",
    "from sparknlp.common import *\n",
    "from sparknlp.base import *"
   ]
  },
  {
   "cell_type": "code",
   "execution_count": 10,
   "metadata": {
    "colab": {
     "base_uri": "https://localhost:8080/",
     "height": 68
    },
    "colab_type": "code",
    "executionInfo": {
     "elapsed": 178123,
     "status": "ok",
     "timestamp": 1589302204803,
     "user": {
      "displayName": "Christian Kasim Loan",
      "photoUrl": "",
      "userId": "14469489166467359317"
     },
     "user_tz": -120
    },
    "id": "H30A4FgNMF5t",
    "outputId": "7acd9d47-6e27-4391-b7fb-85b565760ca2"
   },
   "outputs": [
    {
     "name": "stdout",
     "output_type": "stream",
     "text": [
      "tfhub_use download started this may take some time.\n",
      "Approximate size to download 923.7 MB\n",
      "[OK!]\n"
     ]
    }
   ],
   "source": [
    "# actual content is inside description column\n",
    "document = DocumentAssembler()\\\n",
    "    .setInputCol(\"description\")\\\n",
    "    .setOutputCol(\"document\")\n",
    "\n",
    "use = UniversalSentenceEncoder.pretrained() \\\n",
    " .setInputCols([\"document\"])\\\n",
    " .setOutputCol(\"sentence_embeddings\")\n",
    "\n",
    "# the classes/labels/categories are in category column\n",
    "classsifierdl = ClassifierDLApproach()\\\n",
    "  .setInputCols([\"sentence_embeddings\"])\\\n",
    "  .setOutputCol(\"class\")\\\n",
    "  .setLabelColumn(\"category\")\\\n",
    "  .setMaxEpochs(5)\\\n",
    "  .setEnableOutputLogs(True)\n",
    "\n",
    "pipeline = Pipeline(\n",
    "    stages = [\n",
    "        document,\n",
    "        use,\n",
    "        classsifierdl\n",
    "    ])"
   ]
  },
  {
   "cell_type": "code",
   "execution_count": null,
   "metadata": {
    "colab": {},
    "colab_type": "code",
    "id": "kia7NpRJMF5v"
   },
   "outputs": [],
   "source": [
    "pipelineModel = pipeline.fit(trainDataset)"
   ]
  },
  {
   "cell_type": "code",
   "execution_count": 12,
   "metadata": {
    "colab": {
     "base_uri": "https://localhost:8080/",
     "height": 51
    },
    "colab_type": "code",
    "executionInfo": {
     "elapsed": 565793,
     "status": "ok",
     "timestamp": 1589302592483,
     "user": {
      "displayName": "Christian Kasim Loan",
      "photoUrl": "",
      "userId": "14469489166467359317"
     },
     "user_tz": -120
    },
    "id": "TOLU30ilMF5y",
    "outputId": "1176f3f9-ff86-4dab-b2ad-f35428629a55"
   },
   "outputs": [
    {
     "name": "stdout",
     "output_type": "stream",
     "text": [
      "total 4\n",
      "-rw-r--r-- 1 root root 527 May 12 16:56 ClassifierDLApproach_3ace16c99d52.log\n"
     ]
    }
   ],
   "source": [
    "!cd ~/annotator_logs && ls -l"
   ]
  },
  {
   "cell_type": "code",
   "execution_count": 13,
   "metadata": {
    "colab": {
     "base_uri": "https://localhost:8080/",
     "height": 34
    },
    "colab_type": "code",
    "executionInfo": {
     "elapsed": 567414,
     "status": "ok",
     "timestamp": 1589302594112,
     "user": {
      "displayName": "Christian Kasim Loan",
      "photoUrl": "",
      "userId": "14469489166467359317"
     },
     "user_tz": -120
    },
    "id": "c6TAuRqBNs4_",
    "outputId": "ea45f916-937d-4493-aed2-466e71d159ff"
   },
   "outputs": [
    {
     "name": "stdout",
     "output_type": "stream",
     "text": [
      "cat: /root/annotator_logs/ClassifierDLApproach_d4a8d8ae15c4.log: No such file or directory\n"
     ]
    }
   ],
   "source": [
    "!cat ~/annotator_logs/ClassifierDLApproach_d4a8d8ae15c4.log"
   ]
  },
  {
   "cell_type": "code",
   "execution_count": null,
   "metadata": {
    "colab": {},
    "colab_type": "code",
    "id": "ccy54HeERCZ1"
   },
   "outputs": [],
   "source": [
    "from pyspark.sql.types import StringType\n",
    "\n",
    "dfTest = spark.createDataFrame([\n",
    "    \"Unions representing workers at Turner   Newall say they are 'disappointed' after talks with stricken parent firm Federal Mogul.\",\n",
    "    \"Scientists have discovered irregular lumps beneath the icy surface of Jupiter's largest moon, Ganymede. These irregular masses may be rock formations, supported by Ganymede's icy shell for billions of years...\"\n",
    "], StringType()).toDF(\"description\")"
   ]
  },
  {
   "cell_type": "code",
   "execution_count": null,
   "metadata": {
    "colab": {},
    "colab_type": "code",
    "id": "3BsNAWS4VRkd"
   },
   "outputs": [],
   "source": [
    "prediction = pipelineModel.transform(dfTest)"
   ]
  },
  {
   "cell_type": "code",
   "execution_count": 16,
   "metadata": {
    "colab": {
     "base_uri": "https://localhost:8080/",
     "height": 255
    },
    "colab_type": "code",
    "executionInfo": {
     "elapsed": 569630,
     "status": "ok",
     "timestamp": 1589302596342,
     "user": {
      "displayName": "Christian Kasim Loan",
      "photoUrl": "",
      "userId": "14469489166467359317"
     },
     "user_tz": -120
    },
    "id": "nz32PDjEVUTk",
    "outputId": "7fc4f68b-57a4-4032-ec90-9c09e9fd0f5d"
   },
   "outputs": [
    {
     "name": "stdout",
     "output_type": "stream",
     "text": [
      "+----------+\n",
      "|    result|\n",
      "+----------+\n",
      "|[Business]|\n",
      "|[Sci/Tech]|\n",
      "+----------+\n",
      "\n",
      "+------------------------------------------------------------------------------------------------------------------+\n",
      "|metadata                                                                                                          |\n",
      "+------------------------------------------------------------------------------------------------------------------+\n",
      "|[[Sports -> 3.3033635E-7, Business -> 0.99999654, World -> 2.8160703E-6, Sci/Tech -> 2.9414142E-7, sentence -> 0]]|\n",
      "|[[Sports -> 2.7236586E-15, Business -> 1.1168288E-14, World -> 7.367753E-14, Sci/Tech -> 1.0, sentence -> 0]]     |\n",
      "+------------------------------------------------------------------------------------------------------------------+\n",
      "\n"
     ]
    }
   ],
   "source": [
    "prediction.select(\"class.result\").show()\n",
    "\n",
    "prediction.select(\"class.metadata\").show(truncate=False)"
   ]
  },
  {
   "cell_type": "code",
   "execution_count": null,
   "metadata": {
    "colab": {},
    "colab_type": "code",
    "id": "5HkV5BAiWPAo"
   },
   "outputs": [],
   "source": [
    "testDataset = spark.read \\\n",
    "      .option(\"header\", True) \\\n",
    "      .csv(\"news_category_test.csv\")"
   ]
  },
  {
   "cell_type": "code",
   "execution_count": null,
   "metadata": {
    "colab": {},
    "colab_type": "code",
    "id": "_aVPZXgst0-V"
   },
   "outputs": [],
   "source": [
    "preds = pipelineModel.transform(testDataset)"
   ]
  },
  {
   "cell_type": "code",
   "execution_count": 19,
   "metadata": {
    "colab": {
     "base_uri": "https://localhost:8080/",
     "height": 969
    },
    "colab_type": "code",
    "executionInfo": {
     "elapsed": 570686,
     "status": "ok",
     "timestamp": 1589302597410,
     "user": {
      "displayName": "Christian Kasim Loan",
      "photoUrl": "",
      "userId": "14469489166467359317"
     },
     "user_tz": -120
    },
    "id": "-H9UAWO_t-b9",
    "outputId": "df9e88ed-26d1-401a-9d01-0ec9cfbee4c6"
   },
   "outputs": [
    {
     "name": "stdout",
     "output_type": "stream",
     "text": [
      "+--------+--------------------------------------------------+----------+\n",
      "|category|                                       description|    result|\n",
      "+--------+--------------------------------------------------+----------+\n",
      "|Business|Unions representing workers at Turner   Newall ...|[Business]|\n",
      "|Sci/Tech| TORONTO, Canada    A second team of rocketeers...|[Sci/Tech]|\n",
      "|Sci/Tech| A company founded by a chemistry researcher at...|[Sci/Tech]|\n",
      "|Sci/Tech| It's barely dawn when Mike Fitzpatrick starts ...|[Sci/Tech]|\n",
      "|Sci/Tech| Southern California's smog fighting agency wen...|[Sci/Tech]|\n",
      "|Sci/Tech|\"The British Department for Education and Skill...|   [World]|\n",
      "|Sci/Tech|\"confessed author of the Netsky and Sasser viru...|[Sci/Tech]|\n",
      "|Sci/Tech|\\\\FOAF/LOAF  and bloom filters have a lot of in...|[Sci/Tech]|\n",
      "|Sci/Tech|\"Wiltshire Police warns about \"\"phishing\"\" afte...|[Sci/Tech]|\n",
      "|Sci/Tech|In its first two years, the UK's dedicated card...|[Sci/Tech]|\n",
      "|Sci/Tech| A group of technology companies  including Tex...|[Sci/Tech]|\n",
      "|Sci/Tech| Apple Computer Inc.&lt;AAPL.O&gt; on  Tuesday ...|[Sci/Tech]|\n",
      "|Sci/Tech| Free Record Shop, a Dutch music  retail chain,...|[Sci/Tech]|\n",
      "|Sci/Tech|A giant 100km colony of ants  which has been di...|[Sci/Tech]|\n",
      "|Sci/Tech|                      \"Dolphin groups, or \"\"pods\"\"|[Sci/Tech]|\n",
      "|Sci/Tech|Tyrannosaurus rex achieved its massive size due...|[Sci/Tech]|\n",
      "|Sci/Tech|  Scientists have discovered irregular lumps be...|[Sci/Tech]|\n",
      "|Sci/Tech|  ESAs Mars Express has relayed pictures from o...|[Sci/Tech]|\n",
      "|Sci/Tech|When did life begin? One evidential clue stems ...|[Sci/Tech]|\n",
      "|Sci/Tech|update Earnings per share rise compared with a ...|[Business]|\n",
      "|Sci/Tech|By the end of the year, the computing giant pla...|[Sci/Tech]|\n",
      "|Sci/Tech|Developers get early code for new operating sys...|[Sci/Tech]|\n",
      "|Sci/Tech|New technology applies electrical fuses to help...|[Sci/Tech]|\n",
      "|Sci/Tech|Google has billed its IPO as a way for everyday...|[Business]|\n",
      "|Sci/Tech|By MICHAEL LIEDTKE     SAN FRANCISCO (AP) -- Wi...|[Business]|\n",
      "|Sci/Tech|Industry cyber security standards fail to reach...|[Sci/Tech]|\n",
      "|  Sports|Michael Phelps won the gold medal in the 400 in...|  [Sports]|\n",
      "|  Sports|  Looking at his ridiculously developed upper b...|  [Sports]|\n",
      "|  Sports|With the weeks dwindling until Jason Varitek en...|  [Sports]|\n",
      "|  Sports|Just imagine what David Ortiz could do on a goo...|  [Sports]|\n",
      "|  Sports|In  quot;helping themselves, quot; Ricky Bryant...|  [Sports]|\n",
      "|  Sports|The Cleveland Indians pulled within one game of...|  [Sports]|\n",
      "|   World| VANCOUVER (CP)   The sister of a man who died ...|   [World]|\n",
      "|   World| The man who claims Gov. James E. McGreevey sex...|   [World]|\n",
      "|   World| Explosions and gunfire rattled through the cit...|   [World]|\n",
      "|   World|\" A frail Pope John Paul II, breathing heavily ...|   [World]|\n",
      "|   World|Supporters and rivals warn of possible fraud; g...|[Business]|\n",
      "|   World| A 1994 law strengthened job protections for Na...|   [World]|\n",
      "|   World| A senior Iranian military official said  Sunda...|   [World]|\n",
      "|   World| Government troops intervened in Afghanistan's ...|   [World]|\n",
      "|  Sports| Randy Johnson took a four hitter into the nint...|  [Sports]|\n",
      "|Business| Apparel retailers are hoping their back to sch...|[Business]|\n",
      "|   World| If Hurricane Charley had struck three years ag...|   [World]|\n",
      "|Sci/Tech| Shares in Sohu.com, a leading US listed Chines...|[Sci/Tech]|\n",
      "|  Sports| Darin Erstad doubled in the go ahead run in th...|  [Sports]|\n",
      "|  Sports| Outfielder J.D. Drew missed the Atlanta Braves...|  [Sports]|\n",
      "|   World| CARACAS, Venezuela (Reuters) - Venezuelans vot...|   [World]|\n",
      "|Sci/Tech| Dell Inc. &lt;DELL.O&gt;, the world's  largest...|[Sci/Tech]|\n",
      "|   World| Beijing on Monday accused a  Chinese American ...|[Sci/Tech]|\n",
      "|  Sports|Another major, another disappointment for Tiger...|  [Sports]|\n",
      "+--------+--------------------------------------------------+----------+\n",
      "only showing top 50 rows\n",
      "\n"
     ]
    }
   ],
   "source": [
    "preds.select('category','description',\"class.result\").show(50, truncate=50)"
   ]
  },
  {
   "cell_type": "code",
   "execution_count": null,
   "metadata": {
    "colab": {},
    "colab_type": "code",
    "id": "8-JF5_Y9uPFj"
   },
   "outputs": [],
   "source": [
    "preds_df = preds.select('category','description',\"class.result\").toPandas()"
   ]
  },
  {
   "cell_type": "code",
   "execution_count": null,
   "metadata": {
    "colab": {},
    "colab_type": "code",
    "id": "CS2q_OajuZyO"
   },
   "outputs": [],
   "source": [
    "# The result is an array since in Spark NLP you can have multiple sentences.\n",
    "# This means you can add SentenceDetector in the pipeline and feed it into\n",
    "# UniversalSentenceEncoder and you can have prediction based on each sentence.\n",
    "# Let's explode the array and get the item(s) inside of result column out\n",
    "preds_df['result'] = preds_df['result'].apply(lambda x : x[0])"
   ]
  },
  {
   "cell_type": "code",
   "execution_count": null,
   "metadata": {
    "colab": {},
    "colab_type": "code",
    "id": "naAHGWV5ugNX"
   },
   "outputs": [],
   "source": [
    "# We are going to use sklearn to evalute the results on test dataset\n",
    "from sklearn.metrics import classification_report"
   ]
  },
  {
   "cell_type": "code",
   "execution_count": 23,
   "metadata": {
    "colab": {
     "base_uri": "https://localhost:8080/",
     "height": 204
    },
    "colab_type": "code",
    "executionInfo": {
     "elapsed": 596953,
     "status": "ok",
     "timestamp": 1589302623700,
     "user": {
      "displayName": "Christian Kasim Loan",
      "photoUrl": "",
      "userId": "14469489166467359317"
     },
     "user_tz": -120
    },
    "id": "kLeO9u1bunPB",
    "outputId": "695233fe-42c2-4ddb-81a6-7df7543f0027"
   },
   "outputs": [
    {
     "name": "stdout",
     "output_type": "stream",
     "text": [
      "              precision    recall  f1-score   support\n",
      "\n",
      "    Business       0.86      0.84      0.85      1942\n",
      "    Sci/Tech       0.87      0.86      0.87      1928\n",
      "      Sports       0.98      0.95      0.97      1948\n",
      "       World       0.87      0.93      0.90      1782\n",
      "\n",
      "    accuracy                           0.89      7600\n",
      "   macro avg       0.89      0.89      0.89      7600\n",
      "weighted avg       0.89      0.89      0.89      7600\n",
      "\n"
     ]
    }
   ],
   "source": [
    "print (classification_report(preds_df['result'], preds_df['category']))"
   ]
  },
  {
   "cell_type": "code",
   "execution_count": null,
   "metadata": {
    "colab": {},
    "colab_type": "code",
    "id": "3Zlwshvwx4hu"
   },
   "outputs": [],
   "source": []
  }
 ],
 "metadata": {
  "colab": {
   "name": "ClassifierDL_Train_multi_class_news_category_classifier.ipynb",
   "provenance": []
  },
  "kernelspec": {
   "display_name": "Python 3",
   "language": "python",
   "name": "python3"
  },
  "language_info": {
   "codemirror_mode": {
    "name": "ipython",
    "version": 3
   },
   "file_extension": ".py",
   "mimetype": "text/x-python",
   "name": "python",
   "nbconvert_exporter": "python",
   "pygments_lexer": "ipython3",
   "version": "3.8.2"
  },
  "nteract": {
   "version": "0.21.0"
  }
 },
 "nbformat": 4,
 "nbformat_minor": 4
}
