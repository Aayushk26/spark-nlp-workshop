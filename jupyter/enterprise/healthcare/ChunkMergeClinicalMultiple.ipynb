{
  "nbformat": 4,
  "nbformat_minor": 0,
  "metadata": {
    "colab": {
      "name": "ChunkMergeClinicalMultiple.ipynb",
      "provenance": [],
      "collapsed_sections": []
    },
    "kernelspec": {
      "display_name": "jsl250",
      "language": "python",
      "name": "jsl250"
    },
    "language_info": {
      "codemirror_mode": {
        "name": "ipython",
        "version": 3
      },
      "file_extension": ".py",
      "mimetype": "text/x-python",
      "name": "python",
      "nbconvert_exporter": "python",
      "pygments_lexer": "ipython3",
      "version": "3.6.9"
    }
  },
  "cells": [
    {
      "cell_type": "markdown",
      "metadata": {
        "id": "sQFJ6aT4nfhw",
        "colab_type": "text"
      },
      "source": [
        "[![Open In Colab](https://colab.research.google.com/assets/colab-badge.svg)](https://colab.research.google.com/github/JohnSnowLabs/spark-nlp-workshop/blob/master/jupyter/enterprise/healthcare/ChunkMergeClinicalMultiple.ipynb)"
      ]
    },
    {
      "cell_type": "code",
      "metadata": {
        "colab_type": "code",
        "id": "MdE588BiY3z1",
        "outputId": "ee06310e-5822-4ac4-f057-4a99e0af6bb7",
        "colab": {
          "base_uri": "https://localhost:8080/",
          "height": 34
        }
      },
      "source": [
        "import json\n",
        "\n",
        "with open('keys.json') as f:\n",
        "    license_keys = json.load(f)\n",
        "\n",
        "license_keys.keys()\n"
      ],
      "execution_count": 6,
      "outputs": [
        {
          "output_type": "execute_result",
          "data": {
            "text/plain": [
              "dict_keys(['secret', 'SPARK_NLP_LICENSE', 'JSL_OCR_LICENSE', 'AWS_ACCESS_KEY_ID', 'AWS_SECRET_ACCESS_KEY', 'JSL_OCR_SECRET'])"
            ]
          },
          "metadata": {
            "tags": []
          },
          "execution_count": 6
        }
      ]
    },
    {
      "cell_type": "code",
      "metadata": {
        "colab_type": "code",
        "id": "FVFdvGChZDDP",
        "outputId": "b2d6f437-8709-4a1b-9321-bd7f1c33a235",
        "colab": {
          "base_uri": "https://localhost:8080/",
          "height": 255
        }
      },
      "source": [
        "import os\n",
        "\n",
        "# Install java\n",
        "! apt-get install -y openjdk-8-jdk-headless -qq > /dev/null\n",
        "os.environ[\"JAVA_HOME\"] = \"/usr/lib/jvm/java-8-openjdk-amd64\"\n",
        "os.environ[\"PATH\"] = os.environ[\"JAVA_HOME\"] + \"/bin:\" + os.environ[\"PATH\"]\n",
        "! java -version\n",
        "\n",
        "# Install pyspark\n",
        "! pip install --ignore-installed -q pyspark==2.4.4\n",
        "\n",
        "secret = license_keys['secret']\n",
        "os.environ['SPARK_NLP_LICENSE'] = license_keys['SPARK_NLP_LICENSE']\n",
        "os.environ['JSL_OCR_LICENSE'] = license_keys['JSL_OCR_LICENSE']\n",
        "os.environ['AWS_ACCESS_KEY_ID']= license_keys['AWS_ACCESS_KEY_ID']\n",
        "os.environ['AWS_SECRET_ACCESS_KEY'] = license_keys['AWS_SECRET_ACCESS_KEY']\n",
        "\n",
        "! python -m pip install --upgrade spark-nlp-jsl==2.5.2  --extra-index-url https://pypi.johnsnowlabs.com/$secret\n",
        "\n",
        "import sparknlp\n",
        "\n",
        "print (sparknlp.version())\n",
        "\n",
        "import json\n",
        "import os\n",
        "from pyspark.ml import Pipeline\n",
        "from pyspark.sql import SparkSession\n",
        "\n",
        "\n",
        "from sparknlp.annotator import *\n",
        "from sparknlp_jsl.annotator import *\n",
        "from sparknlp.base import *\n",
        "import sparknlp_jsl\n",
        "\n",
        "\n",
        "\n",
        "def start(secret):\n",
        "    builder = SparkSession.builder \\\n",
        "        .appName(\"Spark NLP Licensed\") \\\n",
        "        .master(\"local[*]\") \\\n",
        "        .config(\"spark.driver.memory\", \"16G\") \\\n",
        "        .config(\"spark.serializer\", \"org.apache.spark.serializer.KryoSerializer\") \\\n",
        "        .config(\"spark.kryoserializer.buffer.max\", \"2000M\") \\\n",
        "        .config(\"spark.jars.packages\", \"com.johnsnowlabs.nlp:spark-nlp_2.11:2.5.2\") \\\n",
        "        .config(\"spark.jars\", \"https://pypi.johnsnowlabs.com/\"+secret+\"/spark-nlp-jsl-2.5.2.jar\")\n",
        "      \n",
        "    return builder.getOrCreate()\n",
        "\n",
        "\n",
        "spark = start(secret) # if you want to start the session with custom params as in start function above\n",
        "# sparknlp_jsl.start(secret)"
      ],
      "execution_count": 8,
      "outputs": [
        {
          "output_type": "stream",
          "text": [
            "openjdk version \"1.8.0_252\"\n",
            "OpenJDK Runtime Environment (build 1.8.0_252-8u252-b09-1~18.04-b09)\n",
            "OpenJDK 64-Bit Server VM (build 25.252-b09, mixed mode)\n",
            "Looking in indexes: https://pypi.org/simple, https://pypi.johnsnowlabs.com/9hk9l8ybo1\n",
            "Collecting spark-nlp-jsl==2.5.1rc1\n",
            "  Downloading https://pypi.johnsnowlabs.com/9hk9l8ybo1/spark-nlp-jsl/spark_nlp_jsl-2.5.1rc1-py3-none-any.whl\n",
            "Collecting spark-nlp==2.5.1\n",
            "\u001b[?25l  Downloading https://files.pythonhosted.org/packages/df/b4/db653f8080a446de8ce981b262d85c85c61de7e920930726da0d1c6b4c65/spark_nlp-2.5.1-py2.py3-none-any.whl (121kB)\n",
            "\u001b[K     |████████████████████████████████| 122kB 3.5MB/s \n",
            "\u001b[?25hRequirement already satisfied, skipping upgrade: pyspark==2.4.4 in /usr/local/lib/python3.6/dist-packages (from spark-nlp-jsl==2.5.1rc1) (2.4.4)\n",
            "Requirement already satisfied, skipping upgrade: py4j==0.10.7 in /usr/local/lib/python3.6/dist-packages (from pyspark==2.4.4->spark-nlp-jsl==2.5.1rc1) (0.10.7)\n",
            "Installing collected packages: spark-nlp, spark-nlp-jsl\n",
            "Successfully installed spark-nlp-2.5.1 spark-nlp-jsl-2.5.1rc1\n",
            "2.5.1\n"
          ],
          "name": "stdout"
        }
      ]
    },
    {
      "cell_type": "code",
      "metadata": {
        "colab_type": "code",
        "id": "1zgsiTxjaiMd",
        "colab": {}
      },
      "source": [
        "# Sample data\n",
        "data_chunk_merge = spark.createDataFrame([\n",
        "  (1,\"\"\"A 63-year-old man presents to the hospital with a history of recurrent infections that include cellulitis, pneumonias, and upper respiratory tract infections. He reports subjective fevers at home along with unintentional weight loss and occasional night sweats. The patient has a remote history of arthritis, which was diagnosed approximately 20 years ago and treated intermittently with methotrexate (MTX) and prednisone. On physical exam, he is found to be febrile at 102°F, rather cachectic, pale, and have hepatosplenomegaly. Several swollen joints that are tender to palpation and have decreased range of motion are also present. His laboratory values show pancytopenia with the most severe deficiency in neutrophils.\n",
        "\"\"\")]).toDF(\"id\",\"text\")"
      ],
      "execution_count": 0,
      "outputs": []
    },
    {
      "cell_type": "code",
      "metadata": {
        "id": "4vKMPIO5nfiV",
        "colab_type": "code",
        "colab": {}
      },
      "source": [
        ""
      ],
      "execution_count": 0,
      "outputs": []
    },
    {
      "cell_type": "code",
      "metadata": {
        "colab_type": "code",
        "id": "weY5V9h7ZDf0",
        "outputId": "5902e0fa-a42a-4fb5-e6ce-66d5a641abdc",
        "colab": {
          "base_uri": "https://localhost:8080/",
          "height": 68
        }
      },
      "source": [
        "# Preprocessing pipeline\n",
        "da = DocumentAssembler().setInputCol(\"text\").setOutputCol(\"document\")\n",
        "sd = SentenceDetector().setInputCols(\"document\").setOutputCol(\"sentence\")\n",
        "tk = Tokenizer().setInputCols(\"sentence\").setOutputCol(\"token\")\n",
        "emb = WordEmbeddingsModel.pretrained(\"embeddings_clinical\",\"en\",\"clinical/models\").setOutputCol(\"embs\")\n"
      ],
      "execution_count": 10,
      "outputs": [
        {
          "output_type": "stream",
          "text": [
            "embeddings_clinical download started this may take some time.\n",
            "Approximate size to download 1.6 GB\n",
            "[OK!]\n"
          ],
          "name": "stdout"
        }
      ]
    },
    {
      "cell_type": "code",
      "metadata": {
        "id": "ku85AU_Rnfir",
        "colab_type": "code",
        "colab": {}
      },
      "source": [
        "# Ners names and column names for each ner\n",
        "from collections import OrderedDict\n",
        "ners_to_merge = OrderedDict({\"ner_deid_large\":\"deid\", \"ner_bionlp\":\"bio\", \"ner_jsl\":\"jsl\"})"
      ],
      "execution_count": 0,
      "outputs": []
    },
    {
      "cell_type": "code",
      "metadata": {
        "id": "7LYvNOPZnfi2",
        "colab_type": "code",
        "colab": {
          "base_uri": "https://localhost:8080/",
          "height": 170
        },
        "outputId": "016ffdee-a605-4f81-fcc6-c6db425e4c97"
      },
      "source": [
        "# Build the graph\n",
        "ner_pl = []\n",
        "for ner, out in ners_to_merge.items():\n",
        "    first = len(ner_pl)==0\n",
        "    ner_pl.append(NerDLModel.pretrained(ner,\"en\",\"clinical/models\").setInputCols(\"sentence\",\"token\",\"embs\").setOutputCol(out))\n",
        "    ner_pl.append(NerConverter().setInputCols(\"sentence\",\"token\",out).setOutputCol(out+\"_chunk\"))\n",
        "    if not first:\n",
        "        ner_pl.append(ChunkMergeApproach().setInputCols(prev+\"_chunk\", out+\"_chunk\").setOutputCol(out+\"_chunk\"))\n",
        "    prev = out\n",
        "\n",
        "\n",
        "pl = Pipeline().setStages([da,sd,tk,emb] + ner_pl)"
      ],
      "execution_count": 12,
      "outputs": [
        {
          "output_type": "stream",
          "text": [
            "ner_deid_large download started this may take some time.\n",
            "Approximate size to download 14 MB\n",
            "[OK!]\n",
            "ner_bionlp download started this may take some time.\n",
            "Approximate size to download 13.9 MB\n",
            "[OK!]\n",
            "ner_jsl download started this may take some time.\n",
            "Approximate size to download 14 MB\n",
            "[OK!]\n"
          ],
          "name": "stdout"
        }
      ]
    },
    {
      "cell_type": "code",
      "metadata": {
        "id": "JMI6QDcunfjI",
        "colab_type": "code",
        "colab": {}
      },
      "source": [
        "merged_data = pl.fit(data_chunk_merge).transform(data_chunk_merge).cache()"
      ],
      "execution_count": 0,
      "outputs": []
    },
    {
      "cell_type": "code",
      "metadata": {
        "id": "K9lX8WOwnfjP",
        "colab_type": "code",
        "colab": {}
      },
      "source": [
        ""
      ],
      "execution_count": 0,
      "outputs": []
    },
    {
      "cell_type": "code",
      "metadata": {
        "colab_type": "code",
        "id": "dpLba4tAbPiW",
        "colab": {
          "base_uri": "https://localhost:8080/",
          "height": 527
        },
        "outputId": "18a7434c-83b9-4c84-cfcd-00db230b97c7"
      },
      "source": [
        "out_col = list(ners_to_merge.values())[-1]+\"_chunk\"\n",
        "merged_data.selectExpr(\"id\",f\"explode({out_col}) as a\")\\\n",
        ".selectExpr(\"id\",\"a.begin\",\"a.end\",\"a.result as chunk\",\"a.metadata.entity as entity\").show(100, False)"
      ],
      "execution_count": 16,
      "outputs": [
        {
          "output_type": "stream",
          "text": [
            "+---+-----+---+----------------------------------+----------------------+\n",
            "|id |begin|end|chunk                             |entity                |\n",
            "+---+-----+---+----------------------------------+----------------------+\n",
            "|1  |2    |12 |63-year-old                       |Age                   |\n",
            "|1  |14   |16 |man                               |Organism              |\n",
            "|1  |61   |69 |recurrent                         |Modifier              |\n",
            "|1  |95   |104|cellulitis                        |Diagnosis             |\n",
            "|1  |107  |116|pneumonias                        |Diagnosis             |\n",
            "|1  |123  |156|upper respiratory tract infections|Diagnosis             |\n",
            "|1  |159  |160|He                                |Gender                |\n",
            "|1  |170  |179|subjective                        |Modifier              |\n",
            "|1  |181  |186|fevers                            |Symptom_Name          |\n",
            "|1  |237  |246|occasional                        |Modifier              |\n",
            "|1  |248  |259|night sweats                      |Symptom_Name          |\n",
            "|1  |266  |272|patient                           |Organism              |\n",
            "|1  |298  |306|arthritis                         |Diagnosis             |\n",
            "|1  |343  |344|20                                |Age                   |\n",
            "|1  |388  |399|methotrexate                      |Simple_chemical       |\n",
            "|1  |402  |405|MTX)                              |Drug_Name             |\n",
            "|1  |411  |420|prednisone                        |Simple_chemical       |\n",
            "|1  |441  |442|he                                |Gender                |\n",
            "|1  |459  |465|febrile                           |Symptom_Name          |\n",
            "|1  |510  |527|hepatosplenomegaly                |Symptom_Name          |\n",
            "|1  |530  |536|Several                           |Modifier              |\n",
            "|1  |538  |551|swollen joints                    |Multi-tissue_structure|\n",
            "|1  |635  |637|His                               |Gender                |\n",
            "|1  |662  |673|pancytopenia                      |Symptom_Name          |\n",
            "|1  |710  |720|neutrophils                       |Cell                  |\n",
            "+---+-----+---+----------------------------------+----------------------+\n",
            "\n"
          ],
          "name": "stdout"
        }
      ]
    },
    {
      "cell_type": "code",
      "metadata": {
        "id": "NYsZ3KsCnw0y",
        "colab_type": "code",
        "colab": {}
      },
      "source": [
        ""
      ],
      "execution_count": 0,
      "outputs": []
    }
  ]
}