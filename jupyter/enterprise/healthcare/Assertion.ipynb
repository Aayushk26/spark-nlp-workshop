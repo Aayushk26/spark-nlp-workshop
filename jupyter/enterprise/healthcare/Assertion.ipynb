{
  "nbformat": 4,
  "nbformat_minor": 0,
  "metadata": {
    "kernelspec": {
      "display_name": "jsl368",
      "language": "python",
      "name": "jsl368"
    },
    "language_info": {
      "codemirror_mode": {
        "name": "ipython",
        "version": 3
      },
      "file_extension": ".py",
      "mimetype": "text/x-python",
      "name": "python",
      "nbconvert_exporter": "python",
      "pygments_lexer": "ipython3",
      "version": "3.6.8"
    },
    "colab": {
      "name": "Clinical-Entity-Assertion.ipynb",
      "provenance": [],
      "toc_visible": true
    }
  },
  "cells": [
    {
      "cell_type": "markdown",
      "metadata": {
        "id": "0Xn2cfVZUYSh",
        "colab_type": "text"
      },
      "source": [
        "[![Open In Colab](https://colab.research.google.com/assets/colab-badge.svg)](https://colab.research.google.com/github/JohnSnowLabs/spark-nlp-workshop/blob/master/jupyter/enterprise/healthcare/Assertion.ipynb)"
      ]
    },
    {
      "cell_type": "markdown",
      "metadata": {
        "id": "7GZuAzJYTzz0",
        "colab_type": "text"
      },
      "source": [
        "<img src=\"https://nlp.johnsnowlabs.com/assets/images/logo.png\" width=\"180\" height=\"50\" style=\"float: left;\">"
      ]
    },
    {
      "cell_type": "code",
      "metadata": {
        "id": "f4BdwqEIUQ1d",
        "colab_type": "code",
        "colab": {
          "base_uri": "https://localhost:8080/",
          "height": 34
        },
        "outputId": "b793d709-41f7-46c2-d5c0-2331d887e8b8"
      },
      "source": [
        "import json\n",
        "\n",
        "with open('251keys.json') as f:\n",
        "    license_keys = json.load(f)\n",
        "\n",
        "license_keys.keys()\n"
      ],
      "execution_count": 2,
      "outputs": [
        {
          "output_type": "execute_result",
          "data": {
            "text/plain": [
              "dict_keys(['secret', 'SPARK_NLP_LICENSE', 'JSL_OCR_LICENSE', 'AWS_ACCESS_KEY_ID', 'AWS_SECRET_ACCESS_KEY', 'JSL_OCR_SECRET'])"
            ]
          },
          "metadata": {
            "tags": []
          },
          "execution_count": 2
        }
      ]
    },
    {
      "cell_type": "markdown",
      "metadata": {
        "id": "_9yF5h8JTzz2",
        "colab_type": "text"
      },
      "source": [
        "# Clinical Entity Recognition with Assertion - version 2.3.4\n",
        "\n",
        "## Example for Named Entity Recognition with Assertion Pipeline\n",
        "\n",
        "A common NLP problem in biomedical aplications is to identify the presence of clinical entities in a given text. This clinical entities could be diseases, symptoms, drugs, results of clinical investigations or others.\n",
        "\n",
        "But just identifying the presence of a clinical entity in an unestructured content is not enough for most of real world applications. As clinical care is full of uncertainty, in practice many of the entities refered in a medical record will not be really present in the patient but are mentioned just as working hypothesis, or identify a condition that want to be ruled out by means of a complementary test, or a condition being prevented by an intervention (for instance \"patient was vaccinated against hepatitis B\" does not imply that patient suffering from hepatitis B). In other cases a disease is mentioned associated with a relative of the patient (as in \"Father with Alzheimer disease\") as those family history is a risk factor in diseases with a genetic component.\n",
        "\n",
        "In order to extract this information from the content the Spark-NLP enterprise version includes an Assertion annotator that based in a Machine Learning pretrained model will assign, for every entity identified, a tag that informs about the nature of that entity in terms of certainty: \"present\", \"absent\", \"hypothesis\", \"conditional\", \"associated_with_other_person\", etc.\n",
        "\n",
        "In this example we will use Spark-NLP to identify some entities present in a a list of sentences adding an assertion about their certainty."
      ]
    },
    {
      "cell_type": "markdown",
      "metadata": {
        "id": "6UxqjnNHUt7i",
        "colab_type": "text"
      },
      "source": [
        "### Step 1. Environment Setup"
      ]
    },
    {
      "cell_type": "code",
      "metadata": {
        "id": "2cMOa3smUyKy",
        "colab_type": "code",
        "colab": {
          "base_uri": "https://localhost:8080/",
          "height": 306
        },
        "outputId": "353f4d9f-b843-44c4-9458-c25285733663"
      },
      "source": [
        "\n",
        "# Install java\n",
        "import os\n",
        "\n",
        "! apt-get install -y openjdk-8-jdk-headless -qq > /dev/null\n",
        "os.environ[\"JAVA_HOME\"] = \"/usr/lib/jvm/java-8-openjdk-amd64\"\n",
        "os.environ[\"PATH\"] = os.environ[\"JAVA_HOME\"] + \"/bin:\" + os.environ[\"PATH\"]\n",
        "! java -version\n",
        "\n",
        "secret = license_keys['secret']\n",
        "os.environ['SPARK_NLP_LICENSE'] = license_keys['SPARK_NLP_LICENSE']\n",
        "os.environ['JSL_OCR_LICENSE'] = license_keys['JSL_OCR_LICENSE']\n",
        "os.environ['AWS_ACCESS_KEY_ID']= license_keys['AWS_ACCESS_KEY_ID']\n",
        "os.environ['AWS_SECRET_ACCESS_KEY'] = license_keys['AWS_SECRET_ACCESS_KEY']\n",
        "\n",
        "! python -m pip install --upgrade spark-nlp-jsl==2.5.1rc1  --extra-index-url https://pypi.johnsnowlabs.com/$secret\n",
        "\n",
        "import sparknlp\n",
        "\n",
        "print (sparknlp.version())\n",
        "\n",
        "import json\n",
        "from pyspark.ml import Pipeline\n",
        "from pyspark.sql import SparkSession\n",
        "\n",
        "\n",
        "from sparknlp.annotator import *\n",
        "from sparknlp_jsl.annotator import *\n",
        "from sparknlp.base import *\n",
        "import sparknlp_jsl\n",
        "\n",
        "\n",
        "\n",
        "def start(secret):\n",
        "    builder = SparkSession.builder \\\n",
        "        .appName(\"Spark NLP Licensed\") \\\n",
        "        .master(\"local[*]\") \\\n",
        "        .config(\"spark.driver.memory\", \"16G\") \\\n",
        "        .config(\"spark.serializer\", \"org.apache.spark.serializer.KryoSerializer\") \\\n",
        "        .config(\"spark.kryoserializer.buffer.max\", \"2000M\") \\\n",
        "        .config(\"spark.jars.packages\", \"com.johnsnowlabs.nlp:spark-nlp_2.11:2.5.1\") \\\n",
        "        .config(\"spark.jars\", \"https://pypi.johnsnowlabs.com/\"+secret+\"/spark-nlp-jsl-2.5.1rc1.jar\")\n",
        "      \n",
        "    return builder.getOrCreate()\n",
        "\n",
        "\n",
        "spark = start(secret) # if you want to start the session with custom params as in start function above\n",
        "# sparknlp_jsl.start(secret)"
      ],
      "execution_count": 4,
      "outputs": [
        {
          "output_type": "stream",
          "text": [
            "openjdk version \"1.8.0_252\"\n",
            "OpenJDK Runtime Environment (build 1.8.0_252-8u252-b09-1~18.04-b09)\n",
            "OpenJDK 64-Bit Server VM (build 25.252-b09, mixed mode)\n",
            "\u001b[K     |████████████████████████████████| 215.7MB 63kB/s \n",
            "\u001b[K     |████████████████████████████████| 204kB 37.6MB/s \n",
            "\u001b[?25h  Building wheel for pyspark (setup.py) ... \u001b[?25l\u001b[?25hdone\n",
            "Looking in indexes: https://pypi.org/simple, https://pypi.johnsnowlabs.com/9hk9l8ybo1\n",
            "Collecting spark-nlp-jsl==2.5.1rc1\n",
            "  Downloading https://pypi.johnsnowlabs.com/9hk9l8ybo1/spark-nlp-jsl/spark_nlp_jsl-2.5.1rc1-py3-none-any.whl\n",
            "Collecting spark-nlp==2.5.1\n",
            "\u001b[?25l  Downloading https://files.pythonhosted.org/packages/df/b4/db653f8080a446de8ce981b262d85c85c61de7e920930726da0d1c6b4c65/spark_nlp-2.5.1-py2.py3-none-any.whl (121kB)\n",
            "\u001b[K     |████████████████████████████████| 122kB 5.1MB/s \n",
            "\u001b[?25hRequirement already satisfied, skipping upgrade: pyspark==2.4.4 in /usr/local/lib/python3.6/dist-packages (from spark-nlp-jsl==2.5.1rc1) (2.4.4)\n",
            "Requirement already satisfied, skipping upgrade: py4j==0.10.7 in /usr/local/lib/python3.6/dist-packages (from pyspark==2.4.4->spark-nlp-jsl==2.5.1rc1) (0.10.7)\n",
            "Installing collected packages: spark-nlp, spark-nlp-jsl\n",
            "Successfully installed spark-nlp-2.5.1 spark-nlp-jsl-2.5.1rc1\n",
            "2.5.1\n"
          ],
          "name": "stdout"
        }
      ]
    },
    {
      "cell_type": "markdown",
      "metadata": {
        "id": "guVWWWtYTz0M",
        "colab_type": "text"
      },
      "source": [
        "### Step 2. Clinical NER Pipeline creation\n",
        "\n",
        "In Spark-NLP annotating NLP happens through pipelines. Pipelines are made out of various Annotator steps. In our case the architecture of the Clinical Named Entity Recognition pipeline with Assertion will be:\n",
        "\n",
        "* DocumentAssembler (text -> document)\n",
        "* SentenceDetector (document -> sentence)\n",
        "* Tokenizer (sentence -> token)\n",
        "* WordEmbeddingsModel ([sentence, token] -> embeddings)\n",
        "* NerDLModel ([sentence, token, embeddings] -> ner)\n",
        "* NerConverter([sentence, token, ner] -> ner_chunk)\n",
        "* AssertionLogRegModel ([sentence, ner_chunk, embeddings] -> assertion)\n",
        "\n",
        "So from a text we end having a list of Named Entities (Patient problems, Treatments and Tests) along with their certainty assertion tags."
      ]
    },
    {
      "cell_type": "markdown",
      "metadata": {
        "id": "5X4odV4rTz0N",
        "colab_type": "text"
      },
      "source": [
        "#### Step 2.1 Initialize all the annotators required by the pipeline\n",
        "\n",
        "The first 3 annotators of the pipeline are \"DocumentAssembler\", \"SentenceDectector\" and \"Tokenizer\":"
      ]
    },
    {
      "cell_type": "code",
      "metadata": {
        "id": "qonhIRzFTz0O",
        "colab_type": "code",
        "colab": {}
      },
      "source": [
        "# Annotator that transforms a text column from dataframe into an Annotation ready for NLP\n",
        "\n",
        "documentAssembler = DocumentAssembler()\\\n",
        "  .setInputCol(\"text\")\\\n",
        "  .setOutputCol(\"document\")\n",
        "\n",
        "# Sentence Detector annotator, processes various sentences per line\n",
        "\n",
        "sentenceDetector = SentenceDetector()\\\n",
        "  .setInputCols([\"document\"])\\\n",
        "  .setOutputCol(\"sentence\")\n",
        "\n",
        "# Tokenizer splits words in a relevant format for NLP\n",
        "\n",
        "tokenizer = Tokenizer()\\\n",
        "  .setInputCols([\"sentence\"])\\\n",
        "  .setOutputCol(\"token\")"
      ],
      "execution_count": 0,
      "outputs": []
    },
    {
      "cell_type": "markdown",
      "metadata": {
        "id": "AbBRaz5CTz0S",
        "colab_type": "text"
      },
      "source": [
        "The fourth annotator in the pipeline is \"WordEmbeddingsModel\". We will download a pretrained model available from \"clinical/models\" named \"embeddings_clinical\".\n",
        "\n",
        "When running this cell your are advised to be patient. \n",
        "\n",
        "First time you call this pretrained model it needs to be downloaded in your local.\n",
        "\n",
        "The model size is about will download the embeddings_clinical corpus it takes a while.\n",
        "\n",
        "The size is about 1.7Gb and will be saved typically in your home folder as\n",
        "\n",
        "    ~HOMEFOLDER/cached_models/embeddings_clinical_en_2.0.2_2.4_1558454742956.zip\n",
        "\n",
        "Next times you call it the model is loaded from your cached copy but even in that case it needs to be indexed each time so expect waiting up to 5 minutes (depending on your machine)"
      ]
    },
    {
      "cell_type": "code",
      "metadata": {
        "id": "cNiujLC6Tz0T",
        "colab_type": "code",
        "colab": {
          "base_uri": "https://localhost:8080/",
          "height": 68
        },
        "outputId": "e89d0900-cc6d-4fa5-e6ef-90adf9f345b2"
      },
      "source": [
        "word_embeddings = WordEmbeddingsModel.pretrained(\"embeddings_clinical\", \"en\", \"clinical/models\")\\\n",
        "  .setInputCols([\"sentence\", \"token\"])\\\n",
        "  .setOutputCol(\"embeddings\")"
      ],
      "execution_count": 6,
      "outputs": [
        {
          "output_type": "stream",
          "text": [
            "embeddings_clinical download started this may take some time.\n",
            "Approximate size to download 1.6 GB\n",
            "[OK!]\n"
          ],
          "name": "stdout"
        }
      ]
    },
    {
      "cell_type": "markdown",
      "metadata": {
        "id": "6h75ZQADTz0Z",
        "colab_type": "text"
      },
      "source": [
        "The next annotator in our pipeline is the pretrained \"ner_clinical\" NerDLModel avaliable from \"clinical/models\". It requires as input the \"sentence\", \"token\" and \"embeddings\" (clinical embeddings pretrained model) and will classify each token in four categories:\n",
        "<ol>\n",
        "    <li>PROBLEM: for patient problems</li>\n",
        "    <li>TEST: for tests, labs, etc.</li>\n",
        "    <li>TREATMENT: for treatments, medicines, etc.</li>\n",
        "    <li>OTHER: for the rest of tokens.</li>\n",
        "</ol>\n",
        "\n",
        "In order to split those identified NER that are consecutive, the B prefix (as B-PROBLEM) will be used at the first token of each NER. The I prefix (as I-PROBLEM) will be used for the rest of tokens inside the NER."
      ]
    },
    {
      "cell_type": "code",
      "metadata": {
        "id": "mroxK47xTz0a",
        "colab_type": "code",
        "colab": {
          "base_uri": "https://localhost:8080/",
          "height": 68
        },
        "outputId": "3fa418b6-d98a-47f0-8919-cb14a8800f65"
      },
      "source": [
        "# Named Entity Recognition for clinical concepts. Includes #Problems #Diagnostics\n",
        "\n",
        "#switch to ner_clinical instead of _noncontrib for better performance, if you are in Linux or MAC\n",
        "clinical_ner = NerDLModel.pretrained(\"ner_clinical\", \"en\", \"clinical/models\") \\\n",
        "  .setInputCols([\"sentence\", \"token\", \"embeddings\"]) \\\n",
        "  .setOutputCol(\"ner\")"
      ],
      "execution_count": 7,
      "outputs": [
        {
          "output_type": "stream",
          "text": [
            "ner_clinical download started this may take some time.\n",
            "Approximate size to download 13.8 MB\n",
            "[OK!]\n"
          ],
          "name": "stdout"
        }
      ]
    },
    {
      "cell_type": "markdown",
      "metadata": {
        "id": "my-Bz_nnTz0e",
        "colab_type": "text"
      },
      "source": [
        "The Assertion annotator requires as an input the NER entities in a chunked format so we need the NerConverter annotator to generate that \"ner_chunk\" column in the Spark dataframe."
      ]
    },
    {
      "cell_type": "code",
      "metadata": {
        "id": "gJsezUAGTz0e",
        "colab_type": "code",
        "colab": {}
      },
      "source": [
        "# Named Entity Recognition concepts parser, transforms entities into CHUNKS (required for next step: assertion status)\n",
        "\n",
        "ner_converter = NerConverter() \\\n",
        "  .setInputCols([\"sentence\", \"token\", \"ner\"]) \\\n",
        "  .setOutputCol(\"ner_chunk\")"
      ],
      "execution_count": 0,
      "outputs": []
    },
    {
      "cell_type": "markdown",
      "metadata": {
        "id": "sVOzXYs2Tz0j",
        "colab_type": "text"
      },
      "source": [
        "Finally the pretrained AssertionLogRegModel named \"assertion_ml\" is included. It will classify each named entity into its assertion type: \"present\", \"absent\", \"hypothetical\", \"conditional\", \"associated_with_other_person\", etc."
      ]
    },
    {
      "cell_type": "code",
      "metadata": {
        "id": "is4OluxWTz0k",
        "colab_type": "code",
        "colab": {
          "base_uri": "https://localhost:8080/",
          "height": 68
        },
        "outputId": "b9042dbf-7d39-4e4b-e386-0d93e4d21901"
      },
      "source": [
        "# Assertion Status, verifies whether a particular subject wears a condition or not, and labels the condition by status\n",
        "\n",
        "assertion = AssertionDLModel.pretrained(\"assertion_dl\", \"en\", \"clinical/models\") \\\n",
        "  .setInputCols([\"sentence\", \"ner_chunk\", \"embeddings\"]) \\\n",
        "  .setOutputCol(\"assertion\")"
      ],
      "execution_count": 9,
      "outputs": [
        {
          "output_type": "stream",
          "text": [
            "assertion_dl download started this may take some time.\n",
            "Approximate size to download 1.3 MB\n",
            "[OK!]\n"
          ],
          "name": "stdout"
        }
      ]
    },
    {
      "cell_type": "markdown",
      "metadata": {
        "id": "5FvBqcTaTz02",
        "colab_type": "text"
      },
      "source": [
        "#### Step 2.2 Define the NER pipeline\n",
        "\n",
        "Now we will define the actual pipeline that puts together the annotators we have created."
      ]
    },
    {
      "cell_type": "code",
      "metadata": {
        "id": "D17CPDrMTz04",
        "colab_type": "code",
        "colab": {}
      },
      "source": [
        "# Build up the pipeline\n",
        "\n",
        "pipeline = Pipeline(\n",
        "    stages = [\n",
        "    documentAssembler,\n",
        "    sentenceDetector,\n",
        "    tokenizer,\n",
        "    word_embeddings,\n",
        "    clinical_ner,\n",
        "    ner_converter,\n",
        "    assertion\n",
        "  ])"
      ],
      "execution_count": 0,
      "outputs": []
    },
    {
      "cell_type": "markdown",
      "metadata": {
        "id": "CPxiJ1cwTz09",
        "colab_type": "text"
      },
      "source": [
        "### Step 3 Create a SparkDataFrame with the content\n",
        "\n",
        "Now we will create a sample Spark dataframe with some sentences. In production environments a table with several of those sentences could be distributed in a cluster and be run in large scale systems."
      ]
    },
    {
      "cell_type": "code",
      "metadata": {
        "id": "CgMMH9lGTz0-",
        "colab_type": "code",
        "colab": {
          "base_uri": "https://localhost:8080/",
          "height": 204
        },
        "outputId": "d557f969-1831-40d2-96d5-4171b8f86da8"
      },
      "source": [
        "# We want to know more about this simple dataframe\n",
        "\n",
        "data = spark.createDataFrame([\n",
        "  [\"Patient with severe feber and sore throat\"],\n",
        "  [\"Patient shows no stomach pain\"],\n",
        "  [\"She was maintained on an epidural and PCA for pain control.\"],\n",
        "  [\"He also became short of breath when climbing a flight of stairs.\"],\n",
        "  [\"Lung tumour located at the right lower lobe\"],\n",
        "  [\"Father with Alzheimer.\"]\n",
        "]).toDF(\"text\")\n",
        "\n",
        "data.show(truncate=False)"
      ],
      "execution_count": 15,
      "outputs": [
        {
          "output_type": "stream",
          "text": [
            "+----------------------------------------------------------------+\n",
            "|text                                                            |\n",
            "+----------------------------------------------------------------+\n",
            "|Patient with severe feber and sore throat                       |\n",
            "|Patient shows no stomach pain                                   |\n",
            "|She was maintained on an epidural and PCA for pain control.     |\n",
            "|He also became short of breath when climbing a flight of stairs.|\n",
            "|Lung tumour located at the right lower lobe                     |\n",
            "|Father with Alzheimer.                                          |\n",
            "+----------------------------------------------------------------+\n",
            "\n"
          ],
          "name": "stdout"
        }
      ]
    },
    {
      "cell_type": "markdown",
      "metadata": {
        "id": "L0cRffnHTz1J",
        "colab_type": "text"
      },
      "source": [
        "### Step 4 Create a model fiting the NER pipeline with the clinical note.\n",
        "\n",
        "Now we can use the pipeline and the sentences to generate a model."
      ]
    },
    {
      "cell_type": "code",
      "metadata": {
        "id": "bmvdZ0GqTz1K",
        "colab_type": "code",
        "colab": {}
      },
      "source": [
        "# We convert the pipeline into a model, train any annotator if required (not the case)\n",
        "\n",
        "model = pipeline.fit(data)"
      ],
      "execution_count": 0,
      "outputs": []
    },
    {
      "cell_type": "markdown",
      "metadata": {
        "id": "9cr4M2FyTz1f",
        "colab_type": "text"
      },
      "source": [
        "### Step 5 Transform/annotate the sentences using the model.\n",
        "\n",
        "In order to process the data with the new created model we apply a transformation.\n",
        "\n",
        "This will save in a Spakr DataFrame (output) the resuls of running the model over the clinical note. \n"
      ]
    },
    {
      "cell_type": "code",
      "metadata": {
        "id": "0HUpz0s_Tz1g",
        "colab_type": "code",
        "colab": {}
      },
      "source": [
        "output = model.transform(data)"
      ],
      "execution_count": 0,
      "outputs": []
    },
    {
      "cell_type": "markdown",
      "metadata": {
        "id": "w7hIVX8QTz1n",
        "colab_type": "text"
      },
      "source": [
        "Lets print a column with the Named Entities chunked and a column with the assertion classification assigned by the model.\n",
        "\n",
        "We see for example that in the sentence \"Patient shows no stomach pain\", the sympton \"stomach pain\" has been identified but correctly asserted as \"absent\".\n",
        "\n",
        "In the case of \"She was maintained on an epidural and PCA for pain control.\" the entity \"pain control\" has been identified and asserted as \"hypothetical\". In this case the fact that the PCA effectively controled pain is not completely certain, therefore the entity is marked as an hypothesis. However the presence of an epidural procedure and a PCA are considered as certain and asserted as \"present\".\n",
        "\n",
        "In the case of \"Father with Alzheimer\" the Assertion annotator is able to identify that this condition is associated not with the patient, but with a relative."
      ]
    },
    {
      "cell_type": "code",
      "metadata": {
        "id": "kz_Hu4MhTz1o",
        "colab_type": "code",
        "colab": {
          "base_uri": "https://localhost:8080/",
          "height": 224
        },
        "outputId": "50072f4d-20d6-42ab-951e-fd9a0dd3714a"
      },
      "source": [
        "output.select(\"ner_chunk\", \"assertion\").show(truncate=False)"
      ],
      "execution_count": 18,
      "outputs": [
        {
          "output_type": "stream",
          "text": [
            "+---------------------------------------------------------------------------------------------------------------------------------------------------------------------------------------------------------------------------------------------------+---------------------------------------------------------------------------------------------------------------------------------------------------------------------------------------------+\n",
            "|ner_chunk                                                                                                                                                                                                                                          |assertion                                                                                                                                                                                    |\n",
            "+---------------------------------------------------------------------------------------------------------------------------------------------------------------------------------------------------------------------------------------------------+---------------------------------------------------------------------------------------------------------------------------------------------------------------------------------------------+\n",
            "|[[chunk, 13, 24, severe feber, [entity -> PROBLEM, sentence -> 0, chunk -> 0], []], [chunk, 30, 40, sore throat, [entity -> PROBLEM, sentence -> 0, chunk -> 1], []]]                                                                              |[[assertion, 13, 24, present, [sentence -> 0, chunk -> 0], []], [assertion, 30, 40, present, [sentence -> 0, chunk -> 1], []]]                                                               |\n",
            "|[[chunk, 17, 28, stomach pain, [entity -> PROBLEM, sentence -> 0, chunk -> 0], []]]                                                                                                                                                                |[[assertion, 17, 28, absent, [sentence -> 0, chunk -> 0], []]]                                                                                                                               |\n",
            "|[[chunk, 22, 32, an epidural, [entity -> TREATMENT, sentence -> 0, chunk -> 0], []], [chunk, 38, 40, PCA, [entity -> TREATMENT, sentence -> 0, chunk -> 1], []], [chunk, 46, 57, pain control, [entity -> PROBLEM, sentence -> 0, chunk -> 2], []]]|[[assertion, 22, 32, present, [sentence -> 0, chunk -> 0], []], [assertion, 38, 40, present, [sentence -> 0, chunk -> 1], []], [assertion, 46, 57, present, [sentence -> 0, chunk -> 2], []]]|\n",
            "|[[chunk, 15, 29, short of breath, [entity -> PROBLEM, sentence -> 0, chunk -> 0], []]]                                                                                                                                                             |[[assertion, 15, 29, conditional, [sentence -> 0, chunk -> 0], []]]                                                                                                                          |\n",
            "|[[chunk, 0, 10, Lung tumour, [entity -> PROBLEM, sentence -> 0, chunk -> 0], []]]                                                                                                                                                                  |[[assertion, 0, 10, present, [sentence -> 0, chunk -> 0], []]]                                                                                                                               |\n",
            "|[[chunk, 12, 20, Alzheimer, [entity -> PROBLEM, sentence -> 0, chunk -> 0], []]]                                                                                                                                                                   |[[assertion, 12, 20, associated_with_someone_else, [sentence -> 0, chunk -> 0], []]]                                                                                                         |\n",
            "+---------------------------------------------------------------------------------------------------------------------------------------------------------------------------------------------------------------------------------------------------+---------------------------------------------------------------------------------------------------------------------------------------------------------------------------------------------+\n",
            "\n"
          ],
          "name": "stdout"
        }
      ]
    },
    {
      "cell_type": "code",
      "metadata": {
        "id": "Rp4dK__-Tz1u",
        "colab_type": "code",
        "colab": {}
      },
      "source": [
        ""
      ],
      "execution_count": 0,
      "outputs": []
    }
  ]
}