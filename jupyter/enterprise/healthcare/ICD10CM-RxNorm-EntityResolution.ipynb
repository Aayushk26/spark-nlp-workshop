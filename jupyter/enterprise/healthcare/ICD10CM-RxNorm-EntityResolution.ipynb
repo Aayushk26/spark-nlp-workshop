{
 "cells": [
  {
   "cell_type": "markdown",
   "metadata": {},
   "source": [
    "# ICD10CM-RxNorm Entity Resolution - version 2.4.6\n"
   ]
  },
  {
   "cell_type": "code",
   "execution_count": 1,
   "metadata": {},
   "outputs": [],
   "source": [
    "import sys, os, time, pandas as pd\n",
    "\n",
    "from sparknlp.base import *\n",
    "from sparknlp.annotator import *\n",
    "from sparknlp.training import *\n",
    "from sparknlp_jsl.annotator import *\n",
    "from pyspark.sql import SparkSession\n",
    "import pyspark.sql.functions as F\n",
    "from pyspark.sql.types import StructType, StructField, StringType\n",
    "\n",
    "pd.set_option('display.max_colwidth', 250)\n",
    "pd.set_option('display.max_rows', 500)"
   ]
  },
  {
   "cell_type": "code",
   "execution_count": 2,
   "metadata": {},
   "outputs": [
    {
     "data": {
      "text/plain": [
       "'2.4.6'"
      ]
     },
     "execution_count": 2,
     "metadata": {},
     "output_type": "execute_result"
    }
   ],
   "source": [
    "import sparknlp_jsl\n",
    "sparknlp_jsl.version()"
   ]
  },
  {
   "cell_type": "code",
   "execution_count": 3,
   "metadata": {},
   "outputs": [],
   "source": [
    "secret = \"####\"\n",
    "spark = SparkSession.builder \\\n",
    "        .appName(\"Spark NLP Licensed\") \\\n",
    "        .master(\"local[*]\") \\\n",
    "        .config(\"spark.driver.memory\", \"48G\") \\\n",
    "        .config(\"spark.serializer\", \"org.apache.spark.serializer.KryoSerializer\") \\\n",
    "        .config(\"spark.kryoserializer.buffer.max\", \"2000M\") \\\n",
    "        .config(\"spark.jars.packages\", \"com.johnsnowlabs.nlp:spark-nlp_2.11:2.4.5\") \\\n",
    "        .config(\"spark.jars\", \"https://pypi.johnsnowlabs.com/\"+secret+\"/spark-nlp-jsl-2.4.6.jar\")\\\n",
    "        .getOrCreate()"
   ]
  },
  {
   "cell_type": "markdown",
   "metadata": {},
   "source": [
    "## Let's create a dataset with some case studies"
   ]
  },
  {
   "cell_type": "code",
   "execution_count": 4,
   "metadata": {},
   "outputs": [],
   "source": [
    "notes = [\n",
    "'Pentamidine 300 mg IV q . 36 hours , Pentamidine nasal wash 60 mg per 6 ml of sterile water q.d . , voriconazole 200 mg p.o . b.i.d . , acyclovir 400 mg p.o . b.i.d . , cyclosporine 50 mg p.o . b.i.d . , prednisone 60 mg p.o . q.d . , GCSF 480 mcg IV q.d . , Epogen 40,000 units subcu q . week , Protonix 40 mg q.d . , Simethicone 80 mg p.o . q . 8 , nitroglycerin paste 1 \" ; q . 4 h . p.r.n . , flunisolide nasal inhaler , 2 puffs q . 8 , OxyCodone 10-15 mg p.o . q . 6 p.r.n . , Sudafed 30 mg q . 6 p.o . p.r.n . , Fluconazole 2% cream b.i.d . to erythematous skin lesions , Ditropan 5 mg p.o . b.i.d . , Tylenol 650 mg p.o . q . 4 h . p.r.n . , Ambien 5-10 mg p.o . q . h.s . p.r.n . , Neurontin 100 mg q . a.m . , 200 mg q . p.m . , Aquaphor cream b.i.d . p.r.n . , Lotrimin 1% cream b.i.d . to feet , Dulcolax 5-10 mg p.o . q.d . p.r.n . , Phoslo 667 mg p.o . t.i.d . , Peridex 0.12% , 15 ml p.o . b.i.d . mouthwash , Benadryl 25-50 mg q . 4-6 h . p.r.n . pruritus , Sarna cream q.d . p.r.n . pruritus , Nystatin 5 ml p.o . q.i.d . swish and !',\n",
    "'Albuterol nebulizers 2.5 mg q.4h . and Atrovent nebulizers 0.5 mg q.4h . , please alternate albuterol and Atrovent ; Rocaltrol 0.25 mcg per NG tube q.d .; calcium carbonate 1250 mg per NG tube q.i.d .; vitamin B12 1000 mcg IM q . month , next dose is due Nov 18 ; diltiazem 60 mg per NG tube t.i.d .; ferrous sulfate 300 mg per NG t.i.d .; Haldol 5 mg IV q.h.s .; hydralazine 10 mg IV q.6h . p.r.n . hypertension ; lisinopril 10 mg per NG tube q.d .; Ativan 1 mg per NG tube q.h.s .; Lopressor 25 mg per NG tube t.i.d .; Zantac 150 mg per NG tube b.i.d .; multivitamin 10 ml per NG tube q.d .; Macrodantin 100 mg per NG tube q.i.d . x 10 days beginning on 11/3/00 .',\n",
    "'Tylenol 650 mg p.o . q . 4-6h p.r.n . headache or pain ; acyclovir 400 mg p.o . t.i.d .; acyclovir topical t.i.d . to be applied to lesion on corner of mouth ; Peridex 15 ml p.o . b.i.d .; Mycelex 1 troche p.o . t.i.d .; g-csf 404 mcg subcu q.d .; folic acid 1 mg p.o . q.d .; lorazepam 1-2 mg p.o . q . 4-6h p.r.n . nausea and vomiting ; Miracle Cream topical q.d . p.r.n . perianal irritation ; Eucerin Cream topical b.i.d .; Zantac 150 mg p.o . b.i.d .; Restoril 15-30 mg p.o . q . h.s . p.r.n . insomnia ; multivitamin 1 tablet p.o . q.d .; viscous lidocaine 15 ml p.o . q . 3h can be applied to corner of mouth or lips p.r.n . pain control .',\n",
    "'The patient\\'s incisions sternal and right leg were clean and healing well , normal sinus rhythm at 70-80 , with blood pressure 98-110/60 and patient was doing well , recovering , ambulating , tolerating regular diet and last hematocrit prior to discharge was 39% with a BUN and creatinine of 15 and 1.0 , prothrombin time level of 13.8 , chest X-ray prior to discharge showed small bilateral effusions with mild cardiomegaly and subsegmental atelectasis bibasilar and electrocardiogram showed normal sinus rhythm with left atrial enlargement and no acute ischemic changes on electrocardiogram .',\n",
    "'This is an 82 - year-old male with a history of prior tobacco use , hypertension , chronic renal insufficiency , COPD , gastritis , and TIA who initially presented to Braintree with a non-ST elevation MI and Guaiac positive stools , transferred to St . Margaret\\'s Center for Women & Infants for cardiac catheterization with PTCA to mid LAD lesion complicated by hypotension and bradycardia requiring Atropine , IV fluids and transient dopamine possibly secondary to vagal reaction , subsequently transferred to CCU for close monitoring , hemodynamically stable at the time of admission to the CCU .',\n",
    "'O2 95% on 3L NC mixed Quinn 82% genrl : in nad , resting comfortably heent : perrla ( 4->3 mm ) bilaterally , blind in right visual field , eomi , dry mm , ? thrush neck : no bruits cv : rrr , no m/r/g , faint s1/s2 pulm : cta bilaterally abd : midline scar ( from urostomy ) , nabs , soft , appears distended but patient denies , ostomy RLQ c/d/i , NT to palpation back : right flank urostomy tube , c/d/i , nt to palpation extr : no Gardner neuro : a , ox3 , wiggles toes bilaterally , unable to lift LE , 06-12 grip bilaterally w/ UE , decrease sensation to soft touch in left',\n",
    "'Is notable for an inferior myocardial infarction , restrictive and obstructive lung disease with an FEV1 of . 9 and FVC of 1.34 and a moderate at best response to bronchodilators , and a negative sestamibi scan in May , 1999 apart from a severe fixed inferolateral defect , systolic dysfunction with recent echocardiography revealing an LVID of 62 mm . and ejection fraction of 28 percent , moderate mitral regurgitation and mild-to-moderate aortic stenosis with a peak gradient of 33 and a mean gradient of 19 and a valve area of 1.4 cm . squared .',\n",
    "'This is a 47 - year-old male with a past medical history of type 2 diabetes , high cholesterol , hypertension , and coronary artery disease , status post percutaneous transluminal coronary angioplasty times two , who presented with acute coronary syndrome refractory to medical treatment and TNK , now status post Angio-Jet percutaneous transluminal coronary angioplasty and stent of proximal left anterior descending artery and percutaneous transluminal coronary angioplasty of first diagonal with intra-aortic balloon pump placement .',\n",
    "'Clinical progression of skin and sinus infection on maximal antimicrobial therapy continued , with emergence on November 20 of a new right-sided ptosis in association with a left homonymous hemianopsia , and fleeting confusion while febrile , prompting head MRI which revealed a large 5 x 2 x 4.3 cm region in the right occipital lobe of hemorrhage and edema , with dural and , likely , leptomeningeal enhancement in association with small foci in the right cerebellum and pons , concerning for early lesions of similar type .',\n",
    "'The patient had an echocardiogram on day two of admission , which revealed a mildly dilated left atrium , mild symmetric LVH , normal LV cavity size , mild region LV systolic dysfunction , arresting regional wall motion abnormality including focal apical hypokinesis , a normal right ventricular chamber size and free wall motion , a moderately dilated aortic root , a mildly dilated ascending aorta , normal aortic valve leaflet , normal mitral valve leaflet and no pericardial effusions .',\n",
    "'The patient is a 65-year-old man with refractory CLL , status post non-myeloblative stem cell transplant approximately nine months prior to admission , and status post prolonged recent Retelk County Medical Center stay for Acanthamoeba infection of skin and sinuses , complicated by ARS due to medication toxicity , as well as GVHD and recent CMV infection , readmitted for new fever , increasing creatinine , hepatomegaly and fluid surge spacing , in the setting of hyponatremia .',\n",
    "'Tylenol 650 mg p.o . q.4h . p.r.n . , Benadryl 25 mg p.o . q.h.s . p.r.n . , Colace 100 mg p.o . q.i.d . , Nortriptyline 25 mg p.o . q.h.s . , Simvastatin 10 mg p.o . q.h.s . , Metamucil one packet p.o . b.i.d . p.r.n . , Neurontin 300 mg p.o . t.i.d . , Levsinex 0.375 mg p.o . q.12h . , Lisinopril / hydrochlorothiazide 20/25 mg p.o . q.d . , hydrocortisone topical ointment to affected areas , MS Contin 30 mg p.o . b.i.d . , MSIR 15 to 30 mg p.o . q.4h . p.r.n . pain .',\n",
    "'Aspirin 325 q.d . ; albuterol nebs 2.5 mg q . 4h ; Colace 100 mg b.i.d . ; heparin 5,000 units subcu b.i.d . ; Synthroid 200 mcg q.d . ; Ocean Spray 2 sprays q . i.d . ; simvastatin 10 mg q . h.s . ; Flovent 220 mcg 2 puffs b.i.d . ; Zantac 150 b.i.d . ; nystatin ointment to the gluteal fold b.i.d . ; Lisinopril 20 mg q.d . ; Mestinon controlled release 180 q . h.s . ; Mestinon 30 mg q . 4h while awake ; prednisone 60 mg p.o . q . IM ; Atrovent nebs 0.5 mg q . i.d .',\n",
    "'An echocardiogram was obtained on 4-26 which showed concentric left ventricular hypertrophy with normal _____ left ventricular function , severe right ventricular dilatation with septal hypokinesis and flattening with a question of right ventricular apical clot raised with mild aortic stenosis , severe tricuspid regurgitation and increased pulmonary artery pressure of approximately 70 millimeters , consistent with fairly severe pulmonary hypertension .',\n",
    "'1 ) CV ( R ) finished amio IV load then started on po , agressive lytes ; although interrogation showed >100 episodes of VT ( as / x ) , pt prefers med therapy as opposed to ablation ( I ) enzymes mildly elevated but not actively ischemic ; lipids , ASA , statin , BB ; Adenosine thal 1/4 and echo 1/4 to look for signs of ischemia as active cause for VT ( P ) JVP at angle of jaw 1/4 -- > giving 20 Lasix ; dig level 1/4 1.3 -- > 1/2 dose as on Amio',\n",
    "'sodium 141 , potassium 3.5 , chloride 107 , bicarbonates 23.8 , BUN 23 , creatinine 1.1 , glucose 165 , PO2 377 , PCO2 32 , PH 7.50 , asomus 298 , toxic screen negative , white blood cell count 11.1 , hematocrit 39.6 , platelet count 137 , prothrombin time 25.2 , INR 4.3 , partial thromboplastin time 34.7 , urinalysis 1+ albumin , 0-5 high link caths , cervical spine negative , pelvis negative , lumbar spine ; negative , thoracic spine negative .',\n",
    "]"
   ]
  },
  {
   "cell_type": "code",
   "execution_count": 5,
   "metadata": {},
   "outputs": [
    {
     "data": {
      "text/html": [
       "Note 0:<div style=\"border:2px solid #747474; background-color: #e3e3e3; margin: 5px; padding: 10px\">Pentamidine 300 mg IV q . 36 hours , Pentamidine nasal wash 60 mg per 6 ml of sterile water q.d . , voriconazole 200 mg p.o . b.i.d . , acyclovir 400 mg p.o . b.i.d . , cyclosporine 50 mg p.o . b.i.d . , prednisone 60 mg p.o . q.d . , GCSF 480 mcg IV q.d . , Epogen 40,000 units subcu q . week , Protonix 40 mg q.d . , Simethicone 80 mg p.o . q . 8 , nitroglycerin paste 1 \" ; q . 4 h . p.r.n . , flunisolide nasal inhaler , 2 puffs q . 8 , OxyCodone 10-15 mg p.o . q . 6 p.r.n . , Sudafed 30 mg q . 6 p.o . p.r.n . , Fluconazole 2% cream b.i.d . to erythematous skin lesions , Ditropan 5 mg p.o . b.i.d . , Tylenol 650 mg p.o . q . 4 h . p.r.n . , Ambien 5-10 mg p.o . q . h.s . p.r.n . , Neurontin 100 mg q . a.m . , 200 mg q . p.m . , Aquaphor cream b.i.d . p.r.n . , Lotrimin 1% cream b.i.d . to feet , Dulcolax 5-10 mg p.o . q.d . p.r.n . , Phoslo 667 mg p.o . t.i.d . , Peridex 0.12% , 15 ml p.o . b.i.d . mouthwash , Benadryl 25-50 mg q . 4-6 h . p.r.n . pruritus , Sarna cream q.d . p.r.n . pruritus , Nystatin 5 ml p.o . q.i.d . swish and !</div><br/>Note 1:<div style=\"border:2px solid #747474; background-color: #e3e3e3; margin: 5px; padding: 10px\">Albuterol nebulizers 2.5 mg q.4h . and Atrovent nebulizers 0.5 mg q.4h . , please alternate albuterol and Atrovent ; Rocaltrol 0.25 mcg per NG tube q.d .; calcium carbonate 1250 mg per NG tube q.i.d .; vitamin B12 1000 mcg IM q . month , next dose is due Nov 18 ; diltiazem 60 mg per NG tube t.i.d .; ferrous sulfate 300 mg per NG t.i.d .; Haldol 5 mg IV q.h.s .; hydralazine 10 mg IV q.6h . p.r.n . hypertension ; lisinopril 10 mg per NG tube q.d .; Ativan 1 mg per NG tube q.h.s .; Lopressor 25 mg per NG tube t.i.d .; Zantac 150 mg per NG tube b.i.d .; multivitamin 10 ml per NG tube q.d .; Macrodantin 100 mg per NG tube q.i.d . x 10 days beginning on 11/3/00 .</div><br/>Note 2:<div style=\"border:2px solid #747474; background-color: #e3e3e3; margin: 5px; padding: 10px\">Tylenol 650 mg p.o . q . 4-6h p.r.n . headache or pain ; acyclovir 400 mg p.o . t.i.d .; acyclovir topical t.i.d . to be applied to lesion on corner of mouth ; Peridex 15 ml p.o . b.i.d .; Mycelex 1 troche p.o . t.i.d .; g-csf 404 mcg subcu q.d .; folic acid 1 mg p.o . q.d .; lorazepam 1-2 mg p.o . q . 4-6h p.r.n . nausea and vomiting ; Miracle Cream topical q.d . p.r.n . perianal irritation ; Eucerin Cream topical b.i.d .; Zantac 150 mg p.o . b.i.d .; Restoril 15-30 mg p.o . q . h.s . p.r.n . insomnia ; multivitamin 1 tablet p.o . q.d .; viscous lidocaine 15 ml p.o . q . 3h can be applied to corner of mouth or lips p.r.n . pain control .</div><br/>Note 3:<div style=\"border:2px solid #747474; background-color: #e3e3e3; margin: 5px; padding: 10px\">The patient's incisions sternal and right leg were clean and healing well , normal sinus rhythm at 70-80 , with blood pressure 98-110/60 and patient was doing well , recovering , ambulating , tolerating regular diet and last hematocrit prior to discharge was 39% with a BUN and creatinine of 15 and 1.0 , prothrombin time level of 13.8 , chest X-ray prior to discharge showed small bilateral effusions with mild cardiomegaly and subsegmental atelectasis bibasilar and electrocardiogram showed normal sinus rhythm with left atrial enlargement and no acute ischemic changes on electrocardiogram .</div><br/>Note 4:<div style=\"border:2px solid #747474; background-color: #e3e3e3; margin: 5px; padding: 10px\">This is an 82 - year-old male with a history of prior tobacco use , hypertension , chronic renal insufficiency , COPD , gastritis , and TIA who initially presented to Braintree with a non-ST elevation MI and Guaiac positive stools , transferred to St . Margaret's Center for Women & Infants for cardiac catheterization with PTCA to mid LAD lesion complicated by hypotension and bradycardia requiring Atropine , IV fluids and transient dopamine possibly secondary to vagal reaction , subsequently transferred to CCU for close monitoring , hemodynamically stable at the time of admission to the CCU .</div><br/>Note 5:<div style=\"border:2px solid #747474; background-color: #e3e3e3; margin: 5px; padding: 10px\">O2 95% on 3L NC mixed Quinn 82% genrl : in nad , resting comfortably heent : perrla ( 4->3 mm ) bilaterally , blind in right visual field , eomi , dry mm , ? thrush neck : no bruits cv : rrr , no m/r/g , faint s1/s2 pulm : cta bilaterally abd : midline scar ( from urostomy ) , nabs , soft , appears distended but patient denies , ostomy RLQ c/d/i , NT to palpation back : right flank urostomy tube , c/d/i , nt to palpation extr : no Gardner neuro : a , ox3 , wiggles toes bilaterally , unable to lift LE , 06-12 grip bilaterally w/ UE , decrease sensation to soft touch in left</div><br/>Note 6:<div style=\"border:2px solid #747474; background-color: #e3e3e3; margin: 5px; padding: 10px\">Is notable for an inferior myocardial infarction , restrictive and obstructive lung disease with an FEV1 of . 9 and FVC of 1.34 and a moderate at best response to bronchodilators , and a negative sestamibi scan in May , 1999 apart from a severe fixed inferolateral defect , systolic dysfunction with recent echocardiography revealing an LVID of 62 mm . and ejection fraction of 28 percent , moderate mitral regurgitation and mild-to-moderate aortic stenosis with a peak gradient of 33 and a mean gradient of 19 and a valve area of 1.4 cm . squared .</div><br/>Note 7:<div style=\"border:2px solid #747474; background-color: #e3e3e3; margin: 5px; padding: 10px\">This is a 47 - year-old male with a past medical history of type 2 diabetes , high cholesterol , hypertension , and coronary artery disease , status post percutaneous transluminal coronary angioplasty times two , who presented with acute coronary syndrome refractory to medical treatment and TNK , now status post Angio-Jet percutaneous transluminal coronary angioplasty and stent of proximal left anterior descending artery and percutaneous transluminal coronary angioplasty of first diagonal with intra-aortic balloon pump placement .</div><br/>Note 8:<div style=\"border:2px solid #747474; background-color: #e3e3e3; margin: 5px; padding: 10px\">Clinical progression of skin and sinus infection on maximal antimicrobial therapy continued , with emergence on November 20 of a new right-sided ptosis in association with a left homonymous hemianopsia , and fleeting confusion while febrile , prompting head MRI which revealed a large 5 x 2 x 4.3 cm region in the right occipital lobe of hemorrhage and edema , with dural and , likely , leptomeningeal enhancement in association with small foci in the right cerebellum and pons , concerning for early lesions of similar type .</div><br/>Note 9:<div style=\"border:2px solid #747474; background-color: #e3e3e3; margin: 5px; padding: 10px\">The patient had an echocardiogram on day two of admission , which revealed a mildly dilated left atrium , mild symmetric LVH , normal LV cavity size , mild region LV systolic dysfunction , arresting regional wall motion abnormality including focal apical hypokinesis , a normal right ventricular chamber size and free wall motion , a moderately dilated aortic root , a mildly dilated ascending aorta , normal aortic valve leaflet , normal mitral valve leaflet and no pericardial effusions .</div><br/>Note 10:<div style=\"border:2px solid #747474; background-color: #e3e3e3; margin: 5px; padding: 10px\">The patient is a 65-year-old man with refractory CLL , status post non-myeloblative stem cell transplant approximately nine months prior to admission , and status post prolonged recent Retelk County Medical Center stay for Acanthamoeba infection of skin and sinuses , complicated by ARS due to medication toxicity , as well as GVHD and recent CMV infection , readmitted for new fever , increasing creatinine , hepatomegaly and fluid surge spacing , in the setting of hyponatremia .</div><br/>Note 11:<div style=\"border:2px solid #747474; background-color: #e3e3e3; margin: 5px; padding: 10px\">Tylenol 650 mg p.o . q.4h . p.r.n . , Benadryl 25 mg p.o . q.h.s . p.r.n . , Colace 100 mg p.o . q.i.d . , Nortriptyline 25 mg p.o . q.h.s . , Simvastatin 10 mg p.o . q.h.s . , Metamucil one packet p.o . b.i.d . p.r.n . , Neurontin 300 mg p.o . t.i.d . , Levsinex 0.375 mg p.o . q.12h . , Lisinopril / hydrochlorothiazide 20/25 mg p.o . q.d . , hydrocortisone topical ointment to affected areas , MS Contin 30 mg p.o . b.i.d . , MSIR 15 to 30 mg p.o . q.4h . p.r.n . pain .</div><br/>Note 12:<div style=\"border:2px solid #747474; background-color: #e3e3e3; margin: 5px; padding: 10px\">Aspirin 325 q.d . ; albuterol nebs 2.5 mg q . 4h ; Colace 100 mg b.i.d . ; heparin 5,000 units subcu b.i.d . ; Synthroid 200 mcg q.d . ; Ocean Spray 2 sprays q . i.d . ; simvastatin 10 mg q . h.s . ; Flovent 220 mcg 2 puffs b.i.d . ; Zantac 150 b.i.d . ; nystatin ointment to the gluteal fold b.i.d . ; Lisinopril 20 mg q.d . ; Mestinon controlled release 180 q . h.s . ; Mestinon 30 mg q . 4h while awake ; prednisone 60 mg p.o . q . IM ; Atrovent nebs 0.5 mg q . i.d .</div><br/>Note 13:<div style=\"border:2px solid #747474; background-color: #e3e3e3; margin: 5px; padding: 10px\">An echocardiogram was obtained on 4-26 which showed concentric left ventricular hypertrophy with normal _____ left ventricular function , severe right ventricular dilatation with septal hypokinesis and flattening with a question of right ventricular apical clot raised with mild aortic stenosis , severe tricuspid regurgitation and increased pulmonary artery pressure of approximately 70 millimeters , consistent with fairly severe pulmonary hypertension .</div><br/>Note 14:<div style=\"border:2px solid #747474; background-color: #e3e3e3; margin: 5px; padding: 10px\">1 ) CV ( R ) finished amio IV load then started on po , agressive lytes ; although interrogation showed >100 episodes of VT ( as / x ) , pt prefers med therapy as opposed to ablation ( I ) enzymes mildly elevated but not actively ischemic ; lipids , ASA , statin , BB ; Adenosine thal 1/4 and echo 1/4 to look for signs of ischemia as active cause for VT ( P ) JVP at angle of jaw 1/4 -- > giving 20 Lasix ; dig level 1/4 1.3 -- > 1/2 dose as on Amio</div><br/>Note 15:<div style=\"border:2px solid #747474; background-color: #e3e3e3; margin: 5px; padding: 10px\">sodium 141 , potassium 3.5 , chloride 107 , bicarbonates 23.8 , BUN 23 , creatinine 1.1 , glucose 165 , PO2 377 , PCO2 32 , PH 7.50 , asomus 298 , toxic screen negative , white blood cell count 11.1 , hematocrit 39.6 , platelet count 137 , prothrombin time 25.2 , INR 4.3 , partial thromboplastin time 34.7 , urinalysis 1+ albumin , 0-5 high link caths , cervical spine negative , pelvis negative , lumbar spine ; negative , thoracic spine negative .</div><br/>"
      ],
      "text/plain": [
       "<IPython.core.display.HTML object>"
      ]
     },
     "metadata": {},
     "output_type": "display_data"
    }
   ],
   "source": [
    "from IPython.core.display import display, HTML\n",
    "\n",
    "html_output=\"\"\n",
    "for i, d in enumerate(notes):\n",
    "    html_output += f'Note {i}:'\n",
    "    html_output +='<div style=\"border:2px solid #747474; background-color: #e3e3e3; margin: 5px; padding: 10px\">'\n",
    "    html_output += d\n",
    "    html_output += '</div><br/>'\n",
    "\n",
    "display(HTML(html_output))"
   ]
  },
  {
   "cell_type": "code",
   "execution_count": 6,
   "metadata": {},
   "outputs": [],
   "source": [
    "# Notes column names\n",
    "\n",
    "docid_col         = \"doc_id\"\n",
    "note_col          = \"text_feed\""
   ]
  },
  {
   "cell_type": "code",
   "execution_count": 7,
   "metadata": {},
   "outputs": [],
   "source": [
    "data = spark.createDataFrame([n for n in enumerate(notes)]).toDF(docid_col, note_col)"
   ]
  },
  {
   "cell_type": "markdown",
   "metadata": {},
   "source": [
    "## And let's build a SparkNLP pipeline with the following stages:\n",
    "- DocumentAssembler: Entry annotator for our pipelines; it creates the data structure for the Annotation Framework\n",
    "- SentenceDetector: Annotator to pragmatically separate complete sentences inside each document\n",
    "- Tokenizer: Annotator to separate sentences in tokens (generally words)\n",
    "- StopWordsCleaner: Annotator to remove words defined as StopWords in SparkML\n",
    "- WordEmbeddings: Vectorization of word tokens, in this case using word embeddings trained from PubMed, ICD10 and other clinical resources.\n",
    "- ChunkEmbeddings: Aggregates the WordEmbeddings for each NER Chunk\n",
    "- BioNLP NER + NerConverter: This annotators return Chunks related to Cancer and Genetics diseases\n",
    "- ChunkEntityResolver: Annotator that performs search for the KNNs, in this case trained from ICDO Histology Behavior."
   ]
  },
  {
   "cell_type": "code",
   "execution_count": 8,
   "metadata": {},
   "outputs": [],
   "source": [
    "#Language and Model Repository\n",
    "\n",
    "models_language   = \"en\"\n",
    "models_repository = \"clinical/models\""
   ]
  },
  {
   "cell_type": "code",
   "execution_count": 9,
   "metadata": {},
   "outputs": [
    {
     "name": "stdout",
     "output_type": "stream",
     "text": [
      "embeddings_clinical download started this may take some time.\n",
      "Approximate size to download 1.6 GB\n",
      "[OK!]\n"
     ]
    }
   ],
   "source": [
    "# Embeddings Pretrained Model Name\n",
    "\n",
    "embeddings_name   = \"embeddings_clinical\"\n",
    "\n",
    "# Preparation and embeddings column names\n",
    "\n",
    "doc_col           = \"document\"\n",
    "sent_col          = \"sentence\"\n",
    "token_col         = \"token\"\n",
    "embeddings_col    = \"embeddings\"\n",
    "\n",
    "# Usual preparation Annotators and Embeddings\n",
    "\n",
    "docAssembler = DocumentAssembler().setInputCol(note_col).setOutputCol(doc_col)\n",
    "sentenceDetector = SentenceDetector().setInputCols(doc_col).setOutputCol(sent_col)\n",
    "tokenizer_chars = [\",\",\"\\/\",\" \",\".\",\"|\",\"@\",\"#\",\"%\",\"&\",\"\\\\$\",\"\\\\[\",\"\\\\]\",\"\\\\(\",\"\\\\)\",\"\\\\-\",\";\"]\n",
    "tokenizer = Tokenizer().setSplitChars(tokenizer_chars)\\\n",
    "    .setInputCols(sent_col).setOutputCol(token_col)\n",
    "embeddings = WordEmbeddingsModel.pretrained(embeddings_name, models_language, models_repository)\\\n",
    "    .setInputCols(sent_col, token_col)\\\n",
    "    .setOutputCol(embeddings_col)"
   ]
  },
  {
   "cell_type": "code",
   "execution_count": 10,
   "metadata": {
    "scrolled": true
   },
   "outputs": [
    {
     "name": "stdout",
     "output_type": "stream",
     "text": [
      "ner_jsl download started this may take some time.\n",
      "Approximate size to download 14 MB\n",
      "[OK!]\n",
      "ner_drugs download started this may take some time.\n",
      "Approximate size to download 13.8 MB\n",
      "[OK!]\n"
     ]
    }
   ],
   "source": [
    "# NER Pretrained Model Names\n",
    "\n",
    "jsl_ner_name  = \"ner_jsl\"\n",
    "drug_ner_name = \"ner_drugs\"\n",
    "\n",
    "# NER Column Names\n",
    "\n",
    "ner_jsl_col  = \"ner_jsl\"\n",
    "ner_drug_col = \"ner_drug\"\n",
    "\n",
    "# Annotators responsible for the Cancer Genetics Entity Recognition task\n",
    "\n",
    "jslNer = NerDLModel.pretrained(jsl_ner_name, models_language, models_repository)\\\n",
    "    .setInputCols(sent_col, token_col, embeddings_col)\\\n",
    "    .setOutputCol(ner_jsl_col)\n",
    "\n",
    "drugNer = NerDLModel.pretrained(drug_ner_name, models_language, models_repository)\\\n",
    "    .setInputCols(sent_col, token_col, embeddings_col)\\\n",
    "    .setOutputCol(ner_drug_col)"
   ]
  },
  {
   "cell_type": "code",
   "execution_count": 11,
   "metadata": {},
   "outputs": [],
   "source": [
    "# Chunk column names\n",
    "\n",
    "chunk_jsl_col  = \"chunk_jsl\"\n",
    "chunk_drug_col = \"chunk_drug\"\n",
    "\n",
    "#Converter annotators transform IOB tags into full chunks (sequence set of tokens) tagged with `entity` metadata\n",
    "\n",
    "jslConverter = NerConverter().setInputCols(sent_col, token_col, ner_jsl_col)\\\n",
    "    .setOutputCol(chunk_jsl_col).setWhiteList([\"Diagnosis\"])\n",
    "drugConverter = NerConverter().setInputCols(sent_col, token_col, ner_drug_col)\\\n",
    "    .setOutputCol(chunk_drug_col)"
   ]
  },
  {
   "cell_type": "code",
   "execution_count": 12,
   "metadata": {},
   "outputs": [],
   "source": [
    "# ChunkEmbeddings column names\n",
    "\n",
    "chunk_embs_jsl_col  = \"chunk_embs_jsl\"\n",
    "chunk_embs_drug_col = \"chunk_embs_drug\"\n",
    "\n",
    "#ChunkEmbeddings annotators aggregate embeddings for each token in the chunk\n",
    "\n",
    "jslChunkEmbeddings = ChunkEmbeddings()\\\n",
    "  .setInputCols(chunk_jsl_col, embeddings_col)\\\n",
    "  .setOutputCol(chunk_embs_jsl_col)\n",
    "drugChunkEmbeddings = ChunkEmbeddings()\\\n",
    "  .setInputCols(chunk_drug_col, embeddings_col)\\\n",
    "  .setOutputCol(chunk_embs_drug_col)"
   ]
  },
  {
   "cell_type": "code",
   "execution_count": 13,
   "metadata": {},
   "outputs": [],
   "source": [
    "# ChunkTokenizer column names\n",
    "\n",
    "chunk_token_jsl_col  = \"chunk_token_jsl\"\n",
    "chunk_token_drug_col = \"chunk_token_drug\"\n",
    "\n",
    "# ChunkTokenizer provides extra flexibility at the time of tokenizing a given chunk\n",
    "\n",
    "jslChunkTokenizer = ChunkTokenizer().setSplitChars(tokenizer_chars)\\\n",
    "    .setInputCols(chunk_jsl_col).setOutputCol(chunk_token_jsl_col)\n",
    "drugChunkTokenizer = ChunkTokenizer().setSplitChars(tokenizer_chars)\\\n",
    "    .setInputCols(chunk_drug_col).setOutputCol(chunk_token_drug_col)"
   ]
  },
  {
   "cell_type": "code",
   "execution_count": 14,
   "metadata": {
    "scrolled": true
   },
   "outputs": [
    {
     "name": "stdout",
     "output_type": "stream",
     "text": [
      "chunkresolve_icd10cm_clinical download started this may take some time.\n",
      "Approximate size to download 166.3 MB\n",
      "[OK!]\n",
      "ensembleresolve_rxnorm_clinical download started this may take some time.\n",
      "Approximate size to download 783.3 MB\n",
      "[OK!]\n"
     ]
    }
   ],
   "source": [
    "# Entity Resolution Pretrained Model Names\n",
    "\n",
    "icd10cm_model_name = \"chunkresolve_icd10cm_clinical\"\n",
    "rxnorm_model_name  = \"ensembleresolve_rxnorm_clinical\"\n",
    "\n",
    "# Entity Resolution column Names\n",
    "\n",
    "icd10cm_col = \"icd10cm_resolution\"\n",
    "rxnorm_col  = \"rxnorm_resolution\"\n",
    "\n",
    "icd10cmResolver = ChunkEntityResolverModel.pretrained(icd10cm_model_name, models_language, models_repository)\\\n",
    "    .setEnableLevenshtein(True)\\\n",
    "    .setNeighbours(200).setAlternatives(5).setDistanceWeights([1,3,2,0,0,1])\\\n",
    "    .setInputCols(chunk_token_jsl_col, chunk_embs_jsl_col)\\\n",
    "    .setOutputCol(icd10cm_col)\n",
    "\n",
    "rxnormResolver = EnsembleEntityResolverModel()\\\n",
    "    .pretrained(rxnorm_model_name, models_language, models_repository)\\\n",
    "    .setEnableLevenshtein(True)\\\n",
    "    .setNeighbours(200).setAlternatives(5).setDistanceWeights([1,3,2,0,0,1])\\\n",
    "    .setInputCols(chunk_token_drug_col, chunk_embs_drug_col)\\\n",
    "    .setOutputCol(rxnorm_col)\\"
   ]
  },
  {
   "cell_type": "code",
   "execution_count": 15,
   "metadata": {},
   "outputs": [],
   "source": [
    "pipelineFull = Pipeline().setStages([\n",
    "    docAssembler, \n",
    "    sentenceDetector, \n",
    "    tokenizer, \n",
    "    embeddings, \n",
    "    jslNer,\n",
    "    drugNer,\n",
    "    jslConverter,\n",
    "    drugConverter,\n",
    "    jslChunkEmbeddings, \n",
    "    drugChunkEmbeddings,\n",
    "    jslChunkTokenizer,\n",
    "    drugChunkTokenizer,\n",
    "    rxnormResolver\n",
    "])"
   ]
  },
  {
   "cell_type": "code",
   "execution_count": 16,
   "metadata": {},
   "outputs": [],
   "source": [
    "# Persisiting temporarily to keep DAG size and resource usage low (Ensmeble Resolvers are Resource Intensive)\n",
    "pipelineModelFull = pipelineFull.fit(data)\n",
    "output = pipelineModelFull.transform(data)\n",
    "output.write.mode(\"overwrite\").save(\"temp\")\n",
    "output = spark.read.load(\"temp\")"
   ]
  },
  {
   "cell_type": "code",
   "execution_count": 17,
   "metadata": {},
   "outputs": [],
   "source": [
    "output = icd10cmResolver.transform(output).cache()"
   ]
  },
  {
   "cell_type": "markdown",
   "metadata": {},
   "source": [
    "## The last part of our pipeline are the **ChunkEntityResolvers**: \n",
    "\n",
    "### EntityResolver:  \n",
    "Trained on an augmented ICDO Dataset from JSL Data Market it provides histology codes resolution for the matched expressions. Other than providing the code in the \"result\" field it provides more metadata about the matching process:  \n",
    "\n",
    "- all_k_results -> Sorted ResolverLabels in the top `alternatives` that match the distance `threshold`\n",
    "- all_k_resolutions -> Respective ResolverNormalized strings\n",
    "- all_k_confidences -> Respective normalized probabilities based in inverse distance valuesprobability\n",
    "- all_k_distances -> Respective distance values after aggregation\n",
    "- target_text -> The actual searched string\n",
    "- resolved_text -> The top ResolverNormalized string\n",
    "- confidence -> Top probability\n",
    "- distance -> Top distance value\n",
    "- sentence -> Sentence index\n",
    "- chunk -> Chunk Index\n",
    "- token -> Token index"
   ]
  },
  {
   "cell_type": "code",
   "execution_count": 18,
   "metadata": {},
   "outputs": [],
   "source": [
    "def quick_metadata_analysis(df, doc_field, chunk_field, code_fields):\n",
    "    code_res_meta = \", \".join([f\"{cf}.metadata\" for cf in code_fields])\n",
    "    expression = f\"explode(arrays_zip({chunk_field}.begin, {chunk_field}.end, {chunk_field}.result, {chunk_field}.metadata, \"+code_res_meta+\")) as a\"\n",
    "    top_n_rest = [(f\"float(a['{i+4}'].confidence) as {(cf.split('_')[0])}_conf\",\n",
    "                    f\"arrays_zip(split(a['{i+4}'].all_k_results,':::'),split(a['{i+4}'].all_k_resolutions,':::')) as {cf.split('_')[0]+'_opts'}\")\n",
    "                    for i, cf in enumerate(code_fields)]\n",
    "    top_n_rest_args = []\n",
    "    for tr in top_n_rest:\n",
    "        for t in tr:\n",
    "            top_n_rest_args.append(t)\n",
    "    return df.selectExpr(doc_field, expression) \\\n",
    "        .orderBy(docid_col, F.expr(\"a['0']\"), F.expr(\"a['1']\"))\\\n",
    "        .selectExpr(f\"concat_ws('::',{doc_field},a['0'],a['1']) as coords\", \"a['2'] as chunk\",\"a['3'].entity as entity\", *top_n_rest_args)"
   ]
  },
  {
   "cell_type": "code",
   "execution_count": 19,
   "metadata": {},
   "outputs": [],
   "source": [
    "icd10cm_analysis = \\\n",
    "quick_metadata_analysis(output, docid_col, chunk_jsl_col,[icd10cm_col]).toPandas()"
   ]
  },
  {
   "cell_type": "code",
   "execution_count": 20,
   "metadata": {},
   "outputs": [],
   "source": [
    "rxnorm_analysis = \\\n",
    "quick_metadata_analysis(output, docid_col, chunk_drug_col,[rxnorm_col]).toPandas()"
   ]
  },
  {
   "cell_type": "code",
   "execution_count": 21,
   "metadata": {},
   "outputs": [
    {
     "data": {
      "text/html": [
       "<div>\n",
       "<style scoped>\n",
       "    .dataframe tbody tr th:only-of-type {\n",
       "        vertical-align: middle;\n",
       "    }\n",
       "\n",
       "    .dataframe tbody tr th {\n",
       "        vertical-align: top;\n",
       "    }\n",
       "\n",
       "    .dataframe thead th {\n",
       "        text-align: right;\n",
       "    }\n",
       "</style>\n",
       "<table border=\"1\" class=\"dataframe\">\n",
       "  <thead>\n",
       "    <tr style=\"text-align: right;\">\n",
       "      <th></th>\n",
       "      <th>coords</th>\n",
       "      <th>chunk</th>\n",
       "      <th>entity</th>\n",
       "      <th>icd10cm_conf</th>\n",
       "      <th>icd10cm_opts</th>\n",
       "    </tr>\n",
       "  </thead>\n",
       "  <tbody>\n",
       "    <tr>\n",
       "      <th>12</th>\n",
       "      <td>10::343::355</td>\n",
       "      <td>CMV infection</td>\n",
       "      <td>Diagnosis</td>\n",
       "      <td>0.3047</td>\n",
       "      <td>[(B1081, Human herpesvirus 6 infection), (B72, Dracunculiasis), (A925, Zika virus disease), (B20, Human immunodeficiency virus [HIV] disease), (B59, Pneumocystosis)]</td>\n",
       "    </tr>\n",
       "    <tr>\n",
       "      <th>13</th>\n",
       "      <td>10::467::478</td>\n",
       "      <td>hyponatremia</td>\n",
       "      <td>Diagnosis</td>\n",
       "      <td>0.4890</td>\n",
       "      <td>[(E871, Hypo-osmolality and hyponatremia), (E876, Hypokalemia), (E861, Hypovolemia), (E875, Hyperkalemia), (E8351, Hypocalcemia)]</td>\n",
       "    </tr>\n",
       "  </tbody>\n",
       "</table>\n",
       "</div>"
      ],
      "text/plain": [
       "          coords          chunk     entity  icd10cm_conf  \\\n",
       "12  10::343::355  CMV infection  Diagnosis        0.3047   \n",
       "13  10::467::478   hyponatremia  Diagnosis        0.4890   \n",
       "\n",
       "                                                                                                                                                             icd10cm_opts  \n",
       "12  [(B1081, Human herpesvirus 6 infection), (B72, Dracunculiasis), (A925, Zika virus disease), (B20, Human immunodeficiency virus [HIV] disease), (B59, Pneumocystosis)]  \n",
       "13                                      [(E871, Hypo-osmolality and hyponatremia), (E876, Hypokalemia), (E861, Hypovolemia), (E875, Hyperkalemia), (E8351, Hypocalcemia)]  "
      ]
     },
     "execution_count": 21,
     "metadata": {},
     "output_type": "execute_result"
    }
   ],
   "source": [
    "icd10cm_analysis[icd10cm_analysis.icd10cm_conf>0.25]"
   ]
  },
  {
   "cell_type": "code",
   "execution_count": 22,
   "metadata": {},
   "outputs": [
    {
     "data": {
      "text/html": [
       "<div>\n",
       "<style scoped>\n",
       "    .dataframe tbody tr th:only-of-type {\n",
       "        vertical-align: middle;\n",
       "    }\n",
       "\n",
       "    .dataframe tbody tr th {\n",
       "        vertical-align: top;\n",
       "    }\n",
       "\n",
       "    .dataframe thead th {\n",
       "        text-align: right;\n",
       "    }\n",
       "</style>\n",
       "<table border=\"1\" class=\"dataframe\">\n",
       "  <thead>\n",
       "    <tr style=\"text-align: right;\">\n",
       "      <th></th>\n",
       "      <th>coords</th>\n",
       "      <th>chunk</th>\n",
       "      <th>entity</th>\n",
       "      <th>rxnorm_conf</th>\n",
       "      <th>rxnorm_opts</th>\n",
       "    </tr>\n",
       "  </thead>\n",
       "  <tbody>\n",
       "    <tr>\n",
       "      <th>77</th>\n",
       "      <td>15::44::55</td>\n",
       "      <td>bicarbonates</td>\n",
       "      <td>DrugChem</td>\n",
       "      <td>1.0</td>\n",
       "      <td>[(1527, BICARBONATES), (975127, bicarbonate), (975127, BICARBONATE), (8597, kalium jodatum), (8588, kalium)]</td>\n",
       "    </tr>\n",
       "  </tbody>\n",
       "</table>\n",
       "</div>"
      ],
      "text/plain": [
       "        coords         chunk    entity  rxnorm_conf  \\\n",
       "77  15::44::55  bicarbonates  DrugChem          1.0   \n",
       "\n",
       "                                                                                                     rxnorm_opts  \n",
       "77  [(1527, BICARBONATES), (975127, bicarbonate), (975127, BICARBONATE), (8597, kalium jodatum), (8588, kalium)]  "
      ]
     },
     "execution_count": 22,
     "metadata": {},
     "output_type": "execute_result"
    }
   ],
   "source": [
    "rxnorm_analysis[rxnorm_analysis.rxnorm_conf>0.5]"
   ]
  },
  {
   "cell_type": "code",
   "execution_count": null,
   "metadata": {},
   "outputs": [],
   "source": []
  }
 ],
 "metadata": {
  "kernelspec": {
   "display_name": "jsl240",
   "language": "python",
   "name": "jsl240"
  },
  "language_info": {
   "codemirror_mode": {
    "name": "ipython",
    "version": 3
   },
   "file_extension": ".py",
   "mimetype": "text/x-python",
   "name": "python",
   "nbconvert_exporter": "python",
   "pygments_lexer": "ipython3",
   "version": "3.6.9"
  }
 },
 "nbformat": 4,
 "nbformat_minor": 2
}
