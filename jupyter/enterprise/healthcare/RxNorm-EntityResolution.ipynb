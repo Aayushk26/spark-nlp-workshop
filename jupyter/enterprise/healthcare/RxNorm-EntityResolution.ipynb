{
 "cells": [
  {
   "cell_type": "code",
   "execution_count": 1,
   "metadata": {},
   "outputs": [],
   "source": [
    "#Please make sure you have SparkNLP 2.4.5 and SparkNLP Enterprise 2.4.6"
   ]
  },
  {
   "cell_type": "code",
   "execution_count": 2,
   "metadata": {},
   "outputs": [],
   "source": [
    "import sys, time\n",
    "import sparknlp_jsl\n",
    "from sparknlp.base import *\n",
    "from sparknlp.annotator import *\n",
    "from sparknlp_jsl.annotator import *\n",
    "from sparknlp.pretrained import ResourceDownloader\n",
    "import pyspark.sql.functions as F\n",
    "from pyspark.ml import Pipeline, PipelineModel\n",
    "from pyspark.ml.feature import HashingTF, IDF\n",
    "from pyspark.ml.feature import StringIndexerModel\n",
    "from pyspark.ml.classification import OneVsRestModel"
   ]
  },
  {
   "cell_type": "code",
   "execution_count": 3,
   "metadata": {},
   "outputs": [],
   "source": [
    "spark = sparknlp_jsl.start(\"####\")"
   ]
  },
  {
   "cell_type": "code",
   "execution_count": 4,
   "metadata": {},
   "outputs": [],
   "source": [
    "concepts = concepts = spark.read.format(\"csv\").option(\"header\",\"true\").load(\"../../../data/resolution/rxnorm_sample.csv\")\\\n",
    ".withColumn(\"STR\", F.expr(\"lower(STR)\"))"
   ]
  },
  {
   "cell_type": "code",
   "execution_count": 5,
   "metadata": {},
   "outputs": [],
   "source": [
    "tokenizer_chars = [\"'\",\",\",\"/\",\" \",\".\",\"|\",\"@\",\"#\",\"%\",\"&\",\"$\",\"[\",\"]\",\"(\",\")\",\"-\",\";\",\"=\"]"
   ]
  },
  {
   "cell_type": "code",
   "execution_count": 6,
   "metadata": {},
   "outputs": [],
   "source": [
    "docAssembler = DocumentAssembler().setInputCol(\"STR\").setOutputCol(\"document\")\n",
    "\n",
    "tokenizer = Tokenizer().setInputCols(\"document\").setOutputCol(\"token\")\\\n",
    "    .setSplitChars(tokenizer_chars)\n",
    "\n",
    "pipelineModel = Pipeline().setStages([docAssembler, tokenizer]).fit(concepts)"
   ]
  },
  {
   "cell_type": "code",
   "execution_count": 7,
   "metadata": {},
   "outputs": [
    {
     "name": "stdout",
     "output_type": "stream",
     "text": [
      "embeddings_clinical download started this may take some time.\n",
      "Approximate size to download 1.6 GB\n",
      "[OK!]\n"
     ]
    }
   ],
   "source": [
    "embeddingsModel = WordEmbeddingsModel.pretrained(\"embeddings_clinical\", \"en\", \"clinical/models\")\\\n",
    "    .setInputCols(\"document\", \"token\")\\\n",
    "    .setOutputCol(\"embeddings\")"
   ]
  },
  {
   "cell_type": "code",
   "execution_count": 8,
   "metadata": {},
   "outputs": [],
   "source": [
    "doc2Chunk = Doc2Chunk().setInputCols(\"document\").setOutputCol(\"chunk\")\n",
    "chunkTokenizer = ChunkTokenizer().setInputCols(\"chunk\").setOutputCol(\"chunk_token\").fit(concepts)\n",
    "\n",
    "chunkEmbeddings = ChunkEmbeddings()\\\n",
    "    .setInputCols(\"chunk\", \"embeddings\")\\\n",
    "    .setOutputCol(\"chunk_embeddings\")\n",
    "\n",
    "pipelineChunkEmbeddings = PipelineModel([doc2Chunk, chunkTokenizer, chunkEmbeddings])"
   ]
  },
  {
   "cell_type": "code",
   "execution_count": 9,
   "metadata": {},
   "outputs": [],
   "source": [
    "concepts_embedded = PipelineModel([pipelineModel, embeddingsModel, pipelineChunkEmbeddings]).transform(concepts)"
   ]
  },
  {
   "cell_type": "code",
   "execution_count": 10,
   "metadata": {},
   "outputs": [],
   "source": [
    "concepts_embedded.write.mode(\"overwrite\").save(\"data/rxnorm_concepts_embedded\")"
   ]
  },
  {
   "cell_type": "code",
   "execution_count": 11,
   "metadata": {},
   "outputs": [],
   "source": [
    "concepts_embedded = spark.read.load(\"data/rxnorm_concepts_embedded\")"
   ]
  },
  {
   "cell_type": "code",
   "execution_count": 12,
   "metadata": {},
   "outputs": [
    {
     "data": {
      "text/plain": [
       "0.9471964951859947"
      ]
     },
     "execution_count": 12,
     "metadata": {},
     "output_type": "execute_result"
    }
   ],
   "source": [
    "#Let's check embeddings coverage\n",
    "concepts_embedded.selectExpr(\"STY_TTY\",\"explode(embeddings) as embs\")\\\n",
    ".selectExpr(\"STY_TTY\",\"case when embs.metadata.isOOV=='false' then 1 else 0 end as coverage\")\\\n",
    ".groupby(\"STY_TTY\").agg(F.expr(\"avg(coverage) as cov\")).orderBy(\"cov\").toPandas()[\"cov\"].mean()"
   ]
  },
  {
   "cell_type": "code",
   "execution_count": 13,
   "metadata": {},
   "outputs": [],
   "source": [
    "#word_distribution = concepts_embedded.selectExpr(\"explode(token.result) as word\").groupby(\"word\").count()\n",
    "#word_distribution.orderBy(\"count\",ascending=False).show(100, False)"
   ]
  },
  {
   "cell_type": "code",
   "execution_count": 14,
   "metadata": {},
   "outputs": [],
   "source": [
    "#word_distribution.count()"
   ]
  },
  {
   "cell_type": "code",
   "execution_count": 15,
   "metadata": {},
   "outputs": [
    {
     "name": "stdout",
     "output_type": "stream",
     "text": [
      "ensembleresolve_rxnorm_clinical download started this may take some time.\n",
      "Approximate size to download 783.3 MB\n",
      "[OK!]\n"
     ]
    }
   ],
   "source": [
    "#RxNorm Resolution\n",
    "rxnorm_resolution = EnsembleEntityResolverModel.pretrained(\"ensembleresolve_rxnorm_clinical\", \"en\", \"clinical/models\")\\\n",
    "    .setInputCols(\"chunk_token\",\"chunk_embeddings\").setOutputCol(\"rxnorm_result\")\\\n",
    "    .setNeighbours(300).setAlternatives(300)"
   ]
  },
  {
   "cell_type": "code",
   "execution_count": null,
   "metadata": {},
   "outputs": [],
   "source": []
  },
  {
   "cell_type": "code",
   "execution_count": 16,
   "metadata": {},
   "outputs": [],
   "source": [
    "start = time.time()\n",
    "transformed_full = rxnorm_resolution.transform(concepts_embedded)"
   ]
  },
  {
   "cell_type": "code",
   "execution_count": 17,
   "metadata": {},
   "outputs": [],
   "source": [
    "with_alternatives = transformed_full\\\n",
    "    .withColumn(\"resolution\",F.expr(\"split(rxnorm_result.metadata[0]['all_k_results'],':::')\"))"
   ]
  },
  {
   "cell_type": "code",
   "execution_count": 21,
   "metadata": {},
   "outputs": [],
   "source": [
    "evaled = with_alternatives\\\n",
    "    .withColumn(\"good\", F.expr(\"case when RXCUI=rxnorm_result.result[0] then 1 else 0 end\"))\\\n",
    "    .withColumn(\"hat5\", F.expr(\"case when array_contains(slice(resolution, 1, 5), RXCUI) then 1 else 0 end\"))\\\n",
    "    .withColumn(\"hat10\", F.expr(\"case when array_contains(slice(resolution, 1, 10), RXCUI) then 1 else 0 end\"))\\\n",
    "    .withColumn(\"hat20\", F.expr(\"case when array_contains(slice(resolution, 1, 20), RXCUI) then 1 else 0 end\"))\\\n",
    "    .withColumn(\"hat30\", F.expr(\"case when array_contains(slice(resolution, 1, 30), RXCUI) then 1 else 0 end\"))\\\n",
    "    .withColumn(\"hat500\", F.expr(\"case when array_contains(slice(resolution, 1, 100), RXCUI) then 1 else 0 end\"))"
   ]
  },
  {
   "cell_type": "code",
   "execution_count": 24,
   "metadata": {},
   "outputs": [
    {
     "name": "stdout",
     "output_type": "stream",
     "text": [
      "+------------------------------------------------------+----+----+-----+-----+-----+------+-----+\n",
      "|STY_TTY                                               |good|hat5|hat10|hat20|hat30|hat500|total|\n",
      "+------------------------------------------------------+----+----+-----+-----+-----+------+-----+\n",
      "|Clinical Drug Clinical Drug                           |0.86|0.88|0.91 |0.91 |0.91 |0.91  |65   |\n",
      "|Medical Device                                        |1.0 |1.0 |1.0  |1.0  |1.0  |1.0   |49   |\n",
      "|Pharmacologic Substance                               |0.84|0.84|0.84 |0.84 |0.84 |0.84  |45   |\n",
      "|Clinical Drug Semantic Drug Component                 |1.0 |1.0 |1.0  |1.0  |1.0  |1.0   |36   |\n",
      "|Clinical Drug Semantic branded drug group             |0.83|0.83|0.83 |0.83 |0.83 |0.83  |36   |\n",
      "|Clinical Drug Semantic Clinical Drug                  |0.94|0.94|0.94 |0.94 |0.94 |0.94  |32   |\n",
      "|Clinical Drug Clinical drug name in abbreviated format|0.9 |0.9 |0.9  |0.9  |0.9  |0.9   |31   |\n",
      "|Clinical Drug Semantic clinical drug and form         |1.0 |1.0 |1.0  |1.0  |1.0  |1.0   |25   |\n",
      "|Substance                                             |1.0 |1.0 |1.0  |1.0  |1.0  |1.0   |20   |\n",
      "|Clinical Drug Semantic Branded Drug Component         |0.89|0.89|0.89 |0.89 |0.89 |0.89  |19   |\n",
      "|Clinical Drug Semantic branded drug                   |0.94|0.94|0.94 |0.94 |0.94 |0.94  |17   |\n",
      "|Drug Delivery Device                                  |0.93|0.93|1.0  |1.0  |1.0  |1.0   |15   |\n",
      "|Clinical Drug Semantic clinical drug group            |0.93|0.93|0.93 |0.93 |0.93 |0.93  |14   |\n",
      "|Organic Chemical                                      |0.5 |0.5 |0.5  |0.5  |0.5  |0.5   |10   |\n",
      "|Food                                                  |1.0 |1.0 |1.0  |1.0  |1.0  |1.0   |9    |\n",
      "|Biomedical or Dental Material                         |0.71|0.71|0.71 |0.71 |0.71 |0.71  |7    |\n",
      "|Immunologic Factor                                    |1.0 |1.0 |1.0  |1.0  |1.0  |1.0   |3    |\n",
      "|Manufactured Object                                   |1.0 |1.0 |1.0  |1.0  |1.0  |1.0   |3    |\n",
      "| non - medicated\"                                     |1.0 |1.0 |1.0  |1.0  |1.0  |1.0   |1    |\n",
      "|Indicator, Reagent, or Diagnostic Aid                 |1.0 |1.0 |1.0  |1.0  |1.0  |1.0   |1    |\n",
      "+------------------------------------------------------+----+----+-----+-----+-----+------+-----+\n",
      "\n"
     ]
    }
   ],
   "source": [
    "evaled.groupby(\"STY_TTY\").agg(\n",
    "    F.mean(\"good\"), \n",
    "    F.mean(\"hat5\"), \n",
    "    F.mean(\"hat10\"), \n",
    "    F.mean(\"hat20\"), \n",
    "    F.mean(\"hat30\"), \n",
    "    F.mean(\"hat500\"), \n",
    "    F.count(\"good\")).orderBy(\"count(good)\", ascending=False)\\\n",
    ".selectExpr(\"STY_TTY\",\n",
    "            \"round(`avg(good)`, 2) as good\",\n",
    "            \"round(`avg(hat5)`, 2) as hat5\",\n",
    "            \"round(`avg(hat10)`, 2) as hat10\",\n",
    "            \"round(`avg(hat20)`, 2) as hat20\",\n",
    "            \"round(`avg(hat30)`, 2) as hat30\",\n",
    "            \"round(`avg(hat500)`, 2) as hat500\",\n",
    "            \"`count(good)` as total\")\\\n",
    ".show(100,False)"
   ]
  },
  {
   "cell_type": "code",
   "execution_count": 25,
   "metadata": {},
   "outputs": [
    {
     "name": "stdout",
     "output_type": "stream",
     "text": [
      "2.99 minutes\n"
     ]
    }
   ],
   "source": [
    "print(round((time.time()-start)/60, 2), \"minutes\")"
   ]
  },
  {
   "cell_type": "code",
   "execution_count": null,
   "metadata": {},
   "outputs": [],
   "source": []
  }
 ],
 "metadata": {
  "kernelspec": {
   "display_name": "jsl240",
   "language": "python",
   "name": "jsl240"
  },
  "language_info": {
   "codemirror_mode": {
    "name": "ipython",
    "version": 3
   },
   "file_extension": ".py",
   "mimetype": "text/x-python",
   "name": "python",
   "nbconvert_exporter": "python",
   "pygments_lexer": "ipython3",
   "version": "3.6.9"
  }
 },
 "nbformat": 4,
 "nbformat_minor": 2
}
