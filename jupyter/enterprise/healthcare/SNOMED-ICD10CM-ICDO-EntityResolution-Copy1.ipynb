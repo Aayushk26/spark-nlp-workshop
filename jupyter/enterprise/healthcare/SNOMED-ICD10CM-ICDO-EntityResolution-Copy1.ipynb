{
 "cells": [
  {
   "cell_type": "markdown",
   "metadata": {},
   "source": [
    "# ICD-O Entity Resolution - version 2.4.6\n",
    "\n",
    "## Example for ICD-O Entity Resolution Pipeline\n",
    "A common NLP problem in medical applications is to identify clinical entities with the snomed codes and also cancer specific entities with their ICD10CM codes and their ICDO histology behaviour.\n",
    "\n",
    "In this example we will use Spark-NLP to identify and resolve these entities using three ontologies: SNOMED, ICD10CM and ICD-O.\n",
    "\n",
    "Some cancer related clinical notes (taken from https://www.cancernetwork.com/case-studies):  \n",
    "https://www.cancernetwork.com/case-studies/large-scrotal-mass-multifocal-intra-abdominal-retroperitoneal-and-pelvic-metastases  \n",
    "https://oncology.medicinematters.com/lymphoma/chronic-lymphocytic-leukemia/case-study-small-b-cell-lymphocytic-lymphoma-and-chronic-lymphoc/12133054\n",
    "https://oncology.medicinematters.com/lymphoma/epidemiology/central-nervous-system-lymphoma/12124056\n",
    "https://oncology.medicinematters.com/lymphoma/case-study-cutaneous-t-cell-lymphoma/12129416\n",
    "\n",
    "Note 0: Desmoplastic small round cell tumor\n",
    "<div style=\"border:2px solid #747474; background-color: #e3e3e3; margin: 5px; padding: 10px\"> \n",
    "A 35-year-old African-American man was referred to our urology clinic by his primary care physician for consultation about a large left scrotal mass. The patient reported a 3-month history of left scrotal swelling that had progressively increased in size and was associated with mild left scrotal pain. He also had complaints of mild constipation, with hard stools every other day. He denied any urinary complaints. On physical examination, a hard paratesticular mass could be palpated in the left hemiscrotum extending into the left groin, separate from the left testicle, and measuring approximately 10 × 7 cm in size. A hard, lower abdominal mass in the suprapubic region could also be palpated in the midline. The patient was admitted urgently to the hospital for further evaluation with cross-sectional imaging and blood work.\n",
    "\n",
    "Laboratory results, including results of a complete blood cell count with differential, liver function tests, coagulation panel, and basic chemistry panel, were unremarkable except for a serum creatinine level of 2.6 mg/dL. Typical markers for a testicular germ cell tumor were within normal limits: the beta–human chorionic gonadotropin level was less than 1 mIU/mL and the alpha fetoprotein level was less than 2.8 ng/mL. A CT scan of the chest, abdomen, and pelvis with intravenous contrast was obtained, and it showed large multifocal intra-abdominal, retroperitoneal, and pelvic masses (Figure 1). On cross-sectional imaging, a 7.8-cm para-aortic mass was visualized compressing the proximal portion of the left ureter, creating moderate left hydroureteronephrosis. Additionally, three separate pelvic masses were present in the retrovesical space, each measuring approximately 5 to 10 cm at their largest diameter; these displaced the bladder anteriorly and the rectum posteriorly.\n",
    "\n",
    "The patient underwent ultrasound-guided needle biopsy of one of the pelvic masses on hospital day 3 for definitive diagnosis. Microscopic examination of the tissue by our pathologist revealed cellular islands with oval to elongated, irregular, and hyperchromatic nuclei; scant cytoplasm; and invading fibrous tissue—as well as three mitoses per high-powered field (Figure 2). Immunohistochemical staining demonstrated strong positivity for cytokeratin AE1/AE3, vimentin, and desmin. Further mutational analysis of the cells detected the presence of an EWS-WT1 fusion transcript consistent with a diagnosis of desmoplastic small round cell tumor.\n",
    "</div>\n",
    "\n",
    "Note 1: SLL and CLL\n",
    "<div style=\"border:2px solid #747474; background-color: #e3e3e3; margin: 5px; padding: 10px\"> \n",
    "A 72-year-old man with a history of diabetes mellitus, hypertension, and hypercholesterolemia self-palpated a left submandibular lump in 2012. Complete blood count (CBC) in his internist’s office showed solitary leukocytosis (white count 22) with predominant lymphocytes for which he was referred to a hematologist. Peripheral blood flow cytometry on 04/11/12 confirmed chronic lymphocytic leukemia (CLL)/small lymphocytic lymphoma (SLL): abnormal cell population comprising 63% of CD45 positive leukocytes, co-expressing CD5 and CD23 in CD19-positive B cells. CD38 was negative but other prognostic markers were not assessed at that time. The patient was observed regularly for the next 3 years and his white count trend was as follows: 22.8 (4/2012) --> 28.5 (07/2012) --> 32.2 (12/2012) --> 36.5 (02/2013) --> 42 (09/2013) --> 44.9 (01/2014) --> 75.8 (2/2015). His other counts stayed normal until early 2015 when he also developed anemia (hemoglobin [HGB] 10.9) although platelets remained normal at 215. He had been noticing enlargement of his cervical, submandibular, supraclavicular, and axillary lymphadenopathy for several months since 2014 and a positron emission tomography (PET)/computed tomography (CT) scan done in 12/2014 had shown extensive diffuse lymphadenopathy within the neck, chest, abdomen, and pelvis. Maximum standardized uptake value (SUV max) was similar to low baseline activity within the vasculature of the neck and chest. In the abdomen and pelvis, however, there was mild to moderately hypermetabolic adenopathy measuring up to SUV of 4. The largest right neck nodes measured up to 2.3 x 3 cm and left neck nodes measured up to 2.3 x 1.5 cm. His right axillary lymphadenopathy measured up to 5.5 x 2.6 cm and on the left measured up to 4.8 x 3.4 cm. Lymph nodes on the right abdomen and pelvis measured up to 6.7 cm and seemed to have some mass effect with compression on the urinary bladder without symptoms. He underwent a bone marrow biopsy on 02/03/15, which revealed hypercellular marrow (60%) with involvement by CLL (30%); flow cytometry showed CD38 and ZAP-70 positivity; fluorescence in situ hybridization (FISH) analysis showed 13q deletion/monosomy 13; IgVH was unmutated; karyotype was 46XY.\n",
    "</div>\n",
    "\n",
    "Note 2: CNS lymphoma: https://www.icd10data.com/ICD10CM/Codes/C00-D49/C81-C96/C85-/C85.89\n",
    "<div style=\"border:2px solid #747474; background-color: #e3e3e3; margin: 5px; padding: 10px\"> \n",
    "A 56-year-old woman began to experience vertigo, headaches, and frequent falls. A computed tomography (CT) scan of the brain revealed the presence of a 1.6 x 1.6 x 2.1 cm mass involving the fourth ventricle (Figure 14.1). A gadolinium-enhanced magnetic resonance imaging (MRI) scan confirmed the presence of the mass, and a stereotactic biopsy was performed that demonstrated a primary central nervous system lymphoma (PCNSL) with a diffuse large B-cell histology. Complete blood count (CBC), lactate dehydrogenase (LDH), and beta-2-microglobulin were normal. Systemic staging with a positron emission tomography (PET)/CT scan and bone marrow biopsy showed no evidence of lymphomatous involvement outside the CNS. An eye exam and lumbar puncture showed no evidence of either ocular or leptomeningeal involvement.\n",
    "</div>\n",
    "\n",
    "Note 3: Cutaneous T-cell lymphoma\n",
    "<div style=\"border:2px solid #747474; background-color: #e3e3e3; margin: 5px; padding: 10px\"> \n",
    "An 83-year-old female presented with a progressing pruritic cutaneous rash that started 8 years ago. On clinical exam there were numerous coalescing, infiltrated, scaly, and partially crusted erythematous plaques distributed over her trunk and extremities and a large fungating ulcerated nodule on her right thigh covering 75% of her total body surface area (Figure 10.1). Lymphoma associated alopecia and a left axillary lymphadenopathy were also noted. For the past 3–4 months she reported fatigue, severe pruritus, night sweats, 20 pounds of weight loss, and loss of appetite. \n",
    "</div>"
   ]
  },
  {
   "cell_type": "code",
   "execution_count": 1,
   "metadata": {},
   "outputs": [],
   "source": [
    "import sys, os, time, pandas as pd\n",
    "\n",
    "sys.path.append(\"/home/fernandrez/JSL/repos/spark-nlp/python\")\n",
    "sys.path.append(\"/home/fernandrez/JSL/repos/spark-nlp-internal/python\")\n",
    "\n",
    "from sparknlp.base import *\n",
    "from sparknlp.annotator import *\n",
    "from sparknlp_jsl.annotator import *\n",
    "import pyspark.sql.functions as F\n",
    "from pyspark.sql.types import StructType, StructField, StringType\n",
    "\n",
    "pd.set_option('display.max_colwidth', 250)\n",
    "pd.set_option('display.max_rows', 500)"
   ]
  },
  {
   "cell_type": "code",
   "execution_count": 2,
   "metadata": {},
   "outputs": [
    {
     "data": {
      "text/plain": [
       "'2.4.7'"
      ]
     },
     "execution_count": 2,
     "metadata": {},
     "output_type": "execute_result"
    }
   ],
   "source": [
    "import sparknlp_jsl\n",
    "sparknlp_jsl.version()"
   ]
  },
  {
   "cell_type": "code",
   "execution_count": 3,
   "metadata": {},
   "outputs": [],
   "source": [
    "spark = sparknlp_jsl.start(\"####\")"
   ]
  },
  {
   "cell_type": "markdown",
   "metadata": {},
   "source": [
    "## Let's create a dataset with all four case studies"
   ]
  },
  {
   "cell_type": "code",
   "execution_count": 4,
   "metadata": {},
   "outputs": [],
   "source": [
    "notes = []\n",
    "notes.append(\"\"\"circumflex 90% lesion.\"\"\")\n",
    "\n",
    "\n",
    "# Notes column names\n",
    "\n",
    "docid_col         = \"doc_id\"\n",
    "note_col          = \"description\"\n",
    "\n",
    "data = spark.createDataFrame([(i,n.lower(),) for i,n in enumerate(notes)], \n",
    "                             StructType([StructField(docid_col, StringType()),\n",
    "                                         StructField(note_col, StringType())]))"
   ]
  },
  {
   "cell_type": "markdown",
   "metadata": {},
   "source": [
    "## And let's build a SparkNLP pipeline with the following stages:\n",
    "- DocumentAssembler: Entry annotator for our pipelines; it creates the data structure for the Annotation Framework\n",
    "- SentenceDetector: Annotator to pragmatically separate complete sentences inside each document\n",
    "- Tokenizer: Annotator to separate sentences in tokens (generally words)\n",
    "- WordEmbeddings: Vectorization of word tokens, in this case using word embeddings trained from PubMed, ICD10 and other clinical resources.\n",
    "- ChunkEmbeddings: Aggregates the WordEmbeddings for each NER Chunk\n",
    "- Clinical NER + NerConverter: This annotators return Chunks related to generic clinical entities\n",
    "- BioNLP NER + NerConverter: This annotators return Chunks related to Cancer and Genetics diseases\n",
    "- ChunkEntityResolver: Annotator that performs search for the KNNs, in this case trained from ICDO Histology Behavior."
   ]
  },
  {
   "cell_type": "code",
   "execution_count": 5,
   "metadata": {},
   "outputs": [],
   "source": [
    "#Language and Model Repository\n",
    "\n",
    "models_language   = \"en\"\n",
    "models_repository = \"clinical/models\""
   ]
  },
  {
   "cell_type": "code",
   "execution_count": 6,
   "metadata": {},
   "outputs": [
    {
     "name": "stdout",
     "output_type": "stream",
     "text": [
      "embeddings_clinical download started this may take some time.\n",
      "Approximate size to download 1.6 GB\n",
      "[OK!]\n"
     ]
    }
   ],
   "source": [
    "# Embeddings Pretrained Model Name\n",
    "\n",
    "embeddings_name   = \"embeddings_clinical\"\n",
    "\n",
    "# Preparation and embeddings column names\n",
    "\n",
    "doc_col           = \"document\"\n",
    "sent_col          = \"sentence\"\n",
    "token_col         = \"token\"\n",
    "embeddings_col    = \"embeddings\"\n",
    "\n",
    "# Usual preparation Annotators and Embeddings\n",
    "\n",
    "docAssembler = DocumentAssembler().setInputCol(note_col).setOutputCol(doc_col)\n",
    "sentenceDetector = SentenceDetector().setInputCols(doc_col).setOutputCol(sent_col)\n",
    "tokenizer_chars = [\",\",\"\\/\",\" \",\".\",\"|\",\"@\",\"#\",\"%\",\"&\",\"\\\\$\",\"\\\\[\",\"\\\\]\",\"\\\\(\",\"\\\\)\",\"\\\\-\",\";\"]\n",
    "tokenizer = Tokenizer().setSplitChars(tokenizer_chars)\\\n",
    "    .setInputCols(sent_col).setOutputCol(token_col)\n",
    "embeddings = WordEmbeddingsModel.pretrained(embeddings_name, models_language, models_repository)\\\n",
    "    .setInputCols(sent_col, token_col)\\\n",
    "    .setOutputCol(embeddings_col)"
   ]
  },
  {
   "cell_type": "code",
   "execution_count": 7,
   "metadata": {},
   "outputs": [
    {
     "name": "stdout",
     "output_type": "stream",
     "text": [
      "ner_clinical download started this may take some time.\n",
      "Approximate size to download 13.8 MB\n",
      "[OK!]\n",
      "ner_bionlp download started this may take some time.\n",
      "Approximate size to download 13.9 MB\n",
      "[OK!]\n"
     ]
    }
   ],
   "source": [
    "# NER Pretrained Model Names\n",
    "\n",
    "clinical_ner_name = \"ner_clinical\"\n",
    "cancer_ner_name   = \"ner_bionlp\"\n",
    "\n",
    "# NER Column Names\n",
    "\n",
    "ner_clinical_col  = \"ner_clinical\"\n",
    "ner_bio_col       = \"ner_bio\"\n",
    "\n",
    "# Annotators responsible for the Cancer Genetics Entity Recognition task\n",
    "\n",
    "clinicalNer = NerDLModel.pretrained(clinical_ner_name, models_language, models_repository)\\\n",
    "    .setInputCols(sent_col, token_col, embeddings_col)\\\n",
    "    .setOutputCol(ner_clinical_col)\n",
    "\n",
    "bioNer = NerDLModel.pretrained(cancer_ner_name, models_language, models_repository)\\\n",
    "    .setInputCols(sent_col, token_col, embeddings_col)\\\n",
    "    .setOutputCol(ner_bio_col)"
   ]
  },
  {
   "cell_type": "code",
   "execution_count": 8,
   "metadata": {},
   "outputs": [],
   "source": [
    "# Chunk column names\n",
    "\n",
    "chunk_clinical_col = \"chunk_clinical\"\n",
    "chunk_cancer_col   = \"chunk_cancer\"\n",
    "\n",
    "#Converter annotators transform IOB tags into full chunks (sequence set of tokens) tagged with `entity` metadata\n",
    "\n",
    "clinicalConverter = NerConverter().setInputCols(sent_col, token_col, ner_clinical_col)\\\n",
    "    .setOutputCol(chunk_clinical_col)\n",
    "cancerConverter = NerConverter().setInputCols(sent_col, token_col, ner_bio_col)\\\n",
    "    .setOutputCol(chunk_cancer_col).setWhiteList(['Cancer']) # We whitelist just `Cancer` entities"
   ]
  },
  {
   "cell_type": "code",
   "execution_count": 9,
   "metadata": {},
   "outputs": [],
   "source": [
    "# ChunkEmbeddings column names\n",
    "\n",
    "chunk_embs_clinical_col = \"chunk_embs_clinical\"\n",
    "chunk_embs_cancer_col   = \"chunk_embs_cancer\"\n",
    "\n",
    "#ChunkEmbeddings annotators aggregate embeddings for each token in the chunk\n",
    "\n",
    "clinicalChunkEmbeddings = ChunkEmbeddings()\\\n",
    "  .setInputCols(chunk_clinical_col, embeddings_col)\\\n",
    "  .setOutputCol(chunk_embs_clinical_col)\n",
    "cancerChunkEmbeddings = ChunkEmbeddings()\\\n",
    "  .setInputCols(chunk_cancer_col, embeddings_col)\\\n",
    "  .setOutputCol(chunk_embs_cancer_col)"
   ]
  },
  {
   "cell_type": "code",
   "execution_count": 10,
   "metadata": {},
   "outputs": [],
   "source": [
    "# ChunkTokenizer column names\n",
    "\n",
    "chunk_token_clinical_col = \"chunk_token_clinical\"\n",
    "chunk_token_cancer_col   = \"chunk_token_cancer\"\n",
    "\n",
    "# ChunkTokenizer provides extra flexibility at the time of tokenizing a given chunk\n",
    "\n",
    "clinicalChunkTokenizer = ChunkTokenizer().setSplitChars(tokenizer_chars)\\\n",
    "    .setInputCols(chunk_clinical_col).setOutputCol(chunk_token_clinical_col)\n",
    "cancerChunkTokenizer = ChunkTokenizer().setSplitChars(tokenizer_chars)\\\n",
    "    .setInputCols(chunk_cancer_col).setOutputCol(chunk_token_cancer_col)"
   ]
  },
  {
   "cell_type": "code",
   "execution_count": 11,
   "metadata": {
    "scrolled": true
   },
   "outputs": [
    {
     "name": "stdout",
     "output_type": "stream",
     "text": [
      "ensembleresolve_snomed_clinical download started this may take some time.\n",
      "Approximate size to download 592.9 MB\n",
      "[OK!]\n",
      "chunkresolve_icd10cm_neoplasms_clinical download started this may take some time.\n",
      "Approximate size to download 15.4 MB\n",
      "[OK!]\n",
      "chunkresolve_icdo_clinical download started this may take some time.\n",
      "Approximate size to download 8.2 MB\n",
      "[OK!]\n"
     ]
    }
   ],
   "source": [
    "# Entity Resolution Pretrained Model Names\n",
    "\n",
    "snomed_model_name           = \"ensembleresolve_snomed_clinical\"\n",
    "icd10cm_model_name   = \"chunkresolve_icd10cm_neoplasms_clinical\"\n",
    "icd_model_name              = \"chunkresolve_icdo_clinical\"\n",
    "\n",
    "# Entity Resolution column Names\n",
    "\n",
    "snomed_token_col,snomed_chunk_col,snomed_embs_col = chunk_token_clinical_col,chunk_clinical_col,chunk_embs_clinical_col\n",
    "#snomed_token_col,snomed_chunk_col,snomed_embs_col = chunk_token_bio_col,chunk_bio_col,chunk_embs_bio_col\n",
    "\n",
    "snomed_clinical_col  = \"snomed_resolution\"\n",
    "icd10cm_col   = \"icd10cm_resolution\"\n",
    "icdo_col      = \"icdo_resolution\" \n",
    "\n",
    "snomedResolver = EnsembleEntityResolverModel()\\\n",
    "    .pretrained(snomed_model_name, models_language, models_repository)\\\n",
    "    .setEnableLevenshtein(True)\\\n",
    "    .setNeighbours(200).setAlternatives(5).setDistanceWeights([1,3,2,0,0,1])\\\n",
    "    .setExtramassPenalty(3).setPoolingStrategy(\"AVERAGE\")\\\n",
    "    .setInputCols(snomed_token_col, snomed_embs_col)\\\n",
    "    .setOutputCol(snomed_clinical_col)\\\n",
    "    \n",
    "icd10cmResolver = ChunkEntityResolverModel\\\n",
    "    .pretrained(icd10cm_model_name, models_language, models_repository)\\\n",
    "    .setEnableLevenshtein(True)\\\n",
    "    .setNeighbours(200).setAlternatives(5).setDistanceWeights([1,3,2,0,0,1])\\\n",
    "    .setExtramassPenalty(3).setPoolingStrategy(\"AVERAGE\")\\\n",
    "    .setInputCols(chunk_token_cancer_col, chunk_embs_cancer_col)\\\n",
    "    .setOutputCol(icd10cm_col)\n",
    "\n",
    "icdoResolver = ChunkEntityResolverModel\\\n",
    "    .pretrained(icd_model_name, models_language, models_repository)\\\n",
    "    .setEnableLevenshtein(True)\\\n",
    "    .setNeighbours(200).setAlternatives(5).setDistanceWeights([1,3,2,0,0,1])\\\n",
    "    .setExtramassPenalty(3).setPoolingStrategy(\"AVERAGE\")\\\n",
    "    .setInputCols(chunk_token_cancer_col, chunk_embs_cancer_col)\\\n",
    "    .setOutputCol(icdo_col)"
   ]
  },
  {
   "cell_type": "code",
   "execution_count": 12,
   "metadata": {},
   "outputs": [],
   "source": [
    "pipelineFull = Pipeline().setStages([\n",
    "    docAssembler, \n",
    "    sentenceDetector, \n",
    "    tokenizer, \n",
    "    embeddings, \n",
    "    clinicalNer,\n",
    "    bioNer,\n",
    "    clinicalConverter,\n",
    "    cancerConverter,\n",
    "    clinicalChunkEmbeddings, \n",
    "    cancerChunkEmbeddings, \n",
    "    clinicalChunkTokenizer,\n",
    "    cancerChunkTokenizer,\n",
    "    snomedResolver,\n",
    "    icd10cmResolver,\n",
    "    icdoResolver\n",
    "])"
   ]
  },
  {
   "cell_type": "code",
   "execution_count": 13,
   "metadata": {},
   "outputs": [],
   "source": [
    "pipelineModelFull = pipelineFull.fit(data)"
   ]
  },
  {
   "cell_type": "code",
   "execution_count": 14,
   "metadata": {},
   "outputs": [],
   "source": [
    "output = pipelineModelFull.transform(data).cache()"
   ]
  },
  {
   "cell_type": "markdown",
   "metadata": {},
   "source": [
    "## The key parts of our model are the **WordEmbeddings and ChunkEntityResolver**: \n",
    "\n",
    "### WordEmebeddings:   \n",
    "Word2Vec model trained on semantically augmented datasets using information from curated Datasets in JSL Data Market.  \n",
    "\n",
    "### EntityResolver:  \n",
    "Trained on an augmented ICDO Dataset from JSL Data Market it provides histology codes resolution for the matched expressions. Other than providing the code in the \"result\" field it provides more metadata about the matching process:  \n",
    "\n",
    "- all_k_results -> Sorted ResolverLabels in the top `alternatives` that match the distance `threshold`\n",
    "- all_k_resolutions -> Respective ResolverNormalized strings\n",
    "- all_k_distances -> Respective distance values after aggregation\n",
    "- all_k_wmd_distances -> Respective WMD distance values (added if allDistancesMetadata==True)\n",
    "- all_k_tfidf_distances -> Respective TFIDF Cosine distance values (added if allDistancesMetadata==True)\n",
    "- all_k_jaccard_distances -> Respective Jaccard distance values (added if allDistancesMetadata==True)\n",
    "- all_k_sorensen_distances -> Respective SorensenDice distance values (added if allDistancesMetadata==True)\n",
    "- all_k_jaro_distances -> Respective JaroWinkler distance values (added if allDistancesMetadata==True)\n",
    "- all_k_levenshtein_distances -> Respective Levenshtein distance values (added if allDistancesMetadata==True)\n",
    "- all_k_confidences -> Respective normalized probabilities based in inverse distance valuesprobability (added if allDistancesMetadata==True)\n",
    "- target_text -> The actual searched string\n",
    "- resolved_text -> The top ResolverNormalized string\n",
    "- confidence -> Top probability\n",
    "- distance -> Top distance value\n",
    "- sentence -> Sentence index\n",
    "- chunk -> Chunk Index\n",
    "- token -> Token index"
   ]
  },
  {
   "cell_type": "code",
   "execution_count": 15,
   "metadata": {},
   "outputs": [],
   "source": [
    "def quick_metadata_analysis(df, doc_field, chunk_field, code_fields):\n",
    "    code_res_meta = \", \".join([f\"{cf}.result, {cf}.metadata\" for cf in code_fields])\n",
    "    expression = f\"explode(arrays_zip({chunk_field}.begin, {chunk_field}.end, {chunk_field}.result, {chunk_field}.metadata, \"+code_res_meta+\")) as a\"\n",
    "    top_n_rest = [(f\"a['{2*i+4}'] as {(cf.split('_')[0])}\",\n",
    "                   f\"float(a['{2*i+5}'].distance) as {(cf.split('_')[0])}_dst\",\n",
    "                   f\"a['{2*i+5}'].confidence as {(cf.split('_')[0])}_conf\",\n",
    "                    f\"split(a['{2*i+5}'].all_k_resolutions,':::') as {cf.split('_')[0]+'_opts'}\")\n",
    "                    for i, cf in enumerate(code_fields)]\n",
    "    top_n_rest_args = []\n",
    "    for tr in top_n_rest:\n",
    "        for t in tr:\n",
    "            top_n_rest_args.append(t)\n",
    "    return df.selectExpr(doc_field, expression) \\\n",
    "        .orderBy(docid_col, F.expr(\"a['0']\"), F.expr(\"a['1']\"))\\\n",
    "        .selectExpr(f\"concat_ws('::',{doc_field},a['0'],a['1']) as coords\", \"a['2'] as chunk\",\"a['3'].entity as entity\", *top_n_rest_args)"
   ]
  },
  {
   "cell_type": "code",
   "execution_count": 16,
   "metadata": {},
   "outputs": [],
   "source": [
    "snomed_analysis = \\\n",
    "quick_metadata_analysis(output, docid_col, snomed_chunk_col,[snomed_clinical_col]).toPandas()"
   ]
  },
  {
   "cell_type": "code",
   "execution_count": 17,
   "metadata": {},
   "outputs": [],
   "source": [
    "cancer_analysis = \\\n",
    "quick_metadata_analysis(output, docid_col, chunk_cancer_col,[icd10cm_col, icdo_col]).toPandas()"
   ]
  },
  {
   "cell_type": "code",
   "execution_count": 20,
   "metadata": {},
   "outputs": [
    {
     "data": {
      "text/html": [
       "<div>\n",
       "<style scoped>\n",
       "    .dataframe tbody tr th:only-of-type {\n",
       "        vertical-align: middle;\n",
       "    }\n",
       "\n",
       "    .dataframe tbody tr th {\n",
       "        vertical-align: top;\n",
       "    }\n",
       "\n",
       "    .dataframe thead th {\n",
       "        text-align: right;\n",
       "    }\n",
       "</style>\n",
       "<table border=\"1\" class=\"dataframe\">\n",
       "  <thead>\n",
       "    <tr style=\"text-align: right;\">\n",
       "      <th></th>\n",
       "      <th>coords</th>\n",
       "      <th>chunk</th>\n",
       "      <th>entity</th>\n",
       "      <th>snomed</th>\n",
       "      <th>snomed_dst</th>\n",
       "      <th>snomed_conf</th>\n",
       "      <th>snomed_opts</th>\n",
       "    </tr>\n",
       "  </thead>\n",
       "  <tbody>\n",
       "    <tr>\n",
       "      <td>0</td>\n",
       "      <td>0::0::20</td>\n",
       "      <td>circumflex 90% lesion</td>\n",
       "      <td>PROBLEM</td>\n",
       "      <td>399107008</td>\n",
       "      <td>1.4111</td>\n",
       "      <td>0.2395</td>\n",
       "      <td>[Lateral popliteal nerve lesion, Thrombosis of left circumflex artery, Occlusion of circumflex coronary artery, Circumflex runs posterior to aorta, Trifurcation lesion of coronary artery]</td>\n",
       "    </tr>\n",
       "  </tbody>\n",
       "</table>\n",
       "</div>"
      ],
      "text/plain": [
       "     coords                  chunk   entity     snomed  snomed_dst  \\\n",
       "0  0::0::20  circumflex 90% lesion  PROBLEM  399107008      1.4111   \n",
       "\n",
       "  snomed_conf  \\\n",
       "0      0.2395   \n",
       "\n",
       "                                                                                                                                                                                   snomed_opts  \n",
       "0  [Lateral popliteal nerve lesion, Thrombosis of left circumflex artery, Occlusion of circumflex coronary artery, Circumflex runs posterior to aorta, Trifurcation lesion of coronary artery]  "
      ]
     },
     "execution_count": 20,
     "metadata": {},
     "output_type": "execute_result"
    }
   ],
   "source": [
    "snomed_analysis"
   ]
  },
  {
   "cell_type": "code",
   "execution_count": 21,
   "metadata": {},
   "outputs": [
    {
     "data": {
      "text/html": [
       "<div>\n",
       "<style scoped>\n",
       "    .dataframe tbody tr th:only-of-type {\n",
       "        vertical-align: middle;\n",
       "    }\n",
       "\n",
       "    .dataframe tbody tr th {\n",
       "        vertical-align: top;\n",
       "    }\n",
       "\n",
       "    .dataframe thead th {\n",
       "        text-align: right;\n",
       "    }\n",
       "</style>\n",
       "<table border=\"1\" class=\"dataframe\">\n",
       "  <thead>\n",
       "    <tr style=\"text-align: right;\">\n",
       "      <th></th>\n",
       "      <th>coords</th>\n",
       "      <th>chunk</th>\n",
       "      <th>entity</th>\n",
       "      <th>icd10cm</th>\n",
       "      <th>icd10cm_dst</th>\n",
       "      <th>icd10cm_conf</th>\n",
       "      <th>icd10cm_opts</th>\n",
       "      <th>icdo</th>\n",
       "      <th>icdo_dst</th>\n",
       "      <th>icdo_conf</th>\n",
       "      <th>icdo_opts</th>\n",
       "    </tr>\n",
       "  </thead>\n",
       "  <tbody>\n",
       "  </tbody>\n",
       "</table>\n",
       "</div>"
      ],
      "text/plain": [
       "Empty DataFrame\n",
       "Columns: [coords, chunk, entity, icd10cm, icd10cm_dst, icd10cm_conf, icd10cm_opts, icdo, icdo_dst, icdo_conf, icdo_opts]\n",
       "Index: []"
      ]
     },
     "execution_count": 21,
     "metadata": {},
     "output_type": "execute_result"
    }
   ],
   "source": [
    "cancer_analysis"
   ]
  },
  {
   "cell_type": "code",
   "execution_count": null,
   "metadata": {},
   "outputs": [],
   "source": []
  }
 ],
 "metadata": {
  "kernelspec": {
   "display_name": "jsl368",
   "language": "python",
   "name": "jsl368"
  },
  "language_info": {
   "codemirror_mode": {
    "name": "ipython",
    "version": 3
   },
   "file_extension": ".py",
   "mimetype": "text/x-python",
   "name": "python",
   "nbconvert_exporter": "python",
   "pygments_lexer": "ipython3",
   "version": "3.6.8"
  }
 },
 "nbformat": 4,
 "nbformat_minor": 2
}
