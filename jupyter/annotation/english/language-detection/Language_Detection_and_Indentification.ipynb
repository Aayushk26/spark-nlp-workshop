{
 "cells": [
  {
   "cell_type": "markdown",
   "metadata": {
    "colab_type": "text",
    "id": "DryaQ76bhsVy"
   },
   "source": [
    "![JohnSnowLabs](https://nlp.johnsnowlabs.com/assets/images/logo.png)\n",
    "\n",
    "[![Open In Colab](https://colab.research.google.com/assets/colab-badge.svg)](https://github.com/JohnSnowLabs/spark-nlp-workshop/blob/master/jupyter/annotation/english/language-detection/Language_Detection_and_Indentification.ipynb)\n",
    "\n",
    "## 0. Colab Setup"
   ]
  },
  {
   "cell_type": "code",
   "execution_count": 19,
   "metadata": {
    "colab": {
     "base_uri": "https://localhost:8080/",
     "height": 68
    },
    "colab_type": "code",
    "id": "jaJI-cfjPnac",
    "outputId": "729d2536-d49a-437b-d783-b1e59259ed49"
   },
   "outputs": [
    {
     "name": "stdout",
     "output_type": "stream",
     "text": [
      "openjdk version \"1.8.0_252\"\n",
      "OpenJDK Runtime Environment (build 1.8.0_252-8u252-b09-1~18.04-b09)\n",
      "OpenJDK 64-Bit Server VM (build 25.252-b09, mixed mode)\n"
     ]
    }
   ],
   "source": [
    "import os\n",
    "\n",
    "# Install java\n",
    "! apt-get update -qq\n",
    "! apt-get install -y openjdk-8-jdk-headless -qq > /dev/null\n",
    "\n",
    "os.environ[\"JAVA_HOME\"] = \"/usr/lib/jvm/java-8-openjdk-amd64\"\n",
    "os.environ[\"PATH\"] = os.environ[\"JAVA_HOME\"] + \"/bin:\" + os.environ[\"PATH\"]\n",
    "! java -version\n",
    "\n",
    "# Install pyspark\n",
    "! pip install --ignore-installed pyspark==2.4.4\n",
    "\n",
    "# Install Spark NLP\n",
    "! pip install --ignore-installed spark-nlp"
   ]
  },
  {
   "cell_type": "markdown",
   "metadata": {
    "colab_type": "text",
    "id": "ODtmoBwfoX3T"
   },
   "source": [
    "## 1. Start Spark Session"
   ]
  },
  {
   "cell_type": "code",
   "execution_count": 2,
   "metadata": {
    "colab": {
     "base_uri": "https://localhost:8080/",
     "height": 51
    },
    "colab_type": "code",
    "id": "5q8yjPy8oUBj",
    "outputId": "d3dca249-5180-4cac-f4c2-4d6bb297c86b"
   },
   "outputs": [
    {
     "name": "stdout",
     "output_type": "stream",
     "text": [
      "Spark NLP version 2.5.4\n",
      "Apache Spark version: 2.4.4\n"
     ]
    }
   ],
   "source": [
    "import sparknlp\n",
    "\n",
    "spark = sparknlp.start()\n",
    "\n",
    "print(\"Spark NLP version\", sparknlp.version())\n",
    "\n",
    "print(\"Apache Spark version:\", spark.version)\n"
   ]
  },
  {
   "cell_type": "code",
   "execution_count": 2,
   "metadata": {
    "colab": {},
    "colab_type": "code",
    "id": "V5J6mXQSPyo3"
   },
   "outputs": [],
   "source": []
  },
  {
   "cell_type": "markdown",
   "metadata": {
    "colab_type": "text",
    "id": "O4gGGYD6P6NN"
   },
   "source": [
    "## LanguageDetectorDL Pre-trained Pipelines\n",
    "\n",
    "* Available pre-trained pipelines: https://github.com/JohnSnowLabs/spark-nlp-models#multi-language---pipelines\n",
    "\n",
    "| Pipeline                 | Name                   | Build  | lang  | Offline   |\n",
    ":-----------------------|:-------|:-------|:----------|:----------|\n",
    "| LanguageDetectorDL    | `detect_language_7`        | 2.5.2 |      `xx` |[Download](https://s3.amazonaws.com/auxdata.johnsnowlabs.com/public/models/detect_language_7_xx_2.5.0_2.4_1591875676774.zip) |\n",
    "| LanguageDetectorDL    | `detect_language_20`        | 2.5.2 |      `xx` |[Download](https://s3.amazonaws.com/auxdata.johnsnowlabs.com/public/models/detect_language_20_xx_2.5.0_2.4_1591875683182.zip) |\n",
    "\n",
    "\n",
    "* Available pre-trained models: https://github.com/JohnSnowLabs/spark-nlp-models#multi-language\n",
    "\n",
    "| Model                        | Name               | Build            | Lang | Offline |\n",
    "|:-----------------------------|:-------------------|:-----------------|:------|:------|\n",
    "| LanguageDetectorDL    | `ld_wiki_7`        | 2.5.2 |      `xx`         | [Download](https://s3.amazonaws.com/auxdata.johnsnowlabs.com/public/models/ld_wiki_7_xx_2.5.0_2.4_1591875673486.zip) |\n",
    "| LanguageDetectorDL    | `ld_wiki_20`        | 2.5.2 |      `xx`         | [Download](https://s3.amazonaws.com/auxdata.johnsnowlabs.com/public/models/ld_wiki_20_xx_2.5.0_2.4_1591875680011.zip) |\n",
    "\n",
    "* The model with 7 languages: Czech, German, English, Spanish, French, Italy, and Slovak\n",
    "* The model with 20 languages: Bulgarian, Czech, German, Greek, English, Spanish, Finnish, French, Croatian, Hungarian, Italy, Norwegian, Polish, Portuguese, Romanian, Russian, Slovak, Swedish, Turkish, and Ukrainian\n",
    "\n"
   ]
  },
  {
   "cell_type": "markdown",
   "metadata": {
    "colab_type": "text",
    "id": "PmG3Pw0wQ4RR"
   },
   "source": [
    "# LanguageDetectorDL\n",
    "## Pre-trained Pipelines"
   ]
  },
  {
   "cell_type": "code",
   "execution_count": 3,
   "metadata": {
    "colab": {},
    "colab_type": "code",
    "id": "vvTiBzCwQ20J"
   },
   "outputs": [],
   "source": [
    "from sparknlp.pretrained import PretrainedPipeline"
   ]
  },
  {
   "cell_type": "code",
   "execution_count": 4,
   "metadata": {
    "colab": {
     "base_uri": "https://localhost:8080/",
     "height": 85
    },
    "colab_type": "code",
    "id": "c4e1jc5ARGNv",
    "outputId": "f50c1064-155a-4aa8-8e40-0653f621357f"
   },
   "outputs": [
    {
     "name": "stdout",
     "output_type": "stream",
     "text": [
      "detect_language_20 download started this may take some time.\n",
      "Approx size to download 3 MB\n",
      "[OK!]\n"
     ]
    },
    {
     "data": {
      "text/plain": [
       "{'document': ['«Нападение на 13-й участок»'], 'language': ['ru']}"
      ]
     },
     "execution_count": 4,
     "metadata": {
      "tags": []
     },
     "output_type": "execute_result"
    }
   ],
   "source": [
    "# Download a pre-trained pipeline by name and language\n",
    "language_detector_pipeline = PretrainedPipeline('detect_language_20', lang='xx')\n",
    "\n",
    "# Depending on the language (how similar the characters are), the LanguageDetectorDL works\n",
    "# best with text longer than 140 characters\n",
    "language_detector_pipeline.annotate(\"«Нападение на 13-й участок»\")\n"
   ]
  },
  {
   "cell_type": "markdown",
   "metadata": {
    "colab_type": "text",
    "id": "HueVA_myV_3T"
   },
   "source": [
    "# LanguageDetectorDL\n",
    "## Pre-trained Models"
   ]
  },
  {
   "cell_type": "code",
   "execution_count": 5,
   "metadata": {
    "colab": {},
    "colab_type": "code",
    "id": "ttZ219E_WE52"
   },
   "outputs": [],
   "source": [
    "from sparknlp.base import *\n",
    "from sparknlp.annotator import *"
   ]
  },
  {
   "cell_type": "code",
   "execution_count": 6,
   "metadata": {
    "colab": {
     "base_uri": "https://localhost:8080/",
     "height": 68
    },
    "colab_type": "code",
    "id": "5iicvy3sWPu0",
    "outputId": "9883d655-67d3-452d-e572-542c29d92687"
   },
   "outputs": [
    {
     "name": "stdout",
     "output_type": "stream",
     "text": [
      "ld_wiki_20 download started this may take some time.\n",
      "Approximate size to download 3 MB\n",
      "[OK!]\n"
     ]
    }
   ],
   "source": [
    "documentAssembler = DocumentAssembler()\\\n",
    ".setInputCol(\"text\")\\\n",
    ".setOutputCol(\"document\")\n",
    "\n",
    "language_detector = LanguageDetectorDL.pretrained(\"ld_wiki_20\")\\\n",
    ".setInputCols([\"document\"])\\\n",
    ".setOutputCol(\"lang\")\\\n",
    ".setThreshold(0.8)\\\n",
    ".setCoalesceSentences(True)\n",
    "\n",
    "languagePipeline = Pipeline(stages=[\n",
    " documentAssembler, \n",
    " language_detector\n",
    "])"
   ]
  },
  {
   "cell_type": "code",
   "execution_count": 13,
   "metadata": {
    "colab": {},
    "colab_type": "code",
    "id": "5WT1pE_yYukK"
   },
   "outputs": [],
   "source": [
    "test_df = spark.createDataFrame([\n",
    "  ['Spark NLP is an open-source text processing library for advanced natural language processing for the Python, Java and Scala programming languages.'], \n",
    "  ['Spark NLP est une bibliothèque de traitement de texte open source pour le traitement avancé du langage naturel pour les langages de programmation Python, Java et Scala.']]\n",
    ").toDF(\"text\")\n",
    "\n",
    "results = languagePipeline.fit(test_df).transform(test_df)"
   ]
  },
  {
   "cell_type": "code",
   "execution_count": 14,
   "metadata": {
    "colab": {
     "base_uri": "https://localhost:8080/",
     "height": 136
    },
    "colab_type": "code",
    "id": "ITNTdXy-aRpF",
    "outputId": "145fb725-2582-47ab-fba8-fe35354e4261"
   },
   "outputs": [
    {
     "name": "stdout",
     "output_type": "stream",
     "text": [
      "+------+\n",
      "|result|\n",
      "+------+\n",
      "|  [en]|\n",
      "|  [fr]|\n",
      "+------+\n",
      "\n"
     ]
    }
   ],
   "source": [
    "results.select(\"lang.result\").show()"
   ]
  },
  {
   "cell_type": "code",
   "execution_count": 18,
   "metadata": {
    "colab": {
     "base_uri": "https://localhost:8080/",
     "height": 156
    },
    "colab_type": "code",
    "id": "-jgLXnlYdyUG",
    "outputId": "4fcf0f8d-443f-46dd-82e9-1944d104fd56"
   },
   "outputs": [
    {
     "name": "stdout",
     "output_type": "stream",
     "text": [
      "+------------------------------------------------------------------------------------------------------------------------------------------------------------------------------------------------------------------------------------------------------------------------------------------------------------------------------------------------------------------------------------------------------------------------+\n",
      "|metadata                                                                                                                                                                                                                                                                                                                                                                                                                |\n",
      "+------------------------------------------------------------------------------------------------------------------------------------------------------------------------------------------------------------------------------------------------------------------------------------------------------------------------------------------------------------------------------------------------------------------------+\n",
      "|[[hr -> 2.7229557E-6, fr -> 1.0720666E-4, uk -> 6.5247244E-5, pt -> 1.8688758E-6, cs -> 1.0976296E-5, el -> 3.8162514E-4, it -> 2.6522164E-4, bg -> 5.8392897E-7, de -> 8.9711895E-5, ru -> 6.625765E-6, sv -> 0.044350237, tr -> 8.242238E-5, en -> 0.94981474, sk -> 3.7384234E-6, es -> 0.003909828, fi -> 3.08096E-5, ro -> 9.9297895E-6, no -> 7.2228565E-4, sentence -> 0, hu -> 3.1707139E-6, pl -> 1.411264E-4]]|\n",
      "|[[hr -> 1.1118493E-6, fr -> 0.9993919, uk -> 2.502458E-6, pt -> 6.5929294E-6, cs -> 7.956444E-8, el -> 1.3123964E-7, it -> 3.755415E-4, bg -> 6.2583473E-7, de -> 4.6110285E-6, ru -> 1.758672E-6, sv -> 9.392854E-6, tr -> 1.4477648E-6, en -> 4.266929E-6, sk -> 5.5532535E-8, es -> 1.1704125E-4, fi -> 6.6254083E-6, ro -> 2.5159832E-6, no -> 6.737324E-5, sentence -> 0, hu -> 6.344919E-6, pl -> 9.089117E-10]]  |\n",
      "+------------------------------------------------------------------------------------------------------------------------------------------------------------------------------------------------------------------------------------------------------------------------------------------------------------------------------------------------------------------------------------------------------------------------+\n",
      "\n"
     ]
    }
   ],
   "source": [
    "# probabilities for other languages\n",
    "results.select(\"lang.metadata\").show(2, False)"
   ]
  },
  {
   "cell_type": "code",
   "execution_count": null,
   "metadata": {
    "colab": {},
    "colab_type": "code",
    "id": "JSgwz7g4dzpu"
   },
   "outputs": [],
   "source": []
  }
 ],
 "metadata": {
  "colab": {
   "collapsed_sections": [],
   "name": "Language Detection and Indentification.ipynb",
   "provenance": []
  },
  "kernelspec": {
   "display_name": "Python 3",
   "language": "python",
   "name": "python3"
  },
  "language_info": {
   "codemirror_mode": {
    "name": "ipython",
    "version": 3
   },
   "file_extension": ".py",
   "mimetype": "text/x-python",
   "name": "python",
   "nbconvert_exporter": "python",
   "pygments_lexer": "ipython3",
   "version": "3.6.9"
  }
 },
 "nbformat": 4,
 "nbformat_minor": 1
}
