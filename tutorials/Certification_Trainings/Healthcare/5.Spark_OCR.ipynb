{
 "cells": [
  {
   "cell_type": "markdown",
   "metadata": {
    "colab_type": "text",
    "id": "I08sFJYCxR0Z"
   },
   "source": [
    "![JohnSnowLabs](https://nlp.johnsnowlabs.com/assets/images/logo.png)"
   ]
  },
  {
   "cell_type": "markdown",
   "metadata": {
    "colab_type": "text",
    "id": "VJbAaitZrXus"
   },
   "source": [
    "[![Open In Colab](https://colab.research.google.com/assets/colab-badge.svg)](https://colab.research.google.com/github/JohnSnowLabs/spark-nlp-workshop/blob/master/tutorials/Certification_Trainings/Healthcare/5.Spark_OCR.ipynb.ipynb)"
   ]
  },
  {
   "cell_type": "markdown",
   "metadata": {
    "colab_type": "text",
    "id": "Niy3mZAjoayg"
   },
   "source": [
    "# Spark OCR\n",
    "\n",
    "### .. will be enriched ... work in progress ... "
   ]
  },
  {
   "cell_type": "markdown",
   "metadata": {
    "colab_type": "text",
    "id": "okhT7AcXxben"
   },
   "source": [
    "## Colab Setup"
   ]
  },
  {
   "cell_type": "code",
   "execution_count": null,
   "metadata": {
    "colab": {},
    "colab_type": "code",
    "id": "8vLlAJoYqBeW"
   },
   "outputs": [],
   "source": [
    "import json\n",
    "\n",
    "with open('license_keys.json') as f_in:\n",
    "    license_keys = json.load(f_in)\n",
    "\n",
    "license_keys.keys()"
   ]
  },
  {
   "cell_type": "code",
   "execution_count": null,
   "metadata": {},
   "outputs": [],
   "source": [
    "# template for license_key.json\n",
    "\n",
    "{'secret':\"xxx\",\n",
    "'SPARK_NLP_LICENSE': 'aaa',\n",
    "'JSL_OCR_LICENSE': 'bbb',\n",
    "'AWS_ACCESS_KEY_ID':\"ccc\",\n",
    "'AWS_SECRET_ACCESS_KEY':\"ddd\",\n",
    "'JSL_OCR_SECRET':\"eee\"}"
   ]
  },
  {
   "cell_type": "code",
   "execution_count": null,
   "metadata": {
    "colab": {},
    "colab_type": "code",
    "id": "qQU5OpT2juE9"
   },
   "outputs": [],
   "source": [
    "ocr_version = '1.2.0'\n",
    "\n",
    "secret = license_keys['JSL_OCR_SECRET']\n",
    "\n",
    "%pip install spark-ocr==$version --user --extra-index-url=https://pypi.johnsnowlabs.com/$secret --upgrade"
   ]
  },
  {
   "cell_type": "code",
   "execution_count": null,
   "metadata": {
    "colab": {},
    "colab_type": "code",
    "id": "A0NtTra9i2pV"
   },
   "outputs": [],
   "source": [
    "import os\n",
    "os.environ[\"JAVA_HOME\"] = \"/usr/lib/jvm/java-8-openjdk-amd64\"\n",
    "os.environ[\"PATH\"] = os.environ[\"JAVA_HOME\"] + \"/bin:\" + os.environ[\"PATH\"]"
   ]
  },
  {
   "cell_type": "code",
   "execution_count": null,
   "metadata": {
    "colab": {
     "base_uri": "https://localhost:8080/",
     "height": 216
    },
    "colab_type": "code",
    "id": "DFHbWwX4juxv",
    "outputId": "f3a5b571-f8c0-47cf-b540-c68cfa160c10"
   },
   "outputs": [
    {
     "data": {
      "text/html": [
       "\n",
       "            <div>\n",
       "                <p><b>SparkSession - in-memory</b></p>\n",
       "                \n",
       "        <div>\n",
       "            <p><b>SparkContext</b></p>\n",
       "\n",
       "            <p><a href=\"http://eba165edeb68:4040\">Spark UI</a></p>\n",
       "\n",
       "            <dl>\n",
       "              <dt>Version</dt>\n",
       "                <dd><code>v2.4.4</code></dd>\n",
       "              <dt>Master</dt>\n",
       "                <dd><code>local[*]</code></dd>\n",
       "              <dt>AppName</dt>\n",
       "                <dd><code>Spark OCR</code></dd>\n",
       "            </dl>\n",
       "        </div>\n",
       "        \n",
       "            </div>\n",
       "        "
      ],
      "text/plain": [
       "<pyspark.sql.session.SparkSession at 0x7fb365853a58>"
      ]
     },
     "execution_count": 5,
     "metadata": {
      "tags": []
     },
     "output_type": "execute_result"
    }
   ],
   "source": [
    "import sparkocr\n",
    "import sys\n",
    "from pyspark.sql import SparkSession\n",
    "from sparkocr import start\n",
    "import os\n",
    "\n",
    "os.environ['JSL_OCR_LICENSE'] = license_keys['JSL_OCR_LICENSE']\n",
    "\n",
    "spark = start(secret=secret)\n",
    "spark"
   ]
  },
  {
   "cell_type": "code",
   "execution_count": null,
   "metadata": {
    "colab": {
     "base_uri": "https://localhost:8080/",
     "height": 283
    },
    "colab_type": "code",
    "id": "Kj8tsYfljiBP",
    "outputId": "c29778e6-5696-4638-e279-d89f72c67521"
   },
   "outputs": [
    {
     "name": "stdout",
     "output_type": "stream",
     "text": [
      "--2020-04-10 14:45:06--  http://www.asx.com.au/asxpdf/20171103/pdf/43nyyw9r820c6r.pdf\n",
      "Resolving www.asx.com.au (www.asx.com.au)... 203.15.147.66\n",
      "Connecting to www.asx.com.au (www.asx.com.au)|203.15.147.66|:80... connected.\n",
      "HTTP request sent, awaiting response... 302 Found\n",
      "Location: https://www.asx.com.au/asxpdf/20171103/pdf/43nyyw9r820c6r.pdf [following]\n",
      "--2020-04-10 14:45:07--  https://www.asx.com.au/asxpdf/20171103/pdf/43nyyw9r820c6r.pdf\n",
      "Connecting to www.asx.com.au (www.asx.com.au)|203.15.147.66|:443... connected.\n",
      "HTTP request sent, awaiting response... 200 OK\n",
      "Length: 212973 (208K) [application/pdf]\n",
      "Saving to: ‘43nyyw9r820c6r.pdf’\n",
      "\n",
      "43nyyw9r820c6r.pdf  100%[===================>] 207.98K   487KB/s    in 0.4s    \n",
      "\n",
      "2020-04-10 14:45:08 (487 KB/s) - ‘43nyyw9r820c6r.pdf’ saved [212973/212973]\n",
      "\n"
     ]
    }
   ],
   "source": [
    "!wget 'http://www.asx.com.au/asxpdf/20171103/pdf/43nyyw9r820c6r.pdf'\n"
   ]
  },
  {
   "cell_type": "code",
   "execution_count": null,
   "metadata": {
    "colab": {},
    "colab_type": "code",
    "id": "FwAGTafIj4Bi"
   },
   "outputs": [],
   "source": [
    "import base64\n",
    "from sparkocr.transformers import *\n",
    "from pyspark.ml import PipelineModel\n",
    "\n",
    "def pipeline():\n",
    "    \n",
    "    # Transforrm PDF document to images per page\n",
    "    pdf_to_image = PdfToImage()\n",
    "    pdf_to_image.setInputCol(\"content\")\n",
    "    pdf_to_image.setOutputCol(\"image\")\n",
    "\n",
    "    # Run tesseract OCR\n",
    "    ocr = TesseractOcr()\n",
    "    ocr.setInputCol(\"image\")\n",
    "    ocr.setOutputCol(\"text\")\n",
    "    ocr.setConfidenceThreshold(65)\n",
    "    \n",
    "    pipeline = PipelineModel(stages=[\n",
    "        pdf_to_image,\n",
    "        ocr\n",
    "    ])\n",
    "    \n",
    "    return pipeline"
   ]
  },
  {
   "cell_type": "code",
   "execution_count": null,
   "metadata": {
    "colab": {},
    "colab_type": "code",
    "id": "xNh4i1Woj6oo"
   },
   "outputs": [],
   "source": [
    "pdf = '43nyyw9r820c6r.pdf'\n",
    "pdf_example_df = spark.read.format(\"binaryFile\").load(pdf).cache()"
   ]
  },
  {
   "cell_type": "code",
   "execution_count": null,
   "metadata": {
    "colab": {},
    "colab_type": "code",
    "id": "Tp7a9yMqkCGu"
   },
   "outputs": [],
   "source": [
    "result = pipeline().transform(pdf_example_df).cache()\n"
   ]
  },
  {
   "cell_type": "code",
   "execution_count": null,
   "metadata": {
    "colab": {
     "base_uri": "https://localhost:8080/",
     "height": 141
    },
    "colab_type": "code",
    "id": "VWND8q95kE47",
    "outputId": "08e20fb8-9792-4f12-8db7-6d8f4e78180a"
   },
   "outputs": [
    {
     "name": "stdout",
     "output_type": "stream",
     "text": [
      "+-------+--------------------+-----------------+\n",
      "|pagenum|                text|       confidence|\n",
      "+-------+--------------------+-----------------+\n",
      "|      0|ASX ANNOUNCEMENT\n",
      "...|95.18117046356201|\n",
      "+-------+--------------------+-----------------+\n",
      "\n"
     ]
    }
   ],
   "source": [
    "result.select(\"pagenum\",\"text\", \"confidence\").show()"
   ]
  },
  {
   "cell_type": "code",
   "execution_count": null,
   "metadata": {
    "colab": {
     "base_uri": "https://localhost:8080/",
     "height": 141
    },
    "colab_type": "code",
    "id": "LJ4EB7lTkNIG",
    "outputId": "eea41119-c908-404a-a18a-6018b2f2efd3"
   },
   "outputs": [
    {
     "name": "stdout",
     "output_type": "stream",
     "text": [
      "+-------+--------------------+-----------------+\n",
      "|pagenum|                text|       confidence|\n",
      "+-------+--------------------+-----------------+\n",
      "|      0|ASX ANNOUNCEMENT\n",
      "...|95.26571559906006|\n",
      "+-------+--------------------+-----------------+\n",
      "\n"
     ]
    }
   ],
   "source": [
    "result.select(\"pagenum\",\"text\", \"confidence\").show()"
   ]
  },
  {
   "cell_type": "code",
   "execution_count": null,
   "metadata": {
    "colab": {
     "base_uri": "https://localhost:8080/",
     "height": 54
    },
    "colab_type": "code",
    "id": "rj7rv4b7kTNo",
    "outputId": "a46bfa6c-8a5c-4133-b6dd-0ec78a8f9790"
   },
   "outputs": [
    {
     "data": {
      "text/plain": [
       "[Row(text='ASX ANNOUNCEMENT\\n3 November 2017\\n\\nNotice Pursuant to Paragraph 708A(5)(e) of the Corporations Act\\n2001 (\"Act\")\\n\\nDigitalX Limited (ASX:DCC) (DCC or the Company) confirms that the Company has today\\nissued 620,000 Fully Paid Ordinary Shares (Shares) upon exercise of 620,000 Unlisted\\nOptions exercisable at $0.0324 Expiring 14 September 2019 and 3,725,000 Shares upon\\nexercise of 3,725,000 Unlisted Incentive Options exercisable at $0.08 expiring 10 February\\n2018.\\n\\nThe Act restricts the on-sale of securities issued without disclosure, unless the sale is exempt\\nunder section 708 or 708A of the Act. By giving this notice, a sale of the Shares noted above\\nwill fall within the exemption in section 708A(5) of the Act.\\n\\nThe Company hereby notifies ASX under paragraph 708A(5)(e) of the Act that:\\n(a) the Company issued the Shares without disclosure to investors under Part 6D.2 of\\nthe Act;\\n(b) as at the date of this notice, the Company has complied with the provisions of Chapter\\n2M of the Act as they apply to the Company, and section 674 of the Act; and\\n(c) as at the date of this notice, there is no information:\\na. — that has been excluded from a continuous disclosure notice in accordance with\\nthe ASX Listing Rules; and\\nb. — that investors and their professional advisers would reasonably require for the\\npurpose of making an informed assessment of:\\ni. the assets and liabilities, financial position and performance, profits and\\nlosses and prospects of the Company; or\\nii. the rights and liabilities attaching to the relevant Shares.\\n\\nDigitalX Limited\\n\\nLeigh Travers\\nChief Executive Officer\\nT: +61 439 376 847\\n\\nAbout DigitalX\\n\\nDigitalX is a Blockchain technology Company with offices in Perth and New York. DigitalX\\nprovides Blockchain consulting services, ICO advisory services and software development.\\nPartners can use DigitalX’s technology expertise to deliver innovative products to global\\nmarkets.\\n')]"
      ]
     },
     "execution_count": 11,
     "metadata": {
      "tags": []
     },
     "output_type": "execute_result"
    }
   ],
   "source": [
    "result.select(\"text\").collect()"
   ]
  },
  {
   "cell_type": "code",
   "execution_count": null,
   "metadata": {
    "colab": {
     "base_uri": "https://localhost:8080/",
     "height": 781
    },
    "colab_type": "code",
    "id": "bqbnotCfkK58",
    "outputId": "a3d08d14-9096-4d08-82dc-ba3b569ce33e"
   },
   "outputs": [
    {
     "name": "stdout",
     "output_type": "stream",
     "text": [
      "ASX ANNOUNCEMENT\n",
      "3 November 2017\n",
      "\n",
      "Notice Pursuant to Paragraph 708A(5)(e) of the Corporations Act\n",
      "2001 (\"Act\")\n",
      "\n",
      "DigitalX Limited (ASX:DCC) (DCC or the Company) confirms that the Company has today\n",
      "issued 620,000 Fully Paid Ordinary Shares (Shares) upon exercise of 620,000 Unlisted\n",
      "Options exercisable at $0.0324 Expiring 14 September 2019 and 3,725,000 Shares upon\n",
      "exercise of 3,725,000 Unlisted Incentive Options exercisable at $0.08 expiring 10 February\n",
      "2018.\n",
      "\n",
      "The Act restricts the on-sale of securities issued without disclosure, unless the sale is exempt\n",
      "under section 708 or 708A of the Act. By giving this notice, a sale of the Shares noted above\n",
      "will fall within the exemption in section 708A(5) of the Act.\n",
      "\n",
      "The Company hereby notifies ASX under paragraph 708A(5)(e) of the Act that:\n",
      "(a) the Company issued the Shares without disclosure to investors under Part 6D.2 of\n",
      "the Act;\n",
      "(b) as at the date of this notice, the Company has complied with the provisions of Chapter\n",
      "2M of the Act as they apply to the Company, and section 674 of the Act; and\n",
      "(c) as at the date of this notice, there is no information:\n",
      "a. — that has been excluded from a continuous disclosure notice in accordance with\n",
      "the ASX Listing Rules; and\n",
      "b. — that investors and their professional advisers would reasonably require for the\n",
      "purpose of making an informed assessment of:\n",
      "i. the assets and liabilities, financial position and performance, profits and\n",
      "losses and prospects of the Company; or\n",
      "ii. the rights and liabilities attaching to the relevant Shares.\n",
      "\n",
      "DigitalX Limited\n",
      "\n",
      "Leigh Travers\n",
      "Chief Executive Officer\n",
      "T: +61 439 376 847\n",
      "\n",
      "About DigitalX\n",
      "\n",
      "DigitalX is a Blockchain technology Company with offices in Perth and New York. DigitalX\n",
      "provides Blockchain consulting services, ICO advisory services and software development.\n",
      "Partners can use DigitalX’s technology expertise to deliver innovative products to global\n",
      "markets.\n",
      "\n"
     ]
    }
   ],
   "source": [
    "print(\"\\n\".join([row.text for row in result.select(\"text\").collect()]))\n"
   ]
  },
  {
   "cell_type": "code",
   "execution_count": null,
   "metadata": {
    "colab": {},
    "colab_type": "code",
    "id": "BAXZ3PFNjmgo"
   },
   "outputs": [],
   "source": []
  }
 ],
 "metadata": {
  "colab": {
   "collapsed_sections": [],
   "name": "5.Spark_OCR.ipynb",
   "provenance": [],
   "toc_visible": true
  },
  "kernelspec": {
   "display_name": "Python 3",
   "language": "python",
   "name": "python3"
  },
  "language_info": {
   "codemirror_mode": {
    "name": "ipython",
    "version": 3
   },
   "file_extension": ".py",
   "mimetype": "text/x-python",
   "name": "python",
   "nbconvert_exporter": "python",
   "pygments_lexer": "ipython3",
   "version": "3.7.4"
  }
 },
 "nbformat": 4,
 "nbformat_minor": 4
}
