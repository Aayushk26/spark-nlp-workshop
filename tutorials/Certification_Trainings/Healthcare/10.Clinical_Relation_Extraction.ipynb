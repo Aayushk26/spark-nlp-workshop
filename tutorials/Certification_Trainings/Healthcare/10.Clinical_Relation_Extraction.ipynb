{
  "nbformat": 4,
  "nbformat_minor": 0,
  "metadata": {
    "language_info": {
      "mimetype": "text/x-python",
      "name": "python",
      "pygments_lexer": "ipython3",
      "codemirror_mode": {
        "name": "ipython",
        "version": 3
      },
      "version": "3.6.8",
      "nbconvert_exporter": "python",
      "file_extension": ".py"
    },
    "name": "10.Clinical_Relation_Extraction",
    "notebookId": 781554605447210,
    "kernelspec": {
      "display_name": "johnsnow",
      "language": "python",
      "name": "johnsnow"
    },
    "toc": {
      "title_sidebar": "Contents",
      "nav_menu": {},
      "sideBar": true,
      "number_sections": true,
      "skip_h1_title": false,
      "base_numbering": 1,
      "toc_cell": false,
      "toc_position": {},
      "toc_section_display": true,
      "toc_window_display": false,
      "title_cell": "Table of Contents"
    },
    "varInspector": {
      "cols": {
        "lenName": 16,
        "lenType": 16,
        "lenVar": 40
      },
      "kernels_config": {
        "python": {
          "delete_cmd_postfix": "",
          "delete_cmd_prefix": "del ",
          "library": "var_list.py",
          "varRefreshCmd": "print(var_dic_list())"
        },
        "r": {
          "delete_cmd_postfix": ") ",
          "delete_cmd_prefix": "rm(",
          "library": "var_list.r",
          "varRefreshCmd": "cat(var_dic_list()) "
        }
      },
      "types_to_exclude": [
        "module",
        "function",
        "builtin_function_or_method",
        "instance",
        "_Feature"
      ],
      "window_display": false
    },
    "colab": {
      "name": "10.Clinical_Relation_Extraction.ipynb",
      "provenance": [],
      "toc_visible": true
    }
  },
  "cells": [
    {
      "cell_type": "markdown",
      "metadata": {
        "id": "pFGiT_o1FJNH",
        "colab_type": "text"
      },
      "source": [
        "![JohnSnowLabs](https://nlp.johnsnowlabs.com/assets/images/logo.png)"
      ]
    },
    {
      "cell_type": "markdown",
      "metadata": {
        "id": "Df3b6PnyFz-A",
        "colab_type": "text"
      },
      "source": [
        "[![Open In Colab](https://colab.research.google.com/assets/colab-badge.svg)](https://colab.research.google.com/github/JohnSnowLabs/spark-nlp-workshop/blob/master/tutorials/Certification_Trainings/Healthcare/10.Clinical_Relation_Extraction.ipynb)"
      ]
    },
    {
      "cell_type": "markdown",
      "metadata": {
        "id": "OdkGRLgcFN1o",
        "colab_type": "text"
      },
      "source": [
        "# Clinical Relation Extraction Model"
      ]
    },
    {
      "cell_type": "markdown",
      "metadata": {
        "id": "4wdK8WtAF8ES",
        "colab_type": "text"
      },
      "source": [
        "## Colab Setup"
      ]
    },
    {
      "cell_type": "code",
      "metadata": {
        "id": "61uNqFkvF-UU",
        "colab_type": "code",
        "colab": {
          "base_uri": "https://localhost:8080/",
          "height": 33
        },
        "outputId": "8a03917c-4aac-455f-ce0c-24da685b1dde"
      },
      "source": [
        "import json\n",
        "\n",
        "with open('workshop_license_keys_365.json') as f:\n",
        "    license_keys = json.load(f)\n",
        "\n",
        "license_keys.keys()\n"
      ],
      "execution_count": 6,
      "outputs": [
        {
          "output_type": "execute_result",
          "data": {
            "text/plain": [
              "dict_keys(['PUBLIC_VERSION', 'JSL_VERSION', 'SECRET', 'SPARK_NLP_LICENSE', 'AWS_ACCESS_KEY_ID', 'AWS_SECRET_ACCESS_KEY', 'SPARK_OCR_LICENSE', 'SPARK_OCR_SECRET'])"
            ]
          },
          "metadata": {
            "tags": []
          },
          "execution_count": 6
        }
      ]
    },
    {
      "cell_type": "code",
      "metadata": {
        "id": "pEpCxhwLJUDB",
        "colab_type": "code",
        "colab": {}
      },
      "source": [
        "import os\n",
        "\n",
        "# Install java\n",
        "! apt-get update -qq\n",
        "! apt-get install -y openjdk-8-jdk-headless -qq > /dev/null\n",
        "\n",
        "os.environ[\"JAVA_HOME\"] = \"/usr/lib/jvm/java-8-openjdk-amd64\"\n",
        "os.environ[\"PATH\"] = os.environ[\"JAVA_HOME\"] + \"/bin:\" + os.environ[\"PATH\"]\n",
        "! java -version\n",
        "\n",
        "secret = license_keys['SECRET']\n",
        "\n",
        "os.environ['SPARK_NLP_LICENSE'] = license_keys['SPARK_NLP_LICENSE']\n",
        "os.environ['AWS_ACCESS_KEY_ID']= license_keys['AWS_ACCESS_KEY_ID']\n",
        "os.environ['AWS_SECRET_ACCESS_KEY'] = license_keys['AWS_SECRET_ACCESS_KEY']\n",
        "version = license_keys['PUBLIC_VERSION']\n",
        "jsl_version = license_keys['JSL_VERSION']\n",
        "\n",
        "\n",
        "! pip install --ignore-installed -q pyspark==2.4.4\n",
        "\n",
        "! python -m pip install --upgrade spark-nlp-jsl==$jsl_version  --extra-index-url https://pypi.johnsnowlabs.com/$secret\n",
        "\n",
        "! pip install --ignore-installed -q spark-nlp==$version\n",
        "\n",
        "import sparknlp\n",
        "\n",
        "print (sparknlp.version())\n",
        "\n",
        "import json\n",
        "import os\n",
        "from pyspark.ml import Pipeline\n",
        "from pyspark.sql import SparkSession\n",
        "\n",
        "\n",
        "from sparknlp.annotator import *\n",
        "from sparknlp_jsl.annotator import *\n",
        "from sparknlp.base import *\n",
        "import sparknlp_jsl\n",
        "\n",
        "spark = sparknlp_jsl.start(secret)"
      ],
      "execution_count": null,
      "outputs": []
    },
    {
      "cell_type": "markdown",
      "metadata": {
        "id": "dhScin3AEqYF",
        "colab_type": "text"
      },
      "source": [
        "## Posology Releation Extraction\n",
        "\n",
        "This is a demonstration of using SparkNLP for extracting posology relations. The following relatios are supported:\n",
        "\n",
        "DRUG-DOSAGE\n",
        "DRUG-FREQUENCY\n",
        "DRUG-ADE (Adversed Drug Events)\n",
        "DRUG-FORM\n",
        "DRUG-ROUTE\n",
        "DRUG-DURATION\n",
        "DRUG-REASON\n",
        "DRUG=STRENGTH\n",
        "\n",
        "The model has been validated agains the posology dataset described in (Magge, Scotch, & Gonzalez-Hernandez, 2018).\n",
        "\n",
        "| Relation | Recall | Precision | F1 | F1 (Magge, Scotch, & Gonzalez-Hernandez, 2018) |\n",
        "| --- | --- | --- | --- | --- |\n",
        "| DRUG-ADE | 0.66 | 1.00 | **0.80** | 0.76 |\n",
        "| DRUG-DOSAGE | 0.89 | 1.00 | **0.94** | 0.91 |\n",
        "| DRUG-DURATION | 0.75 | 1.00 | **0.85** | 0.92 |\n",
        "| DRUG-FORM | 0.88 | 1.00 | **0.94** | 0.95* |\n",
        "| DRUG-FREQUENCY | 0.79 | 1.00 | **0.88** | 0.90 |\n",
        "| DRUG-REASON | 0.60 | 1.00 | **0.75** | 0.70 |\n",
        "| DRUG-ROUTE | 0.79 | 1.00 | **0.88** | 0.95* |\n",
        "| DRUG-STRENGTH | 0.95 | 1.00 | **0.98** | 0.97 |\n",
        "\n",
        "\n",
        "*Magge, Scotch, Gonzalez-Hernandez (2018) collapsed DRUG-FORM and DRUG-ROUTE into a single relation."
      ]
    },
    {
      "cell_type": "code",
      "metadata": {
        "ExecuteTime": {
          "end_time": "2020-07-31T14:18:58.500653Z",
          "start_time": "2020-07-31T14:18:58.219349Z"
        },
        "run_control": {
          "marked": true
        },
        "id": "zmWTG-whEMrU",
        "colab_type": "code",
        "colab": {}
      },
      "source": [
        "import os\n",
        "import re\n",
        "import pyspark\n",
        "import sparknlp\n",
        "import sparknlp_jsl\n",
        "import functools \n",
        "import json\n",
        "\n",
        "import numpy as np\n",
        "from scipy import spatial\n",
        "import pyspark.sql.functions as F\n",
        "import pyspark.sql.types as T\n",
        "from pyspark.sql import SparkSession\n",
        "from pyspark.ml import Pipeline\n",
        "from sparknlp_jsl.annotator import *\n",
        "from sparknlp.annotator import *\n",
        "from sparknlp.base import *\n"
      ],
      "execution_count": 8,
      "outputs": []
    },
    {
      "cell_type": "markdown",
      "metadata": {
        "id": "o8PsjbmpEMrb",
        "colab_type": "text"
      },
      "source": [
        "**Build pipeline using SparNLP pretrained models and the relation extration model optimized for posology**.\n",
        " \n",
        " The precision of the RE model is controlled by \"setMaxSyntacticDistance(4)\", which sets the maximum syntactic distance between named entities to 4. A larger value will improve recall at the expense at lower precision. A value of 4 leads to literally perfect precision (i.e. the model doesn't produce any false positives) and reasonably good recall."
      ]
    },
    {
      "cell_type": "code",
      "metadata": {
        "ExecuteTime": {
          "end_time": "2020-07-31T14:19:37.196164Z",
          "start_time": "2020-07-31T14:19:09.356386Z"
        },
        "run_control": {
          "marked": false
        },
        "id": "4fNDGSBaEMrb",
        "colab_type": "code",
        "colab": {
          "base_uri": "https://localhost:8080/",
          "height": 212
        },
        "outputId": "4504dbb9-3138-4341-956b-7dd9b99a7586"
      },
      "source": [
        "documenter = DocumentAssembler()\\\n",
        "    .setInputCol(\"text\")\\\n",
        "    .setOutputCol(\"document\")\n",
        "\n",
        "sentencer = SentenceDetector()\\\n",
        "    .setInputCols([\"document\"])\\\n",
        "    .setOutputCol(\"sentence\")\n",
        "\n",
        "tokenizer = sparknlp.annotators.Tokenizer()\\\n",
        "    .setInputCols([\"sentence\"])\\\n",
        "    .setOutputCol(\"tokens\")\n",
        "\n",
        "words_embedder = WordEmbeddingsModel()\\\n",
        "    .pretrained(\"embeddings_clinical\", \"en\", \"clinical/models\")\\\n",
        "    .setInputCols([\"sentence\", \"tokens\"])\\\n",
        "    .setOutputCol(\"embeddings\")\n",
        "\n",
        "pos_tagger = PerceptronModel()\\\n",
        "    .pretrained(\"pos_clinical\", \"en\", \"clinical/models\") \\\n",
        "    .setInputCols([\"sentence\", \"tokens\"])\\\n",
        "    .setOutputCol(\"pos_tags\")\n",
        "\n",
        "ner_tagger = NerDLModel()\\\n",
        "    .pretrained(\"ner_posology\", \"en\", \"clinical/models\")\\\n",
        "    .setInputCols(\"sentence\", \"tokens\", \"embeddings\")\\\n",
        "    .setOutputCol(\"ner_tags\")    \n",
        "\n",
        "ner_chunker = NerConverter()\\\n",
        "    .setInputCols([\"sentence\", \"tokens\", \"ner_tags\"])\\\n",
        "    .setOutputCol(\"ner_chunks\")\n",
        "\n",
        "dependency_parser = DependencyParserModel()\\\n",
        "    .pretrained(\"dependency_conllu\", \"en\")\\\n",
        "    .setInputCols([\"sentence\", \"pos_tags\", \"tokens\"])\\\n",
        "    .setOutputCol(\"dependencies\")\n",
        "\n",
        "reModel = RelationExtractionModel()\\\n",
        "    .pretrained(\"posology_re\", \"en\", \"clinical/models\")\\\n",
        "    .setInputCols([\"embeddings\", \"pos_tags\", \"ner_chunks\", \"dependencies\"])\\\n",
        "    .setOutputCol(\"relations\")\\\n",
        "    .setMaxSyntacticDistance(4)\n",
        "\n",
        "pipeline = Pipeline(stages=[\n",
        "    documenter,\n",
        "    sentencer,\n",
        "    tokenizer, \n",
        "    words_embedder, \n",
        "    pos_tagger, \n",
        "    ner_tagger,\n",
        "    ner_chunker,\n",
        "    dependency_parser,\n",
        "    reModel\n",
        "])"
      ],
      "execution_count": 9,
      "outputs": [
        {
          "output_type": "stream",
          "text": [
            "embeddings_clinical download started this may take some time.\n",
            "Approximate size to download 1.6 GB\n",
            "[OK!]\n",
            "pos_clinical download started this may take some time.\n",
            "Approximate size to download 1.7 MB\n",
            "[OK!]\n",
            "ner_posology download started this may take some time.\n",
            "Approximate size to download 13.7 MB\n",
            "[OK!]\n",
            "dependency_conllu download started this may take some time.\n",
            "Approximate size to download 16.6 MB\n",
            "[OK!]\n"
          ],
          "name": "stdout"
        }
      ]
    },
    {
      "cell_type": "markdown",
      "metadata": {
        "id": "fIEDm1zZEMre",
        "colab_type": "text"
      },
      "source": [
        "**Create empty dataframe**"
      ]
    },
    {
      "cell_type": "code",
      "metadata": {
        "ExecuteTime": {
          "end_time": "2020-07-17T10:09:32.462913Z",
          "start_time": "2020-07-17T10:09:32.410488Z"
        },
        "id": "Ec0SDYGmEMre",
        "colab_type": "code",
        "colab": {}
      },
      "source": [
        "empty_data = spark.createDataFrame([[\"\"]]).toDF(\"text\")\n"
      ],
      "execution_count": 11,
      "outputs": []
    },
    {
      "cell_type": "markdown",
      "metadata": {
        "id": "9TA-2cxfEMrh",
        "colab_type": "text"
      },
      "source": [
        "**Create a light pipeline for annotating free text**"
      ]
    },
    {
      "cell_type": "code",
      "metadata": {
        "ExecuteTime": {
          "end_time": "2020-07-17T10:24:30.899532Z",
          "start_time": "2020-07-17T10:09:32.894746Z"
        },
        "id": "gWz4JaO3EMri",
        "colab_type": "code",
        "colab": {}
      },
      "source": [
        "model = pipeline.fit(empty_df)\n",
        "lmodel = sparknlp.base.LightPipeline(model)"
      ],
      "execution_count": 12,
      "outputs": []
    },
    {
      "cell_type": "markdown",
      "metadata": {
        "id": "EATlttRVEMrl",
        "colab_type": "text"
      },
      "source": [
        "**Sample free text**"
      ]
    },
    {
      "cell_type": "code",
      "metadata": {
        "ExecuteTime": {
          "end_time": "2020-07-17T11:18:31.409708Z",
          "start_time": "2020-07-17T11:18:31.336534Z"
        },
        "id": "gTdSwA4HEMrl",
        "colab_type": "code",
        "colab": {}
      },
      "source": [
        "text = \"\"\"\n",
        "The patient was prescribed 1 unit of Advil for 5 days after meals. The patient was also \n",
        "given 1 unit of Metformin daily.\n",
        "He was seen by the endocrinology service and she was discharged on 40 units of insulin glargine at night , \n",
        "12 units of insulin lispro with meals , and metformin 1000 mg two times a day.\n",
        "\"\"\"\n",
        "results = lmodel.fullAnnotate(text)"
      ],
      "execution_count": 13,
      "outputs": []
    },
    {
      "cell_type": "markdown",
      "metadata": {
        "id": "ZmdjtscfEMro",
        "colab_type": "text"
      },
      "source": [
        "**Show extracted relations**"
      ]
    },
    {
      "cell_type": "code",
      "metadata": {
        "ExecuteTime": {
          "end_time": "2020-07-17T10:29:26.101405Z",
          "start_time": "2020-07-17T10:29:26.012555Z"
        },
        "id": "HeBrfZtvEMro",
        "colab_type": "code",
        "colab": {},
        "outputId": "614a7c93-d32d-4815-c588-ca37a826b507"
      },
      "source": [
        "for rel in results[0][\"relations\"]:\n",
        "    print(\"{}({}={} - {}={})\".format(\n",
        "        rel.result, \n",
        "        rel.metadata['entity1'], \n",
        "        rel.metadata['chunk1'], \n",
        "        rel.metadata['entity2'],\n",
        "        rel.metadata['chunk2']\n",
        "    ))"
      ],
      "execution_count": null,
      "outputs": [
        {
          "output_type": "display_data",
          "data": {
            "text/html": [
              "<style scoped>\n",
              "  .ansiout {\n",
              "    display: block;\n",
              "    unicode-bidi: embed;\n",
              "    white-space: pre-wrap;\n",
              "    word-wrap: break-word;\n",
              "    word-break: break-all;\n",
              "    font-family: \"Source Code Pro\", \"Menlo\", monospace;;\n",
              "    font-size: 13px;\n",
              "    color: #555;\n",
              "    margin-left: 4px;\n",
              "    line-height: 19px;\n",
              "  }\n",
              "</style>\n",
              "<div class=\"ansiout\">DOSAGE-DRUG(DOSAGE=1 unit - DRUG=Advil)\n",
              "DRUG-DURATION(DRUG=Advil - DURATION=for 5 days)\n",
              "DOSAGE-DRUG(DOSAGE=1 unit - DRUG=Metformin)\n",
              "DRUG-FREQUENCY(DRUG=Metformin - FREQUENCY=daily)\n",
              "DOSAGE-DRUG(DOSAGE=40 units - DRUG=insulin glargine)\n",
              "DRUG-FREQUENCY(DRUG=insulin glargine - FREQUENCY=at night)\n",
              "DOSAGE-DRUG(DOSAGE=12 units - DRUG=insulin lispro)\n",
              "DRUG-FREQUENCY(DRUG=insulin lispro - FREQUENCY=with meals)\n",
              "DRUG-STRENGTH(DRUG=metformin - STRENGTH=1000 mg)\n",
              "DRUG-FREQUENCY(DRUG=metformin - FREQUENCY=two times a day)\n",
              "</div>"
            ]
          },
          "metadata": {
            "tags": []
          }
        }
      ]
    },
    {
      "cell_type": "code",
      "metadata": {
        "id": "LUFt4k1mEMrs",
        "colab_type": "code",
        "colab": {
          "base_uri": "https://localhost:8080/",
          "height": 335
        },
        "outputId": "f6130065-874c-45ec-d967-c17086efe976"
      },
      "source": [
        "import pandas as pd\n",
        "\n",
        "def get_relations_df (results):\n",
        "  rel_pairs=[]\n",
        "  for rel in results[0]['relations']:\n",
        "      rel_pairs.append((\n",
        "          rel.result, \n",
        "          rel.metadata['entity1'], \n",
        "          rel.metadata['entity1_begin'],\n",
        "          rel.metadata['entity1_end'],\n",
        "          rel.metadata['chunk1'], \n",
        "          rel.metadata['entity2'],\n",
        "          rel.metadata['entity2_begin'],\n",
        "          rel.metadata['entity2_end'],\n",
        "          rel.metadata['chunk2'], \n",
        "          rel.metadata['confidence']\n",
        "      ))\n",
        "\n",
        "  rel_df = pd.DataFrame(rel_pairs, columns=['relation','entity1','entity1_begin','entity1_end','chunk1','entity2','entity2_begin','entity2_end','chunk2', 'confidence'])\n",
        "\n",
        "  return rel_df\n",
        "\n",
        "\n",
        "rel_df = get_relations_df (results)\n",
        "\n",
        "rel_df"
      ],
      "execution_count": 15,
      "outputs": [
        {
          "output_type": "execute_result",
          "data": {
            "text/html": [
              "<div>\n",
              "<style scoped>\n",
              "    .dataframe tbody tr th:only-of-type {\n",
              "        vertical-align: middle;\n",
              "    }\n",
              "\n",
              "    .dataframe tbody tr th {\n",
              "        vertical-align: top;\n",
              "    }\n",
              "\n",
              "    .dataframe thead th {\n",
              "        text-align: right;\n",
              "    }\n",
              "</style>\n",
              "<table border=\"1\" class=\"dataframe\">\n",
              "  <thead>\n",
              "    <tr style=\"text-align: right;\">\n",
              "      <th></th>\n",
              "      <th>relation</th>\n",
              "      <th>entity1</th>\n",
              "      <th>entity1_begin</th>\n",
              "      <th>entity1_end</th>\n",
              "      <th>chunk1</th>\n",
              "      <th>entity2</th>\n",
              "      <th>entity2_begin</th>\n",
              "      <th>entity2_end</th>\n",
              "      <th>chunk2</th>\n",
              "      <th>confidence</th>\n",
              "    </tr>\n",
              "  </thead>\n",
              "  <tbody>\n",
              "    <tr>\n",
              "      <th>0</th>\n",
              "      <td>DOSAGE-DRUG</td>\n",
              "      <td>DOSAGE</td>\n",
              "      <td>28</td>\n",
              "      <td>33</td>\n",
              "      <td>1 unit</td>\n",
              "      <td>DRUG</td>\n",
              "      <td>38</td>\n",
              "      <td>42</td>\n",
              "      <td>Advil</td>\n",
              "      <td>1.0</td>\n",
              "    </tr>\n",
              "    <tr>\n",
              "      <th>1</th>\n",
              "      <td>DRUG-DURATION</td>\n",
              "      <td>DRUG</td>\n",
              "      <td>38</td>\n",
              "      <td>42</td>\n",
              "      <td>Advil</td>\n",
              "      <td>DURATION</td>\n",
              "      <td>44</td>\n",
              "      <td>53</td>\n",
              "      <td>for 5 days</td>\n",
              "      <td>1.0</td>\n",
              "    </tr>\n",
              "    <tr>\n",
              "      <th>2</th>\n",
              "      <td>DOSAGE-DRUG</td>\n",
              "      <td>DOSAGE</td>\n",
              "      <td>96</td>\n",
              "      <td>101</td>\n",
              "      <td>1 unit</td>\n",
              "      <td>DRUG</td>\n",
              "      <td>106</td>\n",
              "      <td>114</td>\n",
              "      <td>Metformin</td>\n",
              "      <td>1.0</td>\n",
              "    </tr>\n",
              "    <tr>\n",
              "      <th>3</th>\n",
              "      <td>DRUG-FREQUENCY</td>\n",
              "      <td>DRUG</td>\n",
              "      <td>106</td>\n",
              "      <td>114</td>\n",
              "      <td>Metformin</td>\n",
              "      <td>FREQUENCY</td>\n",
              "      <td>116</td>\n",
              "      <td>120</td>\n",
              "      <td>daily</td>\n",
              "      <td>1.0</td>\n",
              "    </tr>\n",
              "    <tr>\n",
              "      <th>4</th>\n",
              "      <td>DOSAGE-DRUG</td>\n",
              "      <td>DOSAGE</td>\n",
              "      <td>190</td>\n",
              "      <td>197</td>\n",
              "      <td>40 units</td>\n",
              "      <td>DRUG</td>\n",
              "      <td>202</td>\n",
              "      <td>217</td>\n",
              "      <td>insulin glargine</td>\n",
              "      <td>1.0</td>\n",
              "    </tr>\n",
              "    <tr>\n",
              "      <th>5</th>\n",
              "      <td>DRUG-FREQUENCY</td>\n",
              "      <td>DRUG</td>\n",
              "      <td>202</td>\n",
              "      <td>217</td>\n",
              "      <td>insulin glargine</td>\n",
              "      <td>FREQUENCY</td>\n",
              "      <td>219</td>\n",
              "      <td>226</td>\n",
              "      <td>at night</td>\n",
              "      <td>1.0</td>\n",
              "    </tr>\n",
              "    <tr>\n",
              "      <th>6</th>\n",
              "      <td>DOSAGE-DRUG</td>\n",
              "      <td>DOSAGE</td>\n",
              "      <td>231</td>\n",
              "      <td>238</td>\n",
              "      <td>12 units</td>\n",
              "      <td>DRUG</td>\n",
              "      <td>243</td>\n",
              "      <td>256</td>\n",
              "      <td>insulin lispro</td>\n",
              "      <td>1.0</td>\n",
              "    </tr>\n",
              "    <tr>\n",
              "      <th>7</th>\n",
              "      <td>DRUG-FREQUENCY</td>\n",
              "      <td>DRUG</td>\n",
              "      <td>243</td>\n",
              "      <td>256</td>\n",
              "      <td>insulin lispro</td>\n",
              "      <td>FREQUENCY</td>\n",
              "      <td>258</td>\n",
              "      <td>267</td>\n",
              "      <td>with meals</td>\n",
              "      <td>1.0</td>\n",
              "    </tr>\n",
              "    <tr>\n",
              "      <th>8</th>\n",
              "      <td>DRUG-STRENGTH</td>\n",
              "      <td>DRUG</td>\n",
              "      <td>275</td>\n",
              "      <td>283</td>\n",
              "      <td>metformin</td>\n",
              "      <td>STRENGTH</td>\n",
              "      <td>285</td>\n",
              "      <td>291</td>\n",
              "      <td>1000 mg</td>\n",
              "      <td>1.0</td>\n",
              "    </tr>\n",
              "    <tr>\n",
              "      <th>9</th>\n",
              "      <td>DRUG-FREQUENCY</td>\n",
              "      <td>DRUG</td>\n",
              "      <td>275</td>\n",
              "      <td>283</td>\n",
              "      <td>metformin</td>\n",
              "      <td>FREQUENCY</td>\n",
              "      <td>293</td>\n",
              "      <td>307</td>\n",
              "      <td>two times a day</td>\n",
              "      <td>1.0</td>\n",
              "    </tr>\n",
              "  </tbody>\n",
              "</table>\n",
              "</div>"
            ],
            "text/plain": [
              "         relation entity1  ...            chunk2 confidence\n",
              "0     DOSAGE-DRUG  DOSAGE  ...             Advil        1.0\n",
              "1   DRUG-DURATION    DRUG  ...        for 5 days        1.0\n",
              "2     DOSAGE-DRUG  DOSAGE  ...         Metformin        1.0\n",
              "3  DRUG-FREQUENCY    DRUG  ...             daily        1.0\n",
              "4     DOSAGE-DRUG  DOSAGE  ...  insulin glargine        1.0\n",
              "5  DRUG-FREQUENCY    DRUG  ...          at night        1.0\n",
              "6     DOSAGE-DRUG  DOSAGE  ...    insulin lispro        1.0\n",
              "7  DRUG-FREQUENCY    DRUG  ...        with meals        1.0\n",
              "8   DRUG-STRENGTH    DRUG  ...           1000 mg        1.0\n",
              "9  DRUG-FREQUENCY    DRUG  ...   two times a day        1.0\n",
              "\n",
              "[10 rows x 10 columns]"
            ]
          },
          "metadata": {
            "tags": []
          },
          "execution_count": 15
        }
      ]
    },
    {
      "cell_type": "code",
      "metadata": {
        "id": "bzKeB-JUEMru",
        "colab_type": "code",
        "colab": {
          "base_uri": "https://localhost:8080/",
          "height": 306
        },
        "outputId": "56dd65fd-5be5-43f2-840d-64238080e44d"
      },
      "source": [
        "text =\"\"\"A 28-year-old female with a history of gestational diabetes mellitus diagnosed eight years prior to presentation and subsequent type two diabetes mellitus ( T2DM ), \n",
        "one prior episode of HTG-induced pancreatitis three years prior to presentation,  associated with an acute hepatitis , and obesity with a body mass index ( BMI ) of 33.5 kg/m2 , presented with a one-week history of polyuria , polydipsia , poor appetite , and vomiting . Two weeks prior to presentation , she was treated with a five-day course of amoxicillin for a respiratory tract infection . She was on metformin , glipizide , and dapagliflozin for T2DM and atorvastatin and gemfibrozil for HTG . She had been on dapagliflozin for six months at the time of presentation. Physical examination on presentation was significant for dry oral mucosa ; significantly , her abdominal examination was benign with no tenderness , guarding , or rigidity . Pertinent laboratory findings on admission were : serum glucose 111 mg/dl , bicarbonate 18 mmol/l , anion gap 20 , creatinine 0.4 mg/dL , triglycerides 508 mg/dL , total cholesterol 122 mg/dL , glycated hemoglobin ( HbA1c ) 10% , and venous pH 7.27 . Serum lipase was normal at 43 U/L . Serum acetone levels could not be assessed as blood samples kept hemolyzing due to significant lipemia . The patient was initially admitted for starvation ketosis , as she reported poor oral intake for three days prior to admission . However , serum chemistry obtained six hours after presentation revealed her glucose was 186 mg/dL , the anion gap was still elevated at 21 , serum bicarbonate was 16 mmol/L , triglyceride level peaked at 2050 mg/dL , and lipase was 52 U/L . The β-hydroxybutyrate level was obtained and found to be elevated at 5.29 mmol/L - the original sample was centrifuged and the chylomicron layer removed prior to analysis due to interference from turbidity caused by lipemia again . The patient was treated with an insulin drip for euDKA and HTG with a reduction in the anion gap to 13 and triglycerides to 1400 mg/dL , within 24 hours . Her euDKA was thought to be precipitated by her respiratory tract infection in the setting of SGLT2 inhibitor use . The patient was seen by the endocrinology service and she was discharged on 40 units of insulin glargine at night , 12 units of insulin lispro with meals , and metformin 1000 mg two times a day . It was determined that all SGLT2 inhibitors should be discontinued indefinitely . \n",
        "She had close follow-up with endocrinology post discharge .\n",
        "\"\"\"\n",
        "\n",
        "annotations = lmodel.fullAnnotate(text)\n",
        "\n",
        "rel_df = get_relations_df (annotations)\n",
        "\n",
        "rel_df\n",
        "\n"
      ],
      "execution_count": 18,
      "outputs": [
        {
          "output_type": "execute_result",
          "data": {
            "text/html": [
              "<div>\n",
              "<style scoped>\n",
              "    .dataframe tbody tr th:only-of-type {\n",
              "        vertical-align: middle;\n",
              "    }\n",
              "\n",
              "    .dataframe tbody tr th {\n",
              "        vertical-align: top;\n",
              "    }\n",
              "\n",
              "    .dataframe thead th {\n",
              "        text-align: right;\n",
              "    }\n",
              "</style>\n",
              "<table border=\"1\" class=\"dataframe\">\n",
              "  <thead>\n",
              "    <tr style=\"text-align: right;\">\n",
              "      <th></th>\n",
              "      <th>relation</th>\n",
              "      <th>entity1</th>\n",
              "      <th>entity1_begin</th>\n",
              "      <th>entity1_end</th>\n",
              "      <th>chunk1</th>\n",
              "      <th>entity2</th>\n",
              "      <th>entity2_begin</th>\n",
              "      <th>entity2_end</th>\n",
              "      <th>chunk2</th>\n",
              "      <th>confidence</th>\n",
              "    </tr>\n",
              "  </thead>\n",
              "  <tbody>\n",
              "    <tr>\n",
              "      <th>0</th>\n",
              "      <td>DURATION-DRUG</td>\n",
              "      <td>DURATION</td>\n",
              "      <td>493</td>\n",
              "      <td>500</td>\n",
              "      <td>five-day</td>\n",
              "      <td>DRUG</td>\n",
              "      <td>512</td>\n",
              "      <td>522</td>\n",
              "      <td>amoxicillin</td>\n",
              "      <td>1.0</td>\n",
              "    </tr>\n",
              "    <tr>\n",
              "      <th>1</th>\n",
              "      <td>DRUG-DURATION</td>\n",
              "      <td>DRUG</td>\n",
              "      <td>681</td>\n",
              "      <td>693</td>\n",
              "      <td>dapagliflozin</td>\n",
              "      <td>DURATION</td>\n",
              "      <td>695</td>\n",
              "      <td>708</td>\n",
              "      <td>for six months</td>\n",
              "      <td>1.0</td>\n",
              "    </tr>\n",
              "    <tr>\n",
              "      <th>2</th>\n",
              "      <td>DRUG-ROUTE</td>\n",
              "      <td>DRUG</td>\n",
              "      <td>1940</td>\n",
              "      <td>1946</td>\n",
              "      <td>insulin</td>\n",
              "      <td>ROUTE</td>\n",
              "      <td>1948</td>\n",
              "      <td>1951</td>\n",
              "      <td>drip</td>\n",
              "      <td>1.0</td>\n",
              "    </tr>\n",
              "    <tr>\n",
              "      <th>3</th>\n",
              "      <td>DOSAGE-DRUG</td>\n",
              "      <td>DOSAGE</td>\n",
              "      <td>2255</td>\n",
              "      <td>2262</td>\n",
              "      <td>40 units</td>\n",
              "      <td>DRUG</td>\n",
              "      <td>2267</td>\n",
              "      <td>2282</td>\n",
              "      <td>insulin glargine</td>\n",
              "      <td>1.0</td>\n",
              "    </tr>\n",
              "    <tr>\n",
              "      <th>4</th>\n",
              "      <td>DRUG-FREQUENCY</td>\n",
              "      <td>DRUG</td>\n",
              "      <td>2267</td>\n",
              "      <td>2282</td>\n",
              "      <td>insulin glargine</td>\n",
              "      <td>FREQUENCY</td>\n",
              "      <td>2284</td>\n",
              "      <td>2291</td>\n",
              "      <td>at night</td>\n",
              "      <td>1.0</td>\n",
              "    </tr>\n",
              "    <tr>\n",
              "      <th>5</th>\n",
              "      <td>DOSAGE-DRUG</td>\n",
              "      <td>DOSAGE</td>\n",
              "      <td>2295</td>\n",
              "      <td>2302</td>\n",
              "      <td>12 units</td>\n",
              "      <td>DRUG</td>\n",
              "      <td>2307</td>\n",
              "      <td>2320</td>\n",
              "      <td>insulin lispro</td>\n",
              "      <td>1.0</td>\n",
              "    </tr>\n",
              "    <tr>\n",
              "      <th>6</th>\n",
              "      <td>DRUG-FREQUENCY</td>\n",
              "      <td>DRUG</td>\n",
              "      <td>2307</td>\n",
              "      <td>2320</td>\n",
              "      <td>insulin lispro</td>\n",
              "      <td>FREQUENCY</td>\n",
              "      <td>2322</td>\n",
              "      <td>2331</td>\n",
              "      <td>with meals</td>\n",
              "      <td>1.0</td>\n",
              "    </tr>\n",
              "    <tr>\n",
              "      <th>7</th>\n",
              "      <td>DRUG-STRENGTH</td>\n",
              "      <td>DRUG</td>\n",
              "      <td>2339</td>\n",
              "      <td>2347</td>\n",
              "      <td>metformin</td>\n",
              "      <td>STRENGTH</td>\n",
              "      <td>2349</td>\n",
              "      <td>2355</td>\n",
              "      <td>1000 mg</td>\n",
              "      <td>1.0</td>\n",
              "    </tr>\n",
              "    <tr>\n",
              "      <th>8</th>\n",
              "      <td>DRUG-FREQUENCY</td>\n",
              "      <td>DRUG</td>\n",
              "      <td>2339</td>\n",
              "      <td>2347</td>\n",
              "      <td>metformin</td>\n",
              "      <td>FREQUENCY</td>\n",
              "      <td>2357</td>\n",
              "      <td>2371</td>\n",
              "      <td>two times a day</td>\n",
              "      <td>1.0</td>\n",
              "    </tr>\n",
              "  </tbody>\n",
              "</table>\n",
              "</div>"
            ],
            "text/plain": [
              "         relation   entity1  ...            chunk2 confidence\n",
              "0   DURATION-DRUG  DURATION  ...       amoxicillin        1.0\n",
              "1   DRUG-DURATION      DRUG  ...    for six months        1.0\n",
              "2      DRUG-ROUTE      DRUG  ...              drip        1.0\n",
              "3     DOSAGE-DRUG    DOSAGE  ...  insulin glargine        1.0\n",
              "4  DRUG-FREQUENCY      DRUG  ...          at night        1.0\n",
              "5     DOSAGE-DRUG    DOSAGE  ...    insulin lispro        1.0\n",
              "6  DRUG-FREQUENCY      DRUG  ...        with meals        1.0\n",
              "7   DRUG-STRENGTH      DRUG  ...           1000 mg        1.0\n",
              "8  DRUG-FREQUENCY      DRUG  ...   two times a day        1.0\n",
              "\n",
              "[9 rows x 10 columns]"
            ]
          },
          "metadata": {
            "tags": []
          },
          "execution_count": 18
        }
      ]
    },
    {
      "cell_type": "markdown",
      "metadata": {
        "id": "2mFnHm0vZ5qN",
        "colab_type": "text"
      },
      "source": [
        "## Clinical RE"
      ]
    },
    {
      "cell_type": "markdown",
      "metadata": {
        "id": "ECLSY8H5a1pE",
        "colab_type": "text"
      },
      "source": [
        "### The set of relations defined in the 2010 i2b2 relation challenge\n",
        "\n",
        "TrIP: A certain treatment has improved or cured a medical problem (eg, ‘infection resolved with antibiotic course’)\n",
        "\n",
        "TrWP: A patient's medical problem has deteriorated or worsened because of or in spite of a treatment being administered (eg, ‘the tumor was growing despite the drain’)\n",
        "\n",
        "TrCP: A treatment caused a medical problem (eg, ‘penicillin causes a rash’)\n",
        "\n",
        "TrAP: A treatment administered for a medical problem (eg, ‘Dexamphetamine for narcolepsy’)\n",
        "\n",
        "TrNAP: The administration of a treatment was avoided because of a medical problem (eg, ‘Ralafen which is contra-indicated because of ulcers’)\n",
        "\n",
        "TeRP: A test has revealed some medical problem (eg, ‘an echocardiogram revealed a pericardial effusion’)\n",
        "\n",
        "TeCP: A test was performed to investigate a medical problem (eg, ‘chest x-ray done to rule out pneumonia’)\n",
        "\n",
        "PIP: Two problems are related to each other (eg, ‘Azotemia presumed secondary to sepsis’)"
      ]
    },
    {
      "cell_type": "code",
      "metadata": {
        "id": "xCw3UB7EEMr-",
        "colab_type": "code",
        "colab": {
          "base_uri": "https://localhost:8080/",
          "height": 115
        },
        "outputId": "25516bb5-1eed-46a2-e096-971c7fd22573"
      },
      "source": [
        "clinical_ner_tagger = sparknlp.annotators.NerDLModel()\\\n",
        "    .pretrained(\"ner_clinical_large\", \"en\", \"clinical/models\")\\\n",
        "    .setInputCols(\"sentence\", \"tokens\", \"embeddings\")\\\n",
        "    .setOutputCol(\"ner_tags\")    \n",
        "\n",
        "clinical_re_Model = RelationExtractionModel()\\\n",
        "    .pretrained(\"re_clinical\", \"en\", 'clinical/models')\\\n",
        "    .setInputCols([\"embeddings\", \"pos_tags\", \"ner_chunks\", \"dependencies\"])\\\n",
        "    .setOutputCol(\"relations\")\\\n",
        "    .setMaxSyntacticDistance(4)\\\n",
        "    .setRelationPairs([\"problem-test\", \"problem-treatment\"]) # we can set the possible relation pairs (if not set, all the relations will be calculated)\n",
        "\n",
        "loaded_pipeline = Pipeline(stages=[\n",
        "    documenter,\n",
        "    sentencer,\n",
        "    tokenizer, \n",
        "    words_embedder, \n",
        "    pos_tagger, \n",
        "    clinical_ner_tagger,\n",
        "    ner_chunker,\n",
        "    dependency_parser,\n",
        "    clinical_re_Model\n",
        "])"
      ],
      "execution_count": 24,
      "outputs": [
        {
          "output_type": "stream",
          "text": [
            "ner_clinical_large download started this may take some time.\n",
            "Approximate size to download 13.9 MB\n",
            "[OK!]\n",
            "re_clinical download started this may take some time.\n",
            "Approximate size to download 6 MB\n",
            "[OK!]\n"
          ],
          "name": "stdout"
        }
      ]
    },
    {
      "cell_type": "code",
      "metadata": {
        "id": "n4jrrhjhEMsC",
        "colab_type": "code",
        "colab": {}
      },
      "source": [
        "loaded_model = loaded_pipeline.fit(empty_df)\n",
        "loaded_lmodel = LightPipeline(loaded_model)"
      ],
      "execution_count": 25,
      "outputs": []
    },
    {
      "cell_type": "code",
      "metadata": {
        "id": "XLn00iCGEMsJ",
        "colab_type": "code",
        "colab": {
          "base_uri": "https://localhost:8080/",
          "height": 363
        },
        "outputId": "9ad678f7-1033-49c1-f8ac-f0b9578034a9"
      },
      "source": [
        "text =\"\"\"A 28-year-old female with a history of gestational diabetes mellitus diagnosed eight years prior to presentation and subsequent type two diabetes mellitus ( T2DM ), \n",
        "one prior episode of HTG-induced pancreatitis three years prior to presentation,  associated with an acute hepatitis , and obesity with a body mass index ( BMI ) of 33.5 kg/m2 , presented with a one-week history of polyuria , polydipsia , poor appetite , and vomiting . Two weeks prior to presentation , she was treated with a five-day course of amoxicillin for a respiratory tract infection . She was on metformin , glipizide , and dapagliflozin for T2DM and atorvastatin and gemfibrozil for HTG . She had been on dapagliflozin for six months at the time of presentation. Physical examination on presentation was significant for dry oral mucosa ; significantly , her abdominal examination was benign with no tenderness , guarding , or rigidity . Pertinent laboratory findings on admission were : serum glucose 111 mg/dl , bicarbonate 18 mmol/l , anion gap 20 , creatinine 0.4 mg/dL , triglycerides 508 mg/dL , total cholesterol 122 mg/dL , glycated hemoglobin ( HbA1c ) 10% , and venous pH 7.27 . Serum lipase was normal at 43 U/L . Serum acetone levels could not be assessed as blood samples kept hemolyzing due to significant lipemia . The patient was initially admitted for starvation ketosis , as she reported poor oral intake for three days prior to admission . However , serum chemistry obtained six hours after presentation revealed her glucose was 186 mg/dL , the anion gap was still elevated at 21 , serum bicarbonate was 16 mmol/L , triglyceride level peaked at 2050 mg/dL , and lipase was 52 U/L . The β-hydroxybutyrate level was obtained and found to be elevated at 5.29 mmol/L - the original sample was centrifuged and the chylomicron layer removed prior to analysis due to interference from turbidity caused by lipemia again . The patient was treated with an insulin drip for euDKA and HTG with a reduction in the anion gap to 13 and triglycerides to 1400 mg/dL , within 24 hours . Her euDKA was thought to be precipitated by her respiratory tract infection in the setting of SGLT2 inhibitor use . The patient was seen by the endocrinology service and she was discharged on 40 units of insulin glargine at night , 12 units of insulin lispro with meals , and metformin 1000 mg two times a day . It was determined that all SGLT2 inhibitors should be discontinued indefinitely . \n",
        "She had close follow-up with endocrinology post discharge .\n",
        "\"\"\"\n",
        "\n",
        "annotations = loaded_lmodel.fullAnnotate(text)\n",
        "\n",
        "rel_df = get_relations_df (annotations)\n",
        "\n",
        "rel_df[rel_df.relation!=\"O\"]\n"
      ],
      "execution_count": 27,
      "outputs": [
        {
          "output_type": "execute_result",
          "data": {
            "text/html": [
              "<div>\n",
              "<style scoped>\n",
              "    .dataframe tbody tr th:only-of-type {\n",
              "        vertical-align: middle;\n",
              "    }\n",
              "\n",
              "    .dataframe tbody tr th {\n",
              "        vertical-align: top;\n",
              "    }\n",
              "\n",
              "    .dataframe thead th {\n",
              "        text-align: right;\n",
              "    }\n",
              "</style>\n",
              "<table border=\"1\" class=\"dataframe\">\n",
              "  <thead>\n",
              "    <tr style=\"text-align: right;\">\n",
              "      <th></th>\n",
              "      <th>relation</th>\n",
              "      <th>entity1</th>\n",
              "      <th>entity1_begin</th>\n",
              "      <th>entity1_end</th>\n",
              "      <th>chunk1</th>\n",
              "      <th>entity2</th>\n",
              "      <th>entity2_begin</th>\n",
              "      <th>entity2_end</th>\n",
              "      <th>chunk2</th>\n",
              "      <th>confidence</th>\n",
              "    </tr>\n",
              "  </thead>\n",
              "  <tbody>\n",
              "    <tr>\n",
              "      <th>0</th>\n",
              "      <td>TeRP</td>\n",
              "      <td>PROBLEM</td>\n",
              "      <td>39</td>\n",
              "      <td>67</td>\n",
              "      <td>gestational diabetes mellitus</td>\n",
              "      <td>TEST</td>\n",
              "      <td>321</td>\n",
              "      <td>323</td>\n",
              "      <td>BMI</td>\n",
              "      <td>1.0</td>\n",
              "    </tr>\n",
              "    <tr>\n",
              "      <th>1</th>\n",
              "      <td>TeRP</td>\n",
              "      <td>PROBLEM</td>\n",
              "      <td>117</td>\n",
              "      <td>153</td>\n",
              "      <td>subsequent type two diabetes mellitus</td>\n",
              "      <td>TEST</td>\n",
              "      <td>321</td>\n",
              "      <td>323</td>\n",
              "      <td>BMI</td>\n",
              "      <td>1.0</td>\n",
              "    </tr>\n",
              "    <tr>\n",
              "      <th>14</th>\n",
              "      <td>TrAP</td>\n",
              "      <td>PROBLEM</td>\n",
              "      <td>616</td>\n",
              "      <td>619</td>\n",
              "      <td>T2DM</td>\n",
              "      <td>TREATMENT</td>\n",
              "      <td>625</td>\n",
              "      <td>636</td>\n",
              "      <td>atorvastatin</td>\n",
              "      <td>0.99955326</td>\n",
              "    </tr>\n",
              "    <tr>\n",
              "      <th>18</th>\n",
              "      <td>TeRP</td>\n",
              "      <td>TEST</td>\n",
              "      <td>738</td>\n",
              "      <td>757</td>\n",
              "      <td>Physical examination</td>\n",
              "      <td>PROBLEM</td>\n",
              "      <td>795</td>\n",
              "      <td>809</td>\n",
              "      <td>dry oral mucosa</td>\n",
              "      <td>0.9994142</td>\n",
              "    </tr>\n",
              "    <tr>\n",
              "      <th>22</th>\n",
              "      <td>TrWP</td>\n",
              "      <td>TEST</td>\n",
              "      <td>1245</td>\n",
              "      <td>1257</td>\n",
              "      <td>blood samples</td>\n",
              "      <td>PROBLEM</td>\n",
              "      <td>1264</td>\n",
              "      <td>1273</td>\n",
              "      <td>hemolyzing</td>\n",
              "      <td>0.9854173</td>\n",
              "    </tr>\n",
              "    <tr>\n",
              "      <th>23</th>\n",
              "      <td>TrWP</td>\n",
              "      <td>TEST</td>\n",
              "      <td>1245</td>\n",
              "      <td>1257</td>\n",
              "      <td>blood samples</td>\n",
              "      <td>PROBLEM</td>\n",
              "      <td>1282</td>\n",
              "      <td>1300</td>\n",
              "      <td>significant lipemia</td>\n",
              "      <td>0.99998724</td>\n",
              "    </tr>\n",
              "    <tr>\n",
              "      <th>26</th>\n",
              "      <td>TeRP</td>\n",
              "      <td>TEST</td>\n",
              "      <td>1534</td>\n",
              "      <td>1546</td>\n",
              "      <td>the anion gap</td>\n",
              "      <td>PROBLEM</td>\n",
              "      <td>1552</td>\n",
              "      <td>1565</td>\n",
              "      <td>still elevated</td>\n",
              "      <td>0.9965193</td>\n",
              "    </tr>\n",
              "    <tr>\n",
              "      <th>33</th>\n",
              "      <td>TrAP</td>\n",
              "      <td>TEST</td>\n",
              "      <td>1837</td>\n",
              "      <td>1844</td>\n",
              "      <td>analysis</td>\n",
              "      <td>PROBLEM</td>\n",
              "      <td>1853</td>\n",
              "      <td>1879</td>\n",
              "      <td>interference from turbidity</td>\n",
              "      <td>0.9676019</td>\n",
              "    </tr>\n",
              "    <tr>\n",
              "      <th>40</th>\n",
              "      <td>TrAP</td>\n",
              "      <td>PROBLEM</td>\n",
              "      <td>1966</td>\n",
              "      <td>1968</td>\n",
              "      <td>HTG</td>\n",
              "      <td>TREATMENT</td>\n",
              "      <td>1975</td>\n",
              "      <td>1985</td>\n",
              "      <td>a reduction</td>\n",
              "      <td>0.9875973</td>\n",
              "    </tr>\n",
              "    <tr>\n",
              "      <th>41</th>\n",
              "      <td>TrAP</td>\n",
              "      <td>PROBLEM</td>\n",
              "      <td>1966</td>\n",
              "      <td>1968</td>\n",
              "      <td>HTG</td>\n",
              "      <td>TEST</td>\n",
              "      <td>1990</td>\n",
              "      <td>2002</td>\n",
              "      <td>the anion gap</td>\n",
              "      <td>0.9993911</td>\n",
              "    </tr>\n",
              "    <tr>\n",
              "      <th>43</th>\n",
              "      <td>TeRP</td>\n",
              "      <td>PROBLEM</td>\n",
              "      <td>2106</td>\n",
              "      <td>2136</td>\n",
              "      <td>her respiratory tract infection</td>\n",
              "      <td>TREATMENT</td>\n",
              "      <td>2156</td>\n",
              "      <td>2170</td>\n",
              "      <td>SGLT2 inhibitor</td>\n",
              "      <td>0.997498</td>\n",
              "    </tr>\n",
              "  </tbody>\n",
              "</table>\n",
              "</div>"
            ],
            "text/plain": [
              "   relation  entity1  ...                       chunk2  confidence\n",
              "0      TeRP  PROBLEM  ...                          BMI         1.0\n",
              "1      TeRP  PROBLEM  ...                          BMI         1.0\n",
              "14     TrAP  PROBLEM  ...                 atorvastatin  0.99955326\n",
              "18     TeRP     TEST  ...              dry oral mucosa   0.9994142\n",
              "22     TrWP     TEST  ...                   hemolyzing   0.9854173\n",
              "23     TrWP     TEST  ...          significant lipemia  0.99998724\n",
              "26     TeRP     TEST  ...               still elevated   0.9965193\n",
              "33     TrAP     TEST  ...  interference from turbidity   0.9676019\n",
              "40     TrAP  PROBLEM  ...                  a reduction   0.9875973\n",
              "41     TrAP  PROBLEM  ...                the anion gap   0.9993911\n",
              "43     TeRP  PROBLEM  ...              SGLT2 inhibitor    0.997498\n",
              "\n",
              "[11 rows x 10 columns]"
            ]
          },
          "metadata": {
            "tags": []
          },
          "execution_count": 27
        }
      ]
    },
    {
      "cell_type": "markdown",
      "metadata": {
        "id": "H15M7SBnEMsM",
        "colab_type": "text"
      },
      "source": [
        "## Train a Relation Extraction Model"
      ]
    },
    {
      "cell_type": "code",
      "metadata": {
        "id": "rYLFjUJLEMsN",
        "colab_type": "code",
        "colab": {
          "base_uri": "https://localhost:8080/",
          "height": 277
        },
        "outputId": "0bdc7653-de14-4c08-bfbe-56874ff55186"
      },
      "source": [
        "data = spark.read.option(\"header\",\"true\").format(\"csv\").load(\"i2b2_clinical_relfeatures.csv\")\n",
        "\n",
        "data.show(10)"
      ],
      "execution_count": 41,
      "outputs": [
        {
          "output_type": "stream",
          "text": [
            "+-------+--------------------+--------------------+------+----+---------+--------------------+------+----+-------+-----+\n",
            "|dataset|            sentence|              chunk1|begin1|end1|   label1|              chunk2|begin2|end2| label2|  rel|\n",
            "+-------+--------------------+--------------------+------+----+---------+--------------------+------+----+-------+-----+\n",
            "|   test|# BRBPR -- The pa...|               brbpr|     1|   1|  problem|  his lower gi bleed|    12|  15|problem|    O|\n",
            "|   test|An angiography sh...|      an angiography|     0|   1|     test|bleeding in two v...|     3|   6|problem| TeRP|\n",
            "|   test|His coumadin was ...|        his coumadin|     0|   1|treatment|     his acute bleed|     8|  10|problem|TrNAP|\n",
            "|   test|- The patient und...|a flex sigmoidoscopy|     4|   6|     test|old blood in the ...|    14|  19|problem| TeRP|\n",
            "|   test|- The patient und...|a flex sigmoidoscopy|     4|   6|     test|active source of ...|    22|  25|problem| TeRP|\n",
            "|   test|Given this , it w...|       a colonoscopy|    10|  11|     test|            bleeding|    16|  16|problem| TeCP|\n",
            "|   test|Therefore , he ha...|       mucosal signs|    12|  13|  problem|moderate ulcerati...|    15|  17|problem|  PIP|\n",
            "|   test|Therefore , he ha...|a repeat colonoscopy|     4|   6|     test|       mucosal signs|    12|  13|problem| TeRP|\n",
            "|   test|Therefore , he ha...|a repeat colonoscopy|     4|   6|     test|moderate ulcerati...|    15|  17|problem| TeRP|\n",
            "|   test|Therefore , he ha...|a repeat colonoscopy|     4|   6|     test|8 mm ulcer at jun...|    23|  34|problem| TeRP|\n",
            "+-------+--------------------+--------------------+------+----+---------+--------------------+------+----+-------+-----+\n",
            "only showing top 10 rows\n",
            "\n"
          ],
          "name": "stdout"
        }
      ]
    },
    {
      "cell_type": "code",
      "metadata": {
        "id": "nUrhFf3AcrYv",
        "colab_type": "code",
        "colab": {}
      },
      "source": [
        "#data = data.select('dataset','sentence','chunk1','begin1','end1','label1','chunk2','begin2','end2','label2','rel')"
      ],
      "execution_count": 40,
      "outputs": []
    },
    {
      "cell_type": "code",
      "metadata": {
        "id": "4sZ4pBljEMsP",
        "colab_type": "code",
        "colab": {}
      },
      "source": [
        "\n",
        "rels = [\"TrIP\", \"TrAP\", \"TeCP\", \"TrNAP\", \"TrCP\", \"PIP\", \"TrWP\", \"TeRP\"]\n",
        "\n",
        "valid_rel_query = \"(\" + \" OR \".join([\"rel = '{}'\".format(rel) for rel in rels]) + \")\"\n",
        "\n",
        "data = data\\\n",
        "    .where(valid_rel_query)\\\n",
        "    .withColumn(\"begin1i\", F.expr(\"cast(begin1 AS Int)\"))\\\n",
        "    .withColumn(\"end1i\", F.expr(\"cast(end1 AS Int)\"))\\\n",
        "    .withColumn(\"begin2i\", F.expr(\"cast(begin2 AS Int)\"))\\\n",
        "    .withColumn(\"end2i\", F.expr(\"cast(end2 AS Int)\"))\n",
        "\n",
        "train_data = data.where(\"dataset='train'\")\n",
        "\n",
        "test_data = data.where(\"dataset='test'\")"
      ],
      "execution_count": 42,
      "outputs": []
    },
    {
      "cell_type": "code",
      "metadata": {
        "id": "9bv8j-tgEMsX",
        "colab_type": "code",
        "colab": {
          "base_uri": "https://localhost:8080/",
          "height": 212
        },
        "outputId": "f4e113e9-36a2-461e-921d-cfe095021867"
      },
      "source": [
        "documenter = sparknlp.DocumentAssembler()\\\n",
        "    .setInputCol(\"sentence\")\\\n",
        "    .setOutputCol(\"document\")\n",
        "\n",
        "sentencer = SentenceDetector()\\\n",
        "    .setInputCols([\"document\"])\\\n",
        "    .setOutputCol(\"sentences\")\n",
        "\n",
        "tokenizer = sparknlp.annotators.Tokenizer()\\\n",
        "    .setInputCols([\"sentences\"])\\\n",
        "    .setOutputCol(\"tokens\")\\\n",
        "\n",
        "words_embedder = WordEmbeddingsModel()\\\n",
        "    .pretrained(\"embeddings_clinical\", \"en\", \"clinical/models\")\\\n",
        "    .setInputCols([\"sentences\", \"tokens\"])\\\n",
        "    .setOutputCol(\"embeddings\")\n",
        "\n",
        "pos_tagger = PerceptronModel()\\\n",
        "    .pretrained(\"pos_clinical\", \"en\", \"clinical/models\") \\\n",
        "    .setInputCols([\"sentences\", \"tokens\"])\\\n",
        "    .setOutputCol(\"pos_tags\")\n",
        "\n",
        "ner_tagger = NerDLModel()\\\n",
        "    .pretrained(\"ner_clinical_large\", \"en\", \"clinical/models\")\\\n",
        "    .setInputCols([\"sentences\", \"tokens\", \"embeddings\"])\\\n",
        "    .setOutputCol(\"ner_tags\")\n",
        "\n",
        "ner_converter = NerConverter()\\\n",
        "    .setInputCols([\"sentences\", \"tokens\", \"ner_tags\"])\\\n",
        "    .setOutputCol(\"ner_chunks\")\n",
        "    \n",
        "dependency_parser = sparknlp.annotators.DependencyParserModel()\\\n",
        "    .pretrained(\"dependency_conllu\", \"en\")\\\n",
        "    .setInputCols([\"document\", \"pos_tags\", \"tokens\"])\\\n",
        "    .setOutputCol(\"dependencies\")\n",
        "\n",
        "# set training params and upload model graph (see ../Healthcare/8.Generic_Classifier.ipynb)\n",
        "reApproach = sparknlp_jsl.annotator.RelationExtractionApproach()\\\n",
        "    .setInputCols([\"embeddings\", \"pos_tags\", \"ner_chunks\", \"dependencies\"])\\\n",
        "    .setOutputCol(\"relations\")\\\n",
        "    .setLabelColumn(\"rel\")\\\n",
        "    .setEpochsNumber(50)\\\n",
        "    .setBatchSize(200)\\\n",
        "    .setLearningRate(0.001)\\\n",
        "    .setModelFile(\"/content/RE_in1200D_out20.pb\")\\\n",
        "    .setFixImbalance(True)\\\n",
        "    .setValidationSplit(0.2)\\\n",
        "    .setFromEntity(\"begin1i\", \"end1i\", \"label1\")\\\n",
        "    .setToEntity(\"begin2i\", \"end2i\", \"label2\")\n",
        "    \n",
        "train_pipeline = Pipeline(stages=[\n",
        "    documenter, sentencer, tokenizer, words_embedder, pos_tagger,\n",
        "    ner_tagger, ner_converter, dependency_parser,\n",
        "    reApproach\n",
        "])"
      ],
      "execution_count": 48,
      "outputs": [
        {
          "output_type": "stream",
          "text": [
            "embeddings_clinical download started this may take some time.\n",
            "Approximate size to download 1.6 GB\n",
            "[OK!]\n",
            "pos_clinical download started this may take some time.\n",
            "Approximate size to download 1.7 MB\n",
            "[OK!]\n",
            "ner_clinical_large download started this may take some time.\n",
            "Approximate size to download 13.9 MB\n",
            "[OK!]\n",
            "dependency_conllu download started this may take some time.\n",
            "Approximate size to download 16.6 MB\n",
            "[OK!]\n"
          ],
          "name": "stdout"
        }
      ]
    },
    {
      "cell_type": "code",
      "metadata": {
        "id": "20A4L2nWEMsg",
        "colab_type": "code",
        "colab": {}
      },
      "source": [
        "rel_model = train_pipeline.fit(train_data)\n"
      ],
      "execution_count": 49,
      "outputs": []
    },
    {
      "cell_type": "code",
      "metadata": {
        "id": "raThuIwTkNWN",
        "colab_type": "code",
        "colab": {
          "base_uri": "https://localhost:8080/",
          "height": 33
        },
        "outputId": "bdf27e41-4198-42f9-e76e-bb682462e1f3"
      },
      "source": [
        "rel_model.stages[-1]"
      ],
      "execution_count": 58,
      "outputs": [
        {
          "output_type": "execute_result",
          "data": {
            "text/plain": [
              "RelationExtractionModel_81d7579fd02b"
            ]
          },
          "metadata": {
            "tags": []
          },
          "execution_count": 58
        }
      ]
    },
    {
      "cell_type": "code",
      "metadata": {
        "id": "RSijJwEWkOSk",
        "colab_type": "code",
        "colab": {}
      },
      "source": [
        "rel_model.stages[-1].write().overwrite().save('models/custom_RE_model')"
      ],
      "execution_count": 59,
      "outputs": []
    },
    {
      "cell_type": "code",
      "metadata": {
        "id": "oIieSDdUgrZ1",
        "colab_type": "code",
        "colab": {}
      },
      "source": [
        "result = rel_model.transform(test_data)"
      ],
      "execution_count": 51,
      "outputs": []
    },
    {
      "cell_type": "code",
      "metadata": {
        "id": "NZkHEQ8Kjo1G",
        "colab_type": "code",
        "colab": {
          "base_uri": "https://localhost:8080/",
          "height": 460
        },
        "outputId": "4c8a8372-f88f-484a-aa15-3444fcad6237"
      },
      "source": [
        "result.show()"
      ],
      "execution_count": 55,
      "outputs": [
        {
          "output_type": "stream",
          "text": [
            "+-------+--------------------+--------------------+------+----+---------+--------------------+------+----+-------+-----+-------+-----+-------+-----+--------------------+--------------------+--------------------+--------------------+--------------------+--------------------+--------------------+--------------------+--------------------+\n",
            "|dataset|            sentence|              chunk1|begin1|end1|   label1|              chunk2|begin2|end2| label2|  rel|begin1i|end1i|begin2i|end2i|            document|           sentences|              tokens|          embeddings|            pos_tags|            ner_tags|          ner_chunks|        dependencies|           relations|\n",
            "+-------+--------------------+--------------------+------+----+---------+--------------------+------+----+-------+-----+-------+-----+-------+-----+--------------------+--------------------+--------------------+--------------------+--------------------+--------------------+--------------------+--------------------+--------------------+\n",
            "|   test|An angiography sh...|      an angiography|     0|   1|     test|bleeding in two v...|     3|   6|problem| TeRP|      0|    1|      3|    6|[[document, 0, 11...|[[document, 0, 11...|[[token, 0, 1, An...|[[word_embeddings...|[[pos, 0, 1, DD, ...|[[named_entity, 0...|[[chunk, 0, 13, A...|[[dependency, 0, ...|[[category, 0, 44...|\n",
            "|   test|His coumadin was ...|        his coumadin|     0|   1|treatment|     his acute bleed|     8|  10|problem|TrNAP|      0|    1|      8|   10|[[document, 0, 13...|[[document, 0, 13...|[[token, 0, 2, Hi...|[[word_embeddings...|[[pos, 0, 2, NN, ...|[[named_entity, 0...|[[chunk, 0, 11, H...|[[dependency, 0, ...|[[category, 0, 58...|\n",
            "|   test|- The patient und...|a flex sigmoidoscopy|     4|   6|     test|old blood in the ...|    14|  19|problem| TeRP|      4|    6|     14|   19|[[document, 0, 14...|[[document, 0, 14...|[[token, 0, 0, -,...|[[word_embeddings...|[[pos, 0, 0, SYM,...|[[named_entity, 0...|[[chunk, 24, 43, ...|[[dependency, 0, ...|[[category, 24, 1...|\n",
            "|   test|- The patient und...|a flex sigmoidoscopy|     4|   6|     test|active source of ...|    22|  25|problem| TeRP|      4|    6|     22|   25|[[document, 0, 14...|[[document, 0, 14...|[[token, 0, 0, -,...|[[word_embeddings...|[[pos, 0, 0, SYM,...|[[named_entity, 0...|[[chunk, 24, 43, ...|[[dependency, 0, ...|[[category, 24, 1...|\n",
            "|   test|Given this , it w...|       a colonoscopy|    10|  11|     test|            bleeding|    16|  16|problem| TeCP|     10|   11|     16|   16|[[document, 0, 93...|[[document, 0, 93...|[[token, 0, 4, Gi...|[[word_embeddings...|[[pos, 0, 4, VVN,...|[[named_entity, 0...|[[chunk, 50, 62, ...|[[dependency, 0, ...|[[category, 50, 9...|\n",
            "|   test|Therefore , he ha...|       mucosal signs|    12|  13|  problem|moderate ulcerati...|    15|  17|problem|  PIP|     12|   13|     15|   17|[[document, 0, 20...|[[document, 0, 20...|[[token, 0, 8, Th...|[[word_embeddings...|[[pos, 0, 8, RR, ...|[[named_entity, 0...|[[chunk, 19, 38, ...|[[dependency, 0, ...|[[category, 19, 8...|\n",
            "|   test|Therefore , he ha...|a repeat colonoscopy|     4|   6|     test|       mucosal signs|    12|  13|problem| TeRP|      4|    6|     12|   13|[[document, 0, 20...|[[document, 0, 20...|[[token, 0, 8, Th...|[[word_embeddings...|[[pos, 0, 8, RR, ...|[[named_entity, 0...|[[chunk, 19, 38, ...|[[dependency, 0, ...|[[category, 19, 8...|\n",
            "|   test|Therefore , he ha...|a repeat colonoscopy|     4|   6|     test|moderate ulcerati...|    15|  17|problem| TeRP|      4|    6|     15|   17|[[document, 0, 20...|[[document, 0, 20...|[[token, 0, 8, Th...|[[word_embeddings...|[[pos, 0, 8, RR, ...|[[named_entity, 0...|[[chunk, 19, 38, ...|[[dependency, 0, ...|[[category, 19, 8...|\n",
            "|   test|Therefore , he ha...|a repeat colonoscopy|     4|   6|     test|8 mm ulcer at jun...|    23|  34|problem| TeRP|      4|    6|     23|   34|[[document, 0, 20...|[[document, 0, 20...|[[token, 0, 8, Th...|[[word_embeddings...|[[pos, 0, 8, RR, ...|[[named_entity, 0...|[[chunk, 19, 38, ...|[[dependency, 0, ...|[[category, 19, 8...|\n",
            "|   test|Therefore , he ha...|a repeat colonoscopy|     4|   6|     test|              polyps|    20|  20|problem| TeRP|      4|    6|     20|   20|[[document, 0, 20...|[[document, 0, 20...|[[token, 0, 8, Th...|[[word_embeddings...|[[pos, 0, 8, RR, ...|[[named_entity, 0...|[[chunk, 19, 38, ...|[[dependency, 0, ...|[[category, 19, 8...|\n",
            "|   test|# Ulcerative coli...|the patient 's as...|     4|   7|treatment|  ulcerative colitis|     1|   2|problem| TrAP|      4|    7|      1|    2|[[document, 0, 11...|[[document, 0, 11...|[[token, 0, 0, #,...|[[word_embeddings...|[[pos, 0, 0, NN, ...|[[named_entity, 0...|[[chunk, 2, 19, U...|[[dependency, 0, ...|[[category, 2, 44...|\n",
            "|   test|# CAD/CHF - The p...|    his home regimen|     8|  10|treatment|             cad/chf|     1|   1|problem| TrAP|      8|   10|      1|    1|[[document, 0, 12...|[[document, 0, 12...|[[token, 0, 0, #,...|[[word_embeddings...|[[pos, 0, 0, NN, ...|[[named_entity, 0...|[[chunk, 2, 8, CA...|[[dependency, 0, ...|[[category, 2, 56...|\n",
            "|   test|# CAD/CHF - The p...|    his home regimen|     8|  10|treatment|  his acute gi bleed|    20|  23|problem| TrAP|      8|   10|     20|   23|[[document, 0, 12...|[[document, 0, 12...|[[token, 0, 0, #,...|[[word_embeddings...|[[pos, 0, 0, NN, ...|[[named_entity, 0...|[[chunk, 2, 8, CA...|[[dependency, 0, ...|[[category, 2, 56...|\n",
            "|   test|# DM-2 -- The pat...|his home insulin ...|     8|  11|treatment|                dm-2|     1|   1|problem| TrAP|      8|   11|      1|    1|[[document, 0, 65...|[[document, 0, 65...|[[token, 0, 0, #,...|[[word_embeddings...|[[pos, 0, 0, NN, ...|[[named_entity, 0...|[[chunk, 2, 5, DM...|[[dependency, 0, ...|[[category, 2, 63...|\n",
            "|   test|After discussing ...|      recurrent dvts|    15|  16|  problem|                a pe|    19|  20|problem|  PIP|     15|   16|     19|   20|[[document, 0, 18...|[[document, 0, 18...|[[token, 0, 4, Af...|[[word_embeddings...|[[pos, 0, 4, II, ...|[[named_entity, 0...|[[chunk, 77, 90, ...|[[dependency, 0, ...|[[category, 77, 1...|\n",
            "|   test|After discussing ...|long-term anticoa...|    29|  30|treatment|                a pe|    19|  20|problem| TrAP|     29|   30|     19|   20|[[document, 0, 18...|[[document, 0, 18...|[[token, 0, 4, Af...|[[word_embeddings...|[[pos, 0, 4, II, ...|[[named_entity, 0...|[[chunk, 77, 90, ...|[[dependency, 0, ...|[[category, 77, 1...|\n",
            "|   test|After discussing ...|long-term anticoa...|    29|  30|treatment|      recurrent dvts|    15|  16|problem| TrAP|     29|   30|     15|   16|[[document, 0, 18...|[[document, 0, 18...|[[token, 0, 4, Af...|[[word_embeddings...|[[pos, 0, 4, II, ...|[[named_entity, 0...|[[chunk, 77, 90, ...|[[dependency, 0, ...|[[category, 77, 1...|\n",
            "|   test|His goal INR shou...|v. winchester filter|    14|  16|treatment|            bleeding|     8|   8|problem| TrAP|     14|   16|      8|    8|[[document, 0, 96...|[[document, 0, 31...|[[token, 0, 2, Hi...|[[word_embeddings...|[[pos, 0, 2, NN, ...|[[named_entity, 0...|[[chunk, 0, 11, H...|[[dependency, 0, ...|[[category, 36, 9...|\n",
            "|   test|10. Pioglitazone ...|        pioglitazone|     1|   1|treatment|                  dm|    20|  20|problem| TrAP|      1|    1|     20|   20|[[document, 0, 89...|[[document, 0, 89...|[[token, 0, 1, 10...|[[word_embeddings...|[[pos, 0, 1, MC, ...|[[named_entity, 0...|[[chunk, 4, 15, P...|[[dependency, 0, ...|[[category, 4, 87...|\n",
            "|   test|11. Mesalamine 40...|          mesalamine|     1|   1|treatment|  ulcerative colitis|    35|  36|problem| TrAP|      1|    1|     35|   36|[[document, 0, 19...|[[document, 0, 19...|[[token, 0, 1, 11...|[[word_embeddings...|[[pos, 0, 1, MC, ...|[[named_entity, 0...|[[chunk, 4, 13, M...|[[dependency, 0, ...|[[category, 4, 16...|\n",
            "+-------+--------------------+--------------------+------+----+---------+--------------------+------+----+-------+-----+-------+-----+-------+-----+--------------------+--------------------+--------------------+--------------------+--------------------+--------------------+--------------------+--------------------+--------------------+\n",
            "only showing top 20 rows\n",
            "\n"
          ],
          "name": "stdout"
        }
      ]
    },
    {
      "cell_type": "code",
      "metadata": {
        "id": "8HS4uBUBfeCP",
        "colab_type": "code",
        "colab": {
          "base_uri": "https://localhost:8080/",
          "height": 927
        },
        "outputId": "49152417-6254-4523-b907-a15b1db2b2d9"
      },
      "source": [
        "result_df = result.select(F.explode(F.arrays_zip('relations.result', 'relations.metadata')).alias(\"cols\")) \\\n",
        ".select(F.expr(\"cols['0']\").alias(\"relation\"),\n",
        "        F.expr(\"cols['1']['entity1']\").alias(\"entity1\"),\n",
        "        F.expr(\"cols['1']['entity1_begin']\").alias(\"entity1_begin\"),\n",
        "        F.expr(\"cols['1']['entity1_end']\").alias(\"entity1_end\"),\n",
        "        F.expr(\"cols['1']['chunk1']\").alias(\"chunk1\"),\n",
        "        F.expr(\"cols['1']['entity2']\").alias(\"entity2\"),\n",
        "        F.expr(\"cols['1']['entity2_begin']\").alias(\"entity2_begin\"),\n",
        "        F.expr(\"cols['1']['entity2_end']\").alias(\"entity2_end\"),\n",
        "        F.expr(\"cols['1']['chunk2']\").alias(\"chunk2\"),\n",
        "        F.expr(\"cols['1']['confidence']\").alias(\"confidence\")\n",
        "        )\n",
        "\n",
        "result_df.show(50, truncate=100)\n",
        "\n"
      ],
      "execution_count": 52,
      "outputs": [
        {
          "output_type": "stream",
          "text": [
            "+--------+---------+-------------+-----------+-----------------------------+---------+-------------+-----------+-------------------------------------------------------------------+----------+\n",
            "|relation|  entity1|entity1_begin|entity1_end|                       chunk1|  entity2|entity2_begin|entity2_end|                                                             chunk2|confidence|\n",
            "+--------+---------+-------------+-----------+-----------------------------+---------+-------------+-----------+-------------------------------------------------------------------+----------+\n",
            "|    TeRP|     TEST|            0|         13|               An angiography|  PROBLEM|           22|         44|                                            bleeding in two vessels|0.99999714|\n",
            "|    TeRP|     TEST|            0|         13|               An angiography|TREATMENT|          108|        116|                                                          embolized|       1.0|\n",
            "|     PIP|  PROBLEM|           22|         44|      bleeding in two vessels|TREATMENT|          108|        116|                                                          embolized|   0.99354|\n",
            "|    TeRP|TREATMENT|            0|         11|                 His coumadin|  PROBLEM|           44|         58|                                                    his acute bleed|  0.999895|\n",
            "|    TeRP|     TEST|           24|         43|         a flex sigmoidoscopy|  PROBLEM|           78|        106|                                      old blood in the rectal vault|  0.999998|\n",
            "|    TeRP|     TEST|           24|         43|         a flex sigmoidoscopy|  PROBLEM|          115|        139|                                          active source of bleeding|       1.0|\n",
            "|     PIP|  PROBLEM|           78|        106|old blood in the rectal vault|  PROBLEM|          115|        139|                                          active source of bleeding|0.99999917|\n",
            "|    TeRP|     TEST|           24|         43|         a flex sigmoidoscopy|  PROBLEM|           78|        106|                                      old blood in the rectal vault|  0.999998|\n",
            "|    TeRP|     TEST|           24|         43|         a flex sigmoidoscopy|  PROBLEM|          115|        139|                                          active source of bleeding|       1.0|\n",
            "|     PIP|  PROBLEM|           78|        106|old blood in the rectal vault|  PROBLEM|          115|        139|                                          active source of bleeding|0.99999917|\n",
            "|    TeRP|     TEST|           50|         62|                a colonoscopy|  PROBLEM|           84|         91|                                                           bleeding|0.99244905|\n",
            "|    TeRP|     TEST|           19|         38|         a repeat colonoscopy|  PROBLEM|           71|         83|                                                      mucosal signs| 0.9999101|\n",
            "|    TeRP|     TEST|           19|         38|         a repeat colonoscopy|  PROBLEM|           88|        114|                                        moderate ulcerative colitis|0.99999976|\n",
            "|    TeRP|     TEST|           19|         38|         a repeat colonoscopy|  PROBLEM|          121|        126|                                                             polyps| 0.9999995|\n",
            "|    TeRP|     TEST|           19|         38|         a repeat colonoscopy|  PROBLEM|          133|        199|8 mm ulcer at junction of distal descending colon and sigmoid colon|       1.0|\n",
            "|     PIP|  PROBLEM|           71|         83|                mucosal signs|  PROBLEM|           88|        114|                                        moderate ulcerative colitis| 0.9999871|\n",
            "|     PIP|  PROBLEM|           71|         83|                mucosal signs|  PROBLEM|          121|        126|                                                             polyps|0.99984336|\n",
            "|    TeRP|  PROBLEM|           71|         83|                mucosal signs|  PROBLEM|          133|        199|8 mm ulcer at junction of distal descending colon and sigmoid colon|       1.0|\n",
            "|     PIP|  PROBLEM|           88|        114|  moderate ulcerative colitis|  PROBLEM|          121|        126|                                                             polyps| 0.9999925|\n",
            "|    TeRP|  PROBLEM|           88|        114|  moderate ulcerative colitis|  PROBLEM|          133|        199|8 mm ulcer at junction of distal descending colon and sigmoid colon| 0.9996086|\n",
            "|    TeRP|  PROBLEM|          121|        126|                       polyps|  PROBLEM|          133|        199|8 mm ulcer at junction of distal descending colon and sigmoid colon|       1.0|\n",
            "|    TeRP|     TEST|           19|         38|         a repeat colonoscopy|  PROBLEM|           71|         83|                                                      mucosal signs| 0.9999101|\n",
            "|    TeRP|     TEST|           19|         38|         a repeat colonoscopy|  PROBLEM|           88|        114|                                        moderate ulcerative colitis|0.99999976|\n",
            "|    TeRP|     TEST|           19|         38|         a repeat colonoscopy|  PROBLEM|          121|        126|                                                             polyps| 0.9999995|\n",
            "|    TeRP|     TEST|           19|         38|         a repeat colonoscopy|  PROBLEM|          133|        199|8 mm ulcer at junction of distal descending colon and sigmoid colon|       1.0|\n",
            "|     PIP|  PROBLEM|           71|         83|                mucosal signs|  PROBLEM|           88|        114|                                        moderate ulcerative colitis| 0.9999871|\n",
            "|     PIP|  PROBLEM|           71|         83|                mucosal signs|  PROBLEM|          121|        126|                                                             polyps|0.99984336|\n",
            "|    TeRP|  PROBLEM|           71|         83|                mucosal signs|  PROBLEM|          133|        199|8 mm ulcer at junction of distal descending colon and sigmoid colon|       1.0|\n",
            "|     PIP|  PROBLEM|           88|        114|  moderate ulcerative colitis|  PROBLEM|          121|        126|                                                             polyps| 0.9999925|\n",
            "|    TeRP|  PROBLEM|           88|        114|  moderate ulcerative colitis|  PROBLEM|          133|        199|8 mm ulcer at junction of distal descending colon and sigmoid colon| 0.9996086|\n",
            "|    TeRP|  PROBLEM|          121|        126|                       polyps|  PROBLEM|          133|        199|8 mm ulcer at junction of distal descending colon and sigmoid colon|       1.0|\n",
            "|    TeRP|     TEST|           19|         38|         a repeat colonoscopy|  PROBLEM|           71|         83|                                                      mucosal signs| 0.9999101|\n",
            "|    TeRP|     TEST|           19|         38|         a repeat colonoscopy|  PROBLEM|           88|        114|                                        moderate ulcerative colitis|0.99999976|\n",
            "|    TeRP|     TEST|           19|         38|         a repeat colonoscopy|  PROBLEM|          121|        126|                                                             polyps| 0.9999995|\n",
            "|    TeRP|     TEST|           19|         38|         a repeat colonoscopy|  PROBLEM|          133|        199|8 mm ulcer at junction of distal descending colon and sigmoid colon|       1.0|\n",
            "|     PIP|  PROBLEM|           71|         83|                mucosal signs|  PROBLEM|           88|        114|                                        moderate ulcerative colitis| 0.9999871|\n",
            "|     PIP|  PROBLEM|           71|         83|                mucosal signs|  PROBLEM|          121|        126|                                                             polyps|0.99984336|\n",
            "|    TeRP|  PROBLEM|           71|         83|                mucosal signs|  PROBLEM|          133|        199|8 mm ulcer at junction of distal descending colon and sigmoid colon|       1.0|\n",
            "|     PIP|  PROBLEM|           88|        114|  moderate ulcerative colitis|  PROBLEM|          121|        126|                                                             polyps| 0.9999925|\n",
            "|    TeRP|  PROBLEM|           88|        114|  moderate ulcerative colitis|  PROBLEM|          133|        199|8 mm ulcer at junction of distal descending colon and sigmoid colon| 0.9996086|\n",
            "|    TeRP|  PROBLEM|          121|        126|                       polyps|  PROBLEM|          133|        199|8 mm ulcer at junction of distal descending colon and sigmoid colon|       1.0|\n",
            "|    TeRP|     TEST|           19|         38|         a repeat colonoscopy|  PROBLEM|           71|         83|                                                      mucosal signs| 0.9999101|\n",
            "|    TeRP|     TEST|           19|         38|         a repeat colonoscopy|  PROBLEM|           88|        114|                                        moderate ulcerative colitis|0.99999976|\n",
            "|    TeRP|     TEST|           19|         38|         a repeat colonoscopy|  PROBLEM|          121|        126|                                                             polyps| 0.9999995|\n",
            "|    TeRP|     TEST|           19|         38|         a repeat colonoscopy|  PROBLEM|          133|        199|8 mm ulcer at junction of distal descending colon and sigmoid colon|       1.0|\n",
            "|     PIP|  PROBLEM|           71|         83|                mucosal signs|  PROBLEM|           88|        114|                                        moderate ulcerative colitis| 0.9999871|\n",
            "|     PIP|  PROBLEM|           71|         83|                mucosal signs|  PROBLEM|          121|        126|                                                             polyps|0.99984336|\n",
            "|    TeRP|  PROBLEM|           71|         83|                mucosal signs|  PROBLEM|          133|        199|8 mm ulcer at junction of distal descending colon and sigmoid colon|       1.0|\n",
            "|     PIP|  PROBLEM|           88|        114|  moderate ulcerative colitis|  PROBLEM|          121|        126|                                                             polyps| 0.9999925|\n",
            "|    TeRP|  PROBLEM|           88|        114|  moderate ulcerative colitis|  PROBLEM|          133|        199|8 mm ulcer at junction of distal descending colon and sigmoid colon| 0.9996086|\n",
            "+--------+---------+-------------+-----------+-----------------------------+---------+-------------+-----------+-------------------------------------------------------------------+----------+\n",
            "only showing top 50 rows\n",
            "\n"
          ],
          "name": "stdout"
        }
      ]
    },
    {
      "cell_type": "markdown",
      "metadata": {
        "id": "HakYb_W-mZSR",
        "colab_type": "text"
      },
      "source": [
        "## Load trained model from disk"
      ]
    },
    {
      "cell_type": "code",
      "metadata": {
        "id": "LOWKLmUChSBG",
        "colab_type": "code",
        "colab": {}
      },
      "source": [
        "\n",
        "loaded_re_Model = RelationExtractionModel()\\\n",
        "    .load(\"models/custom_RE_model\")\\\n",
        "    .setInputCols([\"embeddings\", \"pos_tags\", \"ner_chunks\", \"dependencies\"])\\\n",
        "    .setOutputCol(\"relations\")\\\n",
        "    .setMaxSyntacticDistance(4)\\\n",
        "    .setRelationPairs([\"problem-test\", \"problem-treatment\"])\n",
        "\n",
        "trained_pipeline = Pipeline(stages=[\n",
        "    documenter,\n",
        "    sentencer,\n",
        "    tokenizer, \n",
        "    words_embedder, \n",
        "    pos_tagger, \n",
        "    clinical_ner_tagger,\n",
        "    ner_chunker,\n",
        "    dependency_parser,\n",
        "    loaded_re_Model\n",
        "])\n",
        "\n",
        "empty_data = spark.createDataFrame([[\"\"]]).toDF(\"sentence\")\n",
        "\n",
        "loaded_re_model = trained_pipeline.fit(empty_data)\n",
        "\n",
        "\n",
        "text =\"\"\"A 28-year-old female with a history of gestational diabetes mellitus diagnosed eight years prior to presentation and subsequent type two diabetes mellitus ( T2DM ), \n",
        "one prior episode of HTG-induced pancreatitis three years prior to presentation,  associated with an acute hepatitis , and obesity with a body mass index ( BMI ) of 33.5 kg/m2 , presented with a one-week history of polyuria , polydipsia , poor appetite , and vomiting . Two weeks prior to presentation , she was treated with a five-day course of amoxicillin for a respiratory tract infection . She was on metformin , glipizide , and dapagliflozin for T2DM and atorvastatin and gemfibrozil for HTG . She had been on dapagliflozin for six months at the time of presentation. Physical examination on presentation was significant for dry oral mucosa ; significantly , her abdominal examination was benign with no tenderness , guarding , or rigidity . Pertinent laboratory findings on admission were : serum glucose 111 mg/dl , bicarbonate 18 mmol/l , anion gap 20 , creatinine 0.4 mg/dL , triglycerides 508 mg/dL , total cholesterol 122 mg/dL , glycated hemoglobin ( HbA1c ) 10% , and venous pH 7.27 . Serum lipase was normal at 43 U/L . Serum acetone levels could not be assessed as blood samples kept hemolyzing due to significant lipemia . The patient was initially admitted for starvation ketosis , as she reported poor oral intake for three days prior to admission . However , serum chemistry obtained six hours after presentation revealed her glucose was 186 mg/dL , the anion gap was still elevated at 21 , serum bicarbonate was 16 mmol/L , triglyceride level peaked at 2050 mg/dL , and lipase was 52 U/L . The β-hydroxybutyrate level was obtained and found to be elevated at 5.29 mmol/L - the original sample was centrifuged and the chylomicron layer removed prior to analysis due to interference from turbidity caused by lipemia again . The patient was treated with an insulin drip for euDKA and HTG with a reduction in the anion gap to 13 and triglycerides to 1400 mg/dL , within 24 hours . Her euDKA was thought to be precipitated by her respiratory tract infection in the setting of SGLT2 inhibitor use . The patient was seen by the endocrinology service and she was discharged on 40 units of insulin glargine at night , 12 units of insulin lispro with meals , and metformin 1000 mg two times a day . It was determined that all SGLT2 inhibitors should be discontinued indefinitely . \n",
        "She had close follow-up with endocrinology post discharge .\n",
        "\"\"\"\n",
        "\n",
        "loaded_re_model_light = LightPipeline(loaded_re_model)\n",
        "\n",
        "annotations = loaded_re_model_light.fullAnnotate(text)\n",
        "\n",
        "rel_df = get_relations_df (annotations)\n",
        "\n",
        "rel_df[rel_df.relation!=\"O\"]"
      ],
      "execution_count": null,
      "outputs": []
    }
  ]
}