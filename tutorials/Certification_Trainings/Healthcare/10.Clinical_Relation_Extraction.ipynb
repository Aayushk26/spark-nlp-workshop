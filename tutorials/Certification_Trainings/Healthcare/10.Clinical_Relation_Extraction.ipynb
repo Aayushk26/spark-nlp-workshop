{
  "nbformat": 4,
  "nbformat_minor": 0,
  "metadata": {
    "colab": {
      "name": "10.Clinical_Relation_Extraction.ipynb Fixed",
      "provenance": [],
      "toc_visible": true
    },
    "kernelspec": {
      "display_name": "Python 3",
      "language": "python",
      "name": "python3"
    },
    "language_info": {
      "codemirror_mode": {
        "name": "ipython",
        "version": 3
      },
      "file_extension": ".py",
      "mimetype": "text/x-python",
      "name": "python",
      "nbconvert_exporter": "python",
      "pygments_lexer": "ipython3",
      "version": "3.7.4"
    },
    "name": "10.Clinical_Relation_Extraction",
    "notebookId": 781554605447210,
    "toc": {
      "base_numbering": 1,
      "nav_menu": {},
      "number_sections": true,
      "sideBar": true,
      "skip_h1_title": false,
      "title_cell": "Table of Contents",
      "title_sidebar": "Contents",
      "toc_cell": false,
      "toc_position": {},
      "toc_section_display": true,
      "toc_window_display": false
    },
    "varInspector": {
      "cols": {
        "lenName": 16,
        "lenType": 16,
        "lenVar": 40
      },
      "kernels_config": {
        "python": {
          "delete_cmd_postfix": "",
          "delete_cmd_prefix": "del ",
          "library": "var_list.py",
          "varRefreshCmd": "print(var_dic_list())"
        },
        "r": {
          "delete_cmd_postfix": ") ",
          "delete_cmd_prefix": "rm(",
          "library": "var_list.r",
          "varRefreshCmd": "cat(var_dic_list()) "
        }
      },
      "types_to_exclude": [
        "module",
        "function",
        "builtin_function_or_method",
        "instance",
        "_Feature"
      ],
      "window_display": false
    }
  },
  "cells": [
    {
      "cell_type": "markdown",
      "metadata": {
        "colab_type": "text",
        "id": "pFGiT_o1FJNH"
      },
      "source": [
        "![JohnSnowLabs](https://nlp.johnsnowlabs.com/assets/images/logo.png)"
      ]
    },
    {
      "cell_type": "markdown",
      "metadata": {
        "colab_type": "text",
        "id": "Df3b6PnyFz-A"
      },
      "source": [
        "[![Open In Colab](https://colab.research.google.com/assets/colab-badge.svg)](https://colab.research.google.com/github/JohnSnowLabs/spark-nlp-workshop/blob/master/tutorials/Certification_Trainings/Healthcare/10.Clinical_Relation_Extraction.ipynb)"
      ]
    },
    {
      "cell_type": "markdown",
      "metadata": {
        "colab_type": "text",
        "id": "OdkGRLgcFN1o"
      },
      "source": [
        "# Clinical Relation Extraction Model"
      ]
    },
    {
      "cell_type": "markdown",
      "metadata": {
        "colab_type": "text",
        "id": "4wdK8WtAF8ES"
      },
      "source": [
        "## Colab Setup"
      ]
    },
    {
      "cell_type": "code",
      "metadata": {
        "colab_type": "code",
        "id": "61uNqFkvF-UU",
        "colab": {
          "base_uri": "https://localhost:8080/",
          "height": 54
        },
        "outputId": "a3b053ce-c422-47f4-9e14-3ad069bb90e5"
      },
      "source": [
        "import json\n",
        "\n",
        "with open('workshop_license_keys_365.json') as f:\n",
        "    license_keys = json.load(f)\n",
        "\n",
        "license_keys.keys()\n"
      ],
      "execution_count": 1,
      "outputs": [
        {
          "output_type": "execute_result",
          "data": {
            "text/plain": [
              "dict_keys(['PUBLIC_VERSION', 'JSL_VERSION', 'SECRET', 'SPARK_NLP_LICENSE', 'AWS_ACCESS_KEY_ID', 'AWS_SECRET_ACCESS_KEY', 'SPARK_OCR_LICENSE', 'SPARK_OCR_SECRET'])"
            ]
          },
          "metadata": {
            "tags": []
          },
          "execution_count": 1
        }
      ]
    },
    {
      "cell_type": "code",
      "metadata": {
        "colab_type": "code",
        "id": "pEpCxhwLJUDB",
        "colab": {}
      },
      "source": [
        "import os\n",
        "\n",
        "# Install java\n",
        "! apt-get update -qq\n",
        "! apt-get install -y openjdk-8-jdk-headless -qq > /dev/null\n",
        "\n",
        "os.environ[\"JAVA_HOME\"] = \"/usr/lib/jvm/java-8-openjdk-amd64\"\n",
        "os.environ[\"PATH\"] = os.environ[\"JAVA_HOME\"] + \"/bin:\" + os.environ[\"PATH\"]\n",
        "! java -version\n",
        "\n",
        "secret = license_keys['SECRET']\n",
        "\n",
        "os.environ['SPARK_NLP_LICENSE'] = license_keys['SPARK_NLP_LICENSE']\n",
        "os.environ['AWS_ACCESS_KEY_ID']= license_keys['AWS_ACCESS_KEY_ID']\n",
        "os.environ['AWS_SECRET_ACCESS_KEY'] = license_keys['AWS_SECRET_ACCESS_KEY']\n",
        "version = license_keys['PUBLIC_VERSION']\n",
        "jsl_version = license_keys['JSL_VERSION']\n",
        "\n",
        "! pip install --ignore-installed -q pyspark==2.4.4\n",
        "\n",
        "! python -m pip install --upgrade spark-nlp-jsl==$jsl_version  --extra-index-url https://pypi.johnsnowlabs.com/$secret\n",
        "\n",
        "! pip install --ignore-installed -q spark-nlp==$version\n",
        "\n",
        "import sparknlp\n",
        "\n",
        "print (sparknlp.version())\n",
        "\n",
        "import json\n",
        "import os\n",
        "from pyspark.ml import Pipeline\n",
        "from pyspark.sql import SparkSession\n",
        "\n",
        "from sparknlp.annotator import *\n",
        "from sparknlp_jsl.annotator import *\n",
        "from sparknlp.base import *\n",
        "import sparknlp_jsl\n",
        "\n",
        "spark = sparknlp_jsl.start(secret)"
      ],
      "execution_count": null,
      "outputs": []
    },
    {
      "cell_type": "markdown",
      "metadata": {
        "colab_type": "text",
        "id": "dhScin3AEqYF"
      },
      "source": [
        "## 1. Posology Releation Extraction\n",
        "\n",
        "This is a demonstration of using SparkNLP for extracting posology relations. The following relatios are supported:\n",
        "\n",
        "DRUG-DOSAGE\n",
        "DRUG-FREQUENCY\n",
        "DRUG-ADE (Adversed Drug Events)\n",
        "DRUG-FORM\n",
        "DRUG-ROUTE\n",
        "DRUG-DURATION\n",
        "DRUG-REASON\n",
        "DRUG=STRENGTH\n",
        "\n",
        "The model has been validated agains the posology dataset described in (Magge, Scotch, & Gonzalez-Hernandez, 2018).\n",
        "\n",
        "| Relation | Recall | Precision | F1 | F1 (Magge, Scotch, & Gonzalez-Hernandez, 2018) |\n",
        "| --- | --- | --- | --- | --- |\n",
        "| DRUG-ADE | 0.66 | 1.00 | **0.80** | 0.76 |\n",
        "| DRUG-DOSAGE | 0.89 | 1.00 | **0.94** | 0.91 |\n",
        "| DRUG-DURATION | 0.75 | 1.00 | **0.85** | 0.92 |\n",
        "| DRUG-FORM | 0.88 | 1.00 | **0.94** | 0.95* |\n",
        "| DRUG-FREQUENCY | 0.79 | 1.00 | **0.88** | 0.90 |\n",
        "| DRUG-REASON | 0.60 | 1.00 | **0.75** | 0.70 |\n",
        "| DRUG-ROUTE | 0.79 | 1.00 | **0.88** | 0.95* |\n",
        "| DRUG-STRENGTH | 0.95 | 1.00 | **0.98** | 0.97 |\n",
        "\n",
        "\n",
        "*Magge, Scotch, Gonzalez-Hernandez (2018) collapsed DRUG-FORM and DRUG-ROUTE into a single relation."
      ]
    },
    {
      "cell_type": "code",
      "metadata": {
        "ExecuteTime": {
          "end_time": "2020-07-31T14:18:58.500653Z",
          "start_time": "2020-07-31T14:18:58.219349Z"
        },
        "colab_type": "code",
        "id": "zmWTG-whEMrU",
        "run_control": {
          "marked": true
        },
        "colab": {}
      },
      "source": [
        "import os\n",
        "import re\n",
        "import pyspark\n",
        "import sparknlp\n",
        "import sparknlp_jsl\n",
        "import functools \n",
        "import json\n",
        "\n",
        "import numpy as np\n",
        "from scipy import spatial\n",
        "import pyspark.sql.functions as F\n",
        "import pyspark.sql.types as T\n",
        "from pyspark.sql import SparkSession\n",
        "from pyspark.ml import Pipeline\n",
        "from sparknlp_jsl.annotator import *\n",
        "from sparknlp.annotator import *\n",
        "from sparknlp.base import *\n"
      ],
      "execution_count": null,
      "outputs": []
    },
    {
      "cell_type": "markdown",
      "metadata": {
        "colab_type": "text",
        "id": "o8PsjbmpEMrb"
      },
      "source": [
        "**Build pipeline using SparNLP pretrained models and the relation extration model optimized for posology**.\n",
        " \n",
        " The precision of the RE model is controlled by \"setMaxSyntacticDistance(4)\", which sets the maximum syntactic distance between named entities to 4. A larger value will improve recall at the expense at lower precision. A value of 4 leads to literally perfect precision (i.e. the model doesn't produce any false positives) and reasonably good recall."
      ]
    },
    {
      "cell_type": "code",
      "metadata": {
        "ExecuteTime": {
          "end_time": "2020-07-31T14:19:37.196164Z",
          "start_time": "2020-07-31T14:19:09.356386Z"
        },
        "colab_type": "code",
        "id": "4fNDGSBaEMrb",
        "run_control": {
          "marked": false
        },
        "colab": {
          "base_uri": "https://localhost:8080/",
          "height": 272
        },
        "outputId": "40119d8c-d66b-468f-85e2-fb139270bcdb"
      },
      "source": [
        "documenter = DocumentAssembler()\\\n",
        "    .setInputCol(\"text\")\\\n",
        "    .setOutputCol(\"document\")\n",
        "\n",
        "sentencer = SentenceDetector()\\\n",
        "    .setInputCols([\"document\"])\\\n",
        "    .setOutputCol(\"sentences\")\n",
        "\n",
        "tokenizer = sparknlp.annotators.Tokenizer()\\\n",
        "    .setInputCols([\"sentences\"])\\\n",
        "    .setOutputCol(\"tokens\")\n",
        "\n",
        "words_embedder = WordEmbeddingsModel()\\\n",
        "    .pretrained(\"embeddings_clinical\", \"en\", \"clinical/models\")\\\n",
        "    .setInputCols([\"sentences\", \"tokens\"])\\\n",
        "    .setOutputCol(\"embeddings\")\n",
        "\n",
        "pos_tagger = PerceptronModel()\\\n",
        "    .pretrained(\"pos_clinical\", \"en\", \"clinical/models\") \\\n",
        "    .setInputCols([\"sentences\", \"tokens\"])\\\n",
        "    .setOutputCol(\"pos_tags\")\n",
        "\n",
        "ner_tagger = NerDLModel()\\\n",
        "    .pretrained(\"ner_posology\", \"en\", \"clinical/models\")\\\n",
        "    .setInputCols(\"sentences\", \"tokens\", \"embeddings\")\\\n",
        "    .setOutputCol(\"ner_tags\")    \n",
        "\n",
        "ner_event = NerDLModel()\\\n",
        "    .pretrained(\"ner_events_clinical\", \"en\", \"clinical/models\")\\\n",
        "    .setInputCols(\"sentences\", \"tokens\", \"embeddings\")\\\n",
        "    .setOutputCol(\"ner_tags\") \n",
        "\n",
        "ner_chunker = NerConverter()\\\n",
        "    .setInputCols([\"sentences\", \"tokens\", \"ner_tags\"])\\\n",
        "    .setOutputCol(\"ner_chunks\")\n",
        "\n",
        "dependency_parser = DependencyParserModel()\\\n",
        "    .pretrained(\"dependency_conllu\", \"en\")\\\n",
        "    .setInputCols([\"sentences\", \"pos_tags\", \"tokens\"])\\\n",
        "    .setOutputCol(\"dependencies\")\n",
        "\n",
        "reModel = RelationExtractionModel()\\\n",
        "    .pretrained(\"posology_re\")\\\n",
        "    .setInputCols([\"embeddings\", \"pos_tags\", \"ner_chunks\", \"dependencies\"])\\\n",
        "    .setOutputCol(\"relations\")\\\n",
        "    .setMaxSyntacticDistance(4)\n",
        "\n",
        "pipeline = Pipeline(stages=[\n",
        "    documenter,\n",
        "    sentencer,\n",
        "    tokenizer, \n",
        "    words_embedder, \n",
        "    pos_tagger, \n",
        "    ner_tagger,\n",
        "    ner_chunker,\n",
        "    dependency_parser,\n",
        "    reModel\n",
        "])\n",
        "\n",
        "empty_data = spark.createDataFrame([[\"\"]]).toDF(\"text\")\n",
        "\n",
        "model = pipeline.fit(empty_data)\n",
        "\n"
      ],
      "execution_count": 3,
      "outputs": [
        {
          "output_type": "stream",
          "text": [
            "embeddings_clinical download started this may take some time.\n",
            "Approximate size to download 1.6 GB\n",
            "[OK!]\n",
            "pos_clinical download started this may take some time.\n",
            "Approximate size to download 1.7 MB\n",
            "[OK!]\n",
            "ner_posology download started this may take some time.\n",
            "Approximate size to download 13.7 MB\n",
            "[OK!]\n",
            "ner_events_clinical download started this may take some time.\n",
            "Approximate size to download 13.7 MB\n",
            "[OK!]\n",
            "dependency_conllu download started this may take some time.\n",
            "Approximate size to download 16.6 MB\n",
            "[OK!]\n"
          ],
          "name": "stdout"
        }
      ]
    },
    {
      "cell_type": "markdown",
      "metadata": {
        "colab_type": "text",
        "id": "fIEDm1zZEMre"
      },
      "source": [
        "**Create empty dataframe**"
      ]
    },
    {
      "cell_type": "code",
      "metadata": {
        "ExecuteTime": {
          "end_time": "2020-07-17T10:09:32.462913Z",
          "start_time": "2020-07-17T10:09:32.410488Z"
        },
        "colab_type": "code",
        "id": "Ec0SDYGmEMre",
        "colab": {}
      },
      "source": [
        "empty_data = spark.createDataFrame([[\"\"]]).toDF(\"text\")\n"
      ],
      "execution_count": null,
      "outputs": []
    },
    {
      "cell_type": "markdown",
      "metadata": {
        "colab_type": "text",
        "id": "9TA-2cxfEMrh"
      },
      "source": [
        "**Create a light pipeline for annotating free text**"
      ]
    },
    {
      "cell_type": "code",
      "metadata": {
        "ExecuteTime": {
          "end_time": "2020-07-17T10:24:30.899532Z",
          "start_time": "2020-07-17T10:09:32.894746Z"
        },
        "colab_type": "code",
        "id": "gWz4JaO3EMri",
        "colab": {}
      },
      "source": [
        "model = pipeline.fit(empty_data)\n",
        "lmodel = sparknlp.base.LightPipeline(model)"
      ],
      "execution_count": null,
      "outputs": []
    },
    {
      "cell_type": "code",
      "metadata": {
        "colab_type": "code",
        "id": "nnSSgfnNmH90",
        "colab": {}
      },
      "source": [
        "text = \"\"\"\n",
        "The patient was prescribed 1 unit of Advil for 5 days after meals. The patient was also \n",
        "given 1 unit of Metformin daily.\n",
        "He was seen by the endocrinology service and she was discharged on 40 units of insulin glargine at night , \n",
        "12 units of insulin lispro with meals , and metformin 1000 mg two times a day.\n",
        "\"\"\"\n",
        "results = lmodel.fullAnnotate(text)"
      ],
      "execution_count": null,
      "outputs": []
    },
    {
      "cell_type": "code",
      "metadata": {
        "colab_type": "code",
        "id": "iNcBCfc_mJUT",
        "colab": {
          "base_uri": "https://localhost:8080/",
          "height": 264
        },
        "outputId": "beb92cb8-1fef-47b1-cb02-82f9ea0f2ea9"
      },
      "source": [
        "results[0]['ner_chunks']"
      ],
      "execution_count": null,
      "outputs": [
        {
          "output_type": "execute_result",
          "data": {
            "text/plain": [
              "[Annotation(chunk, 28, 33, 1 unit, {'entity': 'DOSAGE', 'sentence': '0', 'chunk': '0'}),\n",
              " Annotation(chunk, 38, 42, Advil, {'entity': 'DRUG', 'sentence': '0', 'chunk': '1'}),\n",
              " Annotation(chunk, 44, 53, for 5 days, {'entity': 'DURATION', 'sentence': '0', 'chunk': '2'}),\n",
              " Annotation(chunk, 96, 101, 1 unit, {'entity': 'DOSAGE', 'sentence': '1', 'chunk': '3'}),\n",
              " Annotation(chunk, 106, 114, Metformin, {'entity': 'DRUG', 'sentence': '1', 'chunk': '4'}),\n",
              " Annotation(chunk, 116, 120, daily, {'entity': 'FREQUENCY', 'sentence': '1', 'chunk': '5'}),\n",
              " Annotation(chunk, 190, 197, 40 units, {'entity': 'DOSAGE', 'sentence': '2', 'chunk': '6'}),\n",
              " Annotation(chunk, 202, 217, insulin glargine, {'entity': 'DRUG', 'sentence': '2', 'chunk': '7'}),\n",
              " Annotation(chunk, 219, 226, at night, {'entity': 'FREQUENCY', 'sentence': '2', 'chunk': '8'}),\n",
              " Annotation(chunk, 231, 238, 12 units, {'entity': 'DOSAGE', 'sentence': '2', 'chunk': '9'}),\n",
              " Annotation(chunk, 243, 256, insulin lispro, {'entity': 'DRUG', 'sentence': '2', 'chunk': '10'}),\n",
              " Annotation(chunk, 258, 267, with meals, {'entity': 'FREQUENCY', 'sentence': '2', 'chunk': '11'}),\n",
              " Annotation(chunk, 275, 283, metformin, {'entity': 'DRUG', 'sentence': '2', 'chunk': '12'}),\n",
              " Annotation(chunk, 285, 291, 1000 mg, {'entity': 'STRENGTH', 'sentence': '2', 'chunk': '13'}),\n",
              " Annotation(chunk, 293, 307, two times a day, {'entity': 'FREQUENCY', 'sentence': '2', 'chunk': '14'})]"
            ]
          },
          "metadata": {
            "tags": []
          },
          "execution_count": 14
        }
      ]
    },
    {
      "cell_type": "markdown",
      "metadata": {
        "colab_type": "text",
        "id": "EATlttRVEMrl"
      },
      "source": [
        "**Sample free text**"
      ]
    },
    {
      "cell_type": "code",
      "metadata": {
        "ExecuteTime": {
          "end_time": "2020-07-17T11:18:31.409708Z",
          "start_time": "2020-07-17T11:18:31.336534Z"
        },
        "colab_type": "code",
        "id": "gTdSwA4HEMrl",
        "colab": {}
      },
      "source": [
        "text = \"\"\"\n",
        "The patient was prescribed 1 unit of Advil for 5 days after meals. The patient was also \n",
        "given 1 unit of Metformin daily.\n",
        "He was seen by the endocrinology service and she was discharged on 40 units of insulin glargine at night , \n",
        "12 units of insulin lispro with meals , and metformin 1000 mg two times a day.\n",
        "\"\"\"\n",
        "results = lmodel.fullAnnotate(text)"
      ],
      "execution_count": null,
      "outputs": []
    },
    {
      "cell_type": "markdown",
      "metadata": {
        "colab_type": "text",
        "id": "ZmdjtscfEMro"
      },
      "source": [
        "**Show extracted relations**"
      ]
    },
    {
      "cell_type": "code",
      "metadata": {
        "ExecuteTime": {
          "end_time": "2020-07-17T10:29:26.101405Z",
          "start_time": "2020-07-17T10:29:26.012555Z"
        },
        "colab_type": "code",
        "id": "HeBrfZtvEMro",
        "colab": {
          "base_uri": "https://localhost:8080/",
          "height": 181
        },
        "outputId": "72c2c4c4-8b77-464c-c575-f67e52d626e1"
      },
      "source": [
        "for rel in results[0][\"relations\"]:\n",
        "    print(\"{}({}={} - {}={})\".format(\n",
        "        rel.result, \n",
        "        rel.metadata['entity1'], \n",
        "        rel.metadata['chunk1'], \n",
        "        rel.metadata['entity2'],\n",
        "        rel.metadata['chunk2']\n",
        "    ))"
      ],
      "execution_count": null,
      "outputs": [
        {
          "output_type": "stream",
          "text": [
            "DOSAGE-DRUG(DOSAGE=1 unit - DRUG=Advil)\n",
            "DRUG-DURATION(DRUG=Advil - DURATION=for 5 days)\n",
            "DOSAGE-DRUG(DOSAGE=1 unit - DRUG=Metformin)\n",
            "DRUG-FREQUENCY(DRUG=Metformin - FREQUENCY=daily)\n",
            "DOSAGE-DRUG(DOSAGE=40 units - DRUG=insulin glargine)\n",
            "DRUG-FREQUENCY(DRUG=insulin glargine - FREQUENCY=at night)\n",
            "DOSAGE-DRUG(DOSAGE=12 units - DRUG=insulin lispro)\n",
            "DRUG-FREQUENCY(DRUG=insulin lispro - FREQUENCY=with meals)\n",
            "DRUG-STRENGTH(DRUG=metformin - STRENGTH=1000 mg)\n",
            "DRUG-FREQUENCY(DRUG=metformin - FREQUENCY=two times a day)\n"
          ],
          "name": "stdout"
        }
      ]
    },
    {
      "cell_type": "code",
      "metadata": {
        "colab_type": "code",
        "id": "LUFt4k1mEMrs",
        "colab": {
          "base_uri": "https://localhost:8080/",
          "height": 331
        },
        "outputId": "a413dd10-08a9-4452-d7b7-2564406a9b70"
      },
      "source": [
        "import pandas as pd\n",
        "\n",
        "def get_relations_df (results, col='relations'):\n",
        "  rel_pairs=[]\n",
        "  for rel in results[0][col]:\n",
        "      rel_pairs.append((\n",
        "          rel.result, \n",
        "          rel.metadata['entity1'], \n",
        "          rel.metadata['entity1_begin'],\n",
        "          rel.metadata['entity1_end'],\n",
        "          rel.metadata['chunk1'], \n",
        "          rel.metadata['entity2'],\n",
        "          rel.metadata['entity2_begin'],\n",
        "          rel.metadata['entity2_end'],\n",
        "          rel.metadata['chunk2'], \n",
        "          rel.metadata['confidence']\n",
        "      ))\n",
        "\n",
        "  rel_df = pd.DataFrame(rel_pairs, columns=['relation','entity1','entity1_begin','entity1_end','chunk1','entity2','entity2_begin','entity2_end','chunk2', 'confidence'])\n",
        "\n",
        "  return rel_df\n",
        "\n",
        "\n",
        "rel_df = get_relations_df (results)\n",
        "\n",
        "rel_df"
      ],
      "execution_count": null,
      "outputs": [
        {
          "output_type": "execute_result",
          "data": {
            "text/html": [
              "<div>\n",
              "<style scoped>\n",
              "    .dataframe tbody tr th:only-of-type {\n",
              "        vertical-align: middle;\n",
              "    }\n",
              "\n",
              "    .dataframe tbody tr th {\n",
              "        vertical-align: top;\n",
              "    }\n",
              "\n",
              "    .dataframe thead th {\n",
              "        text-align: right;\n",
              "    }\n",
              "</style>\n",
              "<table border=\"1\" class=\"dataframe\">\n",
              "  <thead>\n",
              "    <tr style=\"text-align: right;\">\n",
              "      <th></th>\n",
              "      <th>relation</th>\n",
              "      <th>entity1</th>\n",
              "      <th>entity1_begin</th>\n",
              "      <th>entity1_end</th>\n",
              "      <th>chunk1</th>\n",
              "      <th>entity2</th>\n",
              "      <th>entity2_begin</th>\n",
              "      <th>entity2_end</th>\n",
              "      <th>chunk2</th>\n",
              "      <th>confidence</th>\n",
              "    </tr>\n",
              "  </thead>\n",
              "  <tbody>\n",
              "    <tr>\n",
              "      <th>0</th>\n",
              "      <td>DOSAGE-DRUG</td>\n",
              "      <td>DOSAGE</td>\n",
              "      <td>28</td>\n",
              "      <td>33</td>\n",
              "      <td>1 unit</td>\n",
              "      <td>DRUG</td>\n",
              "      <td>38</td>\n",
              "      <td>42</td>\n",
              "      <td>Advil</td>\n",
              "      <td>1.0</td>\n",
              "    </tr>\n",
              "    <tr>\n",
              "      <th>1</th>\n",
              "      <td>DRUG-DURATION</td>\n",
              "      <td>DRUG</td>\n",
              "      <td>38</td>\n",
              "      <td>42</td>\n",
              "      <td>Advil</td>\n",
              "      <td>DURATION</td>\n",
              "      <td>44</td>\n",
              "      <td>53</td>\n",
              "      <td>for 5 days</td>\n",
              "      <td>1.0</td>\n",
              "    </tr>\n",
              "    <tr>\n",
              "      <th>2</th>\n",
              "      <td>DOSAGE-DRUG</td>\n",
              "      <td>DOSAGE</td>\n",
              "      <td>96</td>\n",
              "      <td>101</td>\n",
              "      <td>1 unit</td>\n",
              "      <td>DRUG</td>\n",
              "      <td>106</td>\n",
              "      <td>114</td>\n",
              "      <td>Metformin</td>\n",
              "      <td>1.0</td>\n",
              "    </tr>\n",
              "    <tr>\n",
              "      <th>3</th>\n",
              "      <td>DRUG-FREQUENCY</td>\n",
              "      <td>DRUG</td>\n",
              "      <td>106</td>\n",
              "      <td>114</td>\n",
              "      <td>Metformin</td>\n",
              "      <td>FREQUENCY</td>\n",
              "      <td>116</td>\n",
              "      <td>120</td>\n",
              "      <td>daily</td>\n",
              "      <td>1.0</td>\n",
              "    </tr>\n",
              "    <tr>\n",
              "      <th>4</th>\n",
              "      <td>DOSAGE-DRUG</td>\n",
              "      <td>DOSAGE</td>\n",
              "      <td>190</td>\n",
              "      <td>197</td>\n",
              "      <td>40 units</td>\n",
              "      <td>DRUG</td>\n",
              "      <td>202</td>\n",
              "      <td>217</td>\n",
              "      <td>insulin glargine</td>\n",
              "      <td>1.0</td>\n",
              "    </tr>\n",
              "    <tr>\n",
              "      <th>5</th>\n",
              "      <td>DRUG-FREQUENCY</td>\n",
              "      <td>DRUG</td>\n",
              "      <td>202</td>\n",
              "      <td>217</td>\n",
              "      <td>insulin glargine</td>\n",
              "      <td>FREQUENCY</td>\n",
              "      <td>219</td>\n",
              "      <td>226</td>\n",
              "      <td>at night</td>\n",
              "      <td>1.0</td>\n",
              "    </tr>\n",
              "    <tr>\n",
              "      <th>6</th>\n",
              "      <td>DOSAGE-DRUG</td>\n",
              "      <td>DOSAGE</td>\n",
              "      <td>231</td>\n",
              "      <td>238</td>\n",
              "      <td>12 units</td>\n",
              "      <td>DRUG</td>\n",
              "      <td>243</td>\n",
              "      <td>256</td>\n",
              "      <td>insulin lispro</td>\n",
              "      <td>1.0</td>\n",
              "    </tr>\n",
              "    <tr>\n",
              "      <th>7</th>\n",
              "      <td>DRUG-FREQUENCY</td>\n",
              "      <td>DRUG</td>\n",
              "      <td>243</td>\n",
              "      <td>256</td>\n",
              "      <td>insulin lispro</td>\n",
              "      <td>FREQUENCY</td>\n",
              "      <td>258</td>\n",
              "      <td>267</td>\n",
              "      <td>with meals</td>\n",
              "      <td>1.0</td>\n",
              "    </tr>\n",
              "    <tr>\n",
              "      <th>8</th>\n",
              "      <td>DRUG-STRENGTH</td>\n",
              "      <td>DRUG</td>\n",
              "      <td>275</td>\n",
              "      <td>283</td>\n",
              "      <td>metformin</td>\n",
              "      <td>STRENGTH</td>\n",
              "      <td>285</td>\n",
              "      <td>291</td>\n",
              "      <td>1000 mg</td>\n",
              "      <td>1.0</td>\n",
              "    </tr>\n",
              "    <tr>\n",
              "      <th>9</th>\n",
              "      <td>DRUG-FREQUENCY</td>\n",
              "      <td>DRUG</td>\n",
              "      <td>275</td>\n",
              "      <td>283</td>\n",
              "      <td>metformin</td>\n",
              "      <td>FREQUENCY</td>\n",
              "      <td>293</td>\n",
              "      <td>307</td>\n",
              "      <td>two times a day</td>\n",
              "      <td>1.0</td>\n",
              "    </tr>\n",
              "  </tbody>\n",
              "</table>\n",
              "</div>"
            ],
            "text/plain": [
              "         relation entity1  ...            chunk2 confidence\n",
              "0     DOSAGE-DRUG  DOSAGE  ...             Advil        1.0\n",
              "1   DRUG-DURATION    DRUG  ...        for 5 days        1.0\n",
              "2     DOSAGE-DRUG  DOSAGE  ...         Metformin        1.0\n",
              "3  DRUG-FREQUENCY    DRUG  ...             daily        1.0\n",
              "4     DOSAGE-DRUG  DOSAGE  ...  insulin glargine        1.0\n",
              "5  DRUG-FREQUENCY    DRUG  ...          at night        1.0\n",
              "6     DOSAGE-DRUG  DOSAGE  ...    insulin lispro        1.0\n",
              "7  DRUG-FREQUENCY    DRUG  ...        with meals        1.0\n",
              "8   DRUG-STRENGTH    DRUG  ...           1000 mg        1.0\n",
              "9  DRUG-FREQUENCY    DRUG  ...   two times a day        1.0\n",
              "\n",
              "[10 rows x 10 columns]"
            ]
          },
          "metadata": {
            "tags": []
          },
          "execution_count": 17
        }
      ]
    },
    {
      "cell_type": "code",
      "metadata": {
        "colab_type": "code",
        "id": "bzKeB-JUEMru",
        "colab": {
          "base_uri": "https://localhost:8080/",
          "height": 303
        },
        "outputId": "ecb530b0-fe33-480e-be7b-ecdbf0bc2b12"
      },
      "source": [
        "text =\"\"\"A 28-year-old female with a history of gestational diabetes mellitus diagnosed eight years prior to presentation and subsequent type two diabetes mellitus ( T2DM ), \n",
        "one prior episode of HTG-induced pancreatitis three years prior to presentation,  associated with an acute hepatitis , and obesity with a body mass index ( BMI ) of 33.5 kg/m2 , presented with a one-week history of polyuria , polydipsia , poor appetite , and vomiting . Two weeks prior to presentation , she was treated with a five-day course of amoxicillin for a respiratory tract infection . She was on metformin , glipizide , and dapagliflozin for T2DM and atorvastatin and gemfibrozil for HTG . She had been on dapagliflozin for six months at the time of presentation. Physical examination on presentation was significant for dry oral mucosa ; significantly , her abdominal examination was benign with no tenderness , guarding , or rigidity . Pertinent laboratory findings on admission were : serum glucose 111 mg/dl , bicarbonate 18 mmol/l , anion gap 20 , creatinine 0.4 mg/dL , triglycerides 508 mg/dL , total cholesterol 122 mg/dL , glycated hemoglobin ( HbA1c ) 10% , and venous pH 7.27 . Serum lipase was normal at 43 U/L . Serum acetone levels could not be assessed as blood samples kept hemolyzing due to significant lipemia . The patient was initially admitted for starvation ketosis , as she reported poor oral intake for three days prior to admission . However , serum chemistry obtained six hours after presentation revealed her glucose was 186 mg/dL , the anion gap was still elevated at 21 , serum bicarbonate was 16 mmol/L , triglyceride level peaked at 2050 mg/dL , and lipase was 52 U/L . The β-hydroxybutyrate level was obtained and found to be elevated at 5.29 mmol/L - the original sample was centrifuged and the chylomicron layer removed prior to analysis due to interference from turbidity caused by lipemia again . The patient was treated with an insulin drip for euDKA and HTG with a reduction in the anion gap to 13 and triglycerides to 1400 mg/dL , within 24 hours . Her euDKA was thought to be precipitated by her respiratory tract infection in the setting of SGLT2 inhibitor use . The patient was seen by the endocrinology service and she was discharged on 40 units of insulin glargine at night , 12 units of insulin lispro with meals , and metformin 1000 mg two times a day . It was determined that all SGLT2 inhibitors should be discontinued indefinitely . \n",
        "She had close follow-up with endocrinology post discharge .\n",
        "\"\"\"\n",
        "\n",
        "annotations = lmodel.fullAnnotate(text)\n",
        "\n",
        "rel_df = get_relations_df (annotations)\n",
        "\n",
        "rel_df\n",
        "\n"
      ],
      "execution_count": null,
      "outputs": [
        {
          "output_type": "execute_result",
          "data": {
            "text/html": [
              "<div>\n",
              "<style scoped>\n",
              "    .dataframe tbody tr th:only-of-type {\n",
              "        vertical-align: middle;\n",
              "    }\n",
              "\n",
              "    .dataframe tbody tr th {\n",
              "        vertical-align: top;\n",
              "    }\n",
              "\n",
              "    .dataframe thead th {\n",
              "        text-align: right;\n",
              "    }\n",
              "</style>\n",
              "<table border=\"1\" class=\"dataframe\">\n",
              "  <thead>\n",
              "    <tr style=\"text-align: right;\">\n",
              "      <th></th>\n",
              "      <th>relation</th>\n",
              "      <th>entity1</th>\n",
              "      <th>entity1_begin</th>\n",
              "      <th>entity1_end</th>\n",
              "      <th>chunk1</th>\n",
              "      <th>entity2</th>\n",
              "      <th>entity2_begin</th>\n",
              "      <th>entity2_end</th>\n",
              "      <th>chunk2</th>\n",
              "      <th>confidence</th>\n",
              "    </tr>\n",
              "  </thead>\n",
              "  <tbody>\n",
              "    <tr>\n",
              "      <th>0</th>\n",
              "      <td>DURATION-DRUG</td>\n",
              "      <td>DURATION</td>\n",
              "      <td>493</td>\n",
              "      <td>500</td>\n",
              "      <td>five-day</td>\n",
              "      <td>DRUG</td>\n",
              "      <td>512</td>\n",
              "      <td>522</td>\n",
              "      <td>amoxicillin</td>\n",
              "      <td>1.0</td>\n",
              "    </tr>\n",
              "    <tr>\n",
              "      <th>1</th>\n",
              "      <td>DRUG-DURATION</td>\n",
              "      <td>DRUG</td>\n",
              "      <td>681</td>\n",
              "      <td>693</td>\n",
              "      <td>dapagliflozin</td>\n",
              "      <td>DURATION</td>\n",
              "      <td>695</td>\n",
              "      <td>708</td>\n",
              "      <td>for six months</td>\n",
              "      <td>1.0</td>\n",
              "    </tr>\n",
              "    <tr>\n",
              "      <th>2</th>\n",
              "      <td>DRUG-ROUTE</td>\n",
              "      <td>DRUG</td>\n",
              "      <td>1940</td>\n",
              "      <td>1946</td>\n",
              "      <td>insulin</td>\n",
              "      <td>ROUTE</td>\n",
              "      <td>1948</td>\n",
              "      <td>1951</td>\n",
              "      <td>drip</td>\n",
              "      <td>1.0</td>\n",
              "    </tr>\n",
              "    <tr>\n",
              "      <th>3</th>\n",
              "      <td>DOSAGE-DRUG</td>\n",
              "      <td>DOSAGE</td>\n",
              "      <td>2255</td>\n",
              "      <td>2262</td>\n",
              "      <td>40 units</td>\n",
              "      <td>DRUG</td>\n",
              "      <td>2267</td>\n",
              "      <td>2282</td>\n",
              "      <td>insulin glargine</td>\n",
              "      <td>1.0</td>\n",
              "    </tr>\n",
              "    <tr>\n",
              "      <th>4</th>\n",
              "      <td>DRUG-FREQUENCY</td>\n",
              "      <td>DRUG</td>\n",
              "      <td>2267</td>\n",
              "      <td>2282</td>\n",
              "      <td>insulin glargine</td>\n",
              "      <td>FREQUENCY</td>\n",
              "      <td>2284</td>\n",
              "      <td>2291</td>\n",
              "      <td>at night</td>\n",
              "      <td>1.0</td>\n",
              "    </tr>\n",
              "    <tr>\n",
              "      <th>5</th>\n",
              "      <td>DOSAGE-DRUG</td>\n",
              "      <td>DOSAGE</td>\n",
              "      <td>2295</td>\n",
              "      <td>2302</td>\n",
              "      <td>12 units</td>\n",
              "      <td>DRUG</td>\n",
              "      <td>2307</td>\n",
              "      <td>2320</td>\n",
              "      <td>insulin lispro</td>\n",
              "      <td>1.0</td>\n",
              "    </tr>\n",
              "    <tr>\n",
              "      <th>6</th>\n",
              "      <td>DRUG-FREQUENCY</td>\n",
              "      <td>DRUG</td>\n",
              "      <td>2307</td>\n",
              "      <td>2320</td>\n",
              "      <td>insulin lispro</td>\n",
              "      <td>FREQUENCY</td>\n",
              "      <td>2322</td>\n",
              "      <td>2331</td>\n",
              "      <td>with meals</td>\n",
              "      <td>1.0</td>\n",
              "    </tr>\n",
              "    <tr>\n",
              "      <th>7</th>\n",
              "      <td>DRUG-STRENGTH</td>\n",
              "      <td>DRUG</td>\n",
              "      <td>2339</td>\n",
              "      <td>2347</td>\n",
              "      <td>metformin</td>\n",
              "      <td>STRENGTH</td>\n",
              "      <td>2349</td>\n",
              "      <td>2355</td>\n",
              "      <td>1000 mg</td>\n",
              "      <td>1.0</td>\n",
              "    </tr>\n",
              "    <tr>\n",
              "      <th>8</th>\n",
              "      <td>DRUG-FREQUENCY</td>\n",
              "      <td>DRUG</td>\n",
              "      <td>2339</td>\n",
              "      <td>2347</td>\n",
              "      <td>metformin</td>\n",
              "      <td>FREQUENCY</td>\n",
              "      <td>2357</td>\n",
              "      <td>2371</td>\n",
              "      <td>two times a day</td>\n",
              "      <td>1.0</td>\n",
              "    </tr>\n",
              "  </tbody>\n",
              "</table>\n",
              "</div>"
            ],
            "text/plain": [
              "         relation   entity1  ...            chunk2 confidence\n",
              "0   DURATION-DRUG  DURATION  ...       amoxicillin        1.0\n",
              "1   DRUG-DURATION      DRUG  ...    for six months        1.0\n",
              "2      DRUG-ROUTE      DRUG  ...              drip        1.0\n",
              "3     DOSAGE-DRUG    DOSAGE  ...  insulin glargine        1.0\n",
              "4  DRUG-FREQUENCY      DRUG  ...          at night        1.0\n",
              "5     DOSAGE-DRUG    DOSAGE  ...    insulin lispro        1.0\n",
              "6  DRUG-FREQUENCY      DRUG  ...        with meals        1.0\n",
              "7   DRUG-STRENGTH      DRUG  ...           1000 mg        1.0\n",
              "8  DRUG-FREQUENCY      DRUG  ...   two times a day        1.0\n",
              "\n",
              "[9 rows x 10 columns]"
            ]
          },
          "metadata": {
            "tags": []
          },
          "execution_count": 18
        }
      ]
    },
    {
      "cell_type": "markdown",
      "metadata": {
        "colab_type": "text",
        "id": "2mFnHm0vZ5qN"
      },
      "source": [
        "## 2. Clinical RE"
      ]
    },
    {
      "cell_type": "markdown",
      "metadata": {
        "colab_type": "text",
        "id": "ECLSY8H5a1pE"
      },
      "source": [
        "**The set of relations defined in the 2010 i2b2 relation challenge**\n",
        "\n",
        "TrIP: A certain treatment has improved or cured a medical problem (eg, ‘infection resolved with antibiotic course’)\n",
        "\n",
        "TrWP: A patient's medical problem has deteriorated or worsened because of or in spite of a treatment being administered (eg, ‘the tumor was growing despite the drain’)\n",
        "\n",
        "TrCP: A treatment caused a medical problem (eg, ‘penicillin causes a rash’)\n",
        "\n",
        "TrAP: A treatment administered for a medical problem (eg, ‘Dexamphetamine for narcolepsy’)\n",
        "\n",
        "TrNAP: The administration of a treatment was avoided because of a medical problem (eg, ‘Ralafen which is contra-indicated because of ulcers’)\n",
        "\n",
        "TeRP: A test has revealed some medical problem (eg, ‘an echocardiogram revealed a pericardial effusion’)\n",
        "\n",
        "TeCP: A test was performed to investigate a medical problem (eg, ‘chest x-ray done to rule out pneumonia’)\n",
        "\n",
        "PIP: Two problems are related to each other (eg, ‘Azotemia presumed secondary to sepsis’)"
      ]
    },
    {
      "cell_type": "code",
      "metadata": {
        "colab_type": "code",
        "id": "xCw3UB7EEMr-",
        "colab": {
          "base_uri": "https://localhost:8080/",
          "height": 115
        },
        "outputId": "229602ba-75fe-4a06-e604-a99cd3327b99"
      },
      "source": [
        "clinical_ner_tagger = sparknlp.annotators.NerDLModel()\\\n",
        "    .pretrained(\"ner_clinical\", \"en\", \"clinical/models\")\\\n",
        "    .setInputCols(\"sentence\", \"tokens\", \"embeddings\")\\\n",
        "    .setOutputCol(\"ner_tags\")    \n",
        "\n",
        "clinical_re_Model = RelationExtractionModel()\\\n",
        "    .pretrained(\"re_clinical\", \"en\", 'clinical/models')\\\n",
        "    .setInputCols([\"embeddings\", \"pos_tags\", \"ner_chunks\", \"dependencies\"])\\\n",
        "    .setOutputCol(\"relations\")\\\n",
        "    .setMaxSyntacticDistance(4)\\\n",
        "    .setRelationPairs([\"problem-test\", \"problem-treatment\"]) # we can set the possible relation pairs (if not set, all the relations will be calculated)\n",
        "\n",
        "loaded_pipeline = Pipeline(stages=[\n",
        "    documenter,\n",
        "    sentencer,\n",
        "    tokenizer, \n",
        "    words_embedder, \n",
        "    pos_tagger, \n",
        "    clinical_ner_tagger,\n",
        "    ner_chunker,\n",
        "    dependency_parser,\n",
        "    clinical_re_Model\n",
        "])"
      ],
      "execution_count": null,
      "outputs": [
        {
          "output_type": "stream",
          "text": [
            "ner_clinical download started this may take some time.\n",
            "Approximate size to download 13.8 MB\n",
            "[OK!]\n",
            "re_clinical download started this may take some time.\n",
            "Approximate size to download 6 MB\n",
            "[OK!]\n"
          ],
          "name": "stdout"
        }
      ]
    },
    {
      "cell_type": "code",
      "metadata": {
        "colab_type": "code",
        "id": "n4jrrhjhEMsC",
        "colab": {}
      },
      "source": [
        "loaded_model = loaded_pipeline.fit(empty_data)\n",
        "loaded_lmodel = LightPipeline(loaded_model)"
      ],
      "execution_count": null,
      "outputs": []
    },
    {
      "cell_type": "code",
      "metadata": {
        "colab_type": "code",
        "id": "XLn00iCGEMsJ",
        "colab": {
          "base_uri": "https://localhost:8080/",
          "height": 246
        },
        "outputId": "fd0d3a5d-e977-4515-ed74-2edc29728094"
      },
      "source": [
        "text =\"\"\"A 28-year-old female with a history of gestational diabetes mellitus diagnosed eight years prior to presentation and subsequent type two diabetes mellitus ( T2DM ), \n",
        "one prior episode of HTG-induced pancreatitis three years prior to presentation,  associated with an acute hepatitis , and obesity with a body mass index ( BMI ) of 33.5 kg/m2 , presented with a one-week history of polyuria , polydipsia , poor appetite , and vomiting . Two weeks prior to presentation , she was treated with a five-day course of amoxicillin for a respiratory tract infection . She was on metformin , glipizide , and dapagliflozin for T2DM and atorvastatin and gemfibrozil for HTG . She had been on dapagliflozin for six months at the time of presentation. Physical examination on presentation was significant for dry oral mucosa ; significantly , her abdominal examination was benign with no tenderness , guarding , or rigidity . Pertinent laboratory findings on admission were : serum glucose 111 mg/dl , bicarbonate 18 mmol/l , anion gap 20 , creatinine 0.4 mg/dL , triglycerides 508 mg/dL , total cholesterol 122 mg/dL , glycated hemoglobin ( HbA1c ) 10% , and venous pH 7.27 . Serum lipase was normal at 43 U/L . Serum acetone levels could not be assessed as blood samples kept hemolyzing due to significant lipemia . The patient was initially admitted for starvation ketosis , as she reported poor oral intake for three days prior to admission . However , serum chemistry obtained six hours after presentation revealed her glucose was 186 mg/dL , the anion gap was still elevated at 21 , serum bicarbonate was 16 mmol/L , triglyceride level peaked at 2050 mg/dL , and lipase was 52 U/L . The β-hydroxybutyrate level was obtained and found to be elevated at 5.29 mmol/L - the original sample was centrifuged and the chylomicron layer removed prior to analysis due to interference from turbidity caused by lipemia again . The patient was treated with an insulin drip for euDKA and HTG with a reduction in the anion gap to 13 and triglycerides to 1400 mg/dL , within 24 hours . Her euDKA was thought to be precipitated by her respiratory tract infection in the setting of SGLT2 inhibitor use . The patient was seen by the endocrinology service and she was discharged on 40 units of insulin glargine at night , 12 units of insulin lispro with meals , and metformin 1000 mg two times a day . It was determined that all SGLT2 inhibitors should be discontinued indefinitely . \n",
        "She had close follow-up with endocrinology post discharge .\n",
        "\"\"\"\n",
        "\n",
        "annotations = loaded_lmodel.fullAnnotate(text)\n",
        "\n",
        "rel_df = get_relations_df (annotations)\n",
        "\n",
        "rel_df[rel_df.relation!=\"O\"]\n"
      ],
      "execution_count": null,
      "outputs": [
        {
          "output_type": "execute_result",
          "data": {
            "text/html": [
              "<div>\n",
              "<style scoped>\n",
              "    .dataframe tbody tr th:only-of-type {\n",
              "        vertical-align: middle;\n",
              "    }\n",
              "\n",
              "    .dataframe tbody tr th {\n",
              "        vertical-align: top;\n",
              "    }\n",
              "\n",
              "    .dataframe thead th {\n",
              "        text-align: right;\n",
              "    }\n",
              "</style>\n",
              "<table border=\"1\" class=\"dataframe\">\n",
              "  <thead>\n",
              "    <tr style=\"text-align: right;\">\n",
              "      <th></th>\n",
              "      <th>relation</th>\n",
              "      <th>entity1</th>\n",
              "      <th>entity1_begin</th>\n",
              "      <th>entity1_end</th>\n",
              "      <th>chunk1</th>\n",
              "      <th>entity2</th>\n",
              "      <th>entity2_begin</th>\n",
              "      <th>entity2_end</th>\n",
              "      <th>chunk2</th>\n",
              "      <th>confidence</th>\n",
              "    </tr>\n",
              "  </thead>\n",
              "  <tbody>\n",
              "    <tr>\n",
              "      <th>6</th>\n",
              "      <td>TrAP</td>\n",
              "      <td>PROBLEM</td>\n",
              "      <td>617</td>\n",
              "      <td>620</td>\n",
              "      <td>T2DM</td>\n",
              "      <td>TREATMENT</td>\n",
              "      <td>626</td>\n",
              "      <td>637</td>\n",
              "      <td>atorvastatin</td>\n",
              "      <td>0.99955326</td>\n",
              "    </tr>\n",
              "    <tr>\n",
              "      <th>13</th>\n",
              "      <td>TrWP</td>\n",
              "      <td>TEST</td>\n",
              "      <td>1246</td>\n",
              "      <td>1258</td>\n",
              "      <td>blood samples</td>\n",
              "      <td>PROBLEM</td>\n",
              "      <td>1283</td>\n",
              "      <td>1301</td>\n",
              "      <td>significant lipemia</td>\n",
              "      <td>0.99998724</td>\n",
              "    </tr>\n",
              "    <tr>\n",
              "      <th>17</th>\n",
              "      <td>TeRP</td>\n",
              "      <td>TEST</td>\n",
              "      <td>1535</td>\n",
              "      <td>1547</td>\n",
              "      <td>the anion gap</td>\n",
              "      <td>PROBLEM</td>\n",
              "      <td>1553</td>\n",
              "      <td>1566</td>\n",
              "      <td>still elevated</td>\n",
              "      <td>0.9965193</td>\n",
              "    </tr>\n",
              "    <tr>\n",
              "      <th>23</th>\n",
              "      <td>TrAP</td>\n",
              "      <td>TEST</td>\n",
              "      <td>1838</td>\n",
              "      <td>1845</td>\n",
              "      <td>analysis</td>\n",
              "      <td>PROBLEM</td>\n",
              "      <td>1854</td>\n",
              "      <td>1880</td>\n",
              "      <td>interference from turbidity</td>\n",
              "      <td>0.9676019</td>\n",
              "    </tr>\n",
              "    <tr>\n",
              "      <th>27</th>\n",
              "      <td>TrWP</td>\n",
              "      <td>TREATMENT</td>\n",
              "      <td>1937</td>\n",
              "      <td>1951</td>\n",
              "      <td>an insulin drip</td>\n",
              "      <td>PROBLEM</td>\n",
              "      <td>1976</td>\n",
              "      <td>2003</td>\n",
              "      <td>a reduction in the anion gap</td>\n",
              "      <td>0.94099987</td>\n",
              "    </tr>\n",
              "    <tr>\n",
              "      <th>30</th>\n",
              "      <td>TeRP</td>\n",
              "      <td>PROBLEM</td>\n",
              "      <td>1976</td>\n",
              "      <td>2003</td>\n",
              "      <td>a reduction in the anion gap</td>\n",
              "      <td>TEST</td>\n",
              "      <td>2015</td>\n",
              "      <td>2027</td>\n",
              "      <td>triglycerides</td>\n",
              "      <td>0.9956793</td>\n",
              "    </tr>\n",
              "    <tr>\n",
              "      <th>31</th>\n",
              "      <td>TeRP</td>\n",
              "      <td>PROBLEM</td>\n",
              "      <td>2107</td>\n",
              "      <td>2137</td>\n",
              "      <td>her respiratory tract infection</td>\n",
              "      <td>TREATMENT</td>\n",
              "      <td>2157</td>\n",
              "      <td>2171</td>\n",
              "      <td>SGLT2 inhibitor</td>\n",
              "      <td>0.997498</td>\n",
              "    </tr>\n",
              "  </tbody>\n",
              "</table>\n",
              "</div>"
            ],
            "text/plain": [
              "   relation    entity1  ...                        chunk2  confidence\n",
              "6      TrAP    PROBLEM  ...                  atorvastatin  0.99955326\n",
              "13     TrWP       TEST  ...           significant lipemia  0.99998724\n",
              "17     TeRP       TEST  ...                still elevated   0.9965193\n",
              "23     TrAP       TEST  ...   interference from turbidity   0.9676019\n",
              "27     TrWP  TREATMENT  ...  a reduction in the anion gap  0.94099987\n",
              "30     TeRP    PROBLEM  ...                 triglycerides   0.9956793\n",
              "31     TeRP    PROBLEM  ...               SGLT2 inhibitor    0.997498\n",
              "\n",
              "[7 rows x 10 columns]"
            ]
          },
          "metadata": {
            "tags": []
          },
          "execution_count": 21
        }
      ]
    },
    {
      "cell_type": "markdown",
      "metadata": {
        "colab_type": "text",
        "id": "IJxeWEen6C6G"
      },
      "source": [
        "## 3. Clinical Temporal Events RE"
      ]
    },
    {
      "cell_type": "markdown",
      "metadata": {
        "colab_type": "text",
        "id": "fX9bJqAy7wjf"
      },
      "source": [
        "Temporal relations, or temporal links (denoted by the TLINK tag), indicate whether and how two EVENTs, two TIME, or an EVENT and a TIME related to each other in the clinical timeline. There are 3 type of relations here and below are some examples of Relations, with square brackets indicating EVENT and TIME connected by a temporal link:\n",
        "\n",
        "**`BEFORE`**\n",
        "\n",
        "The patient was given stress dose steroids prior to his surgery. ([stress dose steroids] `BEFORE` [his surgery])\n",
        "\n",
        "The patient had an undocumented history of possible atrial fibrillation prior to admission. ([possible atrial fibrillation] `BEFORE` [admission])\n",
        "\n",
        "His nasogastric tube was discontinued on 05-26-98. ([His nasogastric] `BEFORE` [05-26-98])\n",
        "\n",
        "**`AFTER`**\n",
        "\n",
        "Before admission, he had another serious concussion. ([admission] `AFTER` [another serious concussion])\n",
        "\n",
        "On postoperative day No 1, he was started on Percocet. ([Percocet] `AFTER` [postoperative day No 1])\n",
        "\n",
        "\n",
        "**`OVERLAP`**\n",
        "\n",
        "She denies any fevers or chills. ([fevers] `OVERLAP` [chills])\n",
        "\n",
        "The patient's serum creatinine on discharge date, 2012-05-06, was 1.9. ([discharge date] `OVERLAP` [2012-05-06])\n",
        "\n",
        "His preoperative workup was completed and included a normal white count ([a normal white count] `OVERLAP` [His preoperative workup])\n",
        "\n",
        "The patient had an undocumented history of possible atrial fibrillation prior to admission. ([possible atrial fibrillation] `OVERLAP` [admission])\n",
        "\n",
        "\n",
        "| Relation | Recall | Precision | F1 |\n",
        "| --- | --- | --- | --- |\n",
        "| OVERLAP | 0.81 | 0.73 | **0.77** |\n",
        "| BEFORE | 0.85 | 0.88 | **0.86** |\n",
        "| AFTER | 0.38 | 0.46 | **0.69** |\n",
        "\n"
      ]
    },
    {
      "cell_type": "markdown",
      "metadata": {
        "colab_type": "text",
        "id": "q47PbJL_Hh-r"
      },
      "source": [
        "This RE model works with `ner_events_clinical` NER model and expect the following entities as inputs:\n",
        "\n",
        "[`OCCURRENCE`,\n",
        " `DATE`,\n",
        " `DURATION`,\n",
        " `EVIDENTIAL`,\n",
        " `TEST`,\n",
        " `PROBLEM`,\n",
        " `TREATMENT`,\n",
        " `CLINICAL_DEPT`,\n",
        " `FREQUENCY`,\n",
        " `TIME`]"
      ]
    },
    {
      "cell_type": "code",
      "metadata": {
        "colab_type": "code",
        "id": "i7yt6cPHEU8t",
        "colab": {
          "base_uri": "https://localhost:8080/",
          "height": 115
        },
        "outputId": "d0f7f788-b372-48a6-bdaf-edd28bcdd14e"
      },
      "source": [
        "\n",
        "events_ner_tagger = sparknlp.annotators.NerDLModel()\\\n",
        "    .pretrained(\"ner_events_clinical\", \"en\", \"clinical/models\")\\\n",
        "    .setInputCols(\"sentence\", \"tokens\", \"embeddings\")\\\n",
        "    .setOutputCol(\"ner_tags\")    \n",
        "\n",
        "clinical_re_Model = RelationExtractionModel()\\\n",
        "    .pretrained(\"re_temporal_events_clinical\", \"en\", 'clinical/models')\\\n",
        "    .setInputCols([\"embeddings\", \"pos_tags\", \"ner_chunks\", \"dependencies\"])\\\n",
        "    .setOutputCol(\"relations\")\\\n",
        "    .setMaxSyntacticDistance(4)\\\n",
        "    .setPredictionThreshold(0.9)\n",
        "\n",
        "loaded_pipeline = Pipeline(stages=[\n",
        "    documenter,\n",
        "    sentencer,\n",
        "    tokenizer, \n",
        "    words_embedder, \n",
        "    pos_tagger, \n",
        "    events_ner_tagger,\n",
        "    ner_chunker,\n",
        "    dependency_parser,\n",
        "    clinical_re_Model\n",
        "])"
      ],
      "execution_count": null,
      "outputs": [
        {
          "output_type": "stream",
          "text": [
            "ner_events_clinical download started this may take some time.\n",
            "Approximate size to download 13.7 MB\n",
            "[OK!]\n",
            "re_temporal_events_clinical download started this may take some time.\n",
            "Approximate size to download 5.9 MB\n",
            "[OK!]\n"
          ],
          "name": "stdout"
        }
      ]
    },
    {
      "cell_type": "code",
      "metadata": {
        "colab_type": "code",
        "id": "wIqIQVCkH-j0",
        "colab": {
          "base_uri": "https://localhost:8080/",
          "height": 363
        },
        "outputId": "660d3b36-a3af-4692-bded-156aa2ce85f1"
      },
      "source": [
        "events_ner_tagger.getClasses()"
      ],
      "execution_count": null,
      "outputs": [
        {
          "output_type": "execute_result",
          "data": {
            "text/plain": [
              "['O',\n",
              " 'B-OCCURRENCE',\n",
              " 'B-DATE',\n",
              " 'B-PROBLEM',\n",
              " 'I-PROBLEM',\n",
              " 'B-DURATION',\n",
              " 'I-DURATION',\n",
              " 'B-EVIDENTIAL',\n",
              " 'I-OCCURRENCE',\n",
              " 'B-TREATMENT',\n",
              " 'I-TREATMENT',\n",
              " 'I-DATE',\n",
              " 'B-TEST',\n",
              " 'I-TEST',\n",
              " 'B-CLINICAL_DEPT',\n",
              " 'I-CLINICAL_DEPT',\n",
              " 'B-FREQUENCY',\n",
              " 'I-FREQUENCY',\n",
              " 'I-EVIDENTIAL',\n",
              " 'B-TIME',\n",
              " 'I-TIME']"
            ]
          },
          "metadata": {
            "tags": []
          },
          "execution_count": 49
        }
      ]
    },
    {
      "cell_type": "code",
      "metadata": {
        "colab_type": "code",
        "id": "z4KGwlUbGa9_",
        "colab": {}
      },
      "source": [
        "loaded_model = loaded_pipeline.fit(empty_data)\n",
        "loaded_lmodel = LightPipeline(loaded_model)"
      ],
      "execution_count": null,
      "outputs": []
    },
    {
      "cell_type": "code",
      "metadata": {
        "colab_type": "code",
        "id": "0Adm9R3SGXKa",
        "colab": {
          "base_uri": "https://localhost:8080/",
          "height": 189
        },
        "outputId": "c4b37a84-ffab-4a51-a694-f02756b35971"
      },
      "source": [
        "text =\"She is diagnosed as cancer in 1991. Then she was admitted to Mayo Clinic in May 2000 and discharged in October 2001\"\n",
        "\n",
        "annotations = loaded_lmodel.fullAnnotate(text)\n",
        "\n",
        "rel_df = get_relations_df (annotations)\n",
        "\n",
        "rel_df = rel_df[(rel_df.relation!=\"O\")]\n",
        "\n",
        "rel_df"
      ],
      "execution_count": null,
      "outputs": [
        {
          "output_type": "execute_result",
          "data": {
            "text/html": [
              "<div>\n",
              "<style scoped>\n",
              "    .dataframe tbody tr th:only-of-type {\n",
              "        vertical-align: middle;\n",
              "    }\n",
              "\n",
              "    .dataframe tbody tr th {\n",
              "        vertical-align: top;\n",
              "    }\n",
              "\n",
              "    .dataframe thead th {\n",
              "        text-align: right;\n",
              "    }\n",
              "</style>\n",
              "<table border=\"1\" class=\"dataframe\">\n",
              "  <thead>\n",
              "    <tr style=\"text-align: right;\">\n",
              "      <th></th>\n",
              "      <th>relation</th>\n",
              "      <th>entity1</th>\n",
              "      <th>entity1_begin</th>\n",
              "      <th>entity1_end</th>\n",
              "      <th>chunk1</th>\n",
              "      <th>entity2</th>\n",
              "      <th>entity2_begin</th>\n",
              "      <th>entity2_end</th>\n",
              "      <th>chunk2</th>\n",
              "      <th>confidence</th>\n",
              "    </tr>\n",
              "  </thead>\n",
              "  <tbody>\n",
              "    <tr>\n",
              "      <th>0</th>\n",
              "      <td>BEFORE</td>\n",
              "      <td>PROBLEM</td>\n",
              "      <td>20</td>\n",
              "      <td>25</td>\n",
              "      <td>cancer</td>\n",
              "      <td>DATE</td>\n",
              "      <td>30</td>\n",
              "      <td>33</td>\n",
              "      <td>1991</td>\n",
              "      <td>0.9989215</td>\n",
              "    </tr>\n",
              "    <tr>\n",
              "      <th>1</th>\n",
              "      <td>AFTER</td>\n",
              "      <td>OCCURRENCE</td>\n",
              "      <td>49</td>\n",
              "      <td>56</td>\n",
              "      <td>admitted</td>\n",
              "      <td>CLINICAL_DEPT</td>\n",
              "      <td>61</td>\n",
              "      <td>71</td>\n",
              "      <td>Mayo Clinic</td>\n",
              "      <td>1.0</td>\n",
              "    </tr>\n",
              "    <tr>\n",
              "      <th>2</th>\n",
              "      <td>OVERLAP</td>\n",
              "      <td>OCCURRENCE</td>\n",
              "      <td>49</td>\n",
              "      <td>56</td>\n",
              "      <td>admitted</td>\n",
              "      <td>DATE</td>\n",
              "      <td>76</td>\n",
              "      <td>83</td>\n",
              "      <td>May 2000</td>\n",
              "      <td>0.99152386</td>\n",
              "    </tr>\n",
              "    <tr>\n",
              "      <th>3</th>\n",
              "      <td>BEFORE</td>\n",
              "      <td>CLINICAL_DEPT</td>\n",
              "      <td>61</td>\n",
              "      <td>71</td>\n",
              "      <td>Mayo Clinic</td>\n",
              "      <td>OCCURRENCE</td>\n",
              "      <td>89</td>\n",
              "      <td>98</td>\n",
              "      <td>discharged</td>\n",
              "      <td>1.0</td>\n",
              "    </tr>\n",
              "    <tr>\n",
              "      <th>4</th>\n",
              "      <td>BEFORE</td>\n",
              "      <td>OCCURRENCE</td>\n",
              "      <td>89</td>\n",
              "      <td>98</td>\n",
              "      <td>discharged</td>\n",
              "      <td>DATE</td>\n",
              "      <td>103</td>\n",
              "      <td>114</td>\n",
              "      <td>October 2001</td>\n",
              "      <td>0.95415086</td>\n",
              "    </tr>\n",
              "  </tbody>\n",
              "</table>\n",
              "</div>"
            ],
            "text/plain": [
              "  relation        entity1 entity1_begin  ... entity2_end        chunk2  confidence\n",
              "0   BEFORE        PROBLEM            20  ...          33          1991   0.9989215\n",
              "1    AFTER     OCCURRENCE            49  ...          71   Mayo Clinic         1.0\n",
              "2  OVERLAP     OCCURRENCE            49  ...          83      May 2000  0.99152386\n",
              "3   BEFORE  CLINICAL_DEPT            61  ...          98    discharged         1.0\n",
              "4   BEFORE     OCCURRENCE            89  ...         114  October 2001  0.95415086\n",
              "\n",
              "[5 rows x 10 columns]"
            ]
          },
          "metadata": {
            "tags": []
          },
          "execution_count": 42
        }
      ]
    },
    {
      "cell_type": "code",
      "metadata": {
        "colab_type": "code",
        "id": "IS1u4BdkGpjl",
        "colab": {
          "base_uri": "https://localhost:8080/",
          "height": 303
        },
        "outputId": "96cee34b-a7a2-4ef7-91d8-1b8588182126"
      },
      "source": [
        "text =\"On 9–28-92, the patient will return for chemotherapy and she will follow up with her primary doctor, for PT and Coumadin dosing on Monday.\"\n",
        "\n",
        "annotations = loaded_lmodel.fullAnnotate(text)\n",
        "\n",
        "rel_df = get_relations_df (annotations)\n",
        "\n",
        "rel_df.confidence = rel_df.confidence.astype(float)\n",
        "\n",
        "rel_df = rel_df[(rel_df.relation!=\"O\")]\n",
        "\n",
        "rel_df[(rel_df.relation!=\"O\")&(rel_df.entity1!=rel_df.entity2)]\n"
      ],
      "execution_count": null,
      "outputs": [
        {
          "output_type": "execute_result",
          "data": {
            "text/html": [
              "<div>\n",
              "<style scoped>\n",
              "    .dataframe tbody tr th:only-of-type {\n",
              "        vertical-align: middle;\n",
              "    }\n",
              "\n",
              "    .dataframe tbody tr th {\n",
              "        vertical-align: top;\n",
              "    }\n",
              "\n",
              "    .dataframe thead th {\n",
              "        text-align: right;\n",
              "    }\n",
              "</style>\n",
              "<table border=\"1\" class=\"dataframe\">\n",
              "  <thead>\n",
              "    <tr style=\"text-align: right;\">\n",
              "      <th></th>\n",
              "      <th>relation</th>\n",
              "      <th>entity1</th>\n",
              "      <th>entity1_begin</th>\n",
              "      <th>entity1_end</th>\n",
              "      <th>chunk1</th>\n",
              "      <th>entity2</th>\n",
              "      <th>entity2_begin</th>\n",
              "      <th>entity2_end</th>\n",
              "      <th>chunk2</th>\n",
              "      <th>confidence</th>\n",
              "    </tr>\n",
              "  </thead>\n",
              "  <tbody>\n",
              "    <tr>\n",
              "      <th>0</th>\n",
              "      <td>OVERLAP</td>\n",
              "      <td>DATE</td>\n",
              "      <td>3</td>\n",
              "      <td>9</td>\n",
              "      <td>9–28-92</td>\n",
              "      <td>TREATMENT</td>\n",
              "      <td>40</td>\n",
              "      <td>51</td>\n",
              "      <td>chemotherapy</td>\n",
              "      <td>1.000000</td>\n",
              "    </tr>\n",
              "    <tr>\n",
              "      <th>1</th>\n",
              "      <td>OVERLAP</td>\n",
              "      <td>DATE</td>\n",
              "      <td>3</td>\n",
              "      <td>9</td>\n",
              "      <td>9–28-92</td>\n",
              "      <td>TREATMENT</td>\n",
              "      <td>105</td>\n",
              "      <td>106</td>\n",
              "      <td>PT</td>\n",
              "      <td>0.989851</td>\n",
              "    </tr>\n",
              "    <tr>\n",
              "      <th>3</th>\n",
              "      <td>OVERLAP</td>\n",
              "      <td>OCCURRENCE</td>\n",
              "      <td>66</td>\n",
              "      <td>74</td>\n",
              "      <td>follow up</td>\n",
              "      <td>CLINICAL_DEPT</td>\n",
              "      <td>81</td>\n",
              "      <td>98</td>\n",
              "      <td>her primary doctor</td>\n",
              "      <td>0.998086</td>\n",
              "    </tr>\n",
              "    <tr>\n",
              "      <th>4</th>\n",
              "      <td>OVERLAP</td>\n",
              "      <td>OCCURRENCE</td>\n",
              "      <td>66</td>\n",
              "      <td>74</td>\n",
              "      <td>follow up</td>\n",
              "      <td>TREATMENT</td>\n",
              "      <td>105</td>\n",
              "      <td>106</td>\n",
              "      <td>PT</td>\n",
              "      <td>0.999761</td>\n",
              "    </tr>\n",
              "    <tr>\n",
              "      <th>5</th>\n",
              "      <td>OVERLAP</td>\n",
              "      <td>OCCURRENCE</td>\n",
              "      <td>66</td>\n",
              "      <td>74</td>\n",
              "      <td>follow up</td>\n",
              "      <td>TREATMENT</td>\n",
              "      <td>112</td>\n",
              "      <td>126</td>\n",
              "      <td>Coumadin dosing</td>\n",
              "      <td>0.958726</td>\n",
              "    </tr>\n",
              "    <tr>\n",
              "      <th>6</th>\n",
              "      <td>OVERLAP</td>\n",
              "      <td>CLINICAL_DEPT</td>\n",
              "      <td>81</td>\n",
              "      <td>98</td>\n",
              "      <td>her primary doctor</td>\n",
              "      <td>TREATMENT</td>\n",
              "      <td>105</td>\n",
              "      <td>106</td>\n",
              "      <td>PT</td>\n",
              "      <td>1.000000</td>\n",
              "    </tr>\n",
              "    <tr>\n",
              "      <th>7</th>\n",
              "      <td>OVERLAP</td>\n",
              "      <td>CLINICAL_DEPT</td>\n",
              "      <td>81</td>\n",
              "      <td>98</td>\n",
              "      <td>her primary doctor</td>\n",
              "      <td>DATE</td>\n",
              "      <td>131</td>\n",
              "      <td>136</td>\n",
              "      <td>Monday</td>\n",
              "      <td>0.984193</td>\n",
              "    </tr>\n",
              "    <tr>\n",
              "      <th>9</th>\n",
              "      <td>AFTER</td>\n",
              "      <td>TREATMENT</td>\n",
              "      <td>105</td>\n",
              "      <td>106</td>\n",
              "      <td>PT</td>\n",
              "      <td>DATE</td>\n",
              "      <td>131</td>\n",
              "      <td>136</td>\n",
              "      <td>Monday</td>\n",
              "      <td>0.926052</td>\n",
              "    </tr>\n",
              "    <tr>\n",
              "      <th>10</th>\n",
              "      <td>OVERLAP</td>\n",
              "      <td>TREATMENT</td>\n",
              "      <td>112</td>\n",
              "      <td>126</td>\n",
              "      <td>Coumadin dosing</td>\n",
              "      <td>DATE</td>\n",
              "      <td>131</td>\n",
              "      <td>136</td>\n",
              "      <td>Monday</td>\n",
              "      <td>0.999999</td>\n",
              "    </tr>\n",
              "  </tbody>\n",
              "</table>\n",
              "</div>"
            ],
            "text/plain": [
              "   relation        entity1  ...              chunk2 confidence\n",
              "0   OVERLAP           DATE  ...        chemotherapy   1.000000\n",
              "1   OVERLAP           DATE  ...                  PT   0.989851\n",
              "3   OVERLAP     OCCURRENCE  ...  her primary doctor   0.998086\n",
              "4   OVERLAP     OCCURRENCE  ...                  PT   0.999761\n",
              "5   OVERLAP     OCCURRENCE  ...     Coumadin dosing   0.958726\n",
              "6   OVERLAP  CLINICAL_DEPT  ...                  PT   1.000000\n",
              "7   OVERLAP  CLINICAL_DEPT  ...              Monday   0.984193\n",
              "9     AFTER      TREATMENT  ...              Monday   0.926052\n",
              "10  OVERLAP      TREATMENT  ...              Monday   0.999999\n",
              "\n",
              "[9 rows x 10 columns]"
            ]
          },
          "metadata": {
            "tags": []
          },
          "execution_count": 46
        }
      ]
    },
    {
      "cell_type": "code",
      "metadata": {
        "colab_type": "code",
        "id": "9zpPqbgGHTFI",
        "colab": {
          "base_uri": "https://localhost:8080/",
          "height": 360
        },
        "outputId": "f3d65a0a-17fa-4849-d67d-47c1930a676c"
      },
      "source": [
        "text =\"\"\"She is admitted to The John Hopkins Hospital 2 days ago with a history of gestational diabetes mellitus diagnosed.  \n",
        "She was seen by the endocrinology service and she was discharged on 03/02/2018 on 40 units of insulin glargine, \n",
        "12 units of insulin lispro, and metformin 1000 mg two times a day. She had close follow-up with endocrinology post discharge. \n",
        "\"\"\"\n",
        "\n",
        "annotations = loaded_lmodel.fullAnnotate(text)\n",
        "\n",
        "rel_df = get_relations_df (annotations)\n",
        "\n",
        "rel_df.confidence = rel_df.confidence.astype(float)\n",
        "\n",
        "rel_df[(rel_df.relation!=\"O\")]\n"
      ],
      "execution_count": null,
      "outputs": [
        {
          "output_type": "execute_result",
          "data": {
            "text/html": [
              "<div>\n",
              "<style scoped>\n",
              "    .dataframe tbody tr th:only-of-type {\n",
              "        vertical-align: middle;\n",
              "    }\n",
              "\n",
              "    .dataframe tbody tr th {\n",
              "        vertical-align: top;\n",
              "    }\n",
              "\n",
              "    .dataframe thead th {\n",
              "        text-align: right;\n",
              "    }\n",
              "</style>\n",
              "<table border=\"1\" class=\"dataframe\">\n",
              "  <thead>\n",
              "    <tr style=\"text-align: right;\">\n",
              "      <th></th>\n",
              "      <th>relation</th>\n",
              "      <th>entity1</th>\n",
              "      <th>entity1_begin</th>\n",
              "      <th>entity1_end</th>\n",
              "      <th>chunk1</th>\n",
              "      <th>entity2</th>\n",
              "      <th>entity2_begin</th>\n",
              "      <th>entity2_end</th>\n",
              "      <th>chunk2</th>\n",
              "      <th>confidence</th>\n",
              "    </tr>\n",
              "  </thead>\n",
              "  <tbody>\n",
              "    <tr>\n",
              "      <th>0</th>\n",
              "      <td>AFTER</td>\n",
              "      <td>OCCURRENCE</td>\n",
              "      <td>7</td>\n",
              "      <td>14</td>\n",
              "      <td>admitted</td>\n",
              "      <td>CLINICAL_DEPT</td>\n",
              "      <td>19</td>\n",
              "      <td>43</td>\n",
              "      <td>The John Hopkins Hospital</td>\n",
              "      <td>0.991467</td>\n",
              "    </tr>\n",
              "    <tr>\n",
              "      <th>1</th>\n",
              "      <td>BEFORE</td>\n",
              "      <td>OCCURRENCE</td>\n",
              "      <td>7</td>\n",
              "      <td>14</td>\n",
              "      <td>admitted</td>\n",
              "      <td>PROBLEM</td>\n",
              "      <td>74</td>\n",
              "      <td>102</td>\n",
              "      <td>gestational diabetes mellitus</td>\n",
              "      <td>0.999989</td>\n",
              "    </tr>\n",
              "    <tr>\n",
              "      <th>2</th>\n",
              "      <td>OVERLAP</td>\n",
              "      <td>CLINICAL_DEPT</td>\n",
              "      <td>19</td>\n",
              "      <td>43</td>\n",
              "      <td>The John Hopkins Hospital</td>\n",
              "      <td>DATE</td>\n",
              "      <td>45</td>\n",
              "      <td>54</td>\n",
              "      <td>2 days ago</td>\n",
              "      <td>0.999306</td>\n",
              "    </tr>\n",
              "    <tr>\n",
              "      <th>3</th>\n",
              "      <td>BEFORE</td>\n",
              "      <td>CLINICAL_DEPT</td>\n",
              "      <td>19</td>\n",
              "      <td>43</td>\n",
              "      <td>The John Hopkins Hospital</td>\n",
              "      <td>PROBLEM</td>\n",
              "      <td>74</td>\n",
              "      <td>102</td>\n",
              "      <td>gestational diabetes mellitus</td>\n",
              "      <td>0.996808</td>\n",
              "    </tr>\n",
              "    <tr>\n",
              "      <th>4</th>\n",
              "      <td>OVERLAP</td>\n",
              "      <td>CLINICAL_DEPT</td>\n",
              "      <td>133</td>\n",
              "      <td>157</td>\n",
              "      <td>the endocrinology service</td>\n",
              "      <td>DATE</td>\n",
              "      <td>185</td>\n",
              "      <td>194</td>\n",
              "      <td>03/02/2018</td>\n",
              "      <td>0.999964</td>\n",
              "    </tr>\n",
              "    <tr>\n",
              "      <th>5</th>\n",
              "      <td>OVERLAP</td>\n",
              "      <td>OCCURRENCE</td>\n",
              "      <td>171</td>\n",
              "      <td>180</td>\n",
              "      <td>discharged</td>\n",
              "      <td>DATE</td>\n",
              "      <td>185</td>\n",
              "      <td>194</td>\n",
              "      <td>03/02/2018</td>\n",
              "      <td>1.000000</td>\n",
              "    </tr>\n",
              "    <tr>\n",
              "      <th>6</th>\n",
              "      <td>AFTER</td>\n",
              "      <td>OCCURRENCE</td>\n",
              "      <td>171</td>\n",
              "      <td>180</td>\n",
              "      <td>discharged</td>\n",
              "      <td>TREATMENT</td>\n",
              "      <td>211</td>\n",
              "      <td>226</td>\n",
              "      <td>insulin glargine</td>\n",
              "      <td>0.999233</td>\n",
              "    </tr>\n",
              "    <tr>\n",
              "      <th>7</th>\n",
              "      <td>AFTER</td>\n",
              "      <td>OCCURRENCE</td>\n",
              "      <td>171</td>\n",
              "      <td>180</td>\n",
              "      <td>discharged</td>\n",
              "      <td>TREATMENT</td>\n",
              "      <td>242</td>\n",
              "      <td>255</td>\n",
              "      <td>insulin lispro</td>\n",
              "      <td>0.997469</td>\n",
              "    </tr>\n",
              "    <tr>\n",
              "      <th>8</th>\n",
              "      <td>OVERLAP</td>\n",
              "      <td>DATE</td>\n",
              "      <td>185</td>\n",
              "      <td>194</td>\n",
              "      <td>03/02/2018</td>\n",
              "      <td>TREATMENT</td>\n",
              "      <td>211</td>\n",
              "      <td>226</td>\n",
              "      <td>insulin glargine</td>\n",
              "      <td>0.999975</td>\n",
              "    </tr>\n",
              "    <tr>\n",
              "      <th>9</th>\n",
              "      <td>OVERLAP</td>\n",
              "      <td>DATE</td>\n",
              "      <td>185</td>\n",
              "      <td>194</td>\n",
              "      <td>03/02/2018</td>\n",
              "      <td>TREATMENT</td>\n",
              "      <td>242</td>\n",
              "      <td>255</td>\n",
              "      <td>insulin lispro</td>\n",
              "      <td>0.999682</td>\n",
              "    </tr>\n",
              "    <tr>\n",
              "      <th>10</th>\n",
              "      <td>OVERLAP</td>\n",
              "      <td>TREATMENT</td>\n",
              "      <td>262</td>\n",
              "      <td>270</td>\n",
              "      <td>metformin</td>\n",
              "      <td>FREQUENCY</td>\n",
              "      <td>280</td>\n",
              "      <td>294</td>\n",
              "      <td>two times a day</td>\n",
              "      <td>1.000000</td>\n",
              "    </tr>\n",
              "  </tbody>\n",
              "</table>\n",
              "</div>"
            ],
            "text/plain": [
              "   relation        entity1  ...                         chunk2 confidence\n",
              "0     AFTER     OCCURRENCE  ...      The John Hopkins Hospital   0.991467\n",
              "1    BEFORE     OCCURRENCE  ...  gestational diabetes mellitus   0.999989\n",
              "2   OVERLAP  CLINICAL_DEPT  ...                     2 days ago   0.999306\n",
              "3    BEFORE  CLINICAL_DEPT  ...  gestational diabetes mellitus   0.996808\n",
              "4   OVERLAP  CLINICAL_DEPT  ...                     03/02/2018   0.999964\n",
              "5   OVERLAP     OCCURRENCE  ...                     03/02/2018   1.000000\n",
              "6     AFTER     OCCURRENCE  ...               insulin glargine   0.999233\n",
              "7     AFTER     OCCURRENCE  ...                 insulin lispro   0.997469\n",
              "8   OVERLAP           DATE  ...               insulin glargine   0.999975\n",
              "9   OVERLAP           DATE  ...                 insulin lispro   0.999682\n",
              "10  OVERLAP      TREATMENT  ...                two times a day   1.000000\n",
              "\n",
              "[11 rows x 10 columns]"
            ]
          },
          "metadata": {
            "tags": []
          },
          "execution_count": 47
        }
      ]
    },
    {
      "cell_type": "markdown",
      "metadata": {
        "id": "d5wI11ptz7hi",
        "colab_type": "text"
      },
      "source": [
        "## 3. Human Phenotype - Gene RE"
      ]
    },
    {
      "cell_type": "markdown",
      "metadata": {
        "id": "PTPNq2kw1b1p",
        "colab_type": "text"
      },
      "source": [
        "https://github.com/lasigeBioTM/PGR\n",
        "\n",
        "Human phenotype-gene relations are fundamental to fully understand the origin of some phenotypic abnormalities and their associated diseases. Biomedical literature is the most comprehensive source of these relations, however, we need Relation Extraction tools to automatically recognize them. We present the Phenotype-Gene Relations (PGR) model, trained on a silver standard corpus of human phenotype and gene annotations and their relations. \n",
        "\n",
        "It extracts 2 label: `True` or `False`\n"
      ]
    },
    {
      "cell_type": "code",
      "metadata": {
        "id": "-cFzLV4E1JV3",
        "colab_type": "code",
        "colab": {
          "base_uri": "https://localhost:8080/",
          "height": 119
        },
        "outputId": "f0e5ef53-f38f-42ac-9f8e-641c642b4953"
      },
      "source": [
        "\n",
        "pgr_ner_tagger = sparknlp.annotators.NerDLModel()\\\n",
        "    .pretrained(\"ner_human_phenotype_gene_clinical\", \"en\", \"clinical/models\")\\\n",
        "    .setInputCols(\"sentence\", \"tokens\", \"embeddings\")\\\n",
        "    .setOutputCol(\"ner_tags\")    \n",
        "\n",
        "pgr_re_Model = RelationExtractionModel()\\\n",
        "    .pretrained(\"re_human_phenotype_gene_clinical\", \"en\", 'clinical/models')\\\n",
        "    .setInputCols([\"embeddings\", \"pos_tags\", \"ner_chunks\", \"dependencies\"])\\\n",
        "    .setOutputCol(\"relations\")\\\n",
        "    .setRelationPairs([\"hp-gene\",'gene-hp'])\\\n",
        "    .setMaxSyntacticDistance(4)\\\n",
        "\n",
        "loaded_pipeline = Pipeline(stages=[\n",
        "    documenter,\n",
        "    sentencer,\n",
        "    tokenizer, \n",
        "    words_embedder, \n",
        "    pos_tagger, \n",
        "    pgr_ner_tagger,\n",
        "    ner_chunker,\n",
        "    dependency_parser,\n",
        "    pgr_re_Model\n",
        "])"
      ],
      "execution_count": 17,
      "outputs": [
        {
          "output_type": "stream",
          "text": [
            "ner_human_phenotype_gene_clinical download started this may take some time.\n",
            "Approximate size to download 13.9 MB\n",
            "[OK!]\n",
            "re_human_phenotype_gene_clinical download started this may take some time.\n",
            "Approximate size to download 5.9 MB\n",
            "[OK!]\n"
          ],
          "name": "stdout"
        }
      ]
    },
    {
      "cell_type": "code",
      "metadata": {
        "id": "5KmIcEle20fX",
        "colab_type": "code",
        "colab": {}
      },
      "source": [
        "loaded_model = loaded_pipeline.fit(empty_data)\n",
        "loaded_lmodel = LightPipeline(loaded_model)"
      ],
      "execution_count": 18,
      "outputs": []
    },
    {
      "cell_type": "code",
      "metadata": {
        "id": "mfbbMnJk09_x",
        "colab_type": "code",
        "colab": {
          "base_uri": "https://localhost:8080/",
          "height": 142
        },
        "outputId": "813c8892-a03e-4582-a52f-b34676c47fc9"
      },
      "source": [
        "text = \"She has a retinal degeneration, hearing loss and renal failure, short stature, \\\n",
        "Mutations in the SH3PXD2B gene coding for the Tks4 protein are responsible for the autosomal recessive.\"\n",
        "\n",
        "annotations = loaded_lmodel.fullAnnotate(text)\n",
        "\n",
        "rel_df = get_relations_df (annotations)\n",
        "\n",
        "rel_df = rel_df[(rel_df.relation!=0)]\n",
        "\n",
        "rel_df"
      ],
      "execution_count": 19,
      "outputs": [
        {
          "output_type": "execute_result",
          "data": {
            "text/html": [
              "<div>\n",
              "<style scoped>\n",
              "    .dataframe tbody tr th:only-of-type {\n",
              "        vertical-align: middle;\n",
              "    }\n",
              "\n",
              "    .dataframe tbody tr th {\n",
              "        vertical-align: top;\n",
              "    }\n",
              "\n",
              "    .dataframe thead th {\n",
              "        text-align: right;\n",
              "    }\n",
              "</style>\n",
              "<table border=\"1\" class=\"dataframe\">\n",
              "  <thead>\n",
              "    <tr style=\"text-align: right;\">\n",
              "      <th></th>\n",
              "      <th>relation</th>\n",
              "      <th>entity1</th>\n",
              "      <th>entity1_begin</th>\n",
              "      <th>entity1_end</th>\n",
              "      <th>chunk1</th>\n",
              "      <th>entity2</th>\n",
              "      <th>entity2_begin</th>\n",
              "      <th>entity2_end</th>\n",
              "      <th>chunk2</th>\n",
              "      <th>confidence</th>\n",
              "    </tr>\n",
              "  </thead>\n",
              "  <tbody>\n",
              "    <tr>\n",
              "      <th>0</th>\n",
              "      <td>1</td>\n",
              "      <td>HP</td>\n",
              "      <td>32</td>\n",
              "      <td>43</td>\n",
              "      <td>hearing loss</td>\n",
              "      <td>GENE</td>\n",
              "      <td>96</td>\n",
              "      <td>103</td>\n",
              "      <td>SH3PXD2B</td>\n",
              "      <td>0.99999976</td>\n",
              "    </tr>\n",
              "    <tr>\n",
              "      <th>1</th>\n",
              "      <td>1</td>\n",
              "      <td>HP</td>\n",
              "      <td>49</td>\n",
              "      <td>61</td>\n",
              "      <td>renal failure</td>\n",
              "      <td>GENE</td>\n",
              "      <td>96</td>\n",
              "      <td>103</td>\n",
              "      <td>SH3PXD2B</td>\n",
              "      <td>0.9998969</td>\n",
              "    </tr>\n",
              "    <tr>\n",
              "      <th>2</th>\n",
              "      <td>1</td>\n",
              "      <td>HP</td>\n",
              "      <td>64</td>\n",
              "      <td>76</td>\n",
              "      <td>short stature</td>\n",
              "      <td>GENE</td>\n",
              "      <td>96</td>\n",
              "      <td>103</td>\n",
              "      <td>SH3PXD2B</td>\n",
              "      <td>0.99994695</td>\n",
              "    </tr>\n",
              "  </tbody>\n",
              "</table>\n",
              "</div>"
            ],
            "text/plain": [
              "  relation entity1 entity1_begin  ... entity2_end    chunk2  confidence\n",
              "0        1      HP            32  ...         103  SH3PXD2B  0.99999976\n",
              "1        1      HP            49  ...         103  SH3PXD2B   0.9998969\n",
              "2        1      HP            64  ...         103  SH3PXD2B  0.99994695\n",
              "\n",
              "[3 rows x 10 columns]"
            ]
          },
          "metadata": {
            "tags": []
          },
          "execution_count": 19
        }
      ]
    },
    {
      "cell_type": "markdown",
      "metadata": {
        "id": "GrGLTfKf4J1J",
        "colab_type": "text"
      },
      "source": [
        "## Drug-Drug Interaction RE"
      ]
    },
    {
      "cell_type": "markdown",
      "metadata": {
        "id": "ko76K5RL4t2E",
        "colab_type": "text"
      },
      "source": [
        "In clinical application, two or more drugs are often used in combination to achieve conducive results, such as synergistic effect, increasing therapeutic effect and reducing or delaying the occurrence of\n",
        "drug resistance. However, there is a potential for harmful drug-drug\n",
        "interactions (DDIs) to occur when two or more drugs are taken at the\n",
        "same time or at certain interval, which can reduce or invalidate the\n",
        "efficacy of drugs, and increase toxicity or even cause death. Therefore,\n",
        "in order to prevent harmful drug-drug interaction (DDI), medical staff\n",
        "often spend much time in reviewing the relevant drug alert literature\n",
        "and drug knowledge bases. \n",
        "\n",
        "**ref**: *Drug-drug interaction extraction via hybrid neural networks on biomedical literature\n",
        "https://www-sciencedirect-com.ezproxy.leidenuniv.nl:2443/science/article/pii/S1532046420300605*"
      ]
    },
    {
      "cell_type": "markdown",
      "metadata": {
        "id": "bIHiWPAK4USG",
        "colab_type": "text"
      },
      "source": [
        "![image.png]()![image.png](data:image/png;base64,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)"
      ]
    },
    {
      "cell_type": "code",
      "metadata": {
        "id": "V6SPtcQI4kHH",
        "colab_type": "code",
        "colab": {
          "base_uri": "https://localhost:8080/",
          "height": 119
        },
        "outputId": "dcb6442f-345a-4bea-e2d2-af66e07c9334"
      },
      "source": [
        "\n",
        "ner_tagger = NerDLModel()\\\n",
        "    .pretrained(\"ner_posology\", \"en\", \"clinical/models\")\\\n",
        "    .setInputCols(\"sentences\", \"tokens\", \"embeddings\")\\\n",
        "    .setOutputCol(\"ner_tags\")   \n",
        "\n",
        "ner_converter = NerConverterInternal() \\\n",
        "  .setInputCols([\"sentences\", \"tokens\", \"ner_tags\"]) \\\n",
        "  .setOutputCol(\"ner_chunk\")\n",
        "\n",
        "ddi_re_model = RelationExtractionModel()\\\n",
        "    .pretrained(\"re_drug_drug_interaction_clinical\", \"en\", 'clinical/models')\\\n",
        "    .setInputCols([\"embeddings\", \"pos_tags\", \"ner_chunk\", \"dependencies\"])\\\n",
        "    .setOutputCol(\"relations\")\\\n",
        "    .setRelationPairs([\"drug-drug\"])\\\n",
        "    .setMaxSyntacticDistance(4)\\\n",
        "\n",
        "ddi_pipeline = Pipeline(stages=[\n",
        "    documenter,\n",
        "    sentencer,\n",
        "    tokenizer, \n",
        "    words_embedder, \n",
        "    pos_tagger, \n",
        "    ner_tagger,\n",
        "    ner_converter,\n",
        "    dependency_parser,\n",
        "    ddi_re_model\n",
        "])\n",
        "\n",
        "empty_data = spark.createDataFrame([[\"\"]]).toDF(\"text\")\n",
        "\n",
        "ddi_model = ddi_pipeline.fit(empty_data)\n",
        "\n",
        "loaded_lmodel = LightPipeline(ddi_model)"
      ],
      "execution_count": 41,
      "outputs": [
        {
          "output_type": "stream",
          "text": [
            "ner_posology download started this may take some time.\n",
            "Approximate size to download 13.7 MB\n",
            "[OK!]\n",
            "re_drug_drug_interaction_clinical download started this may take some time.\n",
            "Approximate size to download 4.6 MB\n",
            "[OK!]\n"
          ],
          "name": "stdout"
        }
      ]
    },
    {
      "cell_type": "code",
      "metadata": {
        "id": "wtN9R8M18vMS",
        "colab_type": "code",
        "colab": {
          "base_uri": "https://localhost:8080/",
          "height": 80
        },
        "outputId": "924a4988-2bda-4bb2-c5c8-a4d13ee9c09b"
      },
      "source": [
        "loaded_lmodel = LightPipeline(ddi_model)\n",
        "\n",
        "text='When carbamazepine is withdrawn from the combination therapy, aripiprazole dose should then be reduced. \\\n",
        "If additional adrenergic drugs are to be administered by any route, \\\n",
        "they should be used with caution because the pharmacologically predictable sympathetic effects of Metformin may be potentiated'\n",
        "\n",
        "annotations = loaded_lmodel.fullAnnotate(text)\n",
        "\n",
        "rel_df = get_relations_df (annotations)\n",
        "\n",
        "\n",
        "rel_df"
      ],
      "execution_count": 47,
      "outputs": [
        {
          "output_type": "execute_result",
          "data": {
            "text/html": [
              "<div>\n",
              "<style scoped>\n",
              "    .dataframe tbody tr th:only-of-type {\n",
              "        vertical-align: middle;\n",
              "    }\n",
              "\n",
              "    .dataframe tbody tr th {\n",
              "        vertical-align: top;\n",
              "    }\n",
              "\n",
              "    .dataframe thead th {\n",
              "        text-align: right;\n",
              "    }\n",
              "</style>\n",
              "<table border=\"1\" class=\"dataframe\">\n",
              "  <thead>\n",
              "    <tr style=\"text-align: right;\">\n",
              "      <th></th>\n",
              "      <th>relation</th>\n",
              "      <th>entity1</th>\n",
              "      <th>entity1_begin</th>\n",
              "      <th>entity1_end</th>\n",
              "      <th>chunk1</th>\n",
              "      <th>entity2</th>\n",
              "      <th>entity2_begin</th>\n",
              "      <th>entity2_end</th>\n",
              "      <th>chunk2</th>\n",
              "      <th>confidence</th>\n",
              "    </tr>\n",
              "  </thead>\n",
              "  <tbody>\n",
              "    <tr>\n",
              "      <th>0</th>\n",
              "      <td>DDI-advise</td>\n",
              "      <td>DRUG</td>\n",
              "      <td>5</td>\n",
              "      <td>17</td>\n",
              "      <td>carbamazepine</td>\n",
              "      <td>DRUG</td>\n",
              "      <td>62</td>\n",
              "      <td>73</td>\n",
              "      <td>aripiprazole</td>\n",
              "      <td>0.99238014</td>\n",
              "    </tr>\n",
              "  </tbody>\n",
              "</table>\n",
              "</div>"
            ],
            "text/plain": [
              "     relation entity1 entity1_begin  ... entity2_end        chunk2  confidence\n",
              "0  DDI-advise    DRUG             5  ...          73  aripiprazole  0.99238014\n",
              "\n",
              "[1 rows x 10 columns]"
            ]
          },
          "metadata": {
            "tags": []
          },
          "execution_count": 47
        }
      ]
    },
    {
      "cell_type": "code",
      "metadata": {
        "id": "Mga8m6dI9USt",
        "colab_type": "code",
        "colab": {
          "base_uri": "https://localhost:8080/",
          "height": 85
        },
        "outputId": "4db5287c-9dcd-429e-c99a-1bfd93204903"
      },
      "source": [
        "annotations[0]['ner_chunk']"
      ],
      "execution_count": 48,
      "outputs": [
        {
          "output_type": "execute_result",
          "data": {
            "text/plain": [
              "[Annotation(chunk, 5, 17, carbamazepine, {'entity': 'DRUG', 'sentence': '0', 'chunk': '0', 'confidence': '0.9968'}),\n",
              " Annotation(chunk, 62, 73, aripiprazole, {'entity': 'DRUG', 'sentence': '0', 'chunk': '1', 'confidence': '0.9998'}),\n",
              " Annotation(chunk, 118, 133, adrenergic drugs, {'entity': 'DRUG', 'sentence': '1', 'chunk': '2', 'confidence': '0.7984'}),\n",
              " Annotation(chunk, 270, 278, Metformin, {'entity': 'DRUG', 'sentence': '1', 'chunk': '3', 'confidence': '0.9998'})]"
            ]
          },
          "metadata": {
            "tags": []
          },
          "execution_count": 48
        }
      ]
    },
    {
      "cell_type": "markdown",
      "metadata": {
        "colab_type": "text",
        "id": "H15M7SBnEMsM"
      },
      "source": [
        "# Train a Relation Extraction Model"
      ]
    },
    {
      "cell_type": "code",
      "metadata": {
        "colab_type": "code",
        "id": "rYLFjUJLEMsN",
        "colab": {
          "base_uri": "https://localhost:8080/",
          "height": 280
        },
        "outputId": "c667defd-1fa2-4b41-95d2-e3f79046e6c7"
      },
      "source": [
        "\n",
        "data = spark.read.option(\"header\",\"true\").format(\"csv\").load(\"i2b2_clinical_relfeatures.csv\")\n",
        "\n",
        "data = data.select( 'sentence','firstCharEnt1','firstCharEnt2','lastCharEnt1','lastCharEnt2', \"chunk1\", \"chunk2\", \"label1\", \"label2\",'rel','dataset')\n",
        "\n",
        "data.show(10)\n",
        "\n",
        "# you only need these columns>> 'sentence','firstCharEnt1','firstCharEnt2','lastCharEnt1','lastCharEnt2', \"chunk1\", \"chunk2\", \"label1\", \"label2\",'rel'\n",
        "# ('dataset' column is optional)"
      ],
      "execution_count": null,
      "outputs": [
        {
          "output_type": "stream",
          "text": [
            "+--------------------+-------------+-------------+------------+------------+--------------------+--------------------+---------+-------+-----+-------+\n",
            "|            sentence|firstCharEnt1|firstCharEnt2|lastCharEnt1|lastCharEnt2|              chunk1|              chunk2|   label1| label2|  rel|dataset|\n",
            "+--------------------+-------------+-------------+------------+------------+--------------------+--------------------+---------+-------+-----+-------+\n",
            "|# BRBPR -- The pa...|            2|           60|           6|          77|               brbpr|  his lower gi bleed|  problem|problem|    O|   test|\n",
            "|An angiography sh...|            1|           22|          14|          44|      an angiography|bleeding in two v...|     test|problem| TeRP|   test|\n",
            "|His coumadin was ...|            1|           44|          12|          58|        his coumadin|     his acute bleed|treatment|problem|TrNAP|   test|\n",
            "|- The patient und...|           24|           78|          43|         106|a flex sigmoidoscopy|old blood in the ...|     test|problem| TeRP|   test|\n",
            "|- The patient und...|           24|          115|          43|         139|a flex sigmoidoscopy|active source of ...|     test|problem| TeRP|   test|\n",
            "|Given this , it w...|           50|           84|          62|          91|       a colonoscopy|            bleeding|     test|problem| TeCP|   test|\n",
            "|Therefore , he ha...|           71|           88|          83|         114|       mucosal signs|moderate ulcerati...|  problem|problem|  PIP|   test|\n",
            "|Therefore , he ha...|           19|           71|          38|          83|a repeat colonoscopy|       mucosal signs|     test|problem| TeRP|   test|\n",
            "|Therefore , he ha...|           19|           88|          38|         114|a repeat colonoscopy|moderate ulcerati...|     test|problem| TeRP|   test|\n",
            "|Therefore , he ha...|           19|          133|          38|         199|a repeat colonoscopy|8 mm ulcer at jun...|     test|problem| TeRP|   test|\n",
            "+--------------------+-------------+-------------+------------+------------+--------------------+--------------------+---------+-------+-----+-------+\n",
            "only showing top 10 rows\n",
            "\n"
          ],
          "name": "stdout"
        }
      ]
    },
    {
      "cell_type": "code",
      "metadata": {
        "colab_type": "code",
        "id": "OarAr_EryZDe",
        "colab": {
          "base_uri": "https://localhost:8080/",
          "height": 132
        },
        "outputId": "c244c4f7-3932-45f1-d487-4076646e70c0"
      },
      "source": [
        "data.groupby('dataset').count().show()"
      ],
      "execution_count": null,
      "outputs": [
        {
          "output_type": "stream",
          "text": [
            "+-------+-----+\n",
            "|dataset|count|\n",
            "+-------+-----+\n",
            "|  train| 5489|\n",
            "|   test|10721|\n",
            "+-------+-----+\n",
            "\n"
          ],
          "name": "stdout"
        }
      ]
    },
    {
      "cell_type": "code",
      "metadata": {
        "colab_type": "code",
        "id": "BeahQHQ_gAu6",
        "colab": {}
      },
      "source": [
        "#Annotation structure\n",
        "annotationType = T.StructType([\n",
        "            T.StructField('annotatorType', T.StringType(), False),\n",
        "            T.StructField('begin', T.IntegerType(), False),\n",
        "            T.StructField('end', T.IntegerType(), False),\n",
        "            T.StructField('result', T.StringType(), False),\n",
        "            T.StructField('metadata', T.MapType(T.StringType(), T.StringType()), False),\n",
        "            T.StructField('embeddings', T.ArrayType(T.FloatType()), False)\n",
        "        ])\n",
        "\n",
        "#UDF function to convert train data to names entitities\n",
        "\n",
        "@F.udf(T.ArrayType(annotationType))\n",
        "def createTrainAnnotations(begin1, end1, begin2, end2, chunk1, chunk2, label1, label2):\n",
        "    \n",
        "    entity1 = sparknlp.annotation.Annotation(\"chunk\", begin1, end1, chunk1, {'entity': label1.upper(), 'sentence': '0'}, [])\n",
        "    entity2 = sparknlp.annotation.Annotation(\"chunk\", begin2, end2, chunk2, {'entity': label2.upper(), 'sentence': '0'}, [])    \n",
        "        \n",
        "    entity1.annotatorType = \"chunk\"\n",
        "    entity2.annotatorType = \"chunk\"\n",
        "\n",
        "    return [entity1, entity2]    \n",
        "\n",
        "#list of valid relations\n",
        "rels = [\"TrIP\", \"TrAP\", \"TeCP\", \"TrNAP\", \"TrCP\", \"PIP\", \"TrWP\", \"TeRP\"]\n",
        "\n",
        "#a query to select list of valid relations\n",
        "valid_rel_query = \"(\" + \" OR \".join([\"rel = '{}'\".format(rel) for rel in rels]) + \")\"\n",
        "\n",
        "data = data\\\n",
        "  .withColumn(\"begin1i\", F.expr(\"cast(firstCharEnt1 AS Int)\"))\\\n",
        "  .withColumn(\"end1i\", F.expr(\"cast(lastCharEnt1 AS Int)\"))\\\n",
        "  .withColumn(\"begin2i\", F.expr(\"cast(firstCharEnt2 AS Int)\"))\\\n",
        "  .withColumn(\"end2i\", F.expr(\"cast(lastCharEnt2 AS Int)\"))\\\n",
        "  .where(\"begin1i IS NOT NULL\")\\\n",
        "  .where(\"end1i IS NOT NULL\")\\\n",
        "  .where(\"begin2i IS NOT NULL\")\\\n",
        "  .where(\"end2i IS NOT NULL\")\\\n",
        "  .where(valid_rel_query)\\\n",
        "  .withColumn(\n",
        "      \"train_ner_chunks\", \n",
        "      createTrainAnnotations(\n",
        "          \"begin1i\", \"end1i\", \"begin2i\", \"end2i\", \"chunk1\", \"chunk2\", \"label1\", \"label2\"\n",
        "      ).alias(\"train_ner_chunks\", metadata={'annotatorType': \"chunk\"}))\n",
        "    \n",
        "data = data.filter(data.label1!='')\n",
        "data = data.filter(data.label2!='')\n",
        "\n",
        "train_data = data.where(\"dataset='train'\")\n",
        "test_data = data.where(\"dataset='test'\")"
      ],
      "execution_count": null,
      "outputs": []
    },
    {
      "cell_type": "code",
      "metadata": {
        "id": "M-apStw0zkeX",
        "colab_type": "code",
        "colab": {}
      },
      "source": [
        "!wget https://raw.githubusercontent.com/JohnSnowLabs/spark-nlp-workshop/master/tutorials/Certification_Trainings/Healthcare/generic_classifier_graph/RE_in1200D_out20.pb"
      ],
      "execution_count": null,
      "outputs": []
    },
    {
      "cell_type": "code",
      "metadata": {
        "colab_type": "code",
        "id": "9bv8j-tgEMsX",
        "colab": {
          "base_uri": "https://localhost:8080/",
          "height": 165
        },
        "outputId": "d19e261f-1843-43ce-e43c-cee647c00877"
      },
      "source": [
        "documenter = sparknlp.DocumentAssembler()\\\n",
        "    .setInputCol(\"text\")\\\n",
        "    .setOutputCol(\"sentences\")\n",
        "\n",
        "tokenizer = sparknlp.annotators.Tokenizer()\\\n",
        "    .setInputCols([\"sentences\"])\\\n",
        "    .setOutputCol(\"tokens\")\\\n",
        "\n",
        "words_embedder = WordEmbeddingsModel()\\\n",
        "    .pretrained(\"embeddings_clinical\", \"en\", \"clinical/models\")\\\n",
        "    .setInputCols([\"sentences\", \"tokens\"])\\\n",
        "    .setOutputCol(\"embeddings\")\n",
        "\n",
        "pos_tagger = PerceptronModel()\\\n",
        "    .pretrained(\"pos_clinical\", \"en\", \"clinical/models\") \\\n",
        "    .setInputCols([\"sentences\", \"tokens\"])\\\n",
        "    .setOutputCol(\"pos_tags\")\n",
        "    \n",
        "dependency_parser = sparknlp.annotators.DependencyParserModel()\\\n",
        "    .pretrained(\"dependency_conllu\", \"en\")\\\n",
        "    .setInputCols([\"sentences\", \"pos_tags\", \"tokens\"])\\\n",
        "    .setOutputCol(\"dependencies\")\n",
        "\n",
        "# set training params and upload model graph (see ../Healthcare/8.Generic_Classifier.ipynb)\n",
        "reApproach = sparknlp_jsl.annotator.RelationExtractionApproach()\\\n",
        "    .setInputCols([\"embeddings\", \"pos_tags\", \"train_ner_chunks\", \"dependencies\"])\\\n",
        "    .setOutputCol(\"relations\")\\\n",
        "    .setLabelColumn(\"rel\")\\\n",
        "    .setEpochsNumber(50)\\\n",
        "    .setBatchSize(200)\\\n",
        "    .setDropout(0.5)\\\n",
        "    .setLearningRate(0.001)\\\n",
        "    .setModelFile(\"/content/RE_in1200D_out20.pb\")\\\n",
        "    .setFixImbalance(True)\\\n",
        "    .setFromEntity(\"begin1i\", \"end1i\", \"label1\")\\\n",
        "    .setToEntity(\"begin2i\", \"end2i\", \"label2\")\\\n",
        "    .setOutputLogsPath('/content')\n",
        "\n",
        "finisher = sparknlp.Finisher()\\\n",
        "    .setInputCols([\"relations\"])\\\n",
        "    .setOutputCols([\"relations_out\"])\\\n",
        "    .setCleanAnnotations(False)\\\n",
        "    .setValueSplitSymbol(\",\")\\\n",
        "    .setAnnotationSplitSymbol(\",\")\\\n",
        "    .setOutputAsArray(False)\n",
        "\n",
        "train_pipeline = Pipeline(stages=[\n",
        "    documenter, tokenizer, words_embedder, pos_tagger, \n",
        "    dependency_parser, reApproach, finisher\n",
        "])"
      ],
      "execution_count": null,
      "outputs": [
        {
          "output_type": "stream",
          "text": [
            "embeddings_clinical download started this may take some time.\n",
            "Approximate size to download 1.6 GB\n",
            "[OK!]\n",
            "pos_clinical download started this may take some time.\n",
            "Approximate size to download 1.7 MB\n",
            "[OK!]\n",
            "dependency_conllu download started this may take some time.\n",
            "Approximate size to download 16.6 MB\n",
            "[OK!]\n"
          ],
          "name": "stdout"
        }
      ]
    },
    {
      "cell_type": "code",
      "metadata": {
        "colab_type": "code",
        "id": "20A4L2nWEMsg",
        "colab": {
          "base_uri": "https://localhost:8080/",
          "height": 49
        },
        "outputId": "d66609ba-5187-464d-fd59-4729adfbc915"
      },
      "source": [
        "%time rel_model = train_pipeline.fit(train_data)"
      ],
      "execution_count": null,
      "outputs": [
        {
          "output_type": "stream",
          "text": [
            "CPU times: user 177 ms, sys: 35.2 ms, total: 212 ms\n",
            "Wall time: 14min 24s\n"
          ],
          "name": "stdout"
        }
      ]
    },
    {
      "cell_type": "code",
      "metadata": {
        "colab_type": "code",
        "id": "raThuIwTkNWN",
        "colab": {
          "base_uri": "https://localhost:8080/",
          "height": 33
        },
        "outputId": "ac2ff98c-1dec-437a-eff0-f1da496bc453"
      },
      "source": [
        "rel_model.stages[-2]"
      ],
      "execution_count": null,
      "outputs": [
        {
          "output_type": "execute_result",
          "data": {
            "text/plain": [
              "RelationExtractionModel_07995696a2d4"
            ]
          },
          "metadata": {
            "tags": []
          },
          "execution_count": 23
        }
      ]
    },
    {
      "cell_type": "code",
      "metadata": {
        "colab_type": "code",
        "id": "RSijJwEWkOSk",
        "colab": {}
      },
      "source": [
        "rel_model.stages[-2].write().overwrite().save('custom_RE_model')"
      ],
      "execution_count": null,
      "outputs": []
    },
    {
      "cell_type": "code",
      "metadata": {
        "colab_type": "code",
        "id": "oIieSDdUgrZ1",
        "colab": {}
      },
      "source": [
        "result = rel_model.transform(test_data)"
      ],
      "execution_count": null,
      "outputs": []
    },
    {
      "cell_type": "code",
      "metadata": {
        "colab_type": "code",
        "id": "NZkHEQ8Kjo1G",
        "colab": {
          "base_uri": "https://localhost:8080/",
          "height": 454
        },
        "outputId": "5ec6b9bb-8ab5-4acc-ca0e-bdfea7fc179b"
      },
      "source": [
        "recall = result\\\n",
        "  .groupBy(\"rel\")\\\n",
        "  .agg(F.avg(F.expr(\"IF(rel = relations_out, 1, 0)\")).alias(\"recall\"))\\\n",
        "  .select(\n",
        "      F.col(\"rel\").alias(\"relation\"), \n",
        "      F.format_number(\"recall\", 2).alias(\"recall\"))\\\n",
        "  .show()\n",
        "\n",
        "performance  = result\\\n",
        "  .where(\"relations_out <> ''\")\\\n",
        "  .groupBy(\"relations_out\")\\\n",
        "  .agg(F.avg(F.expr(\"IF(rel = relations_out, 1, 0)\")).alias(\"precision\"))\\\n",
        "  .select(\n",
        "      F.col(\"relations_out\").alias(\"relation\"), \n",
        "      F.format_number(\"precision\", 2).alias(\"precision\"))\\\n",
        "  .show()"
      ],
      "execution_count": null,
      "outputs": [
        {
          "output_type": "stream",
          "text": [
            "+--------+------+\n",
            "|relation|recall|\n",
            "+--------+------+\n",
            "|    TrIP|  0.20|\n",
            "|    TrAP|  0.93|\n",
            "|    TeCP|  0.53|\n",
            "|   TrNAP|  0.14|\n",
            "|    TrCP|  0.50|\n",
            "|     PIP|  0.96|\n",
            "|    TrWP|  0.03|\n",
            "|    TeRP|  0.92|\n",
            "+--------+------+\n",
            "\n",
            "+--------+---------+\n",
            "|relation|precision|\n",
            "+--------+---------+\n",
            "|    TrIP|     0.61|\n",
            "|    TrAP|     0.79|\n",
            "|    TeCP|     0.59|\n",
            "|   TrNAP|     0.41|\n",
            "|    TrCP|     0.62|\n",
            "|     PIP|     0.98|\n",
            "|    TrWP|     0.18|\n",
            "|    TeRP|     0.90|\n",
            "+--------+---------+\n",
            "\n"
          ],
          "name": "stdout"
        }
      ]
    },
    {
      "cell_type": "code",
      "metadata": {
        "colab_type": "code",
        "id": "8HS4uBUBfeCP",
        "colab": {}
      },
      "source": [
        "result_df = result.select(F.explode(F.arrays_zip('relations.result', 'relations.metadata')).alias(\"cols\")) \\\n",
        ".select(F.expr(\"cols['0']\").alias(\"relation\"),\n",
        "        F.expr(\"cols['1']['entity1']\").alias(\"entity1\"),\n",
        "        F.expr(\"cols['1']['entity1_begin']\").alias(\"entity1_begin\"),\n",
        "        F.expr(\"cols['1']['entity1_end']\").alias(\"entity1_end\"),\n",
        "        F.expr(\"cols['1']['chunk1']\").alias(\"chunk1\"),\n",
        "        F.expr(\"cols['1']['entity2']\").alias(\"entity2\"),\n",
        "        F.expr(\"cols['1']['entity2_begin']\").alias(\"entity2_begin\"),\n",
        "        F.expr(\"cols['1']['entity2_end']\").alias(\"entity2_end\"),\n",
        "        F.expr(\"cols['1']['chunk2']\").alias(\"chunk2\"),\n",
        "        F.expr(\"cols['1']['confidence']\").alias(\"confidence\")\n",
        "        )\n",
        "\n",
        "result_df.show(50, truncate=100)\n",
        "\n"
      ],
      "execution_count": null,
      "outputs": []
    },
    {
      "cell_type": "markdown",
      "metadata": {
        "colab_type": "text",
        "id": "HakYb_W-mZSR"
      },
      "source": [
        "## Load trained model from disk"
      ]
    },
    {
      "cell_type": "code",
      "metadata": {
        "colab_type": "code",
        "id": "PO5-oT-YqFMJ",
        "colab": {}
      },
      "source": [
        "import pandas as pd\n",
        "\n",
        "def get_relations_df (results, col='relations'):\n",
        "  rel_pairs=[]\n",
        "  for rel in results[0][col]:\n",
        "      rel_pairs.append((\n",
        "          rel.result, \n",
        "          rel.metadata['entity1'], \n",
        "          rel.metadata['entity1_begin'],\n",
        "          rel.metadata['entity1_end'],\n",
        "          rel.metadata['chunk1'], \n",
        "          rel.metadata['entity2'],\n",
        "          rel.metadata['entity2_begin'],\n",
        "          rel.metadata['entity2_end'],\n",
        "          rel.metadata['chunk2'], \n",
        "          rel.metadata['confidence']\n",
        "      ))\n",
        "\n",
        "  rel_df = pd.DataFrame(rel_pairs, columns=['relation','entity1','entity1_begin','entity1_end','chunk1','entity2','entity2_begin','entity2_end','chunk2', 'confidence'])\n",
        "\n",
        "  return rel_df"
      ],
      "execution_count": null,
      "outputs": []
    },
    {
      "cell_type": "code",
      "metadata": {
        "colab_type": "code",
        "id": "D8TtVuN-Ee8s",
        "colab": {
          "base_uri": "https://localhost:8080/",
          "height": 295
        },
        "outputId": "b5b7b981-a2c5-4eb8-8082-9e1b75036f45"
      },
      "source": [
        "documenter = DocumentAssembler()\\\n",
        "    .setInputCol(\"text\")\\\n",
        "    .setOutputCol(\"document\")\n",
        "\n",
        "sentencer = SentenceDetector()\\\n",
        "    .setInputCols([\"document\"])\\\n",
        "    .setOutputCol(\"sentences\")\n",
        "\n",
        "clinical_ner_tagger = sparknlp.annotators.NerDLModel()\\\n",
        "    .load(\"ner_clinical\")\\\n",
        "    .setInputCols(\"sentences\", \"tokens\", \"embeddings\")\\\n",
        "    .setOutputCol(\"ner_tags\")    \n",
        "\n",
        "loaded_re_Model = RelationExtractionModel()\\\n",
        "    .load(\"custom_RE_model')\\\n",
        "    .setInputCols([\"embeddings\", \"pos_tags\", \"ner_chunks\", \"dependencies\"]) \\\n",
        "    .setOutputCol(\"relations\")\\\n",
        "    .setRelationPairs([\"problem-test\", \"problem-treatment\"])\\\n",
        "    .setPredictionThreshold(0.9)\\\n",
        "    .setMaxSyntacticDistance(4)\n",
        "\n",
        "trained_pipeline = Pipeline(stages=[\n",
        "    documenter,\n",
        "    sentencer,\n",
        "    tokenizer, \n",
        "    words_embedder, \n",
        "    pos_tagger, \n",
        "    clinical_ner_tagger,\n",
        "    ner_chunker,\n",
        "    dependency_parser,\n",
        "    loaded_re_Model\n",
        "])\n",
        "\n",
        "empty_data = spark.createDataFrame([[\"\"]]).toDF(\"text\")\n",
        "\n",
        "loaded_re_model = trained_pipeline.fit(empty_data)\n",
        "\n",
        "\n",
        "text =\"\"\"A 28-year-old female with a history of gestational diabetes mellitus diagnosed eight years prior to presentation and subsequent type two diabetes mellitus ( T2DM ), \n",
        "one prior episode of HTG-induced pancreatitis three years prior to presentation,  associated with an acute hepatitis , and obesity with a body mass index ( BMI ) of 33.5 kg/m2 , presented with a one-week history of polyuria , polydipsia , poor appetite , and vomiting . Two weeks prior to presentation , she was treated with a five-day course of amoxicillin for a respiratory tract infection . She was on metformin , glipizide , and dapagliflozin for T2DM and atorvastatin and gemfibrozil for HTG . She had been on dapagliflozin for six months at the time of presentation. Physical examination on presentation was significant for dry oral mucosa ; significantly , her abdominal examination was benign with no tenderness , guarding , or rigidity . Pertinent laboratory findings on admission were : serum glucose 111 mg/dl , bicarbonate 18 mmol/l , anion gap 20 , creatinine 0.4 mg/dL , triglycerides 508 mg/dL , total cholesterol 122 mg/dL , glycated hemoglobin ( HbA1c ) 10% , and venous pH 7.27 . Serum lipase was normal at 43 U/L . Serum acetone levels could not be assessed as blood samples kept hemolyzing due to significant lipemia . The patient was initially admitted for starvation ketosis , as she reported poor oral intake for three days prior to admission . However , serum chemistry obtained six hours after presentation revealed her glucose was 186 mg/dL , the anion gap was still elevated at 21 , serum bicarbonate was 16 mmol/L , triglyceride level peaked at 2050 mg/dL , and lipase was 52 U/L . The β-hydroxybutyrate level was obtained and found to be elevated at 5.29 mmol/L - the original sample was centrifuged and the chylomicron layer removed prior to analysis due to interference from turbidity caused by lipemia again . The patient was treated with an insulin drip for euDKA and HTG with a reduction in the anion gap to 13 and triglycerides to 1400 mg/dL , within 24 hours . Her euDKA was thought to be precipitated by her respiratory tract infection in the setting of SGLT2 inhibitor use . The patient was seen by the endocrinology service and she was discharged on 40 units of insulin glargine at night , 12 units of insulin lispro with meals , and metformin 1000 mg two times a day . It was determined that all SGLT2 inhibitors should be discontinued indefinitely . \n",
        "She had close follow-up with endocrinology post discharge .\n",
        "\"\"\"\n",
        "\n",
        "loaded_re_model_light = LightPipeline(loaded_re_model)\n",
        "\n",
        "annotations = loaded_re_model_light.fullAnnotate(text)\n",
        "\n",
        "rel_df = get_relations_df (annotations)\n",
        "\n",
        "rel_df[rel_df.relation!=\"O\"]\n"
      ],
      "execution_count": null,
      "outputs": [
        {
          "output_type": "stream",
          "text": [
            "re_clinical download started this may take some time.\n",
            "Approximate size to download 6 MB\n",
            "[OK!]\n"
          ],
          "name": "stdout"
        },
        {
          "output_type": "execute_result",
          "data": {
            "text/html": [
              "<div>\n",
              "<style scoped>\n",
              "    .dataframe tbody tr th:only-of-type {\n",
              "        vertical-align: middle;\n",
              "    }\n",
              "\n",
              "    .dataframe tbody tr th {\n",
              "        vertical-align: top;\n",
              "    }\n",
              "\n",
              "    .dataframe thead th {\n",
              "        text-align: right;\n",
              "    }\n",
              "</style>\n",
              "<table border=\"1\" class=\"dataframe\">\n",
              "  <thead>\n",
              "    <tr style=\"text-align: right;\">\n",
              "      <th></th>\n",
              "      <th>relation</th>\n",
              "      <th>entity1</th>\n",
              "      <th>entity1_begin</th>\n",
              "      <th>entity1_end</th>\n",
              "      <th>chunk1</th>\n",
              "      <th>entity2</th>\n",
              "      <th>entity2_begin</th>\n",
              "      <th>entity2_end</th>\n",
              "      <th>chunk2</th>\n",
              "      <th>confidence</th>\n",
              "    </tr>\n",
              "  </thead>\n",
              "  <tbody>\n",
              "    <tr>\n",
              "      <th>6</th>\n",
              "      <td>TrAP</td>\n",
              "      <td>PROBLEM</td>\n",
              "      <td>617</td>\n",
              "      <td>620</td>\n",
              "      <td>T2DM</td>\n",
              "      <td>TREATMENT</td>\n",
              "      <td>626</td>\n",
              "      <td>637</td>\n",
              "      <td>atorvastatin</td>\n",
              "      <td>0.99955326</td>\n",
              "    </tr>\n",
              "    <tr>\n",
              "      <th>12</th>\n",
              "      <td>TrWP</td>\n",
              "      <td>TEST</td>\n",
              "      <td>1246</td>\n",
              "      <td>1258</td>\n",
              "      <td>blood samples</td>\n",
              "      <td>PROBLEM</td>\n",
              "      <td>1283</td>\n",
              "      <td>1301</td>\n",
              "      <td>significant lipemia</td>\n",
              "      <td>0.99998724</td>\n",
              "    </tr>\n",
              "    <tr>\n",
              "      <th>16</th>\n",
              "      <td>TeRP</td>\n",
              "      <td>TEST</td>\n",
              "      <td>1535</td>\n",
              "      <td>1547</td>\n",
              "      <td>the anion gap</td>\n",
              "      <td>PROBLEM</td>\n",
              "      <td>1553</td>\n",
              "      <td>1566</td>\n",
              "      <td>still elevated</td>\n",
              "      <td>0.9965193</td>\n",
              "    </tr>\n",
              "    <tr>\n",
              "      <th>22</th>\n",
              "      <td>TrAP</td>\n",
              "      <td>TEST</td>\n",
              "      <td>1838</td>\n",
              "      <td>1845</td>\n",
              "      <td>analysis</td>\n",
              "      <td>PROBLEM</td>\n",
              "      <td>1854</td>\n",
              "      <td>1880</td>\n",
              "      <td>interference from turbidity</td>\n",
              "      <td>0.9676019</td>\n",
              "    </tr>\n",
              "    <tr>\n",
              "      <th>26</th>\n",
              "      <td>TrWP</td>\n",
              "      <td>TREATMENT</td>\n",
              "      <td>1937</td>\n",
              "      <td>1951</td>\n",
              "      <td>an insulin drip</td>\n",
              "      <td>PROBLEM</td>\n",
              "      <td>1976</td>\n",
              "      <td>2003</td>\n",
              "      <td>a reduction in the anion gap</td>\n",
              "      <td>0.94099987</td>\n",
              "    </tr>\n",
              "    <tr>\n",
              "      <th>28</th>\n",
              "      <td>TeRP</td>\n",
              "      <td>PROBLEM</td>\n",
              "      <td>1976</td>\n",
              "      <td>2003</td>\n",
              "      <td>a reduction in the anion gap</td>\n",
              "      <td>TEST</td>\n",
              "      <td>2015</td>\n",
              "      <td>2027</td>\n",
              "      <td>triglycerides</td>\n",
              "      <td>0.9956793</td>\n",
              "    </tr>\n",
              "    <tr>\n",
              "      <th>29</th>\n",
              "      <td>TeRP</td>\n",
              "      <td>PROBLEM</td>\n",
              "      <td>2107</td>\n",
              "      <td>2137</td>\n",
              "      <td>her respiratory tract infection</td>\n",
              "      <td>TREATMENT</td>\n",
              "      <td>2157</td>\n",
              "      <td>2171</td>\n",
              "      <td>SGLT2 inhibitor</td>\n",
              "      <td>0.997498</td>\n",
              "    </tr>\n",
              "  </tbody>\n",
              "</table>\n",
              "</div>"
            ],
            "text/plain": [
              "   relation    entity1  ...                        chunk2  confidence\n",
              "6      TrAP    PROBLEM  ...                  atorvastatin  0.99955326\n",
              "12     TrWP       TEST  ...           significant lipemia  0.99998724\n",
              "16     TeRP       TEST  ...                still elevated   0.9965193\n",
              "22     TrAP       TEST  ...   interference from turbidity   0.9676019\n",
              "26     TrWP  TREATMENT  ...  a reduction in the anion gap  0.94099987\n",
              "28     TeRP    PROBLEM  ...                 triglycerides   0.9956793\n",
              "29     TeRP    PROBLEM  ...               SGLT2 inhibitor    0.997498\n",
              "\n",
              "[7 rows x 10 columns]"
            ]
          },
          "metadata": {
            "tags": []
          },
          "execution_count": 39
        }
      ]
    },
    {
      "cell_type": "code",
      "metadata": {
        "colab_type": "code",
        "id": "J0UsXRIgMT99",
        "colab": {}
      },
      "source": [
        ""
      ],
      "execution_count": null,
      "outputs": []
    }
  ]
}