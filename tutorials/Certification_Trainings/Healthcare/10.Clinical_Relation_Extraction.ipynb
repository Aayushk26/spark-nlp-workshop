{
 "cells": [
  {
   "cell_type": "markdown",
   "metadata": {
    "colab_type": "text",
    "id": "pFGiT_o1FJNH"
   },
   "source": [
    "![JohnSnowLabs](https://nlp.johnsnowlabs.com/assets/images/logo.png)"
   ]
  },
  {
   "cell_type": "markdown",
   "metadata": {
    "colab_type": "text",
    "id": "Df3b6PnyFz-A"
   },
   "source": [
    "[![Open In Colab](https://colab.research.google.com/assets/colab-badge.svg)](https://colab.research.google.com/github/JohnSnowLabs/spark-nlp-workshop/blob/master/tutorials/Certification_Trainings/Healthcare/10.Clinical_Relation_Extraction.ipynb)"
   ]
  },
  {
   "cell_type": "markdown",
   "metadata": {
    "colab_type": "text",
    "id": "OdkGRLgcFN1o"
   },
   "source": [
    "# Clinical Relation Extraction Model"
   ]
  },
  {
   "cell_type": "markdown",
   "metadata": {
    "colab_type": "text",
    "id": "4wdK8WtAF8ES"
   },
   "source": [
    "## Colab Setup"
   ]
  },
  {
   "cell_type": "code",
   "execution_count": 1,
   "metadata": {
    "colab": {
     "base_uri": "https://localhost:8080/",
     "height": 33
    },
    "colab_type": "code",
    "id": "61uNqFkvF-UU",
    "outputId": "34a89374-e8a7-4511-e608-9d49d971575d"
   },
   "outputs": [
    {
     "data": {
      "text/plain": [
       "dict_keys(['PUBLIC_VERSION', 'JSL_VERSION', 'SECRET', 'SPARK_NLP_LICENSE', 'AWS_ACCESS_KEY_ID', 'AWS_SECRET_ACCESS_KEY', 'SPARK_OCR_LICENSE', 'SPARK_OCR_SECRET'])"
      ]
     },
     "execution_count": 1,
     "metadata": {
      "tags": []
     },
     "output_type": "execute_result"
    }
   ],
   "source": [
    "import json\n",
    "\n",
    "with open('workshop_license_keys_365.json') as f:\n",
    "    license_keys = json.load(f)\n",
    "\n",
    "license_keys.keys()\n"
   ]
  },
  {
   "cell_type": "code",
   "execution_count": 2,
   "metadata": {
    "colab": {
     "base_uri": "https://localhost:8080/",
     "height": 82
    },
    "colab_type": "code",
    "id": "pEpCxhwLJUDB",
    "outputId": "ff0a5040-a72d-43bf-fbb1-953b9044521c"
   },
   "outputs": [
    {
     "name": "stdout",
     "output_type": "stream",
     "text": [
      "openjdk version \"1.8.0_265\"\n",
      "OpenJDK Runtime Environment (build 1.8.0_265-8u265-b01-0ubuntu2~18.04-b01)\n",
      "OpenJDK 64-Bit Server VM (build 25.265-b01, mixed mode)\n",
      "2.5.5\n"
     ]
    }
   ],
   "source": [
    "import os\n",
    "\n",
    "# Install java\n",
    "! apt-get update -qq\n",
    "! apt-get install -y openjdk-8-jdk-headless -qq > /dev/null\n",
    "\n",
    "os.environ[\"JAVA_HOME\"] = \"/usr/lib/jvm/java-8-openjdk-amd64\"\n",
    "os.environ[\"PATH\"] = os.environ[\"JAVA_HOME\"] + \"/bin:\" + os.environ[\"PATH\"]\n",
    "! java -version\n",
    "\n",
    "secret = license_keys['SECRET']\n",
    "\n",
    "os.environ['SPARK_NLP_LICENSE'] = license_keys['SPARK_NLP_LICENSE']\n",
    "os.environ['AWS_ACCESS_KEY_ID']= license_keys['AWS_ACCESS_KEY_ID']\n",
    "os.environ['AWS_SECRET_ACCESS_KEY'] = license_keys['AWS_SECRET_ACCESS_KEY']\n",
    "version = license_keys['PUBLIC_VERSION']\n",
    "jsl_version = license_keys['JSL_VERSION']\n",
    "\n",
    "! pip install --ignore-installed -q pyspark==2.4.4\n",
    "\n",
    "! python -m pip install --upgrade spark-nlp-jsl==$jsl_version  --extra-index-url https://pypi.johnsnowlabs.com/$secret\n",
    "\n",
    "! pip install --ignore-installed -q spark-nlp==$version\n",
    "\n",
    "import sparknlp\n",
    "\n",
    "print (sparknlp.version())\n",
    "\n",
    "import json\n",
    "import os\n",
    "from pyspark.ml import Pipeline\n",
    "from pyspark.sql import SparkSession\n",
    "\n",
    "from sparknlp.annotator import *\n",
    "from sparknlp_jsl.annotator import *\n",
    "from sparknlp.base import *\n",
    "import sparknlp_jsl\n",
    "\n",
    "spark = sparknlp_jsl.start(secret)"
   ]
  },
  {
   "cell_type": "markdown",
   "metadata": {
    "colab_type": "text",
    "id": "dhScin3AEqYF"
   },
   "source": [
    "## 1. Posology Releation Extraction\n",
    "\n",
    "This is a demonstration of using SparkNLP for extracting posology relations. The following relatios are supported:\n",
    "\n",
    "DRUG-DOSAGE\n",
    "DRUG-FREQUENCY\n",
    "DRUG-ADE (Adversed Drug Events)\n",
    "DRUG-FORM\n",
    "DRUG-ROUTE\n",
    "DRUG-DURATION\n",
    "DRUG-REASON\n",
    "DRUG=STRENGTH\n",
    "\n",
    "The model has been validated agains the posology dataset described in (Magge, Scotch, & Gonzalez-Hernandez, 2018).\n",
    "\n",
    "| Relation | Recall | Precision | F1 | F1 (Magge, Scotch, & Gonzalez-Hernandez, 2018) |\n",
    "| --- | --- | --- | --- | --- |\n",
    "| DRUG-ADE | 0.66 | 1.00 | **0.80** | 0.76 |\n",
    "| DRUG-DOSAGE | 0.89 | 1.00 | **0.94** | 0.91 |\n",
    "| DRUG-DURATION | 0.75 | 1.00 | **0.85** | 0.92 |\n",
    "| DRUG-FORM | 0.88 | 1.00 | **0.94** | 0.95* |\n",
    "| DRUG-FREQUENCY | 0.79 | 1.00 | **0.88** | 0.90 |\n",
    "| DRUG-REASON | 0.60 | 1.00 | **0.75** | 0.70 |\n",
    "| DRUG-ROUTE | 0.79 | 1.00 | **0.88** | 0.95* |\n",
    "| DRUG-STRENGTH | 0.95 | 1.00 | **0.98** | 0.97 |\n",
    "\n",
    "\n",
    "*Magge, Scotch, Gonzalez-Hernandez (2018) collapsed DRUG-FORM and DRUG-ROUTE into a single relation."
   ]
  },
  {
   "cell_type": "code",
   "execution_count": 3,
   "metadata": {
    "ExecuteTime": {
     "end_time": "2020-07-31T14:18:58.500653Z",
     "start_time": "2020-07-31T14:18:58.219349Z"
    },
    "colab": {},
    "colab_type": "code",
    "id": "zmWTG-whEMrU",
    "run_control": {
     "marked": true
    }
   },
   "outputs": [],
   "source": [
    "import os\n",
    "import re\n",
    "import pyspark\n",
    "import sparknlp\n",
    "import sparknlp_jsl\n",
    "import functools \n",
    "import json\n",
    "\n",
    "import numpy as np\n",
    "from scipy import spatial\n",
    "import pyspark.sql.functions as F\n",
    "import pyspark.sql.types as T\n",
    "from pyspark.sql import SparkSession\n",
    "from pyspark.ml import Pipeline\n",
    "from sparknlp_jsl.annotator import *\n",
    "from sparknlp.annotator import *\n",
    "from sparknlp.base import *\n"
   ]
  },
  {
   "cell_type": "markdown",
   "metadata": {
    "colab_type": "text",
    "id": "o8PsjbmpEMrb"
   },
   "source": [
    "**Build pipeline using SparNLP pretrained models and the relation extration model optimized for posology**.\n",
    " \n",
    " The precision of the RE model is controlled by \"setMaxSyntacticDistance(4)\", which sets the maximum syntactic distance between named entities to 4. A larger value will improve recall at the expense at lower precision. A value of 4 leads to literally perfect precision (i.e. the model doesn't produce any false positives) and reasonably good recall."
   ]
  },
  {
   "cell_type": "code",
   "execution_count": 4,
   "metadata": {
    "colab": {
     "base_uri": "https://localhost:8080/",
     "height": 66
    },
    "colab_type": "code",
    "id": "70TLxAMw4VH0",
    "outputId": "c9e63a7b-ab42-4ba2-80ba-09bea2dd0009"
   },
   "outputs": [
    {
     "name": "stdout",
     "output_type": "stream",
     "text": [
      "ner_events_clinical download started this may take some time.\n",
      "Approximate size to download 13.7 MB\n",
      "[OK!]\n"
     ]
    }
   ],
   "source": [
    "ner_event = NerDLModel()\\\n",
    "    .pretrained(\"ner_events_clinical\", \"en\", \"clinical/models\")\\\n",
    "    .setInputCols(\"sentences\", \"tokens\", \"embeddings\")\\\n",
    "    .setOutputCol(\"ner_tags\") "
   ]
  },
  {
   "cell_type": "code",
   "execution_count": 5,
   "metadata": {
    "colab": {
     "base_uri": "https://localhost:8080/",
     "height": 363
    },
    "colab_type": "code",
    "id": "pUlnv0dZ4aCM",
    "outputId": "22daf6ce-a232-4144-da7b-36b58ebd5782"
   },
   "outputs": [
    {
     "data": {
      "text/plain": [
       "['O',\n",
       " 'B-OCCURRENCE',\n",
       " 'B-DATE',\n",
       " 'B-PROBLEM',\n",
       " 'I-PROBLEM',\n",
       " 'B-DURATION',\n",
       " 'I-DURATION',\n",
       " 'B-EVIDENTIAL',\n",
       " 'I-OCCURRENCE',\n",
       " 'B-TREATMENT',\n",
       " 'I-TREATMENT',\n",
       " 'I-DATE',\n",
       " 'B-TEST',\n",
       " 'I-TEST',\n",
       " 'B-CLINICAL_DEPT',\n",
       " 'I-CLINICAL_DEPT',\n",
       " 'B-FREQUENCY',\n",
       " 'I-FREQUENCY',\n",
       " 'I-EVIDENTIAL',\n",
       " 'B-TIME',\n",
       " 'I-TIME']"
      ]
     },
     "execution_count": 5,
     "metadata": {
      "tags": []
     },
     "output_type": "execute_result"
    }
   ],
   "source": [
    "ner_event.getClasses()"
   ]
  },
  {
   "cell_type": "code",
   "execution_count": 7,
   "metadata": {
    "ExecuteTime": {
     "end_time": "2020-07-31T14:19:37.196164Z",
     "start_time": "2020-07-31T14:19:09.356386Z"
    },
    "colab": {
     "base_uri": "https://localhost:8080/",
     "height": 313
    },
    "colab_type": "code",
    "id": "4fNDGSBaEMrb",
    "outputId": "ac20c88d-af3b-43e5-eb0f-dd9579f455fd",
    "run_control": {
     "marked": false
    }
   },
   "outputs": [
    {
     "name": "stdout",
     "output_type": "stream",
     "text": [
      "embeddings_clinical download started this may take some time.\n",
      "Approximate size to download 1.6 GB\n",
      "[OK!]\n",
      "pos_clinical download started this may take some time.\n",
      "Approximate size to download 1.7 MB\n",
      "[OK!]\n",
      "ner_posology download started this may take some time.\n",
      "Approximate size to download 13.7 MB\n",
      "[OK!]\n",
      "ner_events_clinical download started this may take some time.\n",
      "Approximate size to download 13.7 MB\n",
      "[OK!]\n",
      "dependency_conllu download started this may take some time.\n",
      "Approximate size to download 16.6 MB\n",
      "[OK!]\n",
      "re_clinical download started this may take some time.\n",
      "Approximate size to download 6 MB\n",
      "[OK!]\n"
     ]
    }
   ],
   "source": [
    "documenter = DocumentAssembler()\\\n",
    "    .setInputCol(\"text\")\\\n",
    "    .setOutputCol(\"document\")\n",
    "\n",
    "sentencer = SentenceDetector()\\\n",
    "    .setInputCols([\"document\"])\\\n",
    "    .setOutputCol(\"sentences\")\n",
    "\n",
    "tokenizer = sparknlp.annotators.Tokenizer()\\\n",
    "    .setInputCols([\"sentences\"])\\\n",
    "    .setOutputCol(\"tokens\")\n",
    "\n",
    "words_embedder = WordEmbeddingsModel()\\\n",
    "    .pretrained(\"embeddings_clinical\", \"en\", \"clinical/models\")\\\n",
    "    .setInputCols([\"sentences\", \"tokens\"])\\\n",
    "    .setOutputCol(\"embeddings\")\n",
    "\n",
    "pos_tagger = PerceptronModel()\\\n",
    "    .pretrained(\"pos_clinical\", \"en\", \"clinical/models\") \\\n",
    "    .setInputCols([\"sentences\", \"tokens\"])\\\n",
    "    .setOutputCol(\"pos_tags\")\n",
    "\n",
    "ner_tagger = NerDLModel()\\\n",
    "    .pretrained(\"ner_posology\", \"en\", \"clinical/models\")\\\n",
    "    .setInputCols(\"sentences\", \"tokens\", \"embeddings\")\\\n",
    "    .setOutputCol(\"ner_tags\")    \n",
    "\n",
    "ner_event = NerDLModel()\\\n",
    "    .pretrained(\"ner_events_clinical\", \"en\", \"clinical/models\")\\\n",
    "    .setInputCols(\"sentences\", \"tokens\", \"embeddings\")\\\n",
    "    .setOutputCol(\"ner_tags\") \n",
    "\n",
    "ner_chunker = NerConverter()\\\n",
    "    .setInputCols([\"sentences\", \"tokens\", \"ner_tags\"])\\\n",
    "    .setOutputCol(\"ner_chunks\")\n",
    "\n",
    "dependency_parser = DependencyParserModel()\\\n",
    "    .pretrained(\"dependency_conllu\", \"en\")\\\n",
    "    .setInputCols([\"sentences\", \"pos_tags\", \"tokens\"])\\\n",
    "    .setOutputCol(\"dependencies\")\n",
    "\n",
    "reModel = RelationExtractionModel()\\\n",
    "    .pretrained(\"posology_re\")\\\n",
    "    .setInputCols([\"embeddings\", \"pos_tags\", \"ner_chunks\", \"dependencies\"])\\\n",
    "    .setOutputCol(\"relations\")\\\n",
    "    .setMaxSyntacticDistance(4)\n",
    "\n",
    "pipeline = Pipeline(stages=[\n",
    "    documenter,\n",
    "    sentencer,\n",
    "    tokenizer, \n",
    "    words_embedder, \n",
    "    pos_tagger, \n",
    "    ner_tagger,\n",
    "    ner_chunker,\n",
    "    dependency_parser,\n",
    "    reModel\n",
    "])\n",
    "\n",
    "empty_data = spark.createDataFrame([[\"\"]]).toDF(\"text\")\n",
    "\n",
    "model = pipeline.fit(empty_data)\n",
    "\n"
   ]
  },
  {
   "cell_type": "markdown",
   "metadata": {
    "colab_type": "text",
    "id": "fIEDm1zZEMre"
   },
   "source": [
    "**Create empty dataframe**"
   ]
  },
  {
   "cell_type": "code",
   "execution_count": 11,
   "metadata": {
    "ExecuteTime": {
     "end_time": "2020-07-17T10:09:32.462913Z",
     "start_time": "2020-07-17T10:09:32.410488Z"
    },
    "colab": {},
    "colab_type": "code",
    "id": "Ec0SDYGmEMre"
   },
   "outputs": [],
   "source": [
    "empty_data = spark.createDataFrame([[\"\"]]).toDF(\"text\")\n"
   ]
  },
  {
   "cell_type": "markdown",
   "metadata": {
    "colab_type": "text",
    "id": "9TA-2cxfEMrh"
   },
   "source": [
    "**Create a light pipeline for annotating free text**"
   ]
  },
  {
   "cell_type": "code",
   "execution_count": 12,
   "metadata": {
    "ExecuteTime": {
     "end_time": "2020-07-17T10:24:30.899532Z",
     "start_time": "2020-07-17T10:09:32.894746Z"
    },
    "colab": {},
    "colab_type": "code",
    "id": "gWz4JaO3EMri"
   },
   "outputs": [],
   "source": [
    "model = pipeline.fit(empty_data)\n",
    "lmodel = sparknlp.base.LightPipeline(model)"
   ]
  },
  {
   "cell_type": "code",
   "execution_count": 13,
   "metadata": {
    "colab": {},
    "colab_type": "code",
    "id": "nnSSgfnNmH90"
   },
   "outputs": [],
   "source": [
    "text = \"\"\"\n",
    "The patient was prescribed 1 unit of Advil for 5 days after meals. The patient was also \n",
    "given 1 unit of Metformin daily.\n",
    "He was seen by the endocrinology service and she was discharged on 40 units of insulin glargine at night , \n",
    "12 units of insulin lispro with meals , and metformin 1000 mg two times a day.\n",
    "\"\"\"\n",
    "results = lmodel.fullAnnotate(text)"
   ]
  },
  {
   "cell_type": "code",
   "execution_count": 14,
   "metadata": {
    "colab": {
     "base_uri": "https://localhost:8080/",
     "height": 264
    },
    "colab_type": "code",
    "id": "iNcBCfc_mJUT",
    "outputId": "beb92cb8-1fef-47b1-cb02-82f9ea0f2ea9"
   },
   "outputs": [
    {
     "data": {
      "text/plain": [
       "[Annotation(chunk, 28, 33, 1 unit, {'entity': 'DOSAGE', 'sentence': '0', 'chunk': '0'}),\n",
       " Annotation(chunk, 38, 42, Advil, {'entity': 'DRUG', 'sentence': '0', 'chunk': '1'}),\n",
       " Annotation(chunk, 44, 53, for 5 days, {'entity': 'DURATION', 'sentence': '0', 'chunk': '2'}),\n",
       " Annotation(chunk, 96, 101, 1 unit, {'entity': 'DOSAGE', 'sentence': '1', 'chunk': '3'}),\n",
       " Annotation(chunk, 106, 114, Metformin, {'entity': 'DRUG', 'sentence': '1', 'chunk': '4'}),\n",
       " Annotation(chunk, 116, 120, daily, {'entity': 'FREQUENCY', 'sentence': '1', 'chunk': '5'}),\n",
       " Annotation(chunk, 190, 197, 40 units, {'entity': 'DOSAGE', 'sentence': '2', 'chunk': '6'}),\n",
       " Annotation(chunk, 202, 217, insulin glargine, {'entity': 'DRUG', 'sentence': '2', 'chunk': '7'}),\n",
       " Annotation(chunk, 219, 226, at night, {'entity': 'FREQUENCY', 'sentence': '2', 'chunk': '8'}),\n",
       " Annotation(chunk, 231, 238, 12 units, {'entity': 'DOSAGE', 'sentence': '2', 'chunk': '9'}),\n",
       " Annotation(chunk, 243, 256, insulin lispro, {'entity': 'DRUG', 'sentence': '2', 'chunk': '10'}),\n",
       " Annotation(chunk, 258, 267, with meals, {'entity': 'FREQUENCY', 'sentence': '2', 'chunk': '11'}),\n",
       " Annotation(chunk, 275, 283, metformin, {'entity': 'DRUG', 'sentence': '2', 'chunk': '12'}),\n",
       " Annotation(chunk, 285, 291, 1000 mg, {'entity': 'STRENGTH', 'sentence': '2', 'chunk': '13'}),\n",
       " Annotation(chunk, 293, 307, two times a day, {'entity': 'FREQUENCY', 'sentence': '2', 'chunk': '14'})]"
      ]
     },
     "execution_count": 14,
     "metadata": {
      "tags": []
     },
     "output_type": "execute_result"
    }
   ],
   "source": [
    "results[0]['ner_chunks']"
   ]
  },
  {
   "cell_type": "markdown",
   "metadata": {
    "colab_type": "text",
    "id": "EATlttRVEMrl"
   },
   "source": [
    "**Sample free text**"
   ]
  },
  {
   "cell_type": "code",
   "execution_count": 15,
   "metadata": {
    "ExecuteTime": {
     "end_time": "2020-07-17T11:18:31.409708Z",
     "start_time": "2020-07-17T11:18:31.336534Z"
    },
    "colab": {},
    "colab_type": "code",
    "id": "gTdSwA4HEMrl"
   },
   "outputs": [],
   "source": [
    "text = \"\"\"\n",
    "The patient was prescribed 1 unit of Advil for 5 days after meals. The patient was also \n",
    "given 1 unit of Metformin daily.\n",
    "He was seen by the endocrinology service and she was discharged on 40 units of insulin glargine at night , \n",
    "12 units of insulin lispro with meals , and metformin 1000 mg two times a day.\n",
    "\"\"\"\n",
    "results = lmodel.fullAnnotate(text)"
   ]
  },
  {
   "cell_type": "markdown",
   "metadata": {
    "colab_type": "text",
    "id": "ZmdjtscfEMro"
   },
   "source": [
    "**Show extracted relations**"
   ]
  },
  {
   "cell_type": "code",
   "execution_count": 16,
   "metadata": {
    "ExecuteTime": {
     "end_time": "2020-07-17T10:29:26.101405Z",
     "start_time": "2020-07-17T10:29:26.012555Z"
    },
    "colab": {
     "base_uri": "https://localhost:8080/",
     "height": 181
    },
    "colab_type": "code",
    "id": "HeBrfZtvEMro",
    "outputId": "72c2c4c4-8b77-464c-c575-f67e52d626e1"
   },
   "outputs": [
    {
     "name": "stdout",
     "output_type": "stream",
     "text": [
      "DOSAGE-DRUG(DOSAGE=1 unit - DRUG=Advil)\n",
      "DRUG-DURATION(DRUG=Advil - DURATION=for 5 days)\n",
      "DOSAGE-DRUG(DOSAGE=1 unit - DRUG=Metformin)\n",
      "DRUG-FREQUENCY(DRUG=Metformin - FREQUENCY=daily)\n",
      "DOSAGE-DRUG(DOSAGE=40 units - DRUG=insulin glargine)\n",
      "DRUG-FREQUENCY(DRUG=insulin glargine - FREQUENCY=at night)\n",
      "DOSAGE-DRUG(DOSAGE=12 units - DRUG=insulin lispro)\n",
      "DRUG-FREQUENCY(DRUG=insulin lispro - FREQUENCY=with meals)\n",
      "DRUG-STRENGTH(DRUG=metformin - STRENGTH=1000 mg)\n",
      "DRUG-FREQUENCY(DRUG=metformin - FREQUENCY=two times a day)\n"
     ]
    }
   ],
   "source": [
    "for rel in results[0][\"relations\"]:\n",
    "    print(\"{}({}={} - {}={})\".format(\n",
    "        rel.result, \n",
    "        rel.metadata['entity1'], \n",
    "        rel.metadata['chunk1'], \n",
    "        rel.metadata['entity2'],\n",
    "        rel.metadata['chunk2']\n",
    "    ))"
   ]
  },
  {
   "cell_type": "code",
   "execution_count": 17,
   "metadata": {
    "colab": {
     "base_uri": "https://localhost:8080/",
     "height": 331
    },
    "colab_type": "code",
    "id": "LUFt4k1mEMrs",
    "outputId": "a413dd10-08a9-4452-d7b7-2564406a9b70"
   },
   "outputs": [
    {
     "data": {
      "text/html": [
       "<div>\n",
       "<style scoped>\n",
       "    .dataframe tbody tr th:only-of-type {\n",
       "        vertical-align: middle;\n",
       "    }\n",
       "\n",
       "    .dataframe tbody tr th {\n",
       "        vertical-align: top;\n",
       "    }\n",
       "\n",
       "    .dataframe thead th {\n",
       "        text-align: right;\n",
       "    }\n",
       "</style>\n",
       "<table border=\"1\" class=\"dataframe\">\n",
       "  <thead>\n",
       "    <tr style=\"text-align: right;\">\n",
       "      <th></th>\n",
       "      <th>relation</th>\n",
       "      <th>entity1</th>\n",
       "      <th>entity1_begin</th>\n",
       "      <th>entity1_end</th>\n",
       "      <th>chunk1</th>\n",
       "      <th>entity2</th>\n",
       "      <th>entity2_begin</th>\n",
       "      <th>entity2_end</th>\n",
       "      <th>chunk2</th>\n",
       "      <th>confidence</th>\n",
       "    </tr>\n",
       "  </thead>\n",
       "  <tbody>\n",
       "    <tr>\n",
       "      <th>0</th>\n",
       "      <td>DOSAGE-DRUG</td>\n",
       "      <td>DOSAGE</td>\n",
       "      <td>28</td>\n",
       "      <td>33</td>\n",
       "      <td>1 unit</td>\n",
       "      <td>DRUG</td>\n",
       "      <td>38</td>\n",
       "      <td>42</td>\n",
       "      <td>Advil</td>\n",
       "      <td>1.0</td>\n",
       "    </tr>\n",
       "    <tr>\n",
       "      <th>1</th>\n",
       "      <td>DRUG-DURATION</td>\n",
       "      <td>DRUG</td>\n",
       "      <td>38</td>\n",
       "      <td>42</td>\n",
       "      <td>Advil</td>\n",
       "      <td>DURATION</td>\n",
       "      <td>44</td>\n",
       "      <td>53</td>\n",
       "      <td>for 5 days</td>\n",
       "      <td>1.0</td>\n",
       "    </tr>\n",
       "    <tr>\n",
       "      <th>2</th>\n",
       "      <td>DOSAGE-DRUG</td>\n",
       "      <td>DOSAGE</td>\n",
       "      <td>96</td>\n",
       "      <td>101</td>\n",
       "      <td>1 unit</td>\n",
       "      <td>DRUG</td>\n",
       "      <td>106</td>\n",
       "      <td>114</td>\n",
       "      <td>Metformin</td>\n",
       "      <td>1.0</td>\n",
       "    </tr>\n",
       "    <tr>\n",
       "      <th>3</th>\n",
       "      <td>DRUG-FREQUENCY</td>\n",
       "      <td>DRUG</td>\n",
       "      <td>106</td>\n",
       "      <td>114</td>\n",
       "      <td>Metformin</td>\n",
       "      <td>FREQUENCY</td>\n",
       "      <td>116</td>\n",
       "      <td>120</td>\n",
       "      <td>daily</td>\n",
       "      <td>1.0</td>\n",
       "    </tr>\n",
       "    <tr>\n",
       "      <th>4</th>\n",
       "      <td>DOSAGE-DRUG</td>\n",
       "      <td>DOSAGE</td>\n",
       "      <td>190</td>\n",
       "      <td>197</td>\n",
       "      <td>40 units</td>\n",
       "      <td>DRUG</td>\n",
       "      <td>202</td>\n",
       "      <td>217</td>\n",
       "      <td>insulin glargine</td>\n",
       "      <td>1.0</td>\n",
       "    </tr>\n",
       "    <tr>\n",
       "      <th>5</th>\n",
       "      <td>DRUG-FREQUENCY</td>\n",
       "      <td>DRUG</td>\n",
       "      <td>202</td>\n",
       "      <td>217</td>\n",
       "      <td>insulin glargine</td>\n",
       "      <td>FREQUENCY</td>\n",
       "      <td>219</td>\n",
       "      <td>226</td>\n",
       "      <td>at night</td>\n",
       "      <td>1.0</td>\n",
       "    </tr>\n",
       "    <tr>\n",
       "      <th>6</th>\n",
       "      <td>DOSAGE-DRUG</td>\n",
       "      <td>DOSAGE</td>\n",
       "      <td>231</td>\n",
       "      <td>238</td>\n",
       "      <td>12 units</td>\n",
       "      <td>DRUG</td>\n",
       "      <td>243</td>\n",
       "      <td>256</td>\n",
       "      <td>insulin lispro</td>\n",
       "      <td>1.0</td>\n",
       "    </tr>\n",
       "    <tr>\n",
       "      <th>7</th>\n",
       "      <td>DRUG-FREQUENCY</td>\n",
       "      <td>DRUG</td>\n",
       "      <td>243</td>\n",
       "      <td>256</td>\n",
       "      <td>insulin lispro</td>\n",
       "      <td>FREQUENCY</td>\n",
       "      <td>258</td>\n",
       "      <td>267</td>\n",
       "      <td>with meals</td>\n",
       "      <td>1.0</td>\n",
       "    </tr>\n",
       "    <tr>\n",
       "      <th>8</th>\n",
       "      <td>DRUG-STRENGTH</td>\n",
       "      <td>DRUG</td>\n",
       "      <td>275</td>\n",
       "      <td>283</td>\n",
       "      <td>metformin</td>\n",
       "      <td>STRENGTH</td>\n",
       "      <td>285</td>\n",
       "      <td>291</td>\n",
       "      <td>1000 mg</td>\n",
       "      <td>1.0</td>\n",
       "    </tr>\n",
       "    <tr>\n",
       "      <th>9</th>\n",
       "      <td>DRUG-FREQUENCY</td>\n",
       "      <td>DRUG</td>\n",
       "      <td>275</td>\n",
       "      <td>283</td>\n",
       "      <td>metformin</td>\n",
       "      <td>FREQUENCY</td>\n",
       "      <td>293</td>\n",
       "      <td>307</td>\n",
       "      <td>two times a day</td>\n",
       "      <td>1.0</td>\n",
       "    </tr>\n",
       "  </tbody>\n",
       "</table>\n",
       "</div>"
      ],
      "text/plain": [
       "         relation entity1  ...            chunk2 confidence\n",
       "0     DOSAGE-DRUG  DOSAGE  ...             Advil        1.0\n",
       "1   DRUG-DURATION    DRUG  ...        for 5 days        1.0\n",
       "2     DOSAGE-DRUG  DOSAGE  ...         Metformin        1.0\n",
       "3  DRUG-FREQUENCY    DRUG  ...             daily        1.0\n",
       "4     DOSAGE-DRUG  DOSAGE  ...  insulin glargine        1.0\n",
       "5  DRUG-FREQUENCY    DRUG  ...          at night        1.0\n",
       "6     DOSAGE-DRUG  DOSAGE  ...    insulin lispro        1.0\n",
       "7  DRUG-FREQUENCY    DRUG  ...        with meals        1.0\n",
       "8   DRUG-STRENGTH    DRUG  ...           1000 mg        1.0\n",
       "9  DRUG-FREQUENCY    DRUG  ...   two times a day        1.0\n",
       "\n",
       "[10 rows x 10 columns]"
      ]
     },
     "execution_count": 17,
     "metadata": {
      "tags": []
     },
     "output_type": "execute_result"
    }
   ],
   "source": [
    "import pandas as pd\n",
    "\n",
    "def get_relations_df (results, col='relations'):\n",
    "  rel_pairs=[]\n",
    "  for rel in results[0][col]:\n",
    "      rel_pairs.append((\n",
    "          rel.result, \n",
    "          rel.metadata['entity1'], \n",
    "          rel.metadata['entity1_begin'],\n",
    "          rel.metadata['entity1_end'],\n",
    "          rel.metadata['chunk1'], \n",
    "          rel.metadata['entity2'],\n",
    "          rel.metadata['entity2_begin'],\n",
    "          rel.metadata['entity2_end'],\n",
    "          rel.metadata['chunk2'], \n",
    "          rel.metadata['confidence']\n",
    "      ))\n",
    "\n",
    "  rel_df = pd.DataFrame(rel_pairs, columns=['relation','entity1','entity1_begin','entity1_end','chunk1','entity2','entity2_begin','entity2_end','chunk2', 'confidence'])\n",
    "\n",
    "  return rel_df\n",
    "\n",
    "\n",
    "rel_df = get_relations_df (results)\n",
    "\n",
    "rel_df"
   ]
  },
  {
   "cell_type": "code",
   "execution_count": 18,
   "metadata": {
    "colab": {
     "base_uri": "https://localhost:8080/",
     "height": 303
    },
    "colab_type": "code",
    "id": "bzKeB-JUEMru",
    "outputId": "ecb530b0-fe33-480e-be7b-ecdbf0bc2b12"
   },
   "outputs": [
    {
     "data": {
      "text/html": [
       "<div>\n",
       "<style scoped>\n",
       "    .dataframe tbody tr th:only-of-type {\n",
       "        vertical-align: middle;\n",
       "    }\n",
       "\n",
       "    .dataframe tbody tr th {\n",
       "        vertical-align: top;\n",
       "    }\n",
       "\n",
       "    .dataframe thead th {\n",
       "        text-align: right;\n",
       "    }\n",
       "</style>\n",
       "<table border=\"1\" class=\"dataframe\">\n",
       "  <thead>\n",
       "    <tr style=\"text-align: right;\">\n",
       "      <th></th>\n",
       "      <th>relation</th>\n",
       "      <th>entity1</th>\n",
       "      <th>entity1_begin</th>\n",
       "      <th>entity1_end</th>\n",
       "      <th>chunk1</th>\n",
       "      <th>entity2</th>\n",
       "      <th>entity2_begin</th>\n",
       "      <th>entity2_end</th>\n",
       "      <th>chunk2</th>\n",
       "      <th>confidence</th>\n",
       "    </tr>\n",
       "  </thead>\n",
       "  <tbody>\n",
       "    <tr>\n",
       "      <th>0</th>\n",
       "      <td>DURATION-DRUG</td>\n",
       "      <td>DURATION</td>\n",
       "      <td>493</td>\n",
       "      <td>500</td>\n",
       "      <td>five-day</td>\n",
       "      <td>DRUG</td>\n",
       "      <td>512</td>\n",
       "      <td>522</td>\n",
       "      <td>amoxicillin</td>\n",
       "      <td>1.0</td>\n",
       "    </tr>\n",
       "    <tr>\n",
       "      <th>1</th>\n",
       "      <td>DRUG-DURATION</td>\n",
       "      <td>DRUG</td>\n",
       "      <td>681</td>\n",
       "      <td>693</td>\n",
       "      <td>dapagliflozin</td>\n",
       "      <td>DURATION</td>\n",
       "      <td>695</td>\n",
       "      <td>708</td>\n",
       "      <td>for six months</td>\n",
       "      <td>1.0</td>\n",
       "    </tr>\n",
       "    <tr>\n",
       "      <th>2</th>\n",
       "      <td>DRUG-ROUTE</td>\n",
       "      <td>DRUG</td>\n",
       "      <td>1940</td>\n",
       "      <td>1946</td>\n",
       "      <td>insulin</td>\n",
       "      <td>ROUTE</td>\n",
       "      <td>1948</td>\n",
       "      <td>1951</td>\n",
       "      <td>drip</td>\n",
       "      <td>1.0</td>\n",
       "    </tr>\n",
       "    <tr>\n",
       "      <th>3</th>\n",
       "      <td>DOSAGE-DRUG</td>\n",
       "      <td>DOSAGE</td>\n",
       "      <td>2255</td>\n",
       "      <td>2262</td>\n",
       "      <td>40 units</td>\n",
       "      <td>DRUG</td>\n",
       "      <td>2267</td>\n",
       "      <td>2282</td>\n",
       "      <td>insulin glargine</td>\n",
       "      <td>1.0</td>\n",
       "    </tr>\n",
       "    <tr>\n",
       "      <th>4</th>\n",
       "      <td>DRUG-FREQUENCY</td>\n",
       "      <td>DRUG</td>\n",
       "      <td>2267</td>\n",
       "      <td>2282</td>\n",
       "      <td>insulin glargine</td>\n",
       "      <td>FREQUENCY</td>\n",
       "      <td>2284</td>\n",
       "      <td>2291</td>\n",
       "      <td>at night</td>\n",
       "      <td>1.0</td>\n",
       "    </tr>\n",
       "    <tr>\n",
       "      <th>5</th>\n",
       "      <td>DOSAGE-DRUG</td>\n",
       "      <td>DOSAGE</td>\n",
       "      <td>2295</td>\n",
       "      <td>2302</td>\n",
       "      <td>12 units</td>\n",
       "      <td>DRUG</td>\n",
       "      <td>2307</td>\n",
       "      <td>2320</td>\n",
       "      <td>insulin lispro</td>\n",
       "      <td>1.0</td>\n",
       "    </tr>\n",
       "    <tr>\n",
       "      <th>6</th>\n",
       "      <td>DRUG-FREQUENCY</td>\n",
       "      <td>DRUG</td>\n",
       "      <td>2307</td>\n",
       "      <td>2320</td>\n",
       "      <td>insulin lispro</td>\n",
       "      <td>FREQUENCY</td>\n",
       "      <td>2322</td>\n",
       "      <td>2331</td>\n",
       "      <td>with meals</td>\n",
       "      <td>1.0</td>\n",
       "    </tr>\n",
       "    <tr>\n",
       "      <th>7</th>\n",
       "      <td>DRUG-STRENGTH</td>\n",
       "      <td>DRUG</td>\n",
       "      <td>2339</td>\n",
       "      <td>2347</td>\n",
       "      <td>metformin</td>\n",
       "      <td>STRENGTH</td>\n",
       "      <td>2349</td>\n",
       "      <td>2355</td>\n",
       "      <td>1000 mg</td>\n",
       "      <td>1.0</td>\n",
       "    </tr>\n",
       "    <tr>\n",
       "      <th>8</th>\n",
       "      <td>DRUG-FREQUENCY</td>\n",
       "      <td>DRUG</td>\n",
       "      <td>2339</td>\n",
       "      <td>2347</td>\n",
       "      <td>metformin</td>\n",
       "      <td>FREQUENCY</td>\n",
       "      <td>2357</td>\n",
       "      <td>2371</td>\n",
       "      <td>two times a day</td>\n",
       "      <td>1.0</td>\n",
       "    </tr>\n",
       "  </tbody>\n",
       "</table>\n",
       "</div>"
      ],
      "text/plain": [
       "         relation   entity1  ...            chunk2 confidence\n",
       "0   DURATION-DRUG  DURATION  ...       amoxicillin        1.0\n",
       "1   DRUG-DURATION      DRUG  ...    for six months        1.0\n",
       "2      DRUG-ROUTE      DRUG  ...              drip        1.0\n",
       "3     DOSAGE-DRUG    DOSAGE  ...  insulin glargine        1.0\n",
       "4  DRUG-FREQUENCY      DRUG  ...          at night        1.0\n",
       "5     DOSAGE-DRUG    DOSAGE  ...    insulin lispro        1.0\n",
       "6  DRUG-FREQUENCY      DRUG  ...        with meals        1.0\n",
       "7   DRUG-STRENGTH      DRUG  ...           1000 mg        1.0\n",
       "8  DRUG-FREQUENCY      DRUG  ...   two times a day        1.0\n",
       "\n",
       "[9 rows x 10 columns]"
      ]
     },
     "execution_count": 18,
     "metadata": {
      "tags": []
     },
     "output_type": "execute_result"
    }
   ],
   "source": [
    "text =\"\"\"A 28-year-old female with a history of gestational diabetes mellitus diagnosed eight years prior to presentation and subsequent type two diabetes mellitus ( T2DM ), \n",
    "one prior episode of HTG-induced pancreatitis three years prior to presentation,  associated with an acute hepatitis , and obesity with a body mass index ( BMI ) of 33.5 kg/m2 , presented with a one-week history of polyuria , polydipsia , poor appetite , and vomiting . Two weeks prior to presentation , she was treated with a five-day course of amoxicillin for a respiratory tract infection . She was on metformin , glipizide , and dapagliflozin for T2DM and atorvastatin and gemfibrozil for HTG . She had been on dapagliflozin for six months at the time of presentation. Physical examination on presentation was significant for dry oral mucosa ; significantly , her abdominal examination was benign with no tenderness , guarding , or rigidity . Pertinent laboratory findings on admission were : serum glucose 111 mg/dl , bicarbonate 18 mmol/l , anion gap 20 , creatinine 0.4 mg/dL , triglycerides 508 mg/dL , total cholesterol 122 mg/dL , glycated hemoglobin ( HbA1c ) 10% , and venous pH 7.27 . Serum lipase was normal at 43 U/L . Serum acetone levels could not be assessed as blood samples kept hemolyzing due to significant lipemia . The patient was initially admitted for starvation ketosis , as she reported poor oral intake for three days prior to admission . However , serum chemistry obtained six hours after presentation revealed her glucose was 186 mg/dL , the anion gap was still elevated at 21 , serum bicarbonate was 16 mmol/L , triglyceride level peaked at 2050 mg/dL , and lipase was 52 U/L . The β-hydroxybutyrate level was obtained and found to be elevated at 5.29 mmol/L - the original sample was centrifuged and the chylomicron layer removed prior to analysis due to interference from turbidity caused by lipemia again . The patient was treated with an insulin drip for euDKA and HTG with a reduction in the anion gap to 13 and triglycerides to 1400 mg/dL , within 24 hours . Her euDKA was thought to be precipitated by her respiratory tract infection in the setting of SGLT2 inhibitor use . The patient was seen by the endocrinology service and she was discharged on 40 units of insulin glargine at night , 12 units of insulin lispro with meals , and metformin 1000 mg two times a day . It was determined that all SGLT2 inhibitors should be discontinued indefinitely . \n",
    "She had close follow-up with endocrinology post discharge .\n",
    "\"\"\"\n",
    "\n",
    "annotations = lmodel.fullAnnotate(text)\n",
    "\n",
    "rel_df = get_relations_df (annotations)\n",
    "\n",
    "rel_df\n",
    "\n"
   ]
  },
  {
   "cell_type": "markdown",
   "metadata": {
    "colab_type": "text",
    "id": "2mFnHm0vZ5qN"
   },
   "source": [
    "## 2. Clinical RE"
   ]
  },
  {
   "cell_type": "markdown",
   "metadata": {
    "colab_type": "text",
    "id": "ECLSY8H5a1pE"
   },
   "source": [
    "**The set of relations defined in the 2010 i2b2 relation challenge**\n",
    "\n",
    "TrIP: A certain treatment has improved or cured a medical problem (eg, ‘infection resolved with antibiotic course’)\n",
    "\n",
    "TrWP: A patient's medical problem has deteriorated or worsened because of or in spite of a treatment being administered (eg, ‘the tumor was growing despite the drain’)\n",
    "\n",
    "TrCP: A treatment caused a medical problem (eg, ‘penicillin causes a rash’)\n",
    "\n",
    "TrAP: A treatment administered for a medical problem (eg, ‘Dexamphetamine for narcolepsy’)\n",
    "\n",
    "TrNAP: The administration of a treatment was avoided because of a medical problem (eg, ‘Ralafen which is contra-indicated because of ulcers’)\n",
    "\n",
    "TeRP: A test has revealed some medical problem (eg, ‘an echocardiogram revealed a pericardial effusion’)\n",
    "\n",
    "TeCP: A test was performed to investigate a medical problem (eg, ‘chest x-ray done to rule out pneumonia’)\n",
    "\n",
    "PIP: Two problems are related to each other (eg, ‘Azotemia presumed secondary to sepsis’)"
   ]
  },
  {
   "cell_type": "code",
   "execution_count": 19,
   "metadata": {
    "colab": {
     "base_uri": "https://localhost:8080/",
     "height": 115
    },
    "colab_type": "code",
    "id": "xCw3UB7EEMr-",
    "outputId": "229602ba-75fe-4a06-e604-a99cd3327b99"
   },
   "outputs": [
    {
     "name": "stdout",
     "output_type": "stream",
     "text": [
      "ner_clinical download started this may take some time.\n",
      "Approximate size to download 13.8 MB\n",
      "[OK!]\n",
      "re_clinical download started this may take some time.\n",
      "Approximate size to download 6 MB\n",
      "[OK!]\n"
     ]
    }
   ],
   "source": [
    "clinical_ner_tagger = sparknlp.annotators.NerDLModel()\\\n",
    "    .pretrained(\"ner_clinical\", \"en\", \"clinical/models\")\\\n",
    "    .setInputCols(\"sentence\", \"tokens\", \"embeddings\")\\\n",
    "    .setOutputCol(\"ner_tags\")    \n",
    "\n",
    "clinical_re_Model = RelationExtractionModel()\\\n",
    "    .pretrained(\"re_clinical\", \"en\", 'clinical/models')\\\n",
    "    .setInputCols([\"embeddings\", \"pos_tags\", \"ner_chunks\", \"dependencies\"])\\\n",
    "    .setOutputCol(\"relations\")\\\n",
    "    .setMaxSyntacticDistance(4)\\\n",
    "    .setRelationPairs([\"problem-test\", \"problem-treatment\"]) # we can set the possible relation pairs (if not set, all the relations will be calculated)\n",
    "\n",
    "loaded_pipeline = Pipeline(stages=[\n",
    "    documenter,\n",
    "    sentencer,\n",
    "    tokenizer, \n",
    "    words_embedder, \n",
    "    pos_tagger, \n",
    "    clinical_ner_tagger,\n",
    "    ner_chunker,\n",
    "    dependency_parser,\n",
    "    clinical_re_Model\n",
    "])"
   ]
  },
  {
   "cell_type": "code",
   "execution_count": 20,
   "metadata": {
    "colab": {},
    "colab_type": "code",
    "id": "n4jrrhjhEMsC"
   },
   "outputs": [],
   "source": [
    "loaded_model = loaded_pipeline.fit(empty_data)\n",
    "loaded_lmodel = LightPipeline(loaded_model)"
   ]
  },
  {
   "cell_type": "code",
   "execution_count": 21,
   "metadata": {
    "colab": {
     "base_uri": "https://localhost:8080/",
     "height": 246
    },
    "colab_type": "code",
    "id": "XLn00iCGEMsJ",
    "outputId": "fd0d3a5d-e977-4515-ed74-2edc29728094"
   },
   "outputs": [
    {
     "data": {
      "text/html": [
       "<div>\n",
       "<style scoped>\n",
       "    .dataframe tbody tr th:only-of-type {\n",
       "        vertical-align: middle;\n",
       "    }\n",
       "\n",
       "    .dataframe tbody tr th {\n",
       "        vertical-align: top;\n",
       "    }\n",
       "\n",
       "    .dataframe thead th {\n",
       "        text-align: right;\n",
       "    }\n",
       "</style>\n",
       "<table border=\"1\" class=\"dataframe\">\n",
       "  <thead>\n",
       "    <tr style=\"text-align: right;\">\n",
       "      <th></th>\n",
       "      <th>relation</th>\n",
       "      <th>entity1</th>\n",
       "      <th>entity1_begin</th>\n",
       "      <th>entity1_end</th>\n",
       "      <th>chunk1</th>\n",
       "      <th>entity2</th>\n",
       "      <th>entity2_begin</th>\n",
       "      <th>entity2_end</th>\n",
       "      <th>chunk2</th>\n",
       "      <th>confidence</th>\n",
       "    </tr>\n",
       "  </thead>\n",
       "  <tbody>\n",
       "    <tr>\n",
       "      <th>6</th>\n",
       "      <td>TrAP</td>\n",
       "      <td>PROBLEM</td>\n",
       "      <td>617</td>\n",
       "      <td>620</td>\n",
       "      <td>T2DM</td>\n",
       "      <td>TREATMENT</td>\n",
       "      <td>626</td>\n",
       "      <td>637</td>\n",
       "      <td>atorvastatin</td>\n",
       "      <td>0.99955326</td>\n",
       "    </tr>\n",
       "    <tr>\n",
       "      <th>13</th>\n",
       "      <td>TrWP</td>\n",
       "      <td>TEST</td>\n",
       "      <td>1246</td>\n",
       "      <td>1258</td>\n",
       "      <td>blood samples</td>\n",
       "      <td>PROBLEM</td>\n",
       "      <td>1283</td>\n",
       "      <td>1301</td>\n",
       "      <td>significant lipemia</td>\n",
       "      <td>0.99998724</td>\n",
       "    </tr>\n",
       "    <tr>\n",
       "      <th>17</th>\n",
       "      <td>TeRP</td>\n",
       "      <td>TEST</td>\n",
       "      <td>1535</td>\n",
       "      <td>1547</td>\n",
       "      <td>the anion gap</td>\n",
       "      <td>PROBLEM</td>\n",
       "      <td>1553</td>\n",
       "      <td>1566</td>\n",
       "      <td>still elevated</td>\n",
       "      <td>0.9965193</td>\n",
       "    </tr>\n",
       "    <tr>\n",
       "      <th>23</th>\n",
       "      <td>TrAP</td>\n",
       "      <td>TEST</td>\n",
       "      <td>1838</td>\n",
       "      <td>1845</td>\n",
       "      <td>analysis</td>\n",
       "      <td>PROBLEM</td>\n",
       "      <td>1854</td>\n",
       "      <td>1880</td>\n",
       "      <td>interference from turbidity</td>\n",
       "      <td>0.9676019</td>\n",
       "    </tr>\n",
       "    <tr>\n",
       "      <th>27</th>\n",
       "      <td>TrWP</td>\n",
       "      <td>TREATMENT</td>\n",
       "      <td>1937</td>\n",
       "      <td>1951</td>\n",
       "      <td>an insulin drip</td>\n",
       "      <td>PROBLEM</td>\n",
       "      <td>1976</td>\n",
       "      <td>2003</td>\n",
       "      <td>a reduction in the anion gap</td>\n",
       "      <td>0.94099987</td>\n",
       "    </tr>\n",
       "    <tr>\n",
       "      <th>30</th>\n",
       "      <td>TeRP</td>\n",
       "      <td>PROBLEM</td>\n",
       "      <td>1976</td>\n",
       "      <td>2003</td>\n",
       "      <td>a reduction in the anion gap</td>\n",
       "      <td>TEST</td>\n",
       "      <td>2015</td>\n",
       "      <td>2027</td>\n",
       "      <td>triglycerides</td>\n",
       "      <td>0.9956793</td>\n",
       "    </tr>\n",
       "    <tr>\n",
       "      <th>31</th>\n",
       "      <td>TeRP</td>\n",
       "      <td>PROBLEM</td>\n",
       "      <td>2107</td>\n",
       "      <td>2137</td>\n",
       "      <td>her respiratory tract infection</td>\n",
       "      <td>TREATMENT</td>\n",
       "      <td>2157</td>\n",
       "      <td>2171</td>\n",
       "      <td>SGLT2 inhibitor</td>\n",
       "      <td>0.997498</td>\n",
       "    </tr>\n",
       "  </tbody>\n",
       "</table>\n",
       "</div>"
      ],
      "text/plain": [
       "   relation    entity1  ...                        chunk2  confidence\n",
       "6      TrAP    PROBLEM  ...                  atorvastatin  0.99955326\n",
       "13     TrWP       TEST  ...           significant lipemia  0.99998724\n",
       "17     TeRP       TEST  ...                still elevated   0.9965193\n",
       "23     TrAP       TEST  ...   interference from turbidity   0.9676019\n",
       "27     TrWP  TREATMENT  ...  a reduction in the anion gap  0.94099987\n",
       "30     TeRP    PROBLEM  ...                 triglycerides   0.9956793\n",
       "31     TeRP    PROBLEM  ...               SGLT2 inhibitor    0.997498\n",
       "\n",
       "[7 rows x 10 columns]"
      ]
     },
     "execution_count": 21,
     "metadata": {
      "tags": []
     },
     "output_type": "execute_result"
    }
   ],
   "source": [
    "text =\"\"\"A 28-year-old female with a history of gestational diabetes mellitus diagnosed eight years prior to presentation and subsequent type two diabetes mellitus ( T2DM ), \n",
    "one prior episode of HTG-induced pancreatitis three years prior to presentation,  associated with an acute hepatitis , and obesity with a body mass index ( BMI ) of 33.5 kg/m2 , presented with a one-week history of polyuria , polydipsia , poor appetite , and vomiting . Two weeks prior to presentation , she was treated with a five-day course of amoxicillin for a respiratory tract infection . She was on metformin , glipizide , and dapagliflozin for T2DM and atorvastatin and gemfibrozil for HTG . She had been on dapagliflozin for six months at the time of presentation. Physical examination on presentation was significant for dry oral mucosa ; significantly , her abdominal examination was benign with no tenderness , guarding , or rigidity . Pertinent laboratory findings on admission were : serum glucose 111 mg/dl , bicarbonate 18 mmol/l , anion gap 20 , creatinine 0.4 mg/dL , triglycerides 508 mg/dL , total cholesterol 122 mg/dL , glycated hemoglobin ( HbA1c ) 10% , and venous pH 7.27 . Serum lipase was normal at 43 U/L . Serum acetone levels could not be assessed as blood samples kept hemolyzing due to significant lipemia . The patient was initially admitted for starvation ketosis , as she reported poor oral intake for three days prior to admission . However , serum chemistry obtained six hours after presentation revealed her glucose was 186 mg/dL , the anion gap was still elevated at 21 , serum bicarbonate was 16 mmol/L , triglyceride level peaked at 2050 mg/dL , and lipase was 52 U/L . The β-hydroxybutyrate level was obtained and found to be elevated at 5.29 mmol/L - the original sample was centrifuged and the chylomicron layer removed prior to analysis due to interference from turbidity caused by lipemia again . The patient was treated with an insulin drip for euDKA and HTG with a reduction in the anion gap to 13 and triglycerides to 1400 mg/dL , within 24 hours . Her euDKA was thought to be precipitated by her respiratory tract infection in the setting of SGLT2 inhibitor use . The patient was seen by the endocrinology service and she was discharged on 40 units of insulin glargine at night , 12 units of insulin lispro with meals , and metformin 1000 mg two times a day . It was determined that all SGLT2 inhibitors should be discontinued indefinitely . \n",
    "She had close follow-up with endocrinology post discharge .\n",
    "\"\"\"\n",
    "\n",
    "annotations = loaded_lmodel.fullAnnotate(text)\n",
    "\n",
    "rel_df = get_relations_df (annotations)\n",
    "\n",
    "rel_df[rel_df.relation!=\"O\"]\n"
   ]
  },
  {
   "cell_type": "markdown",
   "metadata": {
    "colab_type": "text",
    "id": "IJxeWEen6C6G"
   },
   "source": [
    "## 3. Clinical Temporal Events RE"
   ]
  },
  {
   "cell_type": "markdown",
   "metadata": {
    "colab_type": "text",
    "id": "fX9bJqAy7wjf"
   },
   "source": [
    "Temporal relations, or temporal links (denoted by the TLINK tag), indicate whether and how two EVENTs, two TIME, or an EVENT and a TIME related to each other in the clinical timeline. There are 3 type of relations here and below are some examples of Relations, with square brackets indicating EVENT and TIME connected by a temporal link:\n",
    "\n",
    "**`BEFORE`**\n",
    "\n",
    "The patient was given stress dose steroids prior to his surgery. ([stress dose steroids] `BEFORE` [his surgery])\n",
    "\n",
    "The patient had an undocumented history of possible atrial fibrillation prior to admission. ([possible atrial fibrillation] `BEFORE` [admission])\n",
    "\n",
    "His nasogastric tube was discontinued on 05-26-98. ([His nasogastric] `BEFORE` [05-26-98])\n",
    "\n",
    "**`AFTER`**\n",
    "\n",
    "Before admission, he had another serious concussion. ([admission] `AFTER` [another serious concussion])\n",
    "\n",
    "On postoperative day No 1, he was started on Percocet. ([Percocet] `AFTER` [postoperative day No 1])\n",
    "\n",
    "\n",
    "**`OVERLAP`**\n",
    "\n",
    "She denies any fevers or chills. ([fevers] `OVERLAP` [chills])\n",
    "\n",
    "The patient's serum creatinine on discharge date, 2012-05-06, was 1.9. ([discharge date] `OVERLAP` [2012-05-06])\n",
    "\n",
    "His preoperative workup was completed and included a normal white count ([a normal white count] `OVERLAP` [His preoperative workup])\n",
    "\n",
    "The patient had an undocumented history of possible atrial fibrillation prior to admission. ([possible atrial fibrillation] `OVERLAP` [admission])\n"
   ]
  },
  {
   "cell_type": "markdown",
   "metadata": {
    "colab_type": "text",
    "id": "q47PbJL_Hh-r"
   },
   "source": [
    "This RE model works with `ner_events_clinical` NER model and expect the following entities as inputs:\n",
    "\n",
    "['OCCURRENCE',\n",
    " 'DATE',\n",
    " 'DURATION',\n",
    " 'EVIDENTIAL',\n",
    " 'TEST',\n",
    " 'CLINICAL_DEPT',\n",
    " 'FREQUENCY',\n",
    " 'TIME']"
   ]
  },
  {
   "cell_type": "code",
   "execution_count": 40,
   "metadata": {
    "colab": {
     "base_uri": "https://localhost:8080/",
     "height": 115
    },
    "colab_type": "code",
    "id": "i7yt6cPHEU8t",
    "outputId": "d0f7f788-b372-48a6-bdaf-edd28bcdd14e"
   },
   "outputs": [
    {
     "name": "stdout",
     "output_type": "stream",
     "text": [
      "ner_events_clinical download started this may take some time.\n",
      "Approximate size to download 13.7 MB\n",
      "[OK!]\n",
      "re_temporal_events_clinical download started this may take some time.\n",
      "Approximate size to download 5.9 MB\n",
      "[OK!]\n"
     ]
    }
   ],
   "source": [
    "\n",
    "events_ner_tagger = sparknlp.annotators.NerDLModel()\\\n",
    "    .pretrained(\"ner_events_clinical\", \"en\", \"clinical/models\")\\\n",
    "    .setInputCols(\"sentence\", \"tokens\", \"embeddings\")\\\n",
    "    .setOutputCol(\"ner_tags\")    \n",
    "\n",
    "clinical_re_Model = RelationExtractionModel()\\\n",
    "    .pretrained(\"re_temporal_events_clinical\", \"en\", 'clinical/models')\\\n",
    "    .setInputCols([\"embeddings\", \"pos_tags\", \"ner_chunks\", \"dependencies\"])\\\n",
    "    .setOutputCol(\"relations\")\\\n",
    "    .setMaxSyntacticDistance(4)\\\n",
    "    .setPredictionThreshold(0.9)\n",
    "\n",
    "loaded_pipeline = Pipeline(stages=[\n",
    "    documenter,\n",
    "    sentencer,\n",
    "    tokenizer, \n",
    "    words_embedder, \n",
    "    pos_tagger, \n",
    "    events_ner_tagger,\n",
    "    ner_chunker,\n",
    "    dependency_parser,\n",
    "    clinical_re_Model\n",
    "])"
   ]
  },
  {
   "cell_type": "code",
   "execution_count": 49,
   "metadata": {
    "colab": {
     "base_uri": "https://localhost:8080/",
     "height": 363
    },
    "colab_type": "code",
    "id": "wIqIQVCkH-j0",
    "outputId": "660d3b36-a3af-4692-bded-156aa2ce85f1"
   },
   "outputs": [
    {
     "data": {
      "text/plain": [
       "['O',\n",
       " 'B-OCCURRENCE',\n",
       " 'B-DATE',\n",
       " 'B-PROBLEM',\n",
       " 'I-PROBLEM',\n",
       " 'B-DURATION',\n",
       " 'I-DURATION',\n",
       " 'B-EVIDENTIAL',\n",
       " 'I-OCCURRENCE',\n",
       " 'B-TREATMENT',\n",
       " 'I-TREATMENT',\n",
       " 'I-DATE',\n",
       " 'B-TEST',\n",
       " 'I-TEST',\n",
       " 'B-CLINICAL_DEPT',\n",
       " 'I-CLINICAL_DEPT',\n",
       " 'B-FREQUENCY',\n",
       " 'I-FREQUENCY',\n",
       " 'I-EVIDENTIAL',\n",
       " 'B-TIME',\n",
       " 'I-TIME']"
      ]
     },
     "execution_count": 49,
     "metadata": {
      "tags": []
     },
     "output_type": "execute_result"
    }
   ],
   "source": [
    "events_ner_tagger.getClasses()"
   ]
  },
  {
   "cell_type": "code",
   "execution_count": 41,
   "metadata": {
    "colab": {},
    "colab_type": "code",
    "id": "z4KGwlUbGa9_"
   },
   "outputs": [],
   "source": [
    "loaded_model = loaded_pipeline.fit(empty_data)\n",
    "loaded_lmodel = LightPipeline(loaded_model)"
   ]
  },
  {
   "cell_type": "code",
   "execution_count": 42,
   "metadata": {
    "colab": {
     "base_uri": "https://localhost:8080/",
     "height": 189
    },
    "colab_type": "code",
    "id": "0Adm9R3SGXKa",
    "outputId": "c4b37a84-ffab-4a51-a694-f02756b35971"
   },
   "outputs": [
    {
     "data": {
      "text/html": [
       "<div>\n",
       "<style scoped>\n",
       "    .dataframe tbody tr th:only-of-type {\n",
       "        vertical-align: middle;\n",
       "    }\n",
       "\n",
       "    .dataframe tbody tr th {\n",
       "        vertical-align: top;\n",
       "    }\n",
       "\n",
       "    .dataframe thead th {\n",
       "        text-align: right;\n",
       "    }\n",
       "</style>\n",
       "<table border=\"1\" class=\"dataframe\">\n",
       "  <thead>\n",
       "    <tr style=\"text-align: right;\">\n",
       "      <th></th>\n",
       "      <th>relation</th>\n",
       "      <th>entity1</th>\n",
       "      <th>entity1_begin</th>\n",
       "      <th>entity1_end</th>\n",
       "      <th>chunk1</th>\n",
       "      <th>entity2</th>\n",
       "      <th>entity2_begin</th>\n",
       "      <th>entity2_end</th>\n",
       "      <th>chunk2</th>\n",
       "      <th>confidence</th>\n",
       "    </tr>\n",
       "  </thead>\n",
       "  <tbody>\n",
       "    <tr>\n",
       "      <th>0</th>\n",
       "      <td>BEFORE</td>\n",
       "      <td>PROBLEM</td>\n",
       "      <td>20</td>\n",
       "      <td>25</td>\n",
       "      <td>cancer</td>\n",
       "      <td>DATE</td>\n",
       "      <td>30</td>\n",
       "      <td>33</td>\n",
       "      <td>1991</td>\n",
       "      <td>0.9989215</td>\n",
       "    </tr>\n",
       "    <tr>\n",
       "      <th>1</th>\n",
       "      <td>AFTER</td>\n",
       "      <td>OCCURRENCE</td>\n",
       "      <td>49</td>\n",
       "      <td>56</td>\n",
       "      <td>admitted</td>\n",
       "      <td>CLINICAL_DEPT</td>\n",
       "      <td>61</td>\n",
       "      <td>71</td>\n",
       "      <td>Mayo Clinic</td>\n",
       "      <td>1.0</td>\n",
       "    </tr>\n",
       "    <tr>\n",
       "      <th>2</th>\n",
       "      <td>OVERLAP</td>\n",
       "      <td>OCCURRENCE</td>\n",
       "      <td>49</td>\n",
       "      <td>56</td>\n",
       "      <td>admitted</td>\n",
       "      <td>DATE</td>\n",
       "      <td>76</td>\n",
       "      <td>83</td>\n",
       "      <td>May 2000</td>\n",
       "      <td>0.99152386</td>\n",
       "    </tr>\n",
       "    <tr>\n",
       "      <th>3</th>\n",
       "      <td>BEFORE</td>\n",
       "      <td>CLINICAL_DEPT</td>\n",
       "      <td>61</td>\n",
       "      <td>71</td>\n",
       "      <td>Mayo Clinic</td>\n",
       "      <td>OCCURRENCE</td>\n",
       "      <td>89</td>\n",
       "      <td>98</td>\n",
       "      <td>discharged</td>\n",
       "      <td>1.0</td>\n",
       "    </tr>\n",
       "    <tr>\n",
       "      <th>4</th>\n",
       "      <td>BEFORE</td>\n",
       "      <td>OCCURRENCE</td>\n",
       "      <td>89</td>\n",
       "      <td>98</td>\n",
       "      <td>discharged</td>\n",
       "      <td>DATE</td>\n",
       "      <td>103</td>\n",
       "      <td>114</td>\n",
       "      <td>October 2001</td>\n",
       "      <td>0.95415086</td>\n",
       "    </tr>\n",
       "  </tbody>\n",
       "</table>\n",
       "</div>"
      ],
      "text/plain": [
       "  relation        entity1 entity1_begin  ... entity2_end        chunk2  confidence\n",
       "0   BEFORE        PROBLEM            20  ...          33          1991   0.9989215\n",
       "1    AFTER     OCCURRENCE            49  ...          71   Mayo Clinic         1.0\n",
       "2  OVERLAP     OCCURRENCE            49  ...          83      May 2000  0.99152386\n",
       "3   BEFORE  CLINICAL_DEPT            61  ...          98    discharged         1.0\n",
       "4   BEFORE     OCCURRENCE            89  ...         114  October 2001  0.95415086\n",
       "\n",
       "[5 rows x 10 columns]"
      ]
     },
     "execution_count": 42,
     "metadata": {
      "tags": []
     },
     "output_type": "execute_result"
    }
   ],
   "source": [
    "text =\"She is diagnosed as cancer in 1991. Then she was admitted to Mayo Clinic in May 2000 and discharged in October 2001\"\n",
    "\n",
    "annotations = loaded_lmodel.fullAnnotate(text)\n",
    "\n",
    "rel_df = get_relations_df (annotations)\n",
    "\n",
    "rel_df = rel_df[(rel_df.relation!=\"O\")]\n",
    "\n",
    "rel_df"
   ]
  },
  {
   "cell_type": "code",
   "execution_count": 46,
   "metadata": {
    "colab": {
     "base_uri": "https://localhost:8080/",
     "height": 303
    },
    "colab_type": "code",
    "id": "IS1u4BdkGpjl",
    "outputId": "96cee34b-a7a2-4ef7-91d8-1b8588182126"
   },
   "outputs": [
    {
     "data": {
      "text/html": [
       "<div>\n",
       "<style scoped>\n",
       "    .dataframe tbody tr th:only-of-type {\n",
       "        vertical-align: middle;\n",
       "    }\n",
       "\n",
       "    .dataframe tbody tr th {\n",
       "        vertical-align: top;\n",
       "    }\n",
       "\n",
       "    .dataframe thead th {\n",
       "        text-align: right;\n",
       "    }\n",
       "</style>\n",
       "<table border=\"1\" class=\"dataframe\">\n",
       "  <thead>\n",
       "    <tr style=\"text-align: right;\">\n",
       "      <th></th>\n",
       "      <th>relation</th>\n",
       "      <th>entity1</th>\n",
       "      <th>entity1_begin</th>\n",
       "      <th>entity1_end</th>\n",
       "      <th>chunk1</th>\n",
       "      <th>entity2</th>\n",
       "      <th>entity2_begin</th>\n",
       "      <th>entity2_end</th>\n",
       "      <th>chunk2</th>\n",
       "      <th>confidence</th>\n",
       "    </tr>\n",
       "  </thead>\n",
       "  <tbody>\n",
       "    <tr>\n",
       "      <th>0</th>\n",
       "      <td>OVERLAP</td>\n",
       "      <td>DATE</td>\n",
       "      <td>3</td>\n",
       "      <td>9</td>\n",
       "      <td>9–28-92</td>\n",
       "      <td>TREATMENT</td>\n",
       "      <td>40</td>\n",
       "      <td>51</td>\n",
       "      <td>chemotherapy</td>\n",
       "      <td>1.000000</td>\n",
       "    </tr>\n",
       "    <tr>\n",
       "      <th>1</th>\n",
       "      <td>OVERLAP</td>\n",
       "      <td>DATE</td>\n",
       "      <td>3</td>\n",
       "      <td>9</td>\n",
       "      <td>9–28-92</td>\n",
       "      <td>TREATMENT</td>\n",
       "      <td>105</td>\n",
       "      <td>106</td>\n",
       "      <td>PT</td>\n",
       "      <td>0.989851</td>\n",
       "    </tr>\n",
       "    <tr>\n",
       "      <th>3</th>\n",
       "      <td>OVERLAP</td>\n",
       "      <td>OCCURRENCE</td>\n",
       "      <td>66</td>\n",
       "      <td>74</td>\n",
       "      <td>follow up</td>\n",
       "      <td>CLINICAL_DEPT</td>\n",
       "      <td>81</td>\n",
       "      <td>98</td>\n",
       "      <td>her primary doctor</td>\n",
       "      <td>0.998086</td>\n",
       "    </tr>\n",
       "    <tr>\n",
       "      <th>4</th>\n",
       "      <td>OVERLAP</td>\n",
       "      <td>OCCURRENCE</td>\n",
       "      <td>66</td>\n",
       "      <td>74</td>\n",
       "      <td>follow up</td>\n",
       "      <td>TREATMENT</td>\n",
       "      <td>105</td>\n",
       "      <td>106</td>\n",
       "      <td>PT</td>\n",
       "      <td>0.999761</td>\n",
       "    </tr>\n",
       "    <tr>\n",
       "      <th>5</th>\n",
       "      <td>OVERLAP</td>\n",
       "      <td>OCCURRENCE</td>\n",
       "      <td>66</td>\n",
       "      <td>74</td>\n",
       "      <td>follow up</td>\n",
       "      <td>TREATMENT</td>\n",
       "      <td>112</td>\n",
       "      <td>126</td>\n",
       "      <td>Coumadin dosing</td>\n",
       "      <td>0.958726</td>\n",
       "    </tr>\n",
       "    <tr>\n",
       "      <th>6</th>\n",
       "      <td>OVERLAP</td>\n",
       "      <td>CLINICAL_DEPT</td>\n",
       "      <td>81</td>\n",
       "      <td>98</td>\n",
       "      <td>her primary doctor</td>\n",
       "      <td>TREATMENT</td>\n",
       "      <td>105</td>\n",
       "      <td>106</td>\n",
       "      <td>PT</td>\n",
       "      <td>1.000000</td>\n",
       "    </tr>\n",
       "    <tr>\n",
       "      <th>7</th>\n",
       "      <td>OVERLAP</td>\n",
       "      <td>CLINICAL_DEPT</td>\n",
       "      <td>81</td>\n",
       "      <td>98</td>\n",
       "      <td>her primary doctor</td>\n",
       "      <td>DATE</td>\n",
       "      <td>131</td>\n",
       "      <td>136</td>\n",
       "      <td>Monday</td>\n",
       "      <td>0.984193</td>\n",
       "    </tr>\n",
       "    <tr>\n",
       "      <th>9</th>\n",
       "      <td>AFTER</td>\n",
       "      <td>TREATMENT</td>\n",
       "      <td>105</td>\n",
       "      <td>106</td>\n",
       "      <td>PT</td>\n",
       "      <td>DATE</td>\n",
       "      <td>131</td>\n",
       "      <td>136</td>\n",
       "      <td>Monday</td>\n",
       "      <td>0.926052</td>\n",
       "    </tr>\n",
       "    <tr>\n",
       "      <th>10</th>\n",
       "      <td>OVERLAP</td>\n",
       "      <td>TREATMENT</td>\n",
       "      <td>112</td>\n",
       "      <td>126</td>\n",
       "      <td>Coumadin dosing</td>\n",
       "      <td>DATE</td>\n",
       "      <td>131</td>\n",
       "      <td>136</td>\n",
       "      <td>Monday</td>\n",
       "      <td>0.999999</td>\n",
       "    </tr>\n",
       "  </tbody>\n",
       "</table>\n",
       "</div>"
      ],
      "text/plain": [
       "   relation        entity1  ...              chunk2 confidence\n",
       "0   OVERLAP           DATE  ...        chemotherapy   1.000000\n",
       "1   OVERLAP           DATE  ...                  PT   0.989851\n",
       "3   OVERLAP     OCCURRENCE  ...  her primary doctor   0.998086\n",
       "4   OVERLAP     OCCURRENCE  ...                  PT   0.999761\n",
       "5   OVERLAP     OCCURRENCE  ...     Coumadin dosing   0.958726\n",
       "6   OVERLAP  CLINICAL_DEPT  ...                  PT   1.000000\n",
       "7   OVERLAP  CLINICAL_DEPT  ...              Monday   0.984193\n",
       "9     AFTER      TREATMENT  ...              Monday   0.926052\n",
       "10  OVERLAP      TREATMENT  ...              Monday   0.999999\n",
       "\n",
       "[9 rows x 10 columns]"
      ]
     },
     "execution_count": 46,
     "metadata": {
      "tags": []
     },
     "output_type": "execute_result"
    }
   ],
   "source": [
    "text =\"On 9–28-92, the patient will return for chemotherapy and she will follow up with her primary doctor, for PT and Coumadin dosing on Monday.\"\n",
    "\n",
    "annotations = loaded_lmodel.fullAnnotate(text)\n",
    "\n",
    "rel_df = get_relations_df (annotations)\n",
    "\n",
    "rel_df.confidence = rel_df.confidence.astype(float)\n",
    "\n",
    "rel_df = rel_df[(rel_df.relation!=\"O\")]\n",
    "\n",
    "rel_df[(rel_df.relation!=\"O\")&(rel_df.entity1!=rel_df.entity2)]\n"
   ]
  },
  {
   "cell_type": "code",
   "execution_count": 47,
   "metadata": {
    "colab": {
     "base_uri": "https://localhost:8080/",
     "height": 360
    },
    "colab_type": "code",
    "id": "9zpPqbgGHTFI",
    "outputId": "f3d65a0a-17fa-4849-d67d-47c1930a676c"
   },
   "outputs": [
    {
     "data": {
      "text/html": [
       "<div>\n",
       "<style scoped>\n",
       "    .dataframe tbody tr th:only-of-type {\n",
       "        vertical-align: middle;\n",
       "    }\n",
       "\n",
       "    .dataframe tbody tr th {\n",
       "        vertical-align: top;\n",
       "    }\n",
       "\n",
       "    .dataframe thead th {\n",
       "        text-align: right;\n",
       "    }\n",
       "</style>\n",
       "<table border=\"1\" class=\"dataframe\">\n",
       "  <thead>\n",
       "    <tr style=\"text-align: right;\">\n",
       "      <th></th>\n",
       "      <th>relation</th>\n",
       "      <th>entity1</th>\n",
       "      <th>entity1_begin</th>\n",
       "      <th>entity1_end</th>\n",
       "      <th>chunk1</th>\n",
       "      <th>entity2</th>\n",
       "      <th>entity2_begin</th>\n",
       "      <th>entity2_end</th>\n",
       "      <th>chunk2</th>\n",
       "      <th>confidence</th>\n",
       "    </tr>\n",
       "  </thead>\n",
       "  <tbody>\n",
       "    <tr>\n",
       "      <th>0</th>\n",
       "      <td>AFTER</td>\n",
       "      <td>OCCURRENCE</td>\n",
       "      <td>7</td>\n",
       "      <td>14</td>\n",
       "      <td>admitted</td>\n",
       "      <td>CLINICAL_DEPT</td>\n",
       "      <td>19</td>\n",
       "      <td>43</td>\n",
       "      <td>The John Hopkins Hospital</td>\n",
       "      <td>0.991467</td>\n",
       "    </tr>\n",
       "    <tr>\n",
       "      <th>1</th>\n",
       "      <td>BEFORE</td>\n",
       "      <td>OCCURRENCE</td>\n",
       "      <td>7</td>\n",
       "      <td>14</td>\n",
       "      <td>admitted</td>\n",
       "      <td>PROBLEM</td>\n",
       "      <td>74</td>\n",
       "      <td>102</td>\n",
       "      <td>gestational diabetes mellitus</td>\n",
       "      <td>0.999989</td>\n",
       "    </tr>\n",
       "    <tr>\n",
       "      <th>2</th>\n",
       "      <td>OVERLAP</td>\n",
       "      <td>CLINICAL_DEPT</td>\n",
       "      <td>19</td>\n",
       "      <td>43</td>\n",
       "      <td>The John Hopkins Hospital</td>\n",
       "      <td>DATE</td>\n",
       "      <td>45</td>\n",
       "      <td>54</td>\n",
       "      <td>2 days ago</td>\n",
       "      <td>0.999306</td>\n",
       "    </tr>\n",
       "    <tr>\n",
       "      <th>3</th>\n",
       "      <td>BEFORE</td>\n",
       "      <td>CLINICAL_DEPT</td>\n",
       "      <td>19</td>\n",
       "      <td>43</td>\n",
       "      <td>The John Hopkins Hospital</td>\n",
       "      <td>PROBLEM</td>\n",
       "      <td>74</td>\n",
       "      <td>102</td>\n",
       "      <td>gestational diabetes mellitus</td>\n",
       "      <td>0.996808</td>\n",
       "    </tr>\n",
       "    <tr>\n",
       "      <th>4</th>\n",
       "      <td>OVERLAP</td>\n",
       "      <td>CLINICAL_DEPT</td>\n",
       "      <td>133</td>\n",
       "      <td>157</td>\n",
       "      <td>the endocrinology service</td>\n",
       "      <td>DATE</td>\n",
       "      <td>185</td>\n",
       "      <td>194</td>\n",
       "      <td>03/02/2018</td>\n",
       "      <td>0.999964</td>\n",
       "    </tr>\n",
       "    <tr>\n",
       "      <th>5</th>\n",
       "      <td>OVERLAP</td>\n",
       "      <td>OCCURRENCE</td>\n",
       "      <td>171</td>\n",
       "      <td>180</td>\n",
       "      <td>discharged</td>\n",
       "      <td>DATE</td>\n",
       "      <td>185</td>\n",
       "      <td>194</td>\n",
       "      <td>03/02/2018</td>\n",
       "      <td>1.000000</td>\n",
       "    </tr>\n",
       "    <tr>\n",
       "      <th>6</th>\n",
       "      <td>AFTER</td>\n",
       "      <td>OCCURRENCE</td>\n",
       "      <td>171</td>\n",
       "      <td>180</td>\n",
       "      <td>discharged</td>\n",
       "      <td>TREATMENT</td>\n",
       "      <td>211</td>\n",
       "      <td>226</td>\n",
       "      <td>insulin glargine</td>\n",
       "      <td>0.999233</td>\n",
       "    </tr>\n",
       "    <tr>\n",
       "      <th>7</th>\n",
       "      <td>AFTER</td>\n",
       "      <td>OCCURRENCE</td>\n",
       "      <td>171</td>\n",
       "      <td>180</td>\n",
       "      <td>discharged</td>\n",
       "      <td>TREATMENT</td>\n",
       "      <td>242</td>\n",
       "      <td>255</td>\n",
       "      <td>insulin lispro</td>\n",
       "      <td>0.997469</td>\n",
       "    </tr>\n",
       "    <tr>\n",
       "      <th>8</th>\n",
       "      <td>OVERLAP</td>\n",
       "      <td>DATE</td>\n",
       "      <td>185</td>\n",
       "      <td>194</td>\n",
       "      <td>03/02/2018</td>\n",
       "      <td>TREATMENT</td>\n",
       "      <td>211</td>\n",
       "      <td>226</td>\n",
       "      <td>insulin glargine</td>\n",
       "      <td>0.999975</td>\n",
       "    </tr>\n",
       "    <tr>\n",
       "      <th>9</th>\n",
       "      <td>OVERLAP</td>\n",
       "      <td>DATE</td>\n",
       "      <td>185</td>\n",
       "      <td>194</td>\n",
       "      <td>03/02/2018</td>\n",
       "      <td>TREATMENT</td>\n",
       "      <td>242</td>\n",
       "      <td>255</td>\n",
       "      <td>insulin lispro</td>\n",
       "      <td>0.999682</td>\n",
       "    </tr>\n",
       "    <tr>\n",
       "      <th>10</th>\n",
       "      <td>OVERLAP</td>\n",
       "      <td>TREATMENT</td>\n",
       "      <td>262</td>\n",
       "      <td>270</td>\n",
       "      <td>metformin</td>\n",
       "      <td>FREQUENCY</td>\n",
       "      <td>280</td>\n",
       "      <td>294</td>\n",
       "      <td>two times a day</td>\n",
       "      <td>1.000000</td>\n",
       "    </tr>\n",
       "  </tbody>\n",
       "</table>\n",
       "</div>"
      ],
      "text/plain": [
       "   relation        entity1  ...                         chunk2 confidence\n",
       "0     AFTER     OCCURRENCE  ...      The John Hopkins Hospital   0.991467\n",
       "1    BEFORE     OCCURRENCE  ...  gestational diabetes mellitus   0.999989\n",
       "2   OVERLAP  CLINICAL_DEPT  ...                     2 days ago   0.999306\n",
       "3    BEFORE  CLINICAL_DEPT  ...  gestational diabetes mellitus   0.996808\n",
       "4   OVERLAP  CLINICAL_DEPT  ...                     03/02/2018   0.999964\n",
       "5   OVERLAP     OCCURRENCE  ...                     03/02/2018   1.000000\n",
       "6     AFTER     OCCURRENCE  ...               insulin glargine   0.999233\n",
       "7     AFTER     OCCURRENCE  ...                 insulin lispro   0.997469\n",
       "8   OVERLAP           DATE  ...               insulin glargine   0.999975\n",
       "9   OVERLAP           DATE  ...                 insulin lispro   0.999682\n",
       "10  OVERLAP      TREATMENT  ...                two times a day   1.000000\n",
       "\n",
       "[11 rows x 10 columns]"
      ]
     },
     "execution_count": 47,
     "metadata": {
      "tags": []
     },
     "output_type": "execute_result"
    }
   ],
   "source": [
    "text =\"\"\"She is admitted to The John Hopkins Hospital 2 days ago with a history of gestational diabetes mellitus diagnosed.  \n",
    "She was seen by the endocrinology service and she was discharged on 03/02/2018 on 40 units of insulin glargine, \n",
    "12 units of insulin lispro, and metformin 1000 mg two times a day. She had close follow-up with endocrinology post discharge. \n",
    "\"\"\"\n",
    "\n",
    "annotations = loaded_lmodel.fullAnnotate(text)\n",
    "\n",
    "rel_df = get_relations_df (annotations)\n",
    "\n",
    "rel_df.confidence = rel_df.confidence.astype(float)\n",
    "\n",
    "rel_df[(rel_df.relation!=\"O\")]\n"
   ]
  },
  {
   "cell_type": "markdown",
   "metadata": {
    "colab_type": "text",
    "id": "H15M7SBnEMsM"
   },
   "source": [
    "# Train a Relation Extraction Model"
   ]
  },
  {
   "cell_type": "code",
   "execution_count": 25,
   "metadata": {
    "colab": {
     "base_uri": "https://localhost:8080/",
     "height": 280
    },
    "colab_type": "code",
    "id": "rYLFjUJLEMsN",
    "outputId": "c667defd-1fa2-4b41-95d2-e3f79046e6c7"
   },
   "outputs": [
    {
     "name": "stdout",
     "output_type": "stream",
     "text": [
      "+--------------------+-------------+-------------+------------+------------+--------------------+--------------------+---------+-------+-----+-------+\n",
      "|            sentence|firstCharEnt1|firstCharEnt2|lastCharEnt1|lastCharEnt2|              chunk1|              chunk2|   label1| label2|  rel|dataset|\n",
      "+--------------------+-------------+-------------+------------+------------+--------------------+--------------------+---------+-------+-----+-------+\n",
      "|# BRBPR -- The pa...|            2|           60|           6|          77|               brbpr|  his lower gi bleed|  problem|problem|    O|   test|\n",
      "|An angiography sh...|            1|           22|          14|          44|      an angiography|bleeding in two v...|     test|problem| TeRP|   test|\n",
      "|His coumadin was ...|            1|           44|          12|          58|        his coumadin|     his acute bleed|treatment|problem|TrNAP|   test|\n",
      "|- The patient und...|           24|           78|          43|         106|a flex sigmoidoscopy|old blood in the ...|     test|problem| TeRP|   test|\n",
      "|- The patient und...|           24|          115|          43|         139|a flex sigmoidoscopy|active source of ...|     test|problem| TeRP|   test|\n",
      "|Given this , it w...|           50|           84|          62|          91|       a colonoscopy|            bleeding|     test|problem| TeCP|   test|\n",
      "|Therefore , he ha...|           71|           88|          83|         114|       mucosal signs|moderate ulcerati...|  problem|problem|  PIP|   test|\n",
      "|Therefore , he ha...|           19|           71|          38|          83|a repeat colonoscopy|       mucosal signs|     test|problem| TeRP|   test|\n",
      "|Therefore , he ha...|           19|           88|          38|         114|a repeat colonoscopy|moderate ulcerati...|     test|problem| TeRP|   test|\n",
      "|Therefore , he ha...|           19|          133|          38|         199|a repeat colonoscopy|8 mm ulcer at jun...|     test|problem| TeRP|   test|\n",
      "+--------------------+-------------+-------------+------------+------------+--------------------+--------------------+---------+-------+-----+-------+\n",
      "only showing top 10 rows\n",
      "\n"
     ]
    }
   ],
   "source": [
    "\n",
    "data = spark.read.option(\"header\",\"true\").format(\"csv\").load(\"i2b2_clinical_relfeatures.csv\")\n",
    "\n",
    "data = data.select( 'sentence','firstCharEnt1','firstCharEnt2','lastCharEnt1','lastCharEnt2', \"chunk1\", \"chunk2\", \"label1\", \"label2\",'rel','dataset')\n",
    "\n",
    "data.show(10)\n",
    "\n",
    "# you only need these columns>> 'sentence','firstCharEnt1','firstCharEnt2','lastCharEnt1','lastCharEnt2', \"chunk1\", \"chunk2\", \"label1\", \"label2\",'rel'\n",
    "# ('dataset' column is optional)"
   ]
  },
  {
   "cell_type": "code",
   "execution_count": 27,
   "metadata": {
    "colab": {
     "base_uri": "https://localhost:8080/",
     "height": 132
    },
    "colab_type": "code",
    "id": "OarAr_EryZDe",
    "outputId": "c244c4f7-3932-45f1-d487-4076646e70c0"
   },
   "outputs": [
    {
     "name": "stdout",
     "output_type": "stream",
     "text": [
      "+-------+-----+\n",
      "|dataset|count|\n",
      "+-------+-----+\n",
      "|  train| 5489|\n",
      "|   test|10721|\n",
      "+-------+-----+\n",
      "\n"
     ]
    }
   ],
   "source": [
    "data.groupby('dataset').count().show()"
   ]
  },
  {
   "cell_type": "code",
   "execution_count": 9,
   "metadata": {
    "colab": {},
    "colab_type": "code",
    "id": "BeahQHQ_gAu6"
   },
   "outputs": [],
   "source": [
    "#Annotation structure\n",
    "annotationType = T.StructType([\n",
    "            T.StructField('annotatorType', T.StringType(), False),\n",
    "            T.StructField('begin', T.IntegerType(), False),\n",
    "            T.StructField('end', T.IntegerType(), False),\n",
    "            T.StructField('result', T.StringType(), False),\n",
    "            T.StructField('metadata', T.MapType(T.StringType(), T.StringType()), False),\n",
    "            T.StructField('embeddings', T.ArrayType(T.FloatType()), False)\n",
    "        ])\n",
    "\n",
    "#UDF function to convert train data to names entitities\n",
    "\n",
    "@F.udf(T.ArrayType(annotationType))\n",
    "def createTrainAnnotations(begin1, end1, begin2, end2, chunk1, chunk2, label1, label2):\n",
    "    \n",
    "    entity1 = sparknlp.annotation.Annotation(\"chunk\", begin1, end1, chunk1, {'entity': label1.upper(), 'sentence': '0'}, [])\n",
    "    entity2 = sparknlp.annotation.Annotation(\"chunk\", begin2, end2, chunk2, {'entity': label2.upper(), 'sentence': '0'}, [])    \n",
    "        \n",
    "    entity1.annotatorType = \"chunk\"\n",
    "    entity2.annotatorType = \"chunk\"\n",
    "\n",
    "    return [entity1, entity2]    \n",
    "\n",
    "#list of valid relations\n",
    "rels = [\"TrIP\", \"TrAP\", \"TeCP\", \"TrNAP\", \"TrCP\", \"PIP\", \"TrWP\", \"TeRP\"]\n",
    "\n",
    "#a query to select list of valid relations\n",
    "valid_rel_query = \"(\" + \" OR \".join([\"rel = '{}'\".format(rel) for rel in rels]) + \")\"\n",
    "\n",
    "data = data\\\n",
    "  .withColumn(\"begin1i\", F.expr(\"cast(firstCharEnt1 AS Int)\"))\\\n",
    "  .withColumn(\"end1i\", F.expr(\"cast(lastCharEnt1 AS Int)\"))\\\n",
    "  .withColumn(\"begin2i\", F.expr(\"cast(firstCharEnt2 AS Int)\"))\\\n",
    "  .withColumn(\"end2i\", F.expr(\"cast(lastCharEnt2 AS Int)\"))\\\n",
    "  .where(\"begin1i IS NOT NULL\")\\\n",
    "  .where(\"end1i IS NOT NULL\")\\\n",
    "  .where(\"begin2i IS NOT NULL\")\\\n",
    "  .where(\"end2i IS NOT NULL\")\\\n",
    "  .where(valid_rel_query)\\\n",
    "  .withColumn(\n",
    "      \"train_ner_chunks\", \n",
    "      createTrainAnnotations(\n",
    "          \"begin1i\", \"end1i\", \"begin2i\", \"end2i\", \"chunk1\", \"chunk2\", \"label1\", \"label2\"\n",
    "      ).alias(\"train_ner_chunks\", metadata={'annotatorType': \"chunk\"}))\n",
    "    \n",
    "data = data.filter(data.label1!='')\n",
    "data = data.filter(data.label2!='')\n",
    "\n",
    "train_data = data.where(\"dataset='train'\")\n",
    "test_data = data.where(\"dataset='test'\")"
   ]
  },
  {
   "cell_type": "code",
   "execution_count": null,
   "metadata": {},
   "outputs": [],
   "source": [
    "!wget https://raw.githubusercontent.com/JohnSnowLabs/spark-nlp-workshop/master/tutorials/Certification_Trainings/Healthcare/generic_classifier_graph/RE_in1200D_out20.pb"
   ]
  },
  {
   "cell_type": "code",
   "execution_count": 11,
   "metadata": {
    "colab": {
     "base_uri": "https://localhost:8080/",
     "height": 165
    },
    "colab_type": "code",
    "id": "9bv8j-tgEMsX",
    "outputId": "d19e261f-1843-43ce-e43c-cee647c00877"
   },
   "outputs": [
    {
     "name": "stdout",
     "output_type": "stream",
     "text": [
      "embeddings_clinical download started this may take some time.\n",
      "Approximate size to download 1.6 GB\n",
      "[OK!]\n",
      "pos_clinical download started this may take some time.\n",
      "Approximate size to download 1.7 MB\n",
      "[OK!]\n",
      "dependency_conllu download started this may take some time.\n",
      "Approximate size to download 16.6 MB\n",
      "[OK!]\n"
     ]
    }
   ],
   "source": [
    "documenter = sparknlp.DocumentAssembler()\\\n",
    "    .setInputCol(\"text\")\\\n",
    "    .setOutputCol(\"sentences\")\n",
    "\n",
    "tokenizer = sparknlp.annotators.Tokenizer()\\\n",
    "    .setInputCols([\"sentences\"])\\\n",
    "    .setOutputCol(\"tokens\")\\\n",
    "\n",
    "words_embedder = WordEmbeddingsModel()\\\n",
    "    .pretrained(\"embeddings_clinical\", \"en\", \"clinical/models\")\\\n",
    "    .setInputCols([\"sentences\", \"tokens\"])\\\n",
    "    .setOutputCol(\"embeddings\")\n",
    "\n",
    "pos_tagger = PerceptronModel()\\\n",
    "    .pretrained(\"pos_clinical\", \"en\", \"clinical/models\") \\\n",
    "    .setInputCols([\"sentences\", \"tokens\"])\\\n",
    "    .setOutputCol(\"pos_tags\")\n",
    "    \n",
    "dependency_parser = sparknlp.annotators.DependencyParserModel()\\\n",
    "    .pretrained(\"dependency_conllu\", \"en\")\\\n",
    "    .setInputCols([\"sentences\", \"pos_tags\", \"tokens\"])\\\n",
    "    .setOutputCol(\"dependencies\")\n",
    "\n",
    "# set training params and upload model graph (see ../Healthcare/8.Generic_Classifier.ipynb)\n",
    "reApproach = sparknlp_jsl.annotator.RelationExtractionApproach()\\\n",
    "    .setInputCols([\"embeddings\", \"pos_tags\", \"train_ner_chunks\", \"dependencies\"])\\\n",
    "    .setOutputCol(\"relations\")\\\n",
    "    .setLabelColumn(\"rel\")\\\n",
    "    .setEpochsNumber(50)\\\n",
    "    .setBatchSize(200)\\\n",
    "    .setDropout(0.5)\\\n",
    "    .setLearningRate(0.001)\\\n",
    "    .setModelFile(\"/content/RE_in1200D_out20.pb\")\\\n",
    "    .setFixImbalance(True)\\\n",
    "    .setFromEntity(\"begin1i\", \"end1i\", \"label1\")\\\n",
    "    .setToEntity(\"begin2i\", \"end2i\", \"label2\")\\\n",
    "    .setOutputLogsPath('/content')\n",
    "\n",
    "finisher = sparknlp.Finisher()\\\n",
    "    .setInputCols([\"relations\"])\\\n",
    "    .setOutputCols([\"relations_out\"])\\\n",
    "    .setCleanAnnotations(False)\\\n",
    "    .setValueSplitSymbol(\",\")\\\n",
    "    .setAnnotationSplitSymbol(\",\")\\\n",
    "    .setOutputAsArray(False)\n",
    "\n",
    "train_pipeline = Pipeline(stages=[\n",
    "    documenter, tokenizer, words_embedder, pos_tagger, \n",
    "    dependency_parser, reApproach, finisher\n",
    "])"
   ]
  },
  {
   "cell_type": "code",
   "execution_count": 12,
   "metadata": {
    "colab": {
     "base_uri": "https://localhost:8080/",
     "height": 49
    },
    "colab_type": "code",
    "id": "20A4L2nWEMsg",
    "outputId": "d66609ba-5187-464d-fd59-4729adfbc915"
   },
   "outputs": [
    {
     "name": "stdout",
     "output_type": "stream",
     "text": [
      "CPU times: user 177 ms, sys: 35.2 ms, total: 212 ms\n",
      "Wall time: 14min 24s\n"
     ]
    }
   ],
   "source": [
    "%time rel_model = train_pipeline.fit(train_data)"
   ]
  },
  {
   "cell_type": "code",
   "execution_count": 23,
   "metadata": {
    "colab": {
     "base_uri": "https://localhost:8080/",
     "height": 33
    },
    "colab_type": "code",
    "id": "raThuIwTkNWN",
    "outputId": "ac2ff98c-1dec-437a-eff0-f1da496bc453"
   },
   "outputs": [
    {
     "data": {
      "text/plain": [
       "RelationExtractionModel_07995696a2d4"
      ]
     },
     "execution_count": 23,
     "metadata": {
      "tags": []
     },
     "output_type": "execute_result"
    }
   ],
   "source": [
    "rel_model.stages[-2]"
   ]
  },
  {
   "cell_type": "code",
   "execution_count": 13,
   "metadata": {
    "colab": {},
    "colab_type": "code",
    "id": "RSijJwEWkOSk"
   },
   "outputs": [],
   "source": [
    "rel_model.stages[-2].write().overwrite().save('custom_RE_model')"
   ]
  },
  {
   "cell_type": "code",
   "execution_count": 13,
   "metadata": {
    "colab": {},
    "colab_type": "code",
    "id": "oIieSDdUgrZ1"
   },
   "outputs": [],
   "source": [
    "result = rel_model.transform(test_data)"
   ]
  },
  {
   "cell_type": "code",
   "execution_count": null,
   "metadata": {
    "colab": {
     "base_uri": "https://localhost:8080/",
     "height": 454
    },
    "colab_type": "code",
    "id": "NZkHEQ8Kjo1G",
    "outputId": "5ec6b9bb-8ab5-4acc-ca0e-bdfea7fc179b"
   },
   "outputs": [
    {
     "name": "stdout",
     "output_type": "stream",
     "text": [
      "+--------+------+\n",
      "|relation|recall|\n",
      "+--------+------+\n",
      "|    TrIP|  0.20|\n",
      "|    TrAP|  0.93|\n",
      "|    TeCP|  0.53|\n",
      "|   TrNAP|  0.14|\n",
      "|    TrCP|  0.50|\n",
      "|     PIP|  0.96|\n",
      "|    TrWP|  0.03|\n",
      "|    TeRP|  0.92|\n",
      "+--------+------+\n",
      "\n",
      "+--------+---------+\n",
      "|relation|precision|\n",
      "+--------+---------+\n",
      "|    TrIP|     0.61|\n",
      "|    TrAP|     0.79|\n",
      "|    TeCP|     0.59|\n",
      "|   TrNAP|     0.41|\n",
      "|    TrCP|     0.62|\n",
      "|     PIP|     0.98|\n",
      "|    TrWP|     0.18|\n",
      "|    TeRP|     0.90|\n",
      "+--------+---------+\n",
      "\n"
     ]
    }
   ],
   "source": [
    "recall = result\\\n",
    "  .groupBy(\"rel\")\\\n",
    "  .agg(F.avg(F.expr(\"IF(rel = relations_out, 1, 0)\")).alias(\"recall\"))\\\n",
    "  .select(\n",
    "      F.col(\"rel\").alias(\"relation\"), \n",
    "      F.format_number(\"recall\", 2).alias(\"recall\"))\\\n",
    "  .show()\n",
    "\n",
    "performance  = result\\\n",
    "  .where(\"relations_out <> ''\")\\\n",
    "  .groupBy(\"relations_out\")\\\n",
    "  .agg(F.avg(F.expr(\"IF(rel = relations_out, 1, 0)\")).alias(\"precision\"))\\\n",
    "  .select(\n",
    "      F.col(\"relations_out\").alias(\"relation\"), \n",
    "      F.format_number(\"precision\", 2).alias(\"precision\"))\\\n",
    "  .show()"
   ]
  },
  {
   "cell_type": "code",
   "execution_count": null,
   "metadata": {
    "colab": {},
    "colab_type": "code",
    "id": "8HS4uBUBfeCP"
   },
   "outputs": [],
   "source": [
    "result_df = result.select(F.explode(F.arrays_zip('relations.result', 'relations.metadata')).alias(\"cols\")) \\\n",
    ".select(F.expr(\"cols['0']\").alias(\"relation\"),\n",
    "        F.expr(\"cols['1']['entity1']\").alias(\"entity1\"),\n",
    "        F.expr(\"cols['1']['entity1_begin']\").alias(\"entity1_begin\"),\n",
    "        F.expr(\"cols['1']['entity1_end']\").alias(\"entity1_end\"),\n",
    "        F.expr(\"cols['1']['chunk1']\").alias(\"chunk1\"),\n",
    "        F.expr(\"cols['1']['entity2']\").alias(\"entity2\"),\n",
    "        F.expr(\"cols['1']['entity2_begin']\").alias(\"entity2_begin\"),\n",
    "        F.expr(\"cols['1']['entity2_end']\").alias(\"entity2_end\"),\n",
    "        F.expr(\"cols['1']['chunk2']\").alias(\"chunk2\"),\n",
    "        F.expr(\"cols['1']['confidence']\").alias(\"confidence\")\n",
    "        )\n",
    "\n",
    "result_df.show(50, truncate=100)\n",
    "\n"
   ]
  },
  {
   "cell_type": "markdown",
   "metadata": {
    "colab_type": "text",
    "id": "HakYb_W-mZSR"
   },
   "source": [
    "## Load trained model from disk"
   ]
  },
  {
   "cell_type": "code",
   "execution_count": 21,
   "metadata": {
    "colab": {},
    "colab_type": "code",
    "id": "PO5-oT-YqFMJ"
   },
   "outputs": [],
   "source": [
    "import pandas as pd\n",
    "\n",
    "def get_relations_df (results, col='relations'):\n",
    "  rel_pairs=[]\n",
    "  for rel in results[0][col]:\n",
    "      rel_pairs.append((\n",
    "          rel.result, \n",
    "          rel.metadata['entity1'], \n",
    "          rel.metadata['entity1_begin'],\n",
    "          rel.metadata['entity1_end'],\n",
    "          rel.metadata['chunk1'], \n",
    "          rel.metadata['entity2'],\n",
    "          rel.metadata['entity2_begin'],\n",
    "          rel.metadata['entity2_end'],\n",
    "          rel.metadata['chunk2'], \n",
    "          rel.metadata['confidence']\n",
    "      ))\n",
    "\n",
    "  rel_df = pd.DataFrame(rel_pairs, columns=['relation','entity1','entity1_begin','entity1_end','chunk1','entity2','entity2_begin','entity2_end','chunk2', 'confidence'])\n",
    "\n",
    "  return rel_df"
   ]
  },
  {
   "cell_type": "code",
   "execution_count": 39,
   "metadata": {
    "colab": {
     "base_uri": "https://localhost:8080/",
     "height": 295
    },
    "colab_type": "code",
    "id": "D8TtVuN-Ee8s",
    "outputId": "b5b7b981-a2c5-4eb8-8082-9e1b75036f45"
   },
   "outputs": [
    {
     "name": "stdout",
     "output_type": "stream",
     "text": [
      "re_clinical download started this may take some time.\n",
      "Approximate size to download 6 MB\n",
      "[OK!]\n"
     ]
    },
    {
     "data": {
      "text/html": [
       "<div>\n",
       "<style scoped>\n",
       "    .dataframe tbody tr th:only-of-type {\n",
       "        vertical-align: middle;\n",
       "    }\n",
       "\n",
       "    .dataframe tbody tr th {\n",
       "        vertical-align: top;\n",
       "    }\n",
       "\n",
       "    .dataframe thead th {\n",
       "        text-align: right;\n",
       "    }\n",
       "</style>\n",
       "<table border=\"1\" class=\"dataframe\">\n",
       "  <thead>\n",
       "    <tr style=\"text-align: right;\">\n",
       "      <th></th>\n",
       "      <th>relation</th>\n",
       "      <th>entity1</th>\n",
       "      <th>entity1_begin</th>\n",
       "      <th>entity1_end</th>\n",
       "      <th>chunk1</th>\n",
       "      <th>entity2</th>\n",
       "      <th>entity2_begin</th>\n",
       "      <th>entity2_end</th>\n",
       "      <th>chunk2</th>\n",
       "      <th>confidence</th>\n",
       "    </tr>\n",
       "  </thead>\n",
       "  <tbody>\n",
       "    <tr>\n",
       "      <th>6</th>\n",
       "      <td>TrAP</td>\n",
       "      <td>PROBLEM</td>\n",
       "      <td>617</td>\n",
       "      <td>620</td>\n",
       "      <td>T2DM</td>\n",
       "      <td>TREATMENT</td>\n",
       "      <td>626</td>\n",
       "      <td>637</td>\n",
       "      <td>atorvastatin</td>\n",
       "      <td>0.99955326</td>\n",
       "    </tr>\n",
       "    <tr>\n",
       "      <th>12</th>\n",
       "      <td>TrWP</td>\n",
       "      <td>TEST</td>\n",
       "      <td>1246</td>\n",
       "      <td>1258</td>\n",
       "      <td>blood samples</td>\n",
       "      <td>PROBLEM</td>\n",
       "      <td>1283</td>\n",
       "      <td>1301</td>\n",
       "      <td>significant lipemia</td>\n",
       "      <td>0.99998724</td>\n",
       "    </tr>\n",
       "    <tr>\n",
       "      <th>16</th>\n",
       "      <td>TeRP</td>\n",
       "      <td>TEST</td>\n",
       "      <td>1535</td>\n",
       "      <td>1547</td>\n",
       "      <td>the anion gap</td>\n",
       "      <td>PROBLEM</td>\n",
       "      <td>1553</td>\n",
       "      <td>1566</td>\n",
       "      <td>still elevated</td>\n",
       "      <td>0.9965193</td>\n",
       "    </tr>\n",
       "    <tr>\n",
       "      <th>22</th>\n",
       "      <td>TrAP</td>\n",
       "      <td>TEST</td>\n",
       "      <td>1838</td>\n",
       "      <td>1845</td>\n",
       "      <td>analysis</td>\n",
       "      <td>PROBLEM</td>\n",
       "      <td>1854</td>\n",
       "      <td>1880</td>\n",
       "      <td>interference from turbidity</td>\n",
       "      <td>0.9676019</td>\n",
       "    </tr>\n",
       "    <tr>\n",
       "      <th>26</th>\n",
       "      <td>TrWP</td>\n",
       "      <td>TREATMENT</td>\n",
       "      <td>1937</td>\n",
       "      <td>1951</td>\n",
       "      <td>an insulin drip</td>\n",
       "      <td>PROBLEM</td>\n",
       "      <td>1976</td>\n",
       "      <td>2003</td>\n",
       "      <td>a reduction in the anion gap</td>\n",
       "      <td>0.94099987</td>\n",
       "    </tr>\n",
       "    <tr>\n",
       "      <th>28</th>\n",
       "      <td>TeRP</td>\n",
       "      <td>PROBLEM</td>\n",
       "      <td>1976</td>\n",
       "      <td>2003</td>\n",
       "      <td>a reduction in the anion gap</td>\n",
       "      <td>TEST</td>\n",
       "      <td>2015</td>\n",
       "      <td>2027</td>\n",
       "      <td>triglycerides</td>\n",
       "      <td>0.9956793</td>\n",
       "    </tr>\n",
       "    <tr>\n",
       "      <th>29</th>\n",
       "      <td>TeRP</td>\n",
       "      <td>PROBLEM</td>\n",
       "      <td>2107</td>\n",
       "      <td>2137</td>\n",
       "      <td>her respiratory tract infection</td>\n",
       "      <td>TREATMENT</td>\n",
       "      <td>2157</td>\n",
       "      <td>2171</td>\n",
       "      <td>SGLT2 inhibitor</td>\n",
       "      <td>0.997498</td>\n",
       "    </tr>\n",
       "  </tbody>\n",
       "</table>\n",
       "</div>"
      ],
      "text/plain": [
       "   relation    entity1  ...                        chunk2  confidence\n",
       "6      TrAP    PROBLEM  ...                  atorvastatin  0.99955326\n",
       "12     TrWP       TEST  ...           significant lipemia  0.99998724\n",
       "16     TeRP       TEST  ...                still elevated   0.9965193\n",
       "22     TrAP       TEST  ...   interference from turbidity   0.9676019\n",
       "26     TrWP  TREATMENT  ...  a reduction in the anion gap  0.94099987\n",
       "28     TeRP    PROBLEM  ...                 triglycerides   0.9956793\n",
       "29     TeRP    PROBLEM  ...               SGLT2 inhibitor    0.997498\n",
       "\n",
       "[7 rows x 10 columns]"
      ]
     },
     "execution_count": 39,
     "metadata": {
      "tags": []
     },
     "output_type": "execute_result"
    }
   ],
   "source": [
    "loaded_re_Model = RelationExtractionModel()\\\n",
    "    .load(\"custom_RE_model')\\\n",
    "    .setInputCols([\"embeddings\", \"pos_tags\", \"ner_chunks\", \"dependencies\"]) \\\n",
    "    .setOutputCol(\"relations\")\\\n",
    "    .setRelationPairs([\"problem-test\", \"problem-treatment\"])\\\n",
    "    .setPredictionThreshold(0.9)\\\n",
    "    .setMaxSyntacticDistance(4)\n",
    "\n",
    "trained_pipeline = Pipeline(stages=[\n",
    "    documenter,\n",
    "    sentencer,\n",
    "    tokenizer, \n",
    "    words_embedder, \n",
    "    pos_tagger, \n",
    "    clinical_ner_tagger,\n",
    "    ner_chunker,\n",
    "    dependency_parser,\n",
    "    loaded_re_Model\n",
    "])\n",
    "\n",
    "empty_data = spark.createDataFrame([[\"\"]]).toDF(\"text\")\n",
    "\n",
    "loaded_re_model = trained_pipeline.fit(empty_data)\n",
    "\n",
    "\n",
    "text =\"\"\"A 28-year-old female with a history of gestational diabetes mellitus diagnosed eight years prior to presentation and subsequent type two diabetes mellitus ( T2DM ), \n",
    "one prior episode of HTG-induced pancreatitis three years prior to presentation,  associated with an acute hepatitis , and obesity with a body mass index ( BMI ) of 33.5 kg/m2 , presented with a one-week history of polyuria , polydipsia , poor appetite , and vomiting . Two weeks prior to presentation , she was treated with a five-day course of amoxicillin for a respiratory tract infection . She was on metformin , glipizide , and dapagliflozin for T2DM and atorvastatin and gemfibrozil for HTG . She had been on dapagliflozin for six months at the time of presentation. Physical examination on presentation was significant for dry oral mucosa ; significantly , her abdominal examination was benign with no tenderness , guarding , or rigidity . Pertinent laboratory findings on admission were : serum glucose 111 mg/dl , bicarbonate 18 mmol/l , anion gap 20 , creatinine 0.4 mg/dL , triglycerides 508 mg/dL , total cholesterol 122 mg/dL , glycated hemoglobin ( HbA1c ) 10% , and venous pH 7.27 . Serum lipase was normal at 43 U/L . Serum acetone levels could not be assessed as blood samples kept hemolyzing due to significant lipemia . The patient was initially admitted for starvation ketosis , as she reported poor oral intake for three days prior to admission . However , serum chemistry obtained six hours after presentation revealed her glucose was 186 mg/dL , the anion gap was still elevated at 21 , serum bicarbonate was 16 mmol/L , triglyceride level peaked at 2050 mg/dL , and lipase was 52 U/L . The β-hydroxybutyrate level was obtained and found to be elevated at 5.29 mmol/L - the original sample was centrifuged and the chylomicron layer removed prior to analysis due to interference from turbidity caused by lipemia again . The patient was treated with an insulin drip for euDKA and HTG with a reduction in the anion gap to 13 and triglycerides to 1400 mg/dL , within 24 hours . Her euDKA was thought to be precipitated by her respiratory tract infection in the setting of SGLT2 inhibitor use . The patient was seen by the endocrinology service and she was discharged on 40 units of insulin glargine at night , 12 units of insulin lispro with meals , and metformin 1000 mg two times a day . It was determined that all SGLT2 inhibitors should be discontinued indefinitely . \n",
    "She had close follow-up with endocrinology post discharge .\n",
    "\"\"\"\n",
    "\n",
    "loaded_re_model_light = LightPipeline(loaded_re_model)\n",
    "\n",
    "annotations = loaded_re_model_light.fullAnnotate(text)\n",
    "\n",
    "rel_df = get_relations_df (annotations)\n",
    "\n",
    "rel_df[rel_df.relation!=\"O\"]\n"
   ]
  },
  {
   "cell_type": "code",
   "execution_count": null,
   "metadata": {
    "colab": {},
    "colab_type": "code",
    "id": "J0UsXRIgMT99"
   },
   "outputs": [],
   "source": []
  }
 ],
 "metadata": {
  "colab": {
   "name": "10.Clinical_Relation_Extraction.ipynb Fixed",
   "provenance": []
  },
  "kernelspec": {
   "display_name": "Python 3",
   "language": "python",
   "name": "python3"
  },
  "language_info": {
   "codemirror_mode": {
    "name": "ipython",
    "version": 3
   },
   "file_extension": ".py",
   "mimetype": "text/x-python",
   "name": "python",
   "nbconvert_exporter": "python",
   "pygments_lexer": "ipython3",
   "version": "3.7.4"
  },
  "name": "10.Clinical_Relation_Extraction",
  "notebookId": 781554605447210,
  "toc": {
   "base_numbering": 1,
   "nav_menu": {},
   "number_sections": true,
   "sideBar": true,
   "skip_h1_title": false,
   "title_cell": "Table of Contents",
   "title_sidebar": "Contents",
   "toc_cell": false,
   "toc_position": {},
   "toc_section_display": true,
   "toc_window_display": false
  },
  "varInspector": {
   "cols": {
    "lenName": 16,
    "lenType": 16,
    "lenVar": 40
   },
   "kernels_config": {
    "python": {
     "delete_cmd_postfix": "",
     "delete_cmd_prefix": "del ",
     "library": "var_list.py",
     "varRefreshCmd": "print(var_dic_list())"
    },
    "r": {
     "delete_cmd_postfix": ") ",
     "delete_cmd_prefix": "rm(",
     "library": "var_list.r",
     "varRefreshCmd": "cat(var_dic_list()) "
    }
   },
   "types_to_exclude": [
    "module",
    "function",
    "builtin_function_or_method",
    "instance",
    "_Feature"
   ],
   "window_display": false
  }
 },
 "nbformat": 4,
 "nbformat_minor": 4
}
