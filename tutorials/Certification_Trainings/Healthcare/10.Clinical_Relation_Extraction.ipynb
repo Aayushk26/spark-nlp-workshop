{
  "nbformat": 4,
  "nbformat_minor": 0,
  "metadata": {
    "colab": {
      "name": "10.Clinical_Relation_Extraction.ipynb Fixed",
      "provenance": [],
      "toc_visible": true
    },
    "kernelspec": {
      "display_name": "Python 3",
      "language": "python",
      "name": "python3"
    },
    "language_info": {
      "codemirror_mode": {
        "name": "ipython",
        "version": 3
      },
      "file_extension": ".py",
      "mimetype": "text/x-python",
      "name": "python",
      "nbconvert_exporter": "python",
      "pygments_lexer": "ipython3",
      "version": "3.7.4"
    },
    "name": "10.Clinical_Relation_Extraction",
    "notebookId": 781554605447210,
    "toc": {
      "base_numbering": 1,
      "nav_menu": {},
      "number_sections": true,
      "sideBar": true,
      "skip_h1_title": false,
      "title_cell": "Table of Contents",
      "title_sidebar": "Contents",
      "toc_cell": false,
      "toc_position": {},
      "toc_section_display": true,
      "toc_window_display": false
    },
    "varInspector": {
      "cols": {
        "lenName": 16,
        "lenType": 16,
        "lenVar": 40
      },
      "kernels_config": {
        "python": {
          "delete_cmd_postfix": "",
          "delete_cmd_prefix": "del ",
          "library": "var_list.py",
          "varRefreshCmd": "print(var_dic_list())"
        },
        "r": {
          "delete_cmd_postfix": ") ",
          "delete_cmd_prefix": "rm(",
          "library": "var_list.r",
          "varRefreshCmd": "cat(var_dic_list()) "
        }
      },
      "types_to_exclude": [
        "module",
        "function",
        "builtin_function_or_method",
        "instance",
        "_Feature"
      ],
      "window_display": false
    }
  },
  "cells": [
    {
      "cell_type": "markdown",
      "metadata": {
        "colab_type": "text",
        "id": "pFGiT_o1FJNH"
      },
      "source": [
        "![JohnSnowLabs](https://nlp.johnsnowlabs.com/assets/images/logo.png)"
      ]
    },
    {
      "cell_type": "markdown",
      "metadata": {
        "colab_type": "text",
        "id": "Df3b6PnyFz-A"
      },
      "source": [
        "[![Open In Colab](https://colab.research.google.com/assets/colab-badge.svg)](https://colab.research.google.com/github/JohnSnowLabs/spark-nlp-workshop/blob/master/tutorials/Certification_Trainings/Healthcare/10.Clinical_Relation_Extraction.ipynb)"
      ]
    },
    {
      "cell_type": "markdown",
      "metadata": {
        "colab_type": "text",
        "id": "OdkGRLgcFN1o"
      },
      "source": [
        "# Clinical Relation Extraction Model"
      ]
    },
    {
      "cell_type": "markdown",
      "metadata": {
        "colab_type": "text",
        "id": "4wdK8WtAF8ES"
      },
      "source": [
        "## Colab Setup"
      ]
    },
    {
      "cell_type": "code",
      "metadata": {
        "colab_type": "code",
        "id": "61uNqFkvF-UU",
        "colab": {
          "base_uri": "https://localhost:8080/",
          "height": 34
        },
        "outputId": "004be354-3834-4d06-8365-dc17131ab0c0"
      },
      "source": [
        "import json\n",
        "\n",
        "with open('workshop_license_keys_365.json') as f:\n",
        "    license_keys = json.load(f)\n",
        "\n",
        "license_keys.keys()\n"
      ],
      "execution_count": 1,
      "outputs": [
        {
          "output_type": "execute_result",
          "data": {
            "text/plain": [
              "dict_keys(['PUBLIC_VERSION', 'JSL_VERSION', 'SECRET', 'SPARK_NLP_LICENSE', 'AWS_ACCESS_KEY_ID', 'AWS_SECRET_ACCESS_KEY', 'SPARK_OCR_LICENSE', 'SPARK_OCR_SECRET'])"
            ]
          },
          "metadata": {
            "tags": []
          },
          "execution_count": 1
        }
      ]
    },
    {
      "cell_type": "code",
      "metadata": {
        "colab_type": "code",
        "id": "pEpCxhwLJUDB",
        "colab": {}
      },
      "source": [
        "import os\n",
        "\n",
        "# Install java\n",
        "! apt-get update -qq\n",
        "! apt-get install -y openjdk-8-jdk-headless -qq > /dev/null\n",
        "\n",
        "os.environ[\"JAVA_HOME\"] = \"/usr/lib/jvm/java-8-openjdk-amd64\"\n",
        "os.environ[\"PATH\"] = os.environ[\"JAVA_HOME\"] + \"/bin:\" + os.environ[\"PATH\"]\n",
        "! java -version\n",
        "\n",
        "secret = license_keys['SECRET']\n",
        "\n",
        "os.environ['SPARK_NLP_LICENSE'] = license_keys['SPARK_NLP_LICENSE']\n",
        "os.environ['AWS_ACCESS_KEY_ID']= license_keys['AWS_ACCESS_KEY_ID']\n",
        "os.environ['AWS_SECRET_ACCESS_KEY'] = license_keys['AWS_SECRET_ACCESS_KEY']\n",
        "version = license_keys['PUBLIC_VERSION']\n",
        "jsl_version = license_keys['JSL_VERSION']\n",
        "\n",
        "! pip install --ignore-installed -q pyspark==2.4.4\n",
        "\n",
        "! python -m pip install --upgrade spark-nlp-jsl==$jsl_version  --extra-index-url https://pypi.johnsnowlabs.com/$secret\n",
        "\n",
        "! pip install --ignore-installed -q spark-nlp==$version\n",
        "\n",
        "import sparknlp\n",
        "\n",
        "print (sparknlp.version())\n",
        "\n",
        "import json\n",
        "import os\n",
        "from pyspark.ml import Pipeline\n",
        "from pyspark.sql import SparkSession\n",
        "\n",
        "from sparknlp.annotator import *\n",
        "from sparknlp_jsl.annotator import *\n",
        "from sparknlp.base import *\n",
        "import sparknlp_jsl\n",
        "\n",
        "spark = sparknlp_jsl.start(secret)"
      ],
      "execution_count": null,
      "outputs": []
    },
    {
      "cell_type": "markdown",
      "metadata": {
        "colab_type": "text",
        "id": "dhScin3AEqYF"
      },
      "source": [
        "## 1. Posology Releation Extraction\n",
        "\n",
        "This is a demonstration of using SparkNLP for extracting posology relations. The following relatios are supported:\n",
        "\n",
        "DRUG-DOSAGE\n",
        "DRUG-FREQUENCY\n",
        "DRUG-ADE (Adversed Drug Events)\n",
        "DRUG-FORM\n",
        "DRUG-ROUTE\n",
        "DRUG-DURATION\n",
        "DRUG-REASON\n",
        "DRUG=STRENGTH\n",
        "\n",
        "The model has been validated agains the posology dataset described in (Magge, Scotch, & Gonzalez-Hernandez, 2018).\n",
        "\n",
        "| Relation | Recall | Precision | F1 | F1 (Magge, Scotch, & Gonzalez-Hernandez, 2018) |\n",
        "| --- | --- | --- | --- | --- |\n",
        "| DRUG-ADE | 0.66 | 1.00 | **0.80** | 0.76 |\n",
        "| DRUG-DOSAGE | 0.89 | 1.00 | **0.94** | 0.91 |\n",
        "| DRUG-DURATION | 0.75 | 1.00 | **0.85** | 0.92 |\n",
        "| DRUG-FORM | 0.88 | 1.00 | **0.94** | 0.95* |\n",
        "| DRUG-FREQUENCY | 0.79 | 1.00 | **0.88** | 0.90 |\n",
        "| DRUG-REASON | 0.60 | 1.00 | **0.75** | 0.70 |\n",
        "| DRUG-ROUTE | 0.79 | 1.00 | **0.88** | 0.95* |\n",
        "| DRUG-STRENGTH | 0.95 | 1.00 | **0.98** | 0.97 |\n",
        "\n",
        "\n",
        "*Magge, Scotch, Gonzalez-Hernandez (2018) collapsed DRUG-FORM and DRUG-ROUTE into a single relation."
      ]
    },
    {
      "cell_type": "code",
      "metadata": {
        "ExecuteTime": {
          "end_time": "2020-07-31T14:18:58.500653Z",
          "start_time": "2020-07-31T14:18:58.219349Z"
        },
        "colab_type": "code",
        "id": "zmWTG-whEMrU",
        "run_control": {
          "marked": true
        },
        "colab": {}
      },
      "source": [
        "import os\n",
        "import re\n",
        "import pyspark\n",
        "import sparknlp\n",
        "import sparknlp_jsl\n",
        "import functools \n",
        "import json\n",
        "\n",
        "import numpy as np\n",
        "from scipy import spatial\n",
        "import pyspark.sql.functions as F\n",
        "import pyspark.sql.types as T\n",
        "from pyspark.sql import SparkSession\n",
        "from pyspark.ml import Pipeline\n",
        "from sparknlp_jsl.annotator import *\n",
        "from sparknlp.annotator import *\n",
        "from sparknlp.base import *\n"
      ],
      "execution_count": 3,
      "outputs": []
    },
    {
      "cell_type": "markdown",
      "metadata": {
        "colab_type": "text",
        "id": "o8PsjbmpEMrb"
      },
      "source": [
        "**Build pipeline using SparNLP pretrained models and the relation extration model optimized for posology**.\n",
        " \n",
        " The precision of the RE model is controlled by \"setMaxSyntacticDistance(4)\", which sets the maximum syntactic distance between named entities to 4. A larger value will improve recall at the expense at lower precision. A value of 4 leads to literally perfect precision (i.e. the model doesn't produce any false positives) and reasonably good recall."
      ]
    },
    {
      "cell_type": "code",
      "metadata": {
        "ExecuteTime": {
          "end_time": "2020-07-31T14:19:37.196164Z",
          "start_time": "2020-07-31T14:19:09.356386Z"
        },
        "colab_type": "code",
        "id": "4fNDGSBaEMrb",
        "run_control": {
          "marked": false
        },
        "colab": {
          "base_uri": "https://localhost:8080/",
          "height": 272
        },
        "outputId": "6785d846-5ce5-4604-d3ae-abbe344b6c84"
      },
      "source": [
        "documenter = DocumentAssembler()\\\n",
        "    .setInputCol(\"text\")\\\n",
        "    .setOutputCol(\"document\")\n",
        "\n",
        "sentencer = SentenceDetector()\\\n",
        "    .setInputCols([\"document\"])\\\n",
        "    .setOutputCol(\"sentences\")\n",
        "\n",
        "tokenizer = sparknlp.annotators.Tokenizer()\\\n",
        "    .setInputCols([\"sentences\"])\\\n",
        "    .setOutputCol(\"tokens\")\n",
        "\n",
        "words_embedder = WordEmbeddingsModel()\\\n",
        "    .pretrained(\"embeddings_clinical\", \"en\", \"clinical/models\")\\\n",
        "    .setInputCols([\"sentences\", \"tokens\"])\\\n",
        "    .setOutputCol(\"embeddings\")\n",
        "\n",
        "pos_tagger = PerceptronModel()\\\n",
        "    .pretrained(\"pos_clinical\", \"en\", \"clinical/models\") \\\n",
        "    .setInputCols([\"sentences\", \"tokens\"])\\\n",
        "    .setOutputCol(\"pos_tags\")\n",
        "\n",
        "ner_tagger = NerDLModel()\\\n",
        "    .pretrained(\"ner_posology\", \"en\", \"clinical/models\")\\\n",
        "    .setInputCols(\"sentences\", \"tokens\", \"embeddings\")\\\n",
        "    .setOutputCol(\"ner_tags\")    \n",
        "\n",
        "ner_event = NerDLModel()\\\n",
        "    .pretrained(\"ner_events_clinical\", \"en\", \"clinical/models\")\\\n",
        "    .setInputCols(\"sentences\", \"tokens\", \"embeddings\")\\\n",
        "    .setOutputCol(\"ner_tags\") \n",
        "\n",
        "ner_chunker = NerConverter()\\\n",
        "    .setInputCols([\"sentences\", \"tokens\", \"ner_tags\"])\\\n",
        "    .setOutputCol(\"ner_chunks\")\n",
        "\n",
        "dependency_parser = DependencyParserModel()\\\n",
        "    .pretrained(\"dependency_conllu\", \"en\")\\\n",
        "    .setInputCols([\"sentences\", \"pos_tags\", \"tokens\"])\\\n",
        "    .setOutputCol(\"dependencies\")\n",
        "\n",
        "reModel = RelationExtractionModel()\\\n",
        "    .pretrained(\"posology_re\")\\\n",
        "    .setInputCols([\"embeddings\", \"pos_tags\", \"ner_chunks\", \"dependencies\"])\\\n",
        "    .setOutputCol(\"relations\")\\\n",
        "    .setMaxSyntacticDistance(4)\n",
        "\n",
        "pipeline = Pipeline(stages=[\n",
        "    documenter,\n",
        "    sentencer,\n",
        "    tokenizer, \n",
        "    words_embedder, \n",
        "    pos_tagger, \n",
        "    ner_tagger,\n",
        "    ner_chunker,\n",
        "    dependency_parser,\n",
        "    reModel\n",
        "])\n",
        "\n",
        "empty_data = spark.createDataFrame([[\"\"]]).toDF(\"text\")\n",
        "\n",
        "model = pipeline.fit(empty_data)\n",
        "\n"
      ],
      "execution_count": 4,
      "outputs": [
        {
          "output_type": "stream",
          "text": [
            "embeddings_clinical download started this may take some time.\n",
            "Approximate size to download 1.6 GB\n",
            "[OK!]\n",
            "pos_clinical download started this may take some time.\n",
            "Approximate size to download 1.7 MB\n",
            "[OK!]\n",
            "ner_posology download started this may take some time.\n",
            "Approximate size to download 13.7 MB\n",
            "[OK!]\n",
            "ner_events_clinical download started this may take some time.\n",
            "Approximate size to download 13.7 MB\n",
            "[OK!]\n",
            "dependency_conllu download started this may take some time.\n",
            "Approximate size to download 16.6 MB\n",
            "[OK!]\n"
          ],
          "name": "stdout"
        }
      ]
    },
    {
      "cell_type": "markdown",
      "metadata": {
        "colab_type": "text",
        "id": "fIEDm1zZEMre"
      },
      "source": [
        "**Create empty dataframe**"
      ]
    },
    {
      "cell_type": "code",
      "metadata": {
        "ExecuteTime": {
          "end_time": "2020-07-17T10:09:32.462913Z",
          "start_time": "2020-07-17T10:09:32.410488Z"
        },
        "colab_type": "code",
        "id": "Ec0SDYGmEMre",
        "colab": {}
      },
      "source": [
        "empty_data = spark.createDataFrame([[\"\"]]).toDF(\"text\")\n"
      ],
      "execution_count": null,
      "outputs": []
    },
    {
      "cell_type": "markdown",
      "metadata": {
        "colab_type": "text",
        "id": "9TA-2cxfEMrh"
      },
      "source": [
        "**Create a light pipeline for annotating free text**"
      ]
    },
    {
      "cell_type": "code",
      "metadata": {
        "ExecuteTime": {
          "end_time": "2020-07-17T10:24:30.899532Z",
          "start_time": "2020-07-17T10:09:32.894746Z"
        },
        "colab_type": "code",
        "id": "gWz4JaO3EMri",
        "colab": {}
      },
      "source": [
        "model = pipeline.fit(empty_data)\n",
        "lmodel = sparknlp.base.LightPipeline(model)"
      ],
      "execution_count": null,
      "outputs": []
    },
    {
      "cell_type": "code",
      "metadata": {
        "colab_type": "code",
        "id": "nnSSgfnNmH90",
        "colab": {}
      },
      "source": [
        "text = \"\"\"\n",
        "The patient was prescribed 1 unit of Advil for 5 days after meals. The patient was also \n",
        "given 1 unit of Metformin daily.\n",
        "He was seen by the endocrinology service and she was discharged on 40 units of insulin glargine at night , \n",
        "12 units of insulin lispro with meals , and metformin 1000 mg two times a day.\n",
        "\"\"\"\n",
        "results = lmodel.fullAnnotate(text)"
      ],
      "execution_count": null,
      "outputs": []
    },
    {
      "cell_type": "code",
      "metadata": {
        "colab_type": "code",
        "id": "iNcBCfc_mJUT",
        "colab": {
          "base_uri": "https://localhost:8080/",
          "height": 264
        },
        "outputId": "beb92cb8-1fef-47b1-cb02-82f9ea0f2ea9"
      },
      "source": [
        "results[0]['ner_chunks']"
      ],
      "execution_count": null,
      "outputs": [
        {
          "output_type": "execute_result",
          "data": {
            "text/plain": [
              "[Annotation(chunk, 28, 33, 1 unit, {'entity': 'DOSAGE', 'sentence': '0', 'chunk': '0'}),\n",
              " Annotation(chunk, 38, 42, Advil, {'entity': 'DRUG', 'sentence': '0', 'chunk': '1'}),\n",
              " Annotation(chunk, 44, 53, for 5 days, {'entity': 'DURATION', 'sentence': '0', 'chunk': '2'}),\n",
              " Annotation(chunk, 96, 101, 1 unit, {'entity': 'DOSAGE', 'sentence': '1', 'chunk': '3'}),\n",
              " Annotation(chunk, 106, 114, Metformin, {'entity': 'DRUG', 'sentence': '1', 'chunk': '4'}),\n",
              " Annotation(chunk, 116, 120, daily, {'entity': 'FREQUENCY', 'sentence': '1', 'chunk': '5'}),\n",
              " Annotation(chunk, 190, 197, 40 units, {'entity': 'DOSAGE', 'sentence': '2', 'chunk': '6'}),\n",
              " Annotation(chunk, 202, 217, insulin glargine, {'entity': 'DRUG', 'sentence': '2', 'chunk': '7'}),\n",
              " Annotation(chunk, 219, 226, at night, {'entity': 'FREQUENCY', 'sentence': '2', 'chunk': '8'}),\n",
              " Annotation(chunk, 231, 238, 12 units, {'entity': 'DOSAGE', 'sentence': '2', 'chunk': '9'}),\n",
              " Annotation(chunk, 243, 256, insulin lispro, {'entity': 'DRUG', 'sentence': '2', 'chunk': '10'}),\n",
              " Annotation(chunk, 258, 267, with meals, {'entity': 'FREQUENCY', 'sentence': '2', 'chunk': '11'}),\n",
              " Annotation(chunk, 275, 283, metformin, {'entity': 'DRUG', 'sentence': '2', 'chunk': '12'}),\n",
              " Annotation(chunk, 285, 291, 1000 mg, {'entity': 'STRENGTH', 'sentence': '2', 'chunk': '13'}),\n",
              " Annotation(chunk, 293, 307, two times a day, {'entity': 'FREQUENCY', 'sentence': '2', 'chunk': '14'})]"
            ]
          },
          "metadata": {
            "tags": []
          },
          "execution_count": 14
        }
      ]
    },
    {
      "cell_type": "markdown",
      "metadata": {
        "colab_type": "text",
        "id": "EATlttRVEMrl"
      },
      "source": [
        "**Sample free text**"
      ]
    },
    {
      "cell_type": "code",
      "metadata": {
        "ExecuteTime": {
          "end_time": "2020-07-17T11:18:31.409708Z",
          "start_time": "2020-07-17T11:18:31.336534Z"
        },
        "colab_type": "code",
        "id": "gTdSwA4HEMrl",
        "colab": {}
      },
      "source": [
        "text = \"\"\"\n",
        "The patient was prescribed 1 unit of Advil for 5 days after meals. The patient was also \n",
        "given 1 unit of Metformin daily.\n",
        "He was seen by the endocrinology service and she was discharged on 40 units of insulin glargine at night , \n",
        "12 units of insulin lispro with meals , and metformin 1000 mg two times a day.\n",
        "\"\"\"\n",
        "results = lmodel.fullAnnotate(text)"
      ],
      "execution_count": null,
      "outputs": []
    },
    {
      "cell_type": "markdown",
      "metadata": {
        "colab_type": "text",
        "id": "ZmdjtscfEMro"
      },
      "source": [
        "**Show extracted relations**"
      ]
    },
    {
      "cell_type": "code",
      "metadata": {
        "ExecuteTime": {
          "end_time": "2020-07-17T10:29:26.101405Z",
          "start_time": "2020-07-17T10:29:26.012555Z"
        },
        "colab_type": "code",
        "id": "HeBrfZtvEMro",
        "colab": {
          "base_uri": "https://localhost:8080/",
          "height": 181
        },
        "outputId": "72c2c4c4-8b77-464c-c575-f67e52d626e1"
      },
      "source": [
        "for rel in results[0][\"relations\"]:\n",
        "    print(\"{}({}={} - {}={})\".format(\n",
        "        rel.result, \n",
        "        rel.metadata['entity1'], \n",
        "        rel.metadata['chunk1'], \n",
        "        rel.metadata['entity2'],\n",
        "        rel.metadata['chunk2']\n",
        "    ))"
      ],
      "execution_count": null,
      "outputs": [
        {
          "output_type": "stream",
          "text": [
            "DOSAGE-DRUG(DOSAGE=1 unit - DRUG=Advil)\n",
            "DRUG-DURATION(DRUG=Advil - DURATION=for 5 days)\n",
            "DOSAGE-DRUG(DOSAGE=1 unit - DRUG=Metformin)\n",
            "DRUG-FREQUENCY(DRUG=Metformin - FREQUENCY=daily)\n",
            "DOSAGE-DRUG(DOSAGE=40 units - DRUG=insulin glargine)\n",
            "DRUG-FREQUENCY(DRUG=insulin glargine - FREQUENCY=at night)\n",
            "DOSAGE-DRUG(DOSAGE=12 units - DRUG=insulin lispro)\n",
            "DRUG-FREQUENCY(DRUG=insulin lispro - FREQUENCY=with meals)\n",
            "DRUG-STRENGTH(DRUG=metformin - STRENGTH=1000 mg)\n",
            "DRUG-FREQUENCY(DRUG=metformin - FREQUENCY=two times a day)\n"
          ],
          "name": "stdout"
        }
      ]
    },
    {
      "cell_type": "code",
      "metadata": {
        "colab_type": "code",
        "id": "LUFt4k1mEMrs",
        "colab": {
          "base_uri": "https://localhost:8080/",
          "height": 331
        },
        "outputId": "a413dd10-08a9-4452-d7b7-2564406a9b70"
      },
      "source": [
        "import pandas as pd\n",
        "\n",
        "def get_relations_df (results, col='relations'):\n",
        "  rel_pairs=[]\n",
        "  for rel in results[0][col]:\n",
        "      rel_pairs.append((\n",
        "          rel.result, \n",
        "          rel.metadata['entity1'], \n",
        "          rel.metadata['entity1_begin'],\n",
        "          rel.metadata['entity1_end'],\n",
        "          rel.metadata['chunk1'], \n",
        "          rel.metadata['entity2'],\n",
        "          rel.metadata['entity2_begin'],\n",
        "          rel.metadata['entity2_end'],\n",
        "          rel.metadata['chunk2'], \n",
        "          rel.metadata['confidence']\n",
        "      ))\n",
        "\n",
        "  rel_df = pd.DataFrame(rel_pairs, columns=['relation','entity1','entity1_begin','entity1_end','chunk1','entity2','entity2_begin','entity2_end','chunk2', 'confidence'])\n",
        "\n",
        "  return rel_df\n",
        "\n",
        "\n",
        "rel_df = get_relations_df (results)\n",
        "\n",
        "rel_df"
      ],
      "execution_count": null,
      "outputs": [
        {
          "output_type": "execute_result",
          "data": {
            "text/html": [
              "<div>\n",
              "<style scoped>\n",
              "    .dataframe tbody tr th:only-of-type {\n",
              "        vertical-align: middle;\n",
              "    }\n",
              "\n",
              "    .dataframe tbody tr th {\n",
              "        vertical-align: top;\n",
              "    }\n",
              "\n",
              "    .dataframe thead th {\n",
              "        text-align: right;\n",
              "    }\n",
              "</style>\n",
              "<table border=\"1\" class=\"dataframe\">\n",
              "  <thead>\n",
              "    <tr style=\"text-align: right;\">\n",
              "      <th></th>\n",
              "      <th>relation</th>\n",
              "      <th>entity1</th>\n",
              "      <th>entity1_begin</th>\n",
              "      <th>entity1_end</th>\n",
              "      <th>chunk1</th>\n",
              "      <th>entity2</th>\n",
              "      <th>entity2_begin</th>\n",
              "      <th>entity2_end</th>\n",
              "      <th>chunk2</th>\n",
              "      <th>confidence</th>\n",
              "    </tr>\n",
              "  </thead>\n",
              "  <tbody>\n",
              "    <tr>\n",
              "      <th>0</th>\n",
              "      <td>DOSAGE-DRUG</td>\n",
              "      <td>DOSAGE</td>\n",
              "      <td>28</td>\n",
              "      <td>33</td>\n",
              "      <td>1 unit</td>\n",
              "      <td>DRUG</td>\n",
              "      <td>38</td>\n",
              "      <td>42</td>\n",
              "      <td>Advil</td>\n",
              "      <td>1.0</td>\n",
              "    </tr>\n",
              "    <tr>\n",
              "      <th>1</th>\n",
              "      <td>DRUG-DURATION</td>\n",
              "      <td>DRUG</td>\n",
              "      <td>38</td>\n",
              "      <td>42</td>\n",
              "      <td>Advil</td>\n",
              "      <td>DURATION</td>\n",
              "      <td>44</td>\n",
              "      <td>53</td>\n",
              "      <td>for 5 days</td>\n",
              "      <td>1.0</td>\n",
              "    </tr>\n",
              "    <tr>\n",
              "      <th>2</th>\n",
              "      <td>DOSAGE-DRUG</td>\n",
              "      <td>DOSAGE</td>\n",
              "      <td>96</td>\n",
              "      <td>101</td>\n",
              "      <td>1 unit</td>\n",
              "      <td>DRUG</td>\n",
              "      <td>106</td>\n",
              "      <td>114</td>\n",
              "      <td>Metformin</td>\n",
              "      <td>1.0</td>\n",
              "    </tr>\n",
              "    <tr>\n",
              "      <th>3</th>\n",
              "      <td>DRUG-FREQUENCY</td>\n",
              "      <td>DRUG</td>\n",
              "      <td>106</td>\n",
              "      <td>114</td>\n",
              "      <td>Metformin</td>\n",
              "      <td>FREQUENCY</td>\n",
              "      <td>116</td>\n",
              "      <td>120</td>\n",
              "      <td>daily</td>\n",
              "      <td>1.0</td>\n",
              "    </tr>\n",
              "    <tr>\n",
              "      <th>4</th>\n",
              "      <td>DOSAGE-DRUG</td>\n",
              "      <td>DOSAGE</td>\n",
              "      <td>190</td>\n",
              "      <td>197</td>\n",
              "      <td>40 units</td>\n",
              "      <td>DRUG</td>\n",
              "      <td>202</td>\n",
              "      <td>217</td>\n",
              "      <td>insulin glargine</td>\n",
              "      <td>1.0</td>\n",
              "    </tr>\n",
              "    <tr>\n",
              "      <th>5</th>\n",
              "      <td>DRUG-FREQUENCY</td>\n",
              "      <td>DRUG</td>\n",
              "      <td>202</td>\n",
              "      <td>217</td>\n",
              "      <td>insulin glargine</td>\n",
              "      <td>FREQUENCY</td>\n",
              "      <td>219</td>\n",
              "      <td>226</td>\n",
              "      <td>at night</td>\n",
              "      <td>1.0</td>\n",
              "    </tr>\n",
              "    <tr>\n",
              "      <th>6</th>\n",
              "      <td>DOSAGE-DRUG</td>\n",
              "      <td>DOSAGE</td>\n",
              "      <td>231</td>\n",
              "      <td>238</td>\n",
              "      <td>12 units</td>\n",
              "      <td>DRUG</td>\n",
              "      <td>243</td>\n",
              "      <td>256</td>\n",
              "      <td>insulin lispro</td>\n",
              "      <td>1.0</td>\n",
              "    </tr>\n",
              "    <tr>\n",
              "      <th>7</th>\n",
              "      <td>DRUG-FREQUENCY</td>\n",
              "      <td>DRUG</td>\n",
              "      <td>243</td>\n",
              "      <td>256</td>\n",
              "      <td>insulin lispro</td>\n",
              "      <td>FREQUENCY</td>\n",
              "      <td>258</td>\n",
              "      <td>267</td>\n",
              "      <td>with meals</td>\n",
              "      <td>1.0</td>\n",
              "    </tr>\n",
              "    <tr>\n",
              "      <th>8</th>\n",
              "      <td>DRUG-STRENGTH</td>\n",
              "      <td>DRUG</td>\n",
              "      <td>275</td>\n",
              "      <td>283</td>\n",
              "      <td>metformin</td>\n",
              "      <td>STRENGTH</td>\n",
              "      <td>285</td>\n",
              "      <td>291</td>\n",
              "      <td>1000 mg</td>\n",
              "      <td>1.0</td>\n",
              "    </tr>\n",
              "    <tr>\n",
              "      <th>9</th>\n",
              "      <td>DRUG-FREQUENCY</td>\n",
              "      <td>DRUG</td>\n",
              "      <td>275</td>\n",
              "      <td>283</td>\n",
              "      <td>metformin</td>\n",
              "      <td>FREQUENCY</td>\n",
              "      <td>293</td>\n",
              "      <td>307</td>\n",
              "      <td>two times a day</td>\n",
              "      <td>1.0</td>\n",
              "    </tr>\n",
              "  </tbody>\n",
              "</table>\n",
              "</div>"
            ],
            "text/plain": [
              "         relation entity1  ...            chunk2 confidence\n",
              "0     DOSAGE-DRUG  DOSAGE  ...             Advil        1.0\n",
              "1   DRUG-DURATION    DRUG  ...        for 5 days        1.0\n",
              "2     DOSAGE-DRUG  DOSAGE  ...         Metformin        1.0\n",
              "3  DRUG-FREQUENCY    DRUG  ...             daily        1.0\n",
              "4     DOSAGE-DRUG  DOSAGE  ...  insulin glargine        1.0\n",
              "5  DRUG-FREQUENCY    DRUG  ...          at night        1.0\n",
              "6     DOSAGE-DRUG  DOSAGE  ...    insulin lispro        1.0\n",
              "7  DRUG-FREQUENCY    DRUG  ...        with meals        1.0\n",
              "8   DRUG-STRENGTH    DRUG  ...           1000 mg        1.0\n",
              "9  DRUG-FREQUENCY    DRUG  ...   two times a day        1.0\n",
              "\n",
              "[10 rows x 10 columns]"
            ]
          },
          "metadata": {
            "tags": []
          },
          "execution_count": 17
        }
      ]
    },
    {
      "cell_type": "code",
      "metadata": {
        "colab_type": "code",
        "id": "bzKeB-JUEMru",
        "colab": {
          "base_uri": "https://localhost:8080/",
          "height": 303
        },
        "outputId": "ecb530b0-fe33-480e-be7b-ecdbf0bc2b12"
      },
      "source": [
        "text =\"\"\"A 28-year-old female with a history of gestational diabetes mellitus diagnosed eight years prior to presentation and subsequent type two diabetes mellitus ( T2DM ), \n",
        "one prior episode of HTG-induced pancreatitis three years prior to presentation,  associated with an acute hepatitis , and obesity with a body mass index ( BMI ) of 33.5 kg/m2 , presented with a one-week history of polyuria , polydipsia , poor appetite , and vomiting . Two weeks prior to presentation , she was treated with a five-day course of amoxicillin for a respiratory tract infection . She was on metformin , glipizide , and dapagliflozin for T2DM and atorvastatin and gemfibrozil for HTG . She had been on dapagliflozin for six months at the time of presentation. Physical examination on presentation was significant for dry oral mucosa ; significantly , her abdominal examination was benign with no tenderness , guarding , or rigidity . Pertinent laboratory findings on admission were : serum glucose 111 mg/dl , bicarbonate 18 mmol/l , anion gap 20 , creatinine 0.4 mg/dL , triglycerides 508 mg/dL , total cholesterol 122 mg/dL , glycated hemoglobin ( HbA1c ) 10% , and venous pH 7.27 . Serum lipase was normal at 43 U/L . Serum acetone levels could not be assessed as blood samples kept hemolyzing due to significant lipemia . The patient was initially admitted for starvation ketosis , as she reported poor oral intake for three days prior to admission . However , serum chemistry obtained six hours after presentation revealed her glucose was 186 mg/dL , the anion gap was still elevated at 21 , serum bicarbonate was 16 mmol/L , triglyceride level peaked at 2050 mg/dL , and lipase was 52 U/L . The β-hydroxybutyrate level was obtained and found to be elevated at 5.29 mmol/L - the original sample was centrifuged and the chylomicron layer removed prior to analysis due to interference from turbidity caused by lipemia again . The patient was treated with an insulin drip for euDKA and HTG with a reduction in the anion gap to 13 and triglycerides to 1400 mg/dL , within 24 hours . Her euDKA was thought to be precipitated by her respiratory tract infection in the setting of SGLT2 inhibitor use . The patient was seen by the endocrinology service and she was discharged on 40 units of insulin glargine at night , 12 units of insulin lispro with meals , and metformin 1000 mg two times a day . It was determined that all SGLT2 inhibitors should be discontinued indefinitely . \n",
        "She had close follow-up with endocrinology post discharge .\n",
        "\"\"\"\n",
        "\n",
        "annotations = lmodel.fullAnnotate(text)\n",
        "\n",
        "rel_df = get_relations_df (annotations)\n",
        "\n",
        "rel_df\n",
        "\n"
      ],
      "execution_count": null,
      "outputs": [
        {
          "output_type": "execute_result",
          "data": {
            "text/html": [
              "<div>\n",
              "<style scoped>\n",
              "    .dataframe tbody tr th:only-of-type {\n",
              "        vertical-align: middle;\n",
              "    }\n",
              "\n",
              "    .dataframe tbody tr th {\n",
              "        vertical-align: top;\n",
              "    }\n",
              "\n",
              "    .dataframe thead th {\n",
              "        text-align: right;\n",
              "    }\n",
              "</style>\n",
              "<table border=\"1\" class=\"dataframe\">\n",
              "  <thead>\n",
              "    <tr style=\"text-align: right;\">\n",
              "      <th></th>\n",
              "      <th>relation</th>\n",
              "      <th>entity1</th>\n",
              "      <th>entity1_begin</th>\n",
              "      <th>entity1_end</th>\n",
              "      <th>chunk1</th>\n",
              "      <th>entity2</th>\n",
              "      <th>entity2_begin</th>\n",
              "      <th>entity2_end</th>\n",
              "      <th>chunk2</th>\n",
              "      <th>confidence</th>\n",
              "    </tr>\n",
              "  </thead>\n",
              "  <tbody>\n",
              "    <tr>\n",
              "      <th>0</th>\n",
              "      <td>DURATION-DRUG</td>\n",
              "      <td>DURATION</td>\n",
              "      <td>493</td>\n",
              "      <td>500</td>\n",
              "      <td>five-day</td>\n",
              "      <td>DRUG</td>\n",
              "      <td>512</td>\n",
              "      <td>522</td>\n",
              "      <td>amoxicillin</td>\n",
              "      <td>1.0</td>\n",
              "    </tr>\n",
              "    <tr>\n",
              "      <th>1</th>\n",
              "      <td>DRUG-DURATION</td>\n",
              "      <td>DRUG</td>\n",
              "      <td>681</td>\n",
              "      <td>693</td>\n",
              "      <td>dapagliflozin</td>\n",
              "      <td>DURATION</td>\n",
              "      <td>695</td>\n",
              "      <td>708</td>\n",
              "      <td>for six months</td>\n",
              "      <td>1.0</td>\n",
              "    </tr>\n",
              "    <tr>\n",
              "      <th>2</th>\n",
              "      <td>DRUG-ROUTE</td>\n",
              "      <td>DRUG</td>\n",
              "      <td>1940</td>\n",
              "      <td>1946</td>\n",
              "      <td>insulin</td>\n",
              "      <td>ROUTE</td>\n",
              "      <td>1948</td>\n",
              "      <td>1951</td>\n",
              "      <td>drip</td>\n",
              "      <td>1.0</td>\n",
              "    </tr>\n",
              "    <tr>\n",
              "      <th>3</th>\n",
              "      <td>DOSAGE-DRUG</td>\n",
              "      <td>DOSAGE</td>\n",
              "      <td>2255</td>\n",
              "      <td>2262</td>\n",
              "      <td>40 units</td>\n",
              "      <td>DRUG</td>\n",
              "      <td>2267</td>\n",
              "      <td>2282</td>\n",
              "      <td>insulin glargine</td>\n",
              "      <td>1.0</td>\n",
              "    </tr>\n",
              "    <tr>\n",
              "      <th>4</th>\n",
              "      <td>DRUG-FREQUENCY</td>\n",
              "      <td>DRUG</td>\n",
              "      <td>2267</td>\n",
              "      <td>2282</td>\n",
              "      <td>insulin glargine</td>\n",
              "      <td>FREQUENCY</td>\n",
              "      <td>2284</td>\n",
              "      <td>2291</td>\n",
              "      <td>at night</td>\n",
              "      <td>1.0</td>\n",
              "    </tr>\n",
              "    <tr>\n",
              "      <th>5</th>\n",
              "      <td>DOSAGE-DRUG</td>\n",
              "      <td>DOSAGE</td>\n",
              "      <td>2295</td>\n",
              "      <td>2302</td>\n",
              "      <td>12 units</td>\n",
              "      <td>DRUG</td>\n",
              "      <td>2307</td>\n",
              "      <td>2320</td>\n",
              "      <td>insulin lispro</td>\n",
              "      <td>1.0</td>\n",
              "    </tr>\n",
              "    <tr>\n",
              "      <th>6</th>\n",
              "      <td>DRUG-FREQUENCY</td>\n",
              "      <td>DRUG</td>\n",
              "      <td>2307</td>\n",
              "      <td>2320</td>\n",
              "      <td>insulin lispro</td>\n",
              "      <td>FREQUENCY</td>\n",
              "      <td>2322</td>\n",
              "      <td>2331</td>\n",
              "      <td>with meals</td>\n",
              "      <td>1.0</td>\n",
              "    </tr>\n",
              "    <tr>\n",
              "      <th>7</th>\n",
              "      <td>DRUG-STRENGTH</td>\n",
              "      <td>DRUG</td>\n",
              "      <td>2339</td>\n",
              "      <td>2347</td>\n",
              "      <td>metformin</td>\n",
              "      <td>STRENGTH</td>\n",
              "      <td>2349</td>\n",
              "      <td>2355</td>\n",
              "      <td>1000 mg</td>\n",
              "      <td>1.0</td>\n",
              "    </tr>\n",
              "    <tr>\n",
              "      <th>8</th>\n",
              "      <td>DRUG-FREQUENCY</td>\n",
              "      <td>DRUG</td>\n",
              "      <td>2339</td>\n",
              "      <td>2347</td>\n",
              "      <td>metformin</td>\n",
              "      <td>FREQUENCY</td>\n",
              "      <td>2357</td>\n",
              "      <td>2371</td>\n",
              "      <td>two times a day</td>\n",
              "      <td>1.0</td>\n",
              "    </tr>\n",
              "  </tbody>\n",
              "</table>\n",
              "</div>"
            ],
            "text/plain": [
              "         relation   entity1  ...            chunk2 confidence\n",
              "0   DURATION-DRUG  DURATION  ...       amoxicillin        1.0\n",
              "1   DRUG-DURATION      DRUG  ...    for six months        1.0\n",
              "2      DRUG-ROUTE      DRUG  ...              drip        1.0\n",
              "3     DOSAGE-DRUG    DOSAGE  ...  insulin glargine        1.0\n",
              "4  DRUG-FREQUENCY      DRUG  ...          at night        1.0\n",
              "5     DOSAGE-DRUG    DOSAGE  ...    insulin lispro        1.0\n",
              "6  DRUG-FREQUENCY      DRUG  ...        with meals        1.0\n",
              "7   DRUG-STRENGTH      DRUG  ...           1000 mg        1.0\n",
              "8  DRUG-FREQUENCY      DRUG  ...   two times a day        1.0\n",
              "\n",
              "[9 rows x 10 columns]"
            ]
          },
          "metadata": {
            "tags": []
          },
          "execution_count": 18
        }
      ]
    },
    {
      "cell_type": "markdown",
      "metadata": {
        "colab_type": "text",
        "id": "2mFnHm0vZ5qN"
      },
      "source": [
        "## 2. Clinical RE"
      ]
    },
    {
      "cell_type": "markdown",
      "metadata": {
        "colab_type": "text",
        "id": "ECLSY8H5a1pE"
      },
      "source": [
        "**The set of relations defined in the 2010 i2b2 relation challenge**\n",
        "\n",
        "TrIP: A certain treatment has improved or cured a medical problem (eg, ‘infection resolved with antibiotic course’)\n",
        "\n",
        "TrWP: A patient's medical problem has deteriorated or worsened because of or in spite of a treatment being administered (eg, ‘the tumor was growing despite the drain’)\n",
        "\n",
        "TrCP: A treatment caused a medical problem (eg, ‘penicillin causes a rash’)\n",
        "\n",
        "TrAP: A treatment administered for a medical problem (eg, ‘Dexamphetamine for narcolepsy’)\n",
        "\n",
        "TrNAP: The administration of a treatment was avoided because of a medical problem (eg, ‘Ralafen which is contra-indicated because of ulcers’)\n",
        "\n",
        "TeRP: A test has revealed some medical problem (eg, ‘an echocardiogram revealed a pericardial effusion’)\n",
        "\n",
        "TeCP: A test was performed to investigate a medical problem (eg, ‘chest x-ray done to rule out pneumonia’)\n",
        "\n",
        "PIP: Two problems are related to each other (eg, ‘Azotemia presumed secondary to sepsis’)"
      ]
    },
    {
      "cell_type": "code",
      "metadata": {
        "colab_type": "code",
        "id": "xCw3UB7EEMr-",
        "colab": {
          "base_uri": "https://localhost:8080/",
          "height": 115
        },
        "outputId": "229602ba-75fe-4a06-e604-a99cd3327b99"
      },
      "source": [
        "clinical_ner_tagger = sparknlp.annotators.NerDLModel()\\\n",
        "    .pretrained(\"ner_clinical\", \"en\", \"clinical/models\")\\\n",
        "    .setInputCols(\"sentence\", \"tokens\", \"embeddings\")\\\n",
        "    .setOutputCol(\"ner_tags\")    \n",
        "\n",
        "clinical_re_Model = RelationExtractionModel()\\\n",
        "    .pretrained(\"re_clinical\", \"en\", 'clinical/models')\\\n",
        "    .setInputCols([\"embeddings\", \"pos_tags\", \"ner_chunks\", \"dependencies\"])\\\n",
        "    .setOutputCol(\"relations\")\\\n",
        "    .setMaxSyntacticDistance(4)\\\n",
        "    .setRelationPairs([\"problem-test\", \"problem-treatment\"]) # we can set the possible relation pairs (if not set, all the relations will be calculated)\n",
        "\n",
        "loaded_pipeline = Pipeline(stages=[\n",
        "    documenter,\n",
        "    sentencer,\n",
        "    tokenizer, \n",
        "    words_embedder, \n",
        "    pos_tagger, \n",
        "    clinical_ner_tagger,\n",
        "    ner_chunker,\n",
        "    dependency_parser,\n",
        "    clinical_re_Model\n",
        "])"
      ],
      "execution_count": null,
      "outputs": [
        {
          "output_type": "stream",
          "text": [
            "ner_clinical download started this may take some time.\n",
            "Approximate size to download 13.8 MB\n",
            "[OK!]\n",
            "re_clinical download started this may take some time.\n",
            "Approximate size to download 6 MB\n",
            "[OK!]\n"
          ],
          "name": "stdout"
        }
      ]
    },
    {
      "cell_type": "code",
      "metadata": {
        "colab_type": "code",
        "id": "n4jrrhjhEMsC",
        "colab": {}
      },
      "source": [
        "loaded_model = loaded_pipeline.fit(empty_data)\n",
        "loaded_lmodel = LightPipeline(loaded_model)"
      ],
      "execution_count": null,
      "outputs": []
    },
    {
      "cell_type": "code",
      "metadata": {
        "colab_type": "code",
        "id": "XLn00iCGEMsJ",
        "colab": {
          "base_uri": "https://localhost:8080/",
          "height": 246
        },
        "outputId": "fd0d3a5d-e977-4515-ed74-2edc29728094"
      },
      "source": [
        "text =\"\"\"A 28-year-old female with a history of gestational diabetes mellitus diagnosed eight years prior to presentation and subsequent type two diabetes mellitus ( T2DM ), \n",
        "one prior episode of HTG-induced pancreatitis three years prior to presentation,  associated with an acute hepatitis , and obesity with a body mass index ( BMI ) of 33.5 kg/m2 , presented with a one-week history of polyuria , polydipsia , poor appetite , and vomiting . Two weeks prior to presentation , she was treated with a five-day course of amoxicillin for a respiratory tract infection . She was on metformin , glipizide , and dapagliflozin for T2DM and atorvastatin and gemfibrozil for HTG . She had been on dapagliflozin for six months at the time of presentation. Physical examination on presentation was significant for dry oral mucosa ; significantly , her abdominal examination was benign with no tenderness , guarding , or rigidity . Pertinent laboratory findings on admission were : serum glucose 111 mg/dl , bicarbonate 18 mmol/l , anion gap 20 , creatinine 0.4 mg/dL , triglycerides 508 mg/dL , total cholesterol 122 mg/dL , glycated hemoglobin ( HbA1c ) 10% , and venous pH 7.27 . Serum lipase was normal at 43 U/L . Serum acetone levels could not be assessed as blood samples kept hemolyzing due to significant lipemia . The patient was initially admitted for starvation ketosis , as she reported poor oral intake for three days prior to admission . However , serum chemistry obtained six hours after presentation revealed her glucose was 186 mg/dL , the anion gap was still elevated at 21 , serum bicarbonate was 16 mmol/L , triglyceride level peaked at 2050 mg/dL , and lipase was 52 U/L . The β-hydroxybutyrate level was obtained and found to be elevated at 5.29 mmol/L - the original sample was centrifuged and the chylomicron layer removed prior to analysis due to interference from turbidity caused by lipemia again . The patient was treated with an insulin drip for euDKA and HTG with a reduction in the anion gap to 13 and triglycerides to 1400 mg/dL , within 24 hours . Her euDKA was thought to be precipitated by her respiratory tract infection in the setting of SGLT2 inhibitor use . The patient was seen by the endocrinology service and she was discharged on 40 units of insulin glargine at night , 12 units of insulin lispro with meals , and metformin 1000 mg two times a day . It was determined that all SGLT2 inhibitors should be discontinued indefinitely . \n",
        "She had close follow-up with endocrinology post discharge .\n",
        "\"\"\"\n",
        "\n",
        "annotations = loaded_lmodel.fullAnnotate(text)\n",
        "\n",
        "rel_df = get_relations_df (annotations)\n",
        "\n",
        "rel_df[rel_df.relation!=\"O\"]\n"
      ],
      "execution_count": null,
      "outputs": [
        {
          "output_type": "execute_result",
          "data": {
            "text/html": [
              "<div>\n",
              "<style scoped>\n",
              "    .dataframe tbody tr th:only-of-type {\n",
              "        vertical-align: middle;\n",
              "    }\n",
              "\n",
              "    .dataframe tbody tr th {\n",
              "        vertical-align: top;\n",
              "    }\n",
              "\n",
              "    .dataframe thead th {\n",
              "        text-align: right;\n",
              "    }\n",
              "</style>\n",
              "<table border=\"1\" class=\"dataframe\">\n",
              "  <thead>\n",
              "    <tr style=\"text-align: right;\">\n",
              "      <th></th>\n",
              "      <th>relation</th>\n",
              "      <th>entity1</th>\n",
              "      <th>entity1_begin</th>\n",
              "      <th>entity1_end</th>\n",
              "      <th>chunk1</th>\n",
              "      <th>entity2</th>\n",
              "      <th>entity2_begin</th>\n",
              "      <th>entity2_end</th>\n",
              "      <th>chunk2</th>\n",
              "      <th>confidence</th>\n",
              "    </tr>\n",
              "  </thead>\n",
              "  <tbody>\n",
              "    <tr>\n",
              "      <th>6</th>\n",
              "      <td>TrAP</td>\n",
              "      <td>PROBLEM</td>\n",
              "      <td>617</td>\n",
              "      <td>620</td>\n",
              "      <td>T2DM</td>\n",
              "      <td>TREATMENT</td>\n",
              "      <td>626</td>\n",
              "      <td>637</td>\n",
              "      <td>atorvastatin</td>\n",
              "      <td>0.99955326</td>\n",
              "    </tr>\n",
              "    <tr>\n",
              "      <th>13</th>\n",
              "      <td>TrWP</td>\n",
              "      <td>TEST</td>\n",
              "      <td>1246</td>\n",
              "      <td>1258</td>\n",
              "      <td>blood samples</td>\n",
              "      <td>PROBLEM</td>\n",
              "      <td>1283</td>\n",
              "      <td>1301</td>\n",
              "      <td>significant lipemia</td>\n",
              "      <td>0.99998724</td>\n",
              "    </tr>\n",
              "    <tr>\n",
              "      <th>17</th>\n",
              "      <td>TeRP</td>\n",
              "      <td>TEST</td>\n",
              "      <td>1535</td>\n",
              "      <td>1547</td>\n",
              "      <td>the anion gap</td>\n",
              "      <td>PROBLEM</td>\n",
              "      <td>1553</td>\n",
              "      <td>1566</td>\n",
              "      <td>still elevated</td>\n",
              "      <td>0.9965193</td>\n",
              "    </tr>\n",
              "    <tr>\n",
              "      <th>23</th>\n",
              "      <td>TrAP</td>\n",
              "      <td>TEST</td>\n",
              "      <td>1838</td>\n",
              "      <td>1845</td>\n",
              "      <td>analysis</td>\n",
              "      <td>PROBLEM</td>\n",
              "      <td>1854</td>\n",
              "      <td>1880</td>\n",
              "      <td>interference from turbidity</td>\n",
              "      <td>0.9676019</td>\n",
              "    </tr>\n",
              "    <tr>\n",
              "      <th>27</th>\n",
              "      <td>TrWP</td>\n",
              "      <td>TREATMENT</td>\n",
              "      <td>1937</td>\n",
              "      <td>1951</td>\n",
              "      <td>an insulin drip</td>\n",
              "      <td>PROBLEM</td>\n",
              "      <td>1976</td>\n",
              "      <td>2003</td>\n",
              "      <td>a reduction in the anion gap</td>\n",
              "      <td>0.94099987</td>\n",
              "    </tr>\n",
              "    <tr>\n",
              "      <th>30</th>\n",
              "      <td>TeRP</td>\n",
              "      <td>PROBLEM</td>\n",
              "      <td>1976</td>\n",
              "      <td>2003</td>\n",
              "      <td>a reduction in the anion gap</td>\n",
              "      <td>TEST</td>\n",
              "      <td>2015</td>\n",
              "      <td>2027</td>\n",
              "      <td>triglycerides</td>\n",
              "      <td>0.9956793</td>\n",
              "    </tr>\n",
              "    <tr>\n",
              "      <th>31</th>\n",
              "      <td>TeRP</td>\n",
              "      <td>PROBLEM</td>\n",
              "      <td>2107</td>\n",
              "      <td>2137</td>\n",
              "      <td>her respiratory tract infection</td>\n",
              "      <td>TREATMENT</td>\n",
              "      <td>2157</td>\n",
              "      <td>2171</td>\n",
              "      <td>SGLT2 inhibitor</td>\n",
              "      <td>0.997498</td>\n",
              "    </tr>\n",
              "  </tbody>\n",
              "</table>\n",
              "</div>"
            ],
            "text/plain": [
              "   relation    entity1  ...                        chunk2  confidence\n",
              "6      TrAP    PROBLEM  ...                  atorvastatin  0.99955326\n",
              "13     TrWP       TEST  ...           significant lipemia  0.99998724\n",
              "17     TeRP       TEST  ...                still elevated   0.9965193\n",
              "23     TrAP       TEST  ...   interference from turbidity   0.9676019\n",
              "27     TrWP  TREATMENT  ...  a reduction in the anion gap  0.94099987\n",
              "30     TeRP    PROBLEM  ...                 triglycerides   0.9956793\n",
              "31     TeRP    PROBLEM  ...               SGLT2 inhibitor    0.997498\n",
              "\n",
              "[7 rows x 10 columns]"
            ]
          },
          "metadata": {
            "tags": []
          },
          "execution_count": 21
        }
      ]
    },
    {
      "cell_type": "markdown",
      "metadata": {
        "colab_type": "text",
        "id": "IJxeWEen6C6G"
      },
      "source": [
        "## 3. Clinical Temporal Events RE"
      ]
    },
    {
      "cell_type": "markdown",
      "metadata": {
        "colab_type": "text",
        "id": "fX9bJqAy7wjf"
      },
      "source": [
        "Temporal relations, or temporal links (denoted by the TLINK tag), indicate whether and how two EVENTs, two TIME, or an EVENT and a TIME related to each other in the clinical timeline. There are 3 type of relations here and below are some examples of Relations, with square brackets indicating EVENT and TIME connected by a temporal link:\n",
        "\n",
        "**`BEFORE`**\n",
        "\n",
        "The patient was given stress dose steroids prior to his surgery. ([stress dose steroids] `BEFORE` [his surgery])\n",
        "\n",
        "The patient had an undocumented history of possible atrial fibrillation prior to admission. ([possible atrial fibrillation] `BEFORE` [admission])\n",
        "\n",
        "His nasogastric tube was discontinued on 05-26-98. ([His nasogastric] `BEFORE` [05-26-98])\n",
        "\n",
        "**`AFTER`**\n",
        "\n",
        "Before admission, he had another serious concussion. ([admission] `AFTER` [another serious concussion])\n",
        "\n",
        "On postoperative day No 1, he was started on Percocet. ([Percocet] `AFTER` [postoperative day No 1])\n",
        "\n",
        "\n",
        "**`OVERLAP`**\n",
        "\n",
        "She denies any fevers or chills. ([fevers] `OVERLAP` [chills])\n",
        "\n",
        "The patient's serum creatinine on discharge date, 2012-05-06, was 1.9. ([discharge date] `OVERLAP` [2012-05-06])\n",
        "\n",
        "His preoperative workup was completed and included a normal white count ([a normal white count] `OVERLAP` [His preoperative workup])\n",
        "\n",
        "The patient had an undocumented history of possible atrial fibrillation prior to admission. ([possible atrial fibrillation] `OVERLAP` [admission])\n",
        "\n",
        "\n",
        "| Relation | Recall | Precision | F1 |\n",
        "| --- | --- | --- | --- |\n",
        "| OVERLAP | 0.81 | 0.73 | **0.77** |\n",
        "| BEFORE | 0.85 | 0.88 | **0.86** |\n",
        "| AFTER | 0.38 | 0.46 | **0.69** |\n",
        "\n"
      ]
    },
    {
      "cell_type": "markdown",
      "metadata": {
        "colab_type": "text",
        "id": "q47PbJL_Hh-r"
      },
      "source": [
        "This RE model works with `ner_events_clinical` NER model and expect the following entities as inputs:\n",
        "\n",
        "[`OCCURRENCE`,\n",
        " `DATE`,\n",
        " `DURATION`,\n",
        " `EVIDENTIAL`,\n",
        " `TEST`,\n",
        " `PROBLEM`,\n",
        " `TREATMENT`,\n",
        " `CLINICAL_DEPT`,\n",
        " `FREQUENCY`,\n",
        " `TIME`]"
      ]
    },
    {
      "cell_type": "code",
      "metadata": {
        "colab_type": "code",
        "id": "i7yt6cPHEU8t",
        "colab": {
          "base_uri": "https://localhost:8080/",
          "height": 115
        },
        "outputId": "d0f7f788-b372-48a6-bdaf-edd28bcdd14e"
      },
      "source": [
        "\n",
        "events_ner_tagger = sparknlp.annotators.NerDLModel()\\\n",
        "    .pretrained(\"ner_events_clinical\", \"en\", \"clinical/models\")\\\n",
        "    .setInputCols(\"sentence\", \"tokens\", \"embeddings\")\\\n",
        "    .setOutputCol(\"ner_tags\")    \n",
        "\n",
        "clinical_re_Model = RelationExtractionModel()\\\n",
        "    .pretrained(\"re_temporal_events_clinical\", \"en\", 'clinical/models')\\\n",
        "    .setInputCols([\"embeddings\", \"pos_tags\", \"ner_chunks\", \"dependencies\"])\\\n",
        "    .setOutputCol(\"relations\")\\\n",
        "    .setMaxSyntacticDistance(4)\\\n",
        "    .setPredictionThreshold(0.9)\n",
        "\n",
        "loaded_pipeline = Pipeline(stages=[\n",
        "    documenter,\n",
        "    sentencer,\n",
        "    tokenizer, \n",
        "    words_embedder, \n",
        "    pos_tagger, \n",
        "    events_ner_tagger,\n",
        "    ner_chunker,\n",
        "    dependency_parser,\n",
        "    clinical_re_Model\n",
        "])"
      ],
      "execution_count": null,
      "outputs": [
        {
          "output_type": "stream",
          "text": [
            "ner_events_clinical download started this may take some time.\n",
            "Approximate size to download 13.7 MB\n",
            "[OK!]\n",
            "re_temporal_events_clinical download started this may take some time.\n",
            "Approximate size to download 5.9 MB\n",
            "[OK!]\n"
          ],
          "name": "stdout"
        }
      ]
    },
    {
      "cell_type": "code",
      "metadata": {
        "colab_type": "code",
        "id": "wIqIQVCkH-j0",
        "colab": {
          "base_uri": "https://localhost:8080/",
          "height": 363
        },
        "outputId": "660d3b36-a3af-4692-bded-156aa2ce85f1"
      },
      "source": [
        "events_ner_tagger.getClasses()"
      ],
      "execution_count": null,
      "outputs": [
        {
          "output_type": "execute_result",
          "data": {
            "text/plain": [
              "['O',\n",
              " 'B-OCCURRENCE',\n",
              " 'B-DATE',\n",
              " 'B-PROBLEM',\n",
              " 'I-PROBLEM',\n",
              " 'B-DURATION',\n",
              " 'I-DURATION',\n",
              " 'B-EVIDENTIAL',\n",
              " 'I-OCCURRENCE',\n",
              " 'B-TREATMENT',\n",
              " 'I-TREATMENT',\n",
              " 'I-DATE',\n",
              " 'B-TEST',\n",
              " 'I-TEST',\n",
              " 'B-CLINICAL_DEPT',\n",
              " 'I-CLINICAL_DEPT',\n",
              " 'B-FREQUENCY',\n",
              " 'I-FREQUENCY',\n",
              " 'I-EVIDENTIAL',\n",
              " 'B-TIME',\n",
              " 'I-TIME']"
            ]
          },
          "metadata": {
            "tags": []
          },
          "execution_count": 49
        }
      ]
    },
    {
      "cell_type": "code",
      "metadata": {
        "colab_type": "code",
        "id": "z4KGwlUbGa9_",
        "colab": {}
      },
      "source": [
        "loaded_model = loaded_pipeline.fit(empty_data)\n",
        "loaded_lmodel = LightPipeline(loaded_model)"
      ],
      "execution_count": null,
      "outputs": []
    },
    {
      "cell_type": "code",
      "metadata": {
        "colab_type": "code",
        "id": "0Adm9R3SGXKa",
        "colab": {
          "base_uri": "https://localhost:8080/",
          "height": 189
        },
        "outputId": "c4b37a84-ffab-4a51-a694-f02756b35971"
      },
      "source": [
        "text =\"She is diagnosed as cancer in 1991. Then she was admitted to Mayo Clinic in May 2000 and discharged in October 2001\"\n",
        "\n",
        "annotations = loaded_lmodel.fullAnnotate(text)\n",
        "\n",
        "rel_df = get_relations_df (annotations)\n",
        "\n",
        "rel_df = rel_df[(rel_df.relation!=\"O\")]\n",
        "\n",
        "rel_df"
      ],
      "execution_count": null,
      "outputs": [
        {
          "output_type": "execute_result",
          "data": {
            "text/html": [
              "<div>\n",
              "<style scoped>\n",
              "    .dataframe tbody tr th:only-of-type {\n",
              "        vertical-align: middle;\n",
              "    }\n",
              "\n",
              "    .dataframe tbody tr th {\n",
              "        vertical-align: top;\n",
              "    }\n",
              "\n",
              "    .dataframe thead th {\n",
              "        text-align: right;\n",
              "    }\n",
              "</style>\n",
              "<table border=\"1\" class=\"dataframe\">\n",
              "  <thead>\n",
              "    <tr style=\"text-align: right;\">\n",
              "      <th></th>\n",
              "      <th>relation</th>\n",
              "      <th>entity1</th>\n",
              "      <th>entity1_begin</th>\n",
              "      <th>entity1_end</th>\n",
              "      <th>chunk1</th>\n",
              "      <th>entity2</th>\n",
              "      <th>entity2_begin</th>\n",
              "      <th>entity2_end</th>\n",
              "      <th>chunk2</th>\n",
              "      <th>confidence</th>\n",
              "    </tr>\n",
              "  </thead>\n",
              "  <tbody>\n",
              "    <tr>\n",
              "      <th>0</th>\n",
              "      <td>BEFORE</td>\n",
              "      <td>PROBLEM</td>\n",
              "      <td>20</td>\n",
              "      <td>25</td>\n",
              "      <td>cancer</td>\n",
              "      <td>DATE</td>\n",
              "      <td>30</td>\n",
              "      <td>33</td>\n",
              "      <td>1991</td>\n",
              "      <td>0.9989215</td>\n",
              "    </tr>\n",
              "    <tr>\n",
              "      <th>1</th>\n",
              "      <td>AFTER</td>\n",
              "      <td>OCCURRENCE</td>\n",
              "      <td>49</td>\n",
              "      <td>56</td>\n",
              "      <td>admitted</td>\n",
              "      <td>CLINICAL_DEPT</td>\n",
              "      <td>61</td>\n",
              "      <td>71</td>\n",
              "      <td>Mayo Clinic</td>\n",
              "      <td>1.0</td>\n",
              "    </tr>\n",
              "    <tr>\n",
              "      <th>2</th>\n",
              "      <td>OVERLAP</td>\n",
              "      <td>OCCURRENCE</td>\n",
              "      <td>49</td>\n",
              "      <td>56</td>\n",
              "      <td>admitted</td>\n",
              "      <td>DATE</td>\n",
              "      <td>76</td>\n",
              "      <td>83</td>\n",
              "      <td>May 2000</td>\n",
              "      <td>0.99152386</td>\n",
              "    </tr>\n",
              "    <tr>\n",
              "      <th>3</th>\n",
              "      <td>BEFORE</td>\n",
              "      <td>CLINICAL_DEPT</td>\n",
              "      <td>61</td>\n",
              "      <td>71</td>\n",
              "      <td>Mayo Clinic</td>\n",
              "      <td>OCCURRENCE</td>\n",
              "      <td>89</td>\n",
              "      <td>98</td>\n",
              "      <td>discharged</td>\n",
              "      <td>1.0</td>\n",
              "    </tr>\n",
              "    <tr>\n",
              "      <th>4</th>\n",
              "      <td>BEFORE</td>\n",
              "      <td>OCCURRENCE</td>\n",
              "      <td>89</td>\n",
              "      <td>98</td>\n",
              "      <td>discharged</td>\n",
              "      <td>DATE</td>\n",
              "      <td>103</td>\n",
              "      <td>114</td>\n",
              "      <td>October 2001</td>\n",
              "      <td>0.95415086</td>\n",
              "    </tr>\n",
              "  </tbody>\n",
              "</table>\n",
              "</div>"
            ],
            "text/plain": [
              "  relation        entity1 entity1_begin  ... entity2_end        chunk2  confidence\n",
              "0   BEFORE        PROBLEM            20  ...          33          1991   0.9989215\n",
              "1    AFTER     OCCURRENCE            49  ...          71   Mayo Clinic         1.0\n",
              "2  OVERLAP     OCCURRENCE            49  ...          83      May 2000  0.99152386\n",
              "3   BEFORE  CLINICAL_DEPT            61  ...          98    discharged         1.0\n",
              "4   BEFORE     OCCURRENCE            89  ...         114  October 2001  0.95415086\n",
              "\n",
              "[5 rows x 10 columns]"
            ]
          },
          "metadata": {
            "tags": []
          },
          "execution_count": 42
        }
      ]
    },
    {
      "cell_type": "code",
      "metadata": {
        "colab_type": "code",
        "id": "IS1u4BdkGpjl",
        "colab": {
          "base_uri": "https://localhost:8080/",
          "height": 303
        },
        "outputId": "96cee34b-a7a2-4ef7-91d8-1b8588182126"
      },
      "source": [
        "text =\"On 9–28-92, the patient will return for chemotherapy and she will follow up with her primary doctor, for PT and Coumadin dosing on Monday.\"\n",
        "\n",
        "annotations = loaded_lmodel.fullAnnotate(text)\n",
        "\n",
        "rel_df = get_relations_df (annotations)\n",
        "\n",
        "rel_df.confidence = rel_df.confidence.astype(float)\n",
        "\n",
        "rel_df = rel_df[(rel_df.relation!=\"O\")]\n",
        "\n",
        "rel_df[(rel_df.relation!=\"O\")&(rel_df.entity1!=rel_df.entity2)]\n"
      ],
      "execution_count": null,
      "outputs": [
        {
          "output_type": "execute_result",
          "data": {
            "text/html": [
              "<div>\n",
              "<style scoped>\n",
              "    .dataframe tbody tr th:only-of-type {\n",
              "        vertical-align: middle;\n",
              "    }\n",
              "\n",
              "    .dataframe tbody tr th {\n",
              "        vertical-align: top;\n",
              "    }\n",
              "\n",
              "    .dataframe thead th {\n",
              "        text-align: right;\n",
              "    }\n",
              "</style>\n",
              "<table border=\"1\" class=\"dataframe\">\n",
              "  <thead>\n",
              "    <tr style=\"text-align: right;\">\n",
              "      <th></th>\n",
              "      <th>relation</th>\n",
              "      <th>entity1</th>\n",
              "      <th>entity1_begin</th>\n",
              "      <th>entity1_end</th>\n",
              "      <th>chunk1</th>\n",
              "      <th>entity2</th>\n",
              "      <th>entity2_begin</th>\n",
              "      <th>entity2_end</th>\n",
              "      <th>chunk2</th>\n",
              "      <th>confidence</th>\n",
              "    </tr>\n",
              "  </thead>\n",
              "  <tbody>\n",
              "    <tr>\n",
              "      <th>0</th>\n",
              "      <td>OVERLAP</td>\n",
              "      <td>DATE</td>\n",
              "      <td>3</td>\n",
              "      <td>9</td>\n",
              "      <td>9–28-92</td>\n",
              "      <td>TREATMENT</td>\n",
              "      <td>40</td>\n",
              "      <td>51</td>\n",
              "      <td>chemotherapy</td>\n",
              "      <td>1.000000</td>\n",
              "    </tr>\n",
              "    <tr>\n",
              "      <th>1</th>\n",
              "      <td>OVERLAP</td>\n",
              "      <td>DATE</td>\n",
              "      <td>3</td>\n",
              "      <td>9</td>\n",
              "      <td>9–28-92</td>\n",
              "      <td>TREATMENT</td>\n",
              "      <td>105</td>\n",
              "      <td>106</td>\n",
              "      <td>PT</td>\n",
              "      <td>0.989851</td>\n",
              "    </tr>\n",
              "    <tr>\n",
              "      <th>3</th>\n",
              "      <td>OVERLAP</td>\n",
              "      <td>OCCURRENCE</td>\n",
              "      <td>66</td>\n",
              "      <td>74</td>\n",
              "      <td>follow up</td>\n",
              "      <td>CLINICAL_DEPT</td>\n",
              "      <td>81</td>\n",
              "      <td>98</td>\n",
              "      <td>her primary doctor</td>\n",
              "      <td>0.998086</td>\n",
              "    </tr>\n",
              "    <tr>\n",
              "      <th>4</th>\n",
              "      <td>OVERLAP</td>\n",
              "      <td>OCCURRENCE</td>\n",
              "      <td>66</td>\n",
              "      <td>74</td>\n",
              "      <td>follow up</td>\n",
              "      <td>TREATMENT</td>\n",
              "      <td>105</td>\n",
              "      <td>106</td>\n",
              "      <td>PT</td>\n",
              "      <td>0.999761</td>\n",
              "    </tr>\n",
              "    <tr>\n",
              "      <th>5</th>\n",
              "      <td>OVERLAP</td>\n",
              "      <td>OCCURRENCE</td>\n",
              "      <td>66</td>\n",
              "      <td>74</td>\n",
              "      <td>follow up</td>\n",
              "      <td>TREATMENT</td>\n",
              "      <td>112</td>\n",
              "      <td>126</td>\n",
              "      <td>Coumadin dosing</td>\n",
              "      <td>0.958726</td>\n",
              "    </tr>\n",
              "    <tr>\n",
              "      <th>6</th>\n",
              "      <td>OVERLAP</td>\n",
              "      <td>CLINICAL_DEPT</td>\n",
              "      <td>81</td>\n",
              "      <td>98</td>\n",
              "      <td>her primary doctor</td>\n",
              "      <td>TREATMENT</td>\n",
              "      <td>105</td>\n",
              "      <td>106</td>\n",
              "      <td>PT</td>\n",
              "      <td>1.000000</td>\n",
              "    </tr>\n",
              "    <tr>\n",
              "      <th>7</th>\n",
              "      <td>OVERLAP</td>\n",
              "      <td>CLINICAL_DEPT</td>\n",
              "      <td>81</td>\n",
              "      <td>98</td>\n",
              "      <td>her primary doctor</td>\n",
              "      <td>DATE</td>\n",
              "      <td>131</td>\n",
              "      <td>136</td>\n",
              "      <td>Monday</td>\n",
              "      <td>0.984193</td>\n",
              "    </tr>\n",
              "    <tr>\n",
              "      <th>9</th>\n",
              "      <td>AFTER</td>\n",
              "      <td>TREATMENT</td>\n",
              "      <td>105</td>\n",
              "      <td>106</td>\n",
              "      <td>PT</td>\n",
              "      <td>DATE</td>\n",
              "      <td>131</td>\n",
              "      <td>136</td>\n",
              "      <td>Monday</td>\n",
              "      <td>0.926052</td>\n",
              "    </tr>\n",
              "    <tr>\n",
              "      <th>10</th>\n",
              "      <td>OVERLAP</td>\n",
              "      <td>TREATMENT</td>\n",
              "      <td>112</td>\n",
              "      <td>126</td>\n",
              "      <td>Coumadin dosing</td>\n",
              "      <td>DATE</td>\n",
              "      <td>131</td>\n",
              "      <td>136</td>\n",
              "      <td>Monday</td>\n",
              "      <td>0.999999</td>\n",
              "    </tr>\n",
              "  </tbody>\n",
              "</table>\n",
              "</div>"
            ],
            "text/plain": [
              "   relation        entity1  ...              chunk2 confidence\n",
              "0   OVERLAP           DATE  ...        chemotherapy   1.000000\n",
              "1   OVERLAP           DATE  ...                  PT   0.989851\n",
              "3   OVERLAP     OCCURRENCE  ...  her primary doctor   0.998086\n",
              "4   OVERLAP     OCCURRENCE  ...                  PT   0.999761\n",
              "5   OVERLAP     OCCURRENCE  ...     Coumadin dosing   0.958726\n",
              "6   OVERLAP  CLINICAL_DEPT  ...                  PT   1.000000\n",
              "7   OVERLAP  CLINICAL_DEPT  ...              Monday   0.984193\n",
              "9     AFTER      TREATMENT  ...              Monday   0.926052\n",
              "10  OVERLAP      TREATMENT  ...              Monday   0.999999\n",
              "\n",
              "[9 rows x 10 columns]"
            ]
          },
          "metadata": {
            "tags": []
          },
          "execution_count": 46
        }
      ]
    },
    {
      "cell_type": "code",
      "metadata": {
        "colab_type": "code",
        "id": "9zpPqbgGHTFI",
        "colab": {
          "base_uri": "https://localhost:8080/",
          "height": 360
        },
        "outputId": "f3d65a0a-17fa-4849-d67d-47c1930a676c"
      },
      "source": [
        "text =\"\"\"She is admitted to The John Hopkins Hospital 2 days ago with a history of gestational diabetes mellitus diagnosed.  \n",
        "She was seen by the endocrinology service and she was discharged on 03/02/2018 on 40 units of insulin glargine, \n",
        "12 units of insulin lispro, and metformin 1000 mg two times a day. She had close follow-up with endocrinology post discharge. \n",
        "\"\"\"\n",
        "\n",
        "annotations = loaded_lmodel.fullAnnotate(text)\n",
        "\n",
        "rel_df = get_relations_df (annotations)\n",
        "\n",
        "rel_df.confidence = rel_df.confidence.astype(float)\n",
        "\n",
        "rel_df[(rel_df.relation!=\"O\")]\n"
      ],
      "execution_count": null,
      "outputs": [
        {
          "output_type": "execute_result",
          "data": {
            "text/html": [
              "<div>\n",
              "<style scoped>\n",
              "    .dataframe tbody tr th:only-of-type {\n",
              "        vertical-align: middle;\n",
              "    }\n",
              "\n",
              "    .dataframe tbody tr th {\n",
              "        vertical-align: top;\n",
              "    }\n",
              "\n",
              "    .dataframe thead th {\n",
              "        text-align: right;\n",
              "    }\n",
              "</style>\n",
              "<table border=\"1\" class=\"dataframe\">\n",
              "  <thead>\n",
              "    <tr style=\"text-align: right;\">\n",
              "      <th></th>\n",
              "      <th>relation</th>\n",
              "      <th>entity1</th>\n",
              "      <th>entity1_begin</th>\n",
              "      <th>entity1_end</th>\n",
              "      <th>chunk1</th>\n",
              "      <th>entity2</th>\n",
              "      <th>entity2_begin</th>\n",
              "      <th>entity2_end</th>\n",
              "      <th>chunk2</th>\n",
              "      <th>confidence</th>\n",
              "    </tr>\n",
              "  </thead>\n",
              "  <tbody>\n",
              "    <tr>\n",
              "      <th>0</th>\n",
              "      <td>AFTER</td>\n",
              "      <td>OCCURRENCE</td>\n",
              "      <td>7</td>\n",
              "      <td>14</td>\n",
              "      <td>admitted</td>\n",
              "      <td>CLINICAL_DEPT</td>\n",
              "      <td>19</td>\n",
              "      <td>43</td>\n",
              "      <td>The John Hopkins Hospital</td>\n",
              "      <td>0.991467</td>\n",
              "    </tr>\n",
              "    <tr>\n",
              "      <th>1</th>\n",
              "      <td>BEFORE</td>\n",
              "      <td>OCCURRENCE</td>\n",
              "      <td>7</td>\n",
              "      <td>14</td>\n",
              "      <td>admitted</td>\n",
              "      <td>PROBLEM</td>\n",
              "      <td>74</td>\n",
              "      <td>102</td>\n",
              "      <td>gestational diabetes mellitus</td>\n",
              "      <td>0.999989</td>\n",
              "    </tr>\n",
              "    <tr>\n",
              "      <th>2</th>\n",
              "      <td>OVERLAP</td>\n",
              "      <td>CLINICAL_DEPT</td>\n",
              "      <td>19</td>\n",
              "      <td>43</td>\n",
              "      <td>The John Hopkins Hospital</td>\n",
              "      <td>DATE</td>\n",
              "      <td>45</td>\n",
              "      <td>54</td>\n",
              "      <td>2 days ago</td>\n",
              "      <td>0.999306</td>\n",
              "    </tr>\n",
              "    <tr>\n",
              "      <th>3</th>\n",
              "      <td>BEFORE</td>\n",
              "      <td>CLINICAL_DEPT</td>\n",
              "      <td>19</td>\n",
              "      <td>43</td>\n",
              "      <td>The John Hopkins Hospital</td>\n",
              "      <td>PROBLEM</td>\n",
              "      <td>74</td>\n",
              "      <td>102</td>\n",
              "      <td>gestational diabetes mellitus</td>\n",
              "      <td>0.996808</td>\n",
              "    </tr>\n",
              "    <tr>\n",
              "      <th>4</th>\n",
              "      <td>OVERLAP</td>\n",
              "      <td>CLINICAL_DEPT</td>\n",
              "      <td>133</td>\n",
              "      <td>157</td>\n",
              "      <td>the endocrinology service</td>\n",
              "      <td>DATE</td>\n",
              "      <td>185</td>\n",
              "      <td>194</td>\n",
              "      <td>03/02/2018</td>\n",
              "      <td>0.999964</td>\n",
              "    </tr>\n",
              "    <tr>\n",
              "      <th>5</th>\n",
              "      <td>OVERLAP</td>\n",
              "      <td>OCCURRENCE</td>\n",
              "      <td>171</td>\n",
              "      <td>180</td>\n",
              "      <td>discharged</td>\n",
              "      <td>DATE</td>\n",
              "      <td>185</td>\n",
              "      <td>194</td>\n",
              "      <td>03/02/2018</td>\n",
              "      <td>1.000000</td>\n",
              "    </tr>\n",
              "    <tr>\n",
              "      <th>6</th>\n",
              "      <td>AFTER</td>\n",
              "      <td>OCCURRENCE</td>\n",
              "      <td>171</td>\n",
              "      <td>180</td>\n",
              "      <td>discharged</td>\n",
              "      <td>TREATMENT</td>\n",
              "      <td>211</td>\n",
              "      <td>226</td>\n",
              "      <td>insulin glargine</td>\n",
              "      <td>0.999233</td>\n",
              "    </tr>\n",
              "    <tr>\n",
              "      <th>7</th>\n",
              "      <td>AFTER</td>\n",
              "      <td>OCCURRENCE</td>\n",
              "      <td>171</td>\n",
              "      <td>180</td>\n",
              "      <td>discharged</td>\n",
              "      <td>TREATMENT</td>\n",
              "      <td>242</td>\n",
              "      <td>255</td>\n",
              "      <td>insulin lispro</td>\n",
              "      <td>0.997469</td>\n",
              "    </tr>\n",
              "    <tr>\n",
              "      <th>8</th>\n",
              "      <td>OVERLAP</td>\n",
              "      <td>DATE</td>\n",
              "      <td>185</td>\n",
              "      <td>194</td>\n",
              "      <td>03/02/2018</td>\n",
              "      <td>TREATMENT</td>\n",
              "      <td>211</td>\n",
              "      <td>226</td>\n",
              "      <td>insulin glargine</td>\n",
              "      <td>0.999975</td>\n",
              "    </tr>\n",
              "    <tr>\n",
              "      <th>9</th>\n",
              "      <td>OVERLAP</td>\n",
              "      <td>DATE</td>\n",
              "      <td>185</td>\n",
              "      <td>194</td>\n",
              "      <td>03/02/2018</td>\n",
              "      <td>TREATMENT</td>\n",
              "      <td>242</td>\n",
              "      <td>255</td>\n",
              "      <td>insulin lispro</td>\n",
              "      <td>0.999682</td>\n",
              "    </tr>\n",
              "    <tr>\n",
              "      <th>10</th>\n",
              "      <td>OVERLAP</td>\n",
              "      <td>TREATMENT</td>\n",
              "      <td>262</td>\n",
              "      <td>270</td>\n",
              "      <td>metformin</td>\n",
              "      <td>FREQUENCY</td>\n",
              "      <td>280</td>\n",
              "      <td>294</td>\n",
              "      <td>two times a day</td>\n",
              "      <td>1.000000</td>\n",
              "    </tr>\n",
              "  </tbody>\n",
              "</table>\n",
              "</div>"
            ],
            "text/plain": [
              "   relation        entity1  ...                         chunk2 confidence\n",
              "0     AFTER     OCCURRENCE  ...      The John Hopkins Hospital   0.991467\n",
              "1    BEFORE     OCCURRENCE  ...  gestational diabetes mellitus   0.999989\n",
              "2   OVERLAP  CLINICAL_DEPT  ...                     2 days ago   0.999306\n",
              "3    BEFORE  CLINICAL_DEPT  ...  gestational diabetes mellitus   0.996808\n",
              "4   OVERLAP  CLINICAL_DEPT  ...                     03/02/2018   0.999964\n",
              "5   OVERLAP     OCCURRENCE  ...                     03/02/2018   1.000000\n",
              "6     AFTER     OCCURRENCE  ...               insulin glargine   0.999233\n",
              "7     AFTER     OCCURRENCE  ...                 insulin lispro   0.997469\n",
              "8   OVERLAP           DATE  ...               insulin glargine   0.999975\n",
              "9   OVERLAP           DATE  ...                 insulin lispro   0.999682\n",
              "10  OVERLAP      TREATMENT  ...                two times a day   1.000000\n",
              "\n",
              "[11 rows x 10 columns]"
            ]
          },
          "metadata": {
            "tags": []
          },
          "execution_count": 47
        }
      ]
    },
    {
      "cell_type": "markdown",
      "metadata": {
        "id": "d5wI11ptz7hi",
        "colab_type": "text"
      },
      "source": [
        "## 4. Human Phenotype - Gene RE"
      ]
    },
    {
      "cell_type": "markdown",
      "metadata": {
        "id": "PTPNq2kw1b1p",
        "colab_type": "text"
      },
      "source": [
        "https://github.com/lasigeBioTM/PGR\n",
        "\n",
        "Human phenotype-gene relations are fundamental to fully understand the origin of some phenotypic abnormalities and their associated diseases. Biomedical literature is the most comprehensive source of these relations, however, we need Relation Extraction tools to automatically recognize them. We present the Phenotype-Gene Relations (PGR) model, trained on a silver standard corpus of human phenotype and gene annotations and their relations. \n",
        "\n",
        "It extracts 2 label: `True` or `False`\n"
      ]
    },
    {
      "cell_type": "code",
      "metadata": {
        "id": "-cFzLV4E1JV3",
        "colab_type": "code",
        "colab": {
          "base_uri": "https://localhost:8080/",
          "height": 119
        },
        "outputId": "f0e5ef53-f38f-42ac-9f8e-641c642b4953"
      },
      "source": [
        "\n",
        "pgr_ner_tagger = sparknlp.annotators.NerDLModel()\\\n",
        "    .pretrained(\"ner_human_phenotype_gene_clinical\", \"en\", \"clinical/models\")\\\n",
        "    .setInputCols(\"sentence\", \"tokens\", \"embeddings\")\\\n",
        "    .setOutputCol(\"ner_tags\")    \n",
        "\n",
        "pgr_re_Model = RelationExtractionModel()\\\n",
        "    .pretrained(\"re_human_phenotype_gene_clinical\", \"en\", 'clinical/models')\\\n",
        "    .setInputCols([\"embeddings\", \"pos_tags\", \"ner_chunks\", \"dependencies\"])\\\n",
        "    .setOutputCol(\"relations\")\\\n",
        "    .setRelationPairs([\"hp-gene\",'gene-hp'])\\\n",
        "    .setMaxSyntacticDistance(4)\\\n",
        "\n",
        "loaded_pipeline = Pipeline(stages=[\n",
        "    documenter,\n",
        "    sentencer,\n",
        "    tokenizer, \n",
        "    words_embedder, \n",
        "    pos_tagger, \n",
        "    pgr_ner_tagger,\n",
        "    ner_chunker,\n",
        "    dependency_parser,\n",
        "    pgr_re_Model\n",
        "])"
      ],
      "execution_count": null,
      "outputs": [
        {
          "output_type": "stream",
          "text": [
            "ner_human_phenotype_gene_clinical download started this may take some time.\n",
            "Approximate size to download 13.9 MB\n",
            "[OK!]\n",
            "re_human_phenotype_gene_clinical download started this may take some time.\n",
            "Approximate size to download 5.9 MB\n",
            "[OK!]\n"
          ],
          "name": "stdout"
        }
      ]
    },
    {
      "cell_type": "code",
      "metadata": {
        "id": "5KmIcEle20fX",
        "colab_type": "code",
        "colab": {}
      },
      "source": [
        "loaded_model = loaded_pipeline.fit(empty_data)\n",
        "loaded_lmodel = LightPipeline(loaded_model)"
      ],
      "execution_count": null,
      "outputs": []
    },
    {
      "cell_type": "code",
      "metadata": {
        "id": "mfbbMnJk09_x",
        "colab_type": "code",
        "colab": {
          "base_uri": "https://localhost:8080/",
          "height": 142
        },
        "outputId": "813c8892-a03e-4582-a52f-b34676c47fc9"
      },
      "source": [
        "text = \"She has a retinal degeneration, hearing loss and renal failure, short stature, \\\n",
        "Mutations in the SH3PXD2B gene coding for the Tks4 protein are responsible for the autosomal recessive.\"\n",
        "\n",
        "annotations = loaded_lmodel.fullAnnotate(text)\n",
        "\n",
        "rel_df = get_relations_df (annotations)\n",
        "\n",
        "rel_df = rel_df[(rel_df.relation!=0)]\n",
        "\n",
        "rel_df"
      ],
      "execution_count": null,
      "outputs": [
        {
          "output_type": "execute_result",
          "data": {
            "text/html": [
              "<div>\n",
              "<style scoped>\n",
              "    .dataframe tbody tr th:only-of-type {\n",
              "        vertical-align: middle;\n",
              "    }\n",
              "\n",
              "    .dataframe tbody tr th {\n",
              "        vertical-align: top;\n",
              "    }\n",
              "\n",
              "    .dataframe thead th {\n",
              "        text-align: right;\n",
              "    }\n",
              "</style>\n",
              "<table border=\"1\" class=\"dataframe\">\n",
              "  <thead>\n",
              "    <tr style=\"text-align: right;\">\n",
              "      <th></th>\n",
              "      <th>relation</th>\n",
              "      <th>entity1</th>\n",
              "      <th>entity1_begin</th>\n",
              "      <th>entity1_end</th>\n",
              "      <th>chunk1</th>\n",
              "      <th>entity2</th>\n",
              "      <th>entity2_begin</th>\n",
              "      <th>entity2_end</th>\n",
              "      <th>chunk2</th>\n",
              "      <th>confidence</th>\n",
              "    </tr>\n",
              "  </thead>\n",
              "  <tbody>\n",
              "    <tr>\n",
              "      <th>0</th>\n",
              "      <td>1</td>\n",
              "      <td>HP</td>\n",
              "      <td>32</td>\n",
              "      <td>43</td>\n",
              "      <td>hearing loss</td>\n",
              "      <td>GENE</td>\n",
              "      <td>96</td>\n",
              "      <td>103</td>\n",
              "      <td>SH3PXD2B</td>\n",
              "      <td>0.99999976</td>\n",
              "    </tr>\n",
              "    <tr>\n",
              "      <th>1</th>\n",
              "      <td>1</td>\n",
              "      <td>HP</td>\n",
              "      <td>49</td>\n",
              "      <td>61</td>\n",
              "      <td>renal failure</td>\n",
              "      <td>GENE</td>\n",
              "      <td>96</td>\n",
              "      <td>103</td>\n",
              "      <td>SH3PXD2B</td>\n",
              "      <td>0.9998969</td>\n",
              "    </tr>\n",
              "    <tr>\n",
              "      <th>2</th>\n",
              "      <td>1</td>\n",
              "      <td>HP</td>\n",
              "      <td>64</td>\n",
              "      <td>76</td>\n",
              "      <td>short stature</td>\n",
              "      <td>GENE</td>\n",
              "      <td>96</td>\n",
              "      <td>103</td>\n",
              "      <td>SH3PXD2B</td>\n",
              "      <td>0.99994695</td>\n",
              "    </tr>\n",
              "  </tbody>\n",
              "</table>\n",
              "</div>"
            ],
            "text/plain": [
              "  relation entity1 entity1_begin  ... entity2_end    chunk2  confidence\n",
              "0        1      HP            32  ...         103  SH3PXD2B  0.99999976\n",
              "1        1      HP            49  ...         103  SH3PXD2B   0.9998969\n",
              "2        1      HP            64  ...         103  SH3PXD2B  0.99994695\n",
              "\n",
              "[3 rows x 10 columns]"
            ]
          },
          "metadata": {
            "tags": []
          },
          "execution_count": 19
        }
      ]
    },
    {
      "cell_type": "markdown",
      "metadata": {
        "id": "GrGLTfKf4J1J",
        "colab_type": "text"
      },
      "source": [
        "## 5. Drug-Drug Interaction RE"
      ]
    },
    {
      "cell_type": "markdown",
      "metadata": {
        "id": "ko76K5RL4t2E",
        "colab_type": "text"
      },
      "source": [
        "In clinical application, two or more drugs are often used in combination to achieve conducive results, such as synergistic effect, increasing therapeutic effect and reducing or delaying the occurrence of\n",
        "drug resistance. However, there is a potential for harmful drug-drug\n",
        "interactions (DDIs) to occur when two or more drugs are taken at the\n",
        "same time or at certain interval, which can reduce or invalidate the\n",
        "efficacy of drugs, and increase toxicity or even cause death. Therefore,\n",
        "in order to prevent harmful drug-drug interaction (DDI), medical staff\n",
        "often spend much time in reviewing the relevant drug alert literature\n",
        "and drug knowledge bases. \n",
        "\n",
        "**ref**: *Drug-drug interaction extraction via hybrid neural networks on biomedical literature\n",
        "https://www-sciencedirect-com.ezproxy.leidenuniv.nl:2443/science/article/pii/S1532046420300605*"
      ]
    },
    {
      "cell_type": "markdown",
      "metadata": {
        "id": "bIHiWPAK4USG",
        "colab_type": "text"
      },
      "source": [
        "![image.png](data:image/png;base64,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)"
      ]
    },
    {
      "cell_type": "code",
      "metadata": {
        "id": "V6SPtcQI4kHH",
        "colab_type": "code",
        "colab": {
          "base_uri": "https://localhost:8080/",
          "height": 119
        },
        "outputId": "dcb6442f-345a-4bea-e2d2-af66e07c9334"
      },
      "source": [
        "\n",
        "ner_tagger = NerDLModel()\\\n",
        "    .pretrained(\"ner_posology\", \"en\", \"clinical/models\")\\\n",
        "    .setInputCols(\"sentences\", \"tokens\", \"embeddings\")\\\n",
        "    .setOutputCol(\"ner_tags\")   \n",
        "\n",
        "ner_converter = NerConverterInternal() \\\n",
        "  .setInputCols([\"sentences\", \"tokens\", \"ner_tags\"]) \\\n",
        "  .setOutputCol(\"ner_chunk\")\n",
        "\n",
        "ddi_re_model = RelationExtractionModel()\\\n",
        "    .pretrained(\"re_drug_drug_interaction_clinical\", \"en\", 'clinical/models')\\\n",
        "    .setInputCols([\"embeddings\", \"pos_tags\", \"ner_chunk\", \"dependencies\"])\\\n",
        "    .setOutputCol(\"relations\")\\\n",
        "    .setRelationPairs([\"drug-drug\"])\\\n",
        "    .setMaxSyntacticDistance(4)\\\n",
        "\n",
        "ddi_pipeline = Pipeline(stages=[\n",
        "    documenter,\n",
        "    sentencer,\n",
        "    tokenizer, \n",
        "    words_embedder, \n",
        "    pos_tagger, \n",
        "    ner_tagger,\n",
        "    ner_converter,\n",
        "    dependency_parser,\n",
        "    ddi_re_model\n",
        "])\n",
        "\n",
        "empty_data = spark.createDataFrame([[\"\"]]).toDF(\"text\")\n",
        "\n",
        "ddi_model = ddi_pipeline.fit(empty_data)\n",
        "\n",
        "loaded_lmodel = LightPipeline(ddi_model)"
      ],
      "execution_count": null,
      "outputs": [
        {
          "output_type": "stream",
          "text": [
            "ner_posology download started this may take some time.\n",
            "Approximate size to download 13.7 MB\n",
            "[OK!]\n",
            "re_drug_drug_interaction_clinical download started this may take some time.\n",
            "Approximate size to download 4.6 MB\n",
            "[OK!]\n"
          ],
          "name": "stdout"
        }
      ]
    },
    {
      "cell_type": "code",
      "metadata": {
        "id": "wtN9R8M18vMS",
        "colab_type": "code",
        "colab": {
          "base_uri": "https://localhost:8080/",
          "height": 80
        },
        "outputId": "924a4988-2bda-4bb2-c5c8-a4d13ee9c09b"
      },
      "source": [
        "loaded_lmodel = LightPipeline(ddi_model)\n",
        "\n",
        "text='When carbamazepine is withdrawn from the combination therapy, aripiprazole dose should then be reduced. \\\n",
        "If additional adrenergic drugs are to be administered by any route, \\\n",
        "they should be used with caution because the pharmacologically predictable sympathetic effects of Metformin may be potentiated'\n",
        "\n",
        "annotations = loaded_lmodel.fullAnnotate(text)\n",
        "\n",
        "rel_df = get_relations_df (annotations)\n",
        "\n",
        "\n",
        "rel_df"
      ],
      "execution_count": null,
      "outputs": [
        {
          "output_type": "execute_result",
          "data": {
            "text/html": [
              "<div>\n",
              "<style scoped>\n",
              "    .dataframe tbody tr th:only-of-type {\n",
              "        vertical-align: middle;\n",
              "    }\n",
              "\n",
              "    .dataframe tbody tr th {\n",
              "        vertical-align: top;\n",
              "    }\n",
              "\n",
              "    .dataframe thead th {\n",
              "        text-align: right;\n",
              "    }\n",
              "</style>\n",
              "<table border=\"1\" class=\"dataframe\">\n",
              "  <thead>\n",
              "    <tr style=\"text-align: right;\">\n",
              "      <th></th>\n",
              "      <th>relation</th>\n",
              "      <th>entity1</th>\n",
              "      <th>entity1_begin</th>\n",
              "      <th>entity1_end</th>\n",
              "      <th>chunk1</th>\n",
              "      <th>entity2</th>\n",
              "      <th>entity2_begin</th>\n",
              "      <th>entity2_end</th>\n",
              "      <th>chunk2</th>\n",
              "      <th>confidence</th>\n",
              "    </tr>\n",
              "  </thead>\n",
              "  <tbody>\n",
              "    <tr>\n",
              "      <th>0</th>\n",
              "      <td>DDI-advise</td>\n",
              "      <td>DRUG</td>\n",
              "      <td>5</td>\n",
              "      <td>17</td>\n",
              "      <td>carbamazepine</td>\n",
              "      <td>DRUG</td>\n",
              "      <td>62</td>\n",
              "      <td>73</td>\n",
              "      <td>aripiprazole</td>\n",
              "      <td>0.99238014</td>\n",
              "    </tr>\n",
              "  </tbody>\n",
              "</table>\n",
              "</div>"
            ],
            "text/plain": [
              "     relation entity1 entity1_begin  ... entity2_end        chunk2  confidence\n",
              "0  DDI-advise    DRUG             5  ...          73  aripiprazole  0.99238014\n",
              "\n",
              "[1 rows x 10 columns]"
            ]
          },
          "metadata": {
            "tags": []
          },
          "execution_count": 47
        }
      ]
    },
    {
      "cell_type": "code",
      "metadata": {
        "id": "Mga8m6dI9USt",
        "colab_type": "code",
        "colab": {
          "base_uri": "https://localhost:8080/",
          "height": 85
        },
        "outputId": "4db5287c-9dcd-429e-c99a-1bfd93204903"
      },
      "source": [
        "annotations[0]['ner_chunk']"
      ],
      "execution_count": null,
      "outputs": [
        {
          "output_type": "execute_result",
          "data": {
            "text/plain": [
              "[Annotation(chunk, 5, 17, carbamazepine, {'entity': 'DRUG', 'sentence': '0', 'chunk': '0', 'confidence': '0.9968'}),\n",
              " Annotation(chunk, 62, 73, aripiprazole, {'entity': 'DRUG', 'sentence': '0', 'chunk': '1', 'confidence': '0.9998'}),\n",
              " Annotation(chunk, 118, 133, adrenergic drugs, {'entity': 'DRUG', 'sentence': '1', 'chunk': '2', 'confidence': '0.7984'}),\n",
              " Annotation(chunk, 270, 278, Metformin, {'entity': 'DRUG', 'sentence': '1', 'chunk': '3', 'confidence': '0.9998'})]"
            ]
          },
          "metadata": {
            "tags": []
          },
          "execution_count": 48
        }
      ]
    },
    {
      "cell_type": "markdown",
      "metadata": {
        "id": "kN0Ccgl0JJCY",
        "colab_type": "text"
      },
      "source": [
        "## 6. Chemical–Protein Interactions (ChemProt RE)  "
      ]
    },
    {
      "cell_type": "markdown",
      "metadata": {
        "id": "PUAAGisDJwqL",
        "colab_type": "text"
      },
      "source": [
        "Accurately detecting the interactions between chemicals and proteins is a crucial task that plays a key role in precision medicine, drug discovery and basic clinical research. Currently, PubMed contains >28 million articles, and its annual growth rate is more than a million articles each year. A large amount of valuable chemical–protein interactions (CPIs) are hidden in the biomedical literature. There is an increasing interest in CPI extraction from the biomedical literature.\n",
        "\n",
        "Since manually extracting biomedical relations such as protein–protein interactions (PPI) and drug–drug interactions (DDI) is costly and time-consuming, some computational methods (2–6) have been successfully proposed for automatic biomedical relation extraction.\n",
        "\n",
        "To date, most studies on the biomedical relation extraction have focused on the PPIs and DDIs, but a few attempts have been made to extract CPIs. The BioCreative VI ChemProt shared task released the ChemProt dataset for CPI extraction, which is the first challenge for extracting CPIs.\n",
        "\n",
        "Computational CPI extraction is generally approached as a task of classifying whether a specified semantic relation holds between the chemical and protein entities within a sentence or document. The ChemProt corpus is a manually annotated CPI dataset, which greatly promotes the development of CPI extraction approaches. \n",
        "\n",
        "ref: https://academic.oup.com/database/article/doi/10.1093/database/baz054/5498050"
      ]
    },
    {
      "cell_type": "markdown",
      "metadata": {
        "id": "1K-hN65_KWNo",
        "colab_type": "text"
      },
      "source": [
        "Here are the relation types"
      ]
    },
    {
      "cell_type": "markdown",
      "metadata": {
        "id": "3xydR2AhKR-d",
        "colab_type": "text"
      },
      "source": [
        "![image.png](data:image/png;base64,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)"
      ]
    },
    {
      "cell_type": "code",
      "metadata": {
        "id": "8tgB0NdZJlQU",
        "colab_type": "code",
        "colab": {}
      },
      "source": [
        ""
      ],
      "execution_count": null,
      "outputs": []
    },
    {
      "cell_type": "markdown",
      "metadata": {
        "colab_type": "text",
        "id": "H15M7SBnEMsM"
      },
      "source": [
        "# Train a Relation Extraction Model"
      ]
    },
    {
      "cell_type": "code",
      "metadata": {
        "colab_type": "code",
        "id": "rYLFjUJLEMsN",
        "colab": {
          "base_uri": "https://localhost:8080/",
          "height": 280
        },
        "outputId": "c667defd-1fa2-4b41-95d2-e3f79046e6c7"
      },
      "source": [
        "\n",
        "data = spark.read.option(\"header\",\"true\").format(\"csv\").load(\"i2b2_clinical_relfeatures.csv\")\n",
        "\n",
        "data = data.select( 'sentence','firstCharEnt1','firstCharEnt2','lastCharEnt1','lastCharEnt2', \"chunk1\", \"chunk2\", \"label1\", \"label2\",'rel','dataset')\n",
        "\n",
        "data.show(10)\n",
        "\n",
        "# you only need these columns>> 'sentence','firstCharEnt1','firstCharEnt2','lastCharEnt1','lastCharEnt2', \"chunk1\", \"chunk2\", \"label1\", \"label2\",'rel'\n",
        "# ('dataset' column is optional)"
      ],
      "execution_count": null,
      "outputs": [
        {
          "output_type": "stream",
          "text": [
            "+--------------------+-------------+-------------+------------+------------+--------------------+--------------------+---------+-------+-----+-------+\n",
            "|            sentence|firstCharEnt1|firstCharEnt2|lastCharEnt1|lastCharEnt2|              chunk1|              chunk2|   label1| label2|  rel|dataset|\n",
            "+--------------------+-------------+-------------+------------+------------+--------------------+--------------------+---------+-------+-----+-------+\n",
            "|# BRBPR -- The pa...|            2|           60|           6|          77|               brbpr|  his lower gi bleed|  problem|problem|    O|   test|\n",
            "|An angiography sh...|            1|           22|          14|          44|      an angiography|bleeding in two v...|     test|problem| TeRP|   test|\n",
            "|His coumadin was ...|            1|           44|          12|          58|        his coumadin|     his acute bleed|treatment|problem|TrNAP|   test|\n",
            "|- The patient und...|           24|           78|          43|         106|a flex sigmoidoscopy|old blood in the ...|     test|problem| TeRP|   test|\n",
            "|- The patient und...|           24|          115|          43|         139|a flex sigmoidoscopy|active source of ...|     test|problem| TeRP|   test|\n",
            "|Given this , it w...|           50|           84|          62|          91|       a colonoscopy|            bleeding|     test|problem| TeCP|   test|\n",
            "|Therefore , he ha...|           71|           88|          83|         114|       mucosal signs|moderate ulcerati...|  problem|problem|  PIP|   test|\n",
            "|Therefore , he ha...|           19|           71|          38|          83|a repeat colonoscopy|       mucosal signs|     test|problem| TeRP|   test|\n",
            "|Therefore , he ha...|           19|           88|          38|         114|a repeat colonoscopy|moderate ulcerati...|     test|problem| TeRP|   test|\n",
            "|Therefore , he ha...|           19|          133|          38|         199|a repeat colonoscopy|8 mm ulcer at jun...|     test|problem| TeRP|   test|\n",
            "+--------------------+-------------+-------------+------------+------------+--------------------+--------------------+---------+-------+-----+-------+\n",
            "only showing top 10 rows\n",
            "\n"
          ],
          "name": "stdout"
        }
      ]
    },
    {
      "cell_type": "code",
      "metadata": {
        "colab_type": "code",
        "id": "OarAr_EryZDe",
        "colab": {
          "base_uri": "https://localhost:8080/",
          "height": 132
        },
        "outputId": "c244c4f7-3932-45f1-d487-4076646e70c0"
      },
      "source": [
        "data.groupby('dataset').count().show()"
      ],
      "execution_count": null,
      "outputs": [
        {
          "output_type": "stream",
          "text": [
            "+-------+-----+\n",
            "|dataset|count|\n",
            "+-------+-----+\n",
            "|  train| 5489|\n",
            "|   test|10721|\n",
            "+-------+-----+\n",
            "\n"
          ],
          "name": "stdout"
        }
      ]
    },
    {
      "cell_type": "code",
      "metadata": {
        "colab_type": "code",
        "id": "BeahQHQ_gAu6",
        "colab": {}
      },
      "source": [
        "#Annotation structure\n",
        "annotationType = T.StructType([\n",
        "            T.StructField('annotatorType', T.StringType(), False),\n",
        "            T.StructField('begin', T.IntegerType(), False),\n",
        "            T.StructField('end', T.IntegerType(), False),\n",
        "            T.StructField('result', T.StringType(), False),\n",
        "            T.StructField('metadata', T.MapType(T.StringType(), T.StringType()), False),\n",
        "            T.StructField('embeddings', T.ArrayType(T.FloatType()), False)\n",
        "        ])\n",
        "\n",
        "#UDF function to convert train data to names entitities\n",
        "\n",
        "@F.udf(T.ArrayType(annotationType))\n",
        "def createTrainAnnotations(begin1, end1, begin2, end2, chunk1, chunk2, label1, label2):\n",
        "    \n",
        "    entity1 = sparknlp.annotation.Annotation(\"chunk\", begin1, end1, chunk1, {'entity': label1.upper(), 'sentence': '0'}, [])\n",
        "    entity2 = sparknlp.annotation.Annotation(\"chunk\", begin2, end2, chunk2, {'entity': label2.upper(), 'sentence': '0'}, [])    \n",
        "        \n",
        "    entity1.annotatorType = \"chunk\"\n",
        "    entity2.annotatorType = \"chunk\"\n",
        "\n",
        "    return [entity1, entity2]    \n",
        "\n",
        "#list of valid relations\n",
        "rels = [\"TrIP\", \"TrAP\", \"TeCP\", \"TrNAP\", \"TrCP\", \"PIP\", \"TrWP\", \"TeRP\"]\n",
        "\n",
        "#a query to select list of valid relations\n",
        "valid_rel_query = \"(\" + \" OR \".join([\"rel = '{}'\".format(rel) for rel in rels]) + \")\"\n",
        "\n",
        "data = data\\\n",
        "  .withColumn(\"begin1i\", F.expr(\"cast(firstCharEnt1 AS Int)\"))\\\n",
        "  .withColumn(\"end1i\", F.expr(\"cast(lastCharEnt1 AS Int)\"))\\\n",
        "  .withColumn(\"begin2i\", F.expr(\"cast(firstCharEnt2 AS Int)\"))\\\n",
        "  .withColumn(\"end2i\", F.expr(\"cast(lastCharEnt2 AS Int)\"))\\\n",
        "  .where(\"begin1i IS NOT NULL\")\\\n",
        "  .where(\"end1i IS NOT NULL\")\\\n",
        "  .where(\"begin2i IS NOT NULL\")\\\n",
        "  .where(\"end2i IS NOT NULL\")\\\n",
        "  .where(valid_rel_query)\\\n",
        "  .withColumn(\n",
        "      \"train_ner_chunks\", \n",
        "      createTrainAnnotations(\n",
        "          \"begin1i\", \"end1i\", \"begin2i\", \"end2i\", \"chunk1\", \"chunk2\", \"label1\", \"label2\"\n",
        "      ).alias(\"train_ner_chunks\", metadata={'annotatorType': \"chunk\"}))\n",
        "    \n",
        "data = data.filter(data.label1!='')\n",
        "data = data.filter(data.label2!='')\n",
        "\n",
        "train_data = data.where(\"dataset='train'\")\n",
        "test_data = data.where(\"dataset='test'\")"
      ],
      "execution_count": null,
      "outputs": []
    },
    {
      "cell_type": "code",
      "metadata": {
        "id": "M-apStw0zkeX",
        "colab_type": "code",
        "colab": {}
      },
      "source": [
        "!wget https://raw.githubusercontent.com/JohnSnowLabs/spark-nlp-workshop/master/tutorials/Certification_Trainings/Healthcare/generic_classifier_graph/RE_in1200D_out20.pb"
      ],
      "execution_count": null,
      "outputs": []
    },
    {
      "cell_type": "code",
      "metadata": {
        "colab_type": "code",
        "id": "9bv8j-tgEMsX",
        "colab": {
          "base_uri": "https://localhost:8080/",
          "height": 165
        },
        "outputId": "d19e261f-1843-43ce-e43c-cee647c00877"
      },
      "source": [
        "documenter = sparknlp.DocumentAssembler()\\\n",
        "    .setInputCol(\"text\")\\\n",
        "    .setOutputCol(\"sentences\")\n",
        "\n",
        "tokenizer = sparknlp.annotators.Tokenizer()\\\n",
        "    .setInputCols([\"sentences\"])\\\n",
        "    .setOutputCol(\"tokens\")\\\n",
        "\n",
        "words_embedder = WordEmbeddingsModel()\\\n",
        "    .pretrained(\"embeddings_clinical\", \"en\", \"clinical/models\")\\\n",
        "    .setInputCols([\"sentences\", \"tokens\"])\\\n",
        "    .setOutputCol(\"embeddings\")\n",
        "\n",
        "pos_tagger = PerceptronModel()\\\n",
        "    .pretrained(\"pos_clinical\", \"en\", \"clinical/models\") \\\n",
        "    .setInputCols([\"sentences\", \"tokens\"])\\\n",
        "    .setOutputCol(\"pos_tags\")\n",
        "    \n",
        "dependency_parser = sparknlp.annotators.DependencyParserModel()\\\n",
        "    .pretrained(\"dependency_conllu\", \"en\")\\\n",
        "    .setInputCols([\"sentences\", \"pos_tags\", \"tokens\"])\\\n",
        "    .setOutputCol(\"dependencies\")\n",
        "\n",
        "# set training params and upload model graph (see ../Healthcare/8.Generic_Classifier.ipynb)\n",
        "reApproach = sparknlp_jsl.annotator.RelationExtractionApproach()\\\n",
        "    .setInputCols([\"embeddings\", \"pos_tags\", \"train_ner_chunks\", \"dependencies\"])\\\n",
        "    .setOutputCol(\"relations\")\\\n",
        "    .setLabelColumn(\"rel\")\\\n",
        "    .setEpochsNumber(50)\\\n",
        "    .setBatchSize(200)\\\n",
        "    .setDropout(0.5)\\\n",
        "    .setLearningRate(0.001)\\\n",
        "    .setModelFile(\"/content/RE_in1200D_out20.pb\")\\\n",
        "    .setFixImbalance(True)\\\n",
        "    .setFromEntity(\"begin1i\", \"end1i\", \"label1\")\\\n",
        "    .setToEntity(\"begin2i\", \"end2i\", \"label2\")\\\n",
        "    .setOutputLogsPath('/content')\n",
        "\n",
        "finisher = sparknlp.Finisher()\\\n",
        "    .setInputCols([\"relations\"])\\\n",
        "    .setOutputCols([\"relations_out\"])\\\n",
        "    .setCleanAnnotations(False)\\\n",
        "    .setValueSplitSymbol(\",\")\\\n",
        "    .setAnnotationSplitSymbol(\",\")\\\n",
        "    .setOutputAsArray(False)\n",
        "\n",
        "train_pipeline = Pipeline(stages=[\n",
        "    documenter, tokenizer, words_embedder, pos_tagger, \n",
        "    dependency_parser, reApproach, finisher\n",
        "])"
      ],
      "execution_count": null,
      "outputs": [
        {
          "output_type": "stream",
          "text": [
            "embeddings_clinical download started this may take some time.\n",
            "Approximate size to download 1.6 GB\n",
            "[OK!]\n",
            "pos_clinical download started this may take some time.\n",
            "Approximate size to download 1.7 MB\n",
            "[OK!]\n",
            "dependency_conllu download started this may take some time.\n",
            "Approximate size to download 16.6 MB\n",
            "[OK!]\n"
          ],
          "name": "stdout"
        }
      ]
    },
    {
      "cell_type": "code",
      "metadata": {
        "colab_type": "code",
        "id": "20A4L2nWEMsg",
        "colab": {
          "base_uri": "https://localhost:8080/",
          "height": 49
        },
        "outputId": "d66609ba-5187-464d-fd59-4729adfbc915"
      },
      "source": [
        "%time rel_model = train_pipeline.fit(train_data)"
      ],
      "execution_count": null,
      "outputs": [
        {
          "output_type": "stream",
          "text": [
            "CPU times: user 177 ms, sys: 35.2 ms, total: 212 ms\n",
            "Wall time: 14min 24s\n"
          ],
          "name": "stdout"
        }
      ]
    },
    {
      "cell_type": "code",
      "metadata": {
        "colab_type": "code",
        "id": "raThuIwTkNWN",
        "colab": {
          "base_uri": "https://localhost:8080/",
          "height": 33
        },
        "outputId": "ac2ff98c-1dec-437a-eff0-f1da496bc453"
      },
      "source": [
        "rel_model.stages[-2]"
      ],
      "execution_count": null,
      "outputs": [
        {
          "output_type": "execute_result",
          "data": {
            "text/plain": [
              "RelationExtractionModel_07995696a2d4"
            ]
          },
          "metadata": {
            "tags": []
          },
          "execution_count": 23
        }
      ]
    },
    {
      "cell_type": "code",
      "metadata": {
        "colab_type": "code",
        "id": "RSijJwEWkOSk",
        "colab": {}
      },
      "source": [
        "rel_model.stages[-2].write().overwrite().save('custom_RE_model')"
      ],
      "execution_count": null,
      "outputs": []
    },
    {
      "cell_type": "code",
      "metadata": {
        "colab_type": "code",
        "id": "oIieSDdUgrZ1",
        "colab": {}
      },
      "source": [
        "result = rel_model.transform(test_data)"
      ],
      "execution_count": null,
      "outputs": []
    },
    {
      "cell_type": "code",
      "metadata": {
        "colab_type": "code",
        "id": "NZkHEQ8Kjo1G",
        "colab": {
          "base_uri": "https://localhost:8080/",
          "height": 454
        },
        "outputId": "5ec6b9bb-8ab5-4acc-ca0e-bdfea7fc179b"
      },
      "source": [
        "recall = result\\\n",
        "  .groupBy(\"rel\")\\\n",
        "  .agg(F.avg(F.expr(\"IF(rel = relations_out, 1, 0)\")).alias(\"recall\"))\\\n",
        "  .select(\n",
        "      F.col(\"rel\").alias(\"relation\"), \n",
        "      F.format_number(\"recall\", 2).alias(\"recall\"))\\\n",
        "  .show()\n",
        "\n",
        "performance  = result\\\n",
        "  .where(\"relations_out <> ''\")\\\n",
        "  .groupBy(\"relations_out\")\\\n",
        "  .agg(F.avg(F.expr(\"IF(rel = relations_out, 1, 0)\")).alias(\"precision\"))\\\n",
        "  .select(\n",
        "      F.col(\"relations_out\").alias(\"relation\"), \n",
        "      F.format_number(\"precision\", 2).alias(\"precision\"))\\\n",
        "  .show()"
      ],
      "execution_count": null,
      "outputs": [
        {
          "output_type": "stream",
          "text": [
            "+--------+------+\n",
            "|relation|recall|\n",
            "+--------+------+\n",
            "|    TrIP|  0.20|\n",
            "|    TrAP|  0.93|\n",
            "|    TeCP|  0.53|\n",
            "|   TrNAP|  0.14|\n",
            "|    TrCP|  0.50|\n",
            "|     PIP|  0.96|\n",
            "|    TrWP|  0.03|\n",
            "|    TeRP|  0.92|\n",
            "+--------+------+\n",
            "\n",
            "+--------+---------+\n",
            "|relation|precision|\n",
            "+--------+---------+\n",
            "|    TrIP|     0.61|\n",
            "|    TrAP|     0.79|\n",
            "|    TeCP|     0.59|\n",
            "|   TrNAP|     0.41|\n",
            "|    TrCP|     0.62|\n",
            "|     PIP|     0.98|\n",
            "|    TrWP|     0.18|\n",
            "|    TeRP|     0.90|\n",
            "+--------+---------+\n",
            "\n"
          ],
          "name": "stdout"
        }
      ]
    },
    {
      "cell_type": "code",
      "metadata": {
        "colab_type": "code",
        "id": "8HS4uBUBfeCP",
        "colab": {}
      },
      "source": [
        "result_df = result.select(F.explode(F.arrays_zip('relations.result', 'relations.metadata')).alias(\"cols\")) \\\n",
        ".select(F.expr(\"cols['0']\").alias(\"relation\"),\n",
        "        F.expr(\"cols['1']['entity1']\").alias(\"entity1\"),\n",
        "        F.expr(\"cols['1']['entity1_begin']\").alias(\"entity1_begin\"),\n",
        "        F.expr(\"cols['1']['entity1_end']\").alias(\"entity1_end\"),\n",
        "        F.expr(\"cols['1']['chunk1']\").alias(\"chunk1\"),\n",
        "        F.expr(\"cols['1']['entity2']\").alias(\"entity2\"),\n",
        "        F.expr(\"cols['1']['entity2_begin']\").alias(\"entity2_begin\"),\n",
        "        F.expr(\"cols['1']['entity2_end']\").alias(\"entity2_end\"),\n",
        "        F.expr(\"cols['1']['chunk2']\").alias(\"chunk2\"),\n",
        "        F.expr(\"cols['1']['confidence']\").alias(\"confidence\")\n",
        "        )\n",
        "\n",
        "result_df.show(50, truncate=100)\n",
        "\n"
      ],
      "execution_count": null,
      "outputs": []
    },
    {
      "cell_type": "markdown",
      "metadata": {
        "colab_type": "text",
        "id": "HakYb_W-mZSR"
      },
      "source": [
        "## Load trained model from disk"
      ]
    },
    {
      "cell_type": "code",
      "metadata": {
        "colab_type": "code",
        "id": "PO5-oT-YqFMJ",
        "colab": {}
      },
      "source": [
        "import pandas as pd\n",
        "\n",
        "def get_relations_df (results, col='relations'):\n",
        "  rel_pairs=[]\n",
        "  for rel in results[0][col]:\n",
        "      rel_pairs.append((\n",
        "          rel.result, \n",
        "          rel.metadata['entity1'], \n",
        "          rel.metadata['entity1_begin'],\n",
        "          rel.metadata['entity1_end'],\n",
        "          rel.metadata['chunk1'], \n",
        "          rel.metadata['entity2'],\n",
        "          rel.metadata['entity2_begin'],\n",
        "          rel.metadata['entity2_end'],\n",
        "          rel.metadata['chunk2'], \n",
        "          rel.metadata['confidence']\n",
        "      ))\n",
        "\n",
        "  rel_df = pd.DataFrame(rel_pairs, columns=['relation','entity1','entity1_begin','entity1_end','chunk1','entity2','entity2_begin','entity2_end','chunk2', 'confidence'])\n",
        "\n",
        "  return rel_df"
      ],
      "execution_count": null,
      "outputs": []
    },
    {
      "cell_type": "code",
      "metadata": {
        "colab_type": "code",
        "id": "D8TtVuN-Ee8s",
        "colab": {
          "base_uri": "https://localhost:8080/",
          "height": 295
        },
        "outputId": "b5b7b981-a2c5-4eb8-8082-9e1b75036f45"
      },
      "source": [
        "documenter = DocumentAssembler()\\\n",
        "    .setInputCol(\"text\")\\\n",
        "    .setOutputCol(\"document\")\n",
        "\n",
        "sentencer = SentenceDetector()\\\n",
        "    .setInputCols([\"document\"])\\\n",
        "    .setOutputCol(\"sentences\")\n",
        "\n",
        "clinical_ner_tagger = sparknlp.annotators.NerDLModel()\\\n",
        "    .load(\"ner_clinical\")\\\n",
        "    .setInputCols(\"sentences\", \"tokens\", \"embeddings\")\\\n",
        "    .setOutputCol(\"ner_tags\")    \n",
        "\n",
        "loaded_re_Model = RelationExtractionModel()\\\n",
        "    .load(\"custom_RE_model')\\\n",
        "    .setInputCols([\"embeddings\", \"pos_tags\", \"ner_chunks\", \"dependencies\"]) \\\n",
        "    .setOutputCol(\"relations\")\\\n",
        "    .setRelationPairs([\"problem-test\", \"problem-treatment\"])\\\n",
        "    .setPredictionThreshold(0.9)\\\n",
        "    .setMaxSyntacticDistance(4)\n",
        "\n",
        "trained_pipeline = Pipeline(stages=[\n",
        "    documenter,\n",
        "    sentencer,\n",
        "    tokenizer, \n",
        "    words_embedder, \n",
        "    pos_tagger, \n",
        "    clinical_ner_tagger,\n",
        "    ner_chunker,\n",
        "    dependency_parser,\n",
        "    loaded_re_Model\n",
        "])\n",
        "\n",
        "empty_data = spark.createDataFrame([[\"\"]]).toDF(\"text\")\n",
        "\n",
        "loaded_re_model = trained_pipeline.fit(empty_data)\n",
        "\n",
        "\n",
        "text =\"\"\"A 28-year-old female with a history of gestational diabetes mellitus diagnosed eight years prior to presentation and subsequent type two diabetes mellitus ( T2DM ), \n",
        "one prior episode of HTG-induced pancreatitis three years prior to presentation,  associated with an acute hepatitis , and obesity with a body mass index ( BMI ) of 33.5 kg/m2 , presented with a one-week history of polyuria , polydipsia , poor appetite , and vomiting . Two weeks prior to presentation , she was treated with a five-day course of amoxicillin for a respiratory tract infection . She was on metformin , glipizide , and dapagliflozin for T2DM and atorvastatin and gemfibrozil for HTG . She had been on dapagliflozin for six months at the time of presentation. Physical examination on presentation was significant for dry oral mucosa ; significantly , her abdominal examination was benign with no tenderness , guarding , or rigidity . Pertinent laboratory findings on admission were : serum glucose 111 mg/dl , bicarbonate 18 mmol/l , anion gap 20 , creatinine 0.4 mg/dL , triglycerides 508 mg/dL , total cholesterol 122 mg/dL , glycated hemoglobin ( HbA1c ) 10% , and venous pH 7.27 . Serum lipase was normal at 43 U/L . Serum acetone levels could not be assessed as blood samples kept hemolyzing due to significant lipemia . The patient was initially admitted for starvation ketosis , as she reported poor oral intake for three days prior to admission . However , serum chemistry obtained six hours after presentation revealed her glucose was 186 mg/dL , the anion gap was still elevated at 21 , serum bicarbonate was 16 mmol/L , triglyceride level peaked at 2050 mg/dL , and lipase was 52 U/L . The β-hydroxybutyrate level was obtained and found to be elevated at 5.29 mmol/L - the original sample was centrifuged and the chylomicron layer removed prior to analysis due to interference from turbidity caused by lipemia again . The patient was treated with an insulin drip for euDKA and HTG with a reduction in the anion gap to 13 and triglycerides to 1400 mg/dL , within 24 hours . Her euDKA was thought to be precipitated by her respiratory tract infection in the setting of SGLT2 inhibitor use . The patient was seen by the endocrinology service and she was discharged on 40 units of insulin glargine at night , 12 units of insulin lispro with meals , and metformin 1000 mg two times a day . It was determined that all SGLT2 inhibitors should be discontinued indefinitely . \n",
        "She had close follow-up with endocrinology post discharge .\n",
        "\"\"\"\n",
        "\n",
        "loaded_re_model_light = LightPipeline(loaded_re_model)\n",
        "\n",
        "annotations = loaded_re_model_light.fullAnnotate(text)\n",
        "\n",
        "rel_df = get_relations_df (annotations)\n",
        "\n",
        "rel_df[rel_df.relation!=\"O\"]\n"
      ],
      "execution_count": null,
      "outputs": [
        {
          "output_type": "stream",
          "text": [
            "re_clinical download started this may take some time.\n",
            "Approximate size to download 6 MB\n",
            "[OK!]\n"
          ],
          "name": "stdout"
        },
        {
          "output_type": "execute_result",
          "data": {
            "text/html": [
              "<div>\n",
              "<style scoped>\n",
              "    .dataframe tbody tr th:only-of-type {\n",
              "        vertical-align: middle;\n",
              "    }\n",
              "\n",
              "    .dataframe tbody tr th {\n",
              "        vertical-align: top;\n",
              "    }\n",
              "\n",
              "    .dataframe thead th {\n",
              "        text-align: right;\n",
              "    }\n",
              "</style>\n",
              "<table border=\"1\" class=\"dataframe\">\n",
              "  <thead>\n",
              "    <tr style=\"text-align: right;\">\n",
              "      <th></th>\n",
              "      <th>relation</th>\n",
              "      <th>entity1</th>\n",
              "      <th>entity1_begin</th>\n",
              "      <th>entity1_end</th>\n",
              "      <th>chunk1</th>\n",
              "      <th>entity2</th>\n",
              "      <th>entity2_begin</th>\n",
              "      <th>entity2_end</th>\n",
              "      <th>chunk2</th>\n",
              "      <th>confidence</th>\n",
              "    </tr>\n",
              "  </thead>\n",
              "  <tbody>\n",
              "    <tr>\n",
              "      <th>6</th>\n",
              "      <td>TrAP</td>\n",
              "      <td>PROBLEM</td>\n",
              "      <td>617</td>\n",
              "      <td>620</td>\n",
              "      <td>T2DM</td>\n",
              "      <td>TREATMENT</td>\n",
              "      <td>626</td>\n",
              "      <td>637</td>\n",
              "      <td>atorvastatin</td>\n",
              "      <td>0.99955326</td>\n",
              "    </tr>\n",
              "    <tr>\n",
              "      <th>12</th>\n",
              "      <td>TrWP</td>\n",
              "      <td>TEST</td>\n",
              "      <td>1246</td>\n",
              "      <td>1258</td>\n",
              "      <td>blood samples</td>\n",
              "      <td>PROBLEM</td>\n",
              "      <td>1283</td>\n",
              "      <td>1301</td>\n",
              "      <td>significant lipemia</td>\n",
              "      <td>0.99998724</td>\n",
              "    </tr>\n",
              "    <tr>\n",
              "      <th>16</th>\n",
              "      <td>TeRP</td>\n",
              "      <td>TEST</td>\n",
              "      <td>1535</td>\n",
              "      <td>1547</td>\n",
              "      <td>the anion gap</td>\n",
              "      <td>PROBLEM</td>\n",
              "      <td>1553</td>\n",
              "      <td>1566</td>\n",
              "      <td>still elevated</td>\n",
              "      <td>0.9965193</td>\n",
              "    </tr>\n",
              "    <tr>\n",
              "      <th>22</th>\n",
              "      <td>TrAP</td>\n",
              "      <td>TEST</td>\n",
              "      <td>1838</td>\n",
              "      <td>1845</td>\n",
              "      <td>analysis</td>\n",
              "      <td>PROBLEM</td>\n",
              "      <td>1854</td>\n",
              "      <td>1880</td>\n",
              "      <td>interference from turbidity</td>\n",
              "      <td>0.9676019</td>\n",
              "    </tr>\n",
              "    <tr>\n",
              "      <th>26</th>\n",
              "      <td>TrWP</td>\n",
              "      <td>TREATMENT</td>\n",
              "      <td>1937</td>\n",
              "      <td>1951</td>\n",
              "      <td>an insulin drip</td>\n",
              "      <td>PROBLEM</td>\n",
              "      <td>1976</td>\n",
              "      <td>2003</td>\n",
              "      <td>a reduction in the anion gap</td>\n",
              "      <td>0.94099987</td>\n",
              "    </tr>\n",
              "    <tr>\n",
              "      <th>28</th>\n",
              "      <td>TeRP</td>\n",
              "      <td>PROBLEM</td>\n",
              "      <td>1976</td>\n",
              "      <td>2003</td>\n",
              "      <td>a reduction in the anion gap</td>\n",
              "      <td>TEST</td>\n",
              "      <td>2015</td>\n",
              "      <td>2027</td>\n",
              "      <td>triglycerides</td>\n",
              "      <td>0.9956793</td>\n",
              "    </tr>\n",
              "    <tr>\n",
              "      <th>29</th>\n",
              "      <td>TeRP</td>\n",
              "      <td>PROBLEM</td>\n",
              "      <td>2107</td>\n",
              "      <td>2137</td>\n",
              "      <td>her respiratory tract infection</td>\n",
              "      <td>TREATMENT</td>\n",
              "      <td>2157</td>\n",
              "      <td>2171</td>\n",
              "      <td>SGLT2 inhibitor</td>\n",
              "      <td>0.997498</td>\n",
              "    </tr>\n",
              "  </tbody>\n",
              "</table>\n",
              "</div>"
            ],
            "text/plain": [
              "   relation    entity1  ...                        chunk2  confidence\n",
              "6      TrAP    PROBLEM  ...                  atorvastatin  0.99955326\n",
              "12     TrWP       TEST  ...           significant lipemia  0.99998724\n",
              "16     TeRP       TEST  ...                still elevated   0.9965193\n",
              "22     TrAP       TEST  ...   interference from turbidity   0.9676019\n",
              "26     TrWP  TREATMENT  ...  a reduction in the anion gap  0.94099987\n",
              "28     TeRP    PROBLEM  ...                 triglycerides   0.9956793\n",
              "29     TeRP    PROBLEM  ...               SGLT2 inhibitor    0.997498\n",
              "\n",
              "[7 rows x 10 columns]"
            ]
          },
          "metadata": {
            "tags": []
          },
          "execution_count": 39
        }
      ]
    },
    {
      "cell_type": "code",
      "metadata": {
        "colab_type": "code",
        "id": "J0UsXRIgMT99",
        "colab": {}
      },
      "source": [
        ""
      ],
      "execution_count": null,
      "outputs": []
    }
  ]
}