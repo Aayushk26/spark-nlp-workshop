{
 "cells": [
  {
   "cell_type": "markdown",
   "metadata": {
    "colab_type": "text",
    "id": "I08sFJYCxR0Z"
   },
   "source": [
    "![JohnSnowLabs](https://nlp.johnsnowlabs.com/assets/images/logo.png)"
   ]
  },
  {
   "cell_type": "markdown",
   "metadata": {
    "colab_type": "text",
    "id": "LKI5K1wQrSe9"
   },
   "source": [
    "[![Open In Colab](https://colab.research.google.com/assets/colab-badge.svg)](https://colab.research.google.com/github/JohnSnowLabs/spark-nlp-workshop/blob/master/tutorials/Certification_Trainings/Healthcare/4.Clinical_DeIdentificiation.ipynb)"
   ]
  },
  {
   "cell_type": "markdown",
   "metadata": {
    "colab_type": "text",
    "id": "Niy3mZAjoayg"
   },
   "source": [
    "# Clinical Deidentification"
   ]
  },
  {
   "cell_type": "markdown",
   "metadata": {
    "colab_type": "text",
    "id": "okhT7AcXxben"
   },
   "source": [
    "## Colab Setup"
   ]
  },
  {
   "cell_type": "code",
   "execution_count": null,
   "metadata": {
    "colab": {
     "base_uri": "https://localhost:8080/",
     "height": 34
    },
    "colab_type": "code",
    "id": "I8Ytt2LLp2rj",
    "outputId": "43f7a5c8-1ab2-4fa4-a955-af777f25fb52"
   },
   "outputs": [
    {
     "data": {
      "text/plain": [
       "dict_keys(['SECRET', 'SPARK_NLP_LICENSE', 'SPARK_OCR_LICENSE', 'AWS_ACCESS_KEY_ID', 'AWS_SECRET_ACCESS_KEY', 'JSL_OCR_SECRET', 'JSL_VERSION', 'PUBLIC_VERSION'])"
      ]
     },
     "execution_count": 3,
     "metadata": {
      "tags": []
     },
     "output_type": "execute_result"
    }
   ],
   "source": [
    "import json\n",
    "\n",
    "with open('workshop_license_keys_Aug2020.json') as f:\n",
    "    license_keys = json.load(f)\n",
    "\n",
    "license_keys.keys()\n"
   ]
  },
  {
   "cell_type": "code",
   "execution_count": null,
   "metadata": {
    "colab": {
     "base_uri": "https://localhost:8080/",
     "height": 35
    },
    "colab_type": "code",
    "id": "iYPLeCFGf88G",
    "outputId": "5ab2fc06-01a3-4bae-9845-6ec8389d14cd"
   },
   "outputs": [
    {
     "data": {
      "application/vnd.google.colaboratory.intrinsic+json": {
       "type": "string"
      },
      "text/plain": [
       "'2.5.3'"
      ]
     },
     "execution_count": 4,
     "metadata": {
      "tags": []
     },
     "output_type": "execute_result"
    }
   ],
   "source": [
    "license_keys['JSL_VERSION']"
   ]
  },
  {
   "cell_type": "code",
   "execution_count": null,
   "metadata": {
    "colab": {
     "base_uri": "https://localhost:8080/",
     "height": 153
    },
    "colab_type": "code",
    "id": "_BkrtwRnBcnw",
    "outputId": "f91d88d6-7b06-4528-bdcf-76e628c5d4d5"
   },
   "outputs": [
    {
     "data": {
      "text/plain": [
       "{'AWS_ACCESS_KEY_ID': 'ccc',\n",
       " 'AWS_SECRET_ACCESS_KEY': 'ddd',\n",
       " 'JSL_OCR_LICENSE': 'bbb',\n",
       " 'JSL_OCR_SECRET': 'eee',\n",
       " 'JSL_VERSION': 'jjj',\n",
       " 'PUBLIC_VERSION': 'vvv',\n",
       " 'SECRET': 'xxx',\n",
       " 'SPARK_NLP_LICENSE': 'aaa'}"
      ]
     },
     "execution_count": 5,
     "metadata": {
      "tags": []
     },
     "output_type": "execute_result"
    }
   ],
   "source": [
    "# template for license_key.json\n",
    "\n",
    "{'JSL_VERSION':'jjj',\n",
    "'PUBLIC_VERSION':'vvv',\n",
    "'SECRET':\"xxx\",\n",
    "'SPARK_NLP_LICENSE': 'aaa',\n",
    "'JSL_OCR_LICENSE': 'bbb',\n",
    "'AWS_ACCESS_KEY_ID':\"ccc\",\n",
    "'AWS_SECRET_ACCESS_KEY':\"ddd\",\n",
    "'JSL_OCR_SECRET':\"eee\"}"
   ]
  },
  {
   "cell_type": "code",
   "execution_count": null,
   "metadata": {
    "colab": {},
    "colab_type": "code",
    "id": "xy-mE2aVxZjl"
   },
   "outputs": [],
   "source": [
    "import os\n",
    "\n",
    "# Install java\n",
    "! apt-get update -qq\n",
    "! apt-get install -y openjdk-8-jdk-headless -qq > /dev/null\n",
    "\n",
    "os.environ[\"JAVA_HOME\"] = \"/usr/lib/jvm/java-8-openjdk-amd64\"\n",
    "os.environ[\"PATH\"] = os.environ[\"JAVA_HOME\"] + \"/bin:\" + os.environ[\"PATH\"]\n",
    "! java -version\n",
    "\n",
    "secret = license_keys['SECRET']\n",
    "\n",
    "os.environ['SPARK_NLP_LICENSE'] = license_keys['SPARK_NLP_LICENSE']\n",
    "os.environ['SPARK_OCR_LICENSE'] = license_keys['SPARK_OCR_LICENSE']\n",
    "os.environ['AWS_ACCESS_KEY_ID']= license_keys['AWS_ACCESS_KEY_ID']\n",
    "os.environ['AWS_SECRET_ACCESS_KEY'] = license_keys['AWS_SECRET_ACCESS_KEY']\n",
    "jsl_version = license_keys['JSL_VERSION']\n",
    "version = license_keys['PUBLIC_VERSION']\n",
    "\n",
    "! pip install --ignore-installed -q pyspark==2.4.4\n",
    "\n",
    "! python -m pip install --upgrade spark-nlp-jsl==$jsl_version  --extra-index-url https://pypi.johnsnowlabs.com/$secret\n",
    "\n",
    "! pip install --ignore-installed -q spark-nlp==$version\n",
    "\n",
    "import sparknlp\n",
    "\n",
    "print (sparknlp.version())\n",
    "\n",
    "import json\n",
    "import os\n",
    "from pyspark.ml import Pipeline\n",
    "from pyspark.sql import SparkSession\n",
    "\n",
    "\n",
    "from sparknlp.annotator import *\n",
    "from sparknlp_jsl.annotator import *\n",
    "from sparknlp.base import *\n",
    "import sparknlp_jsl\n",
    "\n",
    "spark = sparknlp_jsl.start(secret)"
   ]
  },
  {
   "cell_type": "code",
   "execution_count": null,
   "metadata": {
    "colab": {},
    "colab_type": "code",
    "id": "VtLIEJtPf88T"
   },
   "outputs": [],
   "source": [
    "# if you want to start the session with custom params as in start function above\n",
    "def start(secret):\n",
    "    builder = SparkSession.builder \\\n",
    "        .appName(\"Spark NLP Licensed\") \\\n",
    "        .master(\"local[*]\") \\\n",
    "        .config(\"spark.driver.memory\", \"16G\") \\\n",
    "        .config(\"spark.serializer\", \"org.apache.spark.serializer.KryoSerializer\") \\\n",
    "        .config(\"spark.kryoserializer.buffer.max\", \"2000M\") \\\n",
    "        .config(\"spark.jars.packages\", \"com.johnsnowlabs.nlp:spark-nlp_2.11:\"+version) \\\n",
    "        .config(\"spark.jars\", \"https://pypi.johnsnowlabs.com/\"+secret+\"/spark-nlp-jsl-\"+jsl_version+\".jar\")\n",
    "      \n",
    "    return builder.getOrCreate()\n",
    "\n",
    "#spark = start(secret)"
   ]
  },
  {
   "cell_type": "code",
   "execution_count": null,
   "metadata": {
    "colab": {
     "base_uri": "https://localhost:8080/",
     "height": 216
    },
    "colab_type": "code",
    "id": "V1wrGrq0GClP",
    "outputId": "996f8a96-9cac-48fa-917f-6e0c000dc789"
   },
   "outputs": [
    {
     "data": {
      "text/html": [
       "\n",
       "            <div>\n",
       "                <p><b>SparkSession - in-memory</b></p>\n",
       "                \n",
       "        <div>\n",
       "            <p><b>SparkContext</b></p>\n",
       "\n",
       "            <p><a href=\"http://ecf7cb564cba:4040\">Spark UI</a></p>\n",
       "\n",
       "            <dl>\n",
       "              <dt>Version</dt>\n",
       "                <dd><code>v2.4.4</code></dd>\n",
       "              <dt>Master</dt>\n",
       "                <dd><code>local[*]</code></dd>\n",
       "              <dt>AppName</dt>\n",
       "                <dd><code>Spark NLP Licensed</code></dd>\n",
       "            </dl>\n",
       "        </div>\n",
       "        \n",
       "            </div>\n",
       "        "
      ],
      "text/plain": [
       "<pyspark.sql.session.SparkSession at 0x7fd0c3b04c50>"
      ]
     },
     "execution_count": 8,
     "metadata": {
      "tags": []
     },
     "output_type": "execute_result"
    }
   ],
   "source": [
    "spark"
   ]
  },
  {
   "cell_type": "markdown",
   "metadata": {
    "colab_type": "text",
    "id": "rFQifkFYihOc"
   },
   "source": [
    "# Deidentification Model"
   ]
  },
  {
   "cell_type": "markdown",
   "metadata": {
    "colab_type": "text",
    "id": "2eY0jM7kf88f"
   },
   "source": [
    "Protected Health Information: \n",
    "- individual’s past, present, or future physical or mental health or condition\n",
    "- provision of health care to the individual\n",
    "- past, present, or future payment for the health care \n",
    "\n",
    "Protected health information includes many common identifiers (e.g., name, address, birth date, Social Security Number) when they can be associated with the health information."
   ]
  },
  {
   "cell_type": "markdown",
   "metadata": {
    "colab_type": "text",
    "id": "ZKln9C7Ef88f"
   },
   "source": [
    "Load NER pipeline to isentify protected entities:"
   ]
  },
  {
   "cell_type": "code",
   "execution_count": null,
   "metadata": {
    "colab": {},
    "colab_type": "code",
    "id": "ONMo7NWXU19B"
   },
   "outputs": [],
   "source": [
    "import pandas as pd\n",
    "\n",
    "pd.set_option('display.max_columns', None)  \n",
    "pd.set_option('display.expand_frame_repr', False)\n",
    "pd.set_option('max_colwidth', None)\n",
    "\n",
    "from sparknlp.base import *\n",
    "from sparknlp.annotator import *\n",
    "from pyspark.ml import Pipeline, PipelineModel\n",
    "import pyspark.sql.functions as F\n",
    "import string\n",
    "import numpy as np\n",
    "import sparknlp\n",
    "from sparknlp.util import *\n",
    "from sparknlp.pretrained import ResourceDownloader\n",
    "from pyspark.sql import functions as F\n",
    "from sparknlp_jsl.annotator import *"
   ]
  },
  {
   "cell_type": "code",
   "execution_count": null,
   "metadata": {
    "colab": {
     "base_uri": "https://localhost:8080/",
     "height": 119
    },
    "colab_type": "code",
    "id": "qHzG7Wvhgcex",
    "outputId": "cb08c133-8ba0-4625-b042-af3d34221a79"
   },
   "outputs": [
    {
     "name": "stdout",
     "output_type": "stream",
     "text": [
      "embeddings_clinical download started this may take some time.\n",
      "Approximate size to download 1.6 GB\n",
      "[OK!]\n",
      "ner_deid_large download started this may take some time.\n",
      "Approximate size to download 13.9 MB\n",
      "[OK!]\n"
     ]
    }
   ],
   "source": [
    "from sparknlp_jsl.annotator import *\n",
    "\n",
    "documentAssembler = DocumentAssembler()\\\n",
    "  .setInputCol(\"text\")\\\n",
    "  .setOutputCol(\"document\")\n",
    "\n",
    "# Sentence Detector annotator, processes various sentences per line\n",
    "\n",
    "sentenceDetector = SentenceDetector()\\\n",
    "  .setInputCols([\"document\"])\\\n",
    "  .setOutputCol(\"sentence\")\n",
    "\n",
    "# Tokenizer splits words in a relevant format for NLP\n",
    "\n",
    "tokenizer = Tokenizer()\\\n",
    "  .setInputCols([\"sentence\"])\\\n",
    "  .setOutputCol(\"token\")\n",
    "\n",
    "# Clinical word embeddings trained on PubMED dataset\n",
    "\n",
    "word_embeddings = WordEmbeddingsModel.pretrained(\"embeddings_clinical\", \"en\", \"clinical/models\")\\\n",
    "  .setInputCols([\"sentence\", \"token\"])\\\n",
    "  .setOutputCol(\"embeddings\")\n",
    "\n",
    "# NER model trained on n2c2 (de-identification and Heart Disease Risk Factors Challenge) datasets)\n",
    "\n",
    "clinical_ner = NerDLModel.pretrained(\"ner_deid_large\", \"en\", \"clinical/models\") \\\n",
    "  .setInputCols([\"sentence\", \"token\", \"embeddings\"]) \\\n",
    "  .setOutputCol(\"ner\")\n",
    "\n",
    "ner_converter = NerConverterInternal()\\\n",
    "  .setInputCols([\"sentence\", \"token\", \"ner\"])\\\n",
    "  .setOutputCol(\"ner_chunk\")\n",
    "\n",
    "nlpPipeline = Pipeline(stages=[\n",
    "    documentAssembler, \n",
    "    sentenceDetector,\n",
    "    tokenizer,\n",
    "    word_embeddings,\n",
    "    clinical_ner,\n",
    "    ner_converter])\n",
    "\n",
    "empty_data = spark.createDataFrame([[\"\"]]).toDF(\"text\")\n",
    "\n",
    "model = nlpPipeline.fit(empty_data)"
   ]
  },
  {
   "cell_type": "markdown",
   "metadata": {
    "colab_type": "text",
    "id": "woAJhVv6f88m"
   },
   "source": [
    "### Pretrained NER models extracts:\n",
    "\n",
    "- Name\n",
    "- Profession\n",
    "- Age\n",
    "- Date\n",
    "- Contact(Telephone numbers, FAX numbers, Email addresses)\n",
    "- Location (Address, City, Postal code, Hospital Name, Employment information)\n",
    "- Id (Social Security numbers, Medical record numbers, Internet protocol addresses)"
   ]
  },
  {
   "cell_type": "code",
   "execution_count": null,
   "metadata": {
    "colab": {},
    "colab_type": "code",
    "id": "Fxdh4CBBf88n"
   },
   "outputs": [],
   "source": [
    "text ='''\n",
    "A . Record date : 2093-01-13 , David Hale , M.D . , Name : Hendrickson , Ora MR . # 7194334 Date : 01/13/93 PCP : Oliveira , 25 month years-old , Record date : 2079-11-09 . Cocke County Baptist Hospital . 0295 Keats Street\n",
    "'''"
   ]
  },
  {
   "cell_type": "code",
   "execution_count": null,
   "metadata": {
    "colab": {},
    "colab_type": "code",
    "id": "AE7cILT6f88q"
   },
   "outputs": [],
   "source": [
    "result = model.transform(spark.createDataFrame([[text]]).toDF(\"text\"))"
   ]
  },
  {
   "cell_type": "code",
   "execution_count": null,
   "metadata": {
    "colab": {},
    "colab_type": "code",
    "id": "5cxcMyvLf88u"
   },
   "outputs": [],
   "source": [
    "result_df = result.select(F.explode(F.arrays_zip('token.result', 'ner.result')).alias(\"cols\")) \\\n",
    ".select(F.expr(\"cols['0']\").alias(\"token\"),\n",
    "        F.expr(\"cols['1']\").alias(\"ner_label\"))"
   ]
  },
  {
   "cell_type": "code",
   "execution_count": null,
   "metadata": {
    "colab": {
     "base_uri": "https://localhost:8080/",
     "height": 238
    },
    "colab_type": "code",
    "id": "nygC3Hbzf88x",
    "outputId": "836b7b8b-bb78-4bf6-c390-eb360b6f56d4"
   },
   "outputs": [
    {
     "name": "stdout",
     "output_type": "stream",
     "text": [
      "+----------+-----+\n",
      "|ner_label |count|\n",
      "+----------+-----+\n",
      "|O         |28   |\n",
      "|I-LOCATION|5    |\n",
      "|B-NAME    |3    |\n",
      "|I-NAME    |3    |\n",
      "|B-DATE    |3    |\n",
      "|B-LOCATION|2    |\n",
      "|B-ID      |1    |\n",
      "|B-AGE     |1    |\n",
      "+----------+-----+\n",
      "\n"
     ]
    }
   ],
   "source": [
    "result_df.select(\"token\", \"ner_label\").groupBy('ner_label').count().orderBy('count', ascending=False).show(truncate=False)"
   ]
  },
  {
   "cell_type": "markdown",
   "metadata": {
    "colab_type": "text",
    "id": "DJvt31qlf880"
   },
   "source": [
    "### Check extracted sensetive entities"
   ]
  },
  {
   "cell_type": "code",
   "execution_count": null,
   "metadata": {
    "colab": {
     "base_uri": "https://localhost:8080/",
     "height": 272
    },
    "colab_type": "code",
    "id": "gneft_Mgf881",
    "outputId": "313042d9-85f6-4401-8400-8ec8e6070a31"
   },
   "outputs": [
    {
     "name": "stdout",
     "output_type": "stream",
     "text": [
      "+-----------------------------+---------+\n",
      "|chunk                        |ner_label|\n",
      "+-----------------------------+---------+\n",
      "|2093-01-13                   |DATE     |\n",
      "|David Hale                   |NAME     |\n",
      "|Hendrickson , Ora            |NAME     |\n",
      "|7194334                      |ID       |\n",
      "|01/13/93                     |DATE     |\n",
      "|Oliveira                     |NAME     |\n",
      "|25                           |AGE      |\n",
      "|2079-11-09                   |DATE     |\n",
      "|Cocke County Baptist Hospital|LOCATION |\n",
      "|0295 Keats Street            |LOCATION |\n",
      "+-----------------------------+---------+\n",
      "\n"
     ]
    }
   ],
   "source": [
    "result.select(F.explode(F.arrays_zip('ner_chunk.result', 'ner_chunk.metadata')).alias(\"cols\")) \\\n",
    ".select(F.expr(\"cols['0']\").alias(\"chunk\"),\n",
    "        F.expr(\"cols['1']['entity']\").alias(\"ner_label\")).show(truncate=False)"
   ]
  },
  {
   "cell_type": "markdown",
   "metadata": {
    "colab_type": "text",
    "id": "vHgjbu0Xf885"
   },
   "source": [
    "We can find the cases, where the model will skip some important entities, for example:"
   ]
  },
  {
   "cell_type": "code",
   "execution_count": null,
   "metadata": {
    "colab": {},
    "colab_type": "code",
    "id": "3I9EdNGMf885"
   },
   "outputs": [],
   "source": [
    "text ='''\n",
    "Patient AIQING, 25 month years-old , born in Beijing, was transfered to the The Johns Hopkins Hospital. Phone number: (541) 754-3010. MSW 100009632582\n",
    "'''"
   ]
  },
  {
   "cell_type": "code",
   "execution_count": null,
   "metadata": {
    "colab": {},
    "colab_type": "code",
    "id": "NFlcDIG5f888"
   },
   "outputs": [],
   "source": [
    "result = model.transform(spark.createDataFrame([[text]]).toDF(\"text\"))"
   ]
  },
  {
   "cell_type": "code",
   "execution_count": null,
   "metadata": {
    "colab": {
     "base_uri": "https://localhost:8080/",
     "height": 187
    },
    "colab_type": "code",
    "id": "xg5StqfBf89B",
    "outputId": "7a492efe-b061-4fae-98bf-397563755a00"
   },
   "outputs": [
    {
     "name": "stdout",
     "output_type": "stream",
     "text": [
      "+--------------------------+---------+\n",
      "|chunk                     |ner_label|\n",
      "+--------------------------+---------+\n",
      "|25                        |AGE      |\n",
      "|Beijing                   |LOCATION |\n",
      "|The Johns Hopkins Hospital|LOCATION |\n",
      "|(541) 754-3010            |CONTACT  |\n",
      "|100009632582              |ID       |\n",
      "+--------------------------+---------+\n",
      "\n"
     ]
    }
   ],
   "source": [
    "result_df = result.select(F.explode(F.arrays_zip('token.result', 'ner.result')).alias(\"cols\")) \\\n",
    ".select(F.expr(\"cols['0']\").alias(\"token\"),\n",
    "        F.expr(\"cols['1']\").alias(\"ner_label\"))\n",
    "\n",
    "result.select(F.explode(F.arrays_zip('ner_chunk.result', 'ner_chunk.metadata')).alias(\"cols\")) \\\n",
    ".select(F.expr(\"cols['0']\").alias(\"chunk\"),\n",
    "        F.expr(\"cols['1']['entity']\").alias(\"ner_label\")).show(truncate=False)"
   ]
  },
  {
   "cell_type": "markdown",
   "metadata": {
    "colab_type": "text",
    "id": "DExQOzZxf89E"
   },
   "source": [
    "For these entities we can add a dictionary to the pipeline, by using **NerOverwriter()**:"
   ]
  },
  {
   "cell_type": "code",
   "execution_count": null,
   "metadata": {
    "colab": {},
    "colab_type": "code",
    "id": "UPu8J-FBf89E"
   },
   "outputs": [],
   "source": [
    "neroverwriter = NerOverwriter() \\\n",
    "    .setInputCols([\"ner\"]) \\\n",
    "    .setOutputCol(\"ner_overwrited\") \\\n",
    "    .setStopWords(['AIQING']) \\\n",
    "    .setNewResult(\"I-NAME\")\n",
    "\n",
    "ner_converter = NerConverterInternal()\\\n",
    "  .setInputCols([\"sentence\", \"token\", \"ner_overwrited\"])\\\n",
    "  .setOutputCol(\"ner_chunk\")\n",
    "\n",
    "nlpPipeline = Pipeline(stages=[\n",
    "    documentAssembler, \n",
    "    sentenceDetector,\n",
    "    tokenizer,\n",
    "    word_embeddings,\n",
    "    clinical_ner,\n",
    "    neroverwriter,\n",
    "    ner_converter])\n",
    "\n",
    "empty_data = spark.createDataFrame([[\"\"]]).toDF(\"text\")\n",
    "\n",
    "model = nlpPipeline.fit(empty_data)"
   ]
  },
  {
   "cell_type": "markdown",
   "metadata": {
    "colab_type": "text",
    "id": "rgkbyhLBf89H"
   },
   "source": [
    "Let's test the model after modification:"
   ]
  },
  {
   "cell_type": "code",
   "execution_count": null,
   "metadata": {
    "colab": {},
    "colab_type": "code",
    "id": "Bx3Numhlf89I"
   },
   "outputs": [],
   "source": [
    "result = model.transform(spark.createDataFrame([[text]]).toDF(\"text\"))"
   ]
  },
  {
   "cell_type": "code",
   "execution_count": null,
   "metadata": {
    "colab": {
     "base_uri": "https://localhost:8080/",
     "height": 459
    },
    "colab_type": "code",
    "id": "S76-ayLGf89L",
    "outputId": "2dbc4d42-c9f7-4df8-8ba2-d12a210d1ed8"
   },
   "outputs": [
    {
     "name": "stdout",
     "output_type": "stream",
     "text": [
      "+----------+----------+\n",
      "|     token| ner_label|\n",
      "+----------+----------+\n",
      "|   Patient|         O|\n",
      "|    AIQING|         O|\n",
      "|         ,|         O|\n",
      "|        25|     B-AGE|\n",
      "|     month|         O|\n",
      "| years-old|         O|\n",
      "|         ,|         O|\n",
      "|      born|         O|\n",
      "|        in|         O|\n",
      "|   Beijing|B-LOCATION|\n",
      "|         ,|         O|\n",
      "|       was|         O|\n",
      "|transfered|         O|\n",
      "|        to|         O|\n",
      "|       the|         O|\n",
      "|       The|B-LOCATION|\n",
      "|     Johns|I-LOCATION|\n",
      "|   Hopkins|I-LOCATION|\n",
      "|  Hospital|I-LOCATION|\n",
      "|         .|         O|\n",
      "+----------+----------+\n",
      "only showing top 20 rows\n",
      "\n"
     ]
    }
   ],
   "source": [
    "result_df = result.select(F.explode(F.arrays_zip('token.result', 'ner.result')).alias(\"cols\")) \\\n",
    ".select(F.expr(\"cols['0']\").alias(\"token\"),\n",
    "        F.expr(\"cols['1']\").alias(\"ner_label\"))\n",
    "\n",
    "result_df.show()"
   ]
  },
  {
   "cell_type": "code",
   "execution_count": null,
   "metadata": {
    "colab": {
     "base_uri": "https://localhost:8080/",
     "height": 204
    },
    "colab_type": "code",
    "id": "cTTMqSN_sLJk",
    "outputId": "63ffe6fd-14e6-4e11-b115-a69a6cf1b341"
   },
   "outputs": [
    {
     "name": "stdout",
     "output_type": "stream",
     "text": [
      "+--------------------------+---------+\n",
      "|chunk                     |ner_label|\n",
      "+--------------------------+---------+\n",
      "|AIQING                    |NAME     |\n",
      "|25                        |AGE      |\n",
      "|Beijing                   |LOCATION |\n",
      "|The Johns Hopkins Hospital|LOCATION |\n",
      "|(541) 754-3010            |CONTACT  |\n",
      "|100009632582              |ID       |\n",
      "+--------------------------+---------+\n",
      "\n"
     ]
    }
   ],
   "source": [
    "result.select(F.explode(F.arrays_zip('ner_chunk.result', 'ner_chunk.metadata')).alias(\"cols\")) \\\n",
    ".select(F.expr(\"cols['0']\").alias(\"chunk\"),\n",
    "        F.expr(\"cols['1']['entity']\").alias(\"ner_label\")).show(truncate=False)"
   ]
  },
  {
   "cell_type": "markdown",
   "metadata": {
    "colab_type": "text",
    "id": "U3MySdbyf89P"
   },
   "source": [
    "As we can see, now name **AIQING** was identified correctly"
   ]
  },
  {
   "cell_type": "markdown",
   "metadata": {
    "colab_type": "text",
    "id": "EkD3zogqf89Q"
   },
   "source": [
    "### Excluding entities from deidentification"
   ]
  },
  {
   "cell_type": "markdown",
   "metadata": {
    "colab_type": "text",
    "id": "my04HL3rf89Q"
   },
   "source": [
    "Sometimes we need to leave some entities in the text, for example, if we want to analyze the frequency of the disease by the hospital. In this case, we need to use parameter **setWhiteList()** to modify NerChunk output. This parameter having using a list of entities type to deidentify as an input. So, if we want to leave the location in the list we need to remove this tag from the list:"
   ]
  },
  {
   "cell_type": "code",
   "execution_count": null,
   "metadata": {
    "colab": {},
    "colab_type": "code",
    "id": "3Bj066u9f89R"
   },
   "outputs": [],
   "source": [
    "ner_converter = NerConverterInternal()\\\n",
    "  .setInputCols([\"sentence\", \"token\", \"ner_overwrited\"])\\\n",
    "  .setOutputCol(\"ner_chunk\") \\\n",
    "  .setWhiteList(['NAME', 'PROFESSION', 'ID', 'AGE',\n",
    "               'DATE', 'CONTACT'])\n",
    "\n",
    "nlpPipeline = Pipeline(stages=[\n",
    "    documentAssembler, \n",
    "    sentenceDetector,\n",
    "    tokenizer,\n",
    "    word_embeddings,\n",
    "    clinical_ner,\n",
    "    neroverwriter,\n",
    "    ner_converter])\n",
    "\n",
    "empty_data = spark.createDataFrame([[\"\"]]).toDF(\"text\")\n",
    "\n",
    "model_with_white_list = nlpPipeline.fit(empty_data)"
   ]
  },
  {
   "cell_type": "code",
   "execution_count": null,
   "metadata": {
    "colab": {},
    "colab_type": "code",
    "id": "oWNZR2trf89U"
   },
   "outputs": [],
   "source": [
    "result_with_white_list = model_with_white_list.transform(spark.createDataFrame([[text]]).toDF(\"text\"))"
   ]
  },
  {
   "cell_type": "code",
   "execution_count": null,
   "metadata": {
    "colab": {
     "base_uri": "https://localhost:8080/",
     "height": 170
    },
    "colab_type": "code",
    "id": "HFTW28Cbf89Y",
    "outputId": "d41dbb81-7bb1-431c-f041-85d00f453853"
   },
   "outputs": [
    {
     "name": "stdout",
     "output_type": "stream",
     "text": [
      "+--------------+---------+\n",
      "|chunk         |ner_label|\n",
      "+--------------+---------+\n",
      "|AIQING        |NAME     |\n",
      "|25            |AGE      |\n",
      "|(541) 754-3010|CONTACT  |\n",
      "|100009632582  |ID       |\n",
      "+--------------+---------+\n",
      "\n"
     ]
    }
   ],
   "source": [
    "result_df = result.select(F.explode(F.arrays_zip('token.result', 'ner.result')).alias(\"cols\")) \\\n",
    ".select(F.expr(\"cols['0']\").alias(\"token\"),\n",
    "        F.expr(\"cols['1']\").alias(\"ner_label\"))\n",
    "\n",
    "result_with_white_list.select(F.explode(F.arrays_zip('ner_chunk.result', 'ner_chunk.metadata')).alias(\"cols\")) \\\n",
    ".select(F.expr(\"cols['0']\").alias(\"chunk\"),\n",
    "        F.expr(\"cols['1']['entity']\").alias(\"ner_label\")).show(truncate=False)"
   ]
  },
  {
   "cell_type": "markdown",
   "metadata": {
    "colab_type": "text",
    "id": "rckvYUKVf89b"
   },
   "source": [
    "## Masking and Obfuscation"
   ]
  },
  {
   "cell_type": "markdown",
   "metadata": {
    "colab_type": "text",
    "id": "HLt9SFX5f89b"
   },
   "source": [
    "### Replace this enitites with Tags"
   ]
  },
  {
   "cell_type": "code",
   "execution_count": null,
   "metadata": {
    "colab": {
     "base_uri": "https://localhost:8080/",
     "height": 68
    },
    "colab_type": "code",
    "id": "WaFe5bZzhEXT",
    "outputId": "5ded0f94-46b2-431f-f0de-719ad65401f9"
   },
   "outputs": [
    {
     "name": "stdout",
     "output_type": "stream",
     "text": [
      "deidentify_large download started this may take some time.\n",
      "Approximate size to download 188.1 KB\n",
      "[OK!]\n"
     ]
    }
   ],
   "source": [
    "deidentification = DeIdentificationModel.pretrained(\"deidentify_large\", \"en\", \"clinical/models\") \\\n",
    "      .setInputCols([\"sentence\", \"token\", \"ner_chunk\"]) \\\n",
    "      .setOutputCol(\"deidentified\") \\\n",
    "      .setMode(\"mask\")"
   ]
  },
  {
   "cell_type": "code",
   "execution_count": null,
   "metadata": {
    "colab": {
     "base_uri": "https://localhost:8080/",
     "height": 204
    },
    "colab_type": "code",
    "id": "Pg8fRNyQsZFd",
    "outputId": "dc23f2ef-5a97-49e8-b4c2-f5891a6d4282"
   },
   "outputs": [
    {
     "name": "stdout",
     "output_type": "stream",
     "text": [
      "+--------------------------+---------+\n",
      "|chunk                     |ner_label|\n",
      "+--------------------------+---------+\n",
      "|AIQING                    |NAME     |\n",
      "|25                        |AGE      |\n",
      "|Beijing                   |LOCATION |\n",
      "|The Johns Hopkins Hospital|LOCATION |\n",
      "|(541) 754-3010            |CONTACT  |\n",
      "|100009632582              |ID       |\n",
      "+--------------------------+---------+\n",
      "\n"
     ]
    }
   ],
   "source": [
    "result.select(F.explode(F.arrays_zip('ner_chunk.result', 'ner_chunk.metadata')).alias(\"cols\")) \\\n",
    ".select(F.expr(\"cols['0']\").alias(\"chunk\"),\n",
    "        F.expr(\"cols['1']['entity']\").alias(\"ner_label\")).show(truncate=False)"
   ]
  },
  {
   "cell_type": "code",
   "execution_count": null,
   "metadata": {
    "colab": {},
    "colab_type": "code",
    "id": "KIGNZ52Sf89e"
   },
   "outputs": [],
   "source": [
    "deid_text = deidentification.transform(result)"
   ]
  },
  {
   "cell_type": "code",
   "execution_count": null,
   "metadata": {
    "colab": {
     "base_uri": "https://localhost:8080/",
     "height": 142
    },
    "colab_type": "code",
    "id": "v2hzD4eRf89i",
    "outputId": "80295090-d09c-4b6a-ed8d-b9fa784eadd6"
   },
   "outputs": [
    {
     "data": {
      "text/html": [
       "<div>\n",
       "<style scoped>\n",
       "    .dataframe tbody tr th:only-of-type {\n",
       "        vertical-align: middle;\n",
       "    }\n",
       "\n",
       "    .dataframe tbody tr th {\n",
       "        vertical-align: top;\n",
       "    }\n",
       "\n",
       "    .dataframe thead th {\n",
       "        text-align: right;\n",
       "    }\n",
       "</style>\n",
       "<table border=\"1\" class=\"dataframe\">\n",
       "  <thead>\n",
       "    <tr style=\"text-align: right;\">\n",
       "      <th></th>\n",
       "      <th>sentence</th>\n",
       "      <th>deidentified</th>\n",
       "    </tr>\n",
       "  </thead>\n",
       "  <tbody>\n",
       "    <tr>\n",
       "      <th>0</th>\n",
       "      <td>Patient AIQING, 25 month years-old , born in Beijing, was transfered to the The Johns Hopkins Hospital.</td>\n",
       "      <td>Patient &lt;NAME&gt;, &lt;AGE&gt; month years-old , born in &lt;LOCATION&gt;, was transfered to the &lt;LOCATION&gt;.</td>\n",
       "    </tr>\n",
       "    <tr>\n",
       "      <th>1</th>\n",
       "      <td>Phone number: (541) 754-3010.</td>\n",
       "      <td>Phone number: &lt;CONTACT&gt;.</td>\n",
       "    </tr>\n",
       "    <tr>\n",
       "      <th>2</th>\n",
       "      <td>MSW 100009632582</td>\n",
       "      <td>MSW &lt;ID&gt;</td>\n",
       "    </tr>\n",
       "  </tbody>\n",
       "</table>\n",
       "</div>"
      ],
      "text/plain": [
       "                                                                                                  sentence                                                                                   deidentified\n",
       "0  Patient AIQING, 25 month years-old , born in Beijing, was transfered to the The Johns Hopkins Hospital.  Patient <NAME>, <AGE> month years-old , born in <LOCATION>, was transfered to the <LOCATION>.\n",
       "1                                                                            Phone number: (541) 754-3010.                                                                       Phone number: <CONTACT>.\n",
       "2                                                                                         MSW 100009632582                                                                                       MSW <ID>"
      ]
     },
     "execution_count": 29,
     "metadata": {
      "tags": []
     },
     "output_type": "execute_result"
    }
   ],
   "source": [
    "deid_text.select(F.explode(F.arrays_zip('sentence.result', 'deidentified.result')).alias(\"cols\")) \\\n",
    ".select(F.expr(\"cols['0']\").alias(\"sentence\"), F.expr(\"cols['1']\").alias(\"deidentified\")).toPandas()"
   ]
  },
  {
   "cell_type": "markdown",
   "metadata": {
    "colab_type": "text",
    "id": "HJokGuGxf89k"
   },
   "source": [
    "### Use obfuscation mode"
   ]
  },
  {
   "cell_type": "markdown",
   "metadata": {
    "colab_type": "text",
    "id": "KG0Bvua7f89l"
   },
   "source": [
    "In the obfuscation mode **DeIdentificationModel** will replace sensetive entities with random values of the same type. \n",
    "\n",
    "Will be replaced: \n",
    "- Name\n",
    "- Date\n",
    "- Location\n",
    "- Contacts\n",
    "- Profession\n",
    "\n",
    "Will be tagged:\n",
    "- Age\n",
    "- ID"
   ]
  },
  {
   "cell_type": "code",
   "execution_count": null,
   "metadata": {
    "colab": {
     "base_uri": "https://localhost:8080/",
     "height": 68
    },
    "colab_type": "code",
    "id": "obQ4BmTzf89l",
    "outputId": "8a0cc2fc-0306-43d1-98c7-4de316c537e5"
   },
   "outputs": [
    {
     "name": "stdout",
     "output_type": "stream",
     "text": [
      "deidentify_large download started this may take some time.\n",
      "Approximate size to download 188.1 KB\n",
      "[OK!]\n"
     ]
    }
   ],
   "source": [
    "obfuscation = DeIdentificationModel.pretrained(\"deidentify_large\", \"en\", \"clinical/models\") \\\n",
    "      .setInputCols([\"sentence\", \"token\", \"ner_chunk\"]) \\\n",
    "      .setOutputCol(\"deidentified\") \\\n",
    "      .setMode(\"obfuscate\")\n",
    "      "
   ]
  },
  {
   "cell_type": "code",
   "execution_count": null,
   "metadata": {
    "colab": {
     "base_uri": "https://localhost:8080/",
     "height": 136
    },
    "colab_type": "code",
    "id": "EDqrmXcqsAKe",
    "outputId": "2a2d4b0e-a44d-4002-db26-da77109eb3d7"
   },
   "outputs": [
    {
     "name": "stdout",
     "output_type": "stream",
     "text": [
      "+--------------------+--------------------+--------------------+--------------------+--------------------+--------------------+--------------------+--------------------+\n",
      "|                text|            document|            sentence|               token|          embeddings|                 ner|      ner_overwrited|           ner_chunk|\n",
      "+--------------------+--------------------+--------------------+--------------------+--------------------+--------------------+--------------------+--------------------+\n",
      "|\n",
      "Patient AIQING, ...|[[document, 0, 15...|[[document, 1, 10...|[[token, 1, 7, Pa...|[[word_embeddings...|[[named_entity, 1...|[[named_entity, 1...|[[chunk, 9, 14, A...|\n",
      "+--------------------+--------------------+--------------------+--------------------+--------------------+--------------------+--------------------+--------------------+\n",
      "\n"
     ]
    }
   ],
   "source": [
    "result.show()"
   ]
  },
  {
   "cell_type": "code",
   "execution_count": null,
   "metadata": {
    "colab": {},
    "colab_type": "code",
    "id": "pgSVjPUDf89q"
   },
   "outputs": [],
   "source": [
    "obfusated_text = obfuscation.transform(result)"
   ]
  },
  {
   "cell_type": "code",
   "execution_count": null,
   "metadata": {
    "colab": {
     "base_uri": "https://localhost:8080/",
     "height": 54
    },
    "colab_type": "code",
    "id": "vgiHhAWgrsGQ",
    "outputId": "43e358d3-67df-430f-89b5-132955f6b406"
   },
   "outputs": [
    {
     "data": {
      "text/plain": [
       "[Row(result=['O', 'O', 'O', 'B-AGE', 'O', 'O', 'O', 'O', 'O', 'B-LOCATION', 'O', 'O', 'O', 'O', 'O', 'B-LOCATION', 'I-LOCATION', 'I-LOCATION', 'I-LOCATION', 'O', 'O', 'O', 'O', 'B-CONTACT', 'I-CONTACT', 'I-CONTACT', 'I-CONTACT', 'O', 'O', 'B-ID'])]"
      ]
     },
     "execution_count": 33,
     "metadata": {
      "tags": []
     },
     "output_type": "execute_result"
    }
   ],
   "source": [
    "obfusated_text.select('ner.result').take(1)"
   ]
  },
  {
   "cell_type": "code",
   "execution_count": null,
   "metadata": {
    "colab": {
     "base_uri": "https://localhost:8080/",
     "height": 142
    },
    "colab_type": "code",
    "id": "wiiJ5GAff89s",
    "outputId": "99d7d9af-369a-40ab-c480-7f83ca276283"
   },
   "outputs": [
    {
     "data": {
      "text/html": [
       "<div>\n",
       "<style scoped>\n",
       "    .dataframe tbody tr th:only-of-type {\n",
       "        vertical-align: middle;\n",
       "    }\n",
       "\n",
       "    .dataframe tbody tr th {\n",
       "        vertical-align: top;\n",
       "    }\n",
       "\n",
       "    .dataframe thead th {\n",
       "        text-align: right;\n",
       "    }\n",
       "</style>\n",
       "<table border=\"1\" class=\"dataframe\">\n",
       "  <thead>\n",
       "    <tr style=\"text-align: right;\">\n",
       "      <th></th>\n",
       "      <th>sentence</th>\n",
       "      <th>deidentified</th>\n",
       "    </tr>\n",
       "  </thead>\n",
       "  <tbody>\n",
       "    <tr>\n",
       "      <th>0</th>\n",
       "      <td>Patient AIQING, 25 month years-old , born in Beijing, was transfered to the The Johns Hopkins Hospital.</td>\n",
       "      <td>Patient Erin, &lt;AGE&gt; month years-old , born in Rocky Boy's Agency, was transfered to the Bellflower.</td>\n",
       "    </tr>\n",
       "    <tr>\n",
       "      <th>1</th>\n",
       "      <td>Phone number: (541) 754-3010.</td>\n",
       "      <td>Phone number: (815)228-9557.</td>\n",
       "    </tr>\n",
       "    <tr>\n",
       "      <th>2</th>\n",
       "      <td>MSW 100009632582</td>\n",
       "      <td>MSW &lt;ID&gt;</td>\n",
       "    </tr>\n",
       "  </tbody>\n",
       "</table>\n",
       "</div>"
      ],
      "text/plain": [
       "                                                                                                  sentence                                                                                         deidentified\n",
       "0  Patient AIQING, 25 month years-old , born in Beijing, was transfered to the The Johns Hopkins Hospital.  Patient Erin, <AGE> month years-old , born in Rocky Boy's Agency, was transfered to the Bellflower.\n",
       "1                                                                            Phone number: (541) 754-3010.                                                                         Phone number: (815)228-9557.\n",
       "2                                                                                         MSW 100009632582                                                                                             MSW <ID>"
      ]
     },
     "execution_count": 34,
     "metadata": {
      "tags": []
     },
     "output_type": "execute_result"
    }
   ],
   "source": [
    "obfusated_text.select(F.explode(F.arrays_zip('sentence.result', 'deidentified.result')).alias(\"cols\")) \\\n",
    ".select(F.expr(\"cols['0']\").alias(\"sentence\"), F.expr(\"cols['1']\").alias(\"deidentified\")).toPandas()"
   ]
  },
  {
   "cell_type": "markdown",
   "metadata": {
    "colab_type": "text",
    "id": "9jAMC21Hf89v"
   },
   "source": [
    "## Use full pipeline in the Light model"
   ]
  },
  {
   "cell_type": "code",
   "execution_count": null,
   "metadata": {
    "colab": {},
    "colab_type": "code",
    "id": "kaUnGYhOf89w"
   },
   "outputs": [],
   "source": [
    "finisher = Finisher() \\\n",
    "    .setInputCols(\"deidentified\")"
   ]
  },
  {
   "cell_type": "code",
   "execution_count": null,
   "metadata": {
    "colab": {},
    "colab_type": "code",
    "id": "Qhq7n1IahS_Y"
   },
   "outputs": [],
   "source": [
    "pipeline = Pipeline(stages=[\n",
    "    documentAssembler, \n",
    "    sentenceDetector,\n",
    "    tokenizer,\n",
    "    word_embeddings,\n",
    "    clinical_ner,\n",
    "    neroverwriter,\n",
    "    ner_converter,\n",
    "    obfuscation])"
   ]
  },
  {
   "cell_type": "code",
   "execution_count": null,
   "metadata": {
    "colab": {},
    "colab_type": "code",
    "id": "ZohbvibZf891"
   },
   "outputs": [],
   "source": [
    "\n",
    "empty_data = spark.createDataFrame([[\"\"]]).toDF(\"text\")\n",
    "\n",
    "model = pipeline.fit(empty_data)"
   ]
  },
  {
   "cell_type": "code",
   "execution_count": null,
   "metadata": {
    "colab": {},
    "colab_type": "code",
    "id": "DhtnLajzgNNb"
   },
   "outputs": [],
   "source": [
    "light_model = LightPipeline(model)"
   ]
  },
  {
   "cell_type": "code",
   "execution_count": null,
   "metadata": {
    "colab": {},
    "colab_type": "code",
    "id": "_sC_bn1Hhs9g"
   },
   "outputs": [],
   "source": [
    "text ='''\n",
    "A . Record date : 2093-01-13 , David Hale , M.D . , Name : Hendrickson , Ora MR . # 7194334 Date : 01-13-1993 PCP : Oliveira , 25 month years-old , Record date : 2079-11-09 . Cocke County Baptist Hospital . 0295 Keats Street\n",
    "'''"
   ]
  },
  {
   "cell_type": "code",
   "execution_count": null,
   "metadata": {
    "colab": {
     "base_uri": "https://localhost:8080/",
     "height": 119
    },
    "colab_type": "code",
    "id": "jbblkrvjEHn9",
    "outputId": "e6a8428c-652b-4723-dfe0-834a259b6d91"
   },
   "outputs": [
    {
     "data": {
      "text/plain": [
       "['A .',\n",
       " 'Record date : 2093-03-05 , Luci , M.D .',\n",
       " ', Name : Oprah MR .',\n",
       " '# <ID> Date : 03-05-1993 PCP : Laurette , <AGE> month years-old , Record date : 2079-12-30 .',\n",
       " 'Cocke County Baptist Hospital .',\n",
       " '<ID> Keats Street']"
      ]
     },
     "execution_count": 40,
     "metadata": {
      "tags": []
     },
     "output_type": "execute_result"
    }
   ],
   "source": [
    "annotated_text = light_model.annotate(text)\n",
    "annotated_text['deidentified']"
   ]
  },
  {
   "cell_type": "code",
   "execution_count": null,
   "metadata": {
    "colab": {
     "base_uri": "https://localhost:8080/",
     "height": 799
    },
    "colab_type": "code",
    "id": "BqNvJOvQvy99",
    "outputId": "ed77bc52-f894-425b-ad86-38c481c8dd8e"
   },
   "outputs": [
    {
     "data": {
      "text/plain": [
       "[('A', 'O'),\n",
       " ('.', 'O'),\n",
       " ('Record', 'O'),\n",
       " ('date', 'O'),\n",
       " (':', 'O'),\n",
       " ('2093-01-13', 'B-DATE'),\n",
       " (',', 'O'),\n",
       " ('David', 'B-NAME'),\n",
       " ('Hale', 'I-NAME'),\n",
       " (',', 'O'),\n",
       " ('M.D', 'O'),\n",
       " ('.', 'O'),\n",
       " (',', 'O'),\n",
       " ('Name', 'O'),\n",
       " (':', 'O'),\n",
       " ('Hendrickson', 'B-NAME'),\n",
       " (',', 'I-NAME'),\n",
       " ('Ora', 'I-NAME'),\n",
       " ('MR', 'O'),\n",
       " ('.', 'O'),\n",
       " ('#', 'O'),\n",
       " ('7194334', 'B-ID'),\n",
       " ('Date', 'O'),\n",
       " (':', 'O'),\n",
       " ('01-13-1993', 'B-DATE'),\n",
       " ('PCP', 'O'),\n",
       " (':', 'O'),\n",
       " ('Oliveira', 'B-NAME'),\n",
       " (',', 'O'),\n",
       " ('25', 'B-AGE'),\n",
       " ('month', 'O'),\n",
       " ('years-old', 'O'),\n",
       " (',', 'O'),\n",
       " ('Record', 'O'),\n",
       " ('date', 'O'),\n",
       " (':', 'O'),\n",
       " ('2079-11-09', 'B-DATE'),\n",
       " ('.', 'O'),\n",
       " ('Cocke', 'B-LOCATION'),\n",
       " ('County', 'I-LOCATION'),\n",
       " ('Baptist', 'I-LOCATION'),\n",
       " ('Hospital', 'I-LOCATION'),\n",
       " ('.', 'O'),\n",
       " ('0295', 'B-LOCATION'),\n",
       " ('Keats', 'I-LOCATION'),\n",
       " ('Street', 'I-LOCATION')]"
      ]
     },
     "execution_count": 41,
     "metadata": {
      "tags": []
     },
     "output_type": "execute_result"
    }
   ],
   "source": [
    "list(zip(annotated_text['token'], annotated_text['ner']))"
   ]
  },
  {
   "cell_type": "code",
   "execution_count": null,
   "metadata": {
    "colab": {
     "base_uri": "https://localhost:8080/",
     "height": 153
    },
    "colab_type": "code",
    "id": "zploSXHnw1B5",
    "outputId": "a08b7fbb-b304-435b-a0dc-ead580be6969"
   },
   "outputs": [
    {
     "data": {
      "text/plain": [
       "['2093-01-13',\n",
       " 'David Hale',\n",
       " 'Hendrickson , Ora',\n",
       " '7194334',\n",
       " '01-13-1993',\n",
       " 'Oliveira',\n",
       " '25',\n",
       " '2079-11-09']"
      ]
     },
     "execution_count": 42,
     "metadata": {
      "tags": []
     },
     "output_type": "execute_result"
    }
   ],
   "source": [
    "annotated_text['ner_chunk']"
   ]
  },
  {
   "cell_type": "code",
   "execution_count": null,
   "metadata": {
    "colab": {
     "base_uri": "https://localhost:8080/",
     "height": 238
    },
    "colab_type": "code",
    "id": "0emrh9kBfRKf",
    "outputId": "4489c201-2838-4cc0-f568-9d79f0fc6a9c"
   },
   "outputs": [
    {
     "data": {
      "text/plain": [
       "['Record date : 2093-02-28, MALLORIE, M.D. is Civil Drafters, \\nName: MICHAELLA MR. # <ID> Date: (314)960-4209 PCP: Shell.',\n",
       " 'Record date: 2079-12-05.',\n",
       " 'Cocke County Baptist Hospital.',\n",
       " '<ID> Keats Street.',\n",
       " 'This <AGE> male, presented with chest heaviness that started during a pick-up basketball game.',\n",
       " 'His past medical history was unremarkable.',\n",
       " 'He denied prior cardiac symptoms and suffered no chest trauma during the game.',\n",
       " 'His father had suffered an acute myocardial infarction at age',\n",
       " '<AGE>. The patient was a nonsmoker, did not drink alcohol, and denied recreational drug use.',\n",
       " 'He swallowed a tablet of aspirin before coming to the emergency room.',\n",
       " 'His blood pressure was 160/90 mm Hg, and his heart rate was 80 bpm.',\n",
       " 'Physical examination revealed no stigmata of Marfan syndrome.',\n",
       " 'The rest of his physical examination was normal.']"
      ]
     },
     "execution_count": 43,
     "metadata": {
      "tags": []
     },
     "output_type": "execute_result"
    }
   ],
   "source": [
    "source_text = '''Record date : 2093-01-13, David Hale, M.D. is manager, \n",
    "Name: Hendrickson, Ora MR. # 7194334 Date: 01-13-1993 PCP: Oliveira.\n",
    "Record date: 2079-11-09. Cocke County Baptist Hospital. 0295 Keats Street.\n",
    "This 17-yr-old male, presented with chest heaviness that started during a pick-up basketball game. His past medical history was unremarkable. He denied prior cardiac symptoms and suffered no chest trauma during the game. His father had suffered an acute myocardial infarction at age 38. The patient was a nonsmoker, did not drink alcohol, and denied recreational drug use. He swallowed a tablet of aspirin before coming to the emergency room. His blood pressure was 160/90 mm Hg, and his heart rate was 80 bpm. Physical examination revealed no stigmata of Marfan syndrome. The rest of his physical examination was normal.'''\n",
    "\n",
    "annotated_text = light_model.annotate(source_text)\n",
    "annotated_text['deidentified']"
   ]
  },
  {
   "cell_type": "code",
   "execution_count": null,
   "metadata": {
    "colab": {
     "base_uri": "https://localhost:8080/",
     "height": 238
    },
    "colab_type": "code",
    "id": "G9SS_FzSxdA3",
    "outputId": "4de7dd9d-4db3-4699-cbcd-4ec22bf476c4"
   },
   "outputs": [
    {
     "data": {
      "text/plain": [
       "['Record date : 2093-02-24, Shawna, M.D. is Insurance Sales Agents, \\nName: RICE MR. # <ID> Date: (215)392-1340 PCP: RICHIE.',\n",
       " 'Record date: 2079-12-08.',\n",
       " \"Rocky Boy's Agency.\",\n",
       " 'Epping.',\n",
       " 'This <AGE> male, presented with chest heaviness that started during a pick-up basketball game.',\n",
       " 'His past medical history was unremarkable.',\n",
       " 'He denied prior cardiac symptoms and suffered no chest trauma during the game.',\n",
       " 'His father had suffered an acute myocardial infarction at age',\n",
       " '<AGE>. The patient was a nonsmoker, did not drink alcohol, and denied recreational drug use.',\n",
       " 'He swallowed a tablet of aspirin before coming to the emergency room.',\n",
       " 'His blood pressure was 160/90 mm Hg, and his heart rate was 80 bpm.',\n",
       " 'Physical examination revealed no stigmata of Marfan syndrome.',\n",
       " 'The rest of his physical examination was normal.']"
      ]
     },
     "execution_count": 44,
     "metadata": {
      "tags": []
     },
     "output_type": "execute_result"
    }
   ],
   "source": [
    "# if we hadn't set any whiteList in NerConverter\n",
    "\n",
    "ner_converter2 = NerConverterInternal()\\\n",
    "  .setInputCols([\"sentence\", \"token\", \"ner_overwrited\"])\\\n",
    "  .setOutputCol(\"ner_chunk\") \n",
    "  \n",
    "pipeline = Pipeline(stages=[\n",
    "    documentAssembler, \n",
    "    sentenceDetector,\n",
    "    tokenizer,\n",
    "    word_embeddings,\n",
    "    clinical_ner,\n",
    "    neroverwriter,\n",
    "    ner_converter2,\n",
    "    obfuscation])\n",
    "empty_data = spark.createDataFrame([[\"\"]]).toDF(\"text\")\n",
    "\n",
    "model = pipeline.fit(empty_data)\n",
    "light_model = LightPipeline(model)\n",
    "\n",
    "annotated_text = light_model.annotate(source_text)\n",
    "annotated_text['deidentified']"
   ]
  },
  {
   "cell_type": "markdown",
   "metadata": {
    "colab_type": "text",
    "id": "gvfk9aBgf8-C"
   },
   "source": [
    "## Train custom Model\n"
   ]
  },
  {
   "cell_type": "code",
   "execution_count": null,
   "metadata": {
    "colab": {
     "base_uri": "https://localhost:8080/",
     "height": 119
    },
    "colab_type": "code",
    "id": "zrCiTFwq2SkX",
    "outputId": "dd22d150-2196-47ab-8d83-c9eb93956adf"
   },
   "outputs": [
    {
     "name": "stdout",
     "output_type": "stream",
     "text": [
      "glove_100d download started this may take some time.\n",
      "Approximate size to download 145.3 MB\n",
      "[OK!]\n",
      "ner_dl download started this may take some time.\n",
      "Approximate size to download 13.6 MB\n",
      "[OK!]\n"
     ]
    }
   ],
   "source": [
    "glove_embeddings = WordEmbeddingsModel.pretrained('glove_100d')\\\n",
    "          .setInputCols([\"document\", \"token\"])\\\n",
    "          .setOutputCol(\"embeddings\")\n",
    "\n",
    "public_ner = NerDLModel.pretrained(\"ner_dl\", 'en') \\\n",
    "          .setInputCols([\"document\", \"token\", \"embeddings\"]) \\\n",
    "          .setOutputCol(\"ner\")\n",
    "\n",
    "ner_converter = NerConverterInternal()\\\n",
    "  .setInputCols([\"sentence\", \"token\", \"ner\"])\\\n",
    "  .setOutputCol(\"ner_chunk\")\n"
   ]
  },
  {
   "cell_type": "code",
   "execution_count": null,
   "metadata": {
    "colab": {},
    "colab_type": "code",
    "id": "EAn2UqKwf8-W"
   },
   "outputs": [],
   "source": [
    "\n",
    "nlpPipeline = Pipeline(stages=[\n",
    "    documentAssembler, \n",
    "    sentenceDetector,\n",
    "    tokenizer,\n",
    "    glove_embeddings,\n",
    "    public_ner,\n",
    "    ner_converter])\n",
    "\n",
    "empty_data = spark.createDataFrame([[\"\"]]).toDF(\"text\")\n",
    "\n",
    "custom_model = nlpPipeline.fit(result)"
   ]
  },
  {
   "cell_type": "code",
   "execution_count": null,
   "metadata": {
    "colab": {},
    "colab_type": "code",
    "id": "hGifAYcjf8-Z"
   },
   "outputs": [],
   "source": [
    "source_text = '''Record date : 2093-01-13, David Hale, M.D. lives in New York'''"
   ]
  },
  {
   "cell_type": "code",
   "execution_count": null,
   "metadata": {
    "colab": {},
    "colab_type": "code",
    "id": "Kw4TP_M1f8-c"
   },
   "outputs": [],
   "source": [
    "result = custom_model.transform(spark.createDataFrame([[source_text]]).toDF(\"text\"))"
   ]
  },
  {
   "cell_type": "code",
   "execution_count": null,
   "metadata": {
    "colab": {},
    "colab_type": "code",
    "id": "UwvQWnyF07k8"
   },
   "outputs": [],
   "source": []
  },
  {
   "cell_type": "markdown",
   "metadata": {
    "colab_type": "text",
    "id": "v4P_w-nDf8-e"
   },
   "source": [
    "#### We got new entities in the model 'PER' and 'ORG'"
   ]
  },
  {
   "cell_type": "code",
   "execution_count": null,
   "metadata": {
    "colab": {
     "base_uri": "https://localhost:8080/",
     "height": 153
    },
    "colab_type": "code",
    "id": "CJk7dAbYf8-f",
    "outputId": "8ce44163-40ba-413b-ccea-d72781ef9d86"
   },
   "outputs": [
    {
     "name": "stdout",
     "output_type": "stream",
     "text": [
      "+----------+---------+\n",
      "|chunk     |ner_label|\n",
      "+----------+---------+\n",
      "|David Hale|PER      |\n",
      "|M.D       |ORG      |\n",
      "|New York  |LOC      |\n",
      "+----------+---------+\n",
      "\n"
     ]
    }
   ],
   "source": [
    "result.select(F.explode(F.arrays_zip('ner_chunk.result', 'ner_chunk.metadata')).alias(\"cols\")) \\\n",
    ".select(F.expr(\"cols['0']\").alias(\"chunk\"),\n",
    "        F.expr(\"cols['1']['entity']\").alias(\"ner_label\")).show(truncate=False)"
   ]
  },
  {
   "cell_type": "markdown",
   "metadata": {
    "colab_type": "text",
    "id": "Sx5Uitz1vedz"
   },
   "source": [
    "### Mask custom entities"
   ]
  },
  {
   "cell_type": "code",
   "execution_count": null,
   "metadata": {
    "colab": {},
    "colab_type": "code",
    "id": "x1nLENcavdCE"
   },
   "outputs": [],
   "source": [
    "deidentification = DeIdentification() \\\n",
    "      .setInputCols([\"sentence\", \"token\", \"ner_chunk\"]) \\\n",
    "      .setOutputCol(\"deidentified\") \\\n",
    "      .setMode(\"mask\")"
   ]
  },
  {
   "cell_type": "code",
   "execution_count": null,
   "metadata": {
    "colab": {},
    "colab_type": "code",
    "id": "eL4vIm9TvdWY"
   },
   "outputs": [],
   "source": [
    "deid_model = deidentification.fit(result)\n",
    "deid_text = deid_model.transform(result)"
   ]
  },
  {
   "cell_type": "code",
   "execution_count": null,
   "metadata": {
    "colab": {
     "base_uri": "https://localhost:8080/",
     "height": 80
    },
    "colab_type": "code",
    "id": "LeIoxeRWvdSZ",
    "outputId": "0de37e8c-bf8e-48e4-9f5c-de5b37e44f50"
   },
   "outputs": [
    {
     "data": {
      "text/html": [
       "<div>\n",
       "<style scoped>\n",
       "    .dataframe tbody tr th:only-of-type {\n",
       "        vertical-align: middle;\n",
       "    }\n",
       "\n",
       "    .dataframe tbody tr th {\n",
       "        vertical-align: top;\n",
       "    }\n",
       "\n",
       "    .dataframe thead th {\n",
       "        text-align: right;\n",
       "    }\n",
       "</style>\n",
       "<table border=\"1\" class=\"dataframe\">\n",
       "  <thead>\n",
       "    <tr style=\"text-align: right;\">\n",
       "      <th></th>\n",
       "      <th>sentence</th>\n",
       "      <th>deidentified</th>\n",
       "    </tr>\n",
       "  </thead>\n",
       "  <tbody>\n",
       "    <tr>\n",
       "      <th>0</th>\n",
       "      <td>Record date : 2093-01-13, David Hale, M.D. lives in New York</td>\n",
       "      <td>Record date : 2093-01-13, &lt;PER&gt;, &lt;ORG&gt;. lives in &lt;LOC&gt;</td>\n",
       "    </tr>\n",
       "  </tbody>\n",
       "</table>\n",
       "</div>"
      ],
      "text/plain": [
       "                                                       sentence                                            deidentified\n",
       "0  Record date : 2093-01-13, David Hale, M.D. lives in New York  Record date : 2093-01-13, <PER>, <ORG>. lives in <LOC>"
      ]
     },
     "execution_count": 52,
     "metadata": {
      "tags": []
     },
     "output_type": "execute_result"
    }
   ],
   "source": [
    "deid_text.select(F.explode(F.arrays_zip('sentence.result', 'deidentified.result')).alias(\"cols\")) \\\n",
    ".select(F.expr(\"cols['0']\").alias(\"sentence\"), F.expr(\"cols['1']\").alias(\"deidentified\")).toPandas()"
   ]
  },
  {
   "cell_type": "code",
   "execution_count": null,
   "metadata": {
    "colab": {},
    "colab_type": "code",
    "id": "QpLr7HKI1EQq"
   },
   "outputs": [],
   "source": [
    "deid_model.write().overwrite().save('custom_deid_masker_model')"
   ]
  },
  {
   "cell_type": "markdown",
   "metadata": {
    "colab_type": "text",
    "id": "hOHhaQKbf8-h"
   },
   "source": [
    " To be able to obfuscate new entities we have to create custom Deidentification Model with new dictionary"
   ]
  },
  {
   "cell_type": "code",
   "execution_count": null,
   "metadata": {
    "colab": {},
    "colab_type": "code",
    "id": "Nze0cSh7fR9W"
   },
   "outputs": [],
   "source": [
    "obfuscation_list = ['Marvin MARSHALL#PER',\n",
    "      'Hubert GROGAN#PER',\n",
    "      'ALTHEA COLBURN#PER',\n",
    "      'Kalil AMIN#PER',\n",
    "      'Inci FOUNTAIN#PER',\n",
    "      'Surrey#ORG',\n",
    "      'Warwickshire#ORG',\n",
    "      'Derbyshire#ORG',\n",
    "      'Leicestershire#ORG',\n",
    "      'Glamorgan#ORG',\n",
    "      'Durham#ORG']\n",
    "\n",
    "with open('obfuscation.txt', 'a') as the_file:\n",
    "    for line in obfuscation_list:\n",
    "      the_file.write(line + '\\n')"
   ]
  },
  {
   "cell_type": "code",
   "execution_count": null,
   "metadata": {
    "colab": {},
    "colab_type": "code",
    "id": "mlPBf_lwfSNX"
   },
   "outputs": [],
   "source": [
    "regex_list = [\"AGE \\d{1,2}(?:-|\\s|\\S)(?:year|yr)(?:-|\\s)old\",\"AGE \\d{1,2}(?:\\s|\\S)(?:s|'s)\",\"AGE \\d{1,2}\\s(?:months|weeks|mos)\",\"AGE \\d{1,2}y\\d{1,2}(?:\\.|)\\d{0,2}m\"]\n",
    "with open('regex_dict.txt', 'a') as the_file:\n",
    "    for line in regex_list:\n",
    "      the_file.write(line + '\\n')"
   ]
  },
  {
   "cell_type": "code",
   "execution_count": null,
   "metadata": {
    "colab": {},
    "colab_type": "code",
    "id": "enpmmCfbf8-j"
   },
   "outputs": [],
   "source": [
    "obfuscator = DeIdentification() \\\n",
    "    .setInputCols([\"sentence\", \"token\", \"ner_chunk\"]) \\\n",
    "    .setOutputCol(\"deidentified\") \\\n",
    "    .setMode('obfuscate') \\\n",
    "    .setRefSep('#') \\\n",
    "    .setRegexPatternsDictionary('regex_dict.txt', 'TEXT')\\\n",
    "    .setObfuscateRefFile('obfuscation.txt') \\\n"
   ]
  },
  {
   "cell_type": "code",
   "execution_count": null,
   "metadata": {
    "colab": {},
    "colab_type": "code",
    "id": "Gia6ufwhf8-l"
   },
   "outputs": [],
   "source": [
    "obfuscator_model = obfuscator.fit(result)"
   ]
  },
  {
   "cell_type": "code",
   "execution_count": null,
   "metadata": {
    "colab": {},
    "colab_type": "code",
    "id": "TTAkmJWuktxI"
   },
   "outputs": [],
   "source": [
    "obfuscator_model.write().overwrite().save('custom_obfuscator_model')"
   ]
  },
  {
   "cell_type": "code",
   "execution_count": null,
   "metadata": {
    "colab": {},
    "colab_type": "code",
    "id": "YfMT8lIZf8-n"
   },
   "outputs": [],
   "source": [
    "obfusc_text = obfuscator_model.transform(result)"
   ]
  },
  {
   "cell_type": "code",
   "execution_count": null,
   "metadata": {
    "colab": {
     "base_uri": "https://localhost:8080/",
     "height": 80
    },
    "colab_type": "code",
    "id": "p4ONlR9309Rk",
    "outputId": "12cadbeb-f9a5-4579-da22-9b9035a04980"
   },
   "outputs": [
    {
     "data": {
      "text/html": [
       "<div>\n",
       "<style scoped>\n",
       "    .dataframe tbody tr th:only-of-type {\n",
       "        vertical-align: middle;\n",
       "    }\n",
       "\n",
       "    .dataframe tbody tr th {\n",
       "        vertical-align: top;\n",
       "    }\n",
       "\n",
       "    .dataframe thead th {\n",
       "        text-align: right;\n",
       "    }\n",
       "</style>\n",
       "<table border=\"1\" class=\"dataframe\">\n",
       "  <thead>\n",
       "    <tr style=\"text-align: right;\">\n",
       "      <th></th>\n",
       "      <th>sentence</th>\n",
       "      <th>deidentified</th>\n",
       "    </tr>\n",
       "  </thead>\n",
       "  <tbody>\n",
       "    <tr>\n",
       "      <th>0</th>\n",
       "      <td>Record date : 2093-01-13, David Hale, M.D. lives in New York</td>\n",
       "      <td>Record date : 2093-01-13, Inci FOUNTAIN, Durham. lives in &lt;LOC&gt;</td>\n",
       "    </tr>\n",
       "  </tbody>\n",
       "</table>\n",
       "</div>"
      ],
      "text/plain": [
       "                                                       sentence                                                     deidentified\n",
       "0  Record date : 2093-01-13, David Hale, M.D. lives in New York  Record date : 2093-01-13, Inci FOUNTAIN, Durham. lives in <LOC>"
      ]
     },
     "execution_count": 59,
     "metadata": {
      "tags": []
     },
     "output_type": "execute_result"
    }
   ],
   "source": [
    "obfusc_text.select(F.explode(F.arrays_zip('sentence.result', 'deidentified.result')).alias(\"cols\")) \\\n",
    ".select(F.expr(\"cols['0']\").alias(\"sentence\"), F.expr(\"cols['1']\").alias(\"deidentified\")).toPandas()"
   ]
  }
 ],
 "metadata": {
  "colab": {
   "collapsed_sections": [],
   "name": "Copy of Copy of 4.Clinical_DeIdentificiation.ipynb",
   "provenance": [],
   "toc_visible": true
  },
  "kernelspec": {
   "display_name": "Python 3",
   "language": "python",
   "name": "python3"
  },
  "language_info": {
   "codemirror_mode": {
    "name": "ipython",
    "version": 3
   },
   "file_extension": ".py",
   "mimetype": "text/x-python",
   "name": "python",
   "nbconvert_exporter": "python",
   "pygments_lexer": "ipython3",
   "version": "3.7.4"
  }
 },
 "nbformat": 4,
 "nbformat_minor": 4
}
