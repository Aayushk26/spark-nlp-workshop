{
  "nbformat": 4,
  "nbformat_minor": 0,
  "metadata": {
    "colab": {
      "name": "4.Clinical_DeIdentificiation.ipynb",
      "provenance": [],
      "collapsed_sections": [],
      "toc_visible": true
    },
    "kernelspec": {
      "display_name": "Python 3",
      "language": "python",
      "name": "python3"
    },
    "language_info": {
      "codemirror_mode": {
        "name": "ipython",
        "version": 3
      },
      "file_extension": ".py",
      "mimetype": "text/x-python",
      "name": "python",
      "nbconvert_exporter": "python",
      "pygments_lexer": "ipython3",
      "version": "3.7.4"
    }
  },
  "cells": [
    {
      "cell_type": "markdown",
      "metadata": {
        "colab_type": "text",
        "id": "I08sFJYCxR0Z"
      },
      "source": [
        "![JohnSnowLabs](https://nlp.johnsnowlabs.com/assets/images/logo.png)"
      ]
    },
    {
      "cell_type": "markdown",
      "metadata": {
        "colab_type": "text",
        "id": "LKI5K1wQrSe9"
      },
      "source": [
        "[![Open In Colab](https://colab.research.google.com/assets/colab-badge.svg)](https://colab.research.google.com/github/JohnSnowLabs/spark-nlp-workshop/blob/master/tutorials/Certification_Trainings/Healthcare/4.Clinical_DeIdentificiation.ipynb)"
      ]
    },
    {
      "cell_type": "markdown",
      "metadata": {
        "colab_type": "text",
        "id": "Niy3mZAjoayg"
      },
      "source": [
        "# Clinical Deidentification"
      ]
    },
    {
      "cell_type": "markdown",
      "metadata": {
        "colab_type": "text",
        "id": "okhT7AcXxben"
      },
      "source": [
        "## Colab Setup"
      ]
    },
    {
      "cell_type": "code",
      "metadata": {
        "colab_type": "code",
        "id": "I8Ytt2LLp2rj",
        "colab": {
          "base_uri": "https://localhost:8080/",
          "height": 34
        },
        "outputId": "6254856e-5398-427d-ad7b-bcc099122402"
      },
      "source": [
        "import json\n",
        "\n",
        "with open('workshop_license_keys.json') as f_in:\n",
        "    license_keys = json.load(f_in)\n",
        "\n",
        "license_keys.keys()"
      ],
      "execution_count": 1,
      "outputs": [
        {
          "output_type": "execute_result",
          "data": {
            "text/plain": [
              "dict_keys(['secret', 'SPARK_NLP_LICENSE', 'JSL_OCR_LICENSE', 'AWS_ACCESS_KEY_ID', 'AWS_SECRET_ACCESS_KEY', 'JSL_OCR_SECRET'])"
            ]
          },
          "metadata": {
            "tags": []
          },
          "execution_count": 1
        }
      ]
    },
    {
      "cell_type": "code",
      "metadata": {
        "id": "_BkrtwRnBcnw",
        "colab_type": "code",
        "colab": {}
      },
      "source": [
        "# template for license_key.json\n",
        "\n",
        "{'secret':\"xxx\",\n",
        "'SPARK_NLP_LICENSE': 'aaa',\n",
        "'JSL_OCR_LICENSE': 'bbb',\n",
        "'AWS_ACCESS_KEY_ID':\"ccc\",\n",
        "'AWS_SECRET_ACCESS_KEY':\"ddd\",\n",
        "'JSL_OCR_SECRET':\"eee\"}"
      ],
      "execution_count": 0,
      "outputs": []
    },
    {
      "cell_type": "code",
      "metadata": {
        "colab_type": "code",
        "id": "xy-mE2aVxZjl",
        "colab": {
          "base_uri": "https://localhost:8080/",
          "height": 326
        },
        "outputId": "d82c93e4-1561-47ad-b814-fbaabb46cdfa"
      },
      "source": [
        "import os\n",
        "\n",
        "# Install java\n",
        "! apt-get install -y openjdk-8-jdk-headless -qq > /dev/null\n",
        "os.environ[\"JAVA_HOME\"] = \"/usr/lib/jvm/java-8-openjdk-amd64\"\n",
        "os.environ[\"PATH\"] = os.environ[\"JAVA_HOME\"] + \"/bin:\" + os.environ[\"PATH\"]\n",
        "! java -version\n",
        "\n",
        "# Install pyspark\n",
        "! pip install --ignore-installed -q pyspark==2.4.4\n",
        "\n",
        "secret = license_keys['secret']\n",
        "os.environ['SPARK_NLP_LICENSE'] = license_keys['SPARK_NLP_LICENSE']\n",
        "os.environ['JSL_OCR_LICENSE'] = license_keys['JSL_OCR_LICENSE']\n",
        "os.environ['AWS_ACCESS_KEY_ID']= license_keys['AWS_ACCESS_KEY_ID']\n",
        "os.environ['AWS_SECRET_ACCESS_KEY'] = license_keys['AWS_SECRET_ACCESS_KEY']\n",
        "\n",
        "! python -m pip install --upgrade spark-nlp-jsl==2.5.0rc3  --extra-index-url https://pypi.johnsnowlabs.com/$secret\n",
        "\n",
        "# Install Spark NLP\n",
        "! pip install --ignore-installed -q spark-nlp==2.5\n",
        "\n",
        "import sparknlp\n",
        "\n",
        "print (sparknlp.version())\n",
        "\n",
        "import json\n",
        "import os\n",
        "from pyspark.ml import Pipeline\n",
        "from pyspark.sql import SparkSession\n",
        "\n",
        "\n",
        "from sparknlp.annotator import *\n",
        "from sparknlp_jsl.annotator import *\n",
        "from sparknlp.base import *\n",
        "import sparknlp_jsl\n",
        "\n",
        "\n",
        "\n",
        "def start(secret):\n",
        "    builder = SparkSession.builder \\\n",
        "        .appName(\"Spark NLP Licensed\") \\\n",
        "        .master(\"local[*]\") \\\n",
        "        .config(\"spark.driver.memory\", \"16G\") \\\n",
        "        .config(\"spark.serializer\", \"org.apache.spark.serializer.KryoSerializer\") \\\n",
        "        .config(\"spark.kryoserializer.buffer.max\", \"2000M\") \\\n",
        "        .config(\"spark.jars.packages\", \"com.johnsnowlabs.nlp:spark-nlp_2.11:2.5.0\") \\\n",
        "        .config(\"spark.jars\", \"https://pypi.johnsnowlabs.com/\"+secret+\"/spark-nlp-jsl-2.5.0rc3.jar\")\n",
        "      \n",
        "    return builder.getOrCreate()\n",
        "\n",
        "\n",
        "spark = start(secret) # if you want to start the session with custom params as in start function above\n",
        "# sparknlp_jsl.start(secret)"
      ],
      "execution_count": 2,
      "outputs": [
        {
          "output_type": "stream",
          "text": [
            "openjdk version \"1.8.0_252\"\n",
            "OpenJDK Runtime Environment (build 1.8.0_252-8u252-b09-1~18.04-b09)\n",
            "OpenJDK 64-Bit Server VM (build 25.252-b09, mixed mode)\n",
            "\u001b[K     |████████████████████████████████| 215.7MB 55kB/s \n",
            "\u001b[K     |████████████████████████████████| 204kB 43.9MB/s \n",
            "\u001b[?25h  Building wheel for pyspark (setup.py) ... \u001b[?25l\u001b[?25hdone\n",
            "Looking in indexes: https://pypi.org/simple, https://pypi.johnsnowlabs.com/l5rISdi5Xk\n",
            "Collecting spark-nlp-jsl==2.5.0rc3\n",
            "  Downloading https://pypi.johnsnowlabs.com/l5rISdi5Xk/spark-nlp-jsl/spark_nlp_jsl-2.5.0rc3-py3-none-any.whl\n",
            "Requirement already satisfied, skipping upgrade: pyspark==2.4.4 in /usr/local/lib/python3.6/dist-packages (from spark-nlp-jsl==2.5.0rc3) (2.4.4)\n",
            "Collecting spark-nlp==2.5.0\n",
            "\u001b[?25l  Downloading https://files.pythonhosted.org/packages/75/b0/f50d169c49f5982f8be9e86e285b53e23f91fd7db0d10646c2d1de5c3ad0/spark_nlp-2.5.0-py2.py3-none-any.whl (120kB)\n",
            "\u001b[K     |████████████████████████████████| 122kB 2.8MB/s \n",
            "\u001b[?25hRequirement already satisfied, skipping upgrade: py4j==0.10.7 in /usr/local/lib/python3.6/dist-packages (from pyspark==2.4.4->spark-nlp-jsl==2.5.0rc3) (0.10.7)\n",
            "Installing collected packages: spark-nlp, spark-nlp-jsl\n",
            "Successfully installed spark-nlp-2.5.0 spark-nlp-jsl-2.5.0rc3\n",
            "2.5.0\n"
          ],
          "name": "stdout"
        }
      ]
    },
    {
      "cell_type": "code",
      "metadata": {
        "colab_type": "code",
        "id": "V1wrGrq0GClP",
        "outputId": "eafce5ec-0a83-4f6f-8cd4-fb1f10d9fae7",
        "colab": {
          "base_uri": "https://localhost:8080/",
          "height": 216
        }
      },
      "source": [
        "spark"
      ],
      "execution_count": 0,
      "outputs": [
        {
          "output_type": "execute_result",
          "data": {
            "text/html": [
              "\n",
              "            <div>\n",
              "                <p><b>SparkSession - in-memory</b></p>\n",
              "                \n",
              "        <div>\n",
              "            <p><b>SparkContext</b></p>\n",
              "\n",
              "            <p><a href=\"http://702b4c071788:4040\">Spark UI</a></p>\n",
              "\n",
              "            <dl>\n",
              "              <dt>Version</dt>\n",
              "                <dd><code>v2.4.4</code></dd>\n",
              "              <dt>Master</dt>\n",
              "                <dd><code>local[*]</code></dd>\n",
              "              <dt>AppName</dt>\n",
              "                <dd><code>Spark NLP Licensed</code></dd>\n",
              "            </dl>\n",
              "        </div>\n",
              "        \n",
              "            </div>\n",
              "        "
            ],
            "text/plain": [
              "<pyspark.sql.session.SparkSession at 0x7ff0d8515198>"
            ]
          },
          "metadata": {
            "tags": []
          },
          "execution_count": 4
        }
      ]
    },
    {
      "cell_type": "markdown",
      "metadata": {
        "colab_type": "text",
        "id": "rFQifkFYihOc"
      },
      "source": [
        "# Deidentification Model"
      ]
    },
    {
      "cell_type": "code",
      "metadata": {
        "colab_type": "code",
        "id": "ONMo7NWXU19B",
        "colab": {}
      },
      "source": [
        "import pandas as pd\n",
        "from sparknlp.base import *\n",
        "from sparknlp.annotator import *\n",
        "from pyspark.ml import Pipeline, PipelineModel\n",
        "import pyspark.sql.functions as F\n",
        "import string\n",
        "import numpy as np\n",
        "import sparknlp\n",
        "from sparknlp.util import *\n",
        "from sparknlp.pretrained import ResourceDownloader\n",
        "from pyspark.sql import functions as F\n",
        "from sparknlp_jsl.annotator import *"
      ],
      "execution_count": 0,
      "outputs": []
    },
    {
      "cell_type": "code",
      "metadata": {
        "colab_type": "code",
        "id": "qHzG7Wvhgcex",
        "outputId": "6ea42b81-47eb-4cf8-8610-801c3bb80907",
        "colab": {
          "base_uri": "https://localhost:8080/",
          "height": 119
        }
      },
      "source": [
        "from sparknlp_jsl.annotator import *\n",
        "\n",
        "documentAssembler = DocumentAssembler()\\\n",
        "  .setInputCol(\"text\")\\\n",
        "  .setOutputCol(\"document\")\n",
        "\n",
        "# Sentence Detector annotator, processes various sentences per line\n",
        "\n",
        "sentenceDetector = SentenceDetector()\\\n",
        "  .setInputCols([\"document\"])\\\n",
        "  .setOutputCol(\"sentence\")\n",
        "\n",
        "# Tokenizer splits words in a relevant format for NLP\n",
        "\n",
        "tokenizer = Tokenizer()\\\n",
        "  .setInputCols([\"sentence\"])\\\n",
        "  .setOutputCol(\"token\")\n",
        "\n",
        "# Clinical word embeddings trained on PubMED dataset\n",
        "word_embeddings = WordEmbeddingsModel.pretrained(\"embeddings_clinical\", \"en\", \"clinical/models\")\\\n",
        "  .setInputCols([\"sentence\", \"token\"])\\\n",
        "  .setOutputCol(\"embeddings\")\n",
        "\n",
        "# NER model trained on i2b2 (sampled from MIMIC) dataset\n",
        "clinical_ner = NerDLModel.pretrained(\"ner_deid_large\", \"en\", \"clinical/models\") \\\n",
        "  .setInputCols([\"sentence\", \"token\", \"embeddings\"]) \\\n",
        "  .setOutputCol(\"ner\")\n"
      ],
      "execution_count": 4,
      "outputs": [
        {
          "output_type": "stream",
          "text": [
            "embeddings_clinical download started this may take some time.\n",
            "Approximate size to download 1.6 GB\n",
            "[OK!]\n",
            "ner_deid_large download started this may take some time.\n",
            "Approximate size to download 14 MB\n",
            "[OK!]\n"
          ],
          "name": "stdout"
        }
      ]
    },
    {
      "cell_type": "code",
      "metadata": {
        "colab_type": "code",
        "id": "WaFe5bZzhEXT",
        "outputId": "d6a0f2e9-0a82-4f2a-8ee0-5c63503e3241",
        "colab": {
          "base_uri": "https://localhost:8080/",
          "height": 68
        }
      },
      "source": [
        "deidentification_rules = DeIdentificationModel.pretrained(\"deidentify_rb_no_regex\", \"en\", \"clinical/models\") \\\n",
        "      .setInputCols([\"sentence\", \"token\", \"ner_chunk\"]) \\\n",
        "      .setOutputCol(\"deidentified\")\n",
        "      \n",
        "#or deidentify_rb"
      ],
      "execution_count": 5,
      "outputs": [
        {
          "output_type": "stream",
          "text": [
            "deidentify_rb_no_regex download started this may take some time.\n",
            "Approximate size to download 8.9 KB\n",
            "[OK!]\n"
          ],
          "name": "stdout"
        }
      ]
    },
    {
      "cell_type": "code",
      "metadata": {
        "colab_type": "code",
        "id": "XSjWY3OHgGsX",
        "colab": {}
      },
      "source": [
        "def get_deidentify_model():\n",
        "    \n",
        "    custom_ner_converter = NerConverter()\\\n",
        "      .setInputCols([\"sentence\", \"token\", \"ner\"])\\\n",
        "      .setOutputCol(\"ner_chunk\")\n",
        "      #.setWhiteList(entity_types)\n",
        "    \n",
        "    deidentify_pipeline = Pipeline(\n",
        "            stages = [\n",
        "            documentAssembler,\n",
        "            sentenceDetector,\n",
        "            tokenizer,\n",
        "            word_embeddings,\n",
        "            clinical_ner,\n",
        "            custom_ner_converter,\n",
        "            deidentification_rules\n",
        "            ])\n",
        "\n",
        "    empty_data = spark.createDataFrame([[\"\"]]).toDF(\"text\")\n",
        "\n",
        "    model_deidentify = deidentify_pipeline.fit(empty_data)\n",
        "    \n",
        "    return model_deidentify\n",
        "\n"
      ],
      "execution_count": 0,
      "outputs": []
    },
    {
      "cell_type": "code",
      "metadata": {
        "colab_type": "code",
        "id": "Qhq7n1IahS_Y",
        "colab": {}
      },
      "source": [
        "deid_model = get_deidentify_model()"
      ],
      "execution_count": 0,
      "outputs": []
    },
    {
      "cell_type": "code",
      "metadata": {
        "colab_type": "code",
        "id": "DhtnLajzgNNb",
        "colab": {}
      },
      "source": [
        "\n",
        "def get_deidentified_text(model, text):\n",
        "        \n",
        "    light_model = LightPipeline(model)\n",
        "    \n",
        "    annotated_text = light_model.annotate(text)\n",
        "    \n",
        "    return annotated_text['deidentified']\n",
        "   "
      ],
      "execution_count": 0,
      "outputs": []
    },
    {
      "cell_type": "code",
      "metadata": {
        "colab_type": "code",
        "id": "_sC_bn1Hhs9g",
        "colab": {}
      },
      "source": [
        "text ='''\n",
        "A . Record date : 2093-01-13 , David Hale , M.D . , Name : Hendrickson , Ora MR . # 7194334 Date : 01/13/93 PCP : Oliveira , 25 month years-old , Record date : 2079-11-09 . Cocke County Baptist Hospital . 0295 Keats Street\n",
        "'''"
      ],
      "execution_count": 0,
      "outputs": []
    },
    {
      "cell_type": "code",
      "metadata": {
        "id": "jbblkrvjEHn9",
        "colab_type": "code",
        "colab": {
          "base_uri": "https://localhost:8080/",
          "height": 119
        },
        "outputId": "d11526e2-2f58-45b3-f415-aa451e85a174"
      },
      "source": [
        "get_deidentified_text(deid_model, text)"
      ],
      "execution_count": 10,
      "outputs": [
        {
          "output_type": "execute_result",
          "data": {
            "text/plain": [
              "['A .',\n",
              " 'Record date : <DATE> , <NAME> , M.D .',\n",
              " ', Name : <NAME> MR .',\n",
              " '# <ID> Date : <DATE> PCP : <NAME> , <AGE> years-old , Record date : <DATE> .',\n",
              " '<LOCATION> .',\n",
              " '<LOCATION>']"
            ]
          },
          "metadata": {
            "tags": []
          },
          "execution_count": 10
        }
      ]
    },
    {
      "cell_type": "code",
      "metadata": {
        "colab_type": "code",
        "id": "0emrh9kBfRKf",
        "outputId": "206b3d00-6540-44ad-b4ea-287a2c00d06c",
        "colab": {
          "base_uri": "https://localhost:8080/",
          "height": 190
        }
      },
      "source": [
        "source_text = '''Record date: 2093-01-13 David Hale, M.D.\n",
        "Name: Hendrickson, Ora MR. # 7194334 Date: 01/13/93 PCP: Oliveira.\n",
        "Record date: 2079-11-09. Cocke County Baptist Hospital. 0295 Keats Street.\n",
        "This 17-yr-old male, presented with chest heaviness that started during a pick-up basketball game. His past medical history was unremarkable. He denied prior cardiac symptoms and suffered no chest trauma during the game. His father had suffered an acute myocardial infarction at age 38. The patient was a nonsmoker, did not drink alcohol, and denied recreational drug use. He swallowed a tablet of aspirin before coming to the emergency room. His blood pressure was 160/90 mm Hg, and his heart rate was 80 bpm. Physical examination revealed no stigmata of Marfan syndrome. The rest of his physical examination was normal.'''\n",
        "\n",
        "data = spark.createDataFrame([\n",
        "  [source_text]\n",
        "]).toDF(\"text\")\n",
        "\n",
        "data.show(truncate=False)"
      ],
      "execution_count": 14,
      "outputs": [
        {
          "output_type": "stream",
          "text": [
            "+------------------------------------------------------------------------------------------------------------------------------------------------------------------------------------------------------------------------------------------------------------------------------------------------------------------------------------------------------------------------------------------------------------------------------------------------------------------------------------------------------------------------------------------------------------------------------------------------------------------------------------------------------------------------------------------------------------------------------------------------------------------------------------------------------------------------------------+\n",
            "|text                                                                                                                                                                                                                                                                                                                                                                                                                                                                                                                                                                                                                                                                                                                                                                                                                                |\n",
            "+------------------------------------------------------------------------------------------------------------------------------------------------------------------------------------------------------------------------------------------------------------------------------------------------------------------------------------------------------------------------------------------------------------------------------------------------------------------------------------------------------------------------------------------------------------------------------------------------------------------------------------------------------------------------------------------------------------------------------------------------------------------------------------------------------------------------------------+\n",
            "|Record date: 2093-01-13 David Hale, M.D.\n",
            "Name: Hendrickson, Ora MR. # 7194334 Date: 01/13/93 PCP: Oliveira.\n",
            "Record date: 2079-11-09. Cocke County Baptist Hospital. 0295 Keats Street.\n",
            "This 17-yr-old male, presented with chest heaviness that started during a pick-up basketball game. His past medical history was unremarkable. He denied prior cardiac symptoms and suffered no chest trauma during the game. His father had suffered an acute myocardial infarction at age 38. The patient was a nonsmoker, did not drink alcohol, and denied recreational drug use. He swallowed a tablet of aspirin before coming to the emergency room. His blood pressure was 160/90 mm Hg, and his heart rate was 80 bpm. Physical examination revealed no stigmata of Marfan syndrome. The rest of his physical examination was normal.|\n",
            "+------------------------------------------------------------------------------------------------------------------------------------------------------------------------------------------------------------------------------------------------------------------------------------------------------------------------------------------------------------------------------------------------------------------------------------------------------------------------------------------------------------------------------------------------------------------------------------------------------------------------------------------------------------------------------------------------------------------------------------------------------------------------------------------------------------------------------------+\n",
            "\n"
          ],
          "name": "stdout"
        }
      ]
    },
    {
      "cell_type": "code",
      "metadata": {
        "colab_type": "code",
        "id": "CJwS456uiIpP",
        "colab": {}
      },
      "source": [
        "result = deid_model.transform(data)"
      ],
      "execution_count": 0,
      "outputs": []
    },
    {
      "cell_type": "code",
      "metadata": {
        "colab_type": "code",
        "id": "fVBOT-Z1iZkT",
        "outputId": "907737ac-bdaf-4926-fc8a-b7032acf62dc",
        "colab": {
          "base_uri": "https://localhost:8080/",
          "height": 340
        }
      },
      "source": [
        "\n",
        "result.select(F.explode(\"deidentified.result\")).show(truncate=False)"
      ],
      "execution_count": 16,
      "outputs": [
        {
          "output_type": "stream",
          "text": [
            "+--------------------------------------------------------------------------------------------------+\n",
            "|col                                                                                               |\n",
            "+--------------------------------------------------------------------------------------------------+\n",
            "|Record date: <DATE>, M.D.                                                                         |\n",
            "|Name: <NAME> # <ID> Date: <DATE> PCP: <NAME>.                                                     |\n",
            "|Record date: <DATE>.                                                                              |\n",
            "|<LOCATION>.                                                                                       |\n",
            "|<LOCATION>.                                                                                       |\n",
            "|This 17-yr-old male, presented with chest heaviness that started during a pick-up basketball game.|\n",
            "|His past medical history was unremarkable.                                                        |\n",
            "|He denied prior cardiac symptoms and suffered no chest trauma during the game.                    |\n",
            "|His father had suffered an acute myocardial infarction at age                                     |\n",
            "|<AGE>. The patient was a nonsmoker, did not drink alcohol, and denied recreational drug use.      |\n",
            "|He swallowed a tablet of aspirin before coming to the emergency room.                             |\n",
            "|His blood pressure was 160/90 mm Hg, and his heart rate was 80 bpm.                               |\n",
            "|Physical examination revealed no stigmata of Marfan syndrome.                                     |\n",
            "|The rest of his physical examination was normal.                                                  |\n",
            "+--------------------------------------------------------------------------------------------------+\n",
            "\n"
          ],
          "name": "stdout"
        }
      ]
    },
    {
      "cell_type": "code",
      "metadata": {
        "colab_type": "code",
        "id": "at-VZU0Vib2S",
        "colab": {}
      },
      "source": [
        ""
      ],
      "execution_count": 0,
      "outputs": []
    }
  ]
}