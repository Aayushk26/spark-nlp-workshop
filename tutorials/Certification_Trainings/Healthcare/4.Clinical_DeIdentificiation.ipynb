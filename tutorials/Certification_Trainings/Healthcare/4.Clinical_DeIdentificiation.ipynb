{
  "nbformat": 4,
  "nbformat_minor": 0,
  "metadata": {
    "colab": {
      "name": "Copy of Copy of 4.Clinical_DeIdentificiation.ipynb",
      "provenance": [],
      "collapsed_sections": [],
      "toc_visible": true
    },
    "kernelspec": {
      "display_name": "Python 3",
      "language": "python",
      "name": "python3"
    },
    "language_info": {
      "codemirror_mode": {
        "name": "ipython",
        "version": 3
      },
      "file_extension": ".py",
      "mimetype": "text/x-python",
      "name": "python",
      "nbconvert_exporter": "python",
      "pygments_lexer": "ipython3",
      "version": "3.6.9"
    }
  },
  "cells": [
    {
      "cell_type": "markdown",
      "metadata": {
        "colab_type": "text",
        "id": "I08sFJYCxR0Z"
      },
      "source": [
        "![JohnSnowLabs](https://nlp.johnsnowlabs.com/assets/images/logo.png)"
      ]
    },
    {
      "cell_type": "markdown",
      "metadata": {
        "colab_type": "text",
        "id": "LKI5K1wQrSe9"
      },
      "source": [
        "[![Open In Colab](https://colab.research.google.com/assets/colab-badge.svg)](https://colab.research.google.com/github/JohnSnowLabs/spark-nlp-workshop/blob/master/tutorials/Certification_Trainings/Healthcare/4.Clinical_DeIdentificiation.ipynb)"
      ]
    },
    {
      "cell_type": "markdown",
      "metadata": {
        "colab_type": "text",
        "id": "Niy3mZAjoayg"
      },
      "source": [
        "# Clinical Deidentification"
      ]
    },
    {
      "cell_type": "markdown",
      "metadata": {
        "colab_type": "text",
        "id": "okhT7AcXxben"
      },
      "source": [
        "## Colab Setup"
      ]
    },
    {
      "cell_type": "code",
      "metadata": {
        "colab_type": "code",
        "id": "I8Ytt2LLp2rj",
        "colab": {
          "base_uri": "https://localhost:8080/",
          "height": 34
        },
        "outputId": "43f7a5c8-1ab2-4fa4-a955-af777f25fb52"
      },
      "source": [
        "import json\n",
        "\n",
        "with open('workshop_license_keys_Aug2020.json') as f:\n",
        "    license_keys = json.load(f)\n",
        "\n",
        "license_keys.keys()\n"
      ],
      "execution_count": null,
      "outputs": [
        {
          "output_type": "execute_result",
          "data": {
            "text/plain": [
              "dict_keys(['SECRET', 'SPARK_NLP_LICENSE', 'SPARK_OCR_LICENSE', 'AWS_ACCESS_KEY_ID', 'AWS_SECRET_ACCESS_KEY', 'JSL_OCR_SECRET', 'JSL_VERSION', 'PUBLIC_VERSION'])"
            ]
          },
          "metadata": {
            "tags": []
          },
          "execution_count": 3
        }
      ]
    },
    {
      "cell_type": "code",
      "metadata": {
        "id": "iYPLeCFGf88G",
        "colab_type": "code",
        "colab": {
          "base_uri": "https://localhost:8080/",
          "height": 35
        },
        "outputId": "5ab2fc06-01a3-4bae-9845-6ec8389d14cd"
      },
      "source": [
        "license_keys['JSL_VERSION']"
      ],
      "execution_count": null,
      "outputs": [
        {
          "output_type": "execute_result",
          "data": {
            "application/vnd.google.colaboratory.intrinsic+json": {
              "type": "string"
            },
            "text/plain": [
              "'2.5.3'"
            ]
          },
          "metadata": {
            "tags": []
          },
          "execution_count": 4
        }
      ]
    },
    {
      "cell_type": "code",
      "metadata": {
        "colab_type": "code",
        "id": "_BkrtwRnBcnw",
        "colab": {
          "base_uri": "https://localhost:8080/",
          "height": 153
        },
        "outputId": "f91d88d6-7b06-4528-bdcf-76e628c5d4d5"
      },
      "source": [
        "# template for license_key.json\n",
        "\n",
        "{'JSL_VERSION':'jjj',\n",
        "'PUBLIC_VERSION':'vvv',\n",
        "'SECRET':\"xxx\",\n",
        "'SPARK_NLP_LICENSE': 'aaa',\n",
        "'JSL_OCR_LICENSE': 'bbb',\n",
        "'AWS_ACCESS_KEY_ID':\"ccc\",\n",
        "'AWS_SECRET_ACCESS_KEY':\"ddd\",\n",
        "'JSL_OCR_SECRET':\"eee\"}"
      ],
      "execution_count": null,
      "outputs": [
        {
          "output_type": "execute_result",
          "data": {
            "text/plain": [
              "{'AWS_ACCESS_KEY_ID': 'ccc',\n",
              " 'AWS_SECRET_ACCESS_KEY': 'ddd',\n",
              " 'JSL_OCR_LICENSE': 'bbb',\n",
              " 'JSL_OCR_SECRET': 'eee',\n",
              " 'JSL_VERSION': 'jjj',\n",
              " 'PUBLIC_VERSION': 'vvv',\n",
              " 'SECRET': 'xxx',\n",
              " 'SPARK_NLP_LICENSE': 'aaa'}"
            ]
          },
          "metadata": {
            "tags": []
          },
          "execution_count": 5
        }
      ]
    },
    {
      "cell_type": "code",
      "metadata": {
        "colab_type": "code",
        "id": "xy-mE2aVxZjl",
        "colab": {}
      },
      "source": [
        "import os\n",
        "\n",
        "# Install java\n",
        "! apt-get install -y openjdk-8-jdk-headless -qq > /dev/null\n",
        "os.environ[\"JAVA_HOME\"] = \"/usr/lib/jvm/java-8-openjdk-amd64\"\n",
        "os.environ[\"PATH\"] = os.environ[\"JAVA_HOME\"] + \"/bin:\" + os.environ[\"PATH\"]\n",
        "! java -version\n",
        "\n",
        "secret = license_keys['SECRET']\n",
        "\n",
        "os.environ['SPARK_NLP_LICENSE'] = license_keys['SPARK_NLP_LICENSE']\n",
        "os.environ['SPARK_OCR_LICENSE'] = license_keys['SPARK_OCR_LICENSE']\n",
        "os.environ['AWS_ACCESS_KEY_ID']= license_keys['AWS_ACCESS_KEY_ID']\n",
        "os.environ['AWS_SECRET_ACCESS_KEY'] = license_keys['AWS_SECRET_ACCESS_KEY']\n",
        "jsl_version = license_keys['JSL_VERSION']\n",
        "version = license_keys['PUBLIC_VERSION']\n",
        "\n",
        "! pip install --ignore-installed -q pyspark==2.4.4\n",
        "\n",
        "! python -m pip install --upgrade spark-nlp-jsl==$jsl_version  --extra-index-url https://pypi.johnsnowlabs.com/$secret\n",
        "\n",
        "! pip install --ignore-installed -q spark-nlp==$version\n",
        "\n",
        "import sparknlp\n",
        "\n",
        "print (sparknlp.version())\n",
        "\n",
        "import json\n",
        "import os\n",
        "from pyspark.ml import Pipeline\n",
        "from pyspark.sql import SparkSession\n",
        "\n",
        "\n",
        "from sparknlp.annotator import *\n",
        "from sparknlp_jsl.annotator import *\n",
        "from sparknlp.base import *\n",
        "import sparknlp_jsl\n",
        "\n",
        "spark = sparknlp_jsl.start(secret)"
      ],
      "execution_count": null,
      "outputs": []
    },
    {
      "cell_type": "code",
      "metadata": {
        "id": "VtLIEJtPf88T",
        "colab_type": "code",
        "colab": {}
      },
      "source": [
        "# if you want to start the session with custom params as in start function above\n",
        "def start(secret):\n",
        "    builder = SparkSession.builder \\\n",
        "        .appName(\"Spark NLP Licensed\") \\\n",
        "        .master(\"local[*]\") \\\n",
        "        .config(\"spark.driver.memory\", \"16G\") \\\n",
        "        .config(\"spark.serializer\", \"org.apache.spark.serializer.KryoSerializer\") \\\n",
        "        .config(\"spark.kryoserializer.buffer.max\", \"2000M\") \\\n",
        "        .config(\"spark.jars.packages\", \"com.johnsnowlabs.nlp:spark-nlp_2.11:\"+version) \\\n",
        "        .config(\"spark.jars\", \"https://pypi.johnsnowlabs.com/\"+secret+\"/spark-nlp-jsl-\"+jsl_version+\".jar\")\n",
        "      \n",
        "    return builder.getOrCreate()\n",
        "\n",
        "#spark = start(secret)"
      ],
      "execution_count": null,
      "outputs": []
    },
    {
      "cell_type": "code",
      "metadata": {
        "colab_type": "code",
        "id": "V1wrGrq0GClP",
        "colab": {
          "base_uri": "https://localhost:8080/",
          "height": 216
        },
        "outputId": "996f8a96-9cac-48fa-917f-6e0c000dc789"
      },
      "source": [
        "spark"
      ],
      "execution_count": null,
      "outputs": [
        {
          "output_type": "execute_result",
          "data": {
            "text/html": [
              "\n",
              "            <div>\n",
              "                <p><b>SparkSession - in-memory</b></p>\n",
              "                \n",
              "        <div>\n",
              "            <p><b>SparkContext</b></p>\n",
              "\n",
              "            <p><a href=\"http://ecf7cb564cba:4040\">Spark UI</a></p>\n",
              "\n",
              "            <dl>\n",
              "              <dt>Version</dt>\n",
              "                <dd><code>v2.4.4</code></dd>\n",
              "              <dt>Master</dt>\n",
              "                <dd><code>local[*]</code></dd>\n",
              "              <dt>AppName</dt>\n",
              "                <dd><code>Spark NLP Licensed</code></dd>\n",
              "            </dl>\n",
              "        </div>\n",
              "        \n",
              "            </div>\n",
              "        "
            ],
            "text/plain": [
              "<pyspark.sql.session.SparkSession at 0x7fd0c3b04c50>"
            ]
          },
          "metadata": {
            "tags": []
          },
          "execution_count": 8
        }
      ]
    },
    {
      "cell_type": "markdown",
      "metadata": {
        "colab_type": "text",
        "id": "rFQifkFYihOc"
      },
      "source": [
        "# Deidentification Model"
      ]
    },
    {
      "cell_type": "markdown",
      "metadata": {
        "id": "2eY0jM7kf88f",
        "colab_type": "text"
      },
      "source": [
        "Protected Health Information: \n",
        "- individual’s past, present, or future physical or mental health or condition\n",
        "- provision of health care to the individual\n",
        "- past, present, or future payment for the health care \n",
        "\n",
        "Protected health information includes many common identifiers (e.g., name, address, birth date, Social Security Number) when they can be associated with the health information."
      ]
    },
    {
      "cell_type": "markdown",
      "metadata": {
        "id": "ZKln9C7Ef88f",
        "colab_type": "text"
      },
      "source": [
        "Load NER pipeline to isentify protected entities:"
      ]
    },
    {
      "cell_type": "code",
      "metadata": {
        "colab_type": "code",
        "id": "ONMo7NWXU19B",
        "colab": {}
      },
      "source": [
        "import pandas as pd\n",
        "\n",
        "pd.set_option('display.max_columns', None)  \n",
        "pd.set_option('display.expand_frame_repr', False)\n",
        "pd.set_option('max_colwidth', None)\n",
        "\n",
        "from sparknlp.base import *\n",
        "from sparknlp.annotator import *\n",
        "from pyspark.ml import Pipeline, PipelineModel\n",
        "import pyspark.sql.functions as F\n",
        "import string\n",
        "import numpy as np\n",
        "import sparknlp\n",
        "from sparknlp.util import *\n",
        "from sparknlp.pretrained import ResourceDownloader\n",
        "from pyspark.sql import functions as F\n",
        "from sparknlp_jsl.annotator import *"
      ],
      "execution_count": null,
      "outputs": []
    },
    {
      "cell_type": "code",
      "metadata": {
        "colab_type": "code",
        "id": "qHzG7Wvhgcex",
        "colab": {
          "base_uri": "https://localhost:8080/",
          "height": 119
        },
        "outputId": "cb08c133-8ba0-4625-b042-af3d34221a79"
      },
      "source": [
        "from sparknlp_jsl.annotator import *\n",
        "\n",
        "documentAssembler = DocumentAssembler()\\\n",
        "  .setInputCol(\"text\")\\\n",
        "  .setOutputCol(\"document\")\n",
        "\n",
        "# Sentence Detector annotator, processes various sentences per line\n",
        "\n",
        "sentenceDetector = SentenceDetector()\\\n",
        "  .setInputCols([\"document\"])\\\n",
        "  .setOutputCol(\"sentence\")\n",
        "\n",
        "# Tokenizer splits words in a relevant format for NLP\n",
        "\n",
        "tokenizer = Tokenizer()\\\n",
        "  .setInputCols([\"sentence\"])\\\n",
        "  .setOutputCol(\"token\")\n",
        "\n",
        "# Clinical word embeddings trained on PubMED dataset\n",
        "\n",
        "word_embeddings = WordEmbeddingsModel.pretrained(\"embeddings_clinical\", \"en\", \"clinical/models\")\\\n",
        "  .setInputCols([\"sentence\", \"token\"])\\\n",
        "  .setOutputCol(\"embeddings\")\n",
        "\n",
        "# NER model trained on n2c2 (de-identification and Heart Disease Risk Factors Challenge) datasets)\n",
        "\n",
        "clinical_ner = NerDLModel.pretrained(\"ner_deid_large\", \"en\", \"clinical/models\") \\\n",
        "  .setInputCols([\"sentence\", \"token\", \"embeddings\"]) \\\n",
        "  .setOutputCol(\"ner\")\n",
        "\n",
        "ner_converter = NerConverterInternal()\\\n",
        "  .setInputCols([\"sentence\", \"token\", \"ner\"])\\\n",
        "  .setOutputCol(\"ner_chunk\")\n",
        "\n",
        "nlpPipeline = Pipeline(stages=[\n",
        "    documentAssembler, \n",
        "    sentenceDetector,\n",
        "    tokenizer,\n",
        "    word_embeddings,\n",
        "    clinical_ner,\n",
        "    ner_converter])\n",
        "\n",
        "empty_data = spark.createDataFrame([[\"\"]]).toDF(\"text\")\n",
        "\n",
        "model = nlpPipeline.fit(empty_data)"
      ],
      "execution_count": null,
      "outputs": [
        {
          "output_type": "stream",
          "text": [
            "embeddings_clinical download started this may take some time.\n",
            "Approximate size to download 1.6 GB\n",
            "[OK!]\n",
            "ner_deid_large download started this may take some time.\n",
            "Approximate size to download 13.9 MB\n",
            "[OK!]\n"
          ],
          "name": "stdout"
        }
      ]
    },
    {
      "cell_type": "markdown",
      "metadata": {
        "id": "woAJhVv6f88m",
        "colab_type": "text"
      },
      "source": [
        "### Pretrained NER models extracts:\n",
        "\n",
        "- Name\n",
        "- Profession\n",
        "- Age\n",
        "- Date\n",
        "- Contact(Telephone numbers, FAX numbers, Email addresses)\n",
        "- Location (Address, City, Postal code, Hospital Name, Employment information)\n",
        "- Id (Social Security numbers, Medical record numbers, Internet protocol addresses)"
      ]
    },
    {
      "cell_type": "code",
      "metadata": {
        "id": "Fxdh4CBBf88n",
        "colab_type": "code",
        "colab": {}
      },
      "source": [
        "text ='''\n",
        "A . Record date : 2093-01-13 , David Hale , M.D . , Name : Hendrickson , Ora MR . # 7194334 Date : 01/13/93 PCP : Oliveira , 25 month years-old , Record date : 2079-11-09 . Cocke County Baptist Hospital . 0295 Keats Street\n",
        "'''"
      ],
      "execution_count": null,
      "outputs": []
    },
    {
      "cell_type": "code",
      "metadata": {
        "id": "AE7cILT6f88q",
        "colab_type": "code",
        "colab": {}
      },
      "source": [
        "result = model.transform(spark.createDataFrame([[text]]).toDF(\"text\"))"
      ],
      "execution_count": null,
      "outputs": []
    },
    {
      "cell_type": "code",
      "metadata": {
        "id": "5cxcMyvLf88u",
        "colab_type": "code",
        "colab": {}
      },
      "source": [
        "result_df = result.select(F.explode(F.arrays_zip('token.result', 'ner.result')).alias(\"cols\")) \\\n",
        ".select(F.expr(\"cols['0']\").alias(\"token\"),\n",
        "        F.expr(\"cols['1']\").alias(\"ner_label\"))"
      ],
      "execution_count": null,
      "outputs": []
    },
    {
      "cell_type": "code",
      "metadata": {
        "id": "nygC3Hbzf88x",
        "colab_type": "code",
        "colab": {
          "base_uri": "https://localhost:8080/",
          "height": 238
        },
        "outputId": "836b7b8b-bb78-4bf6-c390-eb360b6f56d4"
      },
      "source": [
        "result_df.select(\"token\", \"ner_label\").groupBy('ner_label').count().orderBy('count', ascending=False).show(truncate=False)"
      ],
      "execution_count": null,
      "outputs": [
        {
          "output_type": "stream",
          "text": [
            "+----------+-----+\n",
            "|ner_label |count|\n",
            "+----------+-----+\n",
            "|O         |28   |\n",
            "|I-LOCATION|5    |\n",
            "|B-NAME    |3    |\n",
            "|I-NAME    |3    |\n",
            "|B-DATE    |3    |\n",
            "|B-LOCATION|2    |\n",
            "|B-ID      |1    |\n",
            "|B-AGE     |1    |\n",
            "+----------+-----+\n",
            "\n"
          ],
          "name": "stdout"
        }
      ]
    },
    {
      "cell_type": "markdown",
      "metadata": {
        "id": "DJvt31qlf880",
        "colab_type": "text"
      },
      "source": [
        "### Check extracted sensetive entities"
      ]
    },
    {
      "cell_type": "code",
      "metadata": {
        "id": "gneft_Mgf881",
        "colab_type": "code",
        "colab": {
          "base_uri": "https://localhost:8080/",
          "height": 272
        },
        "outputId": "313042d9-85f6-4401-8400-8ec8e6070a31"
      },
      "source": [
        "result.select(F.explode(F.arrays_zip('ner_chunk.result', 'ner_chunk.metadata')).alias(\"cols\")) \\\n",
        ".select(F.expr(\"cols['0']\").alias(\"chunk\"),\n",
        "        F.expr(\"cols['1']['entity']\").alias(\"ner_label\")).show(truncate=False)"
      ],
      "execution_count": null,
      "outputs": [
        {
          "output_type": "stream",
          "text": [
            "+-----------------------------+---------+\n",
            "|chunk                        |ner_label|\n",
            "+-----------------------------+---------+\n",
            "|2093-01-13                   |DATE     |\n",
            "|David Hale                   |NAME     |\n",
            "|Hendrickson , Ora            |NAME     |\n",
            "|7194334                      |ID       |\n",
            "|01/13/93                     |DATE     |\n",
            "|Oliveira                     |NAME     |\n",
            "|25                           |AGE      |\n",
            "|2079-11-09                   |DATE     |\n",
            "|Cocke County Baptist Hospital|LOCATION |\n",
            "|0295 Keats Street            |LOCATION |\n",
            "+-----------------------------+---------+\n",
            "\n"
          ],
          "name": "stdout"
        }
      ]
    },
    {
      "cell_type": "markdown",
      "metadata": {
        "id": "vHgjbu0Xf885",
        "colab_type": "text"
      },
      "source": [
        "We can find the cases, where the model will skip some important entities, for example:"
      ]
    },
    {
      "cell_type": "code",
      "metadata": {
        "id": "3I9EdNGMf885",
        "colab_type": "code",
        "colab": {}
      },
      "source": [
        "text ='''\n",
        "Patient AIQING, 25 month years-old , born in Beijing, was transfered to the The Johns Hopkins Hospital. Phone number: (541) 754-3010. MSW 100009632582\n",
        "'''"
      ],
      "execution_count": null,
      "outputs": []
    },
    {
      "cell_type": "code",
      "metadata": {
        "id": "NFlcDIG5f888",
        "colab_type": "code",
        "colab": {}
      },
      "source": [
        "result = model.transform(spark.createDataFrame([[text]]).toDF(\"text\"))"
      ],
      "execution_count": null,
      "outputs": []
    },
    {
      "cell_type": "code",
      "metadata": {
        "id": "xg5StqfBf89B",
        "colab_type": "code",
        "colab": {
          "base_uri": "https://localhost:8080/",
          "height": 187
        },
        "outputId": "7a492efe-b061-4fae-98bf-397563755a00"
      },
      "source": [
        "result_df = result.select(F.explode(F.arrays_zip('token.result', 'ner.result')).alias(\"cols\")) \\\n",
        ".select(F.expr(\"cols['0']\").alias(\"token\"),\n",
        "        F.expr(\"cols['1']\").alias(\"ner_label\"))\n",
        "\n",
        "result.select(F.explode(F.arrays_zip('ner_chunk.result', 'ner_chunk.metadata')).alias(\"cols\")) \\\n",
        ".select(F.expr(\"cols['0']\").alias(\"chunk\"),\n",
        "        F.expr(\"cols['1']['entity']\").alias(\"ner_label\")).show(truncate=False)"
      ],
      "execution_count": null,
      "outputs": [
        {
          "output_type": "stream",
          "text": [
            "+--------------------------+---------+\n",
            "|chunk                     |ner_label|\n",
            "+--------------------------+---------+\n",
            "|25                        |AGE      |\n",
            "|Beijing                   |LOCATION |\n",
            "|The Johns Hopkins Hospital|LOCATION |\n",
            "|(541) 754-3010            |CONTACT  |\n",
            "|100009632582              |ID       |\n",
            "+--------------------------+---------+\n",
            "\n"
          ],
          "name": "stdout"
        }
      ]
    },
    {
      "cell_type": "markdown",
      "metadata": {
        "id": "DExQOzZxf89E",
        "colab_type": "text"
      },
      "source": [
        "For these entities we can add a dictionary to the pipeline, by using **NerOverwriter()**:"
      ]
    },
    {
      "cell_type": "code",
      "metadata": {
        "id": "UPu8J-FBf89E",
        "colab_type": "code",
        "colab": {}
      },
      "source": [
        "neroverwriter = NerOverwriter() \\\n",
        "    .setInputCols([\"ner\"]) \\\n",
        "    .setOutputCol(\"ner_overwrited\") \\\n",
        "    .setStopWords(['AIQING']) \\\n",
        "    .setNewResult(\"I-NAME\")\n",
        "\n",
        "ner_converter = NerConverterInternal()\\\n",
        "  .setInputCols([\"sentence\", \"token\", \"ner_overwrited\"])\\\n",
        "  .setOutputCol(\"ner_chunk\")\n",
        "\n",
        "nlpPipeline = Pipeline(stages=[\n",
        "    documentAssembler, \n",
        "    sentenceDetector,\n",
        "    tokenizer,\n",
        "    word_embeddings,\n",
        "    clinical_ner,\n",
        "    neroverwriter,\n",
        "    ner_converter])\n",
        "\n",
        "empty_data = spark.createDataFrame([[\"\"]]).toDF(\"text\")\n",
        "\n",
        "model = nlpPipeline.fit(empty_data)"
      ],
      "execution_count": null,
      "outputs": []
    },
    {
      "cell_type": "markdown",
      "metadata": {
        "id": "rgkbyhLBf89H",
        "colab_type": "text"
      },
      "source": [
        "Let's test the model after modification:"
      ]
    },
    {
      "cell_type": "code",
      "metadata": {
        "id": "Bx3Numhlf89I",
        "colab_type": "code",
        "colab": {}
      },
      "source": [
        "result = model.transform(spark.createDataFrame([[text]]).toDF(\"text\"))"
      ],
      "execution_count": null,
      "outputs": []
    },
    {
      "cell_type": "code",
      "metadata": {
        "id": "S76-ayLGf89L",
        "colab_type": "code",
        "colab": {
          "base_uri": "https://localhost:8080/",
          "height": 459
        },
        "outputId": "2dbc4d42-c9f7-4df8-8ba2-d12a210d1ed8"
      },
      "source": [
        "result_df = result.select(F.explode(F.arrays_zip('token.result', 'ner.result')).alias(\"cols\")) \\\n",
        ".select(F.expr(\"cols['0']\").alias(\"token\"),\n",
        "        F.expr(\"cols['1']\").alias(\"ner_label\"))\n",
        "\n",
        "result_df.show()"
      ],
      "execution_count": null,
      "outputs": [
        {
          "output_type": "stream",
          "text": [
            "+----------+----------+\n",
            "|     token| ner_label|\n",
            "+----------+----------+\n",
            "|   Patient|         O|\n",
            "|    AIQING|         O|\n",
            "|         ,|         O|\n",
            "|        25|     B-AGE|\n",
            "|     month|         O|\n",
            "| years-old|         O|\n",
            "|         ,|         O|\n",
            "|      born|         O|\n",
            "|        in|         O|\n",
            "|   Beijing|B-LOCATION|\n",
            "|         ,|         O|\n",
            "|       was|         O|\n",
            "|transfered|         O|\n",
            "|        to|         O|\n",
            "|       the|         O|\n",
            "|       The|B-LOCATION|\n",
            "|     Johns|I-LOCATION|\n",
            "|   Hopkins|I-LOCATION|\n",
            "|  Hospital|I-LOCATION|\n",
            "|         .|         O|\n",
            "+----------+----------+\n",
            "only showing top 20 rows\n",
            "\n"
          ],
          "name": "stdout"
        }
      ]
    },
    {
      "cell_type": "code",
      "metadata": {
        "id": "cTTMqSN_sLJk",
        "colab_type": "code",
        "colab": {
          "base_uri": "https://localhost:8080/",
          "height": 204
        },
        "outputId": "63ffe6fd-14e6-4e11-b115-a69a6cf1b341"
      },
      "source": [
        "result.select(F.explode(F.arrays_zip('ner_chunk.result', 'ner_chunk.metadata')).alias(\"cols\")) \\\n",
        ".select(F.expr(\"cols['0']\").alias(\"chunk\"),\n",
        "        F.expr(\"cols['1']['entity']\").alias(\"ner_label\")).show(truncate=False)"
      ],
      "execution_count": null,
      "outputs": [
        {
          "output_type": "stream",
          "text": [
            "+--------------------------+---------+\n",
            "|chunk                     |ner_label|\n",
            "+--------------------------+---------+\n",
            "|AIQING                    |NAME     |\n",
            "|25                        |AGE      |\n",
            "|Beijing                   |LOCATION |\n",
            "|The Johns Hopkins Hospital|LOCATION |\n",
            "|(541) 754-3010            |CONTACT  |\n",
            "|100009632582              |ID       |\n",
            "+--------------------------+---------+\n",
            "\n"
          ],
          "name": "stdout"
        }
      ]
    },
    {
      "cell_type": "markdown",
      "metadata": {
        "id": "U3MySdbyf89P",
        "colab_type": "text"
      },
      "source": [
        "As we can see, now name **AIQING** was identified correctly"
      ]
    },
    {
      "cell_type": "markdown",
      "metadata": {
        "id": "EkD3zogqf89Q",
        "colab_type": "text"
      },
      "source": [
        "### Excluding entities from deidentification"
      ]
    },
    {
      "cell_type": "markdown",
      "metadata": {
        "id": "my04HL3rf89Q",
        "colab_type": "text"
      },
      "source": [
        "Sometimes we need to leave some entities in the text, for example, if we want to analyze the frequency of the disease by the hospital. In this case, we need to use parameter **setWhiteList()** to modify NerChunk output. This parameter having using a list of entities type to deidentify as an input. So, if we want to leave the location in the list we need to remove this tag from the list:"
      ]
    },
    {
      "cell_type": "code",
      "metadata": {
        "id": "3Bj066u9f89R",
        "colab_type": "code",
        "colab": {}
      },
      "source": [
        "ner_converter = NerConverterInternal()\\\n",
        "  .setInputCols([\"sentence\", \"token\", \"ner_overwrited\"])\\\n",
        "  .setOutputCol(\"ner_chunk\") \\\n",
        "  .setWhiteList(['NAME', 'PROFESSION', 'ID', 'AGE',\n",
        "               'DATE', 'CONTACT'])\n",
        "\n",
        "nlpPipeline = Pipeline(stages=[\n",
        "    documentAssembler, \n",
        "    sentenceDetector,\n",
        "    tokenizer,\n",
        "    word_embeddings,\n",
        "    clinical_ner,\n",
        "    neroverwriter,\n",
        "    ner_converter])\n",
        "\n",
        "empty_data = spark.createDataFrame([[\"\"]]).toDF(\"text\")\n",
        "\n",
        "model_with_white_list = nlpPipeline.fit(empty_data)"
      ],
      "execution_count": null,
      "outputs": []
    },
    {
      "cell_type": "code",
      "metadata": {
        "id": "oWNZR2trf89U",
        "colab_type": "code",
        "colab": {}
      },
      "source": [
        "result_with_white_list = model_with_white_list.transform(spark.createDataFrame([[text]]).toDF(\"text\"))"
      ],
      "execution_count": null,
      "outputs": []
    },
    {
      "cell_type": "code",
      "metadata": {
        "id": "HFTW28Cbf89Y",
        "colab_type": "code",
        "colab": {
          "base_uri": "https://localhost:8080/",
          "height": 170
        },
        "outputId": "d41dbb81-7bb1-431c-f041-85d00f453853"
      },
      "source": [
        "result_df = result.select(F.explode(F.arrays_zip('token.result', 'ner.result')).alias(\"cols\")) \\\n",
        ".select(F.expr(\"cols['0']\").alias(\"token\"),\n",
        "        F.expr(\"cols['1']\").alias(\"ner_label\"))\n",
        "\n",
        "result_with_white_list.select(F.explode(F.arrays_zip('ner_chunk.result', 'ner_chunk.metadata')).alias(\"cols\")) \\\n",
        ".select(F.expr(\"cols['0']\").alias(\"chunk\"),\n",
        "        F.expr(\"cols['1']['entity']\").alias(\"ner_label\")).show(truncate=False)"
      ],
      "execution_count": null,
      "outputs": [
        {
          "output_type": "stream",
          "text": [
            "+--------------+---------+\n",
            "|chunk         |ner_label|\n",
            "+--------------+---------+\n",
            "|AIQING        |NAME     |\n",
            "|25            |AGE      |\n",
            "|(541) 754-3010|CONTACT  |\n",
            "|100009632582  |ID       |\n",
            "+--------------+---------+\n",
            "\n"
          ],
          "name": "stdout"
        }
      ]
    },
    {
      "cell_type": "markdown",
      "metadata": {
        "id": "rckvYUKVf89b",
        "colab_type": "text"
      },
      "source": [
        "## Masking and Obfuscation"
      ]
    },
    {
      "cell_type": "markdown",
      "metadata": {
        "id": "HLt9SFX5f89b",
        "colab_type": "text"
      },
      "source": [
        "### Replace this enitites with Tags"
      ]
    },
    {
      "cell_type": "code",
      "metadata": {
        "colab_type": "code",
        "id": "WaFe5bZzhEXT",
        "colab": {
          "base_uri": "https://localhost:8080/",
          "height": 68
        },
        "outputId": "5ded0f94-46b2-431f-f0de-719ad65401f9"
      },
      "source": [
        "deidentification = DeIdentificationModel.pretrained(\"deidentify_large\", \"en\", \"clinical/models\") \\\n",
        "      .setInputCols([\"sentence\", \"token\", \"ner_chunk\"]) \\\n",
        "      .setOutputCol(\"deidentified\") \\\n",
        "      .setMode(\"mask\")"
      ],
      "execution_count": null,
      "outputs": [
        {
          "output_type": "stream",
          "text": [
            "deidentify_large download started this may take some time.\n",
            "Approximate size to download 188.1 KB\n",
            "[OK!]\n"
          ],
          "name": "stdout"
        }
      ]
    },
    {
      "cell_type": "code",
      "metadata": {
        "id": "Pg8fRNyQsZFd",
        "colab_type": "code",
        "colab": {
          "base_uri": "https://localhost:8080/",
          "height": 204
        },
        "outputId": "dc23f2ef-5a97-49e8-b4c2-f5891a6d4282"
      },
      "source": [
        "result.select(F.explode(F.arrays_zip('ner_chunk.result', 'ner_chunk.metadata')).alias(\"cols\")) \\\n",
        ".select(F.expr(\"cols['0']\").alias(\"chunk\"),\n",
        "        F.expr(\"cols['1']['entity']\").alias(\"ner_label\")).show(truncate=False)"
      ],
      "execution_count": null,
      "outputs": [
        {
          "output_type": "stream",
          "text": [
            "+--------------------------+---------+\n",
            "|chunk                     |ner_label|\n",
            "+--------------------------+---------+\n",
            "|AIQING                    |NAME     |\n",
            "|25                        |AGE      |\n",
            "|Beijing                   |LOCATION |\n",
            "|The Johns Hopkins Hospital|LOCATION |\n",
            "|(541) 754-3010            |CONTACT  |\n",
            "|100009632582              |ID       |\n",
            "+--------------------------+---------+\n",
            "\n"
          ],
          "name": "stdout"
        }
      ]
    },
    {
      "cell_type": "code",
      "metadata": {
        "id": "KIGNZ52Sf89e",
        "colab_type": "code",
        "colab": {}
      },
      "source": [
        "deid_text = deidentification.transform(result)"
      ],
      "execution_count": null,
      "outputs": []
    },
    {
      "cell_type": "code",
      "metadata": {
        "id": "v2hzD4eRf89i",
        "colab_type": "code",
        "colab": {
          "base_uri": "https://localhost:8080/",
          "height": 142
        },
        "outputId": "80295090-d09c-4b6a-ed8d-b9fa784eadd6"
      },
      "source": [
        "deid_text.select(F.explode(F.arrays_zip('sentence.result', 'deidentified.result')).alias(\"cols\")) \\\n",
        ".select(F.expr(\"cols['0']\").alias(\"sentence\"), F.expr(\"cols['1']\").alias(\"deidentified\")).toPandas()"
      ],
      "execution_count": null,
      "outputs": [
        {
          "output_type": "execute_result",
          "data": {
            "text/html": [
              "<div>\n",
              "<style scoped>\n",
              "    .dataframe tbody tr th:only-of-type {\n",
              "        vertical-align: middle;\n",
              "    }\n",
              "\n",
              "    .dataframe tbody tr th {\n",
              "        vertical-align: top;\n",
              "    }\n",
              "\n",
              "    .dataframe thead th {\n",
              "        text-align: right;\n",
              "    }\n",
              "</style>\n",
              "<table border=\"1\" class=\"dataframe\">\n",
              "  <thead>\n",
              "    <tr style=\"text-align: right;\">\n",
              "      <th></th>\n",
              "      <th>sentence</th>\n",
              "      <th>deidentified</th>\n",
              "    </tr>\n",
              "  </thead>\n",
              "  <tbody>\n",
              "    <tr>\n",
              "      <th>0</th>\n",
              "      <td>Patient AIQING, 25 month years-old , born in Beijing, was transfered to the The Johns Hopkins Hospital.</td>\n",
              "      <td>Patient &lt;NAME&gt;, &lt;AGE&gt; month years-old , born in &lt;LOCATION&gt;, was transfered to the &lt;LOCATION&gt;.</td>\n",
              "    </tr>\n",
              "    <tr>\n",
              "      <th>1</th>\n",
              "      <td>Phone number: (541) 754-3010.</td>\n",
              "      <td>Phone number: &lt;CONTACT&gt;.</td>\n",
              "    </tr>\n",
              "    <tr>\n",
              "      <th>2</th>\n",
              "      <td>MSW 100009632582</td>\n",
              "      <td>MSW &lt;ID&gt;</td>\n",
              "    </tr>\n",
              "  </tbody>\n",
              "</table>\n",
              "</div>"
            ],
            "text/plain": [
              "                                                                                                  sentence                                                                                   deidentified\n",
              "0  Patient AIQING, 25 month years-old , born in Beijing, was transfered to the The Johns Hopkins Hospital.  Patient <NAME>, <AGE> month years-old , born in <LOCATION>, was transfered to the <LOCATION>.\n",
              "1                                                                            Phone number: (541) 754-3010.                                                                       Phone number: <CONTACT>.\n",
              "2                                                                                         MSW 100009632582                                                                                       MSW <ID>"
            ]
          },
          "metadata": {
            "tags": []
          },
          "execution_count": 29
        }
      ]
    },
    {
      "cell_type": "markdown",
      "metadata": {
        "id": "HJokGuGxf89k",
        "colab_type": "text"
      },
      "source": [
        "### Use obfuscation mode"
      ]
    },
    {
      "cell_type": "markdown",
      "metadata": {
        "id": "KG0Bvua7f89l",
        "colab_type": "text"
      },
      "source": [
        "In the obfuscation mode **DeIdentificationModel** will replace sensetive entities with random values of the same type. \n",
        "\n",
        "Will be replaced: \n",
        "- Name\n",
        "- Date\n",
        "- Location\n",
        "- Contacts\n",
        "- Profession\n",
        "\n",
        "Will be tagged:\n",
        "- Age\n",
        "- ID"
      ]
    },
    {
      "cell_type": "code",
      "metadata": {
        "id": "obQ4BmTzf89l",
        "colab_type": "code",
        "colab": {
          "base_uri": "https://localhost:8080/",
          "height": 68
        },
        "outputId": "8a0cc2fc-0306-43d1-98c7-4de316c537e5"
      },
      "source": [
        "obfuscation = DeIdentificationModel.pretrained(\"deidentify_large\", \"en\", \"clinical/models\") \\\n",
        "      .setInputCols([\"sentence\", \"token\", \"ner_chunk\"]) \\\n",
        "      .setOutputCol(\"deidentified\") \\\n",
        "      .setMode(\"obfuscate\")\n",
        "      "
      ],
      "execution_count": null,
      "outputs": [
        {
          "output_type": "stream",
          "text": [
            "deidentify_large download started this may take some time.\n",
            "Approximate size to download 188.1 KB\n",
            "[OK!]\n"
          ],
          "name": "stdout"
        }
      ]
    },
    {
      "cell_type": "code",
      "metadata": {
        "id": "EDqrmXcqsAKe",
        "colab_type": "code",
        "colab": {
          "base_uri": "https://localhost:8080/",
          "height": 136
        },
        "outputId": "2a2d4b0e-a44d-4002-db26-da77109eb3d7"
      },
      "source": [
        "result.show()"
      ],
      "execution_count": null,
      "outputs": [
        {
          "output_type": "stream",
          "text": [
            "+--------------------+--------------------+--------------------+--------------------+--------------------+--------------------+--------------------+--------------------+\n",
            "|                text|            document|            sentence|               token|          embeddings|                 ner|      ner_overwrited|           ner_chunk|\n",
            "+--------------------+--------------------+--------------------+--------------------+--------------------+--------------------+--------------------+--------------------+\n",
            "|\n",
            "Patient AIQING, ...|[[document, 0, 15...|[[document, 1, 10...|[[token, 1, 7, Pa...|[[word_embeddings...|[[named_entity, 1...|[[named_entity, 1...|[[chunk, 9, 14, A...|\n",
            "+--------------------+--------------------+--------------------+--------------------+--------------------+--------------------+--------------------+--------------------+\n",
            "\n"
          ],
          "name": "stdout"
        }
      ]
    },
    {
      "cell_type": "code",
      "metadata": {
        "id": "pgSVjPUDf89q",
        "colab_type": "code",
        "colab": {}
      },
      "source": [
        "obfusated_text = obfuscation.transform(result)"
      ],
      "execution_count": null,
      "outputs": []
    },
    {
      "cell_type": "code",
      "metadata": {
        "id": "vgiHhAWgrsGQ",
        "colab_type": "code",
        "colab": {
          "base_uri": "https://localhost:8080/",
          "height": 54
        },
        "outputId": "43e358d3-67df-430f-89b5-132955f6b406"
      },
      "source": [
        "obfusated_text.select('ner.result').take(1)"
      ],
      "execution_count": null,
      "outputs": [
        {
          "output_type": "execute_result",
          "data": {
            "text/plain": [
              "[Row(result=['O', 'O', 'O', 'B-AGE', 'O', 'O', 'O', 'O', 'O', 'B-LOCATION', 'O', 'O', 'O', 'O', 'O', 'B-LOCATION', 'I-LOCATION', 'I-LOCATION', 'I-LOCATION', 'O', 'O', 'O', 'O', 'B-CONTACT', 'I-CONTACT', 'I-CONTACT', 'I-CONTACT', 'O', 'O', 'B-ID'])]"
            ]
          },
          "metadata": {
            "tags": []
          },
          "execution_count": 33
        }
      ]
    },
    {
      "cell_type": "code",
      "metadata": {
        "id": "wiiJ5GAff89s",
        "colab_type": "code",
        "colab": {
          "base_uri": "https://localhost:8080/",
          "height": 142
        },
        "outputId": "99d7d9af-369a-40ab-c480-7f83ca276283"
      },
      "source": [
        "obfusated_text.select(F.explode(F.arrays_zip('sentence.result', 'deidentified.result')).alias(\"cols\")) \\\n",
        ".select(F.expr(\"cols['0']\").alias(\"sentence\"), F.expr(\"cols['1']\").alias(\"deidentified\")).toPandas()"
      ],
      "execution_count": null,
      "outputs": [
        {
          "output_type": "execute_result",
          "data": {
            "text/html": [
              "<div>\n",
              "<style scoped>\n",
              "    .dataframe tbody tr th:only-of-type {\n",
              "        vertical-align: middle;\n",
              "    }\n",
              "\n",
              "    .dataframe tbody tr th {\n",
              "        vertical-align: top;\n",
              "    }\n",
              "\n",
              "    .dataframe thead th {\n",
              "        text-align: right;\n",
              "    }\n",
              "</style>\n",
              "<table border=\"1\" class=\"dataframe\">\n",
              "  <thead>\n",
              "    <tr style=\"text-align: right;\">\n",
              "      <th></th>\n",
              "      <th>sentence</th>\n",
              "      <th>deidentified</th>\n",
              "    </tr>\n",
              "  </thead>\n",
              "  <tbody>\n",
              "    <tr>\n",
              "      <th>0</th>\n",
              "      <td>Patient AIQING, 25 month years-old , born in Beijing, was transfered to the The Johns Hopkins Hospital.</td>\n",
              "      <td>Patient Erin, &lt;AGE&gt; month years-old , born in Rocky Boy's Agency, was transfered to the Bellflower.</td>\n",
              "    </tr>\n",
              "    <tr>\n",
              "      <th>1</th>\n",
              "      <td>Phone number: (541) 754-3010.</td>\n",
              "      <td>Phone number: (815)228-9557.</td>\n",
              "    </tr>\n",
              "    <tr>\n",
              "      <th>2</th>\n",
              "      <td>MSW 100009632582</td>\n",
              "      <td>MSW &lt;ID&gt;</td>\n",
              "    </tr>\n",
              "  </tbody>\n",
              "</table>\n",
              "</div>"
            ],
            "text/plain": [
              "                                                                                                  sentence                                                                                         deidentified\n",
              "0  Patient AIQING, 25 month years-old , born in Beijing, was transfered to the The Johns Hopkins Hospital.  Patient Erin, <AGE> month years-old , born in Rocky Boy's Agency, was transfered to the Bellflower.\n",
              "1                                                                            Phone number: (541) 754-3010.                                                                         Phone number: (815)228-9557.\n",
              "2                                                                                         MSW 100009632582                                                                                             MSW <ID>"
            ]
          },
          "metadata": {
            "tags": []
          },
          "execution_count": 34
        }
      ]
    },
    {
      "cell_type": "markdown",
      "metadata": {
        "id": "9jAMC21Hf89v",
        "colab_type": "text"
      },
      "source": [
        "## Use full pipeline in the Light model"
      ]
    },
    {
      "cell_type": "code",
      "metadata": {
        "id": "kaUnGYhOf89w",
        "colab_type": "code",
        "colab": {}
      },
      "source": [
        "finisher = Finisher() \\\n",
        "    .setInputCols(\"deidentified\")"
      ],
      "execution_count": null,
      "outputs": []
    },
    {
      "cell_type": "code",
      "metadata": {
        "colab_type": "code",
        "id": "Qhq7n1IahS_Y",
        "colab": {}
      },
      "source": [
        "pipeline = Pipeline(stages=[\n",
        "    documentAssembler, \n",
        "    sentenceDetector,\n",
        "    tokenizer,\n",
        "    word_embeddings,\n",
        "    clinical_ner,\n",
        "    neroverwriter,\n",
        "    ner_converter,\n",
        "    obfuscation])"
      ],
      "execution_count": null,
      "outputs": []
    },
    {
      "cell_type": "code",
      "metadata": {
        "id": "ZohbvibZf891",
        "colab_type": "code",
        "colab": {}
      },
      "source": [
        "\n",
        "empty_data = spark.createDataFrame([[\"\"]]).toDF(\"text\")\n",
        "\n",
        "model = pipeline.fit(empty_data)"
      ],
      "execution_count": null,
      "outputs": []
    },
    {
      "cell_type": "code",
      "metadata": {
        "colab_type": "code",
        "id": "DhtnLajzgNNb",
        "colab": {}
      },
      "source": [
        "light_model = LightPipeline(model)"
      ],
      "execution_count": null,
      "outputs": []
    },
    {
      "cell_type": "code",
      "metadata": {
        "colab_type": "code",
        "id": "_sC_bn1Hhs9g",
        "colab": {}
      },
      "source": [
        "text ='''\n",
        "A . Record date : 2093-01-13 , David Hale , M.D . , Name : Hendrickson , Ora MR . # 7194334 Date : 01-13-1993 PCP : Oliveira , 25 month years-old , Record date : 2079-11-09 . Cocke County Baptist Hospital . 0295 Keats Street\n",
        "'''"
      ],
      "execution_count": null,
      "outputs": []
    },
    {
      "cell_type": "code",
      "metadata": {
        "colab_type": "code",
        "id": "jbblkrvjEHn9",
        "colab": {
          "base_uri": "https://localhost:8080/",
          "height": 119
        },
        "outputId": "e6a8428c-652b-4723-dfe0-834a259b6d91"
      },
      "source": [
        "annotated_text = light_model.annotate(text)\n",
        "annotated_text['deidentified']"
      ],
      "execution_count": null,
      "outputs": [
        {
          "output_type": "execute_result",
          "data": {
            "text/plain": [
              "['A .',\n",
              " 'Record date : 2093-03-05 , Luci , M.D .',\n",
              " ', Name : Oprah MR .',\n",
              " '# <ID> Date : 03-05-1993 PCP : Laurette , <AGE> month years-old , Record date : 2079-12-30 .',\n",
              " 'Cocke County Baptist Hospital .',\n",
              " '<ID> Keats Street']"
            ]
          },
          "metadata": {
            "tags": []
          },
          "execution_count": 40
        }
      ]
    },
    {
      "cell_type": "code",
      "metadata": {
        "id": "BqNvJOvQvy99",
        "colab_type": "code",
        "colab": {
          "base_uri": "https://localhost:8080/",
          "height": 799
        },
        "outputId": "ed77bc52-f894-425b-ad86-38c481c8dd8e"
      },
      "source": [
        "list(zip(annotated_text['token'], annotated_text['ner']))"
      ],
      "execution_count": null,
      "outputs": [
        {
          "output_type": "execute_result",
          "data": {
            "text/plain": [
              "[('A', 'O'),\n",
              " ('.', 'O'),\n",
              " ('Record', 'O'),\n",
              " ('date', 'O'),\n",
              " (':', 'O'),\n",
              " ('2093-01-13', 'B-DATE'),\n",
              " (',', 'O'),\n",
              " ('David', 'B-NAME'),\n",
              " ('Hale', 'I-NAME'),\n",
              " (',', 'O'),\n",
              " ('M.D', 'O'),\n",
              " ('.', 'O'),\n",
              " (',', 'O'),\n",
              " ('Name', 'O'),\n",
              " (':', 'O'),\n",
              " ('Hendrickson', 'B-NAME'),\n",
              " (',', 'I-NAME'),\n",
              " ('Ora', 'I-NAME'),\n",
              " ('MR', 'O'),\n",
              " ('.', 'O'),\n",
              " ('#', 'O'),\n",
              " ('7194334', 'B-ID'),\n",
              " ('Date', 'O'),\n",
              " (':', 'O'),\n",
              " ('01-13-1993', 'B-DATE'),\n",
              " ('PCP', 'O'),\n",
              " (':', 'O'),\n",
              " ('Oliveira', 'B-NAME'),\n",
              " (',', 'O'),\n",
              " ('25', 'B-AGE'),\n",
              " ('month', 'O'),\n",
              " ('years-old', 'O'),\n",
              " (',', 'O'),\n",
              " ('Record', 'O'),\n",
              " ('date', 'O'),\n",
              " (':', 'O'),\n",
              " ('2079-11-09', 'B-DATE'),\n",
              " ('.', 'O'),\n",
              " ('Cocke', 'B-LOCATION'),\n",
              " ('County', 'I-LOCATION'),\n",
              " ('Baptist', 'I-LOCATION'),\n",
              " ('Hospital', 'I-LOCATION'),\n",
              " ('.', 'O'),\n",
              " ('0295', 'B-LOCATION'),\n",
              " ('Keats', 'I-LOCATION'),\n",
              " ('Street', 'I-LOCATION')]"
            ]
          },
          "metadata": {
            "tags": []
          },
          "execution_count": 41
        }
      ]
    },
    {
      "cell_type": "code",
      "metadata": {
        "id": "zploSXHnw1B5",
        "colab_type": "code",
        "colab": {
          "base_uri": "https://localhost:8080/",
          "height": 153
        },
        "outputId": "a08b7fbb-b304-435b-a0dc-ead580be6969"
      },
      "source": [
        "annotated_text['ner_chunk']"
      ],
      "execution_count": null,
      "outputs": [
        {
          "output_type": "execute_result",
          "data": {
            "text/plain": [
              "['2093-01-13',\n",
              " 'David Hale',\n",
              " 'Hendrickson , Ora',\n",
              " '7194334',\n",
              " '01-13-1993',\n",
              " 'Oliveira',\n",
              " '25',\n",
              " '2079-11-09']"
            ]
          },
          "metadata": {
            "tags": []
          },
          "execution_count": 42
        }
      ]
    },
    {
      "cell_type": "code",
      "metadata": {
        "colab_type": "code",
        "id": "0emrh9kBfRKf",
        "colab": {
          "base_uri": "https://localhost:8080/",
          "height": 238
        },
        "outputId": "4489c201-2838-4cc0-f568-9d79f0fc6a9c"
      },
      "source": [
        "source_text = '''Record date : 2093-01-13, David Hale, M.D. is manager, \n",
        "Name: Hendrickson, Ora MR. # 7194334 Date: 01-13-1993 PCP: Oliveira.\n",
        "Record date: 2079-11-09. Cocke County Baptist Hospital. 0295 Keats Street.\n",
        "This 17-yr-old male, presented with chest heaviness that started during a pick-up basketball game. His past medical history was unremarkable. He denied prior cardiac symptoms and suffered no chest trauma during the game. His father had suffered an acute myocardial infarction at age 38. The patient was a nonsmoker, did not drink alcohol, and denied recreational drug use. He swallowed a tablet of aspirin before coming to the emergency room. His blood pressure was 160/90 mm Hg, and his heart rate was 80 bpm. Physical examination revealed no stigmata of Marfan syndrome. The rest of his physical examination was normal.'''\n",
        "\n",
        "annotated_text = light_model.annotate(source_text)\n",
        "annotated_text['deidentified']"
      ],
      "execution_count": null,
      "outputs": [
        {
          "output_type": "execute_result",
          "data": {
            "text/plain": [
              "['Record date : 2093-02-28, MALLORIE, M.D. is Civil Drafters, \\nName: MICHAELLA MR. # <ID> Date: (314)960-4209 PCP: Shell.',\n",
              " 'Record date: 2079-12-05.',\n",
              " 'Cocke County Baptist Hospital.',\n",
              " '<ID> Keats Street.',\n",
              " 'This <AGE> male, presented with chest heaviness that started during a pick-up basketball game.',\n",
              " 'His past medical history was unremarkable.',\n",
              " 'He denied prior cardiac symptoms and suffered no chest trauma during the game.',\n",
              " 'His father had suffered an acute myocardial infarction at age',\n",
              " '<AGE>. The patient was a nonsmoker, did not drink alcohol, and denied recreational drug use.',\n",
              " 'He swallowed a tablet of aspirin before coming to the emergency room.',\n",
              " 'His blood pressure was 160/90 mm Hg, and his heart rate was 80 bpm.',\n",
              " 'Physical examination revealed no stigmata of Marfan syndrome.',\n",
              " 'The rest of his physical examination was normal.']"
            ]
          },
          "metadata": {
            "tags": []
          },
          "execution_count": 43
        }
      ]
    },
    {
      "cell_type": "code",
      "metadata": {
        "id": "G9SS_FzSxdA3",
        "colab_type": "code",
        "colab": {
          "base_uri": "https://localhost:8080/",
          "height": 238
        },
        "outputId": "4de7dd9d-4db3-4699-cbcd-4ec22bf476c4"
      },
      "source": [
        "# if we hadn't set any whiteList in NerConverter\n",
        "\n",
        "ner_converter2 = NerConverterInternal()\\\n",
        "  .setInputCols([\"sentence\", \"token\", \"ner_overwrited\"])\\\n",
        "  .setOutputCol(\"ner_chunk\") \n",
        "  \n",
        "pipeline = Pipeline(stages=[\n",
        "    documentAssembler, \n",
        "    sentenceDetector,\n",
        "    tokenizer,\n",
        "    word_embeddings,\n",
        "    clinical_ner,\n",
        "    neroverwriter,\n",
        "    ner_converter2,\n",
        "    obfuscation])\n",
        "empty_data = spark.createDataFrame([[\"\"]]).toDF(\"text\")\n",
        "\n",
        "model = pipeline.fit(empty_data)\n",
        "light_model = LightPipeline(model)\n",
        "\n",
        "annotated_text = light_model.annotate(source_text)\n",
        "annotated_text['deidentified']"
      ],
      "execution_count": null,
      "outputs": [
        {
          "output_type": "execute_result",
          "data": {
            "text/plain": [
              "['Record date : 2093-02-24, Shawna, M.D. is Insurance Sales Agents, \\nName: RICE MR. # <ID> Date: (215)392-1340 PCP: RICHIE.',\n",
              " 'Record date: 2079-12-08.',\n",
              " \"Rocky Boy's Agency.\",\n",
              " 'Epping.',\n",
              " 'This <AGE> male, presented with chest heaviness that started during a pick-up basketball game.',\n",
              " 'His past medical history was unremarkable.',\n",
              " 'He denied prior cardiac symptoms and suffered no chest trauma during the game.',\n",
              " 'His father had suffered an acute myocardial infarction at age',\n",
              " '<AGE>. The patient was a nonsmoker, did not drink alcohol, and denied recreational drug use.',\n",
              " 'He swallowed a tablet of aspirin before coming to the emergency room.',\n",
              " 'His blood pressure was 160/90 mm Hg, and his heart rate was 80 bpm.',\n",
              " 'Physical examination revealed no stigmata of Marfan syndrome.',\n",
              " 'The rest of his physical examination was normal.']"
            ]
          },
          "metadata": {
            "tags": []
          },
          "execution_count": 44
        }
      ]
    },
    {
      "cell_type": "markdown",
      "metadata": {
        "id": "gvfk9aBgf8-C",
        "colab_type": "text"
      },
      "source": [
        "## Train custom Model\n"
      ]
    },
    {
      "cell_type": "code",
      "metadata": {
        "id": "zrCiTFwq2SkX",
        "colab_type": "code",
        "colab": {
          "base_uri": "https://localhost:8080/",
          "height": 119
        },
        "outputId": "dd22d150-2196-47ab-8d83-c9eb93956adf"
      },
      "source": [
        "glove_embeddings = WordEmbeddingsModel.pretrained('glove_100d')\\\n",
        "          .setInputCols([\"document\", \"token\"])\\\n",
        "          .setOutputCol(\"embeddings\")\n",
        "\n",
        "public_ner = NerDLModel.pretrained(\"ner_dl\", 'en') \\\n",
        "          .setInputCols([\"document\", \"token\", \"embeddings\"]) \\\n",
        "          .setOutputCol(\"ner\")\n",
        "\n",
        "ner_converter = NerConverterInternal()\\\n",
        "  .setInputCols([\"sentence\", \"token\", \"ner\"])\\\n",
        "  .setOutputCol(\"ner_chunk\")\n"
      ],
      "execution_count": null,
      "outputs": [
        {
          "output_type": "stream",
          "text": [
            "glove_100d download started this may take some time.\n",
            "Approximate size to download 145.3 MB\n",
            "[OK!]\n",
            "ner_dl download started this may take some time.\n",
            "Approximate size to download 13.6 MB\n",
            "[OK!]\n"
          ],
          "name": "stdout"
        }
      ]
    },
    {
      "cell_type": "code",
      "metadata": {
        "id": "EAn2UqKwf8-W",
        "colab_type": "code",
        "colab": {}
      },
      "source": [
        "\n",
        "nlpPipeline = Pipeline(stages=[\n",
        "    documentAssembler, \n",
        "    sentenceDetector,\n",
        "    tokenizer,\n",
        "    glove_embeddings,\n",
        "    public_ner,\n",
        "    ner_converter])\n",
        "\n",
        "empty_data = spark.createDataFrame([[\"\"]]).toDF(\"text\")\n",
        "\n",
        "custom_model = nlpPipeline.fit(result)"
      ],
      "execution_count": null,
      "outputs": []
    },
    {
      "cell_type": "code",
      "metadata": {
        "id": "hGifAYcjf8-Z",
        "colab_type": "code",
        "colab": {}
      },
      "source": [
        "source_text = '''Record date : 2093-01-13, David Hale, M.D. lives in New York'''"
      ],
      "execution_count": null,
      "outputs": []
    },
    {
      "cell_type": "code",
      "metadata": {
        "id": "Kw4TP_M1f8-c",
        "colab_type": "code",
        "colab": {}
      },
      "source": [
        "result = custom_model.transform(spark.createDataFrame([[source_text]]).toDF(\"text\"))"
      ],
      "execution_count": null,
      "outputs": []
    },
    {
      "cell_type": "code",
      "metadata": {
        "id": "UwvQWnyF07k8",
        "colab_type": "code",
        "colab": {}
      },
      "source": [
        ""
      ],
      "execution_count": null,
      "outputs": []
    },
    {
      "cell_type": "markdown",
      "metadata": {
        "id": "v4P_w-nDf8-e",
        "colab_type": "text"
      },
      "source": [
        "#### We got new entities in the model 'PER' and 'ORG'"
      ]
    },
    {
      "cell_type": "code",
      "metadata": {
        "id": "CJk7dAbYf8-f",
        "colab_type": "code",
        "colab": {
          "base_uri": "https://localhost:8080/",
          "height": 153
        },
        "outputId": "8ce44163-40ba-413b-ccea-d72781ef9d86"
      },
      "source": [
        "result.select(F.explode(F.arrays_zip('ner_chunk.result', 'ner_chunk.metadata')).alias(\"cols\")) \\\n",
        ".select(F.expr(\"cols['0']\").alias(\"chunk\"),\n",
        "        F.expr(\"cols['1']['entity']\").alias(\"ner_label\")).show(truncate=False)"
      ],
      "execution_count": null,
      "outputs": [
        {
          "output_type": "stream",
          "text": [
            "+----------+---------+\n",
            "|chunk     |ner_label|\n",
            "+----------+---------+\n",
            "|David Hale|PER      |\n",
            "|M.D       |ORG      |\n",
            "|New York  |LOC      |\n",
            "+----------+---------+\n",
            "\n"
          ],
          "name": "stdout"
        }
      ]
    },
    {
      "cell_type": "markdown",
      "metadata": {
        "id": "Sx5Uitz1vedz",
        "colab_type": "text"
      },
      "source": [
        "### Mask custom entities"
      ]
    },
    {
      "cell_type": "code",
      "metadata": {
        "id": "x1nLENcavdCE",
        "colab_type": "code",
        "colab": {}
      },
      "source": [
        "deidentification = DeIdentification() \\\n",
        "      .setInputCols([\"sentence\", \"token\", \"ner_chunk\"]) \\\n",
        "      .setOutputCol(\"deidentified\") \\\n",
        "      .setMode(\"mask\")"
      ],
      "execution_count": null,
      "outputs": []
    },
    {
      "cell_type": "code",
      "metadata": {
        "id": "eL4vIm9TvdWY",
        "colab_type": "code",
        "colab": {}
      },
      "source": [
        "deid_model = deidentification.fit(result)\n",
        "deid_text = deid_model.transform(result)"
      ],
      "execution_count": null,
      "outputs": []
    },
    {
      "cell_type": "code",
      "metadata": {
        "id": "LeIoxeRWvdSZ",
        "colab_type": "code",
        "colab": {
          "base_uri": "https://localhost:8080/",
          "height": 80
        },
        "outputId": "0de37e8c-bf8e-48e4-9f5c-de5b37e44f50"
      },
      "source": [
        "deid_text.select(F.explode(F.arrays_zip('sentence.result', 'deidentified.result')).alias(\"cols\")) \\\n",
        ".select(F.expr(\"cols['0']\").alias(\"sentence\"), F.expr(\"cols['1']\").alias(\"deidentified\")).toPandas()"
      ],
      "execution_count": null,
      "outputs": [
        {
          "output_type": "execute_result",
          "data": {
            "text/html": [
              "<div>\n",
              "<style scoped>\n",
              "    .dataframe tbody tr th:only-of-type {\n",
              "        vertical-align: middle;\n",
              "    }\n",
              "\n",
              "    .dataframe tbody tr th {\n",
              "        vertical-align: top;\n",
              "    }\n",
              "\n",
              "    .dataframe thead th {\n",
              "        text-align: right;\n",
              "    }\n",
              "</style>\n",
              "<table border=\"1\" class=\"dataframe\">\n",
              "  <thead>\n",
              "    <tr style=\"text-align: right;\">\n",
              "      <th></th>\n",
              "      <th>sentence</th>\n",
              "      <th>deidentified</th>\n",
              "    </tr>\n",
              "  </thead>\n",
              "  <tbody>\n",
              "    <tr>\n",
              "      <th>0</th>\n",
              "      <td>Record date : 2093-01-13, David Hale, M.D. lives in New York</td>\n",
              "      <td>Record date : 2093-01-13, &lt;PER&gt;, &lt;ORG&gt;. lives in &lt;LOC&gt;</td>\n",
              "    </tr>\n",
              "  </tbody>\n",
              "</table>\n",
              "</div>"
            ],
            "text/plain": [
              "                                                       sentence                                            deidentified\n",
              "0  Record date : 2093-01-13, David Hale, M.D. lives in New York  Record date : 2093-01-13, <PER>, <ORG>. lives in <LOC>"
            ]
          },
          "metadata": {
            "tags": []
          },
          "execution_count": 52
        }
      ]
    },
    {
      "cell_type": "code",
      "metadata": {
        "id": "QpLr7HKI1EQq",
        "colab_type": "code",
        "colab": {}
      },
      "source": [
        "deid_model.write().overwrite().save('custom_deid_masker_model')"
      ],
      "execution_count": null,
      "outputs": []
    },
    {
      "cell_type": "markdown",
      "metadata": {
        "id": "hOHhaQKbf8-h",
        "colab_type": "text"
      },
      "source": [
        " To be able to obfuscate new entities we have to create custom Deidentification Model with new dictionary"
      ]
    },
    {
      "cell_type": "code",
      "metadata": {
        "id": "Nze0cSh7fR9W",
        "colab_type": "code",
        "colab": {}
      },
      "source": [
        "obfuscation_list = ['Marvin MARSHALL#PER',\n",
        "      'Hubert GROGAN#PER',\n",
        "      'ALTHEA COLBURN#PER',\n",
        "      'Kalil AMIN#PER',\n",
        "      'Inci FOUNTAIN#PER',\n",
        "      'Surrey#ORG',\n",
        "      'Warwickshire#ORG',\n",
        "      'Derbyshire#ORG',\n",
        "      'Leicestershire#ORG',\n",
        "      'Glamorgan#ORG',\n",
        "      'Durham#ORG']\n",
        "\n",
        "with open('obfuscation.txt', 'a') as the_file:\n",
        "    for line in obfuscation_list:\n",
        "      the_file.write(line + '\\n')"
      ],
      "execution_count": null,
      "outputs": []
    },
    {
      "cell_type": "code",
      "metadata": {
        "id": "mlPBf_lwfSNX",
        "colab_type": "code",
        "colab": {}
      },
      "source": [
        "regex_list = [\"AGE \\d{1,2}(?:-|\\s|\\S)(?:year|yr)(?:-|\\s)old\",\"AGE \\d{1,2}(?:\\s|\\S)(?:s|'s)\",\"AGE \\d{1,2}\\s(?:months|weeks|mos)\",\"AGE \\d{1,2}y\\d{1,2}(?:\\.|)\\d{0,2}m\"]\n",
        "with open('regex_dict.txt', 'a') as the_file:\n",
        "    for line in regex_list:\n",
        "      the_file.write(line + '\\n')"
      ],
      "execution_count": null,
      "outputs": []
    },
    {
      "cell_type": "code",
      "metadata": {
        "id": "enpmmCfbf8-j",
        "colab_type": "code",
        "colab": {}
      },
      "source": [
        "obfuscator = DeIdentification() \\\n",
        "    .setInputCols([\"sentence\", \"token\", \"ner_chunk\"]) \\\n",
        "    .setOutputCol(\"deidentified\") \\\n",
        "    .setMode('obfuscate') \\\n",
        "    .setRefSep('#') \\\n",
        "    .setRegexPatternsDictionary('regex_dict.txt', 'TEXT')\\\n",
        "    .setObfuscateRefFile('obfuscation.txt') \\\n"
      ],
      "execution_count": null,
      "outputs": []
    },
    {
      "cell_type": "code",
      "metadata": {
        "id": "Gia6ufwhf8-l",
        "colab_type": "code",
        "colab": {}
      },
      "source": [
        "obfuscator_model = obfuscator.fit(result)"
      ],
      "execution_count": null,
      "outputs": []
    },
    {
      "cell_type": "code",
      "metadata": {
        "id": "TTAkmJWuktxI",
        "colab_type": "code",
        "colab": {}
      },
      "source": [
        "obfuscator_model.write().overwrite().save('custom_obfuscator_model')"
      ],
      "execution_count": null,
      "outputs": []
    },
    {
      "cell_type": "code",
      "metadata": {
        "id": "YfMT8lIZf8-n",
        "colab_type": "code",
        "colab": {}
      },
      "source": [
        "obfusc_text = obfuscator_model.transform(result)"
      ],
      "execution_count": null,
      "outputs": []
    },
    {
      "cell_type": "code",
      "metadata": {
        "id": "p4ONlR9309Rk",
        "colab_type": "code",
        "colab": {
          "base_uri": "https://localhost:8080/",
          "height": 80
        },
        "outputId": "12cadbeb-f9a5-4579-da22-9b9035a04980"
      },
      "source": [
        "obfusc_text.select(F.explode(F.arrays_zip('sentence.result', 'deidentified.result')).alias(\"cols\")) \\\n",
        ".select(F.expr(\"cols['0']\").alias(\"sentence\"), F.expr(\"cols['1']\").alias(\"deidentified\")).toPandas()"
      ],
      "execution_count": null,
      "outputs": [
        {
          "output_type": "execute_result",
          "data": {
            "text/html": [
              "<div>\n",
              "<style scoped>\n",
              "    .dataframe tbody tr th:only-of-type {\n",
              "        vertical-align: middle;\n",
              "    }\n",
              "\n",
              "    .dataframe tbody tr th {\n",
              "        vertical-align: top;\n",
              "    }\n",
              "\n",
              "    .dataframe thead th {\n",
              "        text-align: right;\n",
              "    }\n",
              "</style>\n",
              "<table border=\"1\" class=\"dataframe\">\n",
              "  <thead>\n",
              "    <tr style=\"text-align: right;\">\n",
              "      <th></th>\n",
              "      <th>sentence</th>\n",
              "      <th>deidentified</th>\n",
              "    </tr>\n",
              "  </thead>\n",
              "  <tbody>\n",
              "    <tr>\n",
              "      <th>0</th>\n",
              "      <td>Record date : 2093-01-13, David Hale, M.D. lives in New York</td>\n",
              "      <td>Record date : 2093-01-13, Inci FOUNTAIN, Durham. lives in &lt;LOC&gt;</td>\n",
              "    </tr>\n",
              "  </tbody>\n",
              "</table>\n",
              "</div>"
            ],
            "text/plain": [
              "                                                       sentence                                                     deidentified\n",
              "0  Record date : 2093-01-13, David Hale, M.D. lives in New York  Record date : 2093-01-13, Inci FOUNTAIN, Durham. lives in <LOC>"
            ]
          },
          "metadata": {
            "tags": []
          },
          "execution_count": 59
        }
      ]
    }
  ]
}