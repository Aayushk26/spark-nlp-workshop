{
 "cells": [
  {
   "cell_type": "markdown",
   "metadata": {
    "colab_type": "text",
    "id": "sXatvRX899i0"
   },
   "source": [
    "![JohnSnowLabs](https://nlp.johnsnowlabs.com/assets/images/logo.png)"
   ]
  },
  {
   "cell_type": "markdown",
   "metadata": {
    "colab_type": "text",
    "id": "jOkfgBXDwxhz"
   },
   "source": [
    "[![Open In Colab](https://colab.research.google.com/assets/colab-badge.svg)](https://colab.research.google.com/github/JohnSnowLabs/spark-nlp-workshop/blob/master/tutorials/Certification_Trainings/Public/4.NERDL_Training.ipynb)"
   ]
  },
  {
   "cell_type": "markdown",
   "metadata": {
    "colab_type": "text",
    "id": "HCIg1pQpelJS"
   },
   "source": [
    "# 4. Named Entity Recognition (NER) DL Training"
   ]
  },
  {
   "cell_type": "markdown",
   "metadata": {
    "colab_type": "text",
    "id": "HDH5i1coCgGJ"
   },
   "source": [
    "## 0. Colab Setup"
   ]
  },
  {
   "cell_type": "code",
   "execution_count": null,
   "metadata": {
    "colab": {
     "base_uri": "https://localhost:8080/",
     "height": 141
    },
    "colab_type": "code",
    "id": "-iCWzZ2NCZ0f",
    "outputId": "cb031edd-71c3-4563-f968-d3fe2c6bf4cf"
   },
   "outputs": [
    {
     "name": "stdout",
     "output_type": "stream",
     "text": [
      "openjdk version \"1.8.0_242\"\n",
      "OpenJDK Runtime Environment (build 1.8.0_242-8u242-b08-0ubuntu3~18.04-b08)\n",
      "OpenJDK 64-Bit Server VM (build 25.242-b08, mixed mode)\n",
      "\u001b[K     |████████████████████████████████| 215.7MB 62kB/s \n",
      "\u001b[K     |████████████████████████████████| 204kB 47.7MB/s \n",
      "\u001b[?25h  Building wheel for pyspark (setup.py) ... \u001b[?25l\u001b[?25hdone\n",
      "\u001b[K     |████████████████████████████████| 112kB 1.4MB/s \n",
      "\u001b[?25h"
     ]
    }
   ],
   "source": [
    "import os\n",
    "\n",
    "# Install java\n",
    "! apt-get install -y openjdk-8-jdk-headless -qq > /dev/null\n",
    "os.environ[\"JAVA_HOME\"] = \"/usr/lib/jvm/java-8-openjdk-amd64\"\n",
    "os.environ[\"PATH\"] = os.environ[\"JAVA_HOME\"] + \"/bin:\" + os.environ[\"PATH\"]\n",
    "! java -version\n",
    "\n",
    "# Install pyspark\n",
    "! pip install --ignore-installed -q pyspark==2.4.4\n",
    "\n",
    "# Install Spark NLP\n",
    "! pip install --ignore-installed -q spark-nlp==2.4.5"
   ]
  },
  {
   "cell_type": "code",
   "execution_count": null,
   "metadata": {
    "colab": {
     "base_uri": "https://localhost:8080/",
     "height": 252
    },
    "colab_type": "code",
    "id": "8DFCYTaDC1qZ",
    "outputId": "8f4a78c2-6008-457c-ff78-aa2a14739260"
   },
   "outputs": [
    {
     "name": "stdout",
     "output_type": "stream",
     "text": [
      "Spark NLP version 2.4.5\n",
      "Apache Spark version: 2.4.4\n"
     ]
    },
    {
     "data": {
      "text/html": [
       "\n",
       "            <div>\n",
       "                <p><b>SparkSession - in-memory</b></p>\n",
       "                \n",
       "        <div>\n",
       "            <p><b>SparkContext</b></p>\n",
       "\n",
       "            <p><a href=\"http://f6d01534c06d:4040\">Spark UI</a></p>\n",
       "\n",
       "            <dl>\n",
       "              <dt>Version</dt>\n",
       "                <dd><code>v2.4.4</code></dd>\n",
       "              <dt>Master</dt>\n",
       "                <dd><code>local[*]</code></dd>\n",
       "              <dt>AppName</dt>\n",
       "                <dd><code>Spark NLP</code></dd>\n",
       "            </dl>\n",
       "        </div>\n",
       "        \n",
       "            </div>\n",
       "        "
      ],
      "text/plain": [
       "<pyspark.sql.session.SparkSession at 0x7f55aaecdf98>"
      ]
     },
     "execution_count": 2,
     "metadata": {
      "tags": []
     },
     "output_type": "execute_result"
    }
   ],
   "source": [
    "import sparknlp\n",
    "\n",
    "spark = sparknlp.start() # for GPU training >> sparknlp.start(gpu=True)\n",
    "\n",
    "from sparknlp.base import *\n",
    "from sparknlp.annotator import *\n",
    "\n",
    "print(\"Spark NLP version\", sparknlp.version())\n",
    "\n",
    "print(\"Apache Spark version:\", spark.version)\n",
    "\n",
    "spark"
   ]
  },
  {
   "cell_type": "markdown",
   "metadata": {
    "colab_type": "text",
    "id": "YG1zLzzLEbyI"
   },
   "source": [
    "## CoNLL Data Prep "
   ]
  },
  {
   "cell_type": "code",
   "execution_count": null,
   "metadata": {
    "colab": {},
    "colab_type": "code",
    "id": "MSg4fdlHD6x6"
   },
   "outputs": [],
   "source": [
    "!wget https://raw.githubusercontent.com/JohnSnowLabs/spark-nlp/master/src/test/resources/conll2003/eng.train\n",
    "!wget https://raw.githubusercontent.com/JohnSnowLabs/spark-nlp/master/src/test/resources/conll2003/eng.testa"
   ]
  },
  {
   "cell_type": "code",
   "execution_count": null,
   "metadata": {
    "colab": {
     "base_uri": "https://localhost:8080/",
     "height": 567
    },
    "colab_type": "code",
    "id": "C1Mn-tuqEofp",
    "outputId": "a7e7de06-d173-4a1e-cac0-26386b28fba4"
   },
   "outputs": [
    {
     "name": "stdout",
     "output_type": "stream",
     "text": [
      "-DOCSTART- -X- -X- O\n",
      "\n",
      "EU NNP B-NP B-ORG\n",
      "rejects VBZ B-VP O\n",
      "German JJ B-NP B-MISC\n",
      "call NN I-NP O\n",
      "to TO B-VP O\n",
      "boycott VB I-VP O\n",
      "British JJ B-NP B-MISC\n",
      "lamb NN I-NP O\n",
      ". . O O\n",
      "\n",
      "Peter NNP B-NP B-PER\n",
      "Blackburn NNP I-NP I-PER\n",
      "\n",
      "BRUSSELS NNP B-NP B-LOC\n",
      "1996-08-22 CD I-NP O\n",
      "\n",
      "The DT B-NP O\n",
      "European NNP I-NP B-ORG\n",
      "Commission NNP I-NP I-ORG\n",
      "said VBD B-VP O\n",
      "on IN B-PP O\n",
      "Thursday NNP B-NP O\n",
      "it PRP B-NP O\n",
      "disagreed VBD B-VP O\n",
      "with IN B-PP O\n",
      "German JJ B-NP B-MISC\n",
      "advice NN I-NP O\n",
      "to TO B-PP O\n",
      "consumers NNS B-NP\n"
     ]
    }
   ],
   "source": [
    "with open(\"eng.train\") as f:\n",
    "    train_txt =f.read()\n",
    "\n",
    "print (train_txt[:500])"
   ]
  },
  {
   "cell_type": "code",
   "execution_count": null,
   "metadata": {
    "colab": {
     "base_uri": "https://localhost:8080/",
     "height": 176
    },
    "colab_type": "code",
    "id": "wG9RpnKCFffi",
    "outputId": "19837c4f-8e4d-4fcf-ef70-b77bb97e10e5"
   },
   "outputs": [
    {
     "name": "stdout",
     "output_type": "stream",
     "text": [
      "+--------------------+--------------------+--------------------+--------------------+--------------------+--------------------+\n",
      "|                text|            document|            sentence|               token|                 pos|               label|\n",
      "+--------------------+--------------------+--------------------+--------------------+--------------------+--------------------+\n",
      "|EU rejects German...|[[document, 0, 47...|[[document, 0, 47...|[[token, 0, 1, EU...|[[pos, 0, 1, NNP,...|[[named_entity, 0...|\n",
      "|     Peter Blackburn|[[document, 0, 14...|[[document, 0, 14...|[[token, 0, 4, Pe...|[[pos, 0, 4, NNP,...|[[named_entity, 0...|\n",
      "| BRUSSELS 1996-08-22|[[document, 0, 18...|[[document, 0, 18...|[[token, 0, 7, BR...|[[pos, 0, 7, NNP,...|[[named_entity, 0...|\n",
      "+--------------------+--------------------+--------------------+--------------------+--------------------+--------------------+\n",
      "only showing top 3 rows\n",
      "\n"
     ]
    }
   ],
   "source": [
    "from sparknlp.training import CoNLL\n",
    "\n",
    "training_data = CoNLL().readDataset(spark, './eng.train')\n",
    "\n",
    "training_data.show(3)"
   ]
  },
  {
   "cell_type": "code",
   "execution_count": null,
   "metadata": {
    "colab": {
     "base_uri": "https://localhost:8080/",
     "height": 1000
    },
    "colab_type": "code",
    "id": "oUucp2eIGmh1",
    "outputId": "895c4eb3-7092-4b23-d4c5-a6ae935a7a81"
   },
   "outputs": [
    {
     "name": "stdout",
     "output_type": "stream",
     "text": [
      "root\n",
      " |-- text: string (nullable = true)\n",
      " |-- document: array (nullable = false)\n",
      " |    |-- element: struct (containsNull = true)\n",
      " |    |    |-- annotatorType: string (nullable = true)\n",
      " |    |    |-- begin: integer (nullable = false)\n",
      " |    |    |-- end: integer (nullable = false)\n",
      " |    |    |-- result: string (nullable = true)\n",
      " |    |    |-- metadata: map (nullable = true)\n",
      " |    |    |    |-- key: string\n",
      " |    |    |    |-- value: string (valueContainsNull = true)\n",
      " |    |    |-- embeddings: array (nullable = true)\n",
      " |    |    |    |-- element: float (containsNull = false)\n",
      " |-- sentence: array (nullable = false)\n",
      " |    |-- element: struct (containsNull = true)\n",
      " |    |    |-- annotatorType: string (nullable = true)\n",
      " |    |    |-- begin: integer (nullable = false)\n",
      " |    |    |-- end: integer (nullable = false)\n",
      " |    |    |-- result: string (nullable = true)\n",
      " |    |    |-- metadata: map (nullable = true)\n",
      " |    |    |    |-- key: string\n",
      " |    |    |    |-- value: string (valueContainsNull = true)\n",
      " |    |    |-- embeddings: array (nullable = true)\n",
      " |    |    |    |-- element: float (containsNull = false)\n",
      " |-- token: array (nullable = false)\n",
      " |    |-- element: struct (containsNull = true)\n",
      " |    |    |-- annotatorType: string (nullable = true)\n",
      " |    |    |-- begin: integer (nullable = false)\n",
      " |    |    |-- end: integer (nullable = false)\n",
      " |    |    |-- result: string (nullable = true)\n",
      " |    |    |-- metadata: map (nullable = true)\n",
      " |    |    |    |-- key: string\n",
      " |    |    |    |-- value: string (valueContainsNull = true)\n",
      " |    |    |-- embeddings: array (nullable = true)\n",
      " |    |    |    |-- element: float (containsNull = false)\n",
      " |-- pos: array (nullable = false)\n",
      " |    |-- element: struct (containsNull = true)\n",
      " |    |    |-- annotatorType: string (nullable = true)\n",
      " |    |    |-- begin: integer (nullable = false)\n",
      " |    |    |-- end: integer (nullable = false)\n",
      " |    |    |-- result: string (nullable = true)\n",
      " |    |    |-- metadata: map (nullable = true)\n",
      " |    |    |    |-- key: string\n",
      " |    |    |    |-- value: string (valueContainsNull = true)\n",
      " |    |    |-- embeddings: array (nullable = true)\n",
      " |    |    |    |-- element: float (containsNull = false)\n",
      " |-- label: array (nullable = false)\n",
      " |    |-- element: struct (containsNull = true)\n",
      " |    |    |-- annotatorType: string (nullable = true)\n",
      " |    |    |-- begin: integer (nullable = false)\n",
      " |    |    |-- end: integer (nullable = false)\n",
      " |    |    |-- result: string (nullable = true)\n",
      " |    |    |-- metadata: map (nullable = true)\n",
      " |    |    |    |-- key: string\n",
      " |    |    |    |-- value: string (valueContainsNull = true)\n",
      " |    |    |-- embeddings: array (nullable = true)\n",
      " |    |    |    |-- element: float (containsNull = false)\n",
      "\n"
     ]
    }
   ],
   "source": [
    "training_data.printSchema()"
   ]
  },
  {
   "cell_type": "code",
   "execution_count": null,
   "metadata": {
    "colab": {
     "base_uri": "https://localhost:8080/",
     "height": 34
    },
    "colab_type": "code",
    "id": "ho2JANGXFtbi",
    "outputId": "6a793e4a-9995-4837-be20-8fa23f94f36f"
   },
   "outputs": [
    {
     "data": {
      "text/plain": [
       "14041"
      ]
     },
     "execution_count": 10,
     "metadata": {
      "tags": []
     },
     "output_type": "execute_result"
    }
   ],
   "source": [
    "training_data.count()"
   ]
  },
  {
   "cell_type": "code",
   "execution_count": null,
   "metadata": {
    "colab": {
     "base_uri": "https://localhost:8080/",
     "height": 478
    },
    "colab_type": "code",
    "id": "94A1JedtFpDp",
    "outputId": "e8874c4a-245f-4284-9394-a129ed01229e"
   },
   "outputs": [
    {
     "name": "stdout",
     "output_type": "stream",
     "text": [
      "+----------+---+---------+\n",
      "|     token|pos|ner_label|\n",
      "+----------+---+---------+\n",
      "|        EU|NNP|    B-ORG|\n",
      "|   rejects|VBZ|        O|\n",
      "|    German| JJ|   B-MISC|\n",
      "|      call| NN|        O|\n",
      "|        to| TO|        O|\n",
      "|   boycott| VB|        O|\n",
      "|   British| JJ|   B-MISC|\n",
      "|      lamb| NN|        O|\n",
      "|         .|  .|        O|\n",
      "|     Peter|NNP|    B-PER|\n",
      "| Blackburn|NNP|    I-PER|\n",
      "|  BRUSSELS|NNP|    B-LOC|\n",
      "|1996-08-22| CD|        O|\n",
      "|       The| DT|        O|\n",
      "|  European|NNP|    B-ORG|\n",
      "|Commission|NNP|    I-ORG|\n",
      "|      said|VBD|        O|\n",
      "|        on| IN|        O|\n",
      "|  Thursday|NNP|        O|\n",
      "|        it|PRP|        O|\n",
      "+----------+---+---------+\n",
      "only showing top 20 rows\n",
      "\n"
     ]
    }
   ],
   "source": [
    "import pyspark.sql.functions as F\n",
    "\n",
    "training_data.select(F.explode(F.arrays_zip('token.result', 'pos.result',  'label.result')).alias(\"cols\")) \\\n",
    ".select(F.expr(\"cols['0']\").alias(\"token\"),\n",
    "        F.expr(\"cols['1']\").alias(\"pos\"),\n",
    "        F.expr(\"cols['2']\").alias(\"ner_label\")).show(truncate=50)"
   ]
  },
  {
   "cell_type": "code",
   "execution_count": null,
   "metadata": {
    "colab": {
     "base_uri": "https://localhost:8080/",
     "height": 265
    },
    "colab_type": "code",
    "id": "puWWnmUbGFVh",
    "outputId": "5549ab88-e926-4b79-aa15-fae9ac014686"
   },
   "outputs": [
    {
     "name": "stdout",
     "output_type": "stream",
     "text": [
      "+------------+------+\n",
      "|ground_truth|count |\n",
      "+------------+------+\n",
      "|O           |169578|\n",
      "|B-LOC       |7140  |\n",
      "|B-PER       |6600  |\n",
      "|B-ORG       |6321  |\n",
      "|I-PER       |4528  |\n",
      "|I-ORG       |3704  |\n",
      "|B-MISC      |3438  |\n",
      "|I-LOC       |1157  |\n",
      "|I-MISC      |1155  |\n",
      "+------------+------+\n",
      "\n"
     ]
    }
   ],
   "source": [
    "\n",
    "training_data.select(F.explode(F.arrays_zip('token.result','label.result')).alias(\"cols\")) \\\n",
    ".select(F.expr(\"cols['0']\").alias(\"token\"),\n",
    "        F.expr(\"cols['1']\").alias(\"ground_truth\")).groupBy('ground_truth').count().orderBy('count', ascending=False).show(100,truncate=False)"
   ]
  },
  {
   "cell_type": "code",
   "execution_count": null,
   "metadata": {
    "colab": {
     "base_uri": "https://localhost:8080/",
     "height": 70
    },
    "colab_type": "code",
    "id": "fw2p7DOwGZto",
    "outputId": "6d667920-e8d8-41ed-fc61-f1df18783190"
   },
   "outputs": [
    {
     "name": "stdout",
     "output_type": "stream",
     "text": [
      "glove_100d download started this may take some time.\n",
      "Approximate size to download 145.3 MB\n",
      "[OK!]\n"
     ]
    }
   ],
   "source": [
    "# You can use any word embeddings you want (Glove, Elmo, Bert, custom etc.)\n",
    "\n",
    "glove_embeddings = WordEmbeddingsModel.pretrained('glove_100d')\\\n",
    "          .setInputCols([\"document\", \"token\"])\\\n",
    "          .setOutputCol(\"embeddings\")\n",
    "    "
   ]
  },
  {
   "cell_type": "code",
   "execution_count": null,
   "metadata": {
    "colab": {},
    "colab_type": "code",
    "id": "8NFG_NK6G67o"
   },
   "outputs": [],
   "source": [
    "nerTagger = NerDLApproach()\\\n",
    "  .setInputCols([\"sentence\", \"token\", \"embeddings\"])\\\n",
    "  .setLabelColumn(\"label\")\\\n",
    "  .setOutputCol(\"ner\")\\\n",
    "  .setMaxEpochs(1)\\\n",
    "  .setLr(0.001)\\\n",
    "  .setPo(0.005)\\\n",
    "  .setBatchSize(512)\\\n",
    "  .setRandomSeed(0)\\\n",
    "  .setVerbose(1)\\\n",
    "  .setValidationSplit(0.2)\\\n",
    "  .setEvaluationLogExtended(True) \\\n",
    "  .setEnableOutputLogs(True)\\\n",
    "  .setIncludeConfidence(True)\\\n",
    "  #.setOutputLogsPath('./')\n",
    "\n",
    "ner_pipeline = Pipeline(stages=[\n",
    "          glove_embeddings,\n",
    "          nerTagger\n",
    " ])\n"
   ]
  },
  {
   "cell_type": "markdown",
   "metadata": {
    "colab_type": "text",
    "id": "1fggBlAjQoTl"
   },
   "source": [
    "### Fitting"
   ]
  },
  {
   "cell_type": "code",
   "execution_count": null,
   "metadata": {
    "colab": {
     "base_uri": "https://localhost:8080/",
     "height": 52
    },
    "colab_type": "code",
    "id": "-cmPOQx6Gti6",
    "outputId": "7fcd8393-8ab8-47de-e39a-95a4ea5f1e82"
   },
   "outputs": [
    {
     "name": "stdout",
     "output_type": "stream",
     "text": [
      "CPU times: user 92.7 ms, sys: 17 ms, total: 110 ms\n",
      "Wall time: 6min 36s\n"
     ]
    }
   ],
   "source": [
    "%%time\n",
    "\n",
    "ner_model = ner_pipeline.fit(training_data)\n",
    "\n",
    "# if you get an error for incompatible TF graph, use 4.1 NerDL-Graph.ipynb notebook to create a graph"
   ]
  },
  {
   "cell_type": "markdown",
   "metadata": {
    "colab_type": "text",
    "id": "BVWLrPZOu08F"
   },
   "source": []
  },
  {
   "cell_type": "code",
   "execution_count": null,
   "metadata": {
    "colab": {
     "base_uri": "https://localhost:8080/",
     "height": 70
    },
    "colab_type": "code",
    "id": "zFXJ760TMK9t",
    "outputId": "a102ad79-a1fb-4d63-d6a9-2047d7de35c4"
   },
   "outputs": [
    {
     "name": "stdout",
     "output_type": "stream",
     "text": [
      "total 12\n",
      "-rw-r--r-- 1 root root 7094 Apr  7 15:10 NerDLApproach_98a04136a752.log\n",
      "-rw-r--r-- 1 root root 1921 Apr  7 15:09 NerDLApproach_f42de5180ac0.log\n"
     ]
    }
   ],
   "source": [
    "! cd ~/annotator_logs && ls -lt"
   ]
  },
  {
   "cell_type": "code",
   "execution_count": null,
   "metadata": {
    "colab": {
     "base_uri": "https://localhost:8080/",
     "height": 727
    },
    "colab_type": "code",
    "id": "R75b-x0NMY7y",
    "outputId": "a083785c-d057-46b4-86a7-f05640d2c67e"
   },
   "outputs": [
    {
     "name": "stdout",
     "output_type": "stream",
     "text": [
      "Name of the selected graph: ner-dl/blstm_10_100_128_120.pb\n",
      "Training started, trainExamples: 11233, labels: 9 chars: 84, \n",
      "\n",
      "\n",
      "Epoch: 0 started, learning rate: 0.003, dataset size: 11233\n",
      "Done, 298.407055324 loss: 778.2344, batches: 178\n",
      "Quality on validation dataset (20.0%), valExamples = 2808\n",
      "time to finish evaluation: 45.761372354\n",
      "label\t tp\t fp\t fn\t prec\t rec\t f1\n",
      "B-LOC\t 1318\t 218\t 112\t 0.85807294\t 0.9216783\t 0.888739\n",
      "I-ORG\t 453\t 27\t 331\t 0.94375\t 0.5778061\t 0.71677214\n",
      "I-MISC\t 165\t 124\t 60\t 0.57093424\t 0.73333335\t 0.6420233\n",
      "I-LOC\t 216\t 156\t 31\t 0.58064514\t 0.87449396\t 0.6978998\n",
      "I-PER\t 856\t 33\t 30\t 0.96287966\t 0.96614\t 0.96450704\n",
      "B-MISC\t 569\t 166\t 101\t 0.77414966\t 0.8492537\t 0.8099645\n",
      "B-ORG\t 937\t 83\t 343\t 0.91862744\t 0.7320312\t 0.8147826\n",
      "B-PER\t 1212\t 90\t 96\t 0.9308756\t 0.9266055\t 0.9287357\n",
      "tp: 5726 fp: 897 fn: 1104 labels: 8\n",
      "Macro-average\t prec: 0.8174918, rec: 0.8226678, f1: 0.8200717\n",
      "Micro-average\t prec: 0.86456287, rec: 0.8383602, f1: 0.8512599\n",
      "Name of the selected graph: ner-dl/blstm_10_100_128_120.pb\n",
      "Training started, trainExamples: 11233, labels: 9 chars: 84, \n",
      "\n",
      "\n",
      "Epoch: 0 started, learning rate: 0.003, dataset size: 11233\n",
      "Done, 293.776903927 loss: 726.36505, batches: 178\n",
      "Quality on validation dataset (20.0%), valExamples = 2808\n",
      "time to finish evaluation: 53.491099859\n",
      "label\t tp\t fp\t fn\t prec\t rec\t f1\n",
      "B-LOC\t 1315\t 199\t 115\t 0.86856014\t 0.9195804\t 0.8933424\n",
      "I-ORG\t 514\t 55\t 270\t 0.9033392\t 0.65561223\t 0.75979304\n",
      "I-MISC\t 161\t 98\t 64\t 0.6216216\t 0.71555555\t 0.6652892\n",
      "I-LOC\t 216\t 172\t 31\t 0.556701\t 0.87449396\t 0.6803149\n",
      "I-PER\t 843\t 22\t 43\t 0.97456646\t 0.9514673\t 0.96287835\n",
      "B-MISC\t 563\t 150\t 107\t 0.7896213\t 0.84029853\t 0.8141721\n",
      "B-ORG\t 975\t 91\t 305\t 0.91463417\t 0.76171875\t 0.83120203\n",
      "B-PER\t 1229\t 90\t 79\t 0.9317665\t 0.93960243\t 0.9356681\n",
      "tp: 5816 fp: 877 fn: 1014 labels: 8\n",
      "Macro-average\t prec: 0.82010126, rec: 0.8322912, f1: 0.8261513\n",
      "Micro-average\t prec: 0.8689676, rec: 0.85153735, f1: 0.8601641\n"
     ]
    }
   ],
   "source": [
    "!cat ~/annotator_logs/NerDLApproach_f42de5180ac0.log"
   ]
  },
  {
   "cell_type": "code",
   "execution_count": null,
   "metadata": {
    "colab": {
     "base_uri": "https://localhost:8080/",
     "height": 196
    },
    "colab_type": "code",
    "id": "eTA6w7csHSAo",
    "outputId": "59ef2e8d-99c7-445b-c43b-9eb940ac6192"
   },
   "outputs": [
    {
     "name": "stdout",
     "output_type": "stream",
     "text": [
      "+--------------------+--------------------+--------------------+--------------------+--------------------+--------------------+--------------------+\n",
      "|                text|            document|            sentence|               token|                 pos|               label|          embeddings|\n",
      "+--------------------+--------------------+--------------------+--------------------+--------------------+--------------------+--------------------+\n",
      "|CRICKET - LEICEST...|[[document, 0, 64...|[[document, 0, 64...|[[token, 0, 6, CR...|[[pos, 0, 6, NNP,...|[[named_entity, 0...|[[word_embeddings...|\n",
      "|   LONDON 1996-08-30|[[document, 0, 16...|[[document, 0, 16...|[[token, 0, 5, LO...|[[pos, 0, 5, NNP,...|[[named_entity, 0...|[[word_embeddings...|\n",
      "|West Indian all-r...|[[document, 0, 18...|[[document, 0, 18...|[[token, 0, 3, We...|[[pos, 0, 3, NNP,...|[[named_entity, 0...|[[word_embeddings...|\n",
      "+--------------------+--------------------+--------------------+--------------------+--------------------+--------------------+--------------------+\n",
      "only showing top 3 rows\n",
      "\n"
     ]
    }
   ],
   "source": [
    "from sparknlp.training import CoNLL\n",
    "\n",
    "test_data = CoNLL().readDataset(spark, './eng.testa')\n",
    "\n",
    "test_data = glove_embeddings.transform(test_data)\n",
    "\n",
    "test_data.show(3)"
   ]
  },
  {
   "cell_type": "code",
   "execution_count": null,
   "metadata": {
    "colab": {
     "base_uri": "https://localhost:8080/",
     "height": 196
    },
    "colab_type": "code",
    "id": "GQ04hU6VNzug",
    "outputId": "508fb12a-83b6-4f30-aa0a-4522ee629c29"
   },
   "outputs": [
    {
     "name": "stdout",
     "output_type": "stream",
     "text": [
      "+--------------------+--------------------+--------------------+--------------------+--------------------+--------------------+--------------------+--------------------+\n",
      "|                text|            document|            sentence|               token|                 pos|               label|          embeddings|                 ner|\n",
      "+--------------------+--------------------+--------------------+--------------------+--------------------+--------------------+--------------------+--------------------+\n",
      "|CRICKET - LEICEST...|[[document, 0, 64...|[[document, 0, 64...|[[token, 0, 6, CR...|[[pos, 0, 6, NNP,...|[[named_entity, 0...|[[word_embeddings...|[[named_entity, 0...|\n",
      "|   LONDON 1996-08-30|[[document, 0, 16...|[[document, 0, 16...|[[token, 0, 5, LO...|[[pos, 0, 5, NNP,...|[[named_entity, 0...|[[word_embeddings...|[[named_entity, 0...|\n",
      "|West Indian all-r...|[[document, 0, 18...|[[document, 0, 18...|[[token, 0, 3, We...|[[pos, 0, 3, NNP,...|[[named_entity, 0...|[[word_embeddings...|[[named_entity, 0...|\n",
      "+--------------------+--------------------+--------------------+--------------------+--------------------+--------------------+--------------------+--------------------+\n",
      "only showing top 3 rows\n",
      "\n"
     ]
    }
   ],
   "source": [
    "predictions = ner_model.transform(test_data)\n",
    "predictions.show(3)"
   ]
  },
  {
   "cell_type": "code",
   "execution_count": null,
   "metadata": {
    "colab": {
     "base_uri": "https://localhost:8080/",
     "height": 196
    },
    "colab_type": "code",
    "id": "w7J-30jWOdWZ",
    "outputId": "74413c46-b8c6-4bc1-8daa-29efe077a0e0"
   },
   "outputs": [
    {
     "name": "stdout",
     "output_type": "stream",
     "text": [
      "+--------------------------------------------------+--------------------------------------------------+--------------------------------------------------+\n",
      "|                                            result|                                            result|                                            result|\n",
      "+--------------------------------------------------+--------------------------------------------------+--------------------------------------------------+\n",
      "|[CRICKET, -, LEICESTERSHIRE, TAKE, OVER, AT, TO...|             [O, O, B-ORG, O, O, O, O, O, O, O, O]|             [O, O, B-ORG, O, O, O, O, O, O, O, O]|\n",
      "|                              [LONDON, 1996-08-30]|                                        [B-LOC, O]|                                        [B-LOC, O]|\n",
      "|[West, Indian, all-rounder, Phil, Simmons, took...|[B-MISC, I-MISC, O, B-PER, I-PER, O, O, O, O, O...|[B-MISC, I-MISC, O, B-PER, I-PER, O, O, O, O, O...|\n",
      "+--------------------------------------------------+--------------------------------------------------+--------------------------------------------------+\n",
      "only showing top 3 rows\n",
      "\n"
     ]
    }
   ],
   "source": [
    "predictions.select('token.result','label.result','ner.result').show(3, truncate=50)"
   ]
  },
  {
   "cell_type": "markdown",
   "metadata": {
    "colab_type": "text",
    "id": "AgdnSdjtQkZW"
   },
   "source": [
    "### Test set evaluation"
   ]
  },
  {
   "cell_type": "code",
   "execution_count": null,
   "metadata": {
    "colab": {
     "base_uri": "https://localhost:8080/",
     "height": 478
    },
    "colab_type": "code",
    "id": "bbyhDUFDN63V",
    "outputId": "98886cd3-53bc-415e-9661-d0941d7a7ca5"
   },
   "outputs": [
    {
     "name": "stdout",
     "output_type": "stream",
     "text": [
      "+--------------+------------+----------+\n",
      "|token         |ground_truth|prediction|\n",
      "+--------------+------------+----------+\n",
      "|CRICKET       |O           |O         |\n",
      "|-             |O           |O         |\n",
      "|LEICESTERSHIRE|B-ORG       |B-ORG     |\n",
      "|TAKE          |O           |O         |\n",
      "|OVER          |O           |O         |\n",
      "|AT            |O           |O         |\n",
      "|TOP           |O           |O         |\n",
      "|AFTER         |O           |O         |\n",
      "|INNINGS       |O           |O         |\n",
      "|VICTORY       |O           |O         |\n",
      "|.             |O           |O         |\n",
      "|LONDON        |B-LOC       |B-LOC     |\n",
      "|1996-08-30    |O           |O         |\n",
      "|West          |B-MISC      |B-MISC    |\n",
      "|Indian        |I-MISC      |I-MISC    |\n",
      "|all-rounder   |O           |O         |\n",
      "|Phil          |B-PER       |B-PER     |\n",
      "|Simmons       |I-PER       |I-PER     |\n",
      "|took          |O           |O         |\n",
      "|four          |O           |O         |\n",
      "+--------------+------------+----------+\n",
      "only showing top 20 rows\n",
      "\n"
     ]
    }
   ],
   "source": [
    "import pyspark.sql.functions as F\n",
    "\n",
    "predictions.select(F.explode(F.arrays_zip('token.result','label.result','ner.result')).alias(\"cols\")) \\\n",
    ".select(F.expr(\"cols['0']\").alias(\"token\"),\n",
    "        F.expr(\"cols['1']\").alias(\"ground_truth\"),\n",
    "        F.expr(\"cols['2']\").alias(\"prediction\")).show(truncate=False)"
   ]
  },
  {
   "cell_type": "code",
   "execution_count": null,
   "metadata": {
    "colab": {
     "base_uri": "https://localhost:8080/",
     "height": 301
    },
    "colab_type": "code",
    "id": "Up-eKXlzN-vx",
    "outputId": "f85b9508-fafe-4484-cff6-1904816a8c11"
   },
   "outputs": [
    {
     "name": "stdout",
     "output_type": "stream",
     "text": [
      "              precision    recall  f1-score   support\n",
      "\n",
      "       B-LOC       0.88      0.93      0.90      1837\n",
      "      B-MISC       0.80      0.82      0.81       922\n",
      "       B-ORG       0.92      0.73      0.81      1341\n",
      "       B-PER       0.94      0.95      0.95      1842\n",
      "       I-LOC       0.55      0.86      0.67       257\n",
      "      I-MISC       0.57      0.60      0.59       346\n",
      "       I-ORG       0.89      0.56      0.68       751\n",
      "       I-PER       0.98      0.94      0.96      1307\n",
      "           O       0.99      1.00      0.99     42759\n",
      "\n",
      "    accuracy                           0.97     51362\n",
      "   macro avg       0.83      0.82      0.82     51362\n",
      "weighted avg       0.97      0.97      0.97     51362\n",
      "\n"
     ]
    }
   ],
   "source": [
    "from sklearn.metrics import classification_report\n",
    "\n",
    "preds_df = predictions.select(F.explode(F.arrays_zip('token.result','label.result','ner.result')).alias(\"cols\")) \\\n",
    ".select(F.expr(\"cols['0']\").alias(\"token\"),\n",
    "        F.expr(\"cols['1']\").alias(\"ground_truth\"),\n",
    "        F.expr(\"cols['2']\").alias(\"prediction\")).toPandas()\n",
    "\n",
    "\n",
    "print (classification_report(preds_df['ground_truth'], preds_df['prediction']))\n"
   ]
  },
  {
   "cell_type": "markdown",
   "metadata": {
    "colab_type": "text",
    "id": "riQTP4wuQfVf"
   },
   "source": [
    "### Splitting dataset into train and test"
   ]
  },
  {
   "cell_type": "code",
   "execution_count": null,
   "metadata": {
    "colab": {
     "base_uri": "https://localhost:8080/",
     "height": 52
    },
    "colab_type": "code",
    "id": "iB_h1GnJQi1W",
    "outputId": "3f3c783a-aeeb-4aee-c4c2-0249b1c4fb5e"
   },
   "outputs": [
    {
     "name": "stdout",
     "output_type": "stream",
     "text": [
      "Training Dataset Count: 9938\n",
      "Test Dataset Count: 4103\n"
     ]
    }
   ],
   "source": [
    "from sparknlp.training import CoNLL\n",
    "\n",
    "conll_data = CoNLL().readDataset(spark, './eng.train')\n",
    "\n",
    "(training_data, test_data) = conll_data.randomSplit([0.7, 0.3], seed = 100)\n",
    "\n",
    "print(\"Training Dataset Count: \" + str(training_data.count()))\n",
    "print(\"Test Dataset Count: \" + str(test_data.count()))"
   ]
  },
  {
   "cell_type": "code",
   "execution_count": null,
   "metadata": {
    "colab": {},
    "colab_type": "code",
    "id": "q8tCZbQyQ9QO"
   },
   "outputs": [],
   "source": [
    "ner_model = ner_pipeline.fit(training_data)\n",
    "\n",
    "test_data = glove_embeddings.transform(test_data)\n",
    "\n",
    "predictions = ner_model.transform(test_data)\n"
   ]
  },
  {
   "cell_type": "markdown",
   "metadata": {
    "colab_type": "text",
    "id": "WuJ5YZ9sXU13"
   },
   "source": [
    "### Saving the trained model"
   ]
  },
  {
   "cell_type": "code",
   "execution_count": null,
   "metadata": {
    "colab": {
     "base_uri": "https://localhost:8080/",
     "height": 34
    },
    "colab_type": "code",
    "id": "KBcoOwvwXV8p",
    "outputId": "0d1b4483-3640-452e-ec7a-1b3be2c131f8"
   },
   "outputs": [
    {
     "data": {
      "text/plain": [
       "[WORD_EMBEDDINGS_MODEL_48cffc8b9a76, NerDLModel_c4dee3b6842e]"
      ]
     },
     "execution_count": 37,
     "metadata": {
      "tags": []
     },
     "output_type": "execute_result"
    }
   ],
   "source": [
    "ner_model.stages"
   ]
  },
  {
   "cell_type": "code",
   "execution_count": null,
   "metadata": {
    "colab": {},
    "colab_type": "code",
    "id": "gRLbhTh1XYo2"
   },
   "outputs": [],
   "source": [
    "ner_model.stages[1].write().overwrite().save('NER_glove_20200407_e1_b512')"
   ]
  },
  {
   "cell_type": "code",
   "execution_count": null,
   "metadata": {
    "colab": {
     "base_uri": "https://localhost:8080/",
     "height": 105
    },
    "colab_type": "code",
    "id": "k6B_m0HeXhvo",
    "outputId": "b105b470-aa90-43f2-9c81-c270eccd671c"
   },
   "outputs": [
    {
     "name": "stdout",
     "output_type": "stream",
     "text": [
      "total 4028\n",
      "drwxr-xr-x 4 root root    4096 Apr  7 15:59 NER_glove_20200407_e1_b512\n",
      "-rw-r--r-- 1 root root  827443 Apr  7 14:38 eng.testa\n",
      "-rw-r--r-- 1 root root 3283420 Apr  7 14:36 eng.train\n",
      "drwxr-xr-x 1 root root    4096 Apr  3 16:24 sample_data\n"
     ]
    }
   ],
   "source": [
    "!ls -lt"
   ]
  },
  {
   "cell_type": "markdown",
   "metadata": {
    "colab_type": "text",
    "id": "gK0rbohHRNmG"
   },
   "source": [
    "## Prediction Pipeline"
   ]
  },
  {
   "cell_type": "code",
   "execution_count": null,
   "metadata": {
    "colab": {
     "base_uri": "https://localhost:8080/",
     "height": 70
    },
    "colab_type": "code",
    "id": "XCLEQcCeQ8pn",
    "outputId": "46ab9616-3a3e-44ed-d302-a559566a1b72"
   },
   "outputs": [
    {
     "name": "stdout",
     "output_type": "stream",
     "text": [
      "glove_100d download started this may take some time.\n",
      "Approximate size to download 145.3 MB\n",
      "[OK!]\n"
     ]
    }
   ],
   "source": [
    "document = DocumentAssembler()\\\n",
    "    .setInputCol(\"text\")\\\n",
    "    .setOutputCol(\"document\")\n",
    "\n",
    "sentence = SentenceDetector()\\\n",
    "    .setInputCols(['document'])\\\n",
    "    .setOutputCol('sentence')\n",
    "\n",
    "token = Tokenizer()\\\n",
    "    .setInputCols(['sentence'])\\\n",
    "    .setOutputCol('token')\n",
    "\n",
    "glove_embeddings = WordEmbeddingsModel.pretrained('glove_100d')\\\n",
    "          .setInputCols([\"document\", \"token\"])\\\n",
    "          .setOutputCol(\"embeddings\")\n",
    "    \n",
    "loaded_ner_model = NerDLModel.load(\"NER_glove_20200407_e1_b512\")\\\n",
    " .setInputCols([\"sentence\", \"token\", \"embeddings\"])\\\n",
    " .setOutputCol(\"ner\")\n",
    "\n",
    "converter = NerConverter()\\\n",
    "  .setInputCols([\"document\", \"token\", \"ner\"])\\\n",
    "  .setOutputCol(\"ner_span\")\n",
    "\n",
    "ner_prediction_pipeline = Pipeline(\n",
    "    stages = [\n",
    "        document,\n",
    "        sentence,\n",
    "        token,\n",
    "        glove_embeddings,\n",
    "        loaded_ner_model,\n",
    "        converter])"
   ]
  },
  {
   "cell_type": "code",
   "execution_count": null,
   "metadata": {
    "colab": {},
    "colab_type": "code",
    "id": "gsokdubdX1vE"
   },
   "outputs": [],
   "source": [
    "empty_data = spark.createDataFrame([['']]).toDF(\"text\")\n",
    "\n",
    "prediction_model = ner_prediction_pipeline.fit(empty_data)\n"
   ]
  },
  {
   "cell_type": "code",
   "execution_count": null,
   "metadata": {
    "colab": {
     "base_uri": "https://localhost:8080/",
     "height": 123
    },
    "colab_type": "code",
    "id": "rR8b0tQlX7E8",
    "outputId": "eda20ec5-4bc5-4daa-a9c6-65b8f375422f"
   },
   "outputs": [
    {
     "name": "stdout",
     "output_type": "stream",
     "text": [
      "+--------------------+\n",
      "|                text|\n",
      "+--------------------+\n",
      "|Peter Parker is a...|\n",
      "+--------------------+\n",
      "\n"
     ]
    }
   ],
   "source": [
    "text = \"Peter Parker is a nice guy and lives in New York.\"\n",
    "\n",
    "sample_data = spark.createDataFrame([[text]]).toDF(\"text\")\n",
    "\n",
    "sample_data.show()"
   ]
  },
  {
   "cell_type": "code",
   "execution_count": null,
   "metadata": {
    "colab": {
     "base_uri": "https://localhost:8080/",
     "height": 141
    },
    "colab_type": "code",
    "id": "WdeKg30uX_rk",
    "outputId": "ae313582-62ba-4314-83e6-da62a74e75a6"
   },
   "outputs": [
    {
     "name": "stdout",
     "output_type": "stream",
     "text": [
      "+------------+------+\n",
      "|chunk       |entity|\n",
      "+------------+------+\n",
      "|Peter Parker|PER   |\n",
      "|New York    |LOC   |\n",
      "+------------+------+\n",
      "\n"
     ]
    }
   ],
   "source": [
    "\n",
    "preds = prediction_model.transform(sample_data)\n",
    "\n",
    "preds.select(F.explode(F.arrays_zip(\"ner_span.result\",\"ner_span.metadata\")).alias(\"entities\")) \\\n",
    ".select(F.expr(\"entities['0']\").alias(\"chunk\"),\n",
    "        F.expr(\"entities['1'].entity\").alias(\"entity\")).show(truncate=False)"
   ]
  },
  {
   "cell_type": "code",
   "execution_count": null,
   "metadata": {
    "colab": {},
    "colab_type": "code",
    "id": "UG6eBHQZYIhb"
   },
   "outputs": [],
   "source": [
    "from sparknlp.base import LightPipeline\n",
    "\n",
    "light_model = LightPipeline(prediction_model)"
   ]
  },
  {
   "cell_type": "code",
   "execution_count": null,
   "metadata": {
    "colab": {
     "base_uri": "https://localhost:8080/",
     "height": 230
    },
    "colab_type": "code",
    "id": "7Hr5gtKbYLOW",
    "outputId": "ca580987-9fbb-4f34-df31-fae5bbf10aa4"
   },
   "outputs": [
    {
     "data": {
      "text/plain": [
       "[('Peter', 'B-PER'),\n",
       " ('Parker', 'I-PER'),\n",
       " ('is', 'O'),\n",
       " ('a', 'O'),\n",
       " ('nice', 'O'),\n",
       " ('guy', 'O'),\n",
       " ('and', 'O'),\n",
       " ('lives', 'O'),\n",
       " ('in', 'O'),\n",
       " ('New', 'B-LOC'),\n",
       " ('York', 'I-LOC'),\n",
       " ('.', 'O')]"
      ]
     },
     "execution_count": 46,
     "metadata": {
      "tags": []
     },
     "output_type": "execute_result"
    }
   ],
   "source": [
    "text = \"Peter Parker is a nice guy and lives in New York.\"\n",
    "\n",
    "result = light_model.annotate(text)\n",
    "\n",
    "list(zip(result['token'], result['ner']))"
   ]
  },
  {
   "cell_type": "code",
   "execution_count": null,
   "metadata": {
    "colab": {
     "base_uri": "https://localhost:8080/",
     "height": 407
    },
    "colab_type": "code",
    "id": "OO4xKzhIZEDc",
    "outputId": "2cd3750f-4ef9-4e06-b788-46b595f0a0bf"
   },
   "outputs": [
    {
     "data": {
      "text/html": [
       "<div>\n",
       "<style scoped>\n",
       "    .dataframe tbody tr th:only-of-type {\n",
       "        vertical-align: middle;\n",
       "    }\n",
       "\n",
       "    .dataframe tbody tr th {\n",
       "        vertical-align: top;\n",
       "    }\n",
       "\n",
       "    .dataframe thead th {\n",
       "        text-align: right;\n",
       "    }\n",
       "</style>\n",
       "<table border=\"1\" class=\"dataframe\">\n",
       "  <thead>\n",
       "    <tr style=\"text-align: right;\">\n",
       "      <th></th>\n",
       "      <th>sent_id</th>\n",
       "      <th>token</th>\n",
       "      <th>start</th>\n",
       "      <th>end</th>\n",
       "      <th>ner</th>\n",
       "    </tr>\n",
       "  </thead>\n",
       "  <tbody>\n",
       "    <tr>\n",
       "      <th>0</th>\n",
       "      <td>0</td>\n",
       "      <td>Peter</td>\n",
       "      <td>0</td>\n",
       "      <td>4</td>\n",
       "      <td>B-PER</td>\n",
       "    </tr>\n",
       "    <tr>\n",
       "      <th>1</th>\n",
       "      <td>0</td>\n",
       "      <td>Parker</td>\n",
       "      <td>6</td>\n",
       "      <td>11</td>\n",
       "      <td>I-PER</td>\n",
       "    </tr>\n",
       "    <tr>\n",
       "      <th>2</th>\n",
       "      <td>0</td>\n",
       "      <td>is</td>\n",
       "      <td>13</td>\n",
       "      <td>14</td>\n",
       "      <td>O</td>\n",
       "    </tr>\n",
       "    <tr>\n",
       "      <th>3</th>\n",
       "      <td>0</td>\n",
       "      <td>a</td>\n",
       "      <td>16</td>\n",
       "      <td>16</td>\n",
       "      <td>O</td>\n",
       "    </tr>\n",
       "    <tr>\n",
       "      <th>4</th>\n",
       "      <td>0</td>\n",
       "      <td>nice</td>\n",
       "      <td>18</td>\n",
       "      <td>21</td>\n",
       "      <td>O</td>\n",
       "    </tr>\n",
       "    <tr>\n",
       "      <th>5</th>\n",
       "      <td>0</td>\n",
       "      <td>guy</td>\n",
       "      <td>23</td>\n",
       "      <td>25</td>\n",
       "      <td>O</td>\n",
       "    </tr>\n",
       "    <tr>\n",
       "      <th>6</th>\n",
       "      <td>0</td>\n",
       "      <td>and</td>\n",
       "      <td>27</td>\n",
       "      <td>29</td>\n",
       "      <td>O</td>\n",
       "    </tr>\n",
       "    <tr>\n",
       "      <th>7</th>\n",
       "      <td>0</td>\n",
       "      <td>lives</td>\n",
       "      <td>31</td>\n",
       "      <td>35</td>\n",
       "      <td>O</td>\n",
       "    </tr>\n",
       "    <tr>\n",
       "      <th>8</th>\n",
       "      <td>0</td>\n",
       "      <td>in</td>\n",
       "      <td>37</td>\n",
       "      <td>38</td>\n",
       "      <td>O</td>\n",
       "    </tr>\n",
       "    <tr>\n",
       "      <th>9</th>\n",
       "      <td>0</td>\n",
       "      <td>New</td>\n",
       "      <td>40</td>\n",
       "      <td>42</td>\n",
       "      <td>B-LOC</td>\n",
       "    </tr>\n",
       "    <tr>\n",
       "      <th>10</th>\n",
       "      <td>0</td>\n",
       "      <td>York</td>\n",
       "      <td>44</td>\n",
       "      <td>47</td>\n",
       "      <td>I-LOC</td>\n",
       "    </tr>\n",
       "    <tr>\n",
       "      <th>11</th>\n",
       "      <td>0</td>\n",
       "      <td>.</td>\n",
       "      <td>48</td>\n",
       "      <td>48</td>\n",
       "      <td>O</td>\n",
       "    </tr>\n",
       "  </tbody>\n",
       "</table>\n",
       "</div>"
      ],
      "text/plain": [
       "    sent_id   token  start  end    ner\n",
       "0         0   Peter      0    4  B-PER\n",
       "1         0  Parker      6   11  I-PER\n",
       "2         0      is     13   14      O\n",
       "3         0       a     16   16      O\n",
       "4         0    nice     18   21      O\n",
       "5         0     guy     23   25      O\n",
       "6         0     and     27   29      O\n",
       "7         0   lives     31   35      O\n",
       "8         0      in     37   38      O\n",
       "9         0     New     40   42  B-LOC\n",
       "10        0    York     44   47  I-LOC\n",
       "11        0       .     48   48      O"
      ]
     },
     "execution_count": 47,
     "metadata": {
      "tags": []
     },
     "output_type": "execute_result"
    }
   ],
   "source": [
    "import pandas as pd\n",
    "\n",
    "result = light_model.fullAnnotate(text)\n",
    "\n",
    "ner_df= pd.DataFrame([(int(x.metadata['sentence']), x.result, x.begin, x.end, y.result) for x,y in zip(result[0][\"token\"], result[0][\"ner\"])], \n",
    "                      columns=['sent_id','token','start','end','ner'])\n",
    "ner_df"
   ]
  },
  {
   "cell_type": "markdown",
   "metadata": {
    "colab_type": "text",
    "id": "eS-7yJLYXUZv"
   },
   "source": [
    "# creating your own CoNLL dataset¶\n"
   ]
  },
  {
   "cell_type": "code",
   "execution_count": null,
   "metadata": {
    "colab": {
     "base_uri": "https://localhost:8080/",
     "height": 194
    },
    "colab_type": "code",
    "id": "weM4V7QKX6es",
    "outputId": "8081569c-959d-434b-e661-770a3ccf036a"
   },
   "outputs": [
    {
     "name": "stdout",
     "output_type": "stream",
     "text": [
      "pos_anc download started this may take some time.\n",
      "Approximate size to download 4.3 MB\n",
      "[OK!]\n",
      "glove_100d download started this may take some time.\n",
      "Approximate size to download 145.3 MB\n",
      "[OK!]\n",
      "ner_dl download started this may take some time.\n",
      "Approximate size to download 13.6 MB\n",
      "[OK!]\n",
      "Spark NLP NER lightpipeline is created\n"
     ]
    }
   ],
   "source": [
    "import json\n",
    "import os\n",
    "from pyspark.ml import Pipeline\n",
    "from sparknlp.base import *\n",
    "from sparknlp.annotator import *\n",
    "import sparknlp\n",
    "\n",
    "spark = sparknlp.start()\n",
    "\n",
    "def get_ann_pipeline ():\n",
    "    \n",
    "    document_assembler = DocumentAssembler() \\\n",
    "        .setInputCol(\"text\")\\\n",
    "        .setOutputCol('document')\n",
    "\n",
    "    tokenizer = Tokenizer() \\\n",
    "        .setInputCols([\"sentence\"]) \\\n",
    "        .setOutputCol(\"token\")\n",
    "\n",
    "    pos = PerceptronModel.pretrained() \\\n",
    "              .setInputCols([\"sentence\", \"token\"]) \\\n",
    "              .setOutputCol(\"pos\")\n",
    "    \n",
    "    embeddings = WordEmbeddingsModel.pretrained()\\\n",
    "          .setInputCols([\"sentence\", \"token\"])\\\n",
    "          .setOutputCol(\"embeddings\")\n",
    "\n",
    "    ner_model = NerDLModel.pretrained() \\\n",
    "          .setInputCols([\"sentence\", \"token\", \"embeddings\"]) \\\n",
    "          .setOutputCol(\"ner\")\n",
    "\n",
    "    ner_converter = NerConverter()\\\n",
    "      .setInputCols([\"sentence\", \"token\", \"ner\"])\\\n",
    "      .setOutputCol(\"ner_chunk\")\n",
    "\n",
    "    ner_pipeline = Pipeline(\n",
    "        stages = [\n",
    "            document_assembler,\n",
    "            sentence,\n",
    "            tokenizer,\n",
    "            pos,\n",
    "            embeddings,\n",
    "            ner_model,\n",
    "            ner_converter\n",
    "        ]\n",
    "    )\n",
    "\n",
    "    empty_data = spark.createDataFrame([[\"\"]]).toDF(\"text\")\n",
    "\n",
    "    ner_pipelineFit = ner_pipeline.fit(empty_data)\n",
    "\n",
    "    ner_lp_pipeline = LightPipeline(ner_pipelineFit)\n",
    "\n",
    "    print (\"Spark NLP NER lightpipeline is created\")\n",
    "\n",
    "    return ner_lp_pipeline\n",
    "\n",
    "\n",
    "conll_pipeline = get_ann_pipeline ()\n",
    "\n"
   ]
  },
  {
   "cell_type": "code",
   "execution_count": null,
   "metadata": {
    "colab": {},
    "colab_type": "code",
    "id": "Bl0K3XvFb3WO"
   },
   "outputs": [],
   "source": []
  },
  {
   "cell_type": "code",
   "execution_count": null,
   "metadata": {
    "colab": {
     "base_uri": "https://localhost:8080/",
     "height": 443
    },
    "colab_type": "code",
    "id": "Nk3NSf6FbZJb",
    "outputId": "a31530d7-6e85-4bb8-af03-b44c4df8ac1c"
   },
   "outputs": [
    {
     "name": "stdout",
     "output_type": "stream",
     "text": [
      "Peter NNP NNP B-PER\n",
      "Parker NNP NNP I-PER\n",
      "is VBZ VBZ O\n",
      "a DT DT O\n",
      "nice JJ JJ O\n",
      "guy NN NN O\n",
      "and CC CC O\n",
      "lives NNS NNS O\n",
      "in IN IN O\n",
      "New NNP NNP B-LOC\n",
      "York NNP NNP I-LOC\n",
      ". . . O\n",
      "\n",
      "He PRP PRP O\n",
      "is VBZ VBZ O\n",
      "also RB RB O\n",
      "helping VBG VBG O\n",
      "people NNS NNS O\n",
      "around IN IN O\n",
      "the DT DT O\n",
      "world NN NN O\n",
      ". . . O\n",
      "\n",
      "\n"
     ]
    }
   ],
   "source": [
    "\n",
    "sentences = [\"Peter Parker is a nice guy and lives in New York.\",\n",
    "\"He is also helping people around the world.\"]\n",
    "\n",
    "conll_lines=''\n",
    "\n",
    "for sentence in sentences:\n",
    "\n",
    "  parsed = conll_pipeline.annotate (sentence)\n",
    "\n",
    "  for token, pos, ner in zip(parsed['token'],parsed['pos'],parsed['ner']):\n",
    "\n",
    "      conll_lines += \"{} {} {} {}\\n\".format(token, pos, pos, ner)\n",
    "\n",
    "  conll_lines += '\\n'\n",
    "\n",
    "\n",
    "print(conll_lines)"
   ]
  },
  {
   "cell_type": "code",
   "execution_count": 1,
   "metadata": {},
   "outputs": [
    {
     "name": "stdout",
     "output_type": "stream",
     "text": [
      "/Users/vkocaman/Python_Projects/John_Snow_Labs/spark_nlp_dev/jsl-repos/spark-nlp-workshop/tutorials/Certification_Trainings/Public\n"
     ]
    }
   ],
   "source": [
    "!pwd"
   ]
  }
 ],
 "metadata": {
  "colab": {
   "collapsed_sections": [],
   "name": "4.NERDL_Training.ipynb",
   "provenance": [],
   "toc_visible": true
  },
  "kernelspec": {
   "display_name": "Python 3",
   "language": "python",
   "name": "python3"
  },
  "language_info": {
   "codemirror_mode": {
    "name": "ipython",
    "version": 3
   },
   "file_extension": ".py",
   "mimetype": "text/x-python",
   "name": "python",
   "nbconvert_exporter": "python",
   "pygments_lexer": "ipython3",
   "version": "3.7.4"
  }
 },
 "nbformat": 4,
 "nbformat_minor": 4
}
